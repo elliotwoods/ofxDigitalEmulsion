{
 "cells": [
  {
   "cell_type": "code",
   "execution_count": 1,
   "metadata": {},
   "outputs": [],
   "source": [
    "import json\n",
    "import numpy as np\n",
    "import pandas as pd\n",
    "import plotly.express as px"
   ]
  },
  {
   "cell_type": "code",
   "execution_count": 2,
   "metadata": {},
   "outputs": [],
   "source": [
    "with open('../../Application/bin/data/Patch.json') as file:\n",
    "\tpatch = json.load(file)\n",
    "\t"
   ]
  },
  {
   "cell_type": "code",
   "execution_count": 3,
   "metadata": {},
   "outputs": [],
   "source": [
    "def find_node_by_name(node_name):\n",
    "\tfor node_id in patch['Nodes']:\n",
    "\t\tif patch['Nodes'][node_id]['Name'] == node_name:\n",
    "\t\t\treturn patch['Nodes'][node_id]\n",
    "\traise(Exception(\"Node not found\"))"
   ]
  },
  {
   "cell_type": "code",
   "execution_count": 4,
   "metadata": {},
   "outputs": [],
   "source": [
    "calibrate_node = find_node_by_name('Calibrate')"
   ]
  },
  {
   "cell_type": "code",
   "execution_count": 5,
   "metadata": {},
   "outputs": [],
   "source": [
    "first_camera = calibrate_node['Content']['cameraCaptures']['captures'][0]"
   ]
  },
  {
   "cell_type": "code",
   "execution_count": 6,
   "metadata": {},
   "outputs": [],
   "source": [
    "#gather laser image points function\n",
    "def gather_laser_image_points(camera_capture):\n",
    "\tlaser_image_points = []\n",
    "\tlaser_names = []\n",
    "\tfor laser_capture in first_camera['laserCaptures']['captures']:\n",
    "\t\tif laser_capture['Selected']:\n",
    "\t\t\tlaser_image_points.append(laser_capture['imagePointInCamera'])\n",
    "\t\t\tlaser_names.append(laser_capture['laserAddress'])\n",
    "\treturn laser_image_points, laser_names"
   ]
  },
  {
   "cell_type": "code",
   "execution_count": 7,
   "metadata": {},
   "outputs": [],
   "source": [
    "laser_image_points, laser_names = gather_laser_image_points(first_camera)\n",
    "data = np.array(laser_image_points)"
   ]
  },
  {
   "cell_type": "code",
   "execution_count": 8,
   "metadata": {},
   "outputs": [
    {
     "data": {
      "application/vnd.plotly.v1+json": {
       "config": {
        "plotlyServerURL": "https://plot.ly"
       },
       "data": [
        {
         "hovertemplate": "<b>%{hovertext}</b><br><br>x=%{x}<br>y=%{y}<extra></extra>",
         "hovertext": [
          1,
          3,
          4,
          5,
          6,
          7,
          8,
          10,
          11,
          14,
          15,
          16,
          17,
          18,
          19,
          21,
          24,
          28,
          36,
          38,
          39
         ],
         "legendgroup": "",
         "marker": {
          "color": "#636efa",
          "symbol": "circle"
         },
         "mode": "markers",
         "name": "",
         "orientation": "v",
         "showlegend": false,
         "type": "scatter",
         "x": [
          4132.10107421875,
          5506.77587890625,
          6176.28857421875,
          6745.06689453125,
          7284.85302734375,
          8019.029296875,
          8601.16796875,
          10029.76171875,
          10799.8349609375,
          13211.2490234375,
          14422.3017578125,
          15334.634765625,
          20465.12109375,
          25079.353515625,
          27612.958984375,
          -3807.9013671875,
          -37093.6171875,
          -12554.607421875,
          -306.8667907714844,
          1138.651123046875,
          1836.867431640625
         ],
         "xaxis": "x",
         "y": [
          7955.50927734375,
          7905.3994140625,
          7906.13037109375,
          7894.9892578125,
          7880.24560546875,
          7848.1748046875,
          7814.1611328125,
          7687.11669921875,
          7591.68603515625,
          7177.54833984375,
          6966.11962890625,
          6779.3427734375,
          5614.42626953125,
          4157.41943359375,
          1776.2130126953125,
          -6654.83984375,
          2402.239990234375,
          7021.25146484375,
          7926.93505859375,
          7968.87646484375,
          7985.00830078125
         ],
         "yaxis": "y"
        }
       ],
       "layout": {
        "legend": {
         "tracegroupgap": 0
        },
        "margin": {
         "t": 60
        },
        "template": {
         "data": {
          "bar": [
           {
            "error_x": {
             "color": "#2a3f5f"
            },
            "error_y": {
             "color": "#2a3f5f"
            },
            "marker": {
             "line": {
              "color": "#E5ECF6",
              "width": 0.5
             },
             "pattern": {
              "fillmode": "overlay",
              "size": 10,
              "solidity": 0.2
             }
            },
            "type": "bar"
           }
          ],
          "barpolar": [
           {
            "marker": {
             "line": {
              "color": "#E5ECF6",
              "width": 0.5
             },
             "pattern": {
              "fillmode": "overlay",
              "size": 10,
              "solidity": 0.2
             }
            },
            "type": "barpolar"
           }
          ],
          "carpet": [
           {
            "aaxis": {
             "endlinecolor": "#2a3f5f",
             "gridcolor": "white",
             "linecolor": "white",
             "minorgridcolor": "white",
             "startlinecolor": "#2a3f5f"
            },
            "baxis": {
             "endlinecolor": "#2a3f5f",
             "gridcolor": "white",
             "linecolor": "white",
             "minorgridcolor": "white",
             "startlinecolor": "#2a3f5f"
            },
            "type": "carpet"
           }
          ],
          "choropleth": [
           {
            "colorbar": {
             "outlinewidth": 0,
             "ticks": ""
            },
            "type": "choropleth"
           }
          ],
          "contour": [
           {
            "colorbar": {
             "outlinewidth": 0,
             "ticks": ""
            },
            "colorscale": [
             [
              0,
              "#0d0887"
             ],
             [
              0.1111111111111111,
              "#46039f"
             ],
             [
              0.2222222222222222,
              "#7201a8"
             ],
             [
              0.3333333333333333,
              "#9c179e"
             ],
             [
              0.4444444444444444,
              "#bd3786"
             ],
             [
              0.5555555555555556,
              "#d8576b"
             ],
             [
              0.6666666666666666,
              "#ed7953"
             ],
             [
              0.7777777777777778,
              "#fb9f3a"
             ],
             [
              0.8888888888888888,
              "#fdca26"
             ],
             [
              1,
              "#f0f921"
             ]
            ],
            "type": "contour"
           }
          ],
          "contourcarpet": [
           {
            "colorbar": {
             "outlinewidth": 0,
             "ticks": ""
            },
            "type": "contourcarpet"
           }
          ],
          "heatmap": [
           {
            "colorbar": {
             "outlinewidth": 0,
             "ticks": ""
            },
            "colorscale": [
             [
              0,
              "#0d0887"
             ],
             [
              0.1111111111111111,
              "#46039f"
             ],
             [
              0.2222222222222222,
              "#7201a8"
             ],
             [
              0.3333333333333333,
              "#9c179e"
             ],
             [
              0.4444444444444444,
              "#bd3786"
             ],
             [
              0.5555555555555556,
              "#d8576b"
             ],
             [
              0.6666666666666666,
              "#ed7953"
             ],
             [
              0.7777777777777778,
              "#fb9f3a"
             ],
             [
              0.8888888888888888,
              "#fdca26"
             ],
             [
              1,
              "#f0f921"
             ]
            ],
            "type": "heatmap"
           }
          ],
          "heatmapgl": [
           {
            "colorbar": {
             "outlinewidth": 0,
             "ticks": ""
            },
            "colorscale": [
             [
              0,
              "#0d0887"
             ],
             [
              0.1111111111111111,
              "#46039f"
             ],
             [
              0.2222222222222222,
              "#7201a8"
             ],
             [
              0.3333333333333333,
              "#9c179e"
             ],
             [
              0.4444444444444444,
              "#bd3786"
             ],
             [
              0.5555555555555556,
              "#d8576b"
             ],
             [
              0.6666666666666666,
              "#ed7953"
             ],
             [
              0.7777777777777778,
              "#fb9f3a"
             ],
             [
              0.8888888888888888,
              "#fdca26"
             ],
             [
              1,
              "#f0f921"
             ]
            ],
            "type": "heatmapgl"
           }
          ],
          "histogram": [
           {
            "marker": {
             "pattern": {
              "fillmode": "overlay",
              "size": 10,
              "solidity": 0.2
             }
            },
            "type": "histogram"
           }
          ],
          "histogram2d": [
           {
            "colorbar": {
             "outlinewidth": 0,
             "ticks": ""
            },
            "colorscale": [
             [
              0,
              "#0d0887"
             ],
             [
              0.1111111111111111,
              "#46039f"
             ],
             [
              0.2222222222222222,
              "#7201a8"
             ],
             [
              0.3333333333333333,
              "#9c179e"
             ],
             [
              0.4444444444444444,
              "#bd3786"
             ],
             [
              0.5555555555555556,
              "#d8576b"
             ],
             [
              0.6666666666666666,
              "#ed7953"
             ],
             [
              0.7777777777777778,
              "#fb9f3a"
             ],
             [
              0.8888888888888888,
              "#fdca26"
             ],
             [
              1,
              "#f0f921"
             ]
            ],
            "type": "histogram2d"
           }
          ],
          "histogram2dcontour": [
           {
            "colorbar": {
             "outlinewidth": 0,
             "ticks": ""
            },
            "colorscale": [
             [
              0,
              "#0d0887"
             ],
             [
              0.1111111111111111,
              "#46039f"
             ],
             [
              0.2222222222222222,
              "#7201a8"
             ],
             [
              0.3333333333333333,
              "#9c179e"
             ],
             [
              0.4444444444444444,
              "#bd3786"
             ],
             [
              0.5555555555555556,
              "#d8576b"
             ],
             [
              0.6666666666666666,
              "#ed7953"
             ],
             [
              0.7777777777777778,
              "#fb9f3a"
             ],
             [
              0.8888888888888888,
              "#fdca26"
             ],
             [
              1,
              "#f0f921"
             ]
            ],
            "type": "histogram2dcontour"
           }
          ],
          "mesh3d": [
           {
            "colorbar": {
             "outlinewidth": 0,
             "ticks": ""
            },
            "type": "mesh3d"
           }
          ],
          "parcoords": [
           {
            "line": {
             "colorbar": {
              "outlinewidth": 0,
              "ticks": ""
             }
            },
            "type": "parcoords"
           }
          ],
          "pie": [
           {
            "automargin": true,
            "type": "pie"
           }
          ],
          "scatter": [
           {
            "fillpattern": {
             "fillmode": "overlay",
             "size": 10,
             "solidity": 0.2
            },
            "type": "scatter"
           }
          ],
          "scatter3d": [
           {
            "line": {
             "colorbar": {
              "outlinewidth": 0,
              "ticks": ""
             }
            },
            "marker": {
             "colorbar": {
              "outlinewidth": 0,
              "ticks": ""
             }
            },
            "type": "scatter3d"
           }
          ],
          "scattercarpet": [
           {
            "marker": {
             "colorbar": {
              "outlinewidth": 0,
              "ticks": ""
             }
            },
            "type": "scattercarpet"
           }
          ],
          "scattergeo": [
           {
            "marker": {
             "colorbar": {
              "outlinewidth": 0,
              "ticks": ""
             }
            },
            "type": "scattergeo"
           }
          ],
          "scattergl": [
           {
            "marker": {
             "colorbar": {
              "outlinewidth": 0,
              "ticks": ""
             }
            },
            "type": "scattergl"
           }
          ],
          "scattermapbox": [
           {
            "marker": {
             "colorbar": {
              "outlinewidth": 0,
              "ticks": ""
             }
            },
            "type": "scattermapbox"
           }
          ],
          "scatterpolar": [
           {
            "marker": {
             "colorbar": {
              "outlinewidth": 0,
              "ticks": ""
             }
            },
            "type": "scatterpolar"
           }
          ],
          "scatterpolargl": [
           {
            "marker": {
             "colorbar": {
              "outlinewidth": 0,
              "ticks": ""
             }
            },
            "type": "scatterpolargl"
           }
          ],
          "scatterternary": [
           {
            "marker": {
             "colorbar": {
              "outlinewidth": 0,
              "ticks": ""
             }
            },
            "type": "scatterternary"
           }
          ],
          "surface": [
           {
            "colorbar": {
             "outlinewidth": 0,
             "ticks": ""
            },
            "colorscale": [
             [
              0,
              "#0d0887"
             ],
             [
              0.1111111111111111,
              "#46039f"
             ],
             [
              0.2222222222222222,
              "#7201a8"
             ],
             [
              0.3333333333333333,
              "#9c179e"
             ],
             [
              0.4444444444444444,
              "#bd3786"
             ],
             [
              0.5555555555555556,
              "#d8576b"
             ],
             [
              0.6666666666666666,
              "#ed7953"
             ],
             [
              0.7777777777777778,
              "#fb9f3a"
             ],
             [
              0.8888888888888888,
              "#fdca26"
             ],
             [
              1,
              "#f0f921"
             ]
            ],
            "type": "surface"
           }
          ],
          "table": [
           {
            "cells": {
             "fill": {
              "color": "#EBF0F8"
             },
             "line": {
              "color": "white"
             }
            },
            "header": {
             "fill": {
              "color": "#C8D4E3"
             },
             "line": {
              "color": "white"
             }
            },
            "type": "table"
           }
          ]
         },
         "layout": {
          "annotationdefaults": {
           "arrowcolor": "#2a3f5f",
           "arrowhead": 0,
           "arrowwidth": 1
          },
          "autotypenumbers": "strict",
          "coloraxis": {
           "colorbar": {
            "outlinewidth": 0,
            "ticks": ""
           }
          },
          "colorscale": {
           "diverging": [
            [
             0,
             "#8e0152"
            ],
            [
             0.1,
             "#c51b7d"
            ],
            [
             0.2,
             "#de77ae"
            ],
            [
             0.3,
             "#f1b6da"
            ],
            [
             0.4,
             "#fde0ef"
            ],
            [
             0.5,
             "#f7f7f7"
            ],
            [
             0.6,
             "#e6f5d0"
            ],
            [
             0.7,
             "#b8e186"
            ],
            [
             0.8,
             "#7fbc41"
            ],
            [
             0.9,
             "#4d9221"
            ],
            [
             1,
             "#276419"
            ]
           ],
           "sequential": [
            [
             0,
             "#0d0887"
            ],
            [
             0.1111111111111111,
             "#46039f"
            ],
            [
             0.2222222222222222,
             "#7201a8"
            ],
            [
             0.3333333333333333,
             "#9c179e"
            ],
            [
             0.4444444444444444,
             "#bd3786"
            ],
            [
             0.5555555555555556,
             "#d8576b"
            ],
            [
             0.6666666666666666,
             "#ed7953"
            ],
            [
             0.7777777777777778,
             "#fb9f3a"
            ],
            [
             0.8888888888888888,
             "#fdca26"
            ],
            [
             1,
             "#f0f921"
            ]
           ],
           "sequentialminus": [
            [
             0,
             "#0d0887"
            ],
            [
             0.1111111111111111,
             "#46039f"
            ],
            [
             0.2222222222222222,
             "#7201a8"
            ],
            [
             0.3333333333333333,
             "#9c179e"
            ],
            [
             0.4444444444444444,
             "#bd3786"
            ],
            [
             0.5555555555555556,
             "#d8576b"
            ],
            [
             0.6666666666666666,
             "#ed7953"
            ],
            [
             0.7777777777777778,
             "#fb9f3a"
            ],
            [
             0.8888888888888888,
             "#fdca26"
            ],
            [
             1,
             "#f0f921"
            ]
           ]
          },
          "colorway": [
           "#636efa",
           "#EF553B",
           "#00cc96",
           "#ab63fa",
           "#FFA15A",
           "#19d3f3",
           "#FF6692",
           "#B6E880",
           "#FF97FF",
           "#FECB52"
          ],
          "font": {
           "color": "#2a3f5f"
          },
          "geo": {
           "bgcolor": "white",
           "lakecolor": "white",
           "landcolor": "#E5ECF6",
           "showlakes": true,
           "showland": true,
           "subunitcolor": "white"
          },
          "hoverlabel": {
           "align": "left"
          },
          "hovermode": "closest",
          "mapbox": {
           "style": "light"
          },
          "paper_bgcolor": "white",
          "plot_bgcolor": "#E5ECF6",
          "polar": {
           "angularaxis": {
            "gridcolor": "white",
            "linecolor": "white",
            "ticks": ""
           },
           "bgcolor": "#E5ECF6",
           "radialaxis": {
            "gridcolor": "white",
            "linecolor": "white",
            "ticks": ""
           }
          },
          "scene": {
           "xaxis": {
            "backgroundcolor": "#E5ECF6",
            "gridcolor": "white",
            "gridwidth": 2,
            "linecolor": "white",
            "showbackground": true,
            "ticks": "",
            "zerolinecolor": "white"
           },
           "yaxis": {
            "backgroundcolor": "#E5ECF6",
            "gridcolor": "white",
            "gridwidth": 2,
            "linecolor": "white",
            "showbackground": true,
            "ticks": "",
            "zerolinecolor": "white"
           },
           "zaxis": {
            "backgroundcolor": "#E5ECF6",
            "gridcolor": "white",
            "gridwidth": 2,
            "linecolor": "white",
            "showbackground": true,
            "ticks": "",
            "zerolinecolor": "white"
           }
          },
          "shapedefaults": {
           "line": {
            "color": "#2a3f5f"
           }
          },
          "ternary": {
           "aaxis": {
            "gridcolor": "white",
            "linecolor": "white",
            "ticks": ""
           },
           "baxis": {
            "gridcolor": "white",
            "linecolor": "white",
            "ticks": ""
           },
           "bgcolor": "#E5ECF6",
           "caxis": {
            "gridcolor": "white",
            "linecolor": "white",
            "ticks": ""
           }
          },
          "title": {
           "x": 0.05
          },
          "xaxis": {
           "automargin": true,
           "gridcolor": "white",
           "linecolor": "white",
           "ticks": "",
           "title": {
            "standoff": 15
           },
           "zerolinecolor": "white",
           "zerolinewidth": 2
          },
          "yaxis": {
           "automargin": true,
           "gridcolor": "white",
           "linecolor": "white",
           "ticks": "",
           "title": {
            "standoff": 15
           },
           "zerolinecolor": "white",
           "zerolinewidth": 2
          }
         }
        },
        "xaxis": {
         "anchor": "y",
         "domain": [
          0,
          1
         ],
         "title": {
          "text": "x"
         }
        },
        "yaxis": {
         "anchor": "x",
         "domain": [
          0,
          1
         ],
         "title": {
          "text": "y"
         }
        }
       }
      }
     },
     "metadata": {},
     "output_type": "display_data"
    }
   ],
   "source": [
    "fig = px.scatter(x=data[:,0], y=data[:,1],hover_name=laser_names)\n",
    "fig.show()"
   ]
  },
  {
   "cell_type": "code",
   "execution_count": 9,
   "metadata": {},
   "outputs": [
    {
     "data": {
      "text/plain": [
       "dict_keys(['Color', 'Selected', 'beamCaptures', 'date', 'directory', 'imagePointInCamera', 'laserAddress', 'time', 'timestamp'])"
      ]
     },
     "execution_count": 9,
     "metadata": {},
     "output_type": "execute_result"
    }
   ],
   "source": [
    "def get_laser_capture(camera_capture, laserAddress):\n",
    "\tfor laser_capture in camera_capture['laserCaptures']['captures']:\n",
    "\t\tif int(laser_capture['laserAddress']) == laserAddress:\n",
    "\t\t\treturn laser_capture\n",
    "\n",
    "get_laser_capture(first_camera, 22).keys()"
   ]
  },
  {
   "cell_type": "code",
   "execution_count": null,
   "metadata": {},
   "outputs": [],
   "source": []
  },
  {
   "cell_type": "code",
   "execution_count": 11,
   "metadata": {},
   "outputs": [],
   "source": [
    "# gather data\n",
    "data_points = []\n",
    "for camera_capture in calibrate_node['Content']['cameraCaptures']['captures']:\n",
    "\tfor laser_capture in camera_capture['laserCaptures']['captures']:\n",
    "\t\tif laser_capture['Selected']:\n",
    "\t\t\tdata_point = {}\n",
    "\t\t\tdata_point['Camera'] = \"{0} {1}\".format(camera_capture['date'], camera_capture['time'])\n",
    "\t\t\tdata_point['x'] = laser_capture['imagePointInCamera'][0]\n",
    "\t\t\tdata_point['y'] = laser_capture['imagePointInCamera'][1]\n",
    "\t\t\tdata_point['Laser'] = \"Laser {0}\".format(laser_capture['laserAddress'])\n",
    "\t\t\t\n",
    "\t\t\tif 'residual' in data_point:\n",
    "\t\t\t\tdata_point['residual'] = laser_capture['laserAddress']\n",
    "\t\t\t\n",
    "\t\t\t#count active beam captures\n",
    "\t\t\tactive_beam_capture_count = 0\n",
    "\t\t\tfor beam_capture in laser_capture['beamCaptures']['captures']:\n",
    "\t\t\t\tif beam_capture['Selected']:\n",
    "\t\t\t\t\tactive_beam_capture_count = active_beam_capture_count + 1\n",
    "\t\t\tdata_point['Active beam captures'] = active_beam_capture_count\n",
    "\t\t\t\n",
    "\t\t\tdata_points.append(data_point)\n",
    "\n"
   ]
  },
  {
   "cell_type": "code",
   "execution_count": 16,
   "metadata": {},
   "outputs": [
    {
     "data": {
      "application/vnd.plotly.v1+json": {
       "config": {
        "plotlyServerURL": "https://plot.ly"
       },
       "data": [
        {
         "customdata": [
          [
           9
          ],
          [
           9
          ],
          [
           9
          ],
          [
           9
          ],
          [
           9
          ],
          [
           9
          ],
          [
           9
          ],
          [
           9
          ],
          [
           7
          ],
          [
           5
          ],
          [
           6
          ],
          [
           9
          ],
          [
           9
          ],
          [
           9
          ],
          [
           9
          ],
          [
           9
          ],
          [
           9
          ],
          [
           9
          ],
          [
           8
          ],
          [
           9
          ],
          [
           9
          ],
          [
           9
          ],
          [
           9
          ],
          [
           9
          ],
          [
           9
          ],
          [
           9
          ],
          [
           9
          ],
          [
           9
          ],
          [
           9
          ],
          [
           9
          ],
          [
           9
          ],
          [
           9
          ],
          [
           9
          ],
          [
           6
          ],
          [
           7
          ],
          [
           9
          ],
          [
           9
          ],
          [
           7
          ],
          [
           9
          ],
          [
           9
          ],
          [
           7
          ],
          [
           9
          ],
          [
           8
          ],
          [
           9
          ],
          [
           9
          ],
          [
           9
          ],
          [
           9
          ],
          [
           9
          ],
          [
           6
          ],
          [
           7
          ],
          [
           9
          ],
          [
           5
          ],
          [
           6
          ],
          [
           7
          ]
         ],
         "hovertemplate": "<b>%{hovertext}</b><br><br>Camera x=%{x}<br>Camera y=%{y}<br>Active beam captures=%{customdata[0]}<extra></extra>",
         "hovertext": [
          "Laser 1",
          "Laser 3",
          "Laser 4",
          "Laser 5",
          "Laser 6",
          "Laser 7",
          "Laser 8",
          "Laser 10",
          "Laser 11",
          "Laser 14",
          "Laser 15",
          "Laser 16",
          "Laser 17",
          "Laser 18",
          "Laser 19",
          "Laser 21",
          "Laser 24",
          "Laser 28",
          "Laser 36",
          "Laser 38",
          "Laser 39",
          "Laser 1",
          "Laser 3",
          "Laser 4",
          "Laser 5",
          "Laser 6",
          "Laser 7",
          "Laser 8",
          "Laser 10",
          "Laser 11",
          "Laser 12",
          "Laser 13",
          "Laser 14",
          "Laser 15",
          "Laser 16",
          "Laser 17",
          "Laser 18",
          "Laser 19",
          "Laser 21",
          "Laser 22",
          "Laser 23",
          "Laser 24",
          "Laser 28",
          "Laser 29",
          "Laser 31",
          "Laser 32",
          "Laser 33",
          "Laser 34",
          "Laser 35",
          "Laser 36",
          "Laser 37",
          "Laser 38",
          "Laser 39",
          "Laser 4"
         ],
         "legendgroup": "",
         "marker": {
          "color": "#636efa",
          "symbol": "circle"
         },
         "mode": "markers",
         "name": "",
         "orientation": "v",
         "showlegend": false,
         "type": "scatter",
         "x": [
          4132.10107421875,
          5506.77587890625,
          6176.28857421875,
          6745.06689453125,
          7284.85302734375,
          8019.029296875,
          8601.16796875,
          10029.76171875,
          10799.8349609375,
          13211.2490234375,
          14422.3017578125,
          15334.634765625,
          20465.12109375,
          25079.353515625,
          27612.958984375,
          -3807.9013671875,
          -37093.6171875,
          -12554.607421875,
          -306.8667907714844,
          1138.651123046875,
          1836.867431640625,
          27731.296875,
          53613.3828125,
          99728.796875,
          -4176281.5,
          -62347.67578125,
          178068.34375,
          -29672.890625,
          -14421.79296875,
          -11258.3720703125,
          -9561.8984375,
          -7438.94677734375,
          -6157.9970703125,
          -5128.37548828125,
          -4113.611328125,
          -1632.059814453125,
          -1022.3948364257812,
          -308.3406066894531,
          1247.5838623046875,
          1865.74951171875,
          2494.29736328125,
          3238.10791015625,
          -33066696,
          6568.8525390625,
          8039.09033203125,
          8736.271484375,
          9344.560546875,
          10048.40234375,
          -120557736,
          11839.28125,
          13020.8349609375,
          14602.8486328125,
          16614.501953125,
          -1402.7872314453125
         ],
         "xaxis": "x",
         "y": [
          7955.50927734375,
          7905.3994140625,
          7906.13037109375,
          7894.9892578125,
          7880.24560546875,
          7848.1748046875,
          7814.1611328125,
          7687.11669921875,
          7591.68603515625,
          7177.54833984375,
          6966.11962890625,
          6779.3427734375,
          5614.42626953125,
          4157.41943359375,
          1776.2130126953125,
          -6654.83984375,
          2402.239990234375,
          7021.25146484375,
          7926.93505859375,
          7968.87646484375,
          7985.00830078125,
          3868.389404296875,
          -3497.66162109375,
          -19442.408203125,
          1689711.125,
          59685.46875,
          241535.234375,
          -4902.56494140625,
          5253.52490234375,
          6117.33154296875,
          6570.580078125,
          6803.94091796875,
          6917.423828125,
          7063.90576171875,
          7175.18994140625,
          7430.52734375,
          7453.9287109375,
          7453.810546875,
          7407.35205078125,
          7397.60791015625,
          7365.923828125,
          7326.52001953125,
          -85402536,
          7096.197265625,
          6966.40625,
          6883.36376953125,
          6820.6650390625,
          6745.818359375,
          -66413432,
          6593.07275390625,
          6453.7783203125,
          6259.59130859375,
          5996.7958984375,
          7519.78466796875
         ],
         "yaxis": "y"
        }
       ],
       "layout": {
        "legend": {
         "tracegroupgap": 0
        },
        "margin": {
         "t": 60
        },
        "template": {
         "data": {
          "bar": [
           {
            "error_x": {
             "color": "#2a3f5f"
            },
            "error_y": {
             "color": "#2a3f5f"
            },
            "marker": {
             "line": {
              "color": "#E5ECF6",
              "width": 0.5
             },
             "pattern": {
              "fillmode": "overlay",
              "size": 10,
              "solidity": 0.2
             }
            },
            "type": "bar"
           }
          ],
          "barpolar": [
           {
            "marker": {
             "line": {
              "color": "#E5ECF6",
              "width": 0.5
             },
             "pattern": {
              "fillmode": "overlay",
              "size": 10,
              "solidity": 0.2
             }
            },
            "type": "barpolar"
           }
          ],
          "carpet": [
           {
            "aaxis": {
             "endlinecolor": "#2a3f5f",
             "gridcolor": "white",
             "linecolor": "white",
             "minorgridcolor": "white",
             "startlinecolor": "#2a3f5f"
            },
            "baxis": {
             "endlinecolor": "#2a3f5f",
             "gridcolor": "white",
             "linecolor": "white",
             "minorgridcolor": "white",
             "startlinecolor": "#2a3f5f"
            },
            "type": "carpet"
           }
          ],
          "choropleth": [
           {
            "colorbar": {
             "outlinewidth": 0,
             "ticks": ""
            },
            "type": "choropleth"
           }
          ],
          "contour": [
           {
            "colorbar": {
             "outlinewidth": 0,
             "ticks": ""
            },
            "colorscale": [
             [
              0,
              "#0d0887"
             ],
             [
              0.1111111111111111,
              "#46039f"
             ],
             [
              0.2222222222222222,
              "#7201a8"
             ],
             [
              0.3333333333333333,
              "#9c179e"
             ],
             [
              0.4444444444444444,
              "#bd3786"
             ],
             [
              0.5555555555555556,
              "#d8576b"
             ],
             [
              0.6666666666666666,
              "#ed7953"
             ],
             [
              0.7777777777777778,
              "#fb9f3a"
             ],
             [
              0.8888888888888888,
              "#fdca26"
             ],
             [
              1,
              "#f0f921"
             ]
            ],
            "type": "contour"
           }
          ],
          "contourcarpet": [
           {
            "colorbar": {
             "outlinewidth": 0,
             "ticks": ""
            },
            "type": "contourcarpet"
           }
          ],
          "heatmap": [
           {
            "colorbar": {
             "outlinewidth": 0,
             "ticks": ""
            },
            "colorscale": [
             [
              0,
              "#0d0887"
             ],
             [
              0.1111111111111111,
              "#46039f"
             ],
             [
              0.2222222222222222,
              "#7201a8"
             ],
             [
              0.3333333333333333,
              "#9c179e"
             ],
             [
              0.4444444444444444,
              "#bd3786"
             ],
             [
              0.5555555555555556,
              "#d8576b"
             ],
             [
              0.6666666666666666,
              "#ed7953"
             ],
             [
              0.7777777777777778,
              "#fb9f3a"
             ],
             [
              0.8888888888888888,
              "#fdca26"
             ],
             [
              1,
              "#f0f921"
             ]
            ],
            "type": "heatmap"
           }
          ],
          "heatmapgl": [
           {
            "colorbar": {
             "outlinewidth": 0,
             "ticks": ""
            },
            "colorscale": [
             [
              0,
              "#0d0887"
             ],
             [
              0.1111111111111111,
              "#46039f"
             ],
             [
              0.2222222222222222,
              "#7201a8"
             ],
             [
              0.3333333333333333,
              "#9c179e"
             ],
             [
              0.4444444444444444,
              "#bd3786"
             ],
             [
              0.5555555555555556,
              "#d8576b"
             ],
             [
              0.6666666666666666,
              "#ed7953"
             ],
             [
              0.7777777777777778,
              "#fb9f3a"
             ],
             [
              0.8888888888888888,
              "#fdca26"
             ],
             [
              1,
              "#f0f921"
             ]
            ],
            "type": "heatmapgl"
           }
          ],
          "histogram": [
           {
            "marker": {
             "pattern": {
              "fillmode": "overlay",
              "size": 10,
              "solidity": 0.2
             }
            },
            "type": "histogram"
           }
          ],
          "histogram2d": [
           {
            "colorbar": {
             "outlinewidth": 0,
             "ticks": ""
            },
            "colorscale": [
             [
              0,
              "#0d0887"
             ],
             [
              0.1111111111111111,
              "#46039f"
             ],
             [
              0.2222222222222222,
              "#7201a8"
             ],
             [
              0.3333333333333333,
              "#9c179e"
             ],
             [
              0.4444444444444444,
              "#bd3786"
             ],
             [
              0.5555555555555556,
              "#d8576b"
             ],
             [
              0.6666666666666666,
              "#ed7953"
             ],
             [
              0.7777777777777778,
              "#fb9f3a"
             ],
             [
              0.8888888888888888,
              "#fdca26"
             ],
             [
              1,
              "#f0f921"
             ]
            ],
            "type": "histogram2d"
           }
          ],
          "histogram2dcontour": [
           {
            "colorbar": {
             "outlinewidth": 0,
             "ticks": ""
            },
            "colorscale": [
             [
              0,
              "#0d0887"
             ],
             [
              0.1111111111111111,
              "#46039f"
             ],
             [
              0.2222222222222222,
              "#7201a8"
             ],
             [
              0.3333333333333333,
              "#9c179e"
             ],
             [
              0.4444444444444444,
              "#bd3786"
             ],
             [
              0.5555555555555556,
              "#d8576b"
             ],
             [
              0.6666666666666666,
              "#ed7953"
             ],
             [
              0.7777777777777778,
              "#fb9f3a"
             ],
             [
              0.8888888888888888,
              "#fdca26"
             ],
             [
              1,
              "#f0f921"
             ]
            ],
            "type": "histogram2dcontour"
           }
          ],
          "mesh3d": [
           {
            "colorbar": {
             "outlinewidth": 0,
             "ticks": ""
            },
            "type": "mesh3d"
           }
          ],
          "parcoords": [
           {
            "line": {
             "colorbar": {
              "outlinewidth": 0,
              "ticks": ""
             }
            },
            "type": "parcoords"
           }
          ],
          "pie": [
           {
            "automargin": true,
            "type": "pie"
           }
          ],
          "scatter": [
           {
            "fillpattern": {
             "fillmode": "overlay",
             "size": 10,
             "solidity": 0.2
            },
            "type": "scatter"
           }
          ],
          "scatter3d": [
           {
            "line": {
             "colorbar": {
              "outlinewidth": 0,
              "ticks": ""
             }
            },
            "marker": {
             "colorbar": {
              "outlinewidth": 0,
              "ticks": ""
             }
            },
            "type": "scatter3d"
           }
          ],
          "scattercarpet": [
           {
            "marker": {
             "colorbar": {
              "outlinewidth": 0,
              "ticks": ""
             }
            },
            "type": "scattercarpet"
           }
          ],
          "scattergeo": [
           {
            "marker": {
             "colorbar": {
              "outlinewidth": 0,
              "ticks": ""
             }
            },
            "type": "scattergeo"
           }
          ],
          "scattergl": [
           {
            "marker": {
             "colorbar": {
              "outlinewidth": 0,
              "ticks": ""
             }
            },
            "type": "scattergl"
           }
          ],
          "scattermapbox": [
           {
            "marker": {
             "colorbar": {
              "outlinewidth": 0,
              "ticks": ""
             }
            },
            "type": "scattermapbox"
           }
          ],
          "scatterpolar": [
           {
            "marker": {
             "colorbar": {
              "outlinewidth": 0,
              "ticks": ""
             }
            },
            "type": "scatterpolar"
           }
          ],
          "scatterpolargl": [
           {
            "marker": {
             "colorbar": {
              "outlinewidth": 0,
              "ticks": ""
             }
            },
            "type": "scatterpolargl"
           }
          ],
          "scatterternary": [
           {
            "marker": {
             "colorbar": {
              "outlinewidth": 0,
              "ticks": ""
             }
            },
            "type": "scatterternary"
           }
          ],
          "surface": [
           {
            "colorbar": {
             "outlinewidth": 0,
             "ticks": ""
            },
            "colorscale": [
             [
              0,
              "#0d0887"
             ],
             [
              0.1111111111111111,
              "#46039f"
             ],
             [
              0.2222222222222222,
              "#7201a8"
             ],
             [
              0.3333333333333333,
              "#9c179e"
             ],
             [
              0.4444444444444444,
              "#bd3786"
             ],
             [
              0.5555555555555556,
              "#d8576b"
             ],
             [
              0.6666666666666666,
              "#ed7953"
             ],
             [
              0.7777777777777778,
              "#fb9f3a"
             ],
             [
              0.8888888888888888,
              "#fdca26"
             ],
             [
              1,
              "#f0f921"
             ]
            ],
            "type": "surface"
           }
          ],
          "table": [
           {
            "cells": {
             "fill": {
              "color": "#EBF0F8"
             },
             "line": {
              "color": "white"
             }
            },
            "header": {
             "fill": {
              "color": "#C8D4E3"
             },
             "line": {
              "color": "white"
             }
            },
            "type": "table"
           }
          ]
         },
         "layout": {
          "annotationdefaults": {
           "arrowcolor": "#2a3f5f",
           "arrowhead": 0,
           "arrowwidth": 1
          },
          "autotypenumbers": "strict",
          "coloraxis": {
           "colorbar": {
            "outlinewidth": 0,
            "ticks": ""
           }
          },
          "colorscale": {
           "diverging": [
            [
             0,
             "#8e0152"
            ],
            [
             0.1,
             "#c51b7d"
            ],
            [
             0.2,
             "#de77ae"
            ],
            [
             0.3,
             "#f1b6da"
            ],
            [
             0.4,
             "#fde0ef"
            ],
            [
             0.5,
             "#f7f7f7"
            ],
            [
             0.6,
             "#e6f5d0"
            ],
            [
             0.7,
             "#b8e186"
            ],
            [
             0.8,
             "#7fbc41"
            ],
            [
             0.9,
             "#4d9221"
            ],
            [
             1,
             "#276419"
            ]
           ],
           "sequential": [
            [
             0,
             "#0d0887"
            ],
            [
             0.1111111111111111,
             "#46039f"
            ],
            [
             0.2222222222222222,
             "#7201a8"
            ],
            [
             0.3333333333333333,
             "#9c179e"
            ],
            [
             0.4444444444444444,
             "#bd3786"
            ],
            [
             0.5555555555555556,
             "#d8576b"
            ],
            [
             0.6666666666666666,
             "#ed7953"
            ],
            [
             0.7777777777777778,
             "#fb9f3a"
            ],
            [
             0.8888888888888888,
             "#fdca26"
            ],
            [
             1,
             "#f0f921"
            ]
           ],
           "sequentialminus": [
            [
             0,
             "#0d0887"
            ],
            [
             0.1111111111111111,
             "#46039f"
            ],
            [
             0.2222222222222222,
             "#7201a8"
            ],
            [
             0.3333333333333333,
             "#9c179e"
            ],
            [
             0.4444444444444444,
             "#bd3786"
            ],
            [
             0.5555555555555556,
             "#d8576b"
            ],
            [
             0.6666666666666666,
             "#ed7953"
            ],
            [
             0.7777777777777778,
             "#fb9f3a"
            ],
            [
             0.8888888888888888,
             "#fdca26"
            ],
            [
             1,
             "#f0f921"
            ]
           ]
          },
          "colorway": [
           "#636efa",
           "#EF553B",
           "#00cc96",
           "#ab63fa",
           "#FFA15A",
           "#19d3f3",
           "#FF6692",
           "#B6E880",
           "#FF97FF",
           "#FECB52"
          ],
          "font": {
           "color": "#2a3f5f"
          },
          "geo": {
           "bgcolor": "white",
           "lakecolor": "white",
           "landcolor": "#E5ECF6",
           "showlakes": true,
           "showland": true,
           "subunitcolor": "white"
          },
          "hoverlabel": {
           "align": "left"
          },
          "hovermode": "closest",
          "mapbox": {
           "style": "light"
          },
          "paper_bgcolor": "white",
          "plot_bgcolor": "#E5ECF6",
          "polar": {
           "angularaxis": {
            "gridcolor": "white",
            "linecolor": "white",
            "ticks": ""
           },
           "bgcolor": "#E5ECF6",
           "radialaxis": {
            "gridcolor": "white",
            "linecolor": "white",
            "ticks": ""
           }
          },
          "scene": {
           "xaxis": {
            "backgroundcolor": "#E5ECF6",
            "gridcolor": "white",
            "gridwidth": 2,
            "linecolor": "white",
            "showbackground": true,
            "ticks": "",
            "zerolinecolor": "white"
           },
           "yaxis": {
            "backgroundcolor": "#E5ECF6",
            "gridcolor": "white",
            "gridwidth": 2,
            "linecolor": "white",
            "showbackground": true,
            "ticks": "",
            "zerolinecolor": "white"
           },
           "zaxis": {
            "backgroundcolor": "#E5ECF6",
            "gridcolor": "white",
            "gridwidth": 2,
            "linecolor": "white",
            "showbackground": true,
            "ticks": "",
            "zerolinecolor": "white"
           }
          },
          "shapedefaults": {
           "line": {
            "color": "#2a3f5f"
           }
          },
          "ternary": {
           "aaxis": {
            "gridcolor": "white",
            "linecolor": "white",
            "ticks": ""
           },
           "baxis": {
            "gridcolor": "white",
            "linecolor": "white",
            "ticks": ""
           },
           "bgcolor": "#E5ECF6",
           "caxis": {
            "gridcolor": "white",
            "linecolor": "white",
            "ticks": ""
           }
          },
          "title": {
           "x": 0.05
          },
          "xaxis": {
           "automargin": true,
           "gridcolor": "white",
           "linecolor": "white",
           "ticks": "",
           "title": {
            "standoff": 15
           },
           "zerolinecolor": "white",
           "zerolinewidth": 2
          },
          "yaxis": {
           "automargin": true,
           "gridcolor": "white",
           "linecolor": "white",
           "ticks": "",
           "title": {
            "standoff": 15
           },
           "zerolinecolor": "white",
           "zerolinewidth": 2
          }
         }
        },
        "xaxis": {
         "anchor": "y",
         "domain": [
          0,
          1
         ],
         "title": {
          "text": "Camera x"
         }
        },
        "yaxis": {
         "anchor": "x",
         "domain": [
          0,
          1
         ],
         "title": {
          "text": "Camera y"
         }
        }
       }
      }
     },
     "metadata": {},
     "output_type": "display_data"
    }
   ],
   "source": [
    "fig = px.scatter(data_points, x='x', y='y', hover_name='Laser', hover_data=['Active beam captures'])\n",
    "fig.show()"
   ]
  },
  {
   "cell_type": "code",
   "execution_count": 15,
   "metadata": {},
   "outputs": [
    {
     "data": {
      "text/plain": [
       "[{'Camera x': 4132.10107421875,\n",
       "  'Camera y': 7955.50927734375,\n",
       "  'Laser': 'Laser 1',\n",
       "  'Active beam captures': 9},\n",
       " {'Camera x': 5506.77587890625,\n",
       "  'Camera y': 7905.3994140625,\n",
       "  'Laser': 'Laser 3',\n",
       "  'Active beam captures': 9},\n",
       " {'Camera x': 6176.28857421875,\n",
       "  'Camera y': 7906.13037109375,\n",
       "  'Laser': 'Laser 4',\n",
       "  'Active beam captures': 9},\n",
       " {'Camera x': 6745.06689453125,\n",
       "  'Camera y': 7894.9892578125,\n",
       "  'Laser': 'Laser 5',\n",
       "  'Active beam captures': 9},\n",
       " {'Camera x': 7284.85302734375,\n",
       "  'Camera y': 7880.24560546875,\n",
       "  'Laser': 'Laser 6',\n",
       "  'Active beam captures': 9},\n",
       " {'Camera x': 8019.029296875,\n",
       "  'Camera y': 7848.1748046875,\n",
       "  'Laser': 'Laser 7',\n",
       "  'Active beam captures': 9},\n",
       " {'Camera x': 8601.16796875,\n",
       "  'Camera y': 7814.1611328125,\n",
       "  'Laser': 'Laser 8',\n",
       "  'Active beam captures': 9},\n",
       " {'Camera x': 10029.76171875,\n",
       "  'Camera y': 7687.11669921875,\n",
       "  'Laser': 'Laser 10',\n",
       "  'Active beam captures': 9},\n",
       " {'Camera x': 10799.8349609375,\n",
       "  'Camera y': 7591.68603515625,\n",
       "  'Laser': 'Laser 11',\n",
       "  'Active beam captures': 7},\n",
       " {'Camera x': 13211.2490234375,\n",
       "  'Camera y': 7177.54833984375,\n",
       "  'Laser': 'Laser 14',\n",
       "  'Active beam captures': 5},\n",
       " {'Camera x': 14422.3017578125,\n",
       "  'Camera y': 6966.11962890625,\n",
       "  'Laser': 'Laser 15',\n",
       "  'Active beam captures': 6},\n",
       " {'Camera x': 15334.634765625,\n",
       "  'Camera y': 6779.3427734375,\n",
       "  'Laser': 'Laser 16',\n",
       "  'Active beam captures': 9},\n",
       " {'Camera x': 20465.12109375,\n",
       "  'Camera y': 5614.42626953125,\n",
       "  'Laser': 'Laser 17',\n",
       "  'Active beam captures': 9},\n",
       " {'Camera x': 25079.353515625,\n",
       "  'Camera y': 4157.41943359375,\n",
       "  'Laser': 'Laser 18',\n",
       "  'Active beam captures': 9},\n",
       " {'Camera x': 27612.958984375,\n",
       "  'Camera y': 1776.2130126953125,\n",
       "  'Laser': 'Laser 19',\n",
       "  'Active beam captures': 9},\n",
       " {'Camera x': -3807.9013671875,\n",
       "  'Camera y': -6654.83984375,\n",
       "  'Laser': 'Laser 21',\n",
       "  'Active beam captures': 9},\n",
       " {'Camera x': -37093.6171875,\n",
       "  'Camera y': 2402.239990234375,\n",
       "  'Laser': 'Laser 24',\n",
       "  'Active beam captures': 9},\n",
       " {'Camera x': -12554.607421875,\n",
       "  'Camera y': 7021.25146484375,\n",
       "  'Laser': 'Laser 28',\n",
       "  'Active beam captures': 9},\n",
       " {'Camera x': -306.8667907714844,\n",
       "  'Camera y': 7926.93505859375,\n",
       "  'Laser': 'Laser 36',\n",
       "  'Active beam captures': 8},\n",
       " {'Camera x': 1138.651123046875,\n",
       "  'Camera y': 7968.87646484375,\n",
       "  'Laser': 'Laser 38',\n",
       "  'Active beam captures': 9},\n",
       " {'Camera x': 1836.867431640625,\n",
       "  'Camera y': 7985.00830078125,\n",
       "  'Laser': 'Laser 39',\n",
       "  'Active beam captures': 9},\n",
       " {'Camera x': 27731.296875,\n",
       "  'Camera y': 3868.389404296875,\n",
       "  'Laser': 'Laser 1',\n",
       "  'Active beam captures': 9},\n",
       " {'Camera x': 53613.3828125,\n",
       "  'Camera y': -3497.66162109375,\n",
       "  'Laser': 'Laser 3',\n",
       "  'Active beam captures': 9},\n",
       " {'Camera x': 99728.796875,\n",
       "  'Camera y': -19442.408203125,\n",
       "  'Laser': 'Laser 4',\n",
       "  'Active beam captures': 9},\n",
       " {'Camera x': -4176281.5,\n",
       "  'Camera y': 1689711.125,\n",
       "  'Laser': 'Laser 5',\n",
       "  'Active beam captures': 9},\n",
       " {'Camera x': -62347.67578125,\n",
       "  'Camera y': 59685.46875,\n",
       "  'Laser': 'Laser 6',\n",
       "  'Active beam captures': 9},\n",
       " {'Camera x': 178068.34375,\n",
       "  'Camera y': 241535.234375,\n",
       "  'Laser': 'Laser 7',\n",
       "  'Active beam captures': 9},\n",
       " {'Camera x': -29672.890625,\n",
       "  'Camera y': -4902.56494140625,\n",
       "  'Laser': 'Laser 8',\n",
       "  'Active beam captures': 9},\n",
       " {'Camera x': -14421.79296875,\n",
       "  'Camera y': 5253.52490234375,\n",
       "  'Laser': 'Laser 10',\n",
       "  'Active beam captures': 9},\n",
       " {'Camera x': -11258.3720703125,\n",
       "  'Camera y': 6117.33154296875,\n",
       "  'Laser': 'Laser 11',\n",
       "  'Active beam captures': 9},\n",
       " {'Camera x': -9561.8984375,\n",
       "  'Camera y': 6570.580078125,\n",
       "  'Laser': 'Laser 12',\n",
       "  'Active beam captures': 9},\n",
       " {'Camera x': -7438.94677734375,\n",
       "  'Camera y': 6803.94091796875,\n",
       "  'Laser': 'Laser 13',\n",
       "  'Active beam captures': 9},\n",
       " {'Camera x': -6157.9970703125,\n",
       "  'Camera y': 6917.423828125,\n",
       "  'Laser': 'Laser 14',\n",
       "  'Active beam captures': 9},\n",
       " {'Camera x': -5128.37548828125,\n",
       "  'Camera y': 7063.90576171875,\n",
       "  'Laser': 'Laser 15',\n",
       "  'Active beam captures': 6},\n",
       " {'Camera x': -4113.611328125,\n",
       "  'Camera y': 7175.18994140625,\n",
       "  'Laser': 'Laser 16',\n",
       "  'Active beam captures': 7},\n",
       " {'Camera x': -1632.059814453125,\n",
       "  'Camera y': 7430.52734375,\n",
       "  'Laser': 'Laser 17',\n",
       "  'Active beam captures': 9},\n",
       " {'Camera x': -1022.3948364257812,\n",
       "  'Camera y': 7453.9287109375,\n",
       "  'Laser': 'Laser 18',\n",
       "  'Active beam captures': 9},\n",
       " {'Camera x': -308.3406066894531,\n",
       "  'Camera y': 7453.810546875,\n",
       "  'Laser': 'Laser 19',\n",
       "  'Active beam captures': 7},\n",
       " {'Camera x': 1247.5838623046875,\n",
       "  'Camera y': 7407.35205078125,\n",
       "  'Laser': 'Laser 21',\n",
       "  'Active beam captures': 9},\n",
       " {'Camera x': 1865.74951171875,\n",
       "  'Camera y': 7397.60791015625,\n",
       "  'Laser': 'Laser 22',\n",
       "  'Active beam captures': 9},\n",
       " {'Camera x': 2494.29736328125,\n",
       "  'Camera y': 7365.923828125,\n",
       "  'Laser': 'Laser 23',\n",
       "  'Active beam captures': 7},\n",
       " {'Camera x': 3238.10791015625,\n",
       "  'Camera y': 7326.52001953125,\n",
       "  'Laser': 'Laser 24',\n",
       "  'Active beam captures': 9},\n",
       " {'Camera x': -33066696.0,\n",
       "  'Camera y': -85402536.0,\n",
       "  'Laser': 'Laser 28',\n",
       "  'Active beam captures': 8},\n",
       " {'Camera x': 6568.8525390625,\n",
       "  'Camera y': 7096.197265625,\n",
       "  'Laser': 'Laser 29',\n",
       "  'Active beam captures': 9},\n",
       " {'Camera x': 8039.09033203125,\n",
       "  'Camera y': 6966.40625,\n",
       "  'Laser': 'Laser 31',\n",
       "  'Active beam captures': 9},\n",
       " {'Camera x': 8736.271484375,\n",
       "  'Camera y': 6883.36376953125,\n",
       "  'Laser': 'Laser 32',\n",
       "  'Active beam captures': 9},\n",
       " {'Camera x': 9344.560546875,\n",
       "  'Camera y': 6820.6650390625,\n",
       "  'Laser': 'Laser 33',\n",
       "  'Active beam captures': 9},\n",
       " {'Camera x': 10048.40234375,\n",
       "  'Camera y': 6745.818359375,\n",
       "  'Laser': 'Laser 34',\n",
       "  'Active beam captures': 9},\n",
       " {'Camera x': -120557736.0,\n",
       "  'Camera y': -66413432.0,\n",
       "  'Laser': 'Laser 35',\n",
       "  'Active beam captures': 6},\n",
       " {'Camera x': 11839.28125,\n",
       "  'Camera y': 6593.07275390625,\n",
       "  'Laser': 'Laser 36',\n",
       "  'Active beam captures': 7},\n",
       " {'Camera x': 13020.8349609375,\n",
       "  'Camera y': 6453.7783203125,\n",
       "  'Laser': 'Laser 37',\n",
       "  'Active beam captures': 9},\n",
       " {'Camera x': 14602.8486328125,\n",
       "  'Camera y': 6259.59130859375,\n",
       "  'Laser': 'Laser 38',\n",
       "  'Active beam captures': 5},\n",
       " {'Camera x': 16614.501953125,\n",
       "  'Camera y': 5996.7958984375,\n",
       "  'Laser': 'Laser 39',\n",
       "  'Active beam captures': 6},\n",
       " {'Camera x': -1402.7872314453125,\n",
       "  'Camera y': 7519.78466796875,\n",
       "  'Laser': 'Laser 4',\n",
       "  'Active beam captures': 7}]"
      ]
     },
     "execution_count": 15,
     "metadata": {},
     "output_type": "execute_result"
    }
   ],
   "source": [
    "data_points"
   ]
  },
  {
   "cell_type": "code",
   "execution_count": 21,
   "metadata": {},
   "outputs": [
    {
     "data": {
      "text/plain": [
       "'Fri 2021.10.01'"
      ]
     },
     "execution_count": 21,
     "metadata": {},
     "output_type": "execute_result"
    }
   ],
   "source": [
    "calibrate_node['Content']['cameraCaptures']['captures'][0]['date']"
   ]
  },
  {
   "cell_type": "code",
   "execution_count": null,
   "metadata": {},
   "outputs": [],
   "source": []
  }
 ],
 "metadata": {
  "interpreter": {
   "hash": "82b0de68545f78ab7a5fb705903fe28068dd8fc77393edae6a55556bceb4048e"
  },
  "kernelspec": {
   "display_name": "Python 3.7.7 ('base')",
   "language": "python",
   "name": "python3"
  },
  "language_info": {
   "codemirror_mode": {
    "name": "ipython",
    "version": 3
   },
   "file_extension": ".py",
   "mimetype": "text/x-python",
   "name": "python",
   "nbconvert_exporter": "python",
   "pygments_lexer": "ipython3",
   "version": "3.9.7"
  },
  "orig_nbformat": 4
 },
 "nbformat": 4,
 "nbformat_minor": 2
}
