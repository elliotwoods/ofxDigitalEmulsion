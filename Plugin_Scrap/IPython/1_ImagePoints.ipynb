{
 "cells": [
  {
   "cell_type": "code",
   "execution_count": 58,
   "metadata": {},
   "outputs": [],
   "source": [
    "import json\n",
    "import numpy as np\n",
    "import pandas as pd\n",
    "import plotly.express as px"
   ]
  },
  {
   "cell_type": "code",
   "execution_count": 59,
   "metadata": {},
   "outputs": [],
   "source": [
    "with open('../../Application/bin/data/Patch.json') as file:\n",
    "\tpatch = json.load(file)\n",
    "\t"
   ]
  },
  {
   "cell_type": "code",
   "execution_count": 60,
   "metadata": {},
   "outputs": [],
   "source": [
    "def find_node_by_name(node_name):\n",
    "\tfor node_id in patch['Nodes']:\n",
    "\t\tif patch['Nodes'][node_id]['Name'] == node_name:\n",
    "\t\t\treturn patch['Nodes'][node_id]\n",
    "\traise(Exception(\"Node not found\"))"
   ]
  },
  {
   "cell_type": "code",
   "execution_count": 61,
   "metadata": {},
   "outputs": [],
   "source": [
    "calibrate_node = find_node_by_name('Calibrate')"
   ]
  },
  {
   "cell_type": "code",
   "execution_count": 62,
   "metadata": {},
   "outputs": [],
   "source": [
    "first_camera = calibrate_node['Content']['cameraCaptures']['captures'][0]"
   ]
  },
  {
   "cell_type": "code",
   "execution_count": 63,
   "metadata": {},
   "outputs": [],
   "source": [
    "#gather laser image points function\n",
    "def gather_laser_image_points(camera_capture):\n",
    "\tlaser_image_points = []\n",
    "\tlaser_names = []\n",
    "\tfor laser_capture in first_camera['laserCaptures']['captures']:\n",
    "\t\tif laser_capture['Selected']:\n",
    "\t\t\tlaser_image_points.append(laser_capture['imagePointInCamera'])\n",
    "\t\t\tlaser_names.append(laser_capture['laserAddress'])\n",
    "\treturn laser_image_points, laser_names"
   ]
  },
  {
   "cell_type": "code",
   "execution_count": 64,
   "metadata": {},
   "outputs": [],
   "source": [
    "laser_image_points, laser_names = gather_laser_image_points(first_camera)\n",
    "data = np.array(laser_image_points)"
   ]
  },
  {
   "cell_type": "code",
   "execution_count": 65,
   "metadata": {},
   "outputs": [
    {
     "data": {
      "application/vnd.plotly.v1+json": {
       "config": {
        "plotlyServerURL": "https://plot.ly"
       },
       "data": [
        {
         "hovertemplate": "<b>%{hovertext}</b><br><br>x=%{x}<br>y=%{y}<extra></extra>",
         "hovertext": [
          1,
          3,
          4,
          5,
          6,
          7,
          8,
          10,
          11,
          12,
          14,
          15,
          16,
          17,
          18,
          19,
          21,
          24,
          28,
          36,
          37,
          38,
          39
         ],
         "legendgroup": "",
         "marker": {
          "color": "#636efa",
          "symbol": "circle"
         },
         "mode": "markers",
         "name": "",
         "orientation": "v",
         "showlegend": false,
         "type": "scatter",
         "x": [
          4132.197265625,
          5506.76953125,
          6176.45068359375,
          6745.0830078125,
          7284.9609375,
          8019.21435546875,
          8601.0869140625,
          10029.640625,
          10799.90234375,
          11707.5966796875,
          13211.265625,
          14421.736328125,
          15333.697265625,
          20464.8203125,
          25079.744140625,
          27613.0546875,
          -3810.682373046875,
          -37089.98828125,
          -12553.21484375,
          -307.01800537109375,
          422.8003845214844,
          1138.8297119140625,
          1837.0308837890625
         ],
         "xaxis": "x",
         "y": [
          7955.46435546875,
          7905.3876953125,
          7906.359375,
          7894.93017578125,
          7880.3818359375,
          7848.35205078125,
          7814.3701171875,
          7687.0712890625,
          7591.810546875,
          7488.0791015625,
          7177.62060546875,
          6966.005859375,
          6778.97705078125,
          5614.37353515625,
          4157.521484375,
          1776.18310546875,
          -6658.32958984375,
          2402.222900390625,
          7021.16357421875,
          7927.08935546875,
          7950.0966796875,
          7968.43798828125,
          7984.66015625
         ],
         "yaxis": "y"
        }
       ],
       "layout": {
        "legend": {
         "tracegroupgap": 0
        },
        "margin": {
         "t": 60
        },
        "template": {
         "data": {
          "bar": [
           {
            "error_x": {
             "color": "#2a3f5f"
            },
            "error_y": {
             "color": "#2a3f5f"
            },
            "marker": {
             "line": {
              "color": "#E5ECF6",
              "width": 0.5
             },
             "pattern": {
              "fillmode": "overlay",
              "size": 10,
              "solidity": 0.2
             }
            },
            "type": "bar"
           }
          ],
          "barpolar": [
           {
            "marker": {
             "line": {
              "color": "#E5ECF6",
              "width": 0.5
             },
             "pattern": {
              "fillmode": "overlay",
              "size": 10,
              "solidity": 0.2
             }
            },
            "type": "barpolar"
           }
          ],
          "carpet": [
           {
            "aaxis": {
             "endlinecolor": "#2a3f5f",
             "gridcolor": "white",
             "linecolor": "white",
             "minorgridcolor": "white",
             "startlinecolor": "#2a3f5f"
            },
            "baxis": {
             "endlinecolor": "#2a3f5f",
             "gridcolor": "white",
             "linecolor": "white",
             "minorgridcolor": "white",
             "startlinecolor": "#2a3f5f"
            },
            "type": "carpet"
           }
          ],
          "choropleth": [
           {
            "colorbar": {
             "outlinewidth": 0,
             "ticks": ""
            },
            "type": "choropleth"
           }
          ],
          "contour": [
           {
            "colorbar": {
             "outlinewidth": 0,
             "ticks": ""
            },
            "colorscale": [
             [
              0,
              "#0d0887"
             ],
             [
              0.1111111111111111,
              "#46039f"
             ],
             [
              0.2222222222222222,
              "#7201a8"
             ],
             [
              0.3333333333333333,
              "#9c179e"
             ],
             [
              0.4444444444444444,
              "#bd3786"
             ],
             [
              0.5555555555555556,
              "#d8576b"
             ],
             [
              0.6666666666666666,
              "#ed7953"
             ],
             [
              0.7777777777777778,
              "#fb9f3a"
             ],
             [
              0.8888888888888888,
              "#fdca26"
             ],
             [
              1,
              "#f0f921"
             ]
            ],
            "type": "contour"
           }
          ],
          "contourcarpet": [
           {
            "colorbar": {
             "outlinewidth": 0,
             "ticks": ""
            },
            "type": "contourcarpet"
           }
          ],
          "heatmap": [
           {
            "colorbar": {
             "outlinewidth": 0,
             "ticks": ""
            },
            "colorscale": [
             [
              0,
              "#0d0887"
             ],
             [
              0.1111111111111111,
              "#46039f"
             ],
             [
              0.2222222222222222,
              "#7201a8"
             ],
             [
              0.3333333333333333,
              "#9c179e"
             ],
             [
              0.4444444444444444,
              "#bd3786"
             ],
             [
              0.5555555555555556,
              "#d8576b"
             ],
             [
              0.6666666666666666,
              "#ed7953"
             ],
             [
              0.7777777777777778,
              "#fb9f3a"
             ],
             [
              0.8888888888888888,
              "#fdca26"
             ],
             [
              1,
              "#f0f921"
             ]
            ],
            "type": "heatmap"
           }
          ],
          "heatmapgl": [
           {
            "colorbar": {
             "outlinewidth": 0,
             "ticks": ""
            },
            "colorscale": [
             [
              0,
              "#0d0887"
             ],
             [
              0.1111111111111111,
              "#46039f"
             ],
             [
              0.2222222222222222,
              "#7201a8"
             ],
             [
              0.3333333333333333,
              "#9c179e"
             ],
             [
              0.4444444444444444,
              "#bd3786"
             ],
             [
              0.5555555555555556,
              "#d8576b"
             ],
             [
              0.6666666666666666,
              "#ed7953"
             ],
             [
              0.7777777777777778,
              "#fb9f3a"
             ],
             [
              0.8888888888888888,
              "#fdca26"
             ],
             [
              1,
              "#f0f921"
             ]
            ],
            "type": "heatmapgl"
           }
          ],
          "histogram": [
           {
            "marker": {
             "pattern": {
              "fillmode": "overlay",
              "size": 10,
              "solidity": 0.2
             }
            },
            "type": "histogram"
           }
          ],
          "histogram2d": [
           {
            "colorbar": {
             "outlinewidth": 0,
             "ticks": ""
            },
            "colorscale": [
             [
              0,
              "#0d0887"
             ],
             [
              0.1111111111111111,
              "#46039f"
             ],
             [
              0.2222222222222222,
              "#7201a8"
             ],
             [
              0.3333333333333333,
              "#9c179e"
             ],
             [
              0.4444444444444444,
              "#bd3786"
             ],
             [
              0.5555555555555556,
              "#d8576b"
             ],
             [
              0.6666666666666666,
              "#ed7953"
             ],
             [
              0.7777777777777778,
              "#fb9f3a"
             ],
             [
              0.8888888888888888,
              "#fdca26"
             ],
             [
              1,
              "#f0f921"
             ]
            ],
            "type": "histogram2d"
           }
          ],
          "histogram2dcontour": [
           {
            "colorbar": {
             "outlinewidth": 0,
             "ticks": ""
            },
            "colorscale": [
             [
              0,
              "#0d0887"
             ],
             [
              0.1111111111111111,
              "#46039f"
             ],
             [
              0.2222222222222222,
              "#7201a8"
             ],
             [
              0.3333333333333333,
              "#9c179e"
             ],
             [
              0.4444444444444444,
              "#bd3786"
             ],
             [
              0.5555555555555556,
              "#d8576b"
             ],
             [
              0.6666666666666666,
              "#ed7953"
             ],
             [
              0.7777777777777778,
              "#fb9f3a"
             ],
             [
              0.8888888888888888,
              "#fdca26"
             ],
             [
              1,
              "#f0f921"
             ]
            ],
            "type": "histogram2dcontour"
           }
          ],
          "mesh3d": [
           {
            "colorbar": {
             "outlinewidth": 0,
             "ticks": ""
            },
            "type": "mesh3d"
           }
          ],
          "parcoords": [
           {
            "line": {
             "colorbar": {
              "outlinewidth": 0,
              "ticks": ""
             }
            },
            "type": "parcoords"
           }
          ],
          "pie": [
           {
            "automargin": true,
            "type": "pie"
           }
          ],
          "scatter": [
           {
            "fillpattern": {
             "fillmode": "overlay",
             "size": 10,
             "solidity": 0.2
            },
            "type": "scatter"
           }
          ],
          "scatter3d": [
           {
            "line": {
             "colorbar": {
              "outlinewidth": 0,
              "ticks": ""
             }
            },
            "marker": {
             "colorbar": {
              "outlinewidth": 0,
              "ticks": ""
             }
            },
            "type": "scatter3d"
           }
          ],
          "scattercarpet": [
           {
            "marker": {
             "colorbar": {
              "outlinewidth": 0,
              "ticks": ""
             }
            },
            "type": "scattercarpet"
           }
          ],
          "scattergeo": [
           {
            "marker": {
             "colorbar": {
              "outlinewidth": 0,
              "ticks": ""
             }
            },
            "type": "scattergeo"
           }
          ],
          "scattergl": [
           {
            "marker": {
             "colorbar": {
              "outlinewidth": 0,
              "ticks": ""
             }
            },
            "type": "scattergl"
           }
          ],
          "scattermapbox": [
           {
            "marker": {
             "colorbar": {
              "outlinewidth": 0,
              "ticks": ""
             }
            },
            "type": "scattermapbox"
           }
          ],
          "scatterpolar": [
           {
            "marker": {
             "colorbar": {
              "outlinewidth": 0,
              "ticks": ""
             }
            },
            "type": "scatterpolar"
           }
          ],
          "scatterpolargl": [
           {
            "marker": {
             "colorbar": {
              "outlinewidth": 0,
              "ticks": ""
             }
            },
            "type": "scatterpolargl"
           }
          ],
          "scatterternary": [
           {
            "marker": {
             "colorbar": {
              "outlinewidth": 0,
              "ticks": ""
             }
            },
            "type": "scatterternary"
           }
          ],
          "surface": [
           {
            "colorbar": {
             "outlinewidth": 0,
             "ticks": ""
            },
            "colorscale": [
             [
              0,
              "#0d0887"
             ],
             [
              0.1111111111111111,
              "#46039f"
             ],
             [
              0.2222222222222222,
              "#7201a8"
             ],
             [
              0.3333333333333333,
              "#9c179e"
             ],
             [
              0.4444444444444444,
              "#bd3786"
             ],
             [
              0.5555555555555556,
              "#d8576b"
             ],
             [
              0.6666666666666666,
              "#ed7953"
             ],
             [
              0.7777777777777778,
              "#fb9f3a"
             ],
             [
              0.8888888888888888,
              "#fdca26"
             ],
             [
              1,
              "#f0f921"
             ]
            ],
            "type": "surface"
           }
          ],
          "table": [
           {
            "cells": {
             "fill": {
              "color": "#EBF0F8"
             },
             "line": {
              "color": "white"
             }
            },
            "header": {
             "fill": {
              "color": "#C8D4E3"
             },
             "line": {
              "color": "white"
             }
            },
            "type": "table"
           }
          ]
         },
         "layout": {
          "annotationdefaults": {
           "arrowcolor": "#2a3f5f",
           "arrowhead": 0,
           "arrowwidth": 1
          },
          "autotypenumbers": "strict",
          "coloraxis": {
           "colorbar": {
            "outlinewidth": 0,
            "ticks": ""
           }
          },
          "colorscale": {
           "diverging": [
            [
             0,
             "#8e0152"
            ],
            [
             0.1,
             "#c51b7d"
            ],
            [
             0.2,
             "#de77ae"
            ],
            [
             0.3,
             "#f1b6da"
            ],
            [
             0.4,
             "#fde0ef"
            ],
            [
             0.5,
             "#f7f7f7"
            ],
            [
             0.6,
             "#e6f5d0"
            ],
            [
             0.7,
             "#b8e186"
            ],
            [
             0.8,
             "#7fbc41"
            ],
            [
             0.9,
             "#4d9221"
            ],
            [
             1,
             "#276419"
            ]
           ],
           "sequential": [
            [
             0,
             "#0d0887"
            ],
            [
             0.1111111111111111,
             "#46039f"
            ],
            [
             0.2222222222222222,
             "#7201a8"
            ],
            [
             0.3333333333333333,
             "#9c179e"
            ],
            [
             0.4444444444444444,
             "#bd3786"
            ],
            [
             0.5555555555555556,
             "#d8576b"
            ],
            [
             0.6666666666666666,
             "#ed7953"
            ],
            [
             0.7777777777777778,
             "#fb9f3a"
            ],
            [
             0.8888888888888888,
             "#fdca26"
            ],
            [
             1,
             "#f0f921"
            ]
           ],
           "sequentialminus": [
            [
             0,
             "#0d0887"
            ],
            [
             0.1111111111111111,
             "#46039f"
            ],
            [
             0.2222222222222222,
             "#7201a8"
            ],
            [
             0.3333333333333333,
             "#9c179e"
            ],
            [
             0.4444444444444444,
             "#bd3786"
            ],
            [
             0.5555555555555556,
             "#d8576b"
            ],
            [
             0.6666666666666666,
             "#ed7953"
            ],
            [
             0.7777777777777778,
             "#fb9f3a"
            ],
            [
             0.8888888888888888,
             "#fdca26"
            ],
            [
             1,
             "#f0f921"
            ]
           ]
          },
          "colorway": [
           "#636efa",
           "#EF553B",
           "#00cc96",
           "#ab63fa",
           "#FFA15A",
           "#19d3f3",
           "#FF6692",
           "#B6E880",
           "#FF97FF",
           "#FECB52"
          ],
          "font": {
           "color": "#2a3f5f"
          },
          "geo": {
           "bgcolor": "white",
           "lakecolor": "white",
           "landcolor": "#E5ECF6",
           "showlakes": true,
           "showland": true,
           "subunitcolor": "white"
          },
          "hoverlabel": {
           "align": "left"
          },
          "hovermode": "closest",
          "mapbox": {
           "style": "light"
          },
          "paper_bgcolor": "white",
          "plot_bgcolor": "#E5ECF6",
          "polar": {
           "angularaxis": {
            "gridcolor": "white",
            "linecolor": "white",
            "ticks": ""
           },
           "bgcolor": "#E5ECF6",
           "radialaxis": {
            "gridcolor": "white",
            "linecolor": "white",
            "ticks": ""
           }
          },
          "scene": {
           "xaxis": {
            "backgroundcolor": "#E5ECF6",
            "gridcolor": "white",
            "gridwidth": 2,
            "linecolor": "white",
            "showbackground": true,
            "ticks": "",
            "zerolinecolor": "white"
           },
           "yaxis": {
            "backgroundcolor": "#E5ECF6",
            "gridcolor": "white",
            "gridwidth": 2,
            "linecolor": "white",
            "showbackground": true,
            "ticks": "",
            "zerolinecolor": "white"
           },
           "zaxis": {
            "backgroundcolor": "#E5ECF6",
            "gridcolor": "white",
            "gridwidth": 2,
            "linecolor": "white",
            "showbackground": true,
            "ticks": "",
            "zerolinecolor": "white"
           }
          },
          "shapedefaults": {
           "line": {
            "color": "#2a3f5f"
           }
          },
          "ternary": {
           "aaxis": {
            "gridcolor": "white",
            "linecolor": "white",
            "ticks": ""
           },
           "baxis": {
            "gridcolor": "white",
            "linecolor": "white",
            "ticks": ""
           },
           "bgcolor": "#E5ECF6",
           "caxis": {
            "gridcolor": "white",
            "linecolor": "white",
            "ticks": ""
           }
          },
          "title": {
           "x": 0.05
          },
          "xaxis": {
           "automargin": true,
           "gridcolor": "white",
           "linecolor": "white",
           "ticks": "",
           "title": {
            "standoff": 15
           },
           "zerolinecolor": "white",
           "zerolinewidth": 2
          },
          "yaxis": {
           "automargin": true,
           "gridcolor": "white",
           "linecolor": "white",
           "ticks": "",
           "title": {
            "standoff": 15
           },
           "zerolinecolor": "white",
           "zerolinewidth": 2
          }
         }
        },
        "xaxis": {
         "anchor": "y",
         "domain": [
          0,
          1
         ],
         "title": {
          "text": "x"
         }
        },
        "yaxis": {
         "anchor": "x",
         "domain": [
          0,
          1
         ],
         "title": {
          "text": "y"
         }
        }
       }
      }
     },
     "metadata": {},
     "output_type": "display_data"
    }
   ],
   "source": [
    "fig = px.scatter(x=data[:,0], y=data[:,1],hover_name=laser_names)\n",
    "fig.show()"
   ]
  },
  {
   "cell_type": "code",
   "execution_count": 66,
   "metadata": {},
   "outputs": [
    {
     "data": {
      "text/plain": [
       "dict_keys(['Color', 'Selected', 'beamCaptures', 'date', 'directory', 'imagePointInCamera', 'laserAddress', 'linesWithCommonPointSolveResult', 'parameters', 'time', 'timestamp'])"
      ]
     },
     "execution_count": 66,
     "metadata": {},
     "output_type": "execute_result"
    }
   ],
   "source": [
    "def get_laser_capture(camera_capture, laserAddress):\n",
    "\tfor laser_capture in camera_capture['laserCaptures']['captures']:\n",
    "\t\tif int(laser_capture['laserAddress']) == laserAddress:\n",
    "\t\t\treturn laser_capture\n",
    "\n",
    "get_laser_capture(first_camera, 22).keys()"
   ]
  },
  {
   "cell_type": "code",
   "execution_count": null,
   "metadata": {},
   "outputs": [],
   "source": []
  },
  {
   "cell_type": "code",
   "execution_count": 67,
   "metadata": {},
   "outputs": [],
   "source": [
    "# gather data\n",
    "data_points = []\n",
    "for camera_capture in calibrate_node['Content']['cameraCaptures']['captures']:\n",
    "\tfor laser_capture in camera_capture['laserCaptures']['captures']:\n",
    "\t\tif laser_capture['Selected']:\n",
    "\t\t\tdata_point = {}\n",
    "\t\t\tdata_point['Camera'] = \"{0} {1}\".format(camera_capture['date'], camera_capture['time'])\n",
    "\t\t\tdata_point['x'] = laser_capture['imagePointInCamera'][0]\n",
    "\t\t\tdata_point['y'] = laser_capture['imagePointInCamera'][1]\n",
    "\t\t\tdata_point['Laser'] = \"Laser {0}\".format(laser_capture['laserAddress'])\n",
    "\t\t\t\n",
    "\t\t\tif 'residual' in data_point:\n",
    "\t\t\t\tdata_point['residual'] = laser_capture['laserAddress']\n",
    "\t\t\telse:\n",
    "\t\t\t\tdata_point['residual'] = 0\n",
    "\t\t\t\t\n",
    "\t\t\t#count active beam captures\n",
    "\t\t\tactive_beam_capture_count = 0\n",
    "\t\t\tfor beam_capture in laser_capture['beamCaptures']['captures']:\n",
    "\t\t\t\tif beam_capture['Selected']:\n",
    "\t\t\t\t\tactive_beam_capture_count = active_beam_capture_count + 1\n",
    "\t\t\tdata_point['Active beam captures'] = active_beam_capture_count\n",
    "\t\t\t\n",
    "\t\t\tdata_points.append(data_point)\n",
    "\n"
   ]
  },
  {
   "cell_type": "code",
   "execution_count": 68,
   "metadata": {},
   "outputs": [
    {
     "data": {
      "application/vnd.plotly.v1+json": {
       "config": {
        "plotlyServerURL": "https://plot.ly"
       },
       "data": [
        {
         "customdata": [
          [
           9
          ],
          [
           9
          ],
          [
           9
          ],
          [
           9
          ],
          [
           9
          ],
          [
           9
          ],
          [
           9
          ],
          [
           9
          ],
          [
           7
          ],
          [
           5
          ],
          [
           5
          ],
          [
           6
          ],
          [
           9
          ],
          [
           9
          ],
          [
           9
          ],
          [
           9
          ],
          [
           9
          ],
          [
           9
          ],
          [
           9
          ],
          [
           8
          ],
          [
           6
          ],
          [
           9
          ],
          [
           9
          ]
         ],
         "hovertemplate": "<b>%{hovertext}</b><br><br>Camera=Fri 2021.10.01 06:05<br>x=%{x}<br>y=%{y}<br>Active beam captures=%{customdata[0]}<extra></extra>",
         "hovertext": [
          "Laser 1",
          "Laser 3",
          "Laser 4",
          "Laser 5",
          "Laser 6",
          "Laser 7",
          "Laser 8",
          "Laser 10",
          "Laser 11",
          "Laser 12",
          "Laser 14",
          "Laser 15",
          "Laser 16",
          "Laser 17",
          "Laser 18",
          "Laser 19",
          "Laser 21",
          "Laser 24",
          "Laser 28",
          "Laser 36",
          "Laser 37",
          "Laser 38",
          "Laser 39"
         ],
         "legendgroup": "Fri 2021.10.01 06:05",
         "marker": {
          "color": "#636efa",
          "symbol": "circle"
         },
         "mode": "markers",
         "name": "Fri 2021.10.01 06:05",
         "orientation": "v",
         "showlegend": true,
         "type": "scatter",
         "x": [
          4132.197265625,
          5506.76953125,
          6176.45068359375,
          6745.0830078125,
          7284.9609375,
          8019.21435546875,
          8601.0869140625,
          10029.640625,
          10799.90234375,
          11707.5966796875,
          13211.265625,
          14421.736328125,
          15333.697265625,
          20464.8203125,
          25079.744140625,
          27613.0546875,
          -3810.682373046875,
          -37089.98828125,
          -12553.21484375,
          -307.01800537109375,
          422.8003845214844,
          1138.8297119140625,
          1837.0308837890625
         ],
         "xaxis": "x",
         "y": [
          7955.46435546875,
          7905.3876953125,
          7906.359375,
          7894.93017578125,
          7880.3818359375,
          7848.35205078125,
          7814.3701171875,
          7687.0712890625,
          7591.810546875,
          7488.0791015625,
          7177.62060546875,
          6966.005859375,
          6778.97705078125,
          5614.37353515625,
          4157.521484375,
          1776.18310546875,
          -6658.32958984375,
          2402.222900390625,
          7021.16357421875,
          7927.08935546875,
          7950.0966796875,
          7968.43798828125,
          7984.66015625
         ],
         "yaxis": "y"
        },
        {
         "customdata": [
          [
           9
          ],
          [
           9
          ],
          [
           9
          ],
          [
           9
          ],
          [
           9
          ],
          [
           9
          ],
          [
           9
          ],
          [
           9
          ],
          [
           9
          ],
          [
           9
          ],
          [
           9
          ],
          [
           9
          ],
          [
           6
          ],
          [
           7
          ],
          [
           9
          ],
          [
           9
          ],
          [
           7
          ],
          [
           9
          ],
          [
           9
          ],
          [
           7
          ],
          [
           9
          ],
          [
           8
          ],
          [
           9
          ],
          [
           9
          ],
          [
           9
          ],
          [
           9
          ],
          [
           9
          ],
          [
           9
          ],
          [
           7
          ],
          [
           9
          ],
          [
           5
          ],
          [
           6
          ]
         ],
         "hovertemplate": "<b>%{hovertext}</b><br><br>Camera=Fri 2021.10.01 06:25<br>x=%{x}<br>y=%{y}<br>Active beam captures=%{customdata[0]}<extra></extra>",
         "hovertext": [
          "Laser 1",
          "Laser 3",
          "Laser 4",
          "Laser 5",
          "Laser 6",
          "Laser 7",
          "Laser 8",
          "Laser 10",
          "Laser 11",
          "Laser 12",
          "Laser 13",
          "Laser 14",
          "Laser 15",
          "Laser 16",
          "Laser 17",
          "Laser 18",
          "Laser 19",
          "Laser 21",
          "Laser 22",
          "Laser 23",
          "Laser 24",
          "Laser 28",
          "Laser 29",
          "Laser 31",
          "Laser 32",
          "Laser 33",
          "Laser 34",
          "Laser 35",
          "Laser 36",
          "Laser 37",
          "Laser 38",
          "Laser 39"
         ],
         "legendgroup": "Fri 2021.10.01 06:25",
         "marker": {
          "color": "#EF553B",
          "symbol": "circle"
         },
         "mode": "markers",
         "name": "Fri 2021.10.01 06:25",
         "orientation": "v",
         "showlegend": true,
         "type": "scatter",
         "x": [
          27731.296875,
          53613.3828125,
          99692.7421875,
          -4290577.5,
          -62302.96875,
          173883.359375,
          -29672.890625,
          -14421.79296875,
          -11258.3720703125,
          -9561.8984375,
          -7438.94677734375,
          -6157.9970703125,
          -5128.37548828125,
          -4113.611328125,
          -1632.059814453125,
          -1022.3948364257812,
          -308.3406066894531,
          1247.5838623046875,
          1865.74951171875,
          2494.29736328125,
          3238.10791015625,
          5878.22900390625,
          6568.8525390625,
          8039.09033203125,
          8736.271484375,
          9344.560546875,
          10048.40234375,
          10786.45703125,
          11839.28125,
          13020.8349609375,
          14602.8486328125,
          16614.501953125
         ],
         "xaxis": "x",
         "y": [
          3868.389404296875,
          -3497.66162109375,
          -19433.5078125,
          1735885.5,
          59649.1640625,
          235792.328125,
          -4902.56494140625,
          5253.52490234375,
          6117.33154296875,
          6570.580078125,
          6803.94091796875,
          6917.423828125,
          7063.90576171875,
          7175.18994140625,
          7430.52734375,
          7453.9287109375,
          7453.810546875,
          7407.35205078125,
          7397.60791015625,
          7365.923828125,
          7326.52001953125,
          7142.8291015625,
          7096.197265625,
          6966.40625,
          6883.36376953125,
          6820.6650390625,
          6745.818359375,
          6683.40966796875,
          6593.07275390625,
          6453.7783203125,
          6259.59130859375,
          5996.7958984375
         ],
         "yaxis": "y"
        },
        {
         "customdata": [
          [
           7
          ],
          [
           9
          ],
          [
           9
          ],
          [
           9
          ],
          [
           9
          ],
          [
           9
          ],
          [
           9
          ],
          [
           9
          ],
          [
           9
          ],
          [
           9
          ],
          [
           9
          ],
          [
           9
          ],
          [
           8
          ],
          [
           6
          ],
          [
           8
          ],
          [
           8
          ],
          [
           8
          ],
          [
           8
          ],
          [
           9
          ],
          [
           9
          ],
          [
           9
          ],
          [
           9
          ],
          [
           9
          ],
          [
           9
          ],
          [
           8
          ],
          [
           7
          ],
          [
           5
          ]
         ],
         "hovertemplate": "<b>%{hovertext}</b><br><br>Camera=Fri 2021.10.01 06:46<br>x=%{x}<br>y=%{y}<br>Active beam captures=%{customdata[0]}<extra></extra>",
         "hovertext": [
          "Laser 5",
          "Laser 6",
          "Laser 7",
          "Laser 8",
          "Laser 10",
          "Laser 11",
          "Laser 12",
          "Laser 13",
          "Laser 14",
          "Laser 15",
          "Laser 16",
          "Laser 17",
          "Laser 18",
          "Laser 19",
          "Laser 21",
          "Laser 22",
          "Laser 23",
          "Laser 24",
          "Laser 31",
          "Laser 32",
          "Laser 33",
          "Laser 34",
          "Laser 35",
          "Laser 36",
          "Laser 37",
          "Laser 38",
          "Laser 39"
         ],
         "legendgroup": "Fri 2021.10.01 06:46",
         "marker": {
          "color": "#00cc96",
          "symbol": "circle"
         },
         "mode": "markers",
         "name": "Fri 2021.10.01 06:46",
         "orientation": "v",
         "showlegend": true,
         "type": "scatter",
         "x": [
          -1062.8759765625,
          -379.2740173339844,
          515.6588134765625,
          1257.379638671875,
          2884.432373046875,
          3682.666259765625,
          4468.35205078125,
          5268.06005859375,
          5902.9833984375,
          6762.12744140625,
          7520.83544921875,
          10632.955078125,
          12005.05078125,
          13404.154296875,
          17141.53515625,
          19862.017578125,
          22842.859375,
          27742.76171875,
          -24921.291015625,
          -24291.150390625,
          -20586.5703125,
          -18426.5546875,
          -15770.0380859375,
          -14892.1845703125,
          -13243.5078125,
          -11679.2138671875,
          -10130.7578125
         ],
         "xaxis": "x",
         "y": [
          8241.3740234375,
          8234.33984375,
          8210.875,
          8179.3916015625,
          8087.67236328125,
          8026.369140625,
          7973.8447265625,
          7894.673828125,
          7829.52734375,
          7763.98046875,
          7715.67626953125,
          7565.779296875,
          7464.099609375,
          7338.9306640625,
          6875.55224609375,
          6561.36572265625,
          6099.38916015625,
          5265.60302734375,
          -5497.04150390625,
          1853.3709716796875,
          4711.6982421875,
          6028.87548828125,
          6931.75732421875,
          7474.6298828125,
          7794.89794921875,
          7995.87255859375,
          8141.6552734375
         ],
         "yaxis": "y"
        },
        {
         "customdata": [
          [
           9
          ],
          [
           9
          ],
          [
           9
          ],
          [
           7
          ],
          [
           8
          ],
          [
           7
          ],
          [
           8
          ],
          [
           8
          ],
          [
           7
          ],
          [
           8
          ],
          [
           8
          ],
          [
           8
          ],
          [
           8
          ],
          [
           7
          ],
          [
           7
          ],
          [
           6
          ],
          [
           7
          ],
          [
           8
          ],
          [
           4
          ],
          [
           4
          ],
          [
           8
          ],
          [
           7
          ],
          [
           7
          ],
          [
           8
          ],
          [
           8
          ],
          [
           8
          ],
          [
           8
          ],
          [
           8
          ],
          [
           8
          ],
          [
           9
          ]
         ],
         "hovertemplate": "<b>%{hovertext}</b><br><br>Camera=Fri 2021.10.01 07:05<br>x=%{x}<br>y=%{y}<br>Active beam captures=%{customdata[0]}<extra></extra>",
         "hovertext": [
          "Laser 1",
          "Laser 3",
          "Laser 4",
          "Laser 5",
          "Laser 6",
          "Laser 7",
          "Laser 8",
          "Laser 10",
          "Laser 11",
          "Laser 12",
          "Laser 13",
          "Laser 14",
          "Laser 15",
          "Laser 16",
          "Laser 17",
          "Laser 18",
          "Laser 19",
          "Laser 21",
          "Laser 22",
          "Laser 23",
          "Laser 24",
          "Laser 28",
          "Laser 29",
          "Laser 31",
          "Laser 32",
          "Laser 34",
          "Laser 36",
          "Laser 37",
          "Laser 38",
          "Laser 39"
         ],
         "legendgroup": "Fri 2021.10.01 07:05",
         "marker": {
          "color": "#ab63fa",
          "symbol": "circle"
         },
         "mode": "markers",
         "name": "Fri 2021.10.01 07:05",
         "orientation": "v",
         "showlegend": true,
         "type": "scatter",
         "x": [
          -14215.1767578125,
          85829.2265625,
          113192.0078125,
          121766.515625,
          126051.1796875,
          122438.5859375,
          114076.09375,
          95701.1171875,
          86904.5234375,
          78953.4140625,
          68856.4609375,
          62120.0703125,
          56476.14453125,
          51725.90234375,
          36007.265625,
          29263.28125,
          21465.48828125,
          1378.2467041015625,
          -8679.1416015625,
          -19353.25,
          -33077.91015625,
          -94161.984375,
          -118023.8359375,
          -164881.4375,
          -183312.828125,
          -230769.015625,
          -411203.375,
          -533551.25,
          -739517.1875,
          -1020976.625
         ],
         "xaxis": "x",
         "y": [
          717387.4375,
          310302.875,
          264953.78125,
          215307.21875,
          177322.1875,
          129355.2421875,
          95037.9140625,
          41304.8203125,
          22627.208984375,
          7942.57177734375,
          -4155.541015625,
          -11823.873046875,
          -20749.90625,
          -28022.193359375,
          -52963.93359375,
          -59627.05859375,
          -65094.43359375,
          -72003.1875,
          -76411.3671875,
          -78371.765625,
          -78875.4296875,
          -65553.6640625,
          -57489.5078125,
          -22155.94140625,
          3319.088623046875,
          68930.0078125,
          270585.375,
          483276.75,
          922491.8125,
          1784379.625
         ],
         "yaxis": "y"
        }
       ],
       "layout": {
        "legend": {
         "title": {
          "text": "Camera"
         },
         "tracegroupgap": 0
        },
        "margin": {
         "t": 60
        },
        "template": {
         "data": {
          "bar": [
           {
            "error_x": {
             "color": "#2a3f5f"
            },
            "error_y": {
             "color": "#2a3f5f"
            },
            "marker": {
             "line": {
              "color": "#E5ECF6",
              "width": 0.5
             },
             "pattern": {
              "fillmode": "overlay",
              "size": 10,
              "solidity": 0.2
             }
            },
            "type": "bar"
           }
          ],
          "barpolar": [
           {
            "marker": {
             "line": {
              "color": "#E5ECF6",
              "width": 0.5
             },
             "pattern": {
              "fillmode": "overlay",
              "size": 10,
              "solidity": 0.2
             }
            },
            "type": "barpolar"
           }
          ],
          "carpet": [
           {
            "aaxis": {
             "endlinecolor": "#2a3f5f",
             "gridcolor": "white",
             "linecolor": "white",
             "minorgridcolor": "white",
             "startlinecolor": "#2a3f5f"
            },
            "baxis": {
             "endlinecolor": "#2a3f5f",
             "gridcolor": "white",
             "linecolor": "white",
             "minorgridcolor": "white",
             "startlinecolor": "#2a3f5f"
            },
            "type": "carpet"
           }
          ],
          "choropleth": [
           {
            "colorbar": {
             "outlinewidth": 0,
             "ticks": ""
            },
            "type": "choropleth"
           }
          ],
          "contour": [
           {
            "colorbar": {
             "outlinewidth": 0,
             "ticks": ""
            },
            "colorscale": [
             [
              0,
              "#0d0887"
             ],
             [
              0.1111111111111111,
              "#46039f"
             ],
             [
              0.2222222222222222,
              "#7201a8"
             ],
             [
              0.3333333333333333,
              "#9c179e"
             ],
             [
              0.4444444444444444,
              "#bd3786"
             ],
             [
              0.5555555555555556,
              "#d8576b"
             ],
             [
              0.6666666666666666,
              "#ed7953"
             ],
             [
              0.7777777777777778,
              "#fb9f3a"
             ],
             [
              0.8888888888888888,
              "#fdca26"
             ],
             [
              1,
              "#f0f921"
             ]
            ],
            "type": "contour"
           }
          ],
          "contourcarpet": [
           {
            "colorbar": {
             "outlinewidth": 0,
             "ticks": ""
            },
            "type": "contourcarpet"
           }
          ],
          "heatmap": [
           {
            "colorbar": {
             "outlinewidth": 0,
             "ticks": ""
            },
            "colorscale": [
             [
              0,
              "#0d0887"
             ],
             [
              0.1111111111111111,
              "#46039f"
             ],
             [
              0.2222222222222222,
              "#7201a8"
             ],
             [
              0.3333333333333333,
              "#9c179e"
             ],
             [
              0.4444444444444444,
              "#bd3786"
             ],
             [
              0.5555555555555556,
              "#d8576b"
             ],
             [
              0.6666666666666666,
              "#ed7953"
             ],
             [
              0.7777777777777778,
              "#fb9f3a"
             ],
             [
              0.8888888888888888,
              "#fdca26"
             ],
             [
              1,
              "#f0f921"
             ]
            ],
            "type": "heatmap"
           }
          ],
          "heatmapgl": [
           {
            "colorbar": {
             "outlinewidth": 0,
             "ticks": ""
            },
            "colorscale": [
             [
              0,
              "#0d0887"
             ],
             [
              0.1111111111111111,
              "#46039f"
             ],
             [
              0.2222222222222222,
              "#7201a8"
             ],
             [
              0.3333333333333333,
              "#9c179e"
             ],
             [
              0.4444444444444444,
              "#bd3786"
             ],
             [
              0.5555555555555556,
              "#d8576b"
             ],
             [
              0.6666666666666666,
              "#ed7953"
             ],
             [
              0.7777777777777778,
              "#fb9f3a"
             ],
             [
              0.8888888888888888,
              "#fdca26"
             ],
             [
              1,
              "#f0f921"
             ]
            ],
            "type": "heatmapgl"
           }
          ],
          "histogram": [
           {
            "marker": {
             "pattern": {
              "fillmode": "overlay",
              "size": 10,
              "solidity": 0.2
             }
            },
            "type": "histogram"
           }
          ],
          "histogram2d": [
           {
            "colorbar": {
             "outlinewidth": 0,
             "ticks": ""
            },
            "colorscale": [
             [
              0,
              "#0d0887"
             ],
             [
              0.1111111111111111,
              "#46039f"
             ],
             [
              0.2222222222222222,
              "#7201a8"
             ],
             [
              0.3333333333333333,
              "#9c179e"
             ],
             [
              0.4444444444444444,
              "#bd3786"
             ],
             [
              0.5555555555555556,
              "#d8576b"
             ],
             [
              0.6666666666666666,
              "#ed7953"
             ],
             [
              0.7777777777777778,
              "#fb9f3a"
             ],
             [
              0.8888888888888888,
              "#fdca26"
             ],
             [
              1,
              "#f0f921"
             ]
            ],
            "type": "histogram2d"
           }
          ],
          "histogram2dcontour": [
           {
            "colorbar": {
             "outlinewidth": 0,
             "ticks": ""
            },
            "colorscale": [
             [
              0,
              "#0d0887"
             ],
             [
              0.1111111111111111,
              "#46039f"
             ],
             [
              0.2222222222222222,
              "#7201a8"
             ],
             [
              0.3333333333333333,
              "#9c179e"
             ],
             [
              0.4444444444444444,
              "#bd3786"
             ],
             [
              0.5555555555555556,
              "#d8576b"
             ],
             [
              0.6666666666666666,
              "#ed7953"
             ],
             [
              0.7777777777777778,
              "#fb9f3a"
             ],
             [
              0.8888888888888888,
              "#fdca26"
             ],
             [
              1,
              "#f0f921"
             ]
            ],
            "type": "histogram2dcontour"
           }
          ],
          "mesh3d": [
           {
            "colorbar": {
             "outlinewidth": 0,
             "ticks": ""
            },
            "type": "mesh3d"
           }
          ],
          "parcoords": [
           {
            "line": {
             "colorbar": {
              "outlinewidth": 0,
              "ticks": ""
             }
            },
            "type": "parcoords"
           }
          ],
          "pie": [
           {
            "automargin": true,
            "type": "pie"
           }
          ],
          "scatter": [
           {
            "fillpattern": {
             "fillmode": "overlay",
             "size": 10,
             "solidity": 0.2
            },
            "type": "scatter"
           }
          ],
          "scatter3d": [
           {
            "line": {
             "colorbar": {
              "outlinewidth": 0,
              "ticks": ""
             }
            },
            "marker": {
             "colorbar": {
              "outlinewidth": 0,
              "ticks": ""
             }
            },
            "type": "scatter3d"
           }
          ],
          "scattercarpet": [
           {
            "marker": {
             "colorbar": {
              "outlinewidth": 0,
              "ticks": ""
             }
            },
            "type": "scattercarpet"
           }
          ],
          "scattergeo": [
           {
            "marker": {
             "colorbar": {
              "outlinewidth": 0,
              "ticks": ""
             }
            },
            "type": "scattergeo"
           }
          ],
          "scattergl": [
           {
            "marker": {
             "colorbar": {
              "outlinewidth": 0,
              "ticks": ""
             }
            },
            "type": "scattergl"
           }
          ],
          "scattermapbox": [
           {
            "marker": {
             "colorbar": {
              "outlinewidth": 0,
              "ticks": ""
             }
            },
            "type": "scattermapbox"
           }
          ],
          "scatterpolar": [
           {
            "marker": {
             "colorbar": {
              "outlinewidth": 0,
              "ticks": ""
             }
            },
            "type": "scatterpolar"
           }
          ],
          "scatterpolargl": [
           {
            "marker": {
             "colorbar": {
              "outlinewidth": 0,
              "ticks": ""
             }
            },
            "type": "scatterpolargl"
           }
          ],
          "scatterternary": [
           {
            "marker": {
             "colorbar": {
              "outlinewidth": 0,
              "ticks": ""
             }
            },
            "type": "scatterternary"
           }
          ],
          "surface": [
           {
            "colorbar": {
             "outlinewidth": 0,
             "ticks": ""
            },
            "colorscale": [
             [
              0,
              "#0d0887"
             ],
             [
              0.1111111111111111,
              "#46039f"
             ],
             [
              0.2222222222222222,
              "#7201a8"
             ],
             [
              0.3333333333333333,
              "#9c179e"
             ],
             [
              0.4444444444444444,
              "#bd3786"
             ],
             [
              0.5555555555555556,
              "#d8576b"
             ],
             [
              0.6666666666666666,
              "#ed7953"
             ],
             [
              0.7777777777777778,
              "#fb9f3a"
             ],
             [
              0.8888888888888888,
              "#fdca26"
             ],
             [
              1,
              "#f0f921"
             ]
            ],
            "type": "surface"
           }
          ],
          "table": [
           {
            "cells": {
             "fill": {
              "color": "#EBF0F8"
             },
             "line": {
              "color": "white"
             }
            },
            "header": {
             "fill": {
              "color": "#C8D4E3"
             },
             "line": {
              "color": "white"
             }
            },
            "type": "table"
           }
          ]
         },
         "layout": {
          "annotationdefaults": {
           "arrowcolor": "#2a3f5f",
           "arrowhead": 0,
           "arrowwidth": 1
          },
          "autotypenumbers": "strict",
          "coloraxis": {
           "colorbar": {
            "outlinewidth": 0,
            "ticks": ""
           }
          },
          "colorscale": {
           "diverging": [
            [
             0,
             "#8e0152"
            ],
            [
             0.1,
             "#c51b7d"
            ],
            [
             0.2,
             "#de77ae"
            ],
            [
             0.3,
             "#f1b6da"
            ],
            [
             0.4,
             "#fde0ef"
            ],
            [
             0.5,
             "#f7f7f7"
            ],
            [
             0.6,
             "#e6f5d0"
            ],
            [
             0.7,
             "#b8e186"
            ],
            [
             0.8,
             "#7fbc41"
            ],
            [
             0.9,
             "#4d9221"
            ],
            [
             1,
             "#276419"
            ]
           ],
           "sequential": [
            [
             0,
             "#0d0887"
            ],
            [
             0.1111111111111111,
             "#46039f"
            ],
            [
             0.2222222222222222,
             "#7201a8"
            ],
            [
             0.3333333333333333,
             "#9c179e"
            ],
            [
             0.4444444444444444,
             "#bd3786"
            ],
            [
             0.5555555555555556,
             "#d8576b"
            ],
            [
             0.6666666666666666,
             "#ed7953"
            ],
            [
             0.7777777777777778,
             "#fb9f3a"
            ],
            [
             0.8888888888888888,
             "#fdca26"
            ],
            [
             1,
             "#f0f921"
            ]
           ],
           "sequentialminus": [
            [
             0,
             "#0d0887"
            ],
            [
             0.1111111111111111,
             "#46039f"
            ],
            [
             0.2222222222222222,
             "#7201a8"
            ],
            [
             0.3333333333333333,
             "#9c179e"
            ],
            [
             0.4444444444444444,
             "#bd3786"
            ],
            [
             0.5555555555555556,
             "#d8576b"
            ],
            [
             0.6666666666666666,
             "#ed7953"
            ],
            [
             0.7777777777777778,
             "#fb9f3a"
            ],
            [
             0.8888888888888888,
             "#fdca26"
            ],
            [
             1,
             "#f0f921"
            ]
           ]
          },
          "colorway": [
           "#636efa",
           "#EF553B",
           "#00cc96",
           "#ab63fa",
           "#FFA15A",
           "#19d3f3",
           "#FF6692",
           "#B6E880",
           "#FF97FF",
           "#FECB52"
          ],
          "font": {
           "color": "#2a3f5f"
          },
          "geo": {
           "bgcolor": "white",
           "lakecolor": "white",
           "landcolor": "#E5ECF6",
           "showlakes": true,
           "showland": true,
           "subunitcolor": "white"
          },
          "hoverlabel": {
           "align": "left"
          },
          "hovermode": "closest",
          "mapbox": {
           "style": "light"
          },
          "paper_bgcolor": "white",
          "plot_bgcolor": "#E5ECF6",
          "polar": {
           "angularaxis": {
            "gridcolor": "white",
            "linecolor": "white",
            "ticks": ""
           },
           "bgcolor": "#E5ECF6",
           "radialaxis": {
            "gridcolor": "white",
            "linecolor": "white",
            "ticks": ""
           }
          },
          "scene": {
           "xaxis": {
            "backgroundcolor": "#E5ECF6",
            "gridcolor": "white",
            "gridwidth": 2,
            "linecolor": "white",
            "showbackground": true,
            "ticks": "",
            "zerolinecolor": "white"
           },
           "yaxis": {
            "backgroundcolor": "#E5ECF6",
            "gridcolor": "white",
            "gridwidth": 2,
            "linecolor": "white",
            "showbackground": true,
            "ticks": "",
            "zerolinecolor": "white"
           },
           "zaxis": {
            "backgroundcolor": "#E5ECF6",
            "gridcolor": "white",
            "gridwidth": 2,
            "linecolor": "white",
            "showbackground": true,
            "ticks": "",
            "zerolinecolor": "white"
           }
          },
          "shapedefaults": {
           "line": {
            "color": "#2a3f5f"
           }
          },
          "ternary": {
           "aaxis": {
            "gridcolor": "white",
            "linecolor": "white",
            "ticks": ""
           },
           "baxis": {
            "gridcolor": "white",
            "linecolor": "white",
            "ticks": ""
           },
           "bgcolor": "#E5ECF6",
           "caxis": {
            "gridcolor": "white",
            "linecolor": "white",
            "ticks": ""
           }
          },
          "title": {
           "x": 0.05
          },
          "xaxis": {
           "automargin": true,
           "gridcolor": "white",
           "linecolor": "white",
           "ticks": "",
           "title": {
            "standoff": 15
           },
           "zerolinecolor": "white",
           "zerolinewidth": 2
          },
          "yaxis": {
           "automargin": true,
           "gridcolor": "white",
           "linecolor": "white",
           "ticks": "",
           "title": {
            "standoff": 15
           },
           "zerolinecolor": "white",
           "zerolinewidth": 2
          }
         }
        },
        "xaxis": {
         "anchor": "y",
         "domain": [
          0,
          1
         ],
         "title": {
          "text": "x"
         }
        },
        "yaxis": {
         "anchor": "x",
         "autorange": "reversed",
         "domain": [
          0,
          1
         ],
         "title": {
          "text": "y"
         }
        }
       }
      }
     },
     "metadata": {},
     "output_type": "display_data"
    }
   ],
   "source": [
    "fig = px.scatter(data_points\n",
    "\t, x='x'\n",
    "\t, y='y'\n",
    "\t, hover_name='Laser'\n",
    "\t, hover_data=['Active beam captures']\n",
    "\t, color='Camera')\n",
    "fig.update_yaxes(autorange=\"reversed\")\n",
    "fig.show()"
   ]
  },
  {
   "cell_type": "code",
   "execution_count": 69,
   "metadata": {},
   "outputs": [],
   "source": [
    "for data_point in data_points:\n",
    "\tif data_point['x'] == 0:\n",
    "\t\tprint(data_point)"
   ]
  },
  {
   "cell_type": "code",
   "execution_count": 70,
   "metadata": {},
   "outputs": [
    {
     "data": {
      "text/plain": [
       "'Fri 2021.10.01'"
      ]
     },
     "execution_count": 70,
     "metadata": {},
     "output_type": "execute_result"
    }
   ],
   "source": [
    "calibrate_node['Content']['cameraCaptures']['captures'][0]['date']"
   ]
  },
  {
   "cell_type": "code",
   "execution_count": 72,
   "metadata": {},
   "outputs": [
    {
     "data": {
      "application/vnd.plotly.v1+json": {
       "config": {
        "plotlyServerURL": "https://plot.ly"
       },
       "data": [
        {
         "alignmentgroup": "True",
         "customdata": [
          [
           0,
           -0.5,
           -0.5
          ],
          [
           0,
           0,
           -0.5
          ],
          [
           0,
           0.5,
           -0.5
          ],
          [
           0,
           -0.5,
           0
          ],
          [
           0,
           0,
           0
          ],
          [
           0,
           0.5,
           0
          ],
          [
           0,
           -0.5,
           0.5
          ],
          [
           0,
           0,
           0.5
          ],
          [
           0,
           0.5,
           0.5
          ],
          [
           0,
           -0.5,
           -0.5
          ],
          [
           0,
           0,
           -0.5
          ],
          [
           0,
           0.5,
           -0.5
          ],
          [
           0,
           -0.5,
           0
          ],
          [
           0,
           0,
           0
          ],
          [
           0,
           0.5,
           0
          ],
          [
           0,
           -0.5,
           0.5
          ],
          [
           0,
           0,
           0.5
          ],
          [
           0,
           0.5,
           0.5
          ],
          [
           0,
           -0.5,
           -0.5
          ],
          [
           0,
           0,
           -0.5
          ],
          [
           0,
           0.5,
           -0.5
          ],
          [
           0,
           -0.5,
           0
          ],
          [
           0,
           0,
           0
          ],
          [
           0,
           0.5,
           0
          ],
          [
           0,
           -0.5,
           0.5
          ],
          [
           0,
           0,
           0.5
          ],
          [
           0,
           0.5,
           0.5
          ],
          [
           0,
           -0.5,
           -0.5
          ],
          [
           0,
           0,
           -0.5
          ],
          [
           0,
           0.5,
           -0.5
          ],
          [
           0,
           -0.5,
           0
          ],
          [
           0,
           0,
           0
          ],
          [
           0,
           0.5,
           0
          ],
          [
           0,
           -0.5,
           0.5
          ],
          [
           0,
           0,
           0.5
          ],
          [
           0,
           0.5,
           0.5
          ],
          [
           0,
           -0.5,
           -0.5
          ],
          [
           0,
           0,
           -0.5
          ],
          [
           0,
           0.5,
           -0.5
          ],
          [
           0,
           -0.5,
           0
          ],
          [
           0,
           0,
           0
          ],
          [
           0,
           0.5,
           0
          ],
          [
           0,
           -0.5,
           0.5
          ],
          [
           0,
           0,
           0.5
          ],
          [
           0,
           0.5,
           0.5
          ],
          [
           0,
           -0.5,
           -0.5
          ],
          [
           0,
           0,
           -0.5
          ],
          [
           0,
           0.5,
           -0.5
          ],
          [
           0,
           -0.5,
           0
          ],
          [
           0,
           0,
           0
          ],
          [
           0,
           0.5,
           0
          ],
          [
           0,
           -0.5,
           0.5
          ],
          [
           0,
           0,
           0.5
          ],
          [
           0,
           0.5,
           0.5
          ],
          [
           0,
           -0.5,
           -0.5
          ],
          [
           0,
           0,
           -0.5
          ],
          [
           0,
           0.5,
           -0.5
          ],
          [
           0,
           -0.5,
           0
          ],
          [
           0,
           0,
           0
          ],
          [
           0,
           0.5,
           0
          ],
          [
           0,
           -0.5,
           0.5
          ],
          [
           0,
           0,
           0.5
          ],
          [
           0,
           0.5,
           0.5
          ],
          [
           0,
           -0.5,
           -0.5
          ],
          [
           0,
           0,
           -0.5
          ],
          [
           0,
           0.5,
           -0.5
          ],
          [
           0,
           -0.5,
           0
          ],
          [
           0,
           0,
           0
          ],
          [
           0,
           0.5,
           0
          ],
          [
           0,
           -0.5,
           0.5
          ],
          [
           0,
           0,
           0.5
          ],
          [
           0,
           0.5,
           0.5
          ],
          [
           0,
           -0.5,
           -0.5
          ],
          [
           0,
           0,
           -0.5
          ],
          [
           0,
           0.5,
           -0.5
          ],
          [
           0,
           -0.5,
           0
          ],
          [
           0,
           0,
           0
          ],
          [
           0,
           0.5,
           0
          ],
          [
           0,
           0.5,
           0.5
          ],
          [
           0,
           -0.5,
           -0.5
          ],
          [
           0,
           0,
           -0.5
          ],
          [
           0,
           0.5,
           -0.5
          ],
          [
           0,
           0,
           0
          ],
          [
           0,
           0.5,
           0.5
          ],
          [
           0,
           -0.5,
           -0.5
          ],
          [
           0,
           0,
           -0.5
          ],
          [
           0,
           0.5,
           -0.5
          ],
          [
           0,
           0,
           0
          ],
          [
           0,
           0.5,
           0.5
          ],
          [
           0,
           -0.5,
           -0.5
          ],
          [
           0,
           0,
           -0.5
          ],
          [
           0,
           0.5,
           -0.5
          ],
          [
           0,
           -0.5,
           0
          ],
          [
           0,
           0,
           0
          ],
          [
           0,
           0.5,
           0
          ],
          [
           0,
           -0.5,
           -0.5
          ],
          [
           0,
           0,
           -0.5
          ],
          [
           0,
           0.5,
           -0.5
          ],
          [
           0,
           -0.5,
           0
          ],
          [
           0,
           0,
           0
          ],
          [
           0,
           0.5,
           0
          ],
          [
           0,
           -0.5,
           0.5
          ],
          [
           0,
           0,
           0.5
          ],
          [
           0,
           0.5,
           0.5
          ],
          [
           0,
           -0.5,
           -0.5
          ],
          [
           0,
           0,
           -0.5
          ],
          [
           0,
           0.5,
           -0.5
          ],
          [
           0,
           -0.5,
           0
          ],
          [
           0,
           0,
           0
          ],
          [
           0,
           0.5,
           0
          ],
          [
           0,
           -0.5,
           0.5
          ],
          [
           0,
           0,
           0.5
          ],
          [
           0,
           0.5,
           0.5
          ],
          [
           0,
           -0.5,
           -0.5
          ],
          [
           0,
           0,
           -0.5
          ],
          [
           0,
           0.5,
           -0.5
          ],
          [
           0,
           -0.5,
           0
          ],
          [
           0,
           0,
           0
          ],
          [
           0,
           0.5,
           0
          ],
          [
           0,
           -0.5,
           0.5
          ],
          [
           0,
           0,
           0.5
          ],
          [
           0,
           0.5,
           0.5
          ],
          [
           0,
           -0.5,
           -0.5
          ],
          [
           0,
           0,
           -0.5
          ],
          [
           0,
           0.5,
           -0.5
          ],
          [
           0,
           -0.5,
           0
          ],
          [
           0,
           0,
           0
          ],
          [
           0,
           0.5,
           0
          ],
          [
           0,
           -0.5,
           0.5
          ],
          [
           0,
           0,
           0.5
          ],
          [
           0,
           0.5,
           0.5
          ],
          [
           0,
           -0.5,
           -0.5
          ],
          [
           0,
           0,
           -0.5
          ],
          [
           0,
           0.5,
           -0.5
          ],
          [
           0,
           -0.5,
           0
          ],
          [
           0,
           0,
           0
          ],
          [
           0,
           0.5,
           0
          ],
          [
           0,
           -0.5,
           0.5
          ],
          [
           0,
           0,
           0.5
          ],
          [
           0,
           0.5,
           0.5
          ],
          [
           0,
           -0.5,
           -0.5
          ],
          [
           0,
           0,
           -0.5
          ],
          [
           0,
           0.5,
           -0.5
          ],
          [
           0,
           -0.5,
           0
          ],
          [
           0,
           0,
           0
          ],
          [
           0,
           0.5,
           0
          ],
          [
           0,
           -0.5,
           0.5
          ],
          [
           0,
           0,
           0.5
          ],
          [
           0,
           0.5,
           0.5
          ],
          [
           0,
           -0.5,
           -0.5
          ],
          [
           0,
           0,
           -0.5
          ],
          [
           0,
           0.5,
           -0.5
          ],
          [
           0,
           -0.5,
           0
          ],
          [
           0,
           0,
           0
          ],
          [
           0,
           0.5,
           0
          ],
          [
           0,
           -0.5,
           0.5
          ],
          [
           0,
           0,
           0.5
          ],
          [
           0,
           0.5,
           0.5
          ],
          [
           0,
           -0.5,
           -0.5
          ],
          [
           0,
           0,
           -0.5
          ],
          [
           0,
           0.5,
           -0.5
          ],
          [
           0,
           -0.5,
           0
          ],
          [
           0,
           0,
           0
          ],
          [
           0,
           0.5,
           0
          ],
          [
           0,
           -0.5,
           0.5
          ],
          [
           0,
           0,
           0.5
          ],
          [
           0,
           -0.5,
           -0.5
          ],
          [
           0,
           0,
           -0.5
          ],
          [
           0,
           0.5,
           -0.5
          ],
          [
           0,
           -0.5,
           0
          ],
          [
           0,
           0,
           0
          ],
          [
           0,
           0.5,
           0
          ],
          [
           0,
           -0.5,
           -0.5
          ],
          [
           0,
           0,
           -0.5
          ],
          [
           0,
           0.5,
           -0.5
          ],
          [
           0,
           -0.5,
           0
          ],
          [
           0,
           0,
           0
          ],
          [
           0,
           0.5,
           0
          ],
          [
           0,
           -0.5,
           0.5
          ],
          [
           0,
           0,
           0.5
          ],
          [
           0,
           0.5,
           0.5
          ],
          [
           0,
           -0.5,
           -0.5
          ],
          [
           0,
           0,
           -0.5
          ],
          [
           0,
           0.5,
           -0.5
          ],
          [
           0,
           -0.5,
           0
          ],
          [
           0,
           0,
           0
          ],
          [
           0,
           0.5,
           0
          ],
          [
           0,
           -0.5,
           0.5
          ],
          [
           0,
           0,
           0.5
          ],
          [
           0,
           0.5,
           0.5
          ],
          [
           0,
           -0.5,
           -0.5
          ],
          [
           0,
           0,
           -0.5
          ],
          [
           0,
           0.5,
           -0.5
          ],
          [
           0,
           -0.5,
           0
          ],
          [
           0,
           0,
           0
          ],
          [
           0,
           0.5,
           0
          ],
          [
           0,
           -0.5,
           0.5
          ],
          [
           0,
           0,
           0.5
          ],
          [
           0,
           0.5,
           0.5
          ],
          [
           0,
           -0.5,
           -0.5
          ],
          [
           0,
           0,
           -0.5
          ],
          [
           0,
           0.5,
           -0.5
          ],
          [
           0,
           -0.5,
           0
          ],
          [
           0,
           0,
           0
          ],
          [
           0,
           0.5,
           0
          ],
          [
           0,
           -0.5,
           0.5
          ],
          [
           0,
           0,
           0.5
          ],
          [
           0,
           0.5,
           0.5
          ],
          [
           0,
           -0.5,
           -0.5
          ],
          [
           0,
           0,
           -0.5
          ],
          [
           0,
           0.5,
           -0.5
          ],
          [
           0,
           -0.5,
           0
          ],
          [
           0,
           0,
           0
          ],
          [
           0,
           0.5,
           0
          ],
          [
           0,
           -0.5,
           0.5
          ],
          [
           0,
           0,
           0.5
          ],
          [
           0,
           0.5,
           0.5
          ],
          [
           0,
           -0.5,
           -0.5
          ],
          [
           0,
           0,
           -0.5
          ],
          [
           0,
           0.5,
           -0.5
          ],
          [
           0,
           -0.5,
           0
          ],
          [
           0,
           0,
           0
          ],
          [
           0,
           0.5,
           0
          ],
          [
           0,
           -0.5,
           0.5
          ],
          [
           0,
           0,
           0.5
          ],
          [
           0,
           0.5,
           0.5
          ],
          [
           0,
           -0.5,
           -0.5
          ],
          [
           0,
           0,
           -0.5
          ],
          [
           0,
           0.5,
           -0.5
          ],
          [
           0,
           -0.5,
           0
          ],
          [
           0,
           0,
           0
          ],
          [
           0,
           0.5,
           0
          ],
          [
           0,
           -0.5,
           0.5
          ],
          [
           0,
           0,
           0.5
          ],
          [
           0,
           0.5,
           0.5
          ],
          [
           0,
           -0.5,
           -0.5
          ],
          [
           0,
           0,
           -0.5
          ],
          [
           0,
           0.5,
           -0.5
          ],
          [
           0,
           -0.5,
           0
          ],
          [
           0,
           0,
           0
          ],
          [
           0,
           0.5,
           0
          ],
          [
           0,
           -0.5,
           0.5
          ],
          [
           0,
           0,
           0.5
          ],
          [
           0,
           0.5,
           0.5
          ],
          [
           0,
           -0.5,
           -0.5
          ],
          [
           0,
           0,
           -0.5
          ],
          [
           0,
           0.5,
           -0.5
          ],
          [
           0,
           -0.5,
           0
          ],
          [
           0,
           0,
           0
          ],
          [
           0,
           0.5,
           0
          ],
          [
           0,
           -0.5,
           0.5
          ],
          [
           0,
           0,
           0.5
          ],
          [
           0,
           0.5,
           0.5
          ],
          [
           0,
           -0.5,
           -0.5
          ],
          [
           0,
           0,
           -0.5
          ],
          [
           0,
           0.5,
           -0.5
          ],
          [
           0,
           -0.5,
           0
          ],
          [
           0,
           0,
           0
          ],
          [
           0,
           0.5,
           0
          ],
          [
           0,
           -0.5,
           0.5
          ],
          [
           0,
           0,
           0.5
          ],
          [
           0,
           0.5,
           0.5
          ],
          [
           0,
           -0.5,
           -0.5
          ],
          [
           0,
           0,
           -0.5
          ],
          [
           0,
           0.5,
           -0.5
          ],
          [
           0,
           -0.5,
           0
          ],
          [
           0,
           0,
           0
          ],
          [
           0,
           0.5,
           0
          ],
          [
           0,
           -0.5,
           0.5
          ],
          [
           0,
           0,
           0.5
          ],
          [
           0,
           0.5,
           0.5
          ],
          [
           0,
           -0.5,
           -0.5
          ],
          [
           0,
           0,
           -0.5
          ],
          [
           0,
           0.5,
           -0.5
          ],
          [
           0,
           -0.5,
           0
          ],
          [
           0,
           0,
           0
          ],
          [
           0,
           0.5,
           0
          ],
          [
           0,
           -0.5,
           0.5
          ],
          [
           0,
           0,
           0.5
          ],
          [
           0,
           0.5,
           0.5
          ],
          [
           0,
           -0.5,
           -0.5
          ],
          [
           0,
           0,
           -0.5
          ],
          [
           0,
           0.5,
           -0.5
          ],
          [
           0,
           -0.5,
           0
          ],
          [
           0,
           0,
           0
          ],
          [
           0,
           0.5,
           0
          ],
          [
           0,
           -0.5,
           0.5
          ],
          [
           0,
           0,
           0.5
          ],
          [
           0,
           0.5,
           0.5
          ],
          [
           0,
           -0.5,
           -0.5
          ],
          [
           0,
           0,
           -0.5
          ],
          [
           0,
           0.5,
           -0.5
          ],
          [
           0,
           -0.5,
           0
          ],
          [
           0,
           0,
           0
          ],
          [
           0,
           0.5,
           0
          ],
          [
           0,
           -0.5,
           0.5
          ],
          [
           0,
           0,
           0.5
          ],
          [
           0,
           0.5,
           0.5
          ],
          [
           0,
           -0.5,
           -0.5
          ],
          [
           0,
           -0.5,
           0
          ],
          [
           0,
           0,
           0
          ],
          [
           0,
           0.5,
           0
          ],
          [
           0,
           -0.5,
           0.5
          ],
          [
           0,
           0,
           0.5
          ],
          [
           0,
           -0.5,
           -0.5
          ],
          [
           0,
           0,
           -0.5
          ],
          [
           0,
           0.5,
           -0.5
          ],
          [
           0,
           -0.5,
           0
          ],
          [
           0,
           0.5,
           0
          ],
          [
           0,
           -0.5,
           0.5
          ],
          [
           0,
           0,
           0.5
          ],
          [
           0,
           -0.5,
           -0.5
          ],
          [
           0,
           0,
           -0.5
          ],
          [
           0,
           0.5,
           -0.5
          ],
          [
           0,
           -0.5,
           0
          ],
          [
           0,
           0,
           0
          ],
          [
           0,
           0.5,
           0
          ],
          [
           0,
           -0.5,
           0.5
          ],
          [
           0,
           0,
           0.5
          ],
          [
           0,
           0.5,
           0.5
          ],
          [
           0,
           -0.5,
           -0.5
          ],
          [
           0,
           0,
           -0.5
          ],
          [
           0,
           0.5,
           -0.5
          ],
          [
           0,
           -0.5,
           0
          ],
          [
           0,
           0,
           0
          ],
          [
           0,
           0.5,
           0
          ],
          [
           0,
           -0.5,
           0.5
          ],
          [
           0,
           0,
           0.5
          ],
          [
           0,
           0.5,
           0.5
          ],
          [
           0,
           0,
           -0.5
          ],
          [
           0,
           0.5,
           -0.5
          ],
          [
           0,
           -0.5,
           0
          ],
          [
           0,
           0,
           0
          ],
          [
           0,
           0.5,
           0
          ],
          [
           0,
           -0.5,
           0.5
          ],
          [
           0,
           0.5,
           0.5
          ],
          [
           0,
           -0.5,
           -0.5
          ],
          [
           0,
           0,
           -0.5
          ],
          [
           0,
           0.5,
           -0.5
          ],
          [
           0,
           -0.5,
           0
          ],
          [
           0,
           0,
           0
          ],
          [
           0,
           0.5,
           0
          ],
          [
           0,
           -0.5,
           0.5
          ],
          [
           0,
           0,
           0.5
          ],
          [
           0,
           0.5,
           0.5
          ],
          [
           0,
           -0.5,
           -0.5
          ],
          [
           0,
           0,
           -0.5
          ],
          [
           0,
           0.5,
           -0.5
          ],
          [
           0,
           -0.5,
           0
          ],
          [
           0,
           0,
           0
          ],
          [
           0,
           0.5,
           0
          ],
          [
           0,
           -0.5,
           0.5
          ],
          [
           0,
           0,
           0.5
          ],
          [
           0,
           0.5,
           0.5
          ],
          [
           0,
           -0.5,
           -0.5
          ],
          [
           0,
           0,
           -0.5
          ],
          [
           0,
           0.5,
           -0.5
          ],
          [
           0,
           0.5,
           0
          ],
          [
           0,
           -0.5,
           0.5
          ],
          [
           0,
           0,
           0.5
          ],
          [
           0,
           0.5,
           0.5
          ],
          [
           0,
           -0.5,
           -0.5
          ],
          [
           0,
           0,
           -0.5
          ],
          [
           0,
           0.5,
           -0.5
          ],
          [
           0,
           -0.5,
           0
          ],
          [
           0,
           0,
           0
          ],
          [
           0,
           0.5,
           0
          ],
          [
           0,
           -0.5,
           0.5
          ],
          [
           0,
           0,
           0.5
          ],
          [
           0,
           0.5,
           0.5
          ],
          [
           0,
           0,
           -0.5
          ],
          [
           0,
           0.5,
           -0.5
          ],
          [
           0,
           -0.5,
           0
          ],
          [
           0,
           0,
           0
          ],
          [
           0,
           0.5,
           0
          ],
          [
           0,
           -0.5,
           0.5
          ],
          [
           0,
           0,
           0.5
          ],
          [
           0,
           0.5,
           0.5
          ],
          [
           0,
           -0.5,
           -0.5
          ],
          [
           0,
           0,
           -0.5
          ],
          [
           0,
           0.5,
           -0.5
          ],
          [
           0,
           -0.5,
           0
          ],
          [
           0,
           0,
           0
          ],
          [
           0,
           0.5,
           0
          ],
          [
           0,
           -0.5,
           0.5
          ],
          [
           0,
           0,
           0.5
          ],
          [
           0,
           0.5,
           0.5
          ],
          [
           0,
           -0.5,
           -0.5
          ],
          [
           0,
           0,
           -0.5
          ],
          [
           0,
           0.5,
           -0.5
          ],
          [
           0,
           -0.5,
           0
          ],
          [
           0,
           0,
           0
          ],
          [
           0,
           0.5,
           0
          ],
          [
           0,
           -0.5,
           0.5
          ],
          [
           0,
           0,
           0.5
          ],
          [
           0,
           0.5,
           0.5
          ],
          [
           0,
           -0.5,
           -0.5
          ],
          [
           0,
           0,
           -0.5
          ],
          [
           0,
           0.5,
           -0.5
          ],
          [
           0,
           -0.5,
           0
          ],
          [
           0,
           0,
           0
          ],
          [
           0,
           0.5,
           0
          ],
          [
           0,
           -0.5,
           0.5
          ],
          [
           0,
           0,
           0.5
          ],
          [
           0,
           0.5,
           0.5
          ],
          [
           0,
           -0.5,
           -0.5
          ],
          [
           0,
           0,
           -0.5
          ],
          [
           0,
           0.5,
           -0.5
          ],
          [
           0,
           -0.5,
           0
          ],
          [
           0,
           0,
           0
          ],
          [
           0,
           0.5,
           0
          ],
          [
           0,
           -0.5,
           0.5
          ],
          [
           0,
           0,
           0.5
          ],
          [
           0,
           0.5,
           0.5
          ],
          [
           0,
           -0.5,
           -0.5
          ],
          [
           0,
           0,
           -0.5
          ],
          [
           0,
           0.5,
           -0.5
          ],
          [
           0,
           -0.5,
           0
          ],
          [
           0,
           0,
           0
          ],
          [
           0,
           0.5,
           0
          ],
          [
           0,
           -0.5,
           0.5
          ],
          [
           0,
           0,
           0.5
          ],
          [
           0,
           0.5,
           0.5
          ],
          [
           0,
           -0.5,
           -0.5
          ],
          [
           0,
           0,
           -0.5
          ],
          [
           0,
           0.5,
           -0.5
          ],
          [
           0,
           -0.5,
           0
          ],
          [
           0,
           0,
           0
          ],
          [
           0,
           0.5,
           0
          ],
          [
           0,
           -0.5,
           0.5
          ],
          [
           0,
           0,
           0.5
          ],
          [
           0,
           0.5,
           0.5
          ],
          [
           0,
           -0.5,
           -0.5
          ],
          [
           0,
           0,
           -0.5
          ],
          [
           0,
           0.5,
           -0.5
          ],
          [
           0,
           0,
           0
          ],
          [
           0,
           0.5,
           0
          ],
          [
           0,
           -0.5,
           0.5
          ],
          [
           0,
           0.5,
           0.5
          ],
          [
           0,
           -0.5,
           -0.5
          ],
          [
           0,
           0,
           -0.5
          ],
          [
           0,
           0.5,
           -0.5
          ],
          [
           0,
           -0.5,
           0
          ],
          [
           0,
           0,
           0
          ],
          [
           0,
           0.5,
           0
          ],
          [
           0,
           -0.5,
           0.5
          ],
          [
           0,
           0,
           0.5
          ],
          [
           0,
           0.5,
           0.5
          ],
          [
           0,
           0.5,
           -0.5
          ],
          [
           0,
           0,
           0
          ],
          [
           0,
           0.5,
           0
          ],
          [
           0,
           0,
           0.5
          ],
          [
           0,
           0.5,
           0.5
          ],
          [
           0,
           -0.5,
           -0.5
          ],
          [
           0,
           0,
           -0.5
          ],
          [
           0,
           0.5,
           -0.5
          ],
          [
           0,
           0,
           0
          ],
          [
           0,
           0.5,
           0
          ],
          [
           0,
           0.5,
           0.5
          ],
          [
           0,
           0,
           -0.5
          ],
          [
           0,
           0.5,
           -0.5
          ],
          [
           0,
           -0.5,
           0
          ],
          [
           0,
           0,
           0
          ],
          [
           0,
           0.5,
           0
          ],
          [
           0,
           -0.5,
           0.5
          ],
          [
           0,
           0,
           0.5
          ],
          [
           0,
           -0.5,
           -0.5
          ],
          [
           0,
           0,
           -0.5
          ],
          [
           0,
           0.5,
           -0.5
          ],
          [
           0,
           -0.5,
           0
          ],
          [
           0,
           0,
           0
          ],
          [
           0,
           0.5,
           0
          ],
          [
           0,
           -0.5,
           0.5
          ],
          [
           0,
           0,
           0.5
          ],
          [
           0,
           0.5,
           0.5
          ],
          [
           0,
           -0.5,
           -0.5
          ],
          [
           0,
           0,
           -0.5
          ],
          [
           0,
           0.5,
           -0.5
          ],
          [
           0,
           -0.5,
           0
          ],
          [
           0,
           0,
           0
          ],
          [
           0,
           0.5,
           0
          ],
          [
           0,
           -0.5,
           0.5
          ],
          [
           0,
           0,
           0.5
          ],
          [
           0,
           0.5,
           0.5
          ],
          [
           0,
           -0.5,
           -0.5
          ],
          [
           0,
           0,
           -0.5
          ],
          [
           0,
           0.5,
           -0.5
          ],
          [
           0,
           -0.5,
           0
          ],
          [
           0,
           0,
           0
          ],
          [
           0,
           0.5,
           0
          ],
          [
           0,
           -0.5,
           0.5
          ],
          [
           0,
           0,
           0.5
          ],
          [
           0,
           0.5,
           0.5
          ],
          [
           0,
           -0.5,
           -0.5
          ],
          [
           0,
           0,
           -0.5
          ],
          [
           0,
           0.5,
           -0.5
          ],
          [
           0,
           -0.5,
           0
          ],
          [
           0,
           0,
           0
          ],
          [
           0,
           0.5,
           0
          ],
          [
           0,
           -0.5,
           0.5
          ],
          [
           0,
           0,
           0.5
          ],
          [
           0,
           0.5,
           0.5
          ],
          [
           0,
           -0.5,
           -0.5
          ],
          [
           0,
           0,
           -0.5
          ],
          [
           0,
           0.5,
           -0.5
          ],
          [
           0,
           -0.5,
           0
          ],
          [
           0,
           0,
           0
          ],
          [
           0,
           0.5,
           0
          ],
          [
           0,
           -0.5,
           0.5
          ],
          [
           0,
           0,
           0.5
          ],
          [
           0,
           0.5,
           0.5
          ],
          [
           0,
           -0.5,
           -0.5
          ],
          [
           0,
           0,
           -0.5
          ],
          [
           0,
           0.5,
           -0.5
          ],
          [
           0,
           -0.5,
           0
          ],
          [
           0,
           0,
           0
          ],
          [
           0,
           0.5,
           0
          ],
          [
           0,
           -0.5,
           0.5
          ],
          [
           0,
           0,
           0.5
          ],
          [
           0,
           0.5,
           0.5
          ],
          [
           0,
           -0.5,
           -0.5
          ],
          [
           0,
           0,
           -0.5
          ],
          [
           0,
           0.5,
           -0.5
          ],
          [
           0,
           -0.5,
           0
          ],
          [
           0,
           0,
           0
          ],
          [
           0,
           0.5,
           0
          ],
          [
           0,
           -0.5,
           0.5
          ],
          [
           0,
           0,
           0.5
          ],
          [
           0,
           0.5,
           0.5
          ],
          [
           0,
           -0.5,
           -0.5
          ],
          [
           0,
           0,
           -0.5
          ],
          [
           0,
           0.5,
           -0.5
          ],
          [
           0,
           -0.5,
           0
          ],
          [
           0,
           0,
           0
          ],
          [
           0,
           0.5,
           0
          ],
          [
           0,
           -0.5,
           0.5
          ],
          [
           0,
           0,
           0.5
          ],
          [
           0,
           0.5,
           0.5
          ],
          [
           0,
           -0.5,
           -0.5
          ],
          [
           0,
           0,
           -0.5
          ],
          [
           0,
           0.5,
           -0.5
          ],
          [
           0,
           -0.5,
           0
          ],
          [
           0,
           0,
           0
          ],
          [
           0,
           0.5,
           0
          ],
          [
           0,
           -0.5,
           0.5
          ],
          [
           0,
           0,
           0.5
          ],
          [
           0,
           0.5,
           0.5
          ],
          [
           0,
           -0.5,
           -0.5
          ],
          [
           0,
           0,
           -0.5
          ],
          [
           0,
           0.5,
           -0.5
          ],
          [
           0,
           -0.5,
           0
          ],
          [
           0,
           0,
           0
          ],
          [
           0,
           0.5,
           0
          ],
          [
           0,
           -0.5,
           0.5
          ],
          [
           0,
           0,
           0.5
          ],
          [
           0,
           0.5,
           0.5
          ],
          [
           0,
           -0.5,
           -0.5
          ],
          [
           0,
           0,
           -0.5
          ],
          [
           0,
           0.5,
           -0.5
          ],
          [
           0,
           -0.5,
           0
          ],
          [
           0,
           0,
           0
          ],
          [
           0,
           0.5,
           0
          ],
          [
           0,
           -0.5,
           0.5
          ],
          [
           0,
           0,
           0.5
          ],
          [
           0,
           0.5,
           0.5
          ],
          [
           0,
           -0.5,
           -0.5
          ],
          [
           0,
           0,
           -0.5
          ],
          [
           0,
           0.5,
           -0.5
          ],
          [
           0,
           -0.5,
           0
          ],
          [
           0,
           0,
           0
          ],
          [
           0,
           0.5,
           0
          ],
          [
           0,
           0,
           0.5
          ],
          [
           0,
           0.5,
           0.5
          ],
          [
           0,
           -0.5,
           -0.5
          ],
          [
           0,
           0,
           -0.5
          ],
          [
           0,
           0.5,
           -0.5
          ],
          [
           0,
           0,
           0
          ],
          [
           0,
           0.5,
           0
          ],
          [
           0,
           0.5,
           0.5
          ],
          [
           0,
           -0.5,
           -0.5
          ],
          [
           0,
           0,
           -0.5
          ],
          [
           0,
           0.5,
           -0.5
          ],
          [
           0,
           -0.5,
           0
          ],
          [
           0,
           0,
           0
          ],
          [
           0,
           0.5,
           0
          ],
          [
           0,
           0,
           0.5
          ],
          [
           0,
           0.5,
           0.5
          ],
          [
           0,
           -0.5,
           -0.5
          ],
          [
           0,
           0,
           -0.5
          ],
          [
           0,
           0.5,
           -0.5
          ],
          [
           0,
           -0.5,
           0
          ],
          [
           0,
           0,
           0
          ],
          [
           0,
           0.5,
           0
          ],
          [
           0,
           0,
           0.5
          ],
          [
           0,
           0.5,
           0.5
          ],
          [
           0,
           -0.5,
           -0.5
          ],
          [
           0,
           0,
           -0.5
          ],
          [
           0,
           0.5,
           -0.5
          ],
          [
           0,
           -0.5,
           0
          ],
          [
           0,
           0,
           0
          ],
          [
           0,
           0.5,
           0
          ],
          [
           0,
           0,
           0.5
          ],
          [
           0,
           0.5,
           0.5
          ],
          [
           0,
           -0.5,
           -0.5
          ],
          [
           0,
           0,
           -0.5
          ],
          [
           0,
           0.5,
           -0.5
          ],
          [
           0,
           -0.5,
           0
          ],
          [
           0,
           0,
           0
          ],
          [
           0,
           0.5,
           0
          ],
          [
           0,
           0,
           0.5
          ],
          [
           0,
           0.5,
           0.5
          ],
          [
           0,
           -0.5,
           -0.5
          ],
          [
           0,
           0,
           -0.5
          ],
          [
           0,
           0.5,
           -0.5
          ],
          [
           0,
           -0.5,
           0
          ],
          [
           0,
           0,
           0
          ],
          [
           0,
           0.5,
           0
          ],
          [
           0,
           -0.5,
           0.5
          ],
          [
           0,
           0,
           0.5
          ],
          [
           0,
           0.5,
           0.5
          ],
          [
           0,
           -0.5,
           -0.5
          ],
          [
           0,
           0,
           -0.5
          ],
          [
           0,
           0.5,
           -0.5
          ],
          [
           0,
           -0.5,
           0
          ],
          [
           0,
           0,
           0
          ],
          [
           0,
           0.5,
           0
          ],
          [
           0,
           -0.5,
           0.5
          ],
          [
           0,
           0,
           0.5
          ],
          [
           0,
           0.5,
           0.5
          ],
          [
           0,
           -0.5,
           -0.5
          ],
          [
           0,
           0,
           -0.5
          ],
          [
           0,
           0.5,
           -0.5
          ],
          [
           0,
           -0.5,
           0
          ],
          [
           0,
           0,
           0
          ],
          [
           0,
           0.5,
           0
          ],
          [
           0,
           -0.5,
           0.5
          ],
          [
           0,
           0,
           0.5
          ],
          [
           0,
           0.5,
           0.5
          ],
          [
           0,
           -0.5,
           -0.5
          ],
          [
           0,
           0,
           -0.5
          ],
          [
           0,
           0.5,
           -0.5
          ],
          [
           0,
           -0.5,
           0
          ],
          [
           0,
           0,
           0
          ],
          [
           0,
           0.5,
           0
          ],
          [
           0,
           -0.5,
           0.5
          ],
          [
           0,
           0,
           0.5
          ],
          [
           0,
           0.5,
           0.5
          ],
          [
           0,
           -0.5,
           -0.5
          ],
          [
           0,
           0,
           -0.5
          ],
          [
           0,
           0.5,
           -0.5
          ],
          [
           0,
           -0.5,
           0
          ],
          [
           0,
           0,
           0
          ],
          [
           0,
           0.5,
           0
          ],
          [
           0,
           -0.5,
           0.5
          ],
          [
           0,
           0,
           0.5
          ],
          [
           0,
           0.5,
           0.5
          ],
          [
           0,
           -0.5,
           -0.5
          ],
          [
           0,
           0,
           -0.5
          ],
          [
           0,
           0.5,
           -0.5
          ],
          [
           0,
           -0.5,
           0
          ],
          [
           0,
           0,
           0
          ],
          [
           0,
           0.5,
           0
          ],
          [
           0,
           -0.5,
           0.5
          ],
          [
           0,
           0,
           0.5
          ],
          [
           0,
           0.5,
           0.5
          ],
          [
           0,
           -0.5,
           -0.5
          ],
          [
           0,
           0,
           -0.5
          ],
          [
           0,
           0.5,
           -0.5
          ],
          [
           0,
           -0.5,
           0
          ],
          [
           0,
           0,
           0
          ],
          [
           0,
           0.5,
           0
          ],
          [
           0,
           -0.5,
           0.5
          ],
          [
           0,
           0,
           0.5
          ],
          [
           0,
           -0.5,
           -0.5
          ],
          [
           0,
           0,
           -0.5
          ],
          [
           0,
           0.5,
           -0.5
          ],
          [
           0,
           -0.5,
           0
          ],
          [
           0,
           0,
           0
          ],
          [
           0,
           0.5,
           0
          ],
          [
           0,
           -0.5,
           0.5
          ],
          [
           0,
           -0.5,
           -0.5
          ],
          [
           0,
           0,
           -0.5
          ],
          [
           0,
           -0.5,
           0
          ],
          [
           0,
           0.5,
           0
          ],
          [
           0,
           -0.5,
           0.5
          ],
          [
           0,
           -0.5,
           -0.5
          ],
          [
           0,
           0,
           -0.5
          ],
          [
           0,
           0.5,
           -0.5
          ],
          [
           0,
           -0.5,
           0
          ],
          [
           0,
           0,
           0
          ],
          [
           0,
           0.5,
           0
          ],
          [
           0,
           -0.5,
           0.5
          ],
          [
           0,
           0,
           0.5
          ],
          [
           0,
           0.5,
           0.5
          ],
          [
           0,
           -0.5,
           -0.5
          ],
          [
           0,
           0,
           -0.5
          ],
          [
           0,
           0.5,
           -0.5
          ],
          [
           0,
           -0.5,
           0
          ],
          [
           0,
           0,
           0
          ],
          [
           0,
           0.5,
           0
          ],
          [
           0,
           -0.5,
           0.5
          ],
          [
           0,
           0,
           0.5
          ],
          [
           0,
           0.5,
           0.5
          ],
          [
           0,
           -0.5,
           -0.5
          ],
          [
           0,
           0,
           -0.5
          ],
          [
           0,
           0.5,
           -0.5
          ],
          [
           0,
           -0.5,
           0
          ],
          [
           0,
           0,
           0
          ],
          [
           0,
           0.5,
           0
          ],
          [
           0,
           -0.5,
           0.5
          ],
          [
           0,
           0,
           0.5
          ],
          [
           0,
           0.5,
           0.5
          ],
          [
           0,
           0,
           -0.5
          ],
          [
           0,
           -0.5,
           0
          ],
          [
           0,
           0,
           0
          ],
          [
           0,
           0.5,
           0
          ],
          [
           0,
           -0.5,
           0.5
          ],
          [
           0,
           0,
           0.5
          ],
          [
           0,
           0.5,
           0.5
          ],
          [
           0,
           0,
           -0.5
          ],
          [
           0,
           0.5,
           -0.5
          ],
          [
           0,
           -0.5,
           0
          ],
          [
           0,
           0,
           0
          ],
          [
           0,
           0.5,
           0
          ],
          [
           0,
           -0.5,
           0.5
          ],
          [
           0,
           0,
           0.5
          ],
          [
           0,
           0.5,
           0.5
          ],
          [
           0,
           0,
           -0.5
          ],
          [
           0,
           0.5,
           -0.5
          ],
          [
           0,
           -0.5,
           0
          ],
          [
           0,
           0,
           0
          ],
          [
           0,
           0.5,
           0
          ],
          [
           0,
           0,
           0.5
          ],
          [
           0,
           0.5,
           0.5
          ],
          [
           0,
           0,
           -0.5
          ],
          [
           0,
           0.5,
           -0.5
          ],
          [
           0,
           -0.5,
           0
          ],
          [
           0,
           0,
           0
          ],
          [
           0,
           0.5,
           0
          ],
          [
           0,
           -0.5,
           0.5
          ],
          [
           0,
           0,
           0.5
          ],
          [
           0,
           0.5,
           0.5
          ],
          [
           0,
           0,
           -0.5
          ],
          [
           0,
           0.5,
           -0.5
          ],
          [
           0,
           -0.5,
           0
          ],
          [
           0,
           0,
           0
          ],
          [
           0,
           0.5,
           0
          ],
          [
           0,
           -0.5,
           0.5
          ],
          [
           0,
           0,
           0.5
          ],
          [
           0,
           0.5,
           0.5
          ],
          [
           0,
           0,
           -0.5
          ],
          [
           0,
           0.5,
           -0.5
          ],
          [
           0,
           0,
           0
          ],
          [
           0,
           0.5,
           0
          ],
          [
           0,
           -0.5,
           0.5
          ],
          [
           0,
           0,
           0.5
          ],
          [
           0,
           0.5,
           0.5
          ],
          [
           0,
           0,
           -0.5
          ],
          [
           0,
           0.5,
           -0.5
          ],
          [
           0,
           -0.5,
           0
          ],
          [
           0,
           0,
           0
          ],
          [
           0,
           0.5,
           0
          ],
          [
           0,
           -0.5,
           0.5
          ],
          [
           0,
           0,
           0.5
          ],
          [
           0,
           0.5,
           0.5
          ],
          [
           0,
           0,
           -0.5
          ],
          [
           0,
           0.5,
           -0.5
          ],
          [
           0,
           -0.5,
           0
          ],
          [
           0,
           0,
           0
          ],
          [
           0,
           0.5,
           0
          ],
          [
           0,
           -0.5,
           0.5
          ],
          [
           0,
           0,
           0.5
          ],
          [
           0,
           0.5,
           0.5
          ],
          [
           0,
           0,
           -0.5
          ],
          [
           0,
           0.5,
           -0.5
          ],
          [
           0,
           -0.5,
           0
          ],
          [
           0,
           0,
           0
          ],
          [
           0,
           0.5,
           0
          ],
          [
           0,
           -0.5,
           0.5
          ],
          [
           0,
           0,
           0.5
          ],
          [
           0,
           0.5,
           0.5
          ],
          [
           0,
           0,
           -0.5
          ],
          [
           0,
           0.5,
           -0.5
          ],
          [
           0,
           -0.5,
           0
          ],
          [
           0,
           0,
           0
          ],
          [
           0,
           0.5,
           0
          ],
          [
           0,
           -0.5,
           0.5
          ],
          [
           0,
           0,
           0.5
          ],
          [
           0,
           0.5,
           0.5
          ],
          [
           0,
           0,
           -0.5
          ],
          [
           0,
           -0.5,
           0
          ],
          [
           0,
           0,
           0
          ],
          [
           0,
           0.5,
           0
          ],
          [
           0,
           -0.5,
           0.5
          ],
          [
           0,
           0,
           0.5
          ],
          [
           0,
           0.5,
           0.5
          ],
          [
           0,
           0,
           -0.5
          ],
          [
           0,
           0.5,
           -0.5
          ],
          [
           0,
           0,
           0
          ],
          [
           0,
           0.5,
           0
          ],
          [
           0,
           -0.5,
           0.5
          ],
          [
           0,
           0,
           0.5
          ],
          [
           0,
           0.5,
           0.5
          ],
          [
           0,
           0,
           -0.5
          ],
          [
           0,
           0.5,
           -0.5
          ],
          [
           0,
           0,
           0
          ],
          [
           0,
           0.5,
           0
          ],
          [
           0,
           -0.5,
           0.5
          ],
          [
           0,
           0,
           0.5
          ],
          [
           0,
           0,
           -0.5
          ],
          [
           0,
           0.5,
           -0.5
          ],
          [
           0,
           -0.5,
           0
          ],
          [
           0,
           0.5,
           0
          ],
          [
           0,
           -0.5,
           0.5
          ],
          [
           0,
           0,
           0.5
          ],
          [
           0,
           0.5,
           0.5
          ],
          [
           0,
           -0.5,
           -0.5
          ],
          [
           0,
           0,
           -0.5
          ],
          [
           0,
           0.5,
           -0.5
          ],
          [
           0,
           -0.5,
           0
          ],
          [
           0,
           0,
           0
          ],
          [
           0,
           0.5,
           0
          ],
          [
           0,
           0,
           0.5
          ],
          [
           0,
           0.5,
           0.5
          ],
          [
           0,
           -0.5,
           -0.5
          ],
          [
           0,
           0.5,
           -0.5
          ],
          [
           0,
           -0.5,
           0
          ],
          [
           0,
           0,
           0.5
          ],
          [
           0,
           -0.5,
           -0.5
          ],
          [
           0,
           0.5,
           0
          ],
          [
           0,
           0,
           0.5
          ],
          [
           0,
           0.5,
           0.5
          ],
          [
           0,
           -0.5,
           -0.5
          ],
          [
           0,
           0.5,
           -0.5
          ],
          [
           0,
           -0.5,
           0
          ],
          [
           0,
           0,
           0
          ],
          [
           0,
           0.5,
           0
          ],
          [
           0,
           -0.5,
           0.5
          ],
          [
           0,
           0,
           0.5
          ],
          [
           0,
           0.5,
           0.5
          ],
          [
           0,
           0,
           -0.5
          ],
          [
           0,
           -0.5,
           0
          ],
          [
           0,
           0,
           0
          ],
          [
           0,
           0.5,
           0
          ],
          [
           0,
           -0.5,
           0.5
          ],
          [
           0,
           0,
           0.5
          ],
          [
           0,
           0.5,
           0.5
          ],
          [
           0,
           -0.5,
           -0.5
          ],
          [
           0,
           0,
           -0.5
          ],
          [
           0,
           -0.5,
           0
          ],
          [
           0,
           0,
           0
          ],
          [
           0,
           -0.5,
           0.5
          ],
          [
           0,
           0,
           0.5
          ],
          [
           0,
           0.5,
           0.5
          ],
          [
           0,
           -0.5,
           -0.5
          ],
          [
           0,
           0,
           -0.5
          ],
          [
           0,
           -0.5,
           0
          ],
          [
           0,
           0,
           0
          ],
          [
           0,
           0.5,
           0
          ],
          [
           0,
           -0.5,
           0.5
          ],
          [
           0,
           0,
           0.5
          ],
          [
           0,
           0.5,
           0.5
          ],
          [
           0,
           -0.5,
           -0.5
          ],
          [
           0,
           0,
           -0.5
          ],
          [
           0,
           -0.5,
           0
          ],
          [
           0,
           0,
           0
          ],
          [
           0,
           0.5,
           0
          ],
          [
           0,
           -0.5,
           0.5
          ],
          [
           0,
           0,
           0.5
          ],
          [
           0,
           0.5,
           0.5
          ],
          [
           0,
           -0.5,
           -0.5
          ],
          [
           0,
           0,
           -0.5
          ],
          [
           0,
           -0.5,
           0
          ],
          [
           0,
           0,
           0
          ],
          [
           0,
           0.5,
           0
          ],
          [
           0,
           -0.5,
           0.5
          ],
          [
           0,
           0,
           0.5
          ],
          [
           0,
           0.5,
           0.5
          ],
          [
           0,
           -0.5,
           -0.5
          ],
          [
           0,
           0,
           -0.5
          ],
          [
           0,
           -0.5,
           0
          ],
          [
           0,
           0,
           0
          ],
          [
           0,
           0.5,
           0
          ],
          [
           0,
           -0.5,
           0.5
          ],
          [
           0,
           0,
           0.5
          ],
          [
           0,
           0.5,
           0.5
          ],
          [
           0,
           -0.5,
           -0.5
          ],
          [
           0,
           0,
           -0.5
          ],
          [
           0,
           -0.5,
           0
          ],
          [
           0,
           0,
           0
          ],
          [
           0,
           0.5,
           0
          ],
          [
           0,
           -0.5,
           0.5
          ],
          [
           0,
           0,
           0.5
          ],
          [
           0,
           0.5,
           0.5
          ],
          [
           0,
           -0.5,
           -0.5
          ],
          [
           0,
           0,
           -0.5
          ],
          [
           0,
           -0.5,
           0
          ],
          [
           0,
           0,
           0
          ],
          [
           0,
           0.5,
           0
          ],
          [
           0,
           -0.5,
           0.5
          ],
          [
           0,
           0,
           0.5
          ],
          [
           0,
           0.5,
           0.5
          ],
          [
           0,
           -0.5,
           -0.5
          ],
          [
           0,
           0,
           -0.5
          ],
          [
           0,
           0.5,
           -0.5
          ],
          [
           0,
           -0.5,
           0
          ],
          [
           0,
           0,
           0
          ],
          [
           0,
           0.5,
           0
          ],
          [
           0,
           -0.5,
           0.5
          ],
          [
           0,
           0,
           0.5
          ],
          [
           0,
           0.5,
           0.5
          ]
         ],
         "hovertemplate": "<b>%{hovertext}</b><br><br>Camera=%{x}<br>residual=%{y}<br>beam_capture_index=%{customdata[0]}<br>projectionPoint_x=%{customdata[1]}<br>projectionPoint_y=%{customdata[2]}<br>Laser=%{marker.color}<extra></extra>",
         "hovertext": [
          1,
          1,
          1,
          1,
          1,
          1,
          1,
          1,
          1,
          3,
          3,
          3,
          3,
          3,
          3,
          3,
          3,
          3,
          4,
          4,
          4,
          4,
          4,
          4,
          4,
          4,
          4,
          5,
          5,
          5,
          5,
          5,
          5,
          5,
          5,
          5,
          6,
          6,
          6,
          6,
          6,
          6,
          6,
          6,
          6,
          7,
          7,
          7,
          7,
          7,
          7,
          7,
          7,
          7,
          8,
          8,
          8,
          8,
          8,
          8,
          8,
          8,
          8,
          10,
          10,
          10,
          10,
          10,
          10,
          10,
          10,
          10,
          11,
          11,
          11,
          11,
          11,
          11,
          11,
          12,
          12,
          12,
          12,
          12,
          14,
          14,
          14,
          14,
          14,
          15,
          15,
          15,
          15,
          15,
          15,
          16,
          16,
          16,
          16,
          16,
          16,
          16,
          16,
          16,
          17,
          17,
          17,
          17,
          17,
          17,
          17,
          17,
          17,
          18,
          18,
          18,
          18,
          18,
          18,
          18,
          18,
          18,
          19,
          19,
          19,
          19,
          19,
          19,
          19,
          19,
          19,
          21,
          21,
          21,
          21,
          21,
          21,
          21,
          21,
          21,
          24,
          24,
          24,
          24,
          24,
          24,
          24,
          24,
          24,
          28,
          28,
          28,
          28,
          28,
          28,
          28,
          28,
          28,
          36,
          36,
          36,
          36,
          36,
          36,
          36,
          36,
          37,
          37,
          37,
          37,
          37,
          37,
          38,
          38,
          38,
          38,
          38,
          38,
          38,
          38,
          38,
          39,
          39,
          39,
          39,
          39,
          39,
          39,
          39,
          39,
          1,
          1,
          1,
          1,
          1,
          1,
          1,
          1,
          1,
          3,
          3,
          3,
          3,
          3,
          3,
          3,
          3,
          3,
          4,
          4,
          4,
          4,
          4,
          4,
          4,
          4,
          4,
          5,
          5,
          5,
          5,
          5,
          5,
          5,
          5,
          5,
          6,
          6,
          6,
          6,
          6,
          6,
          6,
          6,
          6,
          7,
          7,
          7,
          7,
          7,
          7,
          7,
          7,
          7,
          8,
          8,
          8,
          8,
          8,
          8,
          8,
          8,
          8,
          10,
          10,
          10,
          10,
          10,
          10,
          10,
          10,
          10,
          11,
          11,
          11,
          11,
          11,
          11,
          11,
          11,
          11,
          12,
          12,
          12,
          12,
          12,
          12,
          12,
          12,
          12,
          13,
          13,
          13,
          13,
          13,
          13,
          13,
          13,
          13,
          14,
          14,
          14,
          14,
          14,
          14,
          14,
          14,
          14,
          15,
          15,
          15,
          15,
          15,
          15,
          16,
          16,
          16,
          16,
          16,
          16,
          16,
          17,
          17,
          17,
          17,
          17,
          17,
          17,
          17,
          17,
          18,
          18,
          18,
          18,
          18,
          18,
          18,
          18,
          18,
          19,
          19,
          19,
          19,
          19,
          19,
          19,
          21,
          21,
          21,
          21,
          21,
          21,
          21,
          21,
          21,
          22,
          22,
          22,
          22,
          22,
          22,
          22,
          22,
          22,
          23,
          23,
          23,
          23,
          23,
          23,
          23,
          24,
          24,
          24,
          24,
          24,
          24,
          24,
          24,
          24,
          28,
          28,
          28,
          28,
          28,
          28,
          28,
          28,
          29,
          29,
          29,
          29,
          29,
          29,
          29,
          29,
          29,
          31,
          31,
          31,
          31,
          31,
          31,
          31,
          31,
          31,
          32,
          32,
          32,
          32,
          32,
          32,
          32,
          32,
          32,
          33,
          33,
          33,
          33,
          33,
          33,
          33,
          33,
          33,
          34,
          34,
          34,
          34,
          34,
          34,
          34,
          34,
          34,
          35,
          35,
          35,
          35,
          35,
          35,
          35,
          35,
          35,
          36,
          36,
          36,
          36,
          36,
          36,
          36,
          37,
          37,
          37,
          37,
          37,
          37,
          37,
          37,
          37,
          38,
          38,
          38,
          38,
          38,
          39,
          39,
          39,
          39,
          39,
          39,
          5,
          5,
          5,
          5,
          5,
          5,
          5,
          6,
          6,
          6,
          6,
          6,
          6,
          6,
          6,
          6,
          7,
          7,
          7,
          7,
          7,
          7,
          7,
          7,
          7,
          8,
          8,
          8,
          8,
          8,
          8,
          8,
          8,
          8,
          10,
          10,
          10,
          10,
          10,
          10,
          10,
          10,
          10,
          11,
          11,
          11,
          11,
          11,
          11,
          11,
          11,
          11,
          12,
          12,
          12,
          12,
          12,
          12,
          12,
          12,
          12,
          13,
          13,
          13,
          13,
          13,
          13,
          13,
          13,
          13,
          14,
          14,
          14,
          14,
          14,
          14,
          14,
          14,
          14,
          15,
          15,
          15,
          15,
          15,
          15,
          15,
          15,
          15,
          16,
          16,
          16,
          16,
          16,
          16,
          16,
          16,
          16,
          17,
          17,
          17,
          17,
          17,
          17,
          17,
          17,
          17,
          18,
          18,
          18,
          18,
          18,
          18,
          18,
          18,
          19,
          19,
          19,
          19,
          19,
          19,
          21,
          21,
          21,
          21,
          21,
          21,
          21,
          21,
          22,
          22,
          22,
          22,
          22,
          22,
          22,
          22,
          23,
          23,
          23,
          23,
          23,
          23,
          23,
          23,
          24,
          24,
          24,
          24,
          24,
          24,
          24,
          24,
          31,
          31,
          31,
          31,
          31,
          31,
          31,
          31,
          31,
          32,
          32,
          32,
          32,
          32,
          32,
          32,
          32,
          32,
          33,
          33,
          33,
          33,
          33,
          33,
          33,
          33,
          33,
          34,
          34,
          34,
          34,
          34,
          34,
          34,
          34,
          34,
          35,
          35,
          35,
          35,
          35,
          35,
          35,
          35,
          35,
          36,
          36,
          36,
          36,
          36,
          36,
          36,
          36,
          36,
          37,
          37,
          37,
          37,
          37,
          37,
          37,
          37,
          38,
          38,
          38,
          38,
          38,
          38,
          38,
          39,
          39,
          39,
          39,
          39,
          1,
          1,
          1,
          1,
          1,
          1,
          1,
          1,
          1,
          3,
          3,
          3,
          3,
          3,
          3,
          3,
          3,
          3,
          4,
          4,
          4,
          4,
          4,
          4,
          4,
          4,
          4,
          5,
          5,
          5,
          5,
          5,
          5,
          5,
          6,
          6,
          6,
          6,
          6,
          6,
          6,
          6,
          7,
          7,
          7,
          7,
          7,
          7,
          7,
          8,
          8,
          8,
          8,
          8,
          8,
          8,
          8,
          10,
          10,
          10,
          10,
          10,
          10,
          10,
          10,
          11,
          11,
          11,
          11,
          11,
          11,
          11,
          12,
          12,
          12,
          12,
          12,
          12,
          12,
          12,
          13,
          13,
          13,
          13,
          13,
          13,
          13,
          13,
          14,
          14,
          14,
          14,
          14,
          14,
          14,
          14,
          15,
          15,
          15,
          15,
          15,
          15,
          15,
          15,
          16,
          16,
          16,
          16,
          16,
          16,
          16,
          17,
          17,
          17,
          17,
          17,
          17,
          17,
          18,
          18,
          18,
          18,
          18,
          18,
          19,
          19,
          19,
          19,
          19,
          19,
          19,
          21,
          21,
          21,
          21,
          21,
          21,
          21,
          21,
          22,
          22,
          22,
          22,
          23,
          23,
          23,
          23,
          24,
          24,
          24,
          24,
          24,
          24,
          24,
          24,
          28,
          28,
          28,
          28,
          28,
          28,
          28,
          29,
          29,
          29,
          29,
          29,
          29,
          29,
          31,
          31,
          31,
          31,
          31,
          31,
          31,
          31,
          32,
          32,
          32,
          32,
          32,
          32,
          32,
          32,
          34,
          34,
          34,
          34,
          34,
          34,
          34,
          34,
          36,
          36,
          36,
          36,
          36,
          36,
          36,
          36,
          37,
          37,
          37,
          37,
          37,
          37,
          37,
          37,
          38,
          38,
          38,
          38,
          38,
          38,
          38,
          38,
          39,
          39,
          39,
          39,
          39,
          39,
          39,
          39,
          39
         ],
         "legendgroup": "",
         "marker": {
          "color": [
           1,
           1,
           1,
           1,
           1,
           1,
           1,
           1,
           1,
           3,
           3,
           3,
           3,
           3,
           3,
           3,
           3,
           3,
           4,
           4,
           4,
           4,
           4,
           4,
           4,
           4,
           4,
           5,
           5,
           5,
           5,
           5,
           5,
           5,
           5,
           5,
           6,
           6,
           6,
           6,
           6,
           6,
           6,
           6,
           6,
           7,
           7,
           7,
           7,
           7,
           7,
           7,
           7,
           7,
           8,
           8,
           8,
           8,
           8,
           8,
           8,
           8,
           8,
           10,
           10,
           10,
           10,
           10,
           10,
           10,
           10,
           10,
           11,
           11,
           11,
           11,
           11,
           11,
           11,
           12,
           12,
           12,
           12,
           12,
           14,
           14,
           14,
           14,
           14,
           15,
           15,
           15,
           15,
           15,
           15,
           16,
           16,
           16,
           16,
           16,
           16,
           16,
           16,
           16,
           17,
           17,
           17,
           17,
           17,
           17,
           17,
           17,
           17,
           18,
           18,
           18,
           18,
           18,
           18,
           18,
           18,
           18,
           19,
           19,
           19,
           19,
           19,
           19,
           19,
           19,
           19,
           21,
           21,
           21,
           21,
           21,
           21,
           21,
           21,
           21,
           24,
           24,
           24,
           24,
           24,
           24,
           24,
           24,
           24,
           28,
           28,
           28,
           28,
           28,
           28,
           28,
           28,
           28,
           36,
           36,
           36,
           36,
           36,
           36,
           36,
           36,
           37,
           37,
           37,
           37,
           37,
           37,
           38,
           38,
           38,
           38,
           38,
           38,
           38,
           38,
           38,
           39,
           39,
           39,
           39,
           39,
           39,
           39,
           39,
           39,
           1,
           1,
           1,
           1,
           1,
           1,
           1,
           1,
           1,
           3,
           3,
           3,
           3,
           3,
           3,
           3,
           3,
           3,
           4,
           4,
           4,
           4,
           4,
           4,
           4,
           4,
           4,
           5,
           5,
           5,
           5,
           5,
           5,
           5,
           5,
           5,
           6,
           6,
           6,
           6,
           6,
           6,
           6,
           6,
           6,
           7,
           7,
           7,
           7,
           7,
           7,
           7,
           7,
           7,
           8,
           8,
           8,
           8,
           8,
           8,
           8,
           8,
           8,
           10,
           10,
           10,
           10,
           10,
           10,
           10,
           10,
           10,
           11,
           11,
           11,
           11,
           11,
           11,
           11,
           11,
           11,
           12,
           12,
           12,
           12,
           12,
           12,
           12,
           12,
           12,
           13,
           13,
           13,
           13,
           13,
           13,
           13,
           13,
           13,
           14,
           14,
           14,
           14,
           14,
           14,
           14,
           14,
           14,
           15,
           15,
           15,
           15,
           15,
           15,
           16,
           16,
           16,
           16,
           16,
           16,
           16,
           17,
           17,
           17,
           17,
           17,
           17,
           17,
           17,
           17,
           18,
           18,
           18,
           18,
           18,
           18,
           18,
           18,
           18,
           19,
           19,
           19,
           19,
           19,
           19,
           19,
           21,
           21,
           21,
           21,
           21,
           21,
           21,
           21,
           21,
           22,
           22,
           22,
           22,
           22,
           22,
           22,
           22,
           22,
           23,
           23,
           23,
           23,
           23,
           23,
           23,
           24,
           24,
           24,
           24,
           24,
           24,
           24,
           24,
           24,
           28,
           28,
           28,
           28,
           28,
           28,
           28,
           28,
           29,
           29,
           29,
           29,
           29,
           29,
           29,
           29,
           29,
           31,
           31,
           31,
           31,
           31,
           31,
           31,
           31,
           31,
           32,
           32,
           32,
           32,
           32,
           32,
           32,
           32,
           32,
           33,
           33,
           33,
           33,
           33,
           33,
           33,
           33,
           33,
           34,
           34,
           34,
           34,
           34,
           34,
           34,
           34,
           34,
           35,
           35,
           35,
           35,
           35,
           35,
           35,
           35,
           35,
           36,
           36,
           36,
           36,
           36,
           36,
           36,
           37,
           37,
           37,
           37,
           37,
           37,
           37,
           37,
           37,
           38,
           38,
           38,
           38,
           38,
           39,
           39,
           39,
           39,
           39,
           39,
           5,
           5,
           5,
           5,
           5,
           5,
           5,
           6,
           6,
           6,
           6,
           6,
           6,
           6,
           6,
           6,
           7,
           7,
           7,
           7,
           7,
           7,
           7,
           7,
           7,
           8,
           8,
           8,
           8,
           8,
           8,
           8,
           8,
           8,
           10,
           10,
           10,
           10,
           10,
           10,
           10,
           10,
           10,
           11,
           11,
           11,
           11,
           11,
           11,
           11,
           11,
           11,
           12,
           12,
           12,
           12,
           12,
           12,
           12,
           12,
           12,
           13,
           13,
           13,
           13,
           13,
           13,
           13,
           13,
           13,
           14,
           14,
           14,
           14,
           14,
           14,
           14,
           14,
           14,
           15,
           15,
           15,
           15,
           15,
           15,
           15,
           15,
           15,
           16,
           16,
           16,
           16,
           16,
           16,
           16,
           16,
           16,
           17,
           17,
           17,
           17,
           17,
           17,
           17,
           17,
           17,
           18,
           18,
           18,
           18,
           18,
           18,
           18,
           18,
           19,
           19,
           19,
           19,
           19,
           19,
           21,
           21,
           21,
           21,
           21,
           21,
           21,
           21,
           22,
           22,
           22,
           22,
           22,
           22,
           22,
           22,
           23,
           23,
           23,
           23,
           23,
           23,
           23,
           23,
           24,
           24,
           24,
           24,
           24,
           24,
           24,
           24,
           31,
           31,
           31,
           31,
           31,
           31,
           31,
           31,
           31,
           32,
           32,
           32,
           32,
           32,
           32,
           32,
           32,
           32,
           33,
           33,
           33,
           33,
           33,
           33,
           33,
           33,
           33,
           34,
           34,
           34,
           34,
           34,
           34,
           34,
           34,
           34,
           35,
           35,
           35,
           35,
           35,
           35,
           35,
           35,
           35,
           36,
           36,
           36,
           36,
           36,
           36,
           36,
           36,
           36,
           37,
           37,
           37,
           37,
           37,
           37,
           37,
           37,
           38,
           38,
           38,
           38,
           38,
           38,
           38,
           39,
           39,
           39,
           39,
           39,
           1,
           1,
           1,
           1,
           1,
           1,
           1,
           1,
           1,
           3,
           3,
           3,
           3,
           3,
           3,
           3,
           3,
           3,
           4,
           4,
           4,
           4,
           4,
           4,
           4,
           4,
           4,
           5,
           5,
           5,
           5,
           5,
           5,
           5,
           6,
           6,
           6,
           6,
           6,
           6,
           6,
           6,
           7,
           7,
           7,
           7,
           7,
           7,
           7,
           8,
           8,
           8,
           8,
           8,
           8,
           8,
           8,
           10,
           10,
           10,
           10,
           10,
           10,
           10,
           10,
           11,
           11,
           11,
           11,
           11,
           11,
           11,
           12,
           12,
           12,
           12,
           12,
           12,
           12,
           12,
           13,
           13,
           13,
           13,
           13,
           13,
           13,
           13,
           14,
           14,
           14,
           14,
           14,
           14,
           14,
           14,
           15,
           15,
           15,
           15,
           15,
           15,
           15,
           15,
           16,
           16,
           16,
           16,
           16,
           16,
           16,
           17,
           17,
           17,
           17,
           17,
           17,
           17,
           18,
           18,
           18,
           18,
           18,
           18,
           19,
           19,
           19,
           19,
           19,
           19,
           19,
           21,
           21,
           21,
           21,
           21,
           21,
           21,
           21,
           22,
           22,
           22,
           22,
           23,
           23,
           23,
           23,
           24,
           24,
           24,
           24,
           24,
           24,
           24,
           24,
           28,
           28,
           28,
           28,
           28,
           28,
           28,
           29,
           29,
           29,
           29,
           29,
           29,
           29,
           31,
           31,
           31,
           31,
           31,
           31,
           31,
           31,
           32,
           32,
           32,
           32,
           32,
           32,
           32,
           32,
           34,
           34,
           34,
           34,
           34,
           34,
           34,
           34,
           36,
           36,
           36,
           36,
           36,
           36,
           36,
           36,
           37,
           37,
           37,
           37,
           37,
           37,
           37,
           37,
           38,
           38,
           38,
           38,
           38,
           38,
           38,
           38,
           39,
           39,
           39,
           39,
           39,
           39,
           39,
           39,
           39
          ],
          "coloraxis": "coloraxis",
          "pattern": {
           "shape": ""
          }
         },
         "name": "",
         "offsetgroup": "",
         "orientation": "v",
         "showlegend": false,
         "textposition": "auto",
         "type": "bar",
         "x": [
          "Fri 2021.10.01 06:05",
          "Fri 2021.10.01 06:05",
          "Fri 2021.10.01 06:05",
          "Fri 2021.10.01 06:05",
          "Fri 2021.10.01 06:05",
          "Fri 2021.10.01 06:05",
          "Fri 2021.10.01 06:05",
          "Fri 2021.10.01 06:05",
          "Fri 2021.10.01 06:05",
          "Fri 2021.10.01 06:05",
          "Fri 2021.10.01 06:05",
          "Fri 2021.10.01 06:05",
          "Fri 2021.10.01 06:05",
          "Fri 2021.10.01 06:05",
          "Fri 2021.10.01 06:05",
          "Fri 2021.10.01 06:05",
          "Fri 2021.10.01 06:05",
          "Fri 2021.10.01 06:05",
          "Fri 2021.10.01 06:05",
          "Fri 2021.10.01 06:05",
          "Fri 2021.10.01 06:05",
          "Fri 2021.10.01 06:05",
          "Fri 2021.10.01 06:05",
          "Fri 2021.10.01 06:05",
          "Fri 2021.10.01 06:05",
          "Fri 2021.10.01 06:05",
          "Fri 2021.10.01 06:05",
          "Fri 2021.10.01 06:05",
          "Fri 2021.10.01 06:05",
          "Fri 2021.10.01 06:05",
          "Fri 2021.10.01 06:05",
          "Fri 2021.10.01 06:05",
          "Fri 2021.10.01 06:05",
          "Fri 2021.10.01 06:05",
          "Fri 2021.10.01 06:05",
          "Fri 2021.10.01 06:05",
          "Fri 2021.10.01 06:05",
          "Fri 2021.10.01 06:05",
          "Fri 2021.10.01 06:05",
          "Fri 2021.10.01 06:05",
          "Fri 2021.10.01 06:05",
          "Fri 2021.10.01 06:05",
          "Fri 2021.10.01 06:05",
          "Fri 2021.10.01 06:05",
          "Fri 2021.10.01 06:05",
          "Fri 2021.10.01 06:05",
          "Fri 2021.10.01 06:05",
          "Fri 2021.10.01 06:05",
          "Fri 2021.10.01 06:05",
          "Fri 2021.10.01 06:05",
          "Fri 2021.10.01 06:05",
          "Fri 2021.10.01 06:05",
          "Fri 2021.10.01 06:05",
          "Fri 2021.10.01 06:05",
          "Fri 2021.10.01 06:05",
          "Fri 2021.10.01 06:05",
          "Fri 2021.10.01 06:05",
          "Fri 2021.10.01 06:05",
          "Fri 2021.10.01 06:05",
          "Fri 2021.10.01 06:05",
          "Fri 2021.10.01 06:05",
          "Fri 2021.10.01 06:05",
          "Fri 2021.10.01 06:05",
          "Fri 2021.10.01 06:05",
          "Fri 2021.10.01 06:05",
          "Fri 2021.10.01 06:05",
          "Fri 2021.10.01 06:05",
          "Fri 2021.10.01 06:05",
          "Fri 2021.10.01 06:05",
          "Fri 2021.10.01 06:05",
          "Fri 2021.10.01 06:05",
          "Fri 2021.10.01 06:05",
          "Fri 2021.10.01 06:05",
          "Fri 2021.10.01 06:05",
          "Fri 2021.10.01 06:05",
          "Fri 2021.10.01 06:05",
          "Fri 2021.10.01 06:05",
          "Fri 2021.10.01 06:05",
          "Fri 2021.10.01 06:05",
          "Fri 2021.10.01 06:05",
          "Fri 2021.10.01 06:05",
          "Fri 2021.10.01 06:05",
          "Fri 2021.10.01 06:05",
          "Fri 2021.10.01 06:05",
          "Fri 2021.10.01 06:05",
          "Fri 2021.10.01 06:05",
          "Fri 2021.10.01 06:05",
          "Fri 2021.10.01 06:05",
          "Fri 2021.10.01 06:05",
          "Fri 2021.10.01 06:05",
          "Fri 2021.10.01 06:05",
          "Fri 2021.10.01 06:05",
          "Fri 2021.10.01 06:05",
          "Fri 2021.10.01 06:05",
          "Fri 2021.10.01 06:05",
          "Fri 2021.10.01 06:05",
          "Fri 2021.10.01 06:05",
          "Fri 2021.10.01 06:05",
          "Fri 2021.10.01 06:05",
          "Fri 2021.10.01 06:05",
          "Fri 2021.10.01 06:05",
          "Fri 2021.10.01 06:05",
          "Fri 2021.10.01 06:05",
          "Fri 2021.10.01 06:05",
          "Fri 2021.10.01 06:05",
          "Fri 2021.10.01 06:05",
          "Fri 2021.10.01 06:05",
          "Fri 2021.10.01 06:05",
          "Fri 2021.10.01 06:05",
          "Fri 2021.10.01 06:05",
          "Fri 2021.10.01 06:05",
          "Fri 2021.10.01 06:05",
          "Fri 2021.10.01 06:05",
          "Fri 2021.10.01 06:05",
          "Fri 2021.10.01 06:05",
          "Fri 2021.10.01 06:05",
          "Fri 2021.10.01 06:05",
          "Fri 2021.10.01 06:05",
          "Fri 2021.10.01 06:05",
          "Fri 2021.10.01 06:05",
          "Fri 2021.10.01 06:05",
          "Fri 2021.10.01 06:05",
          "Fri 2021.10.01 06:05",
          "Fri 2021.10.01 06:05",
          "Fri 2021.10.01 06:05",
          "Fri 2021.10.01 06:05",
          "Fri 2021.10.01 06:05",
          "Fri 2021.10.01 06:05",
          "Fri 2021.10.01 06:05",
          "Fri 2021.10.01 06:05",
          "Fri 2021.10.01 06:05",
          "Fri 2021.10.01 06:05",
          "Fri 2021.10.01 06:05",
          "Fri 2021.10.01 06:05",
          "Fri 2021.10.01 06:05",
          "Fri 2021.10.01 06:05",
          "Fri 2021.10.01 06:05",
          "Fri 2021.10.01 06:05",
          "Fri 2021.10.01 06:05",
          "Fri 2021.10.01 06:05",
          "Fri 2021.10.01 06:05",
          "Fri 2021.10.01 06:05",
          "Fri 2021.10.01 06:05",
          "Fri 2021.10.01 06:05",
          "Fri 2021.10.01 06:05",
          "Fri 2021.10.01 06:05",
          "Fri 2021.10.01 06:05",
          "Fri 2021.10.01 06:05",
          "Fri 2021.10.01 06:05",
          "Fri 2021.10.01 06:05",
          "Fri 2021.10.01 06:05",
          "Fri 2021.10.01 06:05",
          "Fri 2021.10.01 06:05",
          "Fri 2021.10.01 06:05",
          "Fri 2021.10.01 06:05",
          "Fri 2021.10.01 06:05",
          "Fri 2021.10.01 06:05",
          "Fri 2021.10.01 06:05",
          "Fri 2021.10.01 06:05",
          "Fri 2021.10.01 06:05",
          "Fri 2021.10.01 06:05",
          "Fri 2021.10.01 06:05",
          "Fri 2021.10.01 06:05",
          "Fri 2021.10.01 06:05",
          "Fri 2021.10.01 06:05",
          "Fri 2021.10.01 06:05",
          "Fri 2021.10.01 06:05",
          "Fri 2021.10.01 06:05",
          "Fri 2021.10.01 06:05",
          "Fri 2021.10.01 06:05",
          "Fri 2021.10.01 06:05",
          "Fri 2021.10.01 06:05",
          "Fri 2021.10.01 06:05",
          "Fri 2021.10.01 06:05",
          "Fri 2021.10.01 06:05",
          "Fri 2021.10.01 06:05",
          "Fri 2021.10.01 06:05",
          "Fri 2021.10.01 06:05",
          "Fri 2021.10.01 06:05",
          "Fri 2021.10.01 06:05",
          "Fri 2021.10.01 06:05",
          "Fri 2021.10.01 06:05",
          "Fri 2021.10.01 06:05",
          "Fri 2021.10.01 06:05",
          "Fri 2021.10.01 06:05",
          "Fri 2021.10.01 06:05",
          "Fri 2021.10.01 06:05",
          "Fri 2021.10.01 06:05",
          "Fri 2021.10.01 06:05",
          "Fri 2021.10.01 06:05",
          "Fri 2021.10.01 06:25",
          "Fri 2021.10.01 06:25",
          "Fri 2021.10.01 06:25",
          "Fri 2021.10.01 06:25",
          "Fri 2021.10.01 06:25",
          "Fri 2021.10.01 06:25",
          "Fri 2021.10.01 06:25",
          "Fri 2021.10.01 06:25",
          "Fri 2021.10.01 06:25",
          "Fri 2021.10.01 06:25",
          "Fri 2021.10.01 06:25",
          "Fri 2021.10.01 06:25",
          "Fri 2021.10.01 06:25",
          "Fri 2021.10.01 06:25",
          "Fri 2021.10.01 06:25",
          "Fri 2021.10.01 06:25",
          "Fri 2021.10.01 06:25",
          "Fri 2021.10.01 06:25",
          "Fri 2021.10.01 06:25",
          "Fri 2021.10.01 06:25",
          "Fri 2021.10.01 06:25",
          "Fri 2021.10.01 06:25",
          "Fri 2021.10.01 06:25",
          "Fri 2021.10.01 06:25",
          "Fri 2021.10.01 06:25",
          "Fri 2021.10.01 06:25",
          "Fri 2021.10.01 06:25",
          "Fri 2021.10.01 06:25",
          "Fri 2021.10.01 06:25",
          "Fri 2021.10.01 06:25",
          "Fri 2021.10.01 06:25",
          "Fri 2021.10.01 06:25",
          "Fri 2021.10.01 06:25",
          "Fri 2021.10.01 06:25",
          "Fri 2021.10.01 06:25",
          "Fri 2021.10.01 06:25",
          "Fri 2021.10.01 06:25",
          "Fri 2021.10.01 06:25",
          "Fri 2021.10.01 06:25",
          "Fri 2021.10.01 06:25",
          "Fri 2021.10.01 06:25",
          "Fri 2021.10.01 06:25",
          "Fri 2021.10.01 06:25",
          "Fri 2021.10.01 06:25",
          "Fri 2021.10.01 06:25",
          "Fri 2021.10.01 06:25",
          "Fri 2021.10.01 06:25",
          "Fri 2021.10.01 06:25",
          "Fri 2021.10.01 06:25",
          "Fri 2021.10.01 06:25",
          "Fri 2021.10.01 06:25",
          "Fri 2021.10.01 06:25",
          "Fri 2021.10.01 06:25",
          "Fri 2021.10.01 06:25",
          "Fri 2021.10.01 06:25",
          "Fri 2021.10.01 06:25",
          "Fri 2021.10.01 06:25",
          "Fri 2021.10.01 06:25",
          "Fri 2021.10.01 06:25",
          "Fri 2021.10.01 06:25",
          "Fri 2021.10.01 06:25",
          "Fri 2021.10.01 06:25",
          "Fri 2021.10.01 06:25",
          "Fri 2021.10.01 06:25",
          "Fri 2021.10.01 06:25",
          "Fri 2021.10.01 06:25",
          "Fri 2021.10.01 06:25",
          "Fri 2021.10.01 06:25",
          "Fri 2021.10.01 06:25",
          "Fri 2021.10.01 06:25",
          "Fri 2021.10.01 06:25",
          "Fri 2021.10.01 06:25",
          "Fri 2021.10.01 06:25",
          "Fri 2021.10.01 06:25",
          "Fri 2021.10.01 06:25",
          "Fri 2021.10.01 06:25",
          "Fri 2021.10.01 06:25",
          "Fri 2021.10.01 06:25",
          "Fri 2021.10.01 06:25",
          "Fri 2021.10.01 06:25",
          "Fri 2021.10.01 06:25",
          "Fri 2021.10.01 06:25",
          "Fri 2021.10.01 06:25",
          "Fri 2021.10.01 06:25",
          "Fri 2021.10.01 06:25",
          "Fri 2021.10.01 06:25",
          "Fri 2021.10.01 06:25",
          "Fri 2021.10.01 06:25",
          "Fri 2021.10.01 06:25",
          "Fri 2021.10.01 06:25",
          "Fri 2021.10.01 06:25",
          "Fri 2021.10.01 06:25",
          "Fri 2021.10.01 06:25",
          "Fri 2021.10.01 06:25",
          "Fri 2021.10.01 06:25",
          "Fri 2021.10.01 06:25",
          "Fri 2021.10.01 06:25",
          "Fri 2021.10.01 06:25",
          "Fri 2021.10.01 06:25",
          "Fri 2021.10.01 06:25",
          "Fri 2021.10.01 06:25",
          "Fri 2021.10.01 06:25",
          "Fri 2021.10.01 06:25",
          "Fri 2021.10.01 06:25",
          "Fri 2021.10.01 06:25",
          "Fri 2021.10.01 06:25",
          "Fri 2021.10.01 06:25",
          "Fri 2021.10.01 06:25",
          "Fri 2021.10.01 06:25",
          "Fri 2021.10.01 06:25",
          "Fri 2021.10.01 06:25",
          "Fri 2021.10.01 06:25",
          "Fri 2021.10.01 06:25",
          "Fri 2021.10.01 06:25",
          "Fri 2021.10.01 06:25",
          "Fri 2021.10.01 06:25",
          "Fri 2021.10.01 06:25",
          "Fri 2021.10.01 06:25",
          "Fri 2021.10.01 06:25",
          "Fri 2021.10.01 06:25",
          "Fri 2021.10.01 06:25",
          "Fri 2021.10.01 06:25",
          "Fri 2021.10.01 06:25",
          "Fri 2021.10.01 06:25",
          "Fri 2021.10.01 06:25",
          "Fri 2021.10.01 06:25",
          "Fri 2021.10.01 06:25",
          "Fri 2021.10.01 06:25",
          "Fri 2021.10.01 06:25",
          "Fri 2021.10.01 06:25",
          "Fri 2021.10.01 06:25",
          "Fri 2021.10.01 06:25",
          "Fri 2021.10.01 06:25",
          "Fri 2021.10.01 06:25",
          "Fri 2021.10.01 06:25",
          "Fri 2021.10.01 06:25",
          "Fri 2021.10.01 06:25",
          "Fri 2021.10.01 06:25",
          "Fri 2021.10.01 06:25",
          "Fri 2021.10.01 06:25",
          "Fri 2021.10.01 06:25",
          "Fri 2021.10.01 06:25",
          "Fri 2021.10.01 06:25",
          "Fri 2021.10.01 06:25",
          "Fri 2021.10.01 06:25",
          "Fri 2021.10.01 06:25",
          "Fri 2021.10.01 06:25",
          "Fri 2021.10.01 06:25",
          "Fri 2021.10.01 06:25",
          "Fri 2021.10.01 06:25",
          "Fri 2021.10.01 06:25",
          "Fri 2021.10.01 06:25",
          "Fri 2021.10.01 06:25",
          "Fri 2021.10.01 06:25",
          "Fri 2021.10.01 06:25",
          "Fri 2021.10.01 06:25",
          "Fri 2021.10.01 06:25",
          "Fri 2021.10.01 06:25",
          "Fri 2021.10.01 06:25",
          "Fri 2021.10.01 06:25",
          "Fri 2021.10.01 06:25",
          "Fri 2021.10.01 06:25",
          "Fri 2021.10.01 06:25",
          "Fri 2021.10.01 06:25",
          "Fri 2021.10.01 06:25",
          "Fri 2021.10.01 06:25",
          "Fri 2021.10.01 06:25",
          "Fri 2021.10.01 06:25",
          "Fri 2021.10.01 06:25",
          "Fri 2021.10.01 06:25",
          "Fri 2021.10.01 06:25",
          "Fri 2021.10.01 06:25",
          "Fri 2021.10.01 06:25",
          "Fri 2021.10.01 06:25",
          "Fri 2021.10.01 06:25",
          "Fri 2021.10.01 06:25",
          "Fri 2021.10.01 06:25",
          "Fri 2021.10.01 06:25",
          "Fri 2021.10.01 06:25",
          "Fri 2021.10.01 06:25",
          "Fri 2021.10.01 06:25",
          "Fri 2021.10.01 06:25",
          "Fri 2021.10.01 06:25",
          "Fri 2021.10.01 06:25",
          "Fri 2021.10.01 06:25",
          "Fri 2021.10.01 06:25",
          "Fri 2021.10.01 06:25",
          "Fri 2021.10.01 06:25",
          "Fri 2021.10.01 06:25",
          "Fri 2021.10.01 06:25",
          "Fri 2021.10.01 06:25",
          "Fri 2021.10.01 06:25",
          "Fri 2021.10.01 06:25",
          "Fri 2021.10.01 06:25",
          "Fri 2021.10.01 06:25",
          "Fri 2021.10.01 06:25",
          "Fri 2021.10.01 06:25",
          "Fri 2021.10.01 06:25",
          "Fri 2021.10.01 06:25",
          "Fri 2021.10.01 06:25",
          "Fri 2021.10.01 06:25",
          "Fri 2021.10.01 06:25",
          "Fri 2021.10.01 06:25",
          "Fri 2021.10.01 06:25",
          "Fri 2021.10.01 06:25",
          "Fri 2021.10.01 06:25",
          "Fri 2021.10.01 06:25",
          "Fri 2021.10.01 06:25",
          "Fri 2021.10.01 06:25",
          "Fri 2021.10.01 06:25",
          "Fri 2021.10.01 06:25",
          "Fri 2021.10.01 06:25",
          "Fri 2021.10.01 06:25",
          "Fri 2021.10.01 06:25",
          "Fri 2021.10.01 06:25",
          "Fri 2021.10.01 06:25",
          "Fri 2021.10.01 06:25",
          "Fri 2021.10.01 06:25",
          "Fri 2021.10.01 06:25",
          "Fri 2021.10.01 06:25",
          "Fri 2021.10.01 06:25",
          "Fri 2021.10.01 06:25",
          "Fri 2021.10.01 06:25",
          "Fri 2021.10.01 06:25",
          "Fri 2021.10.01 06:25",
          "Fri 2021.10.01 06:25",
          "Fri 2021.10.01 06:25",
          "Fri 2021.10.01 06:25",
          "Fri 2021.10.01 06:25",
          "Fri 2021.10.01 06:25",
          "Fri 2021.10.01 06:25",
          "Fri 2021.10.01 06:25",
          "Fri 2021.10.01 06:25",
          "Fri 2021.10.01 06:25",
          "Fri 2021.10.01 06:25",
          "Fri 2021.10.01 06:25",
          "Fri 2021.10.01 06:25",
          "Fri 2021.10.01 06:25",
          "Fri 2021.10.01 06:25",
          "Fri 2021.10.01 06:25",
          "Fri 2021.10.01 06:25",
          "Fri 2021.10.01 06:25",
          "Fri 2021.10.01 06:25",
          "Fri 2021.10.01 06:25",
          "Fri 2021.10.01 06:25",
          "Fri 2021.10.01 06:25",
          "Fri 2021.10.01 06:25",
          "Fri 2021.10.01 06:25",
          "Fri 2021.10.01 06:25",
          "Fri 2021.10.01 06:25",
          "Fri 2021.10.01 06:25",
          "Fri 2021.10.01 06:25",
          "Fri 2021.10.01 06:25",
          "Fri 2021.10.01 06:25",
          "Fri 2021.10.01 06:25",
          "Fri 2021.10.01 06:25",
          "Fri 2021.10.01 06:25",
          "Fri 2021.10.01 06:25",
          "Fri 2021.10.01 06:25",
          "Fri 2021.10.01 06:25",
          "Fri 2021.10.01 06:25",
          "Fri 2021.10.01 06:25",
          "Fri 2021.10.01 06:25",
          "Fri 2021.10.01 06:25",
          "Fri 2021.10.01 06:25",
          "Fri 2021.10.01 06:25",
          "Fri 2021.10.01 06:25",
          "Fri 2021.10.01 06:25",
          "Fri 2021.10.01 06:25",
          "Fri 2021.10.01 06:46",
          "Fri 2021.10.01 06:46",
          "Fri 2021.10.01 06:46",
          "Fri 2021.10.01 06:46",
          "Fri 2021.10.01 06:46",
          "Fri 2021.10.01 06:46",
          "Fri 2021.10.01 06:46",
          "Fri 2021.10.01 06:46",
          "Fri 2021.10.01 06:46",
          "Fri 2021.10.01 06:46",
          "Fri 2021.10.01 06:46",
          "Fri 2021.10.01 06:46",
          "Fri 2021.10.01 06:46",
          "Fri 2021.10.01 06:46",
          "Fri 2021.10.01 06:46",
          "Fri 2021.10.01 06:46",
          "Fri 2021.10.01 06:46",
          "Fri 2021.10.01 06:46",
          "Fri 2021.10.01 06:46",
          "Fri 2021.10.01 06:46",
          "Fri 2021.10.01 06:46",
          "Fri 2021.10.01 06:46",
          "Fri 2021.10.01 06:46",
          "Fri 2021.10.01 06:46",
          "Fri 2021.10.01 06:46",
          "Fri 2021.10.01 06:46",
          "Fri 2021.10.01 06:46",
          "Fri 2021.10.01 06:46",
          "Fri 2021.10.01 06:46",
          "Fri 2021.10.01 06:46",
          "Fri 2021.10.01 06:46",
          "Fri 2021.10.01 06:46",
          "Fri 2021.10.01 06:46",
          "Fri 2021.10.01 06:46",
          "Fri 2021.10.01 06:46",
          "Fri 2021.10.01 06:46",
          "Fri 2021.10.01 06:46",
          "Fri 2021.10.01 06:46",
          "Fri 2021.10.01 06:46",
          "Fri 2021.10.01 06:46",
          "Fri 2021.10.01 06:46",
          "Fri 2021.10.01 06:46",
          "Fri 2021.10.01 06:46",
          "Fri 2021.10.01 06:46",
          "Fri 2021.10.01 06:46",
          "Fri 2021.10.01 06:46",
          "Fri 2021.10.01 06:46",
          "Fri 2021.10.01 06:46",
          "Fri 2021.10.01 06:46",
          "Fri 2021.10.01 06:46",
          "Fri 2021.10.01 06:46",
          "Fri 2021.10.01 06:46",
          "Fri 2021.10.01 06:46",
          "Fri 2021.10.01 06:46",
          "Fri 2021.10.01 06:46",
          "Fri 2021.10.01 06:46",
          "Fri 2021.10.01 06:46",
          "Fri 2021.10.01 06:46",
          "Fri 2021.10.01 06:46",
          "Fri 2021.10.01 06:46",
          "Fri 2021.10.01 06:46",
          "Fri 2021.10.01 06:46",
          "Fri 2021.10.01 06:46",
          "Fri 2021.10.01 06:46",
          "Fri 2021.10.01 06:46",
          "Fri 2021.10.01 06:46",
          "Fri 2021.10.01 06:46",
          "Fri 2021.10.01 06:46",
          "Fri 2021.10.01 06:46",
          "Fri 2021.10.01 06:46",
          "Fri 2021.10.01 06:46",
          "Fri 2021.10.01 06:46",
          "Fri 2021.10.01 06:46",
          "Fri 2021.10.01 06:46",
          "Fri 2021.10.01 06:46",
          "Fri 2021.10.01 06:46",
          "Fri 2021.10.01 06:46",
          "Fri 2021.10.01 06:46",
          "Fri 2021.10.01 06:46",
          "Fri 2021.10.01 06:46",
          "Fri 2021.10.01 06:46",
          "Fri 2021.10.01 06:46",
          "Fri 2021.10.01 06:46",
          "Fri 2021.10.01 06:46",
          "Fri 2021.10.01 06:46",
          "Fri 2021.10.01 06:46",
          "Fri 2021.10.01 06:46",
          "Fri 2021.10.01 06:46",
          "Fri 2021.10.01 06:46",
          "Fri 2021.10.01 06:46",
          "Fri 2021.10.01 06:46",
          "Fri 2021.10.01 06:46",
          "Fri 2021.10.01 06:46",
          "Fri 2021.10.01 06:46",
          "Fri 2021.10.01 06:46",
          "Fri 2021.10.01 06:46",
          "Fri 2021.10.01 06:46",
          "Fri 2021.10.01 06:46",
          "Fri 2021.10.01 06:46",
          "Fri 2021.10.01 06:46",
          "Fri 2021.10.01 06:46",
          "Fri 2021.10.01 06:46",
          "Fri 2021.10.01 06:46",
          "Fri 2021.10.01 06:46",
          "Fri 2021.10.01 06:46",
          "Fri 2021.10.01 06:46",
          "Fri 2021.10.01 06:46",
          "Fri 2021.10.01 06:46",
          "Fri 2021.10.01 06:46",
          "Fri 2021.10.01 06:46",
          "Fri 2021.10.01 06:46",
          "Fri 2021.10.01 06:46",
          "Fri 2021.10.01 06:46",
          "Fri 2021.10.01 06:46",
          "Fri 2021.10.01 06:46",
          "Fri 2021.10.01 06:46",
          "Fri 2021.10.01 06:46",
          "Fri 2021.10.01 06:46",
          "Fri 2021.10.01 06:46",
          "Fri 2021.10.01 06:46",
          "Fri 2021.10.01 06:46",
          "Fri 2021.10.01 06:46",
          "Fri 2021.10.01 06:46",
          "Fri 2021.10.01 06:46",
          "Fri 2021.10.01 06:46",
          "Fri 2021.10.01 06:46",
          "Fri 2021.10.01 06:46",
          "Fri 2021.10.01 06:46",
          "Fri 2021.10.01 06:46",
          "Fri 2021.10.01 06:46",
          "Fri 2021.10.01 06:46",
          "Fri 2021.10.01 06:46",
          "Fri 2021.10.01 06:46",
          "Fri 2021.10.01 06:46",
          "Fri 2021.10.01 06:46",
          "Fri 2021.10.01 06:46",
          "Fri 2021.10.01 06:46",
          "Fri 2021.10.01 06:46",
          "Fri 2021.10.01 06:46",
          "Fri 2021.10.01 06:46",
          "Fri 2021.10.01 06:46",
          "Fri 2021.10.01 06:46",
          "Fri 2021.10.01 06:46",
          "Fri 2021.10.01 06:46",
          "Fri 2021.10.01 06:46",
          "Fri 2021.10.01 06:46",
          "Fri 2021.10.01 06:46",
          "Fri 2021.10.01 06:46",
          "Fri 2021.10.01 06:46",
          "Fri 2021.10.01 06:46",
          "Fri 2021.10.01 06:46",
          "Fri 2021.10.01 06:46",
          "Fri 2021.10.01 06:46",
          "Fri 2021.10.01 06:46",
          "Fri 2021.10.01 06:46",
          "Fri 2021.10.01 06:46",
          "Fri 2021.10.01 06:46",
          "Fri 2021.10.01 06:46",
          "Fri 2021.10.01 06:46",
          "Fri 2021.10.01 06:46",
          "Fri 2021.10.01 06:46",
          "Fri 2021.10.01 06:46",
          "Fri 2021.10.01 06:46",
          "Fri 2021.10.01 06:46",
          "Fri 2021.10.01 06:46",
          "Fri 2021.10.01 06:46",
          "Fri 2021.10.01 06:46",
          "Fri 2021.10.01 06:46",
          "Fri 2021.10.01 06:46",
          "Fri 2021.10.01 06:46",
          "Fri 2021.10.01 06:46",
          "Fri 2021.10.01 06:46",
          "Fri 2021.10.01 06:46",
          "Fri 2021.10.01 06:46",
          "Fri 2021.10.01 06:46",
          "Fri 2021.10.01 06:46",
          "Fri 2021.10.01 06:46",
          "Fri 2021.10.01 06:46",
          "Fri 2021.10.01 06:46",
          "Fri 2021.10.01 06:46",
          "Fri 2021.10.01 06:46",
          "Fri 2021.10.01 06:46",
          "Fri 2021.10.01 06:46",
          "Fri 2021.10.01 06:46",
          "Fri 2021.10.01 06:46",
          "Fri 2021.10.01 06:46",
          "Fri 2021.10.01 06:46",
          "Fri 2021.10.01 06:46",
          "Fri 2021.10.01 06:46",
          "Fri 2021.10.01 06:46",
          "Fri 2021.10.01 06:46",
          "Fri 2021.10.01 06:46",
          "Fri 2021.10.01 06:46",
          "Fri 2021.10.01 06:46",
          "Fri 2021.10.01 06:46",
          "Fri 2021.10.01 06:46",
          "Fri 2021.10.01 06:46",
          "Fri 2021.10.01 06:46",
          "Fri 2021.10.01 06:46",
          "Fri 2021.10.01 06:46",
          "Fri 2021.10.01 06:46",
          "Fri 2021.10.01 06:46",
          "Fri 2021.10.01 06:46",
          "Fri 2021.10.01 06:46",
          "Fri 2021.10.01 06:46",
          "Fri 2021.10.01 06:46",
          "Fri 2021.10.01 06:46",
          "Fri 2021.10.01 06:46",
          "Fri 2021.10.01 06:46",
          "Fri 2021.10.01 06:46",
          "Fri 2021.10.01 06:46",
          "Fri 2021.10.01 06:46",
          "Fri 2021.10.01 06:46",
          "Fri 2021.10.01 06:46",
          "Fri 2021.10.01 06:46",
          "Fri 2021.10.01 06:46",
          "Fri 2021.10.01 06:46",
          "Fri 2021.10.01 06:46",
          "Fri 2021.10.01 06:46",
          "Fri 2021.10.01 06:46",
          "Fri 2021.10.01 06:46",
          "Fri 2021.10.01 06:46",
          "Fri 2021.10.01 06:46",
          "Fri 2021.10.01 06:46",
          "Fri 2021.10.01 06:46",
          "Fri 2021.10.01 06:46",
          "Fri 2021.10.01 07:05",
          "Fri 2021.10.01 07:05",
          "Fri 2021.10.01 07:05",
          "Fri 2021.10.01 07:05",
          "Fri 2021.10.01 07:05",
          "Fri 2021.10.01 07:05",
          "Fri 2021.10.01 07:05",
          "Fri 2021.10.01 07:05",
          "Fri 2021.10.01 07:05",
          "Fri 2021.10.01 07:05",
          "Fri 2021.10.01 07:05",
          "Fri 2021.10.01 07:05",
          "Fri 2021.10.01 07:05",
          "Fri 2021.10.01 07:05",
          "Fri 2021.10.01 07:05",
          "Fri 2021.10.01 07:05",
          "Fri 2021.10.01 07:05",
          "Fri 2021.10.01 07:05",
          "Fri 2021.10.01 07:05",
          "Fri 2021.10.01 07:05",
          "Fri 2021.10.01 07:05",
          "Fri 2021.10.01 07:05",
          "Fri 2021.10.01 07:05",
          "Fri 2021.10.01 07:05",
          "Fri 2021.10.01 07:05",
          "Fri 2021.10.01 07:05",
          "Fri 2021.10.01 07:05",
          "Fri 2021.10.01 07:05",
          "Fri 2021.10.01 07:05",
          "Fri 2021.10.01 07:05",
          "Fri 2021.10.01 07:05",
          "Fri 2021.10.01 07:05",
          "Fri 2021.10.01 07:05",
          "Fri 2021.10.01 07:05",
          "Fri 2021.10.01 07:05",
          "Fri 2021.10.01 07:05",
          "Fri 2021.10.01 07:05",
          "Fri 2021.10.01 07:05",
          "Fri 2021.10.01 07:05",
          "Fri 2021.10.01 07:05",
          "Fri 2021.10.01 07:05",
          "Fri 2021.10.01 07:05",
          "Fri 2021.10.01 07:05",
          "Fri 2021.10.01 07:05",
          "Fri 2021.10.01 07:05",
          "Fri 2021.10.01 07:05",
          "Fri 2021.10.01 07:05",
          "Fri 2021.10.01 07:05",
          "Fri 2021.10.01 07:05",
          "Fri 2021.10.01 07:05",
          "Fri 2021.10.01 07:05",
          "Fri 2021.10.01 07:05",
          "Fri 2021.10.01 07:05",
          "Fri 2021.10.01 07:05",
          "Fri 2021.10.01 07:05",
          "Fri 2021.10.01 07:05",
          "Fri 2021.10.01 07:05",
          "Fri 2021.10.01 07:05",
          "Fri 2021.10.01 07:05",
          "Fri 2021.10.01 07:05",
          "Fri 2021.10.01 07:05",
          "Fri 2021.10.01 07:05",
          "Fri 2021.10.01 07:05",
          "Fri 2021.10.01 07:05",
          "Fri 2021.10.01 07:05",
          "Fri 2021.10.01 07:05",
          "Fri 2021.10.01 07:05",
          "Fri 2021.10.01 07:05",
          "Fri 2021.10.01 07:05",
          "Fri 2021.10.01 07:05",
          "Fri 2021.10.01 07:05",
          "Fri 2021.10.01 07:05",
          "Fri 2021.10.01 07:05",
          "Fri 2021.10.01 07:05",
          "Fri 2021.10.01 07:05",
          "Fri 2021.10.01 07:05",
          "Fri 2021.10.01 07:05",
          "Fri 2021.10.01 07:05",
          "Fri 2021.10.01 07:05",
          "Fri 2021.10.01 07:05",
          "Fri 2021.10.01 07:05",
          "Fri 2021.10.01 07:05",
          "Fri 2021.10.01 07:05",
          "Fri 2021.10.01 07:05",
          "Fri 2021.10.01 07:05",
          "Fri 2021.10.01 07:05",
          "Fri 2021.10.01 07:05",
          "Fri 2021.10.01 07:05",
          "Fri 2021.10.01 07:05",
          "Fri 2021.10.01 07:05",
          "Fri 2021.10.01 07:05",
          "Fri 2021.10.01 07:05",
          "Fri 2021.10.01 07:05",
          "Fri 2021.10.01 07:05",
          "Fri 2021.10.01 07:05",
          "Fri 2021.10.01 07:05",
          "Fri 2021.10.01 07:05",
          "Fri 2021.10.01 07:05",
          "Fri 2021.10.01 07:05",
          "Fri 2021.10.01 07:05",
          "Fri 2021.10.01 07:05",
          "Fri 2021.10.01 07:05",
          "Fri 2021.10.01 07:05",
          "Fri 2021.10.01 07:05",
          "Fri 2021.10.01 07:05",
          "Fri 2021.10.01 07:05",
          "Fri 2021.10.01 07:05",
          "Fri 2021.10.01 07:05",
          "Fri 2021.10.01 07:05",
          "Fri 2021.10.01 07:05",
          "Fri 2021.10.01 07:05",
          "Fri 2021.10.01 07:05",
          "Fri 2021.10.01 07:05",
          "Fri 2021.10.01 07:05",
          "Fri 2021.10.01 07:05",
          "Fri 2021.10.01 07:05",
          "Fri 2021.10.01 07:05",
          "Fri 2021.10.01 07:05",
          "Fri 2021.10.01 07:05",
          "Fri 2021.10.01 07:05",
          "Fri 2021.10.01 07:05",
          "Fri 2021.10.01 07:05",
          "Fri 2021.10.01 07:05",
          "Fri 2021.10.01 07:05",
          "Fri 2021.10.01 07:05",
          "Fri 2021.10.01 07:05",
          "Fri 2021.10.01 07:05",
          "Fri 2021.10.01 07:05",
          "Fri 2021.10.01 07:05",
          "Fri 2021.10.01 07:05",
          "Fri 2021.10.01 07:05",
          "Fri 2021.10.01 07:05",
          "Fri 2021.10.01 07:05",
          "Fri 2021.10.01 07:05",
          "Fri 2021.10.01 07:05",
          "Fri 2021.10.01 07:05",
          "Fri 2021.10.01 07:05",
          "Fri 2021.10.01 07:05",
          "Fri 2021.10.01 07:05",
          "Fri 2021.10.01 07:05",
          "Fri 2021.10.01 07:05",
          "Fri 2021.10.01 07:05",
          "Fri 2021.10.01 07:05",
          "Fri 2021.10.01 07:05",
          "Fri 2021.10.01 07:05",
          "Fri 2021.10.01 07:05",
          "Fri 2021.10.01 07:05",
          "Fri 2021.10.01 07:05",
          "Fri 2021.10.01 07:05",
          "Fri 2021.10.01 07:05",
          "Fri 2021.10.01 07:05",
          "Fri 2021.10.01 07:05",
          "Fri 2021.10.01 07:05",
          "Fri 2021.10.01 07:05",
          "Fri 2021.10.01 07:05",
          "Fri 2021.10.01 07:05",
          "Fri 2021.10.01 07:05",
          "Fri 2021.10.01 07:05",
          "Fri 2021.10.01 07:05",
          "Fri 2021.10.01 07:05",
          "Fri 2021.10.01 07:05",
          "Fri 2021.10.01 07:05",
          "Fri 2021.10.01 07:05",
          "Fri 2021.10.01 07:05",
          "Fri 2021.10.01 07:05",
          "Fri 2021.10.01 07:05",
          "Fri 2021.10.01 07:05",
          "Fri 2021.10.01 07:05",
          "Fri 2021.10.01 07:05",
          "Fri 2021.10.01 07:05",
          "Fri 2021.10.01 07:05",
          "Fri 2021.10.01 07:05",
          "Fri 2021.10.01 07:05",
          "Fri 2021.10.01 07:05",
          "Fri 2021.10.01 07:05",
          "Fri 2021.10.01 07:05",
          "Fri 2021.10.01 07:05",
          "Fri 2021.10.01 07:05",
          "Fri 2021.10.01 07:05",
          "Fri 2021.10.01 07:05",
          "Fri 2021.10.01 07:05",
          "Fri 2021.10.01 07:05",
          "Fri 2021.10.01 07:05",
          "Fri 2021.10.01 07:05",
          "Fri 2021.10.01 07:05",
          "Fri 2021.10.01 07:05",
          "Fri 2021.10.01 07:05",
          "Fri 2021.10.01 07:05",
          "Fri 2021.10.01 07:05",
          "Fri 2021.10.01 07:05",
          "Fri 2021.10.01 07:05",
          "Fri 2021.10.01 07:05",
          "Fri 2021.10.01 07:05",
          "Fri 2021.10.01 07:05",
          "Fri 2021.10.01 07:05",
          "Fri 2021.10.01 07:05",
          "Fri 2021.10.01 07:05",
          "Fri 2021.10.01 07:05",
          "Fri 2021.10.01 07:05",
          "Fri 2021.10.01 07:05",
          "Fri 2021.10.01 07:05",
          "Fri 2021.10.01 07:05",
          "Fri 2021.10.01 07:05",
          "Fri 2021.10.01 07:05",
          "Fri 2021.10.01 07:05",
          "Fri 2021.10.01 07:05",
          "Fri 2021.10.01 07:05",
          "Fri 2021.10.01 07:05",
          "Fri 2021.10.01 07:05",
          "Fri 2021.10.01 07:05",
          "Fri 2021.10.01 07:05",
          "Fri 2021.10.01 07:05",
          "Fri 2021.10.01 07:05",
          "Fri 2021.10.01 07:05",
          "Fri 2021.10.01 07:05",
          "Fri 2021.10.01 07:05",
          "Fri 2021.10.01 07:05",
          "Fri 2021.10.01 07:05",
          "Fri 2021.10.01 07:05",
          "Fri 2021.10.01 07:05",
          "Fri 2021.10.01 07:05",
          "Fri 2021.10.01 07:05",
          "Fri 2021.10.01 07:05",
          "Fri 2021.10.01 07:05",
          "Fri 2021.10.01 07:05",
          "Fri 2021.10.01 07:05"
         ],
         "xaxis": "x",
         "y": [
          1093.8299560546875,
          911.9939575195312,
          483.55706787109375,
          806.532470703125,
          481.9424743652344,
          254.57801818847656,
          565.5025634765625,
          317.6798400878906,
          174.54248046875,
          807.9946899414062,
          628.787841796875,
          860.9544677734375,
          471.2265625,
          212.34555053710938,
          567.4246215820312,
          321.7121887207031,
          108.60994720458984,
          320.9643249511719,
          1429.71533203125,
          1302.3643798828125,
          807.476318359375,
          631.17626953125,
          924.2324829101562,
          776.0553588867188,
          443.1059265136719,
          606.41357421875,
          595.2486572265625,
          1496.3638916015625,
          1673.3355712890625,
          1038.8399658203125,
          948.28271484375,
          978.3782348632812,
          723.6844482421875,
          505.83502197265625,
          547.5997314453125,
          458.1296691894531,
          1898.31103515625,
          1781.3082275390625,
          893.711181640625,
          1147.477294921875,
          1017.326416015625,
          654.3682861328125,
          550.903076171875,
          499.9093017578125,
          357.2384338378906,
          959.7835083007812,
          617.3927612304688,
          401.65618896484375,
          440.0352478027344,
          288.66766357421875,
          162.31187438964844,
          191.13478088378906,
          83.25633239746094,
          42.48372268676758,
          1069.435791015625,
          668.4962768554688,
          344.92779541015625,
          843.3069458007812,
          632.97314453125,
          423.0201416015625,
          646.9486083984375,
          541.4892578125,
          422.7738342285156,
          186.57272338867188,
          134.56634521484375,
          123.42070770263672,
          449.0822448730469,
          307.86663818359375,
          228.5639190673828,
          537.7786865234375,
          432.590087890625,
          364.62353515625,
          506.649169921875,
          312.70751953125,
          212.89242553710938,
          736.6018676757812,
          506.6380310058594,
          368.3045959472656,
          1056.5191650390625,
          639.2821655273438,
          282.08258056640625,
          265.465576171875,
          286.0322265625,
          269.3143615722656,
          863.4473876953125,
          525.8348388671875,
          301.3492431640625,
          642.686279296875,
          749.007568359375,
          801.785400390625,
          620.08447265625,
          484.5481872558594,
          1043.126220703125,
          763.77392578125,
          589.3895874023438,
          796.4959716796875,
          631.4386596679688,
          496.02703857421875,
          992.073974609375,
          769.764892578125,
          619.5213012695312,
          1156.4176025390625,
          899.4940185546875,
          741.9368896484375,
          2278.02783203125,
          2091.4404296875,
          1928.08056640625,
          2852.3046875,
          2645.51318359375,
          2478.343994140625,
          3415.016845703125,
          3189.099365234375,
          3015.631103515625,
          9821.4814453125,
          9262.6953125,
          8713.373046875,
          12405.892578125,
          11826.166015625,
          11257.2294921875,
          14954.0732421875,
          14341.9267578125,
          13744.876953125,
          12391.1015625,
          11476.8017578125,
          10558.0947265625,
          15857.234375,
          14950.2080078125,
          14041.529296875,
          19320.267578125,
          18407.298828125,
          17487.046875,
          1561.9971923828125,
          25.54582977294922,
          1410.5269775390625,
          447.9731140136719,
          1138.176025390625,
          2516.2177734375,
          949.3715209960938,
          2513.936279296875,
          3844.510986328125,
          2030.93408203125,
          2756.48486328125,
          3519.987548828125,
          4918.38232421875,
          5730.72705078125,
          6592.30419921875,
          7750.7724609375,
          8664.0380859375,
          9637.857421875,
          1580.8995361328125,
          1893.023193359375,
          2243.175537109375,
          2886.888671875,
          3253.803955078125,
          3703.63232421875,
          4180.765625,
          4619.9990234375,
          5205.67529296875,
          177.44972229003906,
          264.7597351074219,
          390.4962158203125,
          234.22894287109375,
          345.6150817871094,
          485.2674865722656,
          385.41888427734375,
          489.92108154296875,
          246.00401306152344,
          360.15924072265625,
          508.06427001953125,
          89.94332122802734,
          189.04449462890625,
          286.73651123046875,
          317.092041015625,
          547.0104370117188,
          845.2259521484375,
          289.7196044921875,
          434.49383544921875,
          542.2610473632812,
          209.5927276611328,
          300.1489562988281,
          333.1907653808594,
          397.55511474609375,
          661.8844604492188,
          1041.414306640625,
          297.5003356933594,
          440.0617980957031,
          640.931640625,
          178.57867431640625,
          276.86932373046875,
          362.04644775390625,
          755.7135620117188,
          657.813720703125,
          576.39453125,
          823.1900024414062,
          753.64501953125,
          672.93896484375,
          932.4933471679688,
          871.6431274414062,
          782.2566528320312,
          5603.85888671875,
          5424.74755859375,
          5262.13427734375,
          6140.74658203125,
          5949.64501953125,
          5772.7109375,
          6679.16845703125,
          6468.982421875,
          6271.7529296875,
          22118.486328125,
          21837.986328125,
          21578.708984375,
          23045.896484375,
          22753.39453125,
          22479.66796875,
          23976.255859375,
          23659.548828125,
          23364.61328125,
          9645.78125,
          9211.9208984375,
          8808.1708984375,
          10586.2275390625,
          10130.1552734375,
          9704.376953125,
          11519.55859375,
          11026.142578125,
          10569.546875,
          79773.671875,
          79169.703125,
          78553.96875,
          80570.0625,
          79992.84375,
          79403.46875,
          81362.46875,
          80793.484375,
          80212.578125,
          15583.87109375,
          16469.07421875,
          17379.533203125,
          16153.57421875,
          17021.345703125,
          17917.36328125,
          16680.03125,
          17555.833984375,
          18465.80859375,
          373.6755065917969,
          438.2530517578125,
          503.77008056640625,
          601.3577880859375,
          652.9624633789062,
          711.8263549804688,
          845.4801025390625,
          877.1156005859375,
          927.4036865234375,
          361.1381530761719,
          338.07269287109375,
          302.6729431152344,
          345.8060302734375,
          298.2054138183594,
          249.88656616210938,
          480.56756591796875,
          394.22100830078125,
          337.34857177734375,
          284.8642883300781,
          290.18109130859375,
          267.7859802246094,
          423.6431884765625,
          394.4210205078125,
          363.9921569824219,
          596.8203125,
          529.7409057617188,
          487.1311950683594,
          711.3001708984375,
          420.9676208496094,
          178.81275939941406,
          811.1842041015625,
          494.994873046875,
          255.8799285888672,
          936.7054443359375,
          596.0089721679688,
          346.9472351074219,
          582.1254272460938,
          477.32452392578125,
          350.850341796875,
          666.0614013671875,
          522.791748046875,
          391.2497863769531,
          778.9321899414062,
          594.8362426757812,
          453.8398742675781,
          512.04736328125,
          437.30657958984375,
          328.1876220703125,
          545.0740356445312,
          438.19549560546875,
          332.3810729980469,
          609.1741333007812,
          468.8414306640625,
          362.0378112792969,
          488.5736083984375,
          475.1396179199219,
          429.7248840332031,
          370.1309509277344,
          493.953369140625,
          413.2113037109375,
          540.6997680664062,
          500.138916015625,
          418.8974609375,
          478.26043701171875,
          340.6403503417969,
          444.27593994140625,
          360.86004638671875,
          568.074951171875,
          481.8046569824219,
          348.8525085449219,
          442.7610778808594,
          355.8902587890625,
          254.12355041503906,
          352.74639892578125,
          265.2965087890625,
          193.84288024902344,
          554.8699340820312,
          451.26837158203125,
          299.01776123046875,
          415.1683044433594,
          317.5704345703125,
          210.07266235351562,
          319.15423583984375,
          228.44564819335938,
          172.6299285888672,
          415.539306640625,
          257.3473815917969,
          389.3678894042969,
          284.0558776855469,
          166.62034606933594,
          288.9209899902344,
          126.13386535644531,
          518.0714111328125,
          331.1689147949219,
          154.37184143066406,
          378.2857971191406,
          220.39146423339844,
          52.3347053527832,
          290.0035400390625,
          150.50282287597656,
          72.74331665039062,
          346.3983154296875,
          195.4498291015625,
          117.85017395019531,
          220.39260864257812,
          89.77262878417969,
          153.66973876953125,
          131.20779418945312,
          32.658565521240234,
          208.58944702148438,
          302.2977600097656,
          228.07720947265625,
          149.20326232910156,
          200.1027069091797,
          141.22198486328125,
          58.63555145263672,
          235.32933044433594,
          365.47412109375,
          229.8781280517578,
          247.24069213867188,
          270.4554138183594,
          77.19310760498047,
          295.7659912109375,
          203.6522979736328,
          107.9232177734375,
          315.0141296386719,
          1044.894287109375,
          661.2090454101562,
          733.6141357421875,
          974.2456665039062,
          807.6812744140625,
          687.1389770507812,
          877.1800537109375,
          828.0864868164062,
          412.0892639160156,
          729.66064453125,
          1311.252685546875,
          527.3087768554688,
          400.7981872558594,
          870.485595703125,
          627.515380859375,
          281.2715148925781,
          579.4491577148438,
          711.7943725585938,
          469.6319580078125,
          538.4956665039062,
          708.4248657226562,
          537.7492065429688,
          441.8190612792969,
          696.2666625976562,
          562.5731201171875,
          425.5384826660156,
          1091.6273193359375,
          869.0619506835938,
          421.11016845703125,
          611.9248046875,
          356.3634948730469,
          216.85498046875,
          368.06329345703125,
          119.8335189819336,
          302.453125,
          414.1034851074219,
          401.583251953125,
          483.3447265625,
          730.749755859375,
          600.6800537109375,
          587.0347290039062,
          990.0844116210938,
          806.2963256835938,
          724.0816650390625,
          783.1793823242188,
          667.3492431640625,
          623.136474609375,
          981.7644653320312,
          821.0068359375,
          720.12646484375,
          1152.81396484375,
          960.9585571289062,
          814.8091430664062,
          798.6419677734375,
          656.1553955078125,
          578.3313598632812,
          958.077880859375,
          784.1739501953125,
          663.4722290039062,
          1097.1566162109375,
          898.6769409179688,
          742.1853637695312,
          143.0912322998047,
          67.0335693359375,
          121.40160369873047,
          152.1978302001953,
          42.98841857910156,
          444.4209289550781,
          189.8031768798828,
          76.97918701171875,
          94.56254577636719,
          151.13467407226562,
          199.91799926757812,
          107.70796203613281,
          42.170494079589844,
          371.22637939453125,
          259.0349426269531,
          155.9073944091797,
          444.0169372558594,
          427.0771789550781,
          256.5064392089844,
          371.644775390625,
          226.21388244628906,
          475.29180908203125,
          434.1918029785156,
          421.4722595214844,
          412.9822692871094,
          372.2377014160156,
          438.795166015625,
          838.9281616210938,
          1419.4725341796875,
          406.73046875,
          668.6400146484375,
          1053.2471923828125,
          245.0673370361328,
          499.9822998046875,
          631.2855224609375,
          1106.8128662109375,
          1913.8951416015625,
          438.154052734375,
          807.9949951171875,
          1300.8143310546875,
          185.85223388671875,
          496.4267578125,
          857.0633544921875,
          370.198486328125,
          726.8240966796875,
          833.3316040039062,
          211.04910278320312,
          339.4918518066406,
          400.4398498535156,
          145.0885009765625,
          255.09959411621094,
          398.02020263671875,
          519.6156616210938,
          749.18896484375,
          1025.9661865234375,
          539.4624633789062,
          723.7109985351562,
          915.2799072265625,
          540.675537109375,
          712.9815063476562,
          883.1568603515625,
          335.55645751953125,
          290.45904541015625,
          362.6681213378906,
          347.8913879394531,
          404.29901123046875,
          503.0833435058594,
          375.043212890625,
          480.6772155761719,
          601.7565307617188,
          501.0400085449219,
          498.24761962890625,
          521.7272338867188,
          513.2770385742188,
          554.8011474609375,
          600.8704833984375,
          518.4578247070312,
          589.6747436523438,
          659.5631713867188,
          106.80902862548828,
          226.93055725097656,
          283.05877685546875,
          56.41434097290039,
          152.9032745361328,
          235.32470703125,
          128.57008361816406,
          150.6002655029297,
          215.7199249267578,
          841.7069702148438,
          787.4432373046875,
          639.5713500976562,
          736.6552734375,
          692.5228881835938,
          596.6150512695312,
          645.2927856445312,
          623.0763549804688,
          567.936767578125,
          861.0603637695312,
          683.3167724609375,
          521.41650390625,
          794.4407958984375,
          659.6015625,
          521.9683227539062,
          732.3566284179688,
          638.8611450195312,
          536.6887817382812,
          957.9158325195312,
          791.6592407226562,
          688.18017578125,
          939.4307250976562,
          796.38427734375,
          686.7553100585938,
          897.6381225585938,
          793.6179809570312,
          702.7832641601562,
          845.5750122070312,
          701.9149169921875,
          611.9864501953125,
          863.2520141601562,
          718.8275146484375,
          621.4108276367188,
          860.6781005859375,
          743.8189086914062,
          658.8998413085938,
          1046.1591796875,
          799.6964721679688,
          619.8153686523438,
          1111.379638671875,
          837.42431640625,
          653.8302001953125,
          1169.8045654296875,
          902.9415283203125,
          727.0130615234375,
          1161.0072021484375,
          844.8975830078125,
          613.6954345703125,
          1285.246826171875,
          927.134765625,
          690.3757934570312,
          1036.9696044921875,
          805.1795654296875,
          1052.2615966796875,
          790.53125,
          586.584228515625,
          908.41064453125,
          689.4356079101562,
          840.2557983398438,
          937.8488159179688,
          668.5880737304688,
          431.1121520996094,
          1179.1029052734375,
          871.9852905273438,
          630.7777099609375,
          1137.4541015625,
          896.9265747070312,
          831.5345458984375,
          481.75592041015625,
          215.76673889160156,
          1097.55419921875,
          664.8818969726562,
          344.14276123046875,
          984.1444702148438,
          675.484130859375,
          711.9149169921875,
          662.6686401367188,
          791.612548828125,
          832.81884765625,
          352.46478271484375,
          193.10723876953125,
          780.1347045898438,
          390.58734130859375,
          1448.95458984375,
          576.3175048828125,
          201.12789916992188,
          3559.17431640625,
          2602.343505859375,
          1846.900146484375,
          4562.326171875,
          3688.65771484375,
          15745.73828125,
          15875.41015625,
          16406.322265625,
          15409.822265625,
          15492.2353515625,
          16005.021484375,
          15074.7265625,
          15097.4677734375,
          15576.146484375,
          6470.25732421875,
          6457.4091796875,
          6454.0361328125,
          6486.29345703125,
          6475.015625,
          6472.90771484375,
          6488.70361328125,
          6479.91943359375,
          6479.13671875,
          2039.09228515625,
          2054.6298828125,
          2124.29052734375,
          2091.157470703125,
          2110.34423828125,
          2164.206298828125,
          2141.008056640625,
          2159.493896484375,
          2196.21337890625,
          892.9684448242188,
          1019.6654663085938,
          1239.2813720703125,
          1013.63916015625,
          1104.1502685546875,
          1243.812744140625,
          1129.8365478515625,
          1190.109619140625,
          1265.81787109375,
          387.04302978515625,
          621.404052734375,
          896.2333374023438,
          432.69873046875,
          606.9562377929688,
          799.0508422851562,
          495.89703369140625,
          614.3633422851562,
          728.734619140625,
          353.8366394042969,
          369.3228454589844,
          424.7047424316406,
          196.9438018798828,
          223.4231719970703,
          263.7010803222656,
          140.68801879882812,
          201.5386962890625,
          245.27456665039062,
          339.34185791015625,
          410.68426513671875,
          552.0440673828125,
          218.72300720214844,
          332.3604431152344,
          470.40899658203125,
          253.31436157226562,
          387.3263854980469,
          312.0939025878906,
          249.4269256591797,
          374.07708740234375,
          92.59797668457031,
          268.57000732421875,
          509.218505859375,
          261.0387268066406,
          366.6055603027344,
          357.8473205566406,
          165.32322692871094,
          513.9884033203125,
          304.358642578125,
          0,
          0,
          0,
          0,
          0,
          0,
          0,
          0,
          0,
          0,
          0,
          0,
          0,
          0,
          0,
          0,
          0,
          0,
          0,
          0,
          0,
          0,
          0,
          0,
          0,
          0,
          0,
          0,
          0,
          0,
          0,
          0,
          0,
          0,
          0,
          0,
          0,
          0,
          0,
          0,
          0,
          0,
          0,
          0,
          0,
          0,
          0,
          0,
          0,
          0,
          0,
          0,
          0,
          0,
          0,
          0,
          0,
          0,
          0,
          0,
          0,
          0,
          0,
          0,
          0,
          0,
          0,
          0,
          0,
          0,
          0,
          0,
          0,
          0,
          0,
          0,
          0,
          0,
          0,
          0,
          0,
          0,
          0,
          0,
          0,
          0,
          0,
          0,
          0,
          0,
          0,
          0,
          0,
          0,
          0,
          0,
          0,
          0,
          0,
          0,
          0,
          0,
          0,
          0,
          0,
          0,
          0,
          0,
          0,
          0,
          0,
          0,
          0,
          0,
          0,
          0,
          0,
          0,
          0,
          0,
          0,
          0,
          0,
          0,
          0,
          0,
          0,
          0,
          0,
          0,
          0,
          0,
          0,
          0,
          0,
          0,
          0,
          0,
          0,
          0,
          0,
          0,
          0,
          0,
          0,
          0,
          0,
          0,
          0,
          0,
          0,
          0,
          0,
          0,
          0,
          0,
          0,
          0,
          0,
          0,
          0,
          0,
          0,
          0,
          0,
          0,
          0,
          0,
          0,
          0,
          0,
          0,
          0,
          0,
          0,
          0,
          0,
          0,
          0,
          0,
          0,
          0,
          0,
          0,
          0,
          0,
          0,
          0,
          0,
          0,
          0,
          0,
          0,
          0,
          0,
          0,
          0,
          0,
          0,
          0,
          0,
          0,
          0,
          0,
          0,
          0,
          0,
          0,
          0,
          0,
          0,
          0,
          0,
          0,
          0,
          0,
          0,
          0,
          0,
          0,
          0,
          0,
          0,
          0,
          0,
          0
         ],
         "yaxis": "y"
        }
       ],
       "layout": {
        "barmode": "group",
        "coloraxis": {
         "colorbar": {
          "title": {
           "text": "Laser"
          }
         },
         "colorscale": [
          [
           0,
           "#0d0887"
          ],
          [
           0.1111111111111111,
           "#46039f"
          ],
          [
           0.2222222222222222,
           "#7201a8"
          ],
          [
           0.3333333333333333,
           "#9c179e"
          ],
          [
           0.4444444444444444,
           "#bd3786"
          ],
          [
           0.5555555555555556,
           "#d8576b"
          ],
          [
           0.6666666666666666,
           "#ed7953"
          ],
          [
           0.7777777777777778,
           "#fb9f3a"
          ],
          [
           0.8888888888888888,
           "#fdca26"
          ],
          [
           1,
           "#f0f921"
          ]
         ]
        },
        "legend": {
         "tracegroupgap": 0
        },
        "margin": {
         "t": 60
        },
        "template": {
         "data": {
          "bar": [
           {
            "error_x": {
             "color": "#2a3f5f"
            },
            "error_y": {
             "color": "#2a3f5f"
            },
            "marker": {
             "line": {
              "color": "#E5ECF6",
              "width": 0.5
             },
             "pattern": {
              "fillmode": "overlay",
              "size": 10,
              "solidity": 0.2
             }
            },
            "type": "bar"
           }
          ],
          "barpolar": [
           {
            "marker": {
             "line": {
              "color": "#E5ECF6",
              "width": 0.5
             },
             "pattern": {
              "fillmode": "overlay",
              "size": 10,
              "solidity": 0.2
             }
            },
            "type": "barpolar"
           }
          ],
          "carpet": [
           {
            "aaxis": {
             "endlinecolor": "#2a3f5f",
             "gridcolor": "white",
             "linecolor": "white",
             "minorgridcolor": "white",
             "startlinecolor": "#2a3f5f"
            },
            "baxis": {
             "endlinecolor": "#2a3f5f",
             "gridcolor": "white",
             "linecolor": "white",
             "minorgridcolor": "white",
             "startlinecolor": "#2a3f5f"
            },
            "type": "carpet"
           }
          ],
          "choropleth": [
           {
            "colorbar": {
             "outlinewidth": 0,
             "ticks": ""
            },
            "type": "choropleth"
           }
          ],
          "contour": [
           {
            "colorbar": {
             "outlinewidth": 0,
             "ticks": ""
            },
            "colorscale": [
             [
              0,
              "#0d0887"
             ],
             [
              0.1111111111111111,
              "#46039f"
             ],
             [
              0.2222222222222222,
              "#7201a8"
             ],
             [
              0.3333333333333333,
              "#9c179e"
             ],
             [
              0.4444444444444444,
              "#bd3786"
             ],
             [
              0.5555555555555556,
              "#d8576b"
             ],
             [
              0.6666666666666666,
              "#ed7953"
             ],
             [
              0.7777777777777778,
              "#fb9f3a"
             ],
             [
              0.8888888888888888,
              "#fdca26"
             ],
             [
              1,
              "#f0f921"
             ]
            ],
            "type": "contour"
           }
          ],
          "contourcarpet": [
           {
            "colorbar": {
             "outlinewidth": 0,
             "ticks": ""
            },
            "type": "contourcarpet"
           }
          ],
          "heatmap": [
           {
            "colorbar": {
             "outlinewidth": 0,
             "ticks": ""
            },
            "colorscale": [
             [
              0,
              "#0d0887"
             ],
             [
              0.1111111111111111,
              "#46039f"
             ],
             [
              0.2222222222222222,
              "#7201a8"
             ],
             [
              0.3333333333333333,
              "#9c179e"
             ],
             [
              0.4444444444444444,
              "#bd3786"
             ],
             [
              0.5555555555555556,
              "#d8576b"
             ],
             [
              0.6666666666666666,
              "#ed7953"
             ],
             [
              0.7777777777777778,
              "#fb9f3a"
             ],
             [
              0.8888888888888888,
              "#fdca26"
             ],
             [
              1,
              "#f0f921"
             ]
            ],
            "type": "heatmap"
           }
          ],
          "heatmapgl": [
           {
            "colorbar": {
             "outlinewidth": 0,
             "ticks": ""
            },
            "colorscale": [
             [
              0,
              "#0d0887"
             ],
             [
              0.1111111111111111,
              "#46039f"
             ],
             [
              0.2222222222222222,
              "#7201a8"
             ],
             [
              0.3333333333333333,
              "#9c179e"
             ],
             [
              0.4444444444444444,
              "#bd3786"
             ],
             [
              0.5555555555555556,
              "#d8576b"
             ],
             [
              0.6666666666666666,
              "#ed7953"
             ],
             [
              0.7777777777777778,
              "#fb9f3a"
             ],
             [
              0.8888888888888888,
              "#fdca26"
             ],
             [
              1,
              "#f0f921"
             ]
            ],
            "type": "heatmapgl"
           }
          ],
          "histogram": [
           {
            "marker": {
             "pattern": {
              "fillmode": "overlay",
              "size": 10,
              "solidity": 0.2
             }
            },
            "type": "histogram"
           }
          ],
          "histogram2d": [
           {
            "colorbar": {
             "outlinewidth": 0,
             "ticks": ""
            },
            "colorscale": [
             [
              0,
              "#0d0887"
             ],
             [
              0.1111111111111111,
              "#46039f"
             ],
             [
              0.2222222222222222,
              "#7201a8"
             ],
             [
              0.3333333333333333,
              "#9c179e"
             ],
             [
              0.4444444444444444,
              "#bd3786"
             ],
             [
              0.5555555555555556,
              "#d8576b"
             ],
             [
              0.6666666666666666,
              "#ed7953"
             ],
             [
              0.7777777777777778,
              "#fb9f3a"
             ],
             [
              0.8888888888888888,
              "#fdca26"
             ],
             [
              1,
              "#f0f921"
             ]
            ],
            "type": "histogram2d"
           }
          ],
          "histogram2dcontour": [
           {
            "colorbar": {
             "outlinewidth": 0,
             "ticks": ""
            },
            "colorscale": [
             [
              0,
              "#0d0887"
             ],
             [
              0.1111111111111111,
              "#46039f"
             ],
             [
              0.2222222222222222,
              "#7201a8"
             ],
             [
              0.3333333333333333,
              "#9c179e"
             ],
             [
              0.4444444444444444,
              "#bd3786"
             ],
             [
              0.5555555555555556,
              "#d8576b"
             ],
             [
              0.6666666666666666,
              "#ed7953"
             ],
             [
              0.7777777777777778,
              "#fb9f3a"
             ],
             [
              0.8888888888888888,
              "#fdca26"
             ],
             [
              1,
              "#f0f921"
             ]
            ],
            "type": "histogram2dcontour"
           }
          ],
          "mesh3d": [
           {
            "colorbar": {
             "outlinewidth": 0,
             "ticks": ""
            },
            "type": "mesh3d"
           }
          ],
          "parcoords": [
           {
            "line": {
             "colorbar": {
              "outlinewidth": 0,
              "ticks": ""
             }
            },
            "type": "parcoords"
           }
          ],
          "pie": [
           {
            "automargin": true,
            "type": "pie"
           }
          ],
          "scatter": [
           {
            "fillpattern": {
             "fillmode": "overlay",
             "size": 10,
             "solidity": 0.2
            },
            "type": "scatter"
           }
          ],
          "scatter3d": [
           {
            "line": {
             "colorbar": {
              "outlinewidth": 0,
              "ticks": ""
             }
            },
            "marker": {
             "colorbar": {
              "outlinewidth": 0,
              "ticks": ""
             }
            },
            "type": "scatter3d"
           }
          ],
          "scattercarpet": [
           {
            "marker": {
             "colorbar": {
              "outlinewidth": 0,
              "ticks": ""
             }
            },
            "type": "scattercarpet"
           }
          ],
          "scattergeo": [
           {
            "marker": {
             "colorbar": {
              "outlinewidth": 0,
              "ticks": ""
             }
            },
            "type": "scattergeo"
           }
          ],
          "scattergl": [
           {
            "marker": {
             "colorbar": {
              "outlinewidth": 0,
              "ticks": ""
             }
            },
            "type": "scattergl"
           }
          ],
          "scattermapbox": [
           {
            "marker": {
             "colorbar": {
              "outlinewidth": 0,
              "ticks": ""
             }
            },
            "type": "scattermapbox"
           }
          ],
          "scatterpolar": [
           {
            "marker": {
             "colorbar": {
              "outlinewidth": 0,
              "ticks": ""
             }
            },
            "type": "scatterpolar"
           }
          ],
          "scatterpolargl": [
           {
            "marker": {
             "colorbar": {
              "outlinewidth": 0,
              "ticks": ""
             }
            },
            "type": "scatterpolargl"
           }
          ],
          "scatterternary": [
           {
            "marker": {
             "colorbar": {
              "outlinewidth": 0,
              "ticks": ""
             }
            },
            "type": "scatterternary"
           }
          ],
          "surface": [
           {
            "colorbar": {
             "outlinewidth": 0,
             "ticks": ""
            },
            "colorscale": [
             [
              0,
              "#0d0887"
             ],
             [
              0.1111111111111111,
              "#46039f"
             ],
             [
              0.2222222222222222,
              "#7201a8"
             ],
             [
              0.3333333333333333,
              "#9c179e"
             ],
             [
              0.4444444444444444,
              "#bd3786"
             ],
             [
              0.5555555555555556,
              "#d8576b"
             ],
             [
              0.6666666666666666,
              "#ed7953"
             ],
             [
              0.7777777777777778,
              "#fb9f3a"
             ],
             [
              0.8888888888888888,
              "#fdca26"
             ],
             [
              1,
              "#f0f921"
             ]
            ],
            "type": "surface"
           }
          ],
          "table": [
           {
            "cells": {
             "fill": {
              "color": "#EBF0F8"
             },
             "line": {
              "color": "white"
             }
            },
            "header": {
             "fill": {
              "color": "#C8D4E3"
             },
             "line": {
              "color": "white"
             }
            },
            "type": "table"
           }
          ]
         },
         "layout": {
          "annotationdefaults": {
           "arrowcolor": "#2a3f5f",
           "arrowhead": 0,
           "arrowwidth": 1
          },
          "autotypenumbers": "strict",
          "coloraxis": {
           "colorbar": {
            "outlinewidth": 0,
            "ticks": ""
           }
          },
          "colorscale": {
           "diverging": [
            [
             0,
             "#8e0152"
            ],
            [
             0.1,
             "#c51b7d"
            ],
            [
             0.2,
             "#de77ae"
            ],
            [
             0.3,
             "#f1b6da"
            ],
            [
             0.4,
             "#fde0ef"
            ],
            [
             0.5,
             "#f7f7f7"
            ],
            [
             0.6,
             "#e6f5d0"
            ],
            [
             0.7,
             "#b8e186"
            ],
            [
             0.8,
             "#7fbc41"
            ],
            [
             0.9,
             "#4d9221"
            ],
            [
             1,
             "#276419"
            ]
           ],
           "sequential": [
            [
             0,
             "#0d0887"
            ],
            [
             0.1111111111111111,
             "#46039f"
            ],
            [
             0.2222222222222222,
             "#7201a8"
            ],
            [
             0.3333333333333333,
             "#9c179e"
            ],
            [
             0.4444444444444444,
             "#bd3786"
            ],
            [
             0.5555555555555556,
             "#d8576b"
            ],
            [
             0.6666666666666666,
             "#ed7953"
            ],
            [
             0.7777777777777778,
             "#fb9f3a"
            ],
            [
             0.8888888888888888,
             "#fdca26"
            ],
            [
             1,
             "#f0f921"
            ]
           ],
           "sequentialminus": [
            [
             0,
             "#0d0887"
            ],
            [
             0.1111111111111111,
             "#46039f"
            ],
            [
             0.2222222222222222,
             "#7201a8"
            ],
            [
             0.3333333333333333,
             "#9c179e"
            ],
            [
             0.4444444444444444,
             "#bd3786"
            ],
            [
             0.5555555555555556,
             "#d8576b"
            ],
            [
             0.6666666666666666,
             "#ed7953"
            ],
            [
             0.7777777777777778,
             "#fb9f3a"
            ],
            [
             0.8888888888888888,
             "#fdca26"
            ],
            [
             1,
             "#f0f921"
            ]
           ]
          },
          "colorway": [
           "#636efa",
           "#EF553B",
           "#00cc96",
           "#ab63fa",
           "#FFA15A",
           "#19d3f3",
           "#FF6692",
           "#B6E880",
           "#FF97FF",
           "#FECB52"
          ],
          "font": {
           "color": "#2a3f5f"
          },
          "geo": {
           "bgcolor": "white",
           "lakecolor": "white",
           "landcolor": "#E5ECF6",
           "showlakes": true,
           "showland": true,
           "subunitcolor": "white"
          },
          "hoverlabel": {
           "align": "left"
          },
          "hovermode": "closest",
          "mapbox": {
           "style": "light"
          },
          "paper_bgcolor": "white",
          "plot_bgcolor": "#E5ECF6",
          "polar": {
           "angularaxis": {
            "gridcolor": "white",
            "linecolor": "white",
            "ticks": ""
           },
           "bgcolor": "#E5ECF6",
           "radialaxis": {
            "gridcolor": "white",
            "linecolor": "white",
            "ticks": ""
           }
          },
          "scene": {
           "xaxis": {
            "backgroundcolor": "#E5ECF6",
            "gridcolor": "white",
            "gridwidth": 2,
            "linecolor": "white",
            "showbackground": true,
            "ticks": "",
            "zerolinecolor": "white"
           },
           "yaxis": {
            "backgroundcolor": "#E5ECF6",
            "gridcolor": "white",
            "gridwidth": 2,
            "linecolor": "white",
            "showbackground": true,
            "ticks": "",
            "zerolinecolor": "white"
           },
           "zaxis": {
            "backgroundcolor": "#E5ECF6",
            "gridcolor": "white",
            "gridwidth": 2,
            "linecolor": "white",
            "showbackground": true,
            "ticks": "",
            "zerolinecolor": "white"
           }
          },
          "shapedefaults": {
           "line": {
            "color": "#2a3f5f"
           }
          },
          "ternary": {
           "aaxis": {
            "gridcolor": "white",
            "linecolor": "white",
            "ticks": ""
           },
           "baxis": {
            "gridcolor": "white",
            "linecolor": "white",
            "ticks": ""
           },
           "bgcolor": "#E5ECF6",
           "caxis": {
            "gridcolor": "white",
            "linecolor": "white",
            "ticks": ""
           }
          },
          "title": {
           "x": 0.05
          },
          "xaxis": {
           "automargin": true,
           "gridcolor": "white",
           "linecolor": "white",
           "ticks": "",
           "title": {
            "standoff": 15
           },
           "zerolinecolor": "white",
           "zerolinewidth": 2
          },
          "yaxis": {
           "automargin": true,
           "gridcolor": "white",
           "linecolor": "white",
           "ticks": "",
           "title": {
            "standoff": 15
           },
           "zerolinecolor": "white",
           "zerolinewidth": 2
          }
         }
        },
        "xaxis": {
         "anchor": "y",
         "domain": [
          0,
          1
         ],
         "title": {
          "text": "Camera"
         }
        },
        "yaxis": {
         "anchor": "x",
         "autorange": "reversed",
         "domain": [
          0,
          1
         ],
         "title": {
          "text": "residual"
         }
        }
       }
      }
     },
     "metadata": {},
     "output_type": "display_data"
    }
   ],
   "source": [
    "# get residuals on beamCaptures\n",
    "\n",
    "data_points = []\n",
    "for camera_capture in calibrate_node['Content']['cameraCaptures']['captures']:\n",
    "\tfor laser_capture in camera_capture['laserCaptures']['captures']:\n",
    "\t\tif laser_capture['Selected']:\n",
    "\t\t\tbeam_capture_index = 0\n",
    "\t\t\tfor beam_capture in laser_capture['beamCaptures']['captures']:\n",
    "\t\t\t\tif beam_capture['Selected']:\n",
    "\t\t\t\t\tdata_point = {}\n",
    "\t\t\t\t\tdata_point['Camera'] = \"{0} {1}\".format(camera_capture['date'], camera_capture['time'])\n",
    "\t\t\t\t\tdata_point['Laser'] = laser_capture['laserAddress']\n",
    "\t\t\t\t\tdata_point['projectionPoint_x'] = beam_capture['projectionPoint'][0]\n",
    "\t\t\t\t\tdata_point['projectionPoint_y'] = beam_capture['projectionPoint'][1]\n",
    "\t\t\t\t\tdata_point['residual'] = beam_capture['residual']\n",
    "\t\t\t\t\tdata_point['beam_capture_index'] = beam_capture_index\n",
    "\t\t\t\t\tdata_points.append(data_point)\n",
    "\t\t\t\t\tbeam_capture_index += 1\n",
    "\n",
    "\n",
    "fig = px.bar(data_points\n",
    "\t, x='Camera'\n",
    "\t, color='Laser'\n",
    "\t, y='residual'\n",
    "\t, hover_name='Laser'\n",
    "\t, hover_data=['beam_capture_index', 'projectionPoint_x', 'projectionPoint_y']\n",
    "\t, barmode=\"group\")\n",
    "fig.update_yaxes(autorange=\"reversed\")\n",
    "fig.show()"
   ]
  },
  {
   "cell_type": "code",
   "execution_count": null,
   "metadata": {},
   "outputs": [],
   "source": [
    "# get all laser addresses\n",
    "s = set()\n",
    "for data_point in data_points:\n",
    "\taddress = data_point['']\n",
    "\ts.add(data_point)"
   ]
  }
 ],
 "metadata": {
  "interpreter": {
   "hash": "82b0de68545f78ab7a5fb705903fe28068dd8fc77393edae6a55556bceb4048e"
  },
  "kernelspec": {
   "display_name": "Python 3.7.7 ('base')",
   "language": "python",
   "name": "python3"
  },
  "language_info": {
   "codemirror_mode": {
    "name": "ipython",
    "version": 3
   },
   "file_extension": ".py",
   "mimetype": "text/x-python",
   "name": "python",
   "nbconvert_exporter": "python",
   "pygments_lexer": "ipython3",
   "version": "3.9.7"
  },
  "orig_nbformat": 4
 },
 "nbformat": 4,
 "nbformat_minor": 2
}
