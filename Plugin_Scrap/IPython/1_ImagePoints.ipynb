{
 "cells": [
  {
   "cell_type": "code",
   "execution_count": 42,
   "metadata": {},
   "outputs": [],
   "source": [
    "import json\n",
    "import numpy as np\n",
    "import pandas as pd\n",
    "import plotly.express as px"
   ]
  },
  {
   "cell_type": "code",
   "execution_count": 43,
   "metadata": {},
   "outputs": [],
   "source": [
    "with open('../../Application/bin/data/Patch.json') as file:\n",
    "\tpatch = json.load(file)\n",
    "\t"
   ]
  },
  {
   "cell_type": "code",
   "execution_count": 44,
   "metadata": {},
   "outputs": [],
   "source": [
    "def find_node_by_name(node_name):\n",
    "\tfor node_id in patch['Nodes']:\n",
    "\t\tif patch['Nodes'][node_id]['Name'] == node_name:\n",
    "\t\t\treturn patch['Nodes'][node_id]\n",
    "\traise(Exception(\"Node not found\"))"
   ]
  },
  {
   "cell_type": "code",
   "execution_count": 45,
   "metadata": {},
   "outputs": [],
   "source": [
    "calibrate_node = find_node_by_name('Calibrate')"
   ]
  },
  {
   "cell_type": "code",
   "execution_count": 46,
   "metadata": {},
   "outputs": [],
   "source": [
    "first_camera = calibrate_node['Content']['cameraCaptures']['captures'][0]"
   ]
  },
  {
   "cell_type": "code",
   "execution_count": 47,
   "metadata": {},
   "outputs": [],
   "source": [
    "#gather laser image points function\n",
    "def gather_laser_image_points(camera_capture):\n",
    "\tlaser_image_points = []\n",
    "\tlaser_names = []\n",
    "\tfor laser_capture in first_camera['laserCaptures']['captures']:\n",
    "\t\tif laser_capture['Selected']:\n",
    "\t\t\tlaser_image_points.append(laser_capture['imagePointInCamera'])\n",
    "\t\t\tlaser_names.append(laser_capture['laserAddress'])\n",
    "\treturn laser_image_points, laser_names"
   ]
  },
  {
   "cell_type": "code",
   "execution_count": 48,
   "metadata": {},
   "outputs": [],
   "source": [
    "laser_image_points, laser_names = gather_laser_image_points(first_camera)\n",
    "data = np.array(laser_image_points)"
   ]
  },
  {
   "cell_type": "code",
   "execution_count": 49,
   "metadata": {},
   "outputs": [
    {
     "data": {
      "application/vnd.plotly.v1+json": {
       "config": {
        "plotlyServerURL": "https://plot.ly"
       },
       "data": [
        {
         "hovertemplate": "<b>%{hovertext}</b><br><br>x=%{x}<br>y=%{y}<extra></extra>",
         "hovertext": [
          1,
          3,
          4,
          5,
          6,
          7,
          8,
          10,
          11,
          12,
          14,
          15,
          16,
          17,
          18,
          19,
          21,
          24,
          28,
          36,
          37,
          38,
          39
         ],
         "legendgroup": "",
         "marker": {
          "color": "#636efa",
          "symbol": "circle"
         },
         "mode": "markers",
         "name": "",
         "orientation": "v",
         "showlegend": false,
         "type": "scatter",
         "x": [
          4132.197265625,
          5506.76953125,
          6176.45068359375,
          6745.0830078125,
          7284.9609375,
          8019.21435546875,
          8601.0869140625,
          10029.640625,
          10799.90234375,
          11707.5966796875,
          13211.265625,
          14421.736328125,
          15333.697265625,
          20464.8203125,
          25079.744140625,
          27613.0546875,
          -3810.682373046875,
          -37089.98828125,
          -12553.21484375,
          -307.01800537109375,
          422.8003845214844,
          1138.8297119140625,
          1837.0308837890625
         ],
         "xaxis": "x",
         "y": [
          7955.46435546875,
          7905.3876953125,
          7906.359375,
          7894.93017578125,
          7880.3818359375,
          7848.35205078125,
          7814.3701171875,
          7687.0712890625,
          7591.810546875,
          7488.0791015625,
          7177.62060546875,
          6966.005859375,
          6778.97705078125,
          5614.37353515625,
          4157.521484375,
          1776.18310546875,
          -6658.32958984375,
          2402.222900390625,
          7021.16357421875,
          7927.08935546875,
          7950.0966796875,
          7968.43798828125,
          7984.66015625
         ],
         "yaxis": "y"
        }
       ],
       "layout": {
        "legend": {
         "tracegroupgap": 0
        },
        "margin": {
         "t": 60
        },
        "template": {
         "data": {
          "bar": [
           {
            "error_x": {
             "color": "#2a3f5f"
            },
            "error_y": {
             "color": "#2a3f5f"
            },
            "marker": {
             "line": {
              "color": "#E5ECF6",
              "width": 0.5
             },
             "pattern": {
              "fillmode": "overlay",
              "size": 10,
              "solidity": 0.2
             }
            },
            "type": "bar"
           }
          ],
          "barpolar": [
           {
            "marker": {
             "line": {
              "color": "#E5ECF6",
              "width": 0.5
             },
             "pattern": {
              "fillmode": "overlay",
              "size": 10,
              "solidity": 0.2
             }
            },
            "type": "barpolar"
           }
          ],
          "carpet": [
           {
            "aaxis": {
             "endlinecolor": "#2a3f5f",
             "gridcolor": "white",
             "linecolor": "white",
             "minorgridcolor": "white",
             "startlinecolor": "#2a3f5f"
            },
            "baxis": {
             "endlinecolor": "#2a3f5f",
             "gridcolor": "white",
             "linecolor": "white",
             "minorgridcolor": "white",
             "startlinecolor": "#2a3f5f"
            },
            "type": "carpet"
           }
          ],
          "choropleth": [
           {
            "colorbar": {
             "outlinewidth": 0,
             "ticks": ""
            },
            "type": "choropleth"
           }
          ],
          "contour": [
           {
            "colorbar": {
             "outlinewidth": 0,
             "ticks": ""
            },
            "colorscale": [
             [
              0,
              "#0d0887"
             ],
             [
              0.1111111111111111,
              "#46039f"
             ],
             [
              0.2222222222222222,
              "#7201a8"
             ],
             [
              0.3333333333333333,
              "#9c179e"
             ],
             [
              0.4444444444444444,
              "#bd3786"
             ],
             [
              0.5555555555555556,
              "#d8576b"
             ],
             [
              0.6666666666666666,
              "#ed7953"
             ],
             [
              0.7777777777777778,
              "#fb9f3a"
             ],
             [
              0.8888888888888888,
              "#fdca26"
             ],
             [
              1,
              "#f0f921"
             ]
            ],
            "type": "contour"
           }
          ],
          "contourcarpet": [
           {
            "colorbar": {
             "outlinewidth": 0,
             "ticks": ""
            },
            "type": "contourcarpet"
           }
          ],
          "heatmap": [
           {
            "colorbar": {
             "outlinewidth": 0,
             "ticks": ""
            },
            "colorscale": [
             [
              0,
              "#0d0887"
             ],
             [
              0.1111111111111111,
              "#46039f"
             ],
             [
              0.2222222222222222,
              "#7201a8"
             ],
             [
              0.3333333333333333,
              "#9c179e"
             ],
             [
              0.4444444444444444,
              "#bd3786"
             ],
             [
              0.5555555555555556,
              "#d8576b"
             ],
             [
              0.6666666666666666,
              "#ed7953"
             ],
             [
              0.7777777777777778,
              "#fb9f3a"
             ],
             [
              0.8888888888888888,
              "#fdca26"
             ],
             [
              1,
              "#f0f921"
             ]
            ],
            "type": "heatmap"
           }
          ],
          "heatmapgl": [
           {
            "colorbar": {
             "outlinewidth": 0,
             "ticks": ""
            },
            "colorscale": [
             [
              0,
              "#0d0887"
             ],
             [
              0.1111111111111111,
              "#46039f"
             ],
             [
              0.2222222222222222,
              "#7201a8"
             ],
             [
              0.3333333333333333,
              "#9c179e"
             ],
             [
              0.4444444444444444,
              "#bd3786"
             ],
             [
              0.5555555555555556,
              "#d8576b"
             ],
             [
              0.6666666666666666,
              "#ed7953"
             ],
             [
              0.7777777777777778,
              "#fb9f3a"
             ],
             [
              0.8888888888888888,
              "#fdca26"
             ],
             [
              1,
              "#f0f921"
             ]
            ],
            "type": "heatmapgl"
           }
          ],
          "histogram": [
           {
            "marker": {
             "pattern": {
              "fillmode": "overlay",
              "size": 10,
              "solidity": 0.2
             }
            },
            "type": "histogram"
           }
          ],
          "histogram2d": [
           {
            "colorbar": {
             "outlinewidth": 0,
             "ticks": ""
            },
            "colorscale": [
             [
              0,
              "#0d0887"
             ],
             [
              0.1111111111111111,
              "#46039f"
             ],
             [
              0.2222222222222222,
              "#7201a8"
             ],
             [
              0.3333333333333333,
              "#9c179e"
             ],
             [
              0.4444444444444444,
              "#bd3786"
             ],
             [
              0.5555555555555556,
              "#d8576b"
             ],
             [
              0.6666666666666666,
              "#ed7953"
             ],
             [
              0.7777777777777778,
              "#fb9f3a"
             ],
             [
              0.8888888888888888,
              "#fdca26"
             ],
             [
              1,
              "#f0f921"
             ]
            ],
            "type": "histogram2d"
           }
          ],
          "histogram2dcontour": [
           {
            "colorbar": {
             "outlinewidth": 0,
             "ticks": ""
            },
            "colorscale": [
             [
              0,
              "#0d0887"
             ],
             [
              0.1111111111111111,
              "#46039f"
             ],
             [
              0.2222222222222222,
              "#7201a8"
             ],
             [
              0.3333333333333333,
              "#9c179e"
             ],
             [
              0.4444444444444444,
              "#bd3786"
             ],
             [
              0.5555555555555556,
              "#d8576b"
             ],
             [
              0.6666666666666666,
              "#ed7953"
             ],
             [
              0.7777777777777778,
              "#fb9f3a"
             ],
             [
              0.8888888888888888,
              "#fdca26"
             ],
             [
              1,
              "#f0f921"
             ]
            ],
            "type": "histogram2dcontour"
           }
          ],
          "mesh3d": [
           {
            "colorbar": {
             "outlinewidth": 0,
             "ticks": ""
            },
            "type": "mesh3d"
           }
          ],
          "parcoords": [
           {
            "line": {
             "colorbar": {
              "outlinewidth": 0,
              "ticks": ""
             }
            },
            "type": "parcoords"
           }
          ],
          "pie": [
           {
            "automargin": true,
            "type": "pie"
           }
          ],
          "scatter": [
           {
            "fillpattern": {
             "fillmode": "overlay",
             "size": 10,
             "solidity": 0.2
            },
            "type": "scatter"
           }
          ],
          "scatter3d": [
           {
            "line": {
             "colorbar": {
              "outlinewidth": 0,
              "ticks": ""
             }
            },
            "marker": {
             "colorbar": {
              "outlinewidth": 0,
              "ticks": ""
             }
            },
            "type": "scatter3d"
           }
          ],
          "scattercarpet": [
           {
            "marker": {
             "colorbar": {
              "outlinewidth": 0,
              "ticks": ""
             }
            },
            "type": "scattercarpet"
           }
          ],
          "scattergeo": [
           {
            "marker": {
             "colorbar": {
              "outlinewidth": 0,
              "ticks": ""
             }
            },
            "type": "scattergeo"
           }
          ],
          "scattergl": [
           {
            "marker": {
             "colorbar": {
              "outlinewidth": 0,
              "ticks": ""
             }
            },
            "type": "scattergl"
           }
          ],
          "scattermapbox": [
           {
            "marker": {
             "colorbar": {
              "outlinewidth": 0,
              "ticks": ""
             }
            },
            "type": "scattermapbox"
           }
          ],
          "scatterpolar": [
           {
            "marker": {
             "colorbar": {
              "outlinewidth": 0,
              "ticks": ""
             }
            },
            "type": "scatterpolar"
           }
          ],
          "scatterpolargl": [
           {
            "marker": {
             "colorbar": {
              "outlinewidth": 0,
              "ticks": ""
             }
            },
            "type": "scatterpolargl"
           }
          ],
          "scatterternary": [
           {
            "marker": {
             "colorbar": {
              "outlinewidth": 0,
              "ticks": ""
             }
            },
            "type": "scatterternary"
           }
          ],
          "surface": [
           {
            "colorbar": {
             "outlinewidth": 0,
             "ticks": ""
            },
            "colorscale": [
             [
              0,
              "#0d0887"
             ],
             [
              0.1111111111111111,
              "#46039f"
             ],
             [
              0.2222222222222222,
              "#7201a8"
             ],
             [
              0.3333333333333333,
              "#9c179e"
             ],
             [
              0.4444444444444444,
              "#bd3786"
             ],
             [
              0.5555555555555556,
              "#d8576b"
             ],
             [
              0.6666666666666666,
              "#ed7953"
             ],
             [
              0.7777777777777778,
              "#fb9f3a"
             ],
             [
              0.8888888888888888,
              "#fdca26"
             ],
             [
              1,
              "#f0f921"
             ]
            ],
            "type": "surface"
           }
          ],
          "table": [
           {
            "cells": {
             "fill": {
              "color": "#EBF0F8"
             },
             "line": {
              "color": "white"
             }
            },
            "header": {
             "fill": {
              "color": "#C8D4E3"
             },
             "line": {
              "color": "white"
             }
            },
            "type": "table"
           }
          ]
         },
         "layout": {
          "annotationdefaults": {
           "arrowcolor": "#2a3f5f",
           "arrowhead": 0,
           "arrowwidth": 1
          },
          "autotypenumbers": "strict",
          "coloraxis": {
           "colorbar": {
            "outlinewidth": 0,
            "ticks": ""
           }
          },
          "colorscale": {
           "diverging": [
            [
             0,
             "#8e0152"
            ],
            [
             0.1,
             "#c51b7d"
            ],
            [
             0.2,
             "#de77ae"
            ],
            [
             0.3,
             "#f1b6da"
            ],
            [
             0.4,
             "#fde0ef"
            ],
            [
             0.5,
             "#f7f7f7"
            ],
            [
             0.6,
             "#e6f5d0"
            ],
            [
             0.7,
             "#b8e186"
            ],
            [
             0.8,
             "#7fbc41"
            ],
            [
             0.9,
             "#4d9221"
            ],
            [
             1,
             "#276419"
            ]
           ],
           "sequential": [
            [
             0,
             "#0d0887"
            ],
            [
             0.1111111111111111,
             "#46039f"
            ],
            [
             0.2222222222222222,
             "#7201a8"
            ],
            [
             0.3333333333333333,
             "#9c179e"
            ],
            [
             0.4444444444444444,
             "#bd3786"
            ],
            [
             0.5555555555555556,
             "#d8576b"
            ],
            [
             0.6666666666666666,
             "#ed7953"
            ],
            [
             0.7777777777777778,
             "#fb9f3a"
            ],
            [
             0.8888888888888888,
             "#fdca26"
            ],
            [
             1,
             "#f0f921"
            ]
           ],
           "sequentialminus": [
            [
             0,
             "#0d0887"
            ],
            [
             0.1111111111111111,
             "#46039f"
            ],
            [
             0.2222222222222222,
             "#7201a8"
            ],
            [
             0.3333333333333333,
             "#9c179e"
            ],
            [
             0.4444444444444444,
             "#bd3786"
            ],
            [
             0.5555555555555556,
             "#d8576b"
            ],
            [
             0.6666666666666666,
             "#ed7953"
            ],
            [
             0.7777777777777778,
             "#fb9f3a"
            ],
            [
             0.8888888888888888,
             "#fdca26"
            ],
            [
             1,
             "#f0f921"
            ]
           ]
          },
          "colorway": [
           "#636efa",
           "#EF553B",
           "#00cc96",
           "#ab63fa",
           "#FFA15A",
           "#19d3f3",
           "#FF6692",
           "#B6E880",
           "#FF97FF",
           "#FECB52"
          ],
          "font": {
           "color": "#2a3f5f"
          },
          "geo": {
           "bgcolor": "white",
           "lakecolor": "white",
           "landcolor": "#E5ECF6",
           "showlakes": true,
           "showland": true,
           "subunitcolor": "white"
          },
          "hoverlabel": {
           "align": "left"
          },
          "hovermode": "closest",
          "mapbox": {
           "style": "light"
          },
          "paper_bgcolor": "white",
          "plot_bgcolor": "#E5ECF6",
          "polar": {
           "angularaxis": {
            "gridcolor": "white",
            "linecolor": "white",
            "ticks": ""
           },
           "bgcolor": "#E5ECF6",
           "radialaxis": {
            "gridcolor": "white",
            "linecolor": "white",
            "ticks": ""
           }
          },
          "scene": {
           "xaxis": {
            "backgroundcolor": "#E5ECF6",
            "gridcolor": "white",
            "gridwidth": 2,
            "linecolor": "white",
            "showbackground": true,
            "ticks": "",
            "zerolinecolor": "white"
           },
           "yaxis": {
            "backgroundcolor": "#E5ECF6",
            "gridcolor": "white",
            "gridwidth": 2,
            "linecolor": "white",
            "showbackground": true,
            "ticks": "",
            "zerolinecolor": "white"
           },
           "zaxis": {
            "backgroundcolor": "#E5ECF6",
            "gridcolor": "white",
            "gridwidth": 2,
            "linecolor": "white",
            "showbackground": true,
            "ticks": "",
            "zerolinecolor": "white"
           }
          },
          "shapedefaults": {
           "line": {
            "color": "#2a3f5f"
           }
          },
          "ternary": {
           "aaxis": {
            "gridcolor": "white",
            "linecolor": "white",
            "ticks": ""
           },
           "baxis": {
            "gridcolor": "white",
            "linecolor": "white",
            "ticks": ""
           },
           "bgcolor": "#E5ECF6",
           "caxis": {
            "gridcolor": "white",
            "linecolor": "white",
            "ticks": ""
           }
          },
          "title": {
           "x": 0.05
          },
          "xaxis": {
           "automargin": true,
           "gridcolor": "white",
           "linecolor": "white",
           "ticks": "",
           "title": {
            "standoff": 15
           },
           "zerolinecolor": "white",
           "zerolinewidth": 2
          },
          "yaxis": {
           "automargin": true,
           "gridcolor": "white",
           "linecolor": "white",
           "ticks": "",
           "title": {
            "standoff": 15
           },
           "zerolinecolor": "white",
           "zerolinewidth": 2
          }
         }
        },
        "xaxis": {
         "anchor": "y",
         "domain": [
          0,
          1
         ],
         "title": {
          "text": "x"
         }
        },
        "yaxis": {
         "anchor": "x",
         "domain": [
          0,
          1
         ],
         "title": {
          "text": "y"
         }
        }
       }
      }
     },
     "metadata": {},
     "output_type": "display_data"
    }
   ],
   "source": [
    "fig = px.scatter(x=data[:,0], y=data[:,1],hover_name=laser_names)\n",
    "fig.show()"
   ]
  },
  {
   "cell_type": "code",
   "execution_count": 50,
   "metadata": {},
   "outputs": [
    {
     "data": {
      "text/plain": [
       "dict_keys(['Color', 'Selected', 'beamCaptures', 'date', 'directory', 'imagePointInCamera', 'laserAddress', 'linesWithCommonPointSolveResult', 'parameters', 'time', 'timestamp'])"
      ]
     },
     "execution_count": 50,
     "metadata": {},
     "output_type": "execute_result"
    }
   ],
   "source": [
    "def get_laser_capture(camera_capture, laserAddress):\n",
    "\tfor laser_capture in camera_capture['laserCaptures']['captures']:\n",
    "\t\tif int(laser_capture['laserAddress']) == laserAddress:\n",
    "\t\t\treturn laser_capture\n",
    "\n",
    "get_laser_capture(first_camera, 22).keys()"
   ]
  },
  {
   "cell_type": "code",
   "execution_count": null,
   "metadata": {},
   "outputs": [],
   "source": []
  },
  {
   "cell_type": "code",
   "execution_count": 51,
   "metadata": {},
   "outputs": [],
   "source": [
    "# gather data\n",
    "data_points = []\n",
    "for camera_capture in calibrate_node['Content']['cameraCaptures']['captures']:\n",
    "\tfor laser_capture in camera_capture['laserCaptures']['captures']:\n",
    "\t\tif laser_capture['Selected']:\n",
    "\t\t\tdata_point = {}\n",
    "\t\t\tdata_point['Camera'] = \"{0} {1}\".format(camera_capture['date'], camera_capture['time'])\n",
    "\t\t\tdata_point['x'] = laser_capture['imagePointInCamera'][0]\n",
    "\t\t\tdata_point['y'] = laser_capture['imagePointInCamera'][1]\n",
    "\t\t\tdata_point['Laser'] = \"Laser {0}\".format(laser_capture['laserAddress'])\n",
    "\t\t\t\n",
    "\t\t\tif 'residual' in data_point:\n",
    "\t\t\t\tdata_point['residual'] = laser_capture['laserAddress']\n",
    "\t\t\telse:\n",
    "\t\t\t\tdata_point['residual'] = 0\n",
    "\t\t\t\t\n",
    "\t\t\t#count active beam captures\n",
    "\t\t\tactive_beam_capture_count = 0\n",
    "\t\t\tfor beam_capture in laser_capture['beamCaptures']['captures']:\n",
    "\t\t\t\tif beam_capture['Selected']:\n",
    "\t\t\t\t\tactive_beam_capture_count = active_beam_capture_count + 1\n",
    "\t\t\tdata_point['Active beam captures'] = active_beam_capture_count\n",
    "\t\t\t\n",
    "\t\t\tdata_points.append(data_point)\n",
    "\n"
   ]
  },
  {
   "cell_type": "code",
   "execution_count": 52,
   "metadata": {},
   "outputs": [
    {
     "data": {
      "application/vnd.plotly.v1+json": {
       "config": {
        "plotlyServerURL": "https://plot.ly"
       },
       "data": [
        {
         "customdata": [
          [
           9
          ],
          [
           9
          ],
          [
           9
          ],
          [
           9
          ],
          [
           9
          ],
          [
           9
          ],
          [
           9
          ],
          [
           9
          ],
          [
           7
          ],
          [
           5
          ],
          [
           5
          ],
          [
           6
          ],
          [
           9
          ],
          [
           9
          ],
          [
           9
          ],
          [
           9
          ],
          [
           9
          ],
          [
           9
          ],
          [
           9
          ],
          [
           8
          ],
          [
           6
          ],
          [
           9
          ],
          [
           9
          ]
         ],
         "hovertemplate": "<b>%{hovertext}</b><br><br>Camera=Fri 2021.10.01 06:05<br>x=%{x}<br>y=%{y}<br>Active beam captures=%{customdata[0]}<extra></extra>",
         "hovertext": [
          "Laser 1",
          "Laser 3",
          "Laser 4",
          "Laser 5",
          "Laser 6",
          "Laser 7",
          "Laser 8",
          "Laser 10",
          "Laser 11",
          "Laser 12",
          "Laser 14",
          "Laser 15",
          "Laser 16",
          "Laser 17",
          "Laser 18",
          "Laser 19",
          "Laser 21",
          "Laser 24",
          "Laser 28",
          "Laser 36",
          "Laser 37",
          "Laser 38",
          "Laser 39"
         ],
         "legendgroup": "Fri 2021.10.01 06:05",
         "marker": {
          "color": "#636efa",
          "symbol": "circle"
         },
         "mode": "markers",
         "name": "Fri 2021.10.01 06:05",
         "orientation": "v",
         "showlegend": true,
         "type": "scatter",
         "x": [
          4132.197265625,
          5506.76953125,
          6176.45068359375,
          6745.0830078125,
          7284.9609375,
          8019.21435546875,
          8601.0869140625,
          10029.640625,
          10799.90234375,
          11707.5966796875,
          13211.265625,
          14421.736328125,
          15333.697265625,
          20464.8203125,
          25079.744140625,
          27613.0546875,
          -3810.682373046875,
          -37089.98828125,
          -12553.21484375,
          -307.01800537109375,
          422.8003845214844,
          1138.8297119140625,
          1837.0308837890625
         ],
         "xaxis": "x",
         "y": [
          7955.46435546875,
          7905.3876953125,
          7906.359375,
          7894.93017578125,
          7880.3818359375,
          7848.35205078125,
          7814.3701171875,
          7687.0712890625,
          7591.810546875,
          7488.0791015625,
          7177.62060546875,
          6966.005859375,
          6778.97705078125,
          5614.37353515625,
          4157.521484375,
          1776.18310546875,
          -6658.32958984375,
          2402.222900390625,
          7021.16357421875,
          7927.08935546875,
          7950.0966796875,
          7968.43798828125,
          7984.66015625
         ],
         "yaxis": "y"
        },
        {
         "customdata": [
          [
           9
          ],
          [
           9
          ],
          [
           9
          ],
          [
           9
          ],
          [
           9
          ],
          [
           9
          ],
          [
           9
          ],
          [
           9
          ],
          [
           9
          ],
          [
           9
          ],
          [
           9
          ],
          [
           9
          ],
          [
           6
          ],
          [
           7
          ],
          [
           9
          ],
          [
           9
          ],
          [
           7
          ],
          [
           9
          ],
          [
           9
          ],
          [
           7
          ],
          [
           9
          ],
          [
           8
          ],
          [
           9
          ],
          [
           9
          ],
          [
           9
          ],
          [
           9
          ],
          [
           9
          ],
          [
           9
          ],
          [
           7
          ],
          [
           9
          ],
          [
           5
          ],
          [
           6
          ]
         ],
         "hovertemplate": "<b>%{hovertext}</b><br><br>Camera=Fri 2021.10.01 06:25<br>x=%{x}<br>y=%{y}<br>Active beam captures=%{customdata[0]}<extra></extra>",
         "hovertext": [
          "Laser 1",
          "Laser 3",
          "Laser 4",
          "Laser 5",
          "Laser 6",
          "Laser 7",
          "Laser 8",
          "Laser 10",
          "Laser 11",
          "Laser 12",
          "Laser 13",
          "Laser 14",
          "Laser 15",
          "Laser 16",
          "Laser 17",
          "Laser 18",
          "Laser 19",
          "Laser 21",
          "Laser 22",
          "Laser 23",
          "Laser 24",
          "Laser 28",
          "Laser 29",
          "Laser 31",
          "Laser 32",
          "Laser 33",
          "Laser 34",
          "Laser 35",
          "Laser 36",
          "Laser 37",
          "Laser 38",
          "Laser 39"
         ],
         "legendgroup": "Fri 2021.10.01 06:25",
         "marker": {
          "color": "#EF553B",
          "symbol": "circle"
         },
         "mode": "markers",
         "name": "Fri 2021.10.01 06:25",
         "orientation": "v",
         "showlegend": true,
         "type": "scatter",
         "x": [
          27731.296875,
          53613.3828125,
          99692.7421875,
          -4290577.5,
          -62302.96875,
          173883.359375,
          -29672.890625,
          -14421.79296875,
          -11258.3720703125,
          -9561.8984375,
          -7438.94677734375,
          -6157.9970703125,
          -5128.37548828125,
          -4113.611328125,
          -1632.059814453125,
          -1022.3948364257812,
          -308.3406066894531,
          1247.5838623046875,
          1865.74951171875,
          2494.29736328125,
          3238.10791015625,
          5878.22900390625,
          6568.8525390625,
          8039.09033203125,
          8736.271484375,
          9344.560546875,
          10048.40234375,
          10786.45703125,
          11839.28125,
          13020.8349609375,
          14602.8486328125,
          16614.501953125
         ],
         "xaxis": "x",
         "y": [
          3868.389404296875,
          -3497.66162109375,
          -19433.5078125,
          1735885.5,
          59649.1640625,
          235792.328125,
          -4902.56494140625,
          5253.52490234375,
          6117.33154296875,
          6570.580078125,
          6803.94091796875,
          6917.423828125,
          7063.90576171875,
          7175.18994140625,
          7430.52734375,
          7453.9287109375,
          7453.810546875,
          7407.35205078125,
          7397.60791015625,
          7365.923828125,
          7326.52001953125,
          7142.8291015625,
          7096.197265625,
          6966.40625,
          6883.36376953125,
          6820.6650390625,
          6745.818359375,
          6683.40966796875,
          6593.07275390625,
          6453.7783203125,
          6259.59130859375,
          5996.7958984375
         ],
         "yaxis": "y"
        },
        {
         "customdata": [
          [
           7
          ],
          [
           9
          ],
          [
           9
          ],
          [
           9
          ],
          [
           9
          ],
          [
           9
          ],
          [
           9
          ],
          [
           9
          ],
          [
           9
          ],
          [
           9
          ],
          [
           9
          ],
          [
           9
          ],
          [
           8
          ],
          [
           6
          ],
          [
           8
          ],
          [
           8
          ],
          [
           8
          ],
          [
           8
          ],
          [
           9
          ],
          [
           9
          ],
          [
           9
          ],
          [
           9
          ],
          [
           9
          ],
          [
           9
          ],
          [
           9
          ],
          [
           8
          ],
          [
           7
          ],
          [
           5
          ]
         ],
         "hovertemplate": "<b>%{hovertext}</b><br><br>Camera=Fri 2021.10.01 06:46<br>x=%{x}<br>y=%{y}<br>Active beam captures=%{customdata[0]}<extra></extra>",
         "hovertext": [
          "Laser 5",
          "Laser 6",
          "Laser 7",
          "Laser 8",
          "Laser 10",
          "Laser 11",
          "Laser 12",
          "Laser 13",
          "Laser 14",
          "Laser 15",
          "Laser 16",
          "Laser 17",
          "Laser 18",
          "Laser 19",
          "Laser 21",
          "Laser 22",
          "Laser 23",
          "Laser 24",
          "Laser 29",
          "Laser 31",
          "Laser 32",
          "Laser 33",
          "Laser 34",
          "Laser 35",
          "Laser 36",
          "Laser 37",
          "Laser 38",
          "Laser 39"
         ],
         "legendgroup": "Fri 2021.10.01 06:46",
         "marker": {
          "color": "#00cc96",
          "symbol": "circle"
         },
         "mode": "markers",
         "name": "Fri 2021.10.01 06:46",
         "orientation": "v",
         "showlegend": true,
         "type": "scatter",
         "x": [
          -1062.8759765625,
          -379.2740173339844,
          515.6588134765625,
          1257.379638671875,
          2884.432373046875,
          3682.666259765625,
          4468.35205078125,
          5268.06005859375,
          5902.9833984375,
          6762.12744140625,
          7520.83544921875,
          10632.955078125,
          12005.05078125,
          13404.154296875,
          17141.53515625,
          19862.017578125,
          22842.859375,
          27742.76171875,
          81900.5078125,
          -24921.291015625,
          -24291.150390625,
          -20586.5703125,
          -18426.5546875,
          -15770.0380859375,
          -14892.1845703125,
          -13243.5078125,
          -11679.2138671875,
          -10130.7578125
         ],
         "xaxis": "x",
         "y": [
          8241.3740234375,
          8234.33984375,
          8210.875,
          8179.3916015625,
          8087.67236328125,
          8026.369140625,
          7973.8447265625,
          7894.673828125,
          7829.52734375,
          7763.98046875,
          7715.67626953125,
          7565.779296875,
          7464.099609375,
          7338.9306640625,
          6875.55224609375,
          6561.36572265625,
          6099.38916015625,
          5265.60302734375,
          -29642.080078125,
          -5497.04150390625,
          1853.3709716796875,
          4711.6982421875,
          6028.87548828125,
          6931.75732421875,
          7474.6298828125,
          7794.89794921875,
          7995.87255859375,
          8141.6552734375
         ],
         "yaxis": "y"
        },
        {
         "customdata": [
          [
           9
          ],
          [
           9
          ],
          [
           9
          ],
          [
           7
          ],
          [
           8
          ],
          [
           7
          ],
          [
           8
          ],
          [
           8
          ],
          [
           7
          ],
          [
           8
          ],
          [
           8
          ],
          [
           8
          ],
          [
           8
          ],
          [
           7
          ],
          [
           7
          ],
          [
           6
          ],
          [
           7
          ],
          [
           8
          ],
          [
           4
          ],
          [
           4
          ],
          [
           8
          ],
          [
           7
          ],
          [
           7
          ],
          [
           8
          ],
          [
           8
          ],
          [
           8
          ],
          [
           8
          ],
          [
           8
          ],
          [
           8
          ],
          [
           9
          ]
         ],
         "hovertemplate": "<b>%{hovertext}</b><br><br>Camera=Fri 2021.10.01 07:05<br>x=%{x}<br>y=%{y}<br>Active beam captures=%{customdata[0]}<extra></extra>",
         "hovertext": [
          "Laser 1",
          "Laser 3",
          "Laser 4",
          "Laser 5",
          "Laser 6",
          "Laser 7",
          "Laser 8",
          "Laser 10",
          "Laser 11",
          "Laser 12",
          "Laser 13",
          "Laser 14",
          "Laser 15",
          "Laser 16",
          "Laser 17",
          "Laser 18",
          "Laser 19",
          "Laser 21",
          "Laser 22",
          "Laser 23",
          "Laser 24",
          "Laser 28",
          "Laser 29",
          "Laser 31",
          "Laser 32",
          "Laser 34",
          "Laser 36",
          "Laser 37",
          "Laser 38",
          "Laser 39"
         ],
         "legendgroup": "Fri 2021.10.01 07:05",
         "marker": {
          "color": "#ab63fa",
          "symbol": "circle"
         },
         "mode": "markers",
         "name": "Fri 2021.10.01 07:05",
         "orientation": "v",
         "showlegend": true,
         "type": "scatter",
         "x": [
          -14215.1767578125,
          85829.2265625,
          113192.0078125,
          121766.515625,
          126051.1796875,
          122438.5859375,
          114076.09375,
          95701.1171875,
          86904.5234375,
          78953.4140625,
          68856.4609375,
          62120.0703125,
          56476.14453125,
          51725.90234375,
          36007.265625,
          29263.28125,
          21465.48828125,
          1378.2467041015625,
          -8679.1416015625,
          -19353.25,
          -33077.91015625,
          -94161.984375,
          -118023.8359375,
          -164881.4375,
          -183312.828125,
          -230769.015625,
          -411203.375,
          -533551.25,
          -739517.1875,
          -1020976.625
         ],
         "xaxis": "x",
         "y": [
          717387.4375,
          310302.875,
          264953.78125,
          215307.21875,
          177322.1875,
          129355.2421875,
          95037.9140625,
          41304.8203125,
          22627.208984375,
          7942.57177734375,
          -4155.541015625,
          -11823.873046875,
          -20749.90625,
          -28022.193359375,
          -52963.93359375,
          -59627.05859375,
          -65094.43359375,
          -72003.1875,
          -76411.3671875,
          -78371.765625,
          -78875.4296875,
          -65553.6640625,
          -57489.5078125,
          -22155.94140625,
          3319.088623046875,
          68930.0078125,
          270585.375,
          483276.75,
          922491.8125,
          1784379.625
         ],
         "yaxis": "y"
        }
       ],
       "layout": {
        "legend": {
         "title": {
          "text": "Camera"
         },
         "tracegroupgap": 0
        },
        "margin": {
         "t": 60
        },
        "template": {
         "data": {
          "bar": [
           {
            "error_x": {
             "color": "#2a3f5f"
            },
            "error_y": {
             "color": "#2a3f5f"
            },
            "marker": {
             "line": {
              "color": "#E5ECF6",
              "width": 0.5
             },
             "pattern": {
              "fillmode": "overlay",
              "size": 10,
              "solidity": 0.2
             }
            },
            "type": "bar"
           }
          ],
          "barpolar": [
           {
            "marker": {
             "line": {
              "color": "#E5ECF6",
              "width": 0.5
             },
             "pattern": {
              "fillmode": "overlay",
              "size": 10,
              "solidity": 0.2
             }
            },
            "type": "barpolar"
           }
          ],
          "carpet": [
           {
            "aaxis": {
             "endlinecolor": "#2a3f5f",
             "gridcolor": "white",
             "linecolor": "white",
             "minorgridcolor": "white",
             "startlinecolor": "#2a3f5f"
            },
            "baxis": {
             "endlinecolor": "#2a3f5f",
             "gridcolor": "white",
             "linecolor": "white",
             "minorgridcolor": "white",
             "startlinecolor": "#2a3f5f"
            },
            "type": "carpet"
           }
          ],
          "choropleth": [
           {
            "colorbar": {
             "outlinewidth": 0,
             "ticks": ""
            },
            "type": "choropleth"
           }
          ],
          "contour": [
           {
            "colorbar": {
             "outlinewidth": 0,
             "ticks": ""
            },
            "colorscale": [
             [
              0,
              "#0d0887"
             ],
             [
              0.1111111111111111,
              "#46039f"
             ],
             [
              0.2222222222222222,
              "#7201a8"
             ],
             [
              0.3333333333333333,
              "#9c179e"
             ],
             [
              0.4444444444444444,
              "#bd3786"
             ],
             [
              0.5555555555555556,
              "#d8576b"
             ],
             [
              0.6666666666666666,
              "#ed7953"
             ],
             [
              0.7777777777777778,
              "#fb9f3a"
             ],
             [
              0.8888888888888888,
              "#fdca26"
             ],
             [
              1,
              "#f0f921"
             ]
            ],
            "type": "contour"
           }
          ],
          "contourcarpet": [
           {
            "colorbar": {
             "outlinewidth": 0,
             "ticks": ""
            },
            "type": "contourcarpet"
           }
          ],
          "heatmap": [
           {
            "colorbar": {
             "outlinewidth": 0,
             "ticks": ""
            },
            "colorscale": [
             [
              0,
              "#0d0887"
             ],
             [
              0.1111111111111111,
              "#46039f"
             ],
             [
              0.2222222222222222,
              "#7201a8"
             ],
             [
              0.3333333333333333,
              "#9c179e"
             ],
             [
              0.4444444444444444,
              "#bd3786"
             ],
             [
              0.5555555555555556,
              "#d8576b"
             ],
             [
              0.6666666666666666,
              "#ed7953"
             ],
             [
              0.7777777777777778,
              "#fb9f3a"
             ],
             [
              0.8888888888888888,
              "#fdca26"
             ],
             [
              1,
              "#f0f921"
             ]
            ],
            "type": "heatmap"
           }
          ],
          "heatmapgl": [
           {
            "colorbar": {
             "outlinewidth": 0,
             "ticks": ""
            },
            "colorscale": [
             [
              0,
              "#0d0887"
             ],
             [
              0.1111111111111111,
              "#46039f"
             ],
             [
              0.2222222222222222,
              "#7201a8"
             ],
             [
              0.3333333333333333,
              "#9c179e"
             ],
             [
              0.4444444444444444,
              "#bd3786"
             ],
             [
              0.5555555555555556,
              "#d8576b"
             ],
             [
              0.6666666666666666,
              "#ed7953"
             ],
             [
              0.7777777777777778,
              "#fb9f3a"
             ],
             [
              0.8888888888888888,
              "#fdca26"
             ],
             [
              1,
              "#f0f921"
             ]
            ],
            "type": "heatmapgl"
           }
          ],
          "histogram": [
           {
            "marker": {
             "pattern": {
              "fillmode": "overlay",
              "size": 10,
              "solidity": 0.2
             }
            },
            "type": "histogram"
           }
          ],
          "histogram2d": [
           {
            "colorbar": {
             "outlinewidth": 0,
             "ticks": ""
            },
            "colorscale": [
             [
              0,
              "#0d0887"
             ],
             [
              0.1111111111111111,
              "#46039f"
             ],
             [
              0.2222222222222222,
              "#7201a8"
             ],
             [
              0.3333333333333333,
              "#9c179e"
             ],
             [
              0.4444444444444444,
              "#bd3786"
             ],
             [
              0.5555555555555556,
              "#d8576b"
             ],
             [
              0.6666666666666666,
              "#ed7953"
             ],
             [
              0.7777777777777778,
              "#fb9f3a"
             ],
             [
              0.8888888888888888,
              "#fdca26"
             ],
             [
              1,
              "#f0f921"
             ]
            ],
            "type": "histogram2d"
           }
          ],
          "histogram2dcontour": [
           {
            "colorbar": {
             "outlinewidth": 0,
             "ticks": ""
            },
            "colorscale": [
             [
              0,
              "#0d0887"
             ],
             [
              0.1111111111111111,
              "#46039f"
             ],
             [
              0.2222222222222222,
              "#7201a8"
             ],
             [
              0.3333333333333333,
              "#9c179e"
             ],
             [
              0.4444444444444444,
              "#bd3786"
             ],
             [
              0.5555555555555556,
              "#d8576b"
             ],
             [
              0.6666666666666666,
              "#ed7953"
             ],
             [
              0.7777777777777778,
              "#fb9f3a"
             ],
             [
              0.8888888888888888,
              "#fdca26"
             ],
             [
              1,
              "#f0f921"
             ]
            ],
            "type": "histogram2dcontour"
           }
          ],
          "mesh3d": [
           {
            "colorbar": {
             "outlinewidth": 0,
             "ticks": ""
            },
            "type": "mesh3d"
           }
          ],
          "parcoords": [
           {
            "line": {
             "colorbar": {
              "outlinewidth": 0,
              "ticks": ""
             }
            },
            "type": "parcoords"
           }
          ],
          "pie": [
           {
            "automargin": true,
            "type": "pie"
           }
          ],
          "scatter": [
           {
            "fillpattern": {
             "fillmode": "overlay",
             "size": 10,
             "solidity": 0.2
            },
            "type": "scatter"
           }
          ],
          "scatter3d": [
           {
            "line": {
             "colorbar": {
              "outlinewidth": 0,
              "ticks": ""
             }
            },
            "marker": {
             "colorbar": {
              "outlinewidth": 0,
              "ticks": ""
             }
            },
            "type": "scatter3d"
           }
          ],
          "scattercarpet": [
           {
            "marker": {
             "colorbar": {
              "outlinewidth": 0,
              "ticks": ""
             }
            },
            "type": "scattercarpet"
           }
          ],
          "scattergeo": [
           {
            "marker": {
             "colorbar": {
              "outlinewidth": 0,
              "ticks": ""
             }
            },
            "type": "scattergeo"
           }
          ],
          "scattergl": [
           {
            "marker": {
             "colorbar": {
              "outlinewidth": 0,
              "ticks": ""
             }
            },
            "type": "scattergl"
           }
          ],
          "scattermapbox": [
           {
            "marker": {
             "colorbar": {
              "outlinewidth": 0,
              "ticks": ""
             }
            },
            "type": "scattermapbox"
           }
          ],
          "scatterpolar": [
           {
            "marker": {
             "colorbar": {
              "outlinewidth": 0,
              "ticks": ""
             }
            },
            "type": "scatterpolar"
           }
          ],
          "scatterpolargl": [
           {
            "marker": {
             "colorbar": {
              "outlinewidth": 0,
              "ticks": ""
             }
            },
            "type": "scatterpolargl"
           }
          ],
          "scatterternary": [
           {
            "marker": {
             "colorbar": {
              "outlinewidth": 0,
              "ticks": ""
             }
            },
            "type": "scatterternary"
           }
          ],
          "surface": [
           {
            "colorbar": {
             "outlinewidth": 0,
             "ticks": ""
            },
            "colorscale": [
             [
              0,
              "#0d0887"
             ],
             [
              0.1111111111111111,
              "#46039f"
             ],
             [
              0.2222222222222222,
              "#7201a8"
             ],
             [
              0.3333333333333333,
              "#9c179e"
             ],
             [
              0.4444444444444444,
              "#bd3786"
             ],
             [
              0.5555555555555556,
              "#d8576b"
             ],
             [
              0.6666666666666666,
              "#ed7953"
             ],
             [
              0.7777777777777778,
              "#fb9f3a"
             ],
             [
              0.8888888888888888,
              "#fdca26"
             ],
             [
              1,
              "#f0f921"
             ]
            ],
            "type": "surface"
           }
          ],
          "table": [
           {
            "cells": {
             "fill": {
              "color": "#EBF0F8"
             },
             "line": {
              "color": "white"
             }
            },
            "header": {
             "fill": {
              "color": "#C8D4E3"
             },
             "line": {
              "color": "white"
             }
            },
            "type": "table"
           }
          ]
         },
         "layout": {
          "annotationdefaults": {
           "arrowcolor": "#2a3f5f",
           "arrowhead": 0,
           "arrowwidth": 1
          },
          "autotypenumbers": "strict",
          "coloraxis": {
           "colorbar": {
            "outlinewidth": 0,
            "ticks": ""
           }
          },
          "colorscale": {
           "diverging": [
            [
             0,
             "#8e0152"
            ],
            [
             0.1,
             "#c51b7d"
            ],
            [
             0.2,
             "#de77ae"
            ],
            [
             0.3,
             "#f1b6da"
            ],
            [
             0.4,
             "#fde0ef"
            ],
            [
             0.5,
             "#f7f7f7"
            ],
            [
             0.6,
             "#e6f5d0"
            ],
            [
             0.7,
             "#b8e186"
            ],
            [
             0.8,
             "#7fbc41"
            ],
            [
             0.9,
             "#4d9221"
            ],
            [
             1,
             "#276419"
            ]
           ],
           "sequential": [
            [
             0,
             "#0d0887"
            ],
            [
             0.1111111111111111,
             "#46039f"
            ],
            [
             0.2222222222222222,
             "#7201a8"
            ],
            [
             0.3333333333333333,
             "#9c179e"
            ],
            [
             0.4444444444444444,
             "#bd3786"
            ],
            [
             0.5555555555555556,
             "#d8576b"
            ],
            [
             0.6666666666666666,
             "#ed7953"
            ],
            [
             0.7777777777777778,
             "#fb9f3a"
            ],
            [
             0.8888888888888888,
             "#fdca26"
            ],
            [
             1,
             "#f0f921"
            ]
           ],
           "sequentialminus": [
            [
             0,
             "#0d0887"
            ],
            [
             0.1111111111111111,
             "#46039f"
            ],
            [
             0.2222222222222222,
             "#7201a8"
            ],
            [
             0.3333333333333333,
             "#9c179e"
            ],
            [
             0.4444444444444444,
             "#bd3786"
            ],
            [
             0.5555555555555556,
             "#d8576b"
            ],
            [
             0.6666666666666666,
             "#ed7953"
            ],
            [
             0.7777777777777778,
             "#fb9f3a"
            ],
            [
             0.8888888888888888,
             "#fdca26"
            ],
            [
             1,
             "#f0f921"
            ]
           ]
          },
          "colorway": [
           "#636efa",
           "#EF553B",
           "#00cc96",
           "#ab63fa",
           "#FFA15A",
           "#19d3f3",
           "#FF6692",
           "#B6E880",
           "#FF97FF",
           "#FECB52"
          ],
          "font": {
           "color": "#2a3f5f"
          },
          "geo": {
           "bgcolor": "white",
           "lakecolor": "white",
           "landcolor": "#E5ECF6",
           "showlakes": true,
           "showland": true,
           "subunitcolor": "white"
          },
          "hoverlabel": {
           "align": "left"
          },
          "hovermode": "closest",
          "mapbox": {
           "style": "light"
          },
          "paper_bgcolor": "white",
          "plot_bgcolor": "#E5ECF6",
          "polar": {
           "angularaxis": {
            "gridcolor": "white",
            "linecolor": "white",
            "ticks": ""
           },
           "bgcolor": "#E5ECF6",
           "radialaxis": {
            "gridcolor": "white",
            "linecolor": "white",
            "ticks": ""
           }
          },
          "scene": {
           "xaxis": {
            "backgroundcolor": "#E5ECF6",
            "gridcolor": "white",
            "gridwidth": 2,
            "linecolor": "white",
            "showbackground": true,
            "ticks": "",
            "zerolinecolor": "white"
           },
           "yaxis": {
            "backgroundcolor": "#E5ECF6",
            "gridcolor": "white",
            "gridwidth": 2,
            "linecolor": "white",
            "showbackground": true,
            "ticks": "",
            "zerolinecolor": "white"
           },
           "zaxis": {
            "backgroundcolor": "#E5ECF6",
            "gridcolor": "white",
            "gridwidth": 2,
            "linecolor": "white",
            "showbackground": true,
            "ticks": "",
            "zerolinecolor": "white"
           }
          },
          "shapedefaults": {
           "line": {
            "color": "#2a3f5f"
           }
          },
          "ternary": {
           "aaxis": {
            "gridcolor": "white",
            "linecolor": "white",
            "ticks": ""
           },
           "baxis": {
            "gridcolor": "white",
            "linecolor": "white",
            "ticks": ""
           },
           "bgcolor": "#E5ECF6",
           "caxis": {
            "gridcolor": "white",
            "linecolor": "white",
            "ticks": ""
           }
          },
          "title": {
           "x": 0.05
          },
          "xaxis": {
           "automargin": true,
           "gridcolor": "white",
           "linecolor": "white",
           "ticks": "",
           "title": {
            "standoff": 15
           },
           "zerolinecolor": "white",
           "zerolinewidth": 2
          },
          "yaxis": {
           "automargin": true,
           "gridcolor": "white",
           "linecolor": "white",
           "ticks": "",
           "title": {
            "standoff": 15
           },
           "zerolinecolor": "white",
           "zerolinewidth": 2
          }
         }
        },
        "xaxis": {
         "anchor": "y",
         "domain": [
          0,
          1
         ],
         "title": {
          "text": "x"
         }
        },
        "yaxis": {
         "anchor": "x",
         "autorange": "reversed",
         "domain": [
          0,
          1
         ],
         "title": {
          "text": "y"
         }
        }
       }
      }
     },
     "metadata": {},
     "output_type": "display_data"
    }
   ],
   "source": [
    "fig = px.scatter(data_points\n",
    "\t, x='x'\n",
    "\t, y='y'\n",
    "\t, hover_name='Laser'\n",
    "\t, hover_data=['Active beam captures']\n",
    "\t, color='Camera')\n",
    "fig.update_yaxes(autorange=\"reversed\")\n",
    "fig.show()"
   ]
  },
  {
   "cell_type": "code",
   "execution_count": 214,
   "metadata": {},
   "outputs": [],
   "source": [
    "for data_point in data_points:\n",
    "\tif data_point['x'] == 0:\n",
    "\t\tprint(data_point)"
   ]
  },
  {
   "cell_type": "code",
   "execution_count": 21,
   "metadata": {},
   "outputs": [
    {
     "data": {
      "text/plain": [
       "'Fri 2021.10.01'"
      ]
     },
     "execution_count": 21,
     "metadata": {},
     "output_type": "execute_result"
    }
   ],
   "source": [
    "calibrate_node['Content']['cameraCaptures']['captures'][0]['date']"
   ]
  },
  {
   "cell_type": "code",
   "execution_count": null,
   "metadata": {},
   "outputs": [],
   "source": []
  },
  {
   "cell_type": "code",
   "execution_count": null,
   "metadata": {},
   "outputs": [],
   "source": [
    "# get all laser addresses\n",
    "s = set()\n",
    "for data_point in data_points:\n",
    "\taddress = data_point['']\n",
    "\ts.add(data_point)"
   ]
  }
 ],
 "metadata": {
  "interpreter": {
   "hash": "82b0de68545f78ab7a5fb705903fe28068dd8fc77393edae6a55556bceb4048e"
  },
  "kernelspec": {
   "display_name": "Python 3.7.7 ('base')",
   "language": "python",
   "name": "python3"
  },
  "language_info": {
   "codemirror_mode": {
    "name": "ipython",
    "version": 3
   },
   "file_extension": ".py",
   "mimetype": "text/x-python",
   "name": "python",
   "nbconvert_exporter": "python",
   "pygments_lexer": "ipython3",
   "version": "3.9.7"
  },
  "orig_nbformat": 4
 },
 "nbformat": 4,
 "nbformat_minor": 2
}
