{
 "cells": [
  {
   "cell_type": "markdown",
   "metadata": {},
   "source": [
    "# Analyse imagePoints\n",
    "\n",
    "Our aim is to calibrate the cameras against the laser positions (3D) and projections of lasers into camrea images (as 2D image points where lines converge).\n",
    "\n",
    "During this stage we want to:\n",
    "\n",
    "1. Deselect any beamcaptures that are wrongly detected\n",
    "2. Deselect any lasercaptures where the convergence point does not follow the circle in Figure 2 (NB : these should be re-selected after completing the camera calibration stage)\n",
    "3. Evaluate residuals using Figure 3"
   ]
  },
  {
   "cell_type": "code",
   "execution_count": 24,
   "metadata": {},
   "outputs": [],
   "source": [
    "import json\n",
    "import numpy as np\n",
    "import pandas as pd\n",
    "import plotly.express as px"
   ]
  },
  {
   "cell_type": "code",
   "execution_count": 25,
   "metadata": {},
   "outputs": [],
   "source": [
    "with open('../../Application/bin/data/Patch.json') as file:\n",
    "\tpatch = json.load(file)\n",
    "\t"
   ]
  },
  {
   "cell_type": "code",
   "execution_count": 26,
   "metadata": {},
   "outputs": [],
   "source": [
    "def find_node_by_name(node_name):\n",
    "\tfor node_id in patch['Nodes']:\n",
    "\t\tif patch['Nodes'][node_id]['Name'] == node_name:\n",
    "\t\t\treturn patch['Nodes'][node_id]\n",
    "\traise(Exception(\"Node not found\"))"
   ]
  },
  {
   "cell_type": "code",
   "execution_count": 27,
   "metadata": {},
   "outputs": [],
   "source": [
    "calibrate_node = find_node_by_name('Calibrate')"
   ]
  },
  {
   "attachments": {},
   "cell_type": "markdown",
   "metadata": {},
   "source": [
    "Here you might need to manually select which camera index you're looking at"
   ]
  },
  {
   "cell_type": "code",
   "execution_count": 28,
   "metadata": {},
   "outputs": [],
   "source": [
    "first_camera_index = 2\n",
    "first_camera = calibrate_node['Content']['cameraCaptures']['captures'][first_camera_index]"
   ]
  },
  {
   "cell_type": "code",
   "execution_count": 29,
   "metadata": {},
   "outputs": [],
   "source": [
    "#gather laser image points function\n",
    "def gather_laser_image_points(camera_capture):\n",
    "\tlaser_image_points = []\n",
    "\tlaser_names = []\n",
    "\tfor laser_capture in first_camera['laserCaptures']['captures']:\n",
    "\t\tif laser_capture['Selected']:\n",
    "\t\t\tlaser_image_points.append(laser_capture['imagePointInCamera'])\n",
    "\t\t\tlaser_names.append(laser_capture['serialNumber'])\n",
    "\treturn laser_image_points, laser_names"
   ]
  },
  {
   "cell_type": "code",
   "execution_count": 30,
   "metadata": {},
   "outputs": [],
   "source": [
    "laser_image_points, laser_names = gather_laser_image_points(first_camera)\n",
    "data = np.array(laser_image_points)"
   ]
  },
  {
   "cell_type": "markdown",
   "metadata": {},
   "source": [
    "# Figure 1"
   ]
  },
  {
   "cell_type": "code",
   "execution_count": 31,
   "metadata": {},
   "outputs": [
    {
     "data": {
      "application/vnd.plotly.v1+json": {
       "config": {
        "plotlyServerURL": "https://plot.ly"
       },
       "data": [
        {
         "hovertemplate": "<b>%{hovertext}</b><br><br>x=%{x}<br>y=%{y}<extra></extra>",
         "hovertext": [
          1,
          2,
          3,
          4,
          5,
          39,
          7,
          8,
          9,
          10,
          11,
          12,
          14,
          15,
          16,
          17,
          18,
          19,
          20,
          22,
          23,
          24,
          25,
          27,
          28,
          30,
          32,
          33,
          34,
          35,
          36,
          37,
          38
         ],
         "legendgroup": "",
         "marker": {
          "color": "#636efa",
          "symbol": "circle"
         },
         "mode": "markers",
         "name": "",
         "orientation": "v",
         "showlegend": false,
         "type": "scatter",
         "x": [
          7795.75439453125,
          460.3912353515625,
          -6819.376953125,
          -14079.3720703125,
          -21040.365234375,
          -27771.35546875,
          -32949.6875,
          -37520.67578125,
          -40163.08203125,
          -42372.76171875,
          -42902.46875,
          -42173.7734375,
          -39820.98046875,
          -37084.2890625,
          -33201.80859375,
          -28190.3359375,
          -22722.66796875,
          -16506.1015625,
          -9910.494140625,
          3251.083740234375,
          9647.3388671875,
          15824.787109375,
          21562.923828125,
          26431.103515625,
          30807.666015625,
          37826.69140625,
          41153.12109375,
          42060.3515625,
          41944.84765625,
          40605.01953125,
          38269.75390625,
          34958.42578125,
          31100.744140625
         ],
         "xaxis": "x",
         "y": [
          -40102.9140625,
          -41414.69921875,
          -41120.6484375,
          -39863.02734375,
          -37021.42578125,
          -33200.44140625,
          -27394.46484375,
          -21105.150390625,
          -13961.0947265625,
          -6670.14697265625,
          780.2600708007812,
          8019.14892578125,
          15032.892578125,
          21934.779296875,
          27818.2265625,
          33058.67578125,
          37253.75,
          40528.7578125,
          42445.97265625,
          43573.4453125,
          42328.93359375,
          40311.84765625,
          37314.859375,
          33793.375,
          29380.4609375,
          19413.623046875,
          7594.875,
          1448.8841552734375,
          -4599.236328125,
          -10755.2294921875,
          -16447.4453125,
          -21726.650390625,
          -26614.77734375
         ],
         "yaxis": "y"
        }
       ],
       "layout": {
        "legend": {
         "tracegroupgap": 0
        },
        "margin": {
         "t": 60
        },
        "template": {
         "data": {
          "bar": [
           {
            "error_x": {
             "color": "#2a3f5f"
            },
            "error_y": {
             "color": "#2a3f5f"
            },
            "marker": {
             "line": {
              "color": "#E5ECF6",
              "width": 0.5
             },
             "pattern": {
              "fillmode": "overlay",
              "size": 10,
              "solidity": 0.2
             }
            },
            "type": "bar"
           }
          ],
          "barpolar": [
           {
            "marker": {
             "line": {
              "color": "#E5ECF6",
              "width": 0.5
             },
             "pattern": {
              "fillmode": "overlay",
              "size": 10,
              "solidity": 0.2
             }
            },
            "type": "barpolar"
           }
          ],
          "carpet": [
           {
            "aaxis": {
             "endlinecolor": "#2a3f5f",
             "gridcolor": "white",
             "linecolor": "white",
             "minorgridcolor": "white",
             "startlinecolor": "#2a3f5f"
            },
            "baxis": {
             "endlinecolor": "#2a3f5f",
             "gridcolor": "white",
             "linecolor": "white",
             "minorgridcolor": "white",
             "startlinecolor": "#2a3f5f"
            },
            "type": "carpet"
           }
          ],
          "choropleth": [
           {
            "colorbar": {
             "outlinewidth": 0,
             "ticks": ""
            },
            "type": "choropleth"
           }
          ],
          "contour": [
           {
            "colorbar": {
             "outlinewidth": 0,
             "ticks": ""
            },
            "colorscale": [
             [
              0,
              "#0d0887"
             ],
             [
              0.1111111111111111,
              "#46039f"
             ],
             [
              0.2222222222222222,
              "#7201a8"
             ],
             [
              0.3333333333333333,
              "#9c179e"
             ],
             [
              0.4444444444444444,
              "#bd3786"
             ],
             [
              0.5555555555555556,
              "#d8576b"
             ],
             [
              0.6666666666666666,
              "#ed7953"
             ],
             [
              0.7777777777777778,
              "#fb9f3a"
             ],
             [
              0.8888888888888888,
              "#fdca26"
             ],
             [
              1,
              "#f0f921"
             ]
            ],
            "type": "contour"
           }
          ],
          "contourcarpet": [
           {
            "colorbar": {
             "outlinewidth": 0,
             "ticks": ""
            },
            "type": "contourcarpet"
           }
          ],
          "heatmap": [
           {
            "colorbar": {
             "outlinewidth": 0,
             "ticks": ""
            },
            "colorscale": [
             [
              0,
              "#0d0887"
             ],
             [
              0.1111111111111111,
              "#46039f"
             ],
             [
              0.2222222222222222,
              "#7201a8"
             ],
             [
              0.3333333333333333,
              "#9c179e"
             ],
             [
              0.4444444444444444,
              "#bd3786"
             ],
             [
              0.5555555555555556,
              "#d8576b"
             ],
             [
              0.6666666666666666,
              "#ed7953"
             ],
             [
              0.7777777777777778,
              "#fb9f3a"
             ],
             [
              0.8888888888888888,
              "#fdca26"
             ],
             [
              1,
              "#f0f921"
             ]
            ],
            "type": "heatmap"
           }
          ],
          "heatmapgl": [
           {
            "colorbar": {
             "outlinewidth": 0,
             "ticks": ""
            },
            "colorscale": [
             [
              0,
              "#0d0887"
             ],
             [
              0.1111111111111111,
              "#46039f"
             ],
             [
              0.2222222222222222,
              "#7201a8"
             ],
             [
              0.3333333333333333,
              "#9c179e"
             ],
             [
              0.4444444444444444,
              "#bd3786"
             ],
             [
              0.5555555555555556,
              "#d8576b"
             ],
             [
              0.6666666666666666,
              "#ed7953"
             ],
             [
              0.7777777777777778,
              "#fb9f3a"
             ],
             [
              0.8888888888888888,
              "#fdca26"
             ],
             [
              1,
              "#f0f921"
             ]
            ],
            "type": "heatmapgl"
           }
          ],
          "histogram": [
           {
            "marker": {
             "pattern": {
              "fillmode": "overlay",
              "size": 10,
              "solidity": 0.2
             }
            },
            "type": "histogram"
           }
          ],
          "histogram2d": [
           {
            "colorbar": {
             "outlinewidth": 0,
             "ticks": ""
            },
            "colorscale": [
             [
              0,
              "#0d0887"
             ],
             [
              0.1111111111111111,
              "#46039f"
             ],
             [
              0.2222222222222222,
              "#7201a8"
             ],
             [
              0.3333333333333333,
              "#9c179e"
             ],
             [
              0.4444444444444444,
              "#bd3786"
             ],
             [
              0.5555555555555556,
              "#d8576b"
             ],
             [
              0.6666666666666666,
              "#ed7953"
             ],
             [
              0.7777777777777778,
              "#fb9f3a"
             ],
             [
              0.8888888888888888,
              "#fdca26"
             ],
             [
              1,
              "#f0f921"
             ]
            ],
            "type": "histogram2d"
           }
          ],
          "histogram2dcontour": [
           {
            "colorbar": {
             "outlinewidth": 0,
             "ticks": ""
            },
            "colorscale": [
             [
              0,
              "#0d0887"
             ],
             [
              0.1111111111111111,
              "#46039f"
             ],
             [
              0.2222222222222222,
              "#7201a8"
             ],
             [
              0.3333333333333333,
              "#9c179e"
             ],
             [
              0.4444444444444444,
              "#bd3786"
             ],
             [
              0.5555555555555556,
              "#d8576b"
             ],
             [
              0.6666666666666666,
              "#ed7953"
             ],
             [
              0.7777777777777778,
              "#fb9f3a"
             ],
             [
              0.8888888888888888,
              "#fdca26"
             ],
             [
              1,
              "#f0f921"
             ]
            ],
            "type": "histogram2dcontour"
           }
          ],
          "mesh3d": [
           {
            "colorbar": {
             "outlinewidth": 0,
             "ticks": ""
            },
            "type": "mesh3d"
           }
          ],
          "parcoords": [
           {
            "line": {
             "colorbar": {
              "outlinewidth": 0,
              "ticks": ""
             }
            },
            "type": "parcoords"
           }
          ],
          "pie": [
           {
            "automargin": true,
            "type": "pie"
           }
          ],
          "scatter": [
           {
            "fillpattern": {
             "fillmode": "overlay",
             "size": 10,
             "solidity": 0.2
            },
            "type": "scatter"
           }
          ],
          "scatter3d": [
           {
            "line": {
             "colorbar": {
              "outlinewidth": 0,
              "ticks": ""
             }
            },
            "marker": {
             "colorbar": {
              "outlinewidth": 0,
              "ticks": ""
             }
            },
            "type": "scatter3d"
           }
          ],
          "scattercarpet": [
           {
            "marker": {
             "colorbar": {
              "outlinewidth": 0,
              "ticks": ""
             }
            },
            "type": "scattercarpet"
           }
          ],
          "scattergeo": [
           {
            "marker": {
             "colorbar": {
              "outlinewidth": 0,
              "ticks": ""
             }
            },
            "type": "scattergeo"
           }
          ],
          "scattergl": [
           {
            "marker": {
             "colorbar": {
              "outlinewidth": 0,
              "ticks": ""
             }
            },
            "type": "scattergl"
           }
          ],
          "scattermapbox": [
           {
            "marker": {
             "colorbar": {
              "outlinewidth": 0,
              "ticks": ""
             }
            },
            "type": "scattermapbox"
           }
          ],
          "scatterpolar": [
           {
            "marker": {
             "colorbar": {
              "outlinewidth": 0,
              "ticks": ""
             }
            },
            "type": "scatterpolar"
           }
          ],
          "scatterpolargl": [
           {
            "marker": {
             "colorbar": {
              "outlinewidth": 0,
              "ticks": ""
             }
            },
            "type": "scatterpolargl"
           }
          ],
          "scatterternary": [
           {
            "marker": {
             "colorbar": {
              "outlinewidth": 0,
              "ticks": ""
             }
            },
            "type": "scatterternary"
           }
          ],
          "surface": [
           {
            "colorbar": {
             "outlinewidth": 0,
             "ticks": ""
            },
            "colorscale": [
             [
              0,
              "#0d0887"
             ],
             [
              0.1111111111111111,
              "#46039f"
             ],
             [
              0.2222222222222222,
              "#7201a8"
             ],
             [
              0.3333333333333333,
              "#9c179e"
             ],
             [
              0.4444444444444444,
              "#bd3786"
             ],
             [
              0.5555555555555556,
              "#d8576b"
             ],
             [
              0.6666666666666666,
              "#ed7953"
             ],
             [
              0.7777777777777778,
              "#fb9f3a"
             ],
             [
              0.8888888888888888,
              "#fdca26"
             ],
             [
              1,
              "#f0f921"
             ]
            ],
            "type": "surface"
           }
          ],
          "table": [
           {
            "cells": {
             "fill": {
              "color": "#EBF0F8"
             },
             "line": {
              "color": "white"
             }
            },
            "header": {
             "fill": {
              "color": "#C8D4E3"
             },
             "line": {
              "color": "white"
             }
            },
            "type": "table"
           }
          ]
         },
         "layout": {
          "annotationdefaults": {
           "arrowcolor": "#2a3f5f",
           "arrowhead": 0,
           "arrowwidth": 1
          },
          "autotypenumbers": "strict",
          "coloraxis": {
           "colorbar": {
            "outlinewidth": 0,
            "ticks": ""
           }
          },
          "colorscale": {
           "diverging": [
            [
             0,
             "#8e0152"
            ],
            [
             0.1,
             "#c51b7d"
            ],
            [
             0.2,
             "#de77ae"
            ],
            [
             0.3,
             "#f1b6da"
            ],
            [
             0.4,
             "#fde0ef"
            ],
            [
             0.5,
             "#f7f7f7"
            ],
            [
             0.6,
             "#e6f5d0"
            ],
            [
             0.7,
             "#b8e186"
            ],
            [
             0.8,
             "#7fbc41"
            ],
            [
             0.9,
             "#4d9221"
            ],
            [
             1,
             "#276419"
            ]
           ],
           "sequential": [
            [
             0,
             "#0d0887"
            ],
            [
             0.1111111111111111,
             "#46039f"
            ],
            [
             0.2222222222222222,
             "#7201a8"
            ],
            [
             0.3333333333333333,
             "#9c179e"
            ],
            [
             0.4444444444444444,
             "#bd3786"
            ],
            [
             0.5555555555555556,
             "#d8576b"
            ],
            [
             0.6666666666666666,
             "#ed7953"
            ],
            [
             0.7777777777777778,
             "#fb9f3a"
            ],
            [
             0.8888888888888888,
             "#fdca26"
            ],
            [
             1,
             "#f0f921"
            ]
           ],
           "sequentialminus": [
            [
             0,
             "#0d0887"
            ],
            [
             0.1111111111111111,
             "#46039f"
            ],
            [
             0.2222222222222222,
             "#7201a8"
            ],
            [
             0.3333333333333333,
             "#9c179e"
            ],
            [
             0.4444444444444444,
             "#bd3786"
            ],
            [
             0.5555555555555556,
             "#d8576b"
            ],
            [
             0.6666666666666666,
             "#ed7953"
            ],
            [
             0.7777777777777778,
             "#fb9f3a"
            ],
            [
             0.8888888888888888,
             "#fdca26"
            ],
            [
             1,
             "#f0f921"
            ]
           ]
          },
          "colorway": [
           "#636efa",
           "#EF553B",
           "#00cc96",
           "#ab63fa",
           "#FFA15A",
           "#19d3f3",
           "#FF6692",
           "#B6E880",
           "#FF97FF",
           "#FECB52"
          ],
          "font": {
           "color": "#2a3f5f"
          },
          "geo": {
           "bgcolor": "white",
           "lakecolor": "white",
           "landcolor": "#E5ECF6",
           "showlakes": true,
           "showland": true,
           "subunitcolor": "white"
          },
          "hoverlabel": {
           "align": "left"
          },
          "hovermode": "closest",
          "mapbox": {
           "style": "light"
          },
          "paper_bgcolor": "white",
          "plot_bgcolor": "#E5ECF6",
          "polar": {
           "angularaxis": {
            "gridcolor": "white",
            "linecolor": "white",
            "ticks": ""
           },
           "bgcolor": "#E5ECF6",
           "radialaxis": {
            "gridcolor": "white",
            "linecolor": "white",
            "ticks": ""
           }
          },
          "scene": {
           "xaxis": {
            "backgroundcolor": "#E5ECF6",
            "gridcolor": "white",
            "gridwidth": 2,
            "linecolor": "white",
            "showbackground": true,
            "ticks": "",
            "zerolinecolor": "white"
           },
           "yaxis": {
            "backgroundcolor": "#E5ECF6",
            "gridcolor": "white",
            "gridwidth": 2,
            "linecolor": "white",
            "showbackground": true,
            "ticks": "",
            "zerolinecolor": "white"
           },
           "zaxis": {
            "backgroundcolor": "#E5ECF6",
            "gridcolor": "white",
            "gridwidth": 2,
            "linecolor": "white",
            "showbackground": true,
            "ticks": "",
            "zerolinecolor": "white"
           }
          },
          "shapedefaults": {
           "line": {
            "color": "#2a3f5f"
           }
          },
          "ternary": {
           "aaxis": {
            "gridcolor": "white",
            "linecolor": "white",
            "ticks": ""
           },
           "baxis": {
            "gridcolor": "white",
            "linecolor": "white",
            "ticks": ""
           },
           "bgcolor": "#E5ECF6",
           "caxis": {
            "gridcolor": "white",
            "linecolor": "white",
            "ticks": ""
           }
          },
          "title": {
           "x": 0.05
          },
          "xaxis": {
           "automargin": true,
           "gridcolor": "white",
           "linecolor": "white",
           "ticks": "",
           "title": {
            "standoff": 15
           },
           "zerolinecolor": "white",
           "zerolinewidth": 2
          },
          "yaxis": {
           "automargin": true,
           "gridcolor": "white",
           "linecolor": "white",
           "ticks": "",
           "title": {
            "standoff": 15
           },
           "zerolinecolor": "white",
           "zerolinewidth": 2
          }
         }
        },
        "xaxis": {
         "anchor": "y",
         "domain": [
          0,
          1
         ],
         "title": {
          "text": "x"
         }
        },
        "yaxis": {
         "anchor": "x",
         "domain": [
          0,
          1
         ],
         "title": {
          "text": "y"
         }
        }
       }
      }
     },
     "metadata": {},
     "output_type": "display_data"
    }
   ],
   "source": [
    "fig = px.scatter(x=data[:,0], y=data[:,1],hover_name=laser_names)\n",
    "fig.show()"
   ]
  },
  {
   "attachments": {},
   "cell_type": "markdown",
   "metadata": {},
   "source": [
    "If you have trouble calibrating cameras, then try the following:\n",
    "\n",
    "* Use intrinsic guess and set an initial postiion \n",
    "* Fix the lasers and use Bundle adjust lasers instead (needs a rough initial camera position) - note that you'll need more than one camera selected at a time since bundle adjustment rejects single camera scenarios\n",
    "\n"
   ]
  },
  {
   "cell_type": "code",
   "execution_count": 32,
   "metadata": {},
   "outputs": [
    {
     "ename": "KeyError",
     "evalue": "'laserAddress'",
     "output_type": "error",
     "traceback": [
      "\u001b[1;31m---------------------------------------------------------------------------\u001b[0m",
      "\u001b[1;31mKeyError\u001b[0m                                  Traceback (most recent call last)",
      "\u001b[1;32mc:\\dev\\openFrameworks\\addons\\ofxRulr\\Plugin_Scrap\\IPython\\1_ImagePoints.ipynb Cell 13\u001b[0m in \u001b[0;36m<cell line: 6>\u001b[1;34m()\u001b[0m\n\u001b[0;32m      <a href='vscode-notebook-cell:/c%3A/dev/openFrameworks/addons/ofxRulr/Plugin_Scrap/IPython/1_ImagePoints.ipynb#X13sZmlsZQ%3D%3D?line=2'>3</a>\u001b[0m \t\t\u001b[39mif\u001b[39;00m \u001b[39mint\u001b[39m(laser_capture[\u001b[39m'\u001b[39m\u001b[39mlaserAddress\u001b[39m\u001b[39m'\u001b[39m]) \u001b[39m==\u001b[39m laserAddress:\n\u001b[0;32m      <a href='vscode-notebook-cell:/c%3A/dev/openFrameworks/addons/ofxRulr/Plugin_Scrap/IPython/1_ImagePoints.ipynb#X13sZmlsZQ%3D%3D?line=3'>4</a>\u001b[0m \t\t\t\u001b[39mreturn\u001b[39;00m laser_capture\n\u001b[1;32m----> <a href='vscode-notebook-cell:/c%3A/dev/openFrameworks/addons/ofxRulr/Plugin_Scrap/IPython/1_ImagePoints.ipynb#X13sZmlsZQ%3D%3D?line=5'>6</a>\u001b[0m get_laser_capture(first_camera, \u001b[39m22\u001b[39m)\u001b[39m.\u001b[39mkeys()\n",
      "\u001b[1;32mc:\\dev\\openFrameworks\\addons\\ofxRulr\\Plugin_Scrap\\IPython\\1_ImagePoints.ipynb Cell 13\u001b[0m in \u001b[0;36mget_laser_capture\u001b[1;34m(camera_capture, laserAddress)\u001b[0m\n\u001b[0;32m      <a href='vscode-notebook-cell:/c%3A/dev/openFrameworks/addons/ofxRulr/Plugin_Scrap/IPython/1_ImagePoints.ipynb#X13sZmlsZQ%3D%3D?line=0'>1</a>\u001b[0m \u001b[39mdef\u001b[39;00m \u001b[39mget_laser_capture\u001b[39m(camera_capture, laserAddress):\n\u001b[0;32m      <a href='vscode-notebook-cell:/c%3A/dev/openFrameworks/addons/ofxRulr/Plugin_Scrap/IPython/1_ImagePoints.ipynb#X13sZmlsZQ%3D%3D?line=1'>2</a>\u001b[0m \t\u001b[39mfor\u001b[39;00m laser_capture \u001b[39min\u001b[39;00m camera_capture[\u001b[39m'\u001b[39m\u001b[39mlaserCaptures\u001b[39m\u001b[39m'\u001b[39m][\u001b[39m'\u001b[39m\u001b[39mcaptures\u001b[39m\u001b[39m'\u001b[39m]:\n\u001b[1;32m----> <a href='vscode-notebook-cell:/c%3A/dev/openFrameworks/addons/ofxRulr/Plugin_Scrap/IPython/1_ImagePoints.ipynb#X13sZmlsZQ%3D%3D?line=2'>3</a>\u001b[0m \t\t\u001b[39mif\u001b[39;00m \u001b[39mint\u001b[39m(laser_capture[\u001b[39m'\u001b[39;49m\u001b[39mlaserAddress\u001b[39;49m\u001b[39m'\u001b[39;49m]) \u001b[39m==\u001b[39m laserAddress:\n\u001b[0;32m      <a href='vscode-notebook-cell:/c%3A/dev/openFrameworks/addons/ofxRulr/Plugin_Scrap/IPython/1_ImagePoints.ipynb#X13sZmlsZQ%3D%3D?line=3'>4</a>\u001b[0m \t\t\t\u001b[39mreturn\u001b[39;00m laser_capture\n",
      "\u001b[1;31mKeyError\u001b[0m: 'laserAddress'"
     ]
    }
   ],
   "source": [
    "def get_laser_capture(camera_capture, serialNumber):\n",
    "\tfor laser_capture in camera_capture['laserCaptures']['captures']:\n",
    "\t\tif int(laser_capture['serialNumber']) == serialNumber:\n",
    "\t\t\treturn laser_capture\n",
    "\n",
    "get_laser_capture(first_camera, 22).keys()"
   ]
  },
  {
   "cell_type": "code",
   "execution_count": 10,
   "metadata": {},
   "outputs": [],
   "source": [
    "# gather data\n",
    "data_points = []\n",
    "for camera_capture in calibrate_node['Content']['cameraCaptures']['captures']:\n",
    "\tfor laser_capture in camera_capture['laserCaptures']['captures']:\n",
    "\t\tif laser_capture['Selected']:\n",
    "\t\t\tdata_point = {}\n",
    "\t\t\tdata_point['Camera'] = \"{0} {1}\".format(camera_capture['date'], camera_capture['time'])\n",
    "\t\t\tdata_point['x'] = laser_capture['imagePointInCamera'][0]\n",
    "\t\t\tdata_point['y'] = laser_capture['imagePointInCamera'][1]\n",
    "\t\t\tdata_point['Laser'] = \"Laser {0}\".format(laser_capture['serialNumber'])\n",
    "\t\t\t\n",
    "\t\t\tif 'residual' in data_point:\n",
    "\t\t\t\tdata_point['residual'] = laser_capture['serialNumber']\n",
    "\t\t\telse:\n",
    "\t\t\t\tdata_point['residual'] = 0\n",
    "\t\t\t\t\n",
    "\t\t\t#count active beam captures\n",
    "\t\t\tactive_beam_capture_count = 0\n",
    "\t\t\tfor beam_capture in laser_capture['beamCaptures']['captures']:\n",
    "\t\t\t\tif beam_capture['Selected']:\n",
    "\t\t\t\t\tactive_beam_capture_count = active_beam_capture_count + 1\n",
    "\t\t\tdata_point['Active beam captures'] = active_beam_capture_count\n",
    "\t\t\t\n",
    "\t\t\tdata_points.append(data_point)\n",
    "\n"
   ]
  },
  {
   "cell_type": "markdown",
   "metadata": {},
   "source": [
    "# Figure 2\n",
    "\n",
    "Disable LaserCaptures until we have good looking ellipses below:"
   ]
  },
  {
   "cell_type": "markdown",
   "metadata": {},
   "source": [
    "Then we keep solving the intiial camera calibration, progressively removiving points with largest values until we get a good camera solve (e.g. values > 20k can be confusing for residuals)"
   ]
  },
  {
   "cell_type": "code",
   "execution_count": 11,
   "metadata": {},
   "outputs": [
    {
     "data": {
      "application/vnd.plotly.v1+json": {
       "config": {
        "plotlyServerURL": "https://plot.ly"
       },
       "data": [
        {
         "customdata": [
          [
           9
          ],
          [
           9
          ],
          [
           9
          ],
          [
           9
          ],
          [
           9
          ],
          [
           9
          ],
          [
           9
          ],
          [
           9
          ],
          [
           8
          ],
          [
           9
          ],
          [
           8
          ],
          [
           7
          ],
          [
           8
          ],
          [
           8
          ],
          [
           7
          ],
          [
           9
          ],
          [
           6
          ],
          [
           9
          ],
          [
           8
          ],
          [
           9
          ],
          [
           9
          ],
          [
           9
          ],
          [
           8
          ],
          [
           9
          ],
          [
           9
          ],
          [
           9
          ],
          [
           9
          ]
         ],
         "hovertemplate": "<b>%{hovertext}</b><br><br>Camera=Thu 2022.05.19 23:08<br>x=%{x}<br>y=%{y}<br>Active beam captures=%{customdata[0]}<extra></extra>",
         "hovertext": [
          "Laser 1",
          "Laser 2",
          "Laser 3",
          "Laser 4",
          "Laser 12",
          "Laser 7",
          "Laser 8",
          "Laser 10",
          "Laser 11",
          "Laser 13",
          "Laser 14",
          "Laser 16",
          "Laser 17",
          "Laser 18",
          "Laser 19",
          "Laser 22",
          "Laser 25",
          "Laser 28",
          "Laser 30",
          "Laser 31",
          "Laser 32",
          "Laser 34",
          "Laser 35",
          "Laser 37",
          "Laser 38",
          "Laser 33",
          "Laser 40"
         ],
         "legendgroup": "Thu 2022.05.19 23:08",
         "marker": {
          "color": "#636efa",
          "symbol": "circle"
         },
         "mode": "markers",
         "name": "Thu 2022.05.19 23:08",
         "orientation": "v",
         "showlegend": true,
         "type": "scatter",
         "x": [
          17678.08984375,
          21610.466796875,
          25280.798828125,
          29591.693359375,
          58508.375,
          102399.8359375,
          230142.8125,
          -57962.46484375,
          -34042.796875,
          -15083.265625,
          5850.77734375,
          123661.40625,
          -134065.96875,
          -39875.46484375,
          -26068.240234375,
          -11645.705078125,
          -6064.59326171875,
          -1718.919677734375,
          1667.035400390625,
          2976.14404296875,
          4184.05419921875,
          6068.9873046875,
          6677.1767578125,
          8508.9658203125,
          9321.2744140625,
          10587.25390625,
          12424.49609375
         ],
         "xaxis": "x",
         "y": [
          12812.60546875,
          12562.2734375,
          12309.80859375,
          11719.92578125,
          8045.68994140625,
          761.0287475585938,
          -23095.23046875,
          28681.205078125,
          24117.279296875,
          25763.31640625,
          30346.15234375,
          114021.8359375,
          -67553.3828125,
          -8651.9951171875,
          -1219.2662353515625,
          7954.1552734375,
          10379.9287109375,
          11408.0263671875,
          11960.958984375,
          12113.2763671875,
          12342.1494140625,
          12540.271484375,
          12628.466796875,
          12747.2861328125,
          12782.822265625,
          12827.076171875,
          12860.5302734375
         ],
         "yaxis": "y"
        },
        {
         "customdata": [
          [
           8
          ],
          [
           8
          ],
          [
           9
          ],
          [
           9
          ],
          [
           8
          ],
          [
           9
          ],
          [
           9
          ],
          [
           9
          ],
          [
           9
          ],
          [
           7
          ],
          [
           9
          ],
          [
           9
          ],
          [
           8
          ],
          [
           9
          ],
          [
           9
          ],
          [
           6
          ],
          [
           9
          ],
          [
           9
          ],
          [
           9
          ],
          [
           8
          ],
          [
           9
          ],
          [
           6
          ],
          [
           9
          ],
          [
           9
          ],
          [
           8
          ],
          [
           7
          ],
          [
           9
          ]
         ],
         "hovertemplate": "<b>%{hovertext}</b><br><br>Camera=Thu 2022.05.19 23:55<br>x=%{x}<br>y=%{y}<br>Active beam captures=%{customdata[0]}<extra></extra>",
         "hovertext": [
          "Laser 1",
          "Laser 2",
          "Laser 3",
          "Laser 4",
          "Laser 12",
          "Laser 7",
          "Laser 8",
          "Laser 10",
          "Laser 11",
          "Laser 13",
          "Laser 14",
          "Laser 15",
          "Laser 16",
          "Laser 17",
          "Laser 18",
          "Laser 26",
          "Laser 28",
          "Laser 29",
          "Laser 30",
          "Laser 31",
          "Laser 32",
          "Laser 34",
          "Laser 35",
          "Laser 36",
          "Laser 37",
          "Laser 38",
          "Laser 33"
         ],
         "legendgroup": "Thu 2022.05.19 23:55",
         "marker": {
          "color": "#EF553B",
          "symbol": "circle"
         },
         "mode": "markers",
         "name": "Thu 2022.05.19 23:55",
         "orientation": "v",
         "showlegend": true,
         "type": "scatter",
         "x": [
          -5659.33740234375,
          -11828.404296875,
          -14712.9365234375,
          -16593.310546875,
          -14220.2353515625,
          -12023.1181640625,
          -10699.958984375,
          -8112.66943359375,
          -7417.11083984375,
          -4256.1298828125,
          -1724.42236328125,
          -607.5933837890625,
          401.9149169921875,
          1378.8446044921875,
          2267.80224609375,
          10605.630859375,
          11520.8125,
          12319.728515625,
          15367.6455078125,
          17878.921875,
          21949.970703125,
          28087.365234375,
          28228.189453125,
          26749.455078125,
          24756.35546875,
          21885.09765625,
          19077.45703125
         ],
         "xaxis": "x",
         "y": [
          3640.194091796875,
          5112.0791015625,
          5681.3720703125,
          5800.92822265625,
          7757.14208984375,
          8355.7109375,
          8614.9365234375,
          9316.5927734375,
          9541.453125,
          9912.6962890625,
          10203.1513671875,
          10216.0751953125,
          10192.392578125,
          10297.7119140625,
          10313.6953125,
          10081.8330078125,
          10037.4658203125,
          9934.5166015625,
          9439.5654296875,
          8935.71484375,
          8313.3916015625,
          6781.88427734375,
          6582.71728515625,
          6337.56689453125,
          5948.6904296875,
          5841.14697265625,
          5137.58447265625
         ],
         "yaxis": "y"
        },
        {
         "customdata": [
          [
           9
          ],
          [
           9
          ],
          [
           9
          ],
          [
           9
          ],
          [
           8
          ],
          [
           9
          ],
          [
           9
          ],
          [
           9
          ],
          [
           9
          ],
          [
           8
          ],
          [
           9
          ],
          [
           9
          ],
          [
           9
          ],
          [
           9
          ],
          [
           5
          ],
          [
           5
          ],
          [
           8
          ],
          [
           8
          ],
          [
           9
          ],
          [
           9
          ],
          [
           9
          ],
          [
           9
          ],
          [
           9
          ]
         ],
         "hovertemplate": "<b>%{hovertext}</b><br><br>Camera=Fri 2022.05.20 00:41<br>x=%{x}<br>y=%{y}<br>Active beam captures=%{customdata[0]}<extra></extra>",
         "hovertext": [
          "Laser 1",
          "Laser 2",
          "Laser 4",
          "Laser 8",
          "Laser 10",
          "Laser 11",
          "Laser 13",
          "Laser 14",
          "Laser 15",
          "Laser 16",
          "Laser 17",
          "Laser 18",
          "Laser 19",
          "Laser 22",
          "Laser 25",
          "Laser 26",
          "Laser 29",
          "Laser 31",
          "Laser 32",
          "Laser 34",
          "Laser 36",
          "Laser 37",
          "Laser 38"
         ],
         "legendgroup": "Fri 2022.05.20 00:41",
         "marker": {
          "color": "#00cc96",
          "symbol": "circle"
         },
         "mode": "markers",
         "name": "Fri 2022.05.20 00:41",
         "orientation": "v",
         "showlegend": true,
         "type": "scatter",
         "x": [
          -16481.693359375,
          -34293.60546875,
          -49178.265625,
          -60544.51953125,
          -62275.80078125,
          -64344.296875,
          -53271.1015625,
          -41346.99609375,
          -32605.177734375,
          -24112.880859375,
          -18096.669921875,
          -11215.435546875,
          -5853.08544921875,
          16929.109375,
          39081.125,
          46676.13671875,
          55214.5859375,
          62305.4609375,
          67335.703125,
          65151.93359375,
          58584.24609375,
          50879.84375,
          43718.875
         ],
         "xaxis": "x",
         "y": [
          -82019.515625,
          -73483.1171875,
          -58559.8984375,
          -14056.037109375,
          3134.725830078125,
          8892.974609375,
          23804.1796875,
          37744.203125,
          40574.8203125,
          42693.6640625,
          47456.3203125,
          48170.54296875,
          46110.20703125,
          46513.26171875,
          41620.49609375,
          31158.517578125,
          20739.515625,
          -7524.9130859375,
          -20343.5703125,
          -38796.69921875,
          -53850.57421875,
          -57474.79296875,
          -61434.6171875
         ],
         "yaxis": "y"
        },
        {
         "customdata": [
          [
           8
          ],
          [
           8
          ],
          [
           6
          ],
          [
           9
          ],
          [
           9
          ],
          [
           9
          ],
          [
           9
          ],
          [
           9
          ],
          [
           9
          ],
          [
           1
          ],
          [
           8
          ],
          [
           6
          ],
          [
           5
          ],
          [
           7
          ],
          [
           7
          ],
          [
           8
          ],
          [
           7
          ],
          [
           8
          ],
          [
           8
          ],
          [
           6
          ],
          [
           9
          ],
          [
           9
          ],
          [
           9
          ],
          [
           9
          ]
         ],
         "hovertemplate": "<b>%{hovertext}</b><br><br>Camera=Fri 2022.05.20 01:22<br>x=%{x}<br>y=%{y}<br>Active beam captures=%{customdata[0]}<extra></extra>",
         "hovertext": [
          "Laser 2",
          "Laser 4",
          "Laser 8",
          "Laser 10",
          "Laser 14",
          "Laser 15",
          "Laser 16",
          "Laser 17",
          "Laser 18",
          "Laser 19",
          "Laser 22",
          "Laser 25",
          "Laser 26",
          "Laser 28",
          "Laser 29",
          "Laser 30",
          "Laser 31",
          "Laser 32",
          "Laser 34",
          "Laser 35",
          "Laser 36",
          "Laser 37",
          "Laser 33",
          "Laser 40"
         ],
         "legendgroup": "Fri 2022.05.20 01:22",
         "marker": {
          "color": "#ab63fa",
          "symbol": "circle"
         },
         "mode": "markers",
         "name": "Fri 2022.05.20 01:22",
         "orientation": "v",
         "showlegend": true,
         "type": "scatter",
         "x": [
          12863.2578125,
          16899.822265625,
          31215.595703125,
          44825.3984375,
          202218.765625,
          352885.875,
          -860989.4375,
          -110383.0546875,
          -87789.7578125,
          -171796.5,
          -84150.421875,
          -45704.82421875,
          -28412.328125,
          -23222.111328125,
          -20081.80078125,
          -13604.6005859375,
          -10784.517578125,
          -8831.607421875,
          -5364.228515625,
          -4212.39990234375,
          -2282.971923828125,
          -820.3121948242188,
          2361.6865234375,
          4617.8349609375
         ],
         "xaxis": "x",
         "y": [
          21701.763671875,
          21324.505859375,
          18903.740234375,
          16506,
          -40149.7265625,
          -129129.0703125,
          578194.4375,
          126313.3203125,
          161188.8125,
          525077,
          -80446.3671875,
          -4404.38525390625,
          7377.333984375,
          11200.1396484375,
          12951.86328125,
          16012.42578125,
          17073.66796875,
          18220.98046875,
          19301.4453125,
          19714.365234375,
          20245.19140625,
          20433.287109375,
          20966.56640625,
          21273.259765625
         ],
         "yaxis": "y"
        },
        {
         "customdata": [
          [
           1
          ],
          [
           3
          ],
          [
           8
          ],
          [
           8
          ]
         ],
         "hovertemplate": "<b>%{hovertext}</b><br><br>Camera=Fri 2022.05.20 22:46<br>x=%{x}<br>y=%{y}<br>Active beam captures=%{customdata[0]}<extra></extra>",
         "hovertext": [
          "Laser 8",
          "Laser 9",
          "Laser 23",
          "Laser 24"
         ],
         "legendgroup": "Fri 2022.05.20 22:46",
         "marker": {
          "color": "#FFA15A",
          "symbol": "circle"
         },
         "mode": "markers",
         "name": "Fri 2022.05.20 22:46",
         "orientation": "v",
         "showlegend": true,
         "type": "scatter",
         "x": [
          -170696.53125,
          -137583.375,
          21688.275390625,
          25681.138671875
         ],
         "xaxis": "x",
         "y": [
          -5908.81298828125,
          21293.15625,
          27389.39453125,
          25349.158203125
         ],
         "yaxis": "y"
        },
        {
         "customdata": [
          [
           8
          ],
          [
           5
          ],
          [
           5
          ],
          [
           8
          ],
          [
           8
          ],
          [
           3
          ],
          [
           2
          ]
         ],
         "hovertemplate": "<b>%{hovertext}</b><br><br>Camera=Fri 2022.05.20 23:03<br>x=%{x}<br>y=%{y}<br>Active beam captures=%{customdata[0]}<extra></extra>",
         "hovertext": [
          "Laser 1",
          "Laser 8",
          "Laser 9",
          "Laser 23",
          "Laser 24",
          "Laser 30",
          "Laser 40"
         ],
         "legendgroup": "Fri 2022.05.20 23:03",
         "marker": {
          "color": "#19d3f3",
          "symbol": "circle"
         },
         "mode": "markers",
         "name": "Fri 2022.05.20 23:03",
         "orientation": "v",
         "showlegend": true,
         "type": "scatter",
         "x": [
          -5908.86279296875,
          -10704.8369140625,
          -8995.9248046875,
          7049.96435546875,
          8022.5048828125,
          16452.04296875,
          16113.7001953125
         ],
         "xaxis": "x",
         "y": [
          3502.892578125,
          8928.7236328125,
          9562.2333984375,
          10843.4345703125,
          10866.00390625,
          9994.544921875,
          3758.50146484375
         ],
         "yaxis": "y"
        },
        {
         "customdata": [
          [
           7
          ],
          [
           9
          ],
          [
           9
          ],
          [
           9
          ],
          [
           9
          ],
          [
           9
          ],
          [
           9
          ],
          [
           9
          ],
          [
           7
          ],
          [
           9
          ],
          [
           8
          ],
          [
           9
          ],
          [
           9
          ],
          [
           8
          ],
          [
           7
          ],
          [
           6
          ],
          [
           9
          ],
          [
           6
          ],
          [
           9
          ],
          [
           9
          ],
          [
           8
          ],
          [
           9
          ],
          [
           8
          ],
          [
           8
          ],
          [
           7
          ],
          [
           9
          ],
          [
           9
          ],
          [
           9
          ],
          [
           9
          ]
         ],
         "hovertemplate": "<b>%{hovertext}</b><br><br>Camera=Fri 2022.05.20 23:18<br>x=%{x}<br>y=%{y}<br>Active beam captures=%{customdata[0]}<extra></extra>",
         "hovertext": [
          "Laser 1",
          "Laser 4",
          "Laser 12",
          "Laser 7",
          "Laser 8",
          "Laser 9",
          "Laser 10",
          "Laser 13",
          "Laser 14",
          "Laser 15",
          "Laser 16",
          "Laser 17",
          "Laser 18",
          "Laser 19",
          "Laser 22",
          "Laser 23",
          "Laser 24",
          "Laser 25",
          "Laser 26",
          "Laser 28",
          "Laser 29",
          "Laser 30",
          "Laser 31",
          "Laser 32",
          "Laser 36",
          "Laser 37",
          "Laser 38",
          "Laser 33",
          "Laser 40"
         ],
         "legendgroup": "Fri 2022.05.20 23:18",
         "marker": {
          "color": "#FF6692",
          "symbol": "circle"
         },
         "mode": "markers",
         "name": "Fri 2022.05.20 23:18",
         "orientation": "v",
         "showlegend": true,
         "type": "scatter",
         "x": [
          13570.6123046875,
          17764.07421875,
          21180.84375,
          21079.44921875,
          20155.908203125,
          17186.310546875,
          13481.9306640625,
          -4428.60400390625,
          -8396.4052734375,
          -7744.0693359375,
          -7771.25927734375,
          -7097.865234375,
          -5685.7197265625,
          -4791.56591796875,
          -2098.905517578125,
          -1512.31640625,
          -768.0800170898438,
          115.1810531616211,
          1518.0291748046875,
          2278.2119140625,
          2815.955078125,
          4332.10009765625,
          5223.9794921875,
          6123.61376953125,
          8360.02734375,
          8796.447265625,
          9205.884765625,
          9924.1689453125,
          10980.3701171875
         ],
         "xaxis": "x",
         "y": [
          9467.2109375,
          8667.1181640625,
          7078.658203125,
          5798.12548828125,
          4478.50048828125,
          1901.374267578125,
          88.87053680419922,
          2355.897216796875,
          4829.9013671875,
          5651.44873046875,
          5994.8115234375,
          6687.9033203125,
          7198.97705078125,
          7366.73779296875,
          8284.076171875,
          8500.40625,
          8687.076171875,
          8830.0068359375,
          8981.4951171875,
          9118.046875,
          9171.5712890625,
          9288.890625,
          9334.181640625,
          9431.1728515625,
          9592.1748046875,
          9583.2666015625,
          9589.4326171875,
          9594.587890625,
          9585.693359375
         ],
         "yaxis": "y"
        },
        {
         "customdata": [
          [
           2
          ],
          [
           6
          ],
          [
           8
          ],
          [
           8
          ]
         ],
         "hovertemplate": "<b>%{hovertext}</b><br><br>Camera=Sat 2022.05.21 01:41<br>x=%{x}<br>y=%{y}<br>Active beam captures=%{customdata[0]}<extra></extra>",
         "hovertext": [
          "Laser 20",
          "Laser 22",
          "Laser 23",
          "Laser 24"
         ],
         "legendgroup": "Sat 2022.05.21 01:41",
         "marker": {
          "color": "#B6E880",
          "symbol": "circle"
         },
         "mode": "markers",
         "name": "Sat 2022.05.21 01:41",
         "orientation": "v",
         "showlegend": true,
         "type": "scatter",
         "x": [
          0,
          17574.234375,
          19388.64453125,
          21300.384765625
         ],
         "xaxis": "x",
         "y": [
          0,
          7732.04052734375,
          7364.2666015625,
          6753.7119140625
         ],
         "yaxis": "y"
        },
        {
         "customdata": [
          [
           9
          ],
          [
           8
          ],
          [
           8
          ],
          [
           9
          ],
          [
           9
          ],
          [
           8
          ],
          [
           9
          ],
          [
           9
          ],
          [
           9
          ],
          [
           9
          ],
          [
           9
          ],
          [
           9
          ],
          [
           7
          ],
          [
           9
          ],
          [
           8
          ],
          [
           9
          ],
          [
           7
          ],
          [
           9
          ],
          [
           5
          ],
          [
           9
          ],
          [
           6
          ],
          [
           7
          ],
          [
           7
          ],
          [
           9
          ],
          [
           9
          ],
          [
           9
          ],
          [
           8
          ],
          [
           7
          ]
         ],
         "hovertemplate": "<b>%{hovertext}</b><br><br>Camera=Sat 2022.05.21 02:01<br>x=%{x}<br>y=%{y}<br>Active beam captures=%{customdata[0]}<extra></extra>",
         "hovertext": [
          "Laser 1",
          "Laser 2",
          "Laser 4",
          "Laser 5",
          "Laser 12",
          "Laser 7",
          "Laser 8",
          "Laser 9",
          "Laser 10",
          "Laser 11",
          "Laser 13",
          "Laser 15",
          "Laser 17",
          "Laser 18",
          "Laser 19",
          "Laser 22",
          "Laser 23",
          "Laser 24",
          "Laser 25",
          "Laser 28",
          "Laser 30",
          "Laser 31",
          "Laser 32",
          "Laser 36",
          "Laser 37",
          "Laser 38",
          "Laser 33",
          "Laser 40"
         ],
         "legendgroup": "Sat 2022.05.21 02:01",
         "marker": {
          "color": "#FF97FF",
          "symbol": "circle"
         },
         "mode": "markers",
         "name": "Sat 2022.05.21 02:01",
         "orientation": "v",
         "showlegend": true,
         "type": "scatter",
         "x": [
          -1933.9407958984375,
          -754.5707397460938,
          352.25732421875,
          1459.819091796875,
          2077.84619140625,
          2881.59326171875,
          3429.027587890625,
          4379.80078125,
          4829.404296875,
          5308.4013671875,
          6731.19189453125,
          9308.9921875,
          11512.5546875,
          12293.9560546875,
          12841.7587890625,
          17586.732421875,
          19392.3359375,
          21304.349609375,
          24894.572265625,
          17527.67578125,
          -1024.0986328125,
          -9184.9521484375,
          -17035.021484375,
          -9547.72265625,
          -7773.3642578125,
          -6336.478515625,
          -5236.35595703125,
          -4172.11181640625
         ],
         "xaxis": "x",
         "y": [
          9993.4892578125,
          10047.8330078125,
          10032.1767578125,
          10014.63671875,
          10030.6318359375,
          9999.748046875,
          9951.44140625,
          9979.689453125,
          9931.515625,
          9949.328125,
          9853.73828125,
          9590.197265625,
          9271.2587890625,
          9115.7998046875,
          8883.53125,
          7738.95703125,
          7367.876953125,
          6756.8662109375,
          5092.1708984375,
          3376.83154296875,
          2755.359619140625,
          3174.716796875,
          3896.729736328125,
          8566.193359375,
          8918.61328125,
          9217.708984375,
          9476.9111328125,
          9702.109375
         ],
         "yaxis": "y"
        },
        {
         "customdata": [
          [
           3
          ],
          [
           4
          ],
          [
           9
          ],
          [
           4
          ],
          [
           8
          ]
         ],
         "hovertemplate": "<b>%{hovertext}</b><br><br>Camera=Mon 2022.05.23 00:11<br>x=%{x}<br>y=%{y}<br>Active beam captures=%{customdata[0]}<extra></extra>",
         "hovertext": [
          "Laser 9",
          "Laser 20",
          "Laser 21",
          "Laser 22",
          "Laser 26"
         ],
         "legendgroup": "Mon 2022.05.23 00:11",
         "marker": {
          "color": "#FECB52",
          "symbol": "circle"
         },
         "mode": "markers",
         "name": "Mon 2022.05.23 00:11",
         "orientation": "v",
         "showlegend": true,
         "type": "scatter",
         "x": [
          -4270.45556640625,
          -10438.5361328125,
          -7364.16943359375,
          -5306.11767578125,
          1013.783203125
         ],
         "xaxis": "x",
         "y": [
          26085.87109375,
          9263.49609375,
          10304.021484375,
          10930.9775390625,
          12397.796875
         ],
         "yaxis": "y"
        },
        {
         "customdata": [
          [
           9
          ],
          [
           9
          ],
          [
           7
          ],
          [
           6
          ],
          [
           9
          ],
          [
           7
          ],
          [
           7
          ]
         ],
         "hovertemplate": "<b>%{hovertext}</b><br><br>Camera=Mon 2022.05.23 00:21<br>x=%{x}<br>y=%{y}<br>Active beam captures=%{customdata[0]}<extra></extra>",
         "hovertext": [
          "Laser 9",
          "Laser 15",
          "Laser 19",
          "Laser 20",
          "Laser 21",
          "Laser 22",
          "Laser 26"
         ],
         "legendgroup": "Mon 2022.05.23 00:21",
         "marker": {
          "color": "#636efa",
          "symbol": "circle"
         },
         "mode": "markers",
         "name": "Mon 2022.05.23 00:21",
         "orientation": "v",
         "showlegend": true,
         "type": "scatter",
         "x": [
          -4268.447265625,
          -40308.0390625,
          -12180.4892578125,
          -10448.4189453125,
          -7364.20654296875,
          -5299.30322265625,
          1013.1699829101562
         ],
         "xaxis": "x",
         "y": [
          26080.16796875,
          -4742.28662109375,
          8339.6572265625,
          9268.5859375,
          10304.0810546875,
          10925.2890625,
          12398.29296875
         ],
         "yaxis": "y"
        },
        {
         "customdata": [
          [
           8
          ],
          [
           1
          ],
          [
           2
          ],
          [
           2
          ],
          [
           1
          ],
          [
           9
          ]
         ],
         "hovertemplate": "<b>%{hovertext}</b><br><br>Camera=Mon 2022.05.23 00:35<br>x=%{x}<br>y=%{y}<br>Active beam captures=%{customdata[0]}<extra></extra>",
         "hovertext": [
          "Laser 9",
          "Laser 15",
          "Laser 19",
          "Laser 21",
          "Laser 22",
          "Laser 26"
         ],
         "legendgroup": "Mon 2022.05.23 00:35",
         "marker": {
          "color": "#EF553B",
          "symbol": "circle"
         },
         "mode": "markers",
         "name": "Mon 2022.05.23 00:35",
         "orientation": "v",
         "showlegend": true,
         "type": "scatter",
         "x": [
          4557.0166015625,
          16245.0009765625,
          24914.6953125,
          34491.66796875,
          0,
          252182.75
         ],
         "xaxis": "x",
         "y": [
          20642.44140625,
          18702.447265625,
          14842.0458984375,
          10610.1953125,
          0,
          -179230.515625
         ],
         "yaxis": "y"
        },
        {
         "customdata": [
          [
           7
          ],
          [
           3
          ],
          [
           3
          ],
          [
           4
          ],
          [
           3
          ],
          [
           8
          ],
          [
           8
          ],
          [
           7
          ]
         ],
         "hovertemplate": "<b>%{hovertext}</b><br><br>Camera=Thu 2022.06.09 01:02<br>x=%{x}<br>y=%{y}<br>Active beam captures=%{customdata[0]}<extra></extra>",
         "hovertext": [
          "Laser 1",
          "Laser 5",
          "Laser 12",
          "Laser 9",
          "Laser 10",
          "Laser 16",
          "Laser 26",
          "Laser 28"
         ],
         "legendgroup": "Thu 2022.06.09 01:02",
         "marker": {
          "color": "#00cc96",
          "symbol": "circle"
         },
         "mode": "markers",
         "name": "Thu 2022.06.09 01:02",
         "orientation": "v",
         "showlegend": true,
         "type": "scatter",
         "x": [
          15463.3837890625,
          36374.35546875,
          48705.6328125,
          -54062.51171875,
          -31405.828125,
          227411.59375,
          -1825.568603515625,
          -564.8206176757812
         ],
         "xaxis": "x",
         "y": [
          8951.07421875,
          3982.28271484375,
          779.4373168945312,
          31851.798828125,
          26313.087890625,
          106709.5625,
          9533.904296875,
          9696.7900390625
         ],
         "yaxis": "y"
        },
        {
         "customdata": [
          [
           9
          ],
          [
           2
          ],
          [
           7
          ],
          [
           9
          ],
          [
           3
          ],
          [
           5
          ],
          [
           6
          ]
         ],
         "hovertemplate": "<b>%{hovertext}</b><br><br>Camera=Thu 2022.06.09 01:14<br>x=%{x}<br>y=%{y}<br>Active beam captures=%{customdata[0]}<extra></extra>",
         "hovertext": [
          "Laser 1",
          "Laser 5",
          "Laser 9",
          "Laser 10",
          "Laser 16",
          "Laser 26",
          "Laser 28"
         ],
         "legendgroup": "Thu 2022.06.09 01:14",
         "marker": {
          "color": "#ab63fa",
          "symbol": "circle"
         },
         "mode": "markers",
         "name": "Thu 2022.06.09 01:14",
         "orientation": "v",
         "showlegend": true,
         "type": "scatter",
         "x": [
          9738.6337890625,
          31290.740234375,
          63197.75,
          68807.3125,
          169699.390625,
          -37058.87890625,
          -34984.16015625
         ],
         "xaxis": "x",
         "y": [
          37684.3359375,
          38360.7265625,
          34006.08203125,
          31332.18359375,
          -76414.1640625,
          -14231.0185546875,
          -4623.1083984375
         ],
         "yaxis": "y"
        },
        {
         "customdata": [
          [
           8
          ],
          [
           4
          ],
          [
           6
          ],
          [
           6
          ],
          [
           7
          ],
          [
           7
          ],
          [
           5
          ],
          [
           4
          ]
         ],
         "hovertemplate": "<b>%{hovertext}</b><br><br>Camera=Thu 2022.06.09 01:24<br>x=%{x}<br>y=%{y}<br>Active beam captures=%{customdata[0]}<extra></extra>",
         "hovertext": [
          "Laser 1",
          "Laser 5",
          "Laser 12",
          "Laser 9",
          "Laser 10",
          "Laser 16",
          "Laser 26",
          "Laser 28"
         ],
         "legendgroup": "Thu 2022.06.09 01:24",
         "marker": {
          "color": "#FFA15A",
          "symbol": "circle"
         },
         "mode": "markers",
         "name": "Thu 2022.06.09 01:24",
         "orientation": "v",
         "showlegend": true,
         "type": "scatter",
         "x": [
          6091.302734375,
          12985.1943359375,
          14586.2578125,
          23758.443359375,
          26527.38671875,
          -61866.37890625,
          -42453.09765625,
          -27758.251953125
         ],
         "xaxis": "x",
         "y": [
          13178.3701171875,
          12732.3662109375,
          12611.267578125,
          11498.95703125,
          10922.75390625,
          40057.01953125,
          1283.382080078125,
          6255.38623046875
         ],
         "yaxis": "y"
        },
        {
         "customdata": [
          [
           3
          ],
          [
           7
          ],
          [
           5
          ],
          [
           8
          ],
          [
           9
          ],
          [
           2
          ]
         ],
         "hovertemplate": "<b>%{hovertext}</b><br><br>Camera=Thu 2022.06.09 01:48<br>x=%{x}<br>y=%{y}<br>Active beam captures=%{customdata[0]}<extra></extra>",
         "hovertext": [
          "Laser 1",
          "Laser 5",
          "Laser 12",
          "Laser 9",
          "Laser 10",
          "Laser 28"
         ],
         "legendgroup": "Thu 2022.06.09 01:48",
         "marker": {
          "color": "#19d3f3",
          "symbol": "circle"
         },
         "mode": "markers",
         "name": "Thu 2022.06.09 01:48",
         "orientation": "v",
         "showlegend": true,
         "type": "scatter",
         "x": [
          5803.55859375,
          5793.7197265625,
          41942.27734375,
          -237908.90625,
          86124.4296875,
          5361.07470703125
         ],
         "xaxis": "x",
         "y": [
          4456.06396484375,
          4524.8955078125,
          3575.916748046875,
          203924.421875,
          -99174.4765625,
          4487.88427734375
         ],
         "yaxis": "y"
        }
       ],
       "layout": {
        "legend": {
         "title": {
          "text": "Camera"
         },
         "tracegroupgap": 0
        },
        "margin": {
         "t": 60
        },
        "template": {
         "data": {
          "bar": [
           {
            "error_x": {
             "color": "#2a3f5f"
            },
            "error_y": {
             "color": "#2a3f5f"
            },
            "marker": {
             "line": {
              "color": "#E5ECF6",
              "width": 0.5
             },
             "pattern": {
              "fillmode": "overlay",
              "size": 10,
              "solidity": 0.2
             }
            },
            "type": "bar"
           }
          ],
          "barpolar": [
           {
            "marker": {
             "line": {
              "color": "#E5ECF6",
              "width": 0.5
             },
             "pattern": {
              "fillmode": "overlay",
              "size": 10,
              "solidity": 0.2
             }
            },
            "type": "barpolar"
           }
          ],
          "carpet": [
           {
            "aaxis": {
             "endlinecolor": "#2a3f5f",
             "gridcolor": "white",
             "linecolor": "white",
             "minorgridcolor": "white",
             "startlinecolor": "#2a3f5f"
            },
            "baxis": {
             "endlinecolor": "#2a3f5f",
             "gridcolor": "white",
             "linecolor": "white",
             "minorgridcolor": "white",
             "startlinecolor": "#2a3f5f"
            },
            "type": "carpet"
           }
          ],
          "choropleth": [
           {
            "colorbar": {
             "outlinewidth": 0,
             "ticks": ""
            },
            "type": "choropleth"
           }
          ],
          "contour": [
           {
            "colorbar": {
             "outlinewidth": 0,
             "ticks": ""
            },
            "colorscale": [
             [
              0,
              "#0d0887"
             ],
             [
              0.1111111111111111,
              "#46039f"
             ],
             [
              0.2222222222222222,
              "#7201a8"
             ],
             [
              0.3333333333333333,
              "#9c179e"
             ],
             [
              0.4444444444444444,
              "#bd3786"
             ],
             [
              0.5555555555555556,
              "#d8576b"
             ],
             [
              0.6666666666666666,
              "#ed7953"
             ],
             [
              0.7777777777777778,
              "#fb9f3a"
             ],
             [
              0.8888888888888888,
              "#fdca26"
             ],
             [
              1,
              "#f0f921"
             ]
            ],
            "type": "contour"
           }
          ],
          "contourcarpet": [
           {
            "colorbar": {
             "outlinewidth": 0,
             "ticks": ""
            },
            "type": "contourcarpet"
           }
          ],
          "heatmap": [
           {
            "colorbar": {
             "outlinewidth": 0,
             "ticks": ""
            },
            "colorscale": [
             [
              0,
              "#0d0887"
             ],
             [
              0.1111111111111111,
              "#46039f"
             ],
             [
              0.2222222222222222,
              "#7201a8"
             ],
             [
              0.3333333333333333,
              "#9c179e"
             ],
             [
              0.4444444444444444,
              "#bd3786"
             ],
             [
              0.5555555555555556,
              "#d8576b"
             ],
             [
              0.6666666666666666,
              "#ed7953"
             ],
             [
              0.7777777777777778,
              "#fb9f3a"
             ],
             [
              0.8888888888888888,
              "#fdca26"
             ],
             [
              1,
              "#f0f921"
             ]
            ],
            "type": "heatmap"
           }
          ],
          "heatmapgl": [
           {
            "colorbar": {
             "outlinewidth": 0,
             "ticks": ""
            },
            "colorscale": [
             [
              0,
              "#0d0887"
             ],
             [
              0.1111111111111111,
              "#46039f"
             ],
             [
              0.2222222222222222,
              "#7201a8"
             ],
             [
              0.3333333333333333,
              "#9c179e"
             ],
             [
              0.4444444444444444,
              "#bd3786"
             ],
             [
              0.5555555555555556,
              "#d8576b"
             ],
             [
              0.6666666666666666,
              "#ed7953"
             ],
             [
              0.7777777777777778,
              "#fb9f3a"
             ],
             [
              0.8888888888888888,
              "#fdca26"
             ],
             [
              1,
              "#f0f921"
             ]
            ],
            "type": "heatmapgl"
           }
          ],
          "histogram": [
           {
            "marker": {
             "pattern": {
              "fillmode": "overlay",
              "size": 10,
              "solidity": 0.2
             }
            },
            "type": "histogram"
           }
          ],
          "histogram2d": [
           {
            "colorbar": {
             "outlinewidth": 0,
             "ticks": ""
            },
            "colorscale": [
             [
              0,
              "#0d0887"
             ],
             [
              0.1111111111111111,
              "#46039f"
             ],
             [
              0.2222222222222222,
              "#7201a8"
             ],
             [
              0.3333333333333333,
              "#9c179e"
             ],
             [
              0.4444444444444444,
              "#bd3786"
             ],
             [
              0.5555555555555556,
              "#d8576b"
             ],
             [
              0.6666666666666666,
              "#ed7953"
             ],
             [
              0.7777777777777778,
              "#fb9f3a"
             ],
             [
              0.8888888888888888,
              "#fdca26"
             ],
             [
              1,
              "#f0f921"
             ]
            ],
            "type": "histogram2d"
           }
          ],
          "histogram2dcontour": [
           {
            "colorbar": {
             "outlinewidth": 0,
             "ticks": ""
            },
            "colorscale": [
             [
              0,
              "#0d0887"
             ],
             [
              0.1111111111111111,
              "#46039f"
             ],
             [
              0.2222222222222222,
              "#7201a8"
             ],
             [
              0.3333333333333333,
              "#9c179e"
             ],
             [
              0.4444444444444444,
              "#bd3786"
             ],
             [
              0.5555555555555556,
              "#d8576b"
             ],
             [
              0.6666666666666666,
              "#ed7953"
             ],
             [
              0.7777777777777778,
              "#fb9f3a"
             ],
             [
              0.8888888888888888,
              "#fdca26"
             ],
             [
              1,
              "#f0f921"
             ]
            ],
            "type": "histogram2dcontour"
           }
          ],
          "mesh3d": [
           {
            "colorbar": {
             "outlinewidth": 0,
             "ticks": ""
            },
            "type": "mesh3d"
           }
          ],
          "parcoords": [
           {
            "line": {
             "colorbar": {
              "outlinewidth": 0,
              "ticks": ""
             }
            },
            "type": "parcoords"
           }
          ],
          "pie": [
           {
            "automargin": true,
            "type": "pie"
           }
          ],
          "scatter": [
           {
            "fillpattern": {
             "fillmode": "overlay",
             "size": 10,
             "solidity": 0.2
            },
            "type": "scatter"
           }
          ],
          "scatter3d": [
           {
            "line": {
             "colorbar": {
              "outlinewidth": 0,
              "ticks": ""
             }
            },
            "marker": {
             "colorbar": {
              "outlinewidth": 0,
              "ticks": ""
             }
            },
            "type": "scatter3d"
           }
          ],
          "scattercarpet": [
           {
            "marker": {
             "colorbar": {
              "outlinewidth": 0,
              "ticks": ""
             }
            },
            "type": "scattercarpet"
           }
          ],
          "scattergeo": [
           {
            "marker": {
             "colorbar": {
              "outlinewidth": 0,
              "ticks": ""
             }
            },
            "type": "scattergeo"
           }
          ],
          "scattergl": [
           {
            "marker": {
             "colorbar": {
              "outlinewidth": 0,
              "ticks": ""
             }
            },
            "type": "scattergl"
           }
          ],
          "scattermapbox": [
           {
            "marker": {
             "colorbar": {
              "outlinewidth": 0,
              "ticks": ""
             }
            },
            "type": "scattermapbox"
           }
          ],
          "scatterpolar": [
           {
            "marker": {
             "colorbar": {
              "outlinewidth": 0,
              "ticks": ""
             }
            },
            "type": "scatterpolar"
           }
          ],
          "scatterpolargl": [
           {
            "marker": {
             "colorbar": {
              "outlinewidth": 0,
              "ticks": ""
             }
            },
            "type": "scatterpolargl"
           }
          ],
          "scatterternary": [
           {
            "marker": {
             "colorbar": {
              "outlinewidth": 0,
              "ticks": ""
             }
            },
            "type": "scatterternary"
           }
          ],
          "surface": [
           {
            "colorbar": {
             "outlinewidth": 0,
             "ticks": ""
            },
            "colorscale": [
             [
              0,
              "#0d0887"
             ],
             [
              0.1111111111111111,
              "#46039f"
             ],
             [
              0.2222222222222222,
              "#7201a8"
             ],
             [
              0.3333333333333333,
              "#9c179e"
             ],
             [
              0.4444444444444444,
              "#bd3786"
             ],
             [
              0.5555555555555556,
              "#d8576b"
             ],
             [
              0.6666666666666666,
              "#ed7953"
             ],
             [
              0.7777777777777778,
              "#fb9f3a"
             ],
             [
              0.8888888888888888,
              "#fdca26"
             ],
             [
              1,
              "#f0f921"
             ]
            ],
            "type": "surface"
           }
          ],
          "table": [
           {
            "cells": {
             "fill": {
              "color": "#EBF0F8"
             },
             "line": {
              "color": "white"
             }
            },
            "header": {
             "fill": {
              "color": "#C8D4E3"
             },
             "line": {
              "color": "white"
             }
            },
            "type": "table"
           }
          ]
         },
         "layout": {
          "annotationdefaults": {
           "arrowcolor": "#2a3f5f",
           "arrowhead": 0,
           "arrowwidth": 1
          },
          "autotypenumbers": "strict",
          "coloraxis": {
           "colorbar": {
            "outlinewidth": 0,
            "ticks": ""
           }
          },
          "colorscale": {
           "diverging": [
            [
             0,
             "#8e0152"
            ],
            [
             0.1,
             "#c51b7d"
            ],
            [
             0.2,
             "#de77ae"
            ],
            [
             0.3,
             "#f1b6da"
            ],
            [
             0.4,
             "#fde0ef"
            ],
            [
             0.5,
             "#f7f7f7"
            ],
            [
             0.6,
             "#e6f5d0"
            ],
            [
             0.7,
             "#b8e186"
            ],
            [
             0.8,
             "#7fbc41"
            ],
            [
             0.9,
             "#4d9221"
            ],
            [
             1,
             "#276419"
            ]
           ],
           "sequential": [
            [
             0,
             "#0d0887"
            ],
            [
             0.1111111111111111,
             "#46039f"
            ],
            [
             0.2222222222222222,
             "#7201a8"
            ],
            [
             0.3333333333333333,
             "#9c179e"
            ],
            [
             0.4444444444444444,
             "#bd3786"
            ],
            [
             0.5555555555555556,
             "#d8576b"
            ],
            [
             0.6666666666666666,
             "#ed7953"
            ],
            [
             0.7777777777777778,
             "#fb9f3a"
            ],
            [
             0.8888888888888888,
             "#fdca26"
            ],
            [
             1,
             "#f0f921"
            ]
           ],
           "sequentialminus": [
            [
             0,
             "#0d0887"
            ],
            [
             0.1111111111111111,
             "#46039f"
            ],
            [
             0.2222222222222222,
             "#7201a8"
            ],
            [
             0.3333333333333333,
             "#9c179e"
            ],
            [
             0.4444444444444444,
             "#bd3786"
            ],
            [
             0.5555555555555556,
             "#d8576b"
            ],
            [
             0.6666666666666666,
             "#ed7953"
            ],
            [
             0.7777777777777778,
             "#fb9f3a"
            ],
            [
             0.8888888888888888,
             "#fdca26"
            ],
            [
             1,
             "#f0f921"
            ]
           ]
          },
          "colorway": [
           "#636efa",
           "#EF553B",
           "#00cc96",
           "#ab63fa",
           "#FFA15A",
           "#19d3f3",
           "#FF6692",
           "#B6E880",
           "#FF97FF",
           "#FECB52"
          ],
          "font": {
           "color": "#2a3f5f"
          },
          "geo": {
           "bgcolor": "white",
           "lakecolor": "white",
           "landcolor": "#E5ECF6",
           "showlakes": true,
           "showland": true,
           "subunitcolor": "white"
          },
          "hoverlabel": {
           "align": "left"
          },
          "hovermode": "closest",
          "mapbox": {
           "style": "light"
          },
          "paper_bgcolor": "white",
          "plot_bgcolor": "#E5ECF6",
          "polar": {
           "angularaxis": {
            "gridcolor": "white",
            "linecolor": "white",
            "ticks": ""
           },
           "bgcolor": "#E5ECF6",
           "radialaxis": {
            "gridcolor": "white",
            "linecolor": "white",
            "ticks": ""
           }
          },
          "scene": {
           "xaxis": {
            "backgroundcolor": "#E5ECF6",
            "gridcolor": "white",
            "gridwidth": 2,
            "linecolor": "white",
            "showbackground": true,
            "ticks": "",
            "zerolinecolor": "white"
           },
           "yaxis": {
            "backgroundcolor": "#E5ECF6",
            "gridcolor": "white",
            "gridwidth": 2,
            "linecolor": "white",
            "showbackground": true,
            "ticks": "",
            "zerolinecolor": "white"
           },
           "zaxis": {
            "backgroundcolor": "#E5ECF6",
            "gridcolor": "white",
            "gridwidth": 2,
            "linecolor": "white",
            "showbackground": true,
            "ticks": "",
            "zerolinecolor": "white"
           }
          },
          "shapedefaults": {
           "line": {
            "color": "#2a3f5f"
           }
          },
          "ternary": {
           "aaxis": {
            "gridcolor": "white",
            "linecolor": "white",
            "ticks": ""
           },
           "baxis": {
            "gridcolor": "white",
            "linecolor": "white",
            "ticks": ""
           },
           "bgcolor": "#E5ECF6",
           "caxis": {
            "gridcolor": "white",
            "linecolor": "white",
            "ticks": ""
           }
          },
          "title": {
           "x": 0.05
          },
          "xaxis": {
           "automargin": true,
           "gridcolor": "white",
           "linecolor": "white",
           "ticks": "",
           "title": {
            "standoff": 15
           },
           "zerolinecolor": "white",
           "zerolinewidth": 2
          },
          "yaxis": {
           "automargin": true,
           "gridcolor": "white",
           "linecolor": "white",
           "ticks": "",
           "title": {
            "standoff": 15
           },
           "zerolinecolor": "white",
           "zerolinewidth": 2
          }
         }
        },
        "xaxis": {
         "anchor": "y",
         "domain": [
          0,
          1
         ],
         "title": {
          "text": "x"
         }
        },
        "yaxis": {
         "anchor": "x",
         "autorange": "reversed",
         "domain": [
          0,
          1
         ],
         "title": {
          "text": "y"
         }
        }
       }
      }
     },
     "metadata": {},
     "output_type": "display_data"
    }
   ],
   "source": [
    "fig = px.scatter(data_points\n",
    "\t, x='x'\n",
    "\t, y='y'\n",
    "\t, hover_name='Laser'\n",
    "\t, hover_data=['Active beam captures']\n",
    "\t, color='Camera')\n",
    "fig.update_yaxes(autorange=\"reversed\")\n",
    "fig.show()"
   ]
  },
  {
   "cell_type": "code",
   "execution_count": 12,
   "metadata": {},
   "outputs": [
    {
     "name": "stdout",
     "output_type": "stream",
     "text": [
      "{'Camera': 'Sat 2022.05.21 01:41', 'x': 0.0, 'y': 0.0, 'Laser': 'Laser 20', 'residual': 0, 'Active beam captures': 2}\n",
      "{'Camera': 'Mon 2022.05.23 00:35', 'x': 0.0, 'y': 0.0, 'Laser': 'Laser 22', 'residual': 0, 'Active beam captures': 1}\n"
     ]
    }
   ],
   "source": [
    "for data_point in data_points:\n",
    "\tif data_point['x'] == 0:\n",
    "\t\tprint(data_point)"
   ]
  },
  {
   "cell_type": "code",
   "execution_count": 13,
   "metadata": {},
   "outputs": [
    {
     "data": {
      "text/plain": [
       "'Thu 2022.05.19'"
      ]
     },
     "execution_count": 13,
     "metadata": {},
     "output_type": "execute_result"
    }
   ],
   "source": [
    "calibrate_node['Content']['cameraCaptures']['captures'][0]['date']"
   ]
  },
  {
   "cell_type": "markdown",
   "metadata": {},
   "source": [
    "# Figure 3\n",
    "\n",
    "Two figures below show where most of the errors are.\n",
    "\n",
    "Generally we use the `Prune/Beam captures by residual` function on the Calibrate node (e.g. with a value of 1000px).\n",
    "\n",
    "Note that all camera captures are shown, even if they are deselected.\n",
    "\n",
    "check\n",
    "https://paper.dropbox.com/doc/KC68KC72-Calibration-log-v2--Bh4BhpiBl8CL5XP2Buzoq82GAg-zJiuoF5tDxpK6u18Sw23M#:uid=745312935561881238403951&h2=Athens-night-calibration-log\n"
   ]
  },
  {
   "cell_type": "markdown",
   "metadata": {},
   "source": []
  },
  {
   "cell_type": "code",
   "execution_count": 14,
   "metadata": {},
   "outputs": [
    {
     "data": {
      "application/vnd.plotly.v1+json": {
       "config": {
        "plotlyServerURL": "https://plot.ly"
       },
       "data": [
        {
         "alignmentgroup": "True",
         "customdata": [
          [
           0,
           -0.5,
           -0.5
          ],
          [
           1,
           0,
           -0.5
          ],
          [
           2,
           0.5,
           -0.5
          ],
          [
           3,
           -0.5,
           0
          ],
          [
           4,
           0,
           0
          ],
          [
           5,
           0.5,
           0
          ],
          [
           6,
           -0.5,
           0.5
          ],
          [
           7,
           0,
           0.5
          ],
          [
           8,
           0.5,
           0.5
          ],
          [
           0,
           -0.5,
           -0.5
          ],
          [
           1,
           0,
           -0.5
          ],
          [
           2,
           0.5,
           -0.5
          ],
          [
           3,
           -0.5,
           0
          ],
          [
           4,
           0,
           0
          ],
          [
           5,
           0.5,
           0
          ],
          [
           6,
           -0.5,
           0.5
          ],
          [
           7,
           0,
           0.5
          ],
          [
           8,
           0.5,
           0.5
          ],
          [
           0,
           -0.5,
           -0.5
          ],
          [
           1,
           0,
           -0.5
          ],
          [
           2,
           0.5,
           -0.5
          ],
          [
           3,
           -0.5,
           0
          ],
          [
           4,
           0,
           0
          ],
          [
           5,
           0.5,
           0
          ],
          [
           6,
           -0.5,
           0.5
          ],
          [
           7,
           0,
           0.5
          ],
          [
           8,
           0.5,
           0.5
          ],
          [
           0,
           -0.5,
           -0.5
          ],
          [
           1,
           0,
           -0.5
          ],
          [
           2,
           0.5,
           -0.5
          ],
          [
           3,
           -0.5,
           0
          ],
          [
           4,
           0,
           0
          ],
          [
           5,
           0.5,
           0
          ],
          [
           6,
           -0.5,
           0.5
          ],
          [
           7,
           0,
           0.5
          ],
          [
           8,
           0.5,
           0.5
          ],
          [
           0,
           -0.5,
           -0.5
          ],
          [
           1,
           0,
           -0.5
          ],
          [
           2,
           0.5,
           -0.5
          ],
          [
           3,
           -0.5,
           0
          ],
          [
           4,
           0,
           0
          ],
          [
           5,
           0.5,
           0
          ],
          [
           6,
           -0.5,
           0.5
          ],
          [
           7,
           0,
           0.5
          ],
          [
           8,
           0.5,
           0.5
          ],
          [
           0,
           -0.5,
           -0.5
          ],
          [
           1,
           0,
           -0.5
          ],
          [
           2,
           0.5,
           -0.5
          ],
          [
           3,
           -0.5,
           0
          ],
          [
           4,
           0,
           0
          ],
          [
           5,
           0.5,
           0
          ],
          [
           6,
           -0.5,
           0.5
          ],
          [
           7,
           0,
           0.5
          ],
          [
           8,
           0.5,
           0.5
          ],
          [
           0,
           -0.5,
           -0.5
          ],
          [
           1,
           0,
           -0.5
          ],
          [
           2,
           0.5,
           -0.5
          ],
          [
           3,
           -0.5,
           0
          ],
          [
           4,
           0,
           0
          ],
          [
           5,
           0.5,
           0
          ],
          [
           6,
           -0.5,
           0.5
          ],
          [
           7,
           0,
           0.5
          ],
          [
           8,
           0.5,
           0.5
          ],
          [
           0,
           -0.5,
           -0.5
          ],
          [
           1,
           0,
           -0.5
          ],
          [
           2,
           0.5,
           -0.5
          ],
          [
           3,
           -0.5,
           0
          ],
          [
           4,
           0,
           0
          ],
          [
           5,
           0.5,
           0
          ],
          [
           6,
           -0.5,
           0.5
          ],
          [
           7,
           0,
           0.5
          ],
          [
           8,
           0.5,
           0.5
          ],
          [
           0,
           -0.5,
           -0.5
          ],
          [
           1,
           0,
           -0.5
          ],
          [
           2,
           0.5,
           -0.5
          ],
          [
           3,
           -0.5,
           0
          ],
          [
           4,
           0.5,
           0
          ],
          [
           5,
           -0.5,
           0.5
          ],
          [
           6,
           0,
           0.5
          ],
          [
           7,
           0.5,
           0.5
          ],
          [
           0,
           -0.5,
           -0.5
          ],
          [
           1,
           0,
           -0.5
          ],
          [
           2,
           0.5,
           -0.5
          ],
          [
           3,
           -0.5,
           0
          ],
          [
           4,
           0,
           0
          ],
          [
           5,
           0.5,
           0
          ],
          [
           6,
           -0.5,
           0.5
          ],
          [
           7,
           0,
           0.5
          ],
          [
           8,
           0.5,
           0.5
          ],
          [
           0,
           -0.5,
           -0.5
          ],
          [
           1,
           0,
           -0.5
          ],
          [
           2,
           -0.5,
           0
          ],
          [
           3,
           0,
           0
          ],
          [
           4,
           0.5,
           0
          ],
          [
           5,
           -0.5,
           0.5
          ],
          [
           6,
           0,
           0.5
          ],
          [
           7,
           0.5,
           0.5
          ],
          [
           0,
           0,
           -0.5
          ],
          [
           1,
           0.5,
           -0.5
          ],
          [
           2,
           -0.5,
           0
          ],
          [
           3,
           0,
           0
          ],
          [
           4,
           0.5,
           0
          ],
          [
           5,
           -0.5,
           0.5
          ],
          [
           6,
           0,
           0.5
          ],
          [
           0,
           -0.5,
           -0.5
          ],
          [
           1,
           0,
           -0.5
          ],
          [
           2,
           0.5,
           -0.5
          ],
          [
           3,
           -0.5,
           0
          ],
          [
           4,
           0,
           0
          ],
          [
           5,
           0.5,
           0
          ],
          [
           6,
           0,
           0.5
          ],
          [
           7,
           0.5,
           0.5
          ],
          [
           0,
           -0.5,
           -0.5
          ],
          [
           1,
           0,
           -0.5
          ],
          [
           2,
           0.5,
           -0.5
          ],
          [
           3,
           -0.5,
           0
          ],
          [
           4,
           0,
           0
          ],
          [
           5,
           0.5,
           0
          ],
          [
           6,
           -0.5,
           0.5
          ],
          [
           7,
           0,
           0.5
          ],
          [
           0,
           -0.5,
           -0.5
          ],
          [
           1,
           0,
           -0.5
          ],
          [
           2,
           0.5,
           -0.5
          ],
          [
           3,
           0,
           0
          ],
          [
           4,
           0.5,
           0
          ],
          [
           5,
           -0.5,
           0.5
          ],
          [
           6,
           0,
           0.5
          ],
          [
           0,
           -0.5,
           -0.5
          ],
          [
           1,
           0,
           -0.5
          ],
          [
           2,
           0.5,
           -0.5
          ],
          [
           3,
           -0.5,
           0
          ],
          [
           4,
           0,
           0
          ],
          [
           5,
           0.5,
           0
          ],
          [
           6,
           -0.5,
           0.5
          ],
          [
           7,
           0,
           0.5
          ],
          [
           8,
           0.5,
           0.5
          ],
          [
           0,
           0,
           -0.5
          ],
          [
           1,
           0.5,
           -0.5
          ],
          [
           2,
           0,
           0
          ],
          [
           3,
           0.5,
           0
          ],
          [
           4,
           0,
           0.5
          ],
          [
           5,
           0.5,
           0.5
          ],
          [
           0,
           -0.5,
           -0.5
          ],
          [
           1,
           0,
           -0.5
          ],
          [
           2,
           0.5,
           -0.5
          ],
          [
           3,
           -0.5,
           0
          ],
          [
           4,
           0,
           0
          ],
          [
           5,
           0.5,
           0
          ],
          [
           6,
           -0.5,
           0.5
          ],
          [
           7,
           0,
           0.5
          ],
          [
           8,
           0.5,
           0.5
          ],
          [
           0,
           -0.5,
           -0.5
          ],
          [
           1,
           0,
           -0.5
          ],
          [
           2,
           0.5,
           -0.5
          ],
          [
           3,
           -0.5,
           0
          ],
          [
           4,
           0.5,
           0
          ],
          [
           5,
           -0.5,
           0.5
          ],
          [
           6,
           0,
           0.5
          ],
          [
           7,
           0.5,
           0.5
          ],
          [
           0,
           -0.5,
           -0.5
          ],
          [
           1,
           0,
           -0.5
          ],
          [
           2,
           0.5,
           -0.5
          ],
          [
           3,
           -0.5,
           0
          ],
          [
           4,
           0,
           0
          ],
          [
           5,
           0.5,
           0
          ],
          [
           6,
           -0.5,
           0.5
          ],
          [
           7,
           0,
           0.5
          ],
          [
           8,
           0.5,
           0.5
          ],
          [
           0,
           -0.5,
           -0.5
          ],
          [
           1,
           0,
           -0.5
          ],
          [
           2,
           0.5,
           -0.5
          ],
          [
           3,
           -0.5,
           0
          ],
          [
           4,
           0,
           0
          ],
          [
           5,
           0.5,
           0
          ],
          [
           6,
           -0.5,
           0.5
          ],
          [
           7,
           0,
           0.5
          ],
          [
           8,
           0.5,
           0.5
          ],
          [
           0,
           -0.5,
           -0.5
          ],
          [
           1,
           0,
           -0.5
          ],
          [
           2,
           0.5,
           -0.5
          ],
          [
           3,
           -0.5,
           0
          ],
          [
           4,
           0,
           0
          ],
          [
           5,
           0.5,
           0
          ],
          [
           6,
           -0.5,
           0.5
          ],
          [
           7,
           0,
           0.5
          ],
          [
           8,
           0.5,
           0.5
          ],
          [
           0,
           0,
           -0.5
          ],
          [
           1,
           0.5,
           -0.5
          ],
          [
           2,
           -0.5,
           0
          ],
          [
           3,
           0,
           0
          ],
          [
           4,
           0.5,
           0
          ],
          [
           5,
           -0.5,
           0.5
          ],
          [
           6,
           0,
           0.5
          ],
          [
           7,
           0.5,
           0.5
          ],
          [
           0,
           -0.5,
           -0.5
          ],
          [
           1,
           0,
           -0.5
          ],
          [
           2,
           0.5,
           -0.5
          ],
          [
           3,
           -0.5,
           0
          ],
          [
           4,
           0,
           0
          ],
          [
           5,
           0.5,
           0
          ],
          [
           6,
           -0.5,
           0.5
          ],
          [
           7,
           0,
           0.5
          ],
          [
           8,
           0.5,
           0.5
          ],
          [
           0,
           -0.5,
           -0.5
          ],
          [
           1,
           0,
           -0.5
          ],
          [
           2,
           0.5,
           -0.5
          ],
          [
           3,
           -0.5,
           0
          ],
          [
           4,
           0,
           0
          ],
          [
           5,
           0.5,
           0
          ],
          [
           6,
           -0.5,
           0.5
          ],
          [
           7,
           0,
           0.5
          ],
          [
           8,
           0.5,
           0.5
          ],
          [
           0,
           -0.5,
           -0.5
          ],
          [
           1,
           0,
           -0.5
          ],
          [
           2,
           0.5,
           -0.5
          ],
          [
           3,
           -0.5,
           0
          ],
          [
           4,
           0,
           0
          ],
          [
           5,
           0.5,
           0
          ],
          [
           6,
           -0.5,
           0.5
          ],
          [
           7,
           0,
           0.5
          ],
          [
           8,
           0.5,
           0.5
          ],
          [
           0,
           -0.5,
           -0.5
          ],
          [
           1,
           0,
           -0.5
          ],
          [
           2,
           0.5,
           -0.5
          ],
          [
           3,
           -0.5,
           0
          ],
          [
           4,
           0,
           0
          ],
          [
           5,
           0.5,
           0
          ],
          [
           6,
           -0.5,
           0.5
          ],
          [
           7,
           0,
           0.5
          ],
          [
           8,
           0.5,
           0.5
          ],
          [
           0,
           -0.5,
           -0.5
          ],
          [
           1,
           0,
           -0.5
          ],
          [
           2,
           0.5,
           -0.5
          ],
          [
           3,
           -0.5,
           0
          ],
          [
           4,
           0,
           0
          ],
          [
           5,
           -0.5,
           0.5
          ],
          [
           6,
           0,
           0.5
          ],
          [
           7,
           0.5,
           0.5
          ],
          [
           0,
           -0.5,
           -0.5
          ],
          [
           1,
           0,
           -0.5
          ],
          [
           2,
           -0.5,
           0
          ],
          [
           3,
           0,
           0
          ],
          [
           4,
           0.5,
           0
          ],
          [
           5,
           -0.5,
           0.5
          ],
          [
           6,
           0,
           0.5
          ],
          [
           7,
           0.5,
           0.5
          ],
          [
           0,
           -0.5,
           -0.5
          ],
          [
           1,
           0,
           -0.5
          ],
          [
           2,
           0.5,
           -0.5
          ],
          [
           3,
           -0.5,
           0
          ],
          [
           4,
           0,
           0
          ],
          [
           5,
           0.5,
           0
          ],
          [
           6,
           -0.5,
           0.5
          ],
          [
           7,
           0,
           0.5
          ],
          [
           8,
           0.5,
           0.5
          ],
          [
           0,
           -0.5,
           -0.5
          ],
          [
           1,
           0,
           -0.5
          ],
          [
           2,
           0.5,
           -0.5
          ],
          [
           3,
           -0.5,
           0
          ],
          [
           4,
           0,
           0
          ],
          [
           5,
           0.5,
           0
          ],
          [
           6,
           -0.5,
           0.5
          ],
          [
           7,
           0,
           0.5
          ],
          [
           8,
           0.5,
           0.5
          ],
          [
           0,
           -0.5,
           -0.5
          ],
          [
           1,
           0,
           -0.5
          ],
          [
           2,
           0.5,
           -0.5
          ],
          [
           3,
           -0.5,
           0
          ],
          [
           4,
           0.5,
           0
          ],
          [
           5,
           -0.5,
           0.5
          ],
          [
           6,
           0,
           0.5
          ],
          [
           7,
           0.5,
           0.5
          ],
          [
           0,
           -0.5,
           -0.5
          ],
          [
           1,
           0,
           -0.5
          ],
          [
           2,
           0.5,
           -0.5
          ],
          [
           3,
           -0.5,
           0
          ],
          [
           4,
           0,
           0
          ],
          [
           5,
           0.5,
           0
          ],
          [
           6,
           -0.5,
           0.5
          ],
          [
           7,
           0,
           0.5
          ],
          [
           8,
           0.5,
           0.5
          ],
          [
           0,
           -0.5,
           -0.5
          ],
          [
           1,
           0,
           -0.5
          ],
          [
           2,
           0.5,
           -0.5
          ],
          [
           3,
           -0.5,
           0
          ],
          [
           4,
           0,
           0
          ],
          [
           5,
           0.5,
           0
          ],
          [
           6,
           -0.5,
           0.5
          ],
          [
           7,
           0,
           0.5
          ],
          [
           8,
           0.5,
           0.5
          ],
          [
           0,
           -0.5,
           -0.5
          ],
          [
           1,
           0,
           -0.5
          ],
          [
           2,
           0.5,
           -0.5
          ],
          [
           3,
           -0.5,
           0
          ],
          [
           4,
           0,
           0
          ],
          [
           5,
           0.5,
           0
          ],
          [
           6,
           -0.5,
           0.5
          ],
          [
           7,
           0,
           0.5
          ],
          [
           8,
           0.5,
           0.5
          ],
          [
           0,
           -0.5,
           -0.5
          ],
          [
           1,
           0,
           -0.5
          ],
          [
           2,
           0.5,
           -0.5
          ],
          [
           3,
           -0.5,
           0
          ],
          [
           4,
           0,
           0
          ],
          [
           5,
           0.5,
           0
          ],
          [
           6,
           -0.5,
           0.5
          ],
          [
           7,
           0,
           0.5
          ],
          [
           8,
           0.5,
           0.5
          ],
          [
           0,
           -0.5,
           -0.5
          ],
          [
           1,
           0,
           -0.5
          ],
          [
           2,
           0.5,
           -0.5
          ],
          [
           3,
           -0.5,
           0
          ],
          [
           4,
           0,
           0
          ],
          [
           5,
           0.5,
           0
          ],
          [
           6,
           0.5,
           0.5
          ],
          [
           0,
           -0.5,
           -0.5
          ],
          [
           1,
           0,
           -0.5
          ],
          [
           2,
           0.5,
           -0.5
          ],
          [
           3,
           -0.5,
           0
          ],
          [
           4,
           0,
           0
          ],
          [
           5,
           0.5,
           0
          ],
          [
           6,
           -0.5,
           0.5
          ],
          [
           7,
           0,
           0.5
          ],
          [
           8,
           0.5,
           0.5
          ],
          [
           0,
           -0.5,
           -0.5
          ],
          [
           1,
           0,
           -0.5
          ],
          [
           2,
           0.5,
           -0.5
          ],
          [
           3,
           -0.5,
           0
          ],
          [
           4,
           0,
           0
          ],
          [
           5,
           0.5,
           0
          ],
          [
           6,
           -0.5,
           0.5
          ],
          [
           7,
           0,
           0.5
          ],
          [
           8,
           0.5,
           0.5
          ],
          [
           0,
           -0.5,
           -0.5
          ],
          [
           1,
           0,
           -0.5
          ],
          [
           2,
           0.5,
           -0.5
          ],
          [
           3,
           -0.5,
           0
          ],
          [
           4,
           0,
           0
          ],
          [
           5,
           0.5,
           0
          ],
          [
           6,
           -0.5,
           0.5
          ],
          [
           7,
           0,
           0.5
          ],
          [
           0,
           -0.5,
           -0.5
          ],
          [
           1,
           0,
           -0.5
          ],
          [
           2,
           0.5,
           -0.5
          ],
          [
           3,
           -0.5,
           0
          ],
          [
           4,
           0,
           0
          ],
          [
           5,
           0.5,
           0
          ],
          [
           6,
           -0.5,
           0.5
          ],
          [
           7,
           0,
           0.5
          ],
          [
           8,
           0.5,
           0.5
          ],
          [
           0,
           -0.5,
           -0.5
          ],
          [
           1,
           0,
           -0.5
          ],
          [
           2,
           0.5,
           -0.5
          ],
          [
           3,
           -0.5,
           0
          ],
          [
           4,
           0,
           0
          ],
          [
           5,
           0.5,
           0
          ],
          [
           6,
           -0.5,
           0.5
          ],
          [
           7,
           0,
           0.5
          ],
          [
           8,
           0.5,
           0.5
          ],
          [
           0,
           0,
           -0.5
          ],
          [
           1,
           0.5,
           -0.5
          ],
          [
           2,
           0,
           0
          ],
          [
           3,
           0.5,
           0
          ],
          [
           4,
           0,
           0.5
          ],
          [
           5,
           0.5,
           0.5
          ],
          [
           0,
           -0.5,
           -0.5
          ],
          [
           1,
           0,
           -0.5
          ],
          [
           2,
           0.5,
           -0.5
          ],
          [
           3,
           -0.5,
           0
          ],
          [
           4,
           0,
           0
          ],
          [
           5,
           0.5,
           0
          ],
          [
           6,
           -0.5,
           0.5
          ],
          [
           7,
           0,
           0.5
          ],
          [
           8,
           0.5,
           0.5
          ],
          [
           0,
           -0.5,
           -0.5
          ],
          [
           1,
           0,
           -0.5
          ],
          [
           2,
           0.5,
           -0.5
          ],
          [
           3,
           -0.5,
           0
          ],
          [
           4,
           0,
           0
          ],
          [
           5,
           0.5,
           0
          ],
          [
           6,
           -0.5,
           0.5
          ],
          [
           7,
           0,
           0.5
          ],
          [
           8,
           0.5,
           0.5
          ],
          [
           0,
           -0.5,
           -0.5
          ],
          [
           1,
           0,
           -0.5
          ],
          [
           2,
           0.5,
           -0.5
          ],
          [
           3,
           -0.5,
           0
          ],
          [
           4,
           0,
           0
          ],
          [
           5,
           0.5,
           0
          ],
          [
           6,
           -0.5,
           0.5
          ],
          [
           7,
           0,
           0.5
          ],
          [
           8,
           0.5,
           0.5
          ],
          [
           0,
           -0.5,
           -0.5
          ],
          [
           1,
           0,
           -0.5
          ],
          [
           2,
           0.5,
           -0.5
          ],
          [
           3,
           -0.5,
           0
          ],
          [
           4,
           0,
           0
          ],
          [
           5,
           0.5,
           0
          ],
          [
           6,
           -0.5,
           0.5
          ],
          [
           7,
           0,
           0.5
          ],
          [
           0,
           -0.5,
           -0.5
          ],
          [
           1,
           0,
           -0.5
          ],
          [
           2,
           0.5,
           -0.5
          ],
          [
           3,
           -0.5,
           0
          ],
          [
           4,
           0,
           0
          ],
          [
           5,
           0.5,
           0
          ],
          [
           6,
           -0.5,
           0.5
          ],
          [
           7,
           0,
           0.5
          ],
          [
           8,
           0.5,
           0.5
          ],
          [
           0,
           -0.5,
           -0.5
          ],
          [
           1,
           0,
           -0.5
          ],
          [
           2,
           0.5,
           -0.5
          ],
          [
           3,
           -0.5,
           0
          ],
          [
           4,
           0,
           0
          ],
          [
           5,
           0.5,
           0
          ],
          [
           0,
           -0.5,
           -0.5
          ],
          [
           1,
           0,
           -0.5
          ],
          [
           2,
           0.5,
           -0.5
          ],
          [
           3,
           -0.5,
           0
          ],
          [
           4,
           0,
           0
          ],
          [
           5,
           0.5,
           0
          ],
          [
           6,
           -0.5,
           0.5
          ],
          [
           7,
           0,
           0.5
          ],
          [
           8,
           0.5,
           0.5
          ],
          [
           0,
           -0.5,
           -0.5
          ],
          [
           1,
           0,
           -0.5
          ],
          [
           2,
           0.5,
           -0.5
          ],
          [
           3,
           -0.5,
           0
          ],
          [
           4,
           0,
           0
          ],
          [
           5,
           0.5,
           0
          ],
          [
           6,
           -0.5,
           0.5
          ],
          [
           7,
           0,
           0.5
          ],
          [
           8,
           0.5,
           0.5
          ],
          [
           0,
           -0.5,
           -0.5
          ],
          [
           1,
           0,
           -0.5
          ],
          [
           2,
           0.5,
           -0.5
          ],
          [
           3,
           -0.5,
           0
          ],
          [
           4,
           0,
           0
          ],
          [
           5,
           0.5,
           0
          ],
          [
           6,
           0,
           0.5
          ],
          [
           7,
           0.5,
           0.5
          ],
          [
           0,
           -0.5,
           -0.5
          ],
          [
           1,
           0,
           -0.5
          ],
          [
           2,
           -0.5,
           0
          ],
          [
           3,
           0,
           0
          ],
          [
           4,
           -0.5,
           0.5
          ],
          [
           5,
           0,
           0.5
          ],
          [
           6,
           0.5,
           0.5
          ],
          [
           0,
           -0.5,
           -0.5
          ],
          [
           1,
           0,
           -0.5
          ],
          [
           2,
           0.5,
           -0.5
          ],
          [
           3,
           -0.5,
           0
          ],
          [
           4,
           0,
           0
          ],
          [
           5,
           0.5,
           0
          ],
          [
           6,
           -0.5,
           0.5
          ],
          [
           7,
           0,
           0.5
          ],
          [
           8,
           0.5,
           0.5
          ],
          [
           0,
           -0.5,
           -0.5
          ],
          [
           1,
           0,
           -0.5
          ],
          [
           2,
           0.5,
           -0.5
          ],
          [
           3,
           -0.5,
           0
          ],
          [
           4,
           0,
           0
          ],
          [
           5,
           0.5,
           0
          ],
          [
           6,
           -0.5,
           0.5
          ],
          [
           7,
           0,
           0.5
          ],
          [
           8,
           0.5,
           0.5
          ],
          [
           0,
           -0.5,
           -0.5
          ],
          [
           1,
           0,
           -0.5
          ],
          [
           2,
           0.5,
           -0.5
          ],
          [
           3,
           -0.5,
           0
          ],
          [
           4,
           0,
           0
          ],
          [
           5,
           0.5,
           0
          ],
          [
           6,
           -0.5,
           0.5
          ],
          [
           7,
           0,
           0.5
          ],
          [
           8,
           0.5,
           0.5
          ],
          [
           0,
           -0.5,
           -0.5
          ],
          [
           1,
           0,
           -0.5
          ],
          [
           2,
           0.5,
           -0.5
          ],
          [
           3,
           -0.5,
           0
          ],
          [
           4,
           0,
           0
          ],
          [
           5,
           0.5,
           0
          ],
          [
           6,
           -0.5,
           0.5
          ],
          [
           7,
           0,
           0.5
          ],
          [
           8,
           0.5,
           0.5
          ],
          [
           0,
           -0.5,
           -0.5
          ],
          [
           1,
           0,
           -0.5
          ],
          [
           2,
           0.5,
           -0.5
          ],
          [
           3,
           -0.5,
           0
          ],
          [
           4,
           0,
           0
          ],
          [
           5,
           0.5,
           0
          ],
          [
           6,
           -0.5,
           0.5
          ],
          [
           7,
           0,
           0.5
          ],
          [
           8,
           0.5,
           0.5
          ],
          [
           0,
           -0.5,
           -0.5
          ],
          [
           1,
           0,
           -0.5
          ],
          [
           2,
           0.5,
           -0.5
          ],
          [
           3,
           0,
           0
          ],
          [
           4,
           0.5,
           0
          ],
          [
           5,
           -0.5,
           0.5
          ],
          [
           6,
           0,
           0.5
          ],
          [
           7,
           0.5,
           0.5
          ],
          [
           0,
           -0.5,
           -0.5
          ],
          [
           1,
           0,
           -0.5
          ],
          [
           2,
           0.5,
           -0.5
          ],
          [
           3,
           -0.5,
           0
          ],
          [
           4,
           0,
           0
          ],
          [
           5,
           0.5,
           0
          ],
          [
           6,
           -0.5,
           0.5
          ],
          [
           7,
           0,
           0.5
          ],
          [
           8,
           0.5,
           0.5
          ],
          [
           0,
           -0.5,
           -0.5
          ],
          [
           1,
           0,
           -0.5
          ],
          [
           2,
           0.5,
           -0.5
          ],
          [
           3,
           -0.5,
           0
          ],
          [
           4,
           0,
           0
          ],
          [
           5,
           0.5,
           0
          ],
          [
           6,
           -0.5,
           0.5
          ],
          [
           7,
           0,
           0.5
          ],
          [
           8,
           0.5,
           0.5
          ],
          [
           0,
           -0.5,
           -0.5
          ],
          [
           1,
           0,
           -0.5
          ],
          [
           2,
           0.5,
           -0.5
          ],
          [
           3,
           -0.5,
           0
          ],
          [
           4,
           0,
           0
          ],
          [
           5,
           0.5,
           0
          ],
          [
           6,
           -0.5,
           0.5
          ],
          [
           7,
           0,
           0.5
          ],
          [
           8,
           0.5,
           0.5
          ],
          [
           0,
           -0.5,
           -0.5
          ],
          [
           1,
           0,
           -0.5
          ],
          [
           2,
           0.5,
           -0.5
          ],
          [
           3,
           -0.5,
           0
          ],
          [
           4,
           0,
           0
          ],
          [
           5,
           0.5,
           0
          ],
          [
           6,
           -0.5,
           0.5
          ],
          [
           7,
           0,
           0.5
          ],
          [
           8,
           0.5,
           0.5
          ],
          [
           0,
           -0.5,
           -0.5
          ],
          [
           1,
           0,
           -0.5
          ],
          [
           2,
           0.5,
           -0.5
          ],
          [
           3,
           -0.5,
           0
          ],
          [
           4,
           0,
           0
          ],
          [
           5,
           0.5,
           0
          ],
          [
           6,
           -0.5,
           0.5
          ],
          [
           7,
           0.5,
           0.5
          ],
          [
           0,
           -0.5,
           -0.5
          ],
          [
           1,
           0,
           -0.5
          ],
          [
           2,
           0.5,
           -0.5
          ],
          [
           3,
           -0.5,
           0
          ],
          [
           4,
           0,
           0
          ],
          [
           5,
           0.5,
           0
          ],
          [
           6,
           -0.5,
           0.5
          ],
          [
           7,
           0,
           0.5
          ],
          [
           8,
           0.5,
           0.5
          ],
          [
           0,
           -0.5,
           -0.5
          ],
          [
           1,
           0,
           -0.5
          ],
          [
           2,
           0.5,
           -0.5
          ],
          [
           3,
           -0.5,
           0
          ],
          [
           4,
           0,
           0
          ],
          [
           5,
           0.5,
           0
          ],
          [
           6,
           -0.5,
           0.5
          ],
          [
           7,
           0,
           0.5
          ],
          [
           8,
           0.5,
           0.5
          ],
          [
           0,
           -0.5,
           -0.5
          ],
          [
           1,
           0,
           -0.5
          ],
          [
           2,
           0.5,
           -0.5
          ],
          [
           3,
           -0.5,
           0
          ],
          [
           4,
           0,
           0
          ],
          [
           5,
           0.5,
           0
          ],
          [
           6,
           -0.5,
           0.5
          ],
          [
           7,
           0,
           0.5
          ],
          [
           8,
           0.5,
           0.5
          ],
          [
           0,
           -0.5,
           -0.5
          ],
          [
           1,
           0,
           -0.5
          ],
          [
           2,
           0.5,
           -0.5
          ],
          [
           3,
           -0.5,
           0
          ],
          [
           4,
           0,
           0
          ],
          [
           5,
           0.5,
           0
          ],
          [
           6,
           -0.5,
           0.5
          ],
          [
           7,
           0,
           0.5
          ],
          [
           8,
           0.5,
           0.5
          ],
          [
           0,
           0,
           -0.5
          ],
          [
           1,
           0,
           0
          ],
          [
           2,
           0.5,
           0
          ],
          [
           3,
           0,
           0.5
          ],
          [
           4,
           0.5,
           0.5
          ],
          [
           0,
           0.5,
           -0.5
          ],
          [
           1,
           0,
           0
          ],
          [
           2,
           0.5,
           0
          ],
          [
           3,
           0,
           0.5
          ],
          [
           4,
           0.5,
           0.5
          ],
          [
           0,
           -0.5,
           -0.5
          ],
          [
           1,
           0,
           -0.5
          ],
          [
           2,
           0.5,
           -0.5
          ],
          [
           3,
           -0.5,
           0
          ],
          [
           4,
           0,
           0
          ],
          [
           5,
           -0.5,
           0.5
          ],
          [
           6,
           0,
           0.5
          ],
          [
           7,
           0.5,
           0.5
          ],
          [
           0,
           -0.5,
           -0.5
          ],
          [
           1,
           0,
           -0.5
          ],
          [
           2,
           -0.5,
           0
          ],
          [
           3,
           0,
           0
          ],
          [
           4,
           0.5,
           0
          ],
          [
           5,
           -0.5,
           0.5
          ],
          [
           6,
           0,
           0.5
          ],
          [
           7,
           0.5,
           0.5
          ],
          [
           0,
           -0.5,
           -0.5
          ],
          [
           1,
           0,
           -0.5
          ],
          [
           2,
           0.5,
           -0.5
          ],
          [
           3,
           -0.5,
           0
          ],
          [
           4,
           0,
           0
          ],
          [
           5,
           0.5,
           0
          ],
          [
           6,
           -0.5,
           0.5
          ],
          [
           7,
           0,
           0.5
          ],
          [
           8,
           0.5,
           0.5
          ],
          [
           0,
           -0.5,
           -0.5
          ],
          [
           1,
           0,
           -0.5
          ],
          [
           2,
           0.5,
           -0.5
          ],
          [
           3,
           -0.5,
           0
          ],
          [
           4,
           0,
           0
          ],
          [
           5,
           0.5,
           0
          ],
          [
           6,
           -0.5,
           0.5
          ],
          [
           7,
           0,
           0.5
          ],
          [
           8,
           0.5,
           0.5
          ],
          [
           0,
           -0.5,
           -0.5
          ],
          [
           1,
           0,
           -0.5
          ],
          [
           2,
           0.5,
           -0.5
          ],
          [
           3,
           -0.5,
           0
          ],
          [
           4,
           0,
           0
          ],
          [
           5,
           0.5,
           0
          ],
          [
           6,
           -0.5,
           0.5
          ],
          [
           7,
           0,
           0.5
          ],
          [
           8,
           0.5,
           0.5
          ],
          [
           0,
           -0.5,
           -0.5
          ],
          [
           1,
           0,
           -0.5
          ],
          [
           2,
           0.5,
           -0.5
          ],
          [
           3,
           -0.5,
           0
          ],
          [
           4,
           0,
           0
          ],
          [
           5,
           0.5,
           0
          ],
          [
           6,
           -0.5,
           0.5
          ],
          [
           7,
           0,
           0.5
          ],
          [
           8,
           0.5,
           0.5
          ],
          [
           0,
           -0.5,
           -0.5
          ],
          [
           1,
           0,
           -0.5
          ],
          [
           2,
           0.5,
           -0.5
          ],
          [
           3,
           -0.5,
           0
          ],
          [
           4,
           0,
           0
          ],
          [
           5,
           0.5,
           0
          ],
          [
           6,
           -0.5,
           0.5
          ],
          [
           7,
           0,
           0.5
          ],
          [
           8,
           0.5,
           0.5
          ],
          [
           0,
           -0.5,
           -0.5
          ],
          [
           1,
           0,
           -0.5
          ],
          [
           2,
           -0.5,
           0
          ],
          [
           3,
           0,
           0
          ],
          [
           4,
           0.5,
           0
          ],
          [
           5,
           -0.5,
           0.5
          ],
          [
           6,
           0,
           0.5
          ],
          [
           7,
           0.5,
           0.5
          ],
          [
           0,
           -0.5,
           -0.5
          ],
          [
           1,
           0.5,
           -0.5
          ],
          [
           2,
           -0.5,
           0
          ],
          [
           3,
           0,
           0
          ],
          [
           4,
           0.5,
           0
          ],
          [
           5,
           -0.5,
           0.5
          ],
          [
           6,
           0,
           0.5
          ],
          [
           7,
           0.5,
           0.5
          ],
          [
           0,
           -0.5,
           -0.5
          ],
          [
           1,
           -0.5,
           0
          ],
          [
           2,
           0,
           0
          ],
          [
           3,
           0.5,
           0
          ],
          [
           4,
           0,
           0.5
          ],
          [
           5,
           0.5,
           0.5
          ],
          [
           0,
           -0.5,
           -0.5
          ],
          [
           1,
           0,
           -0.5
          ],
          [
           2,
           0.5,
           -0.5
          ],
          [
           3,
           -0.5,
           0
          ],
          [
           4,
           0,
           0
          ],
          [
           5,
           0.5,
           0
          ],
          [
           6,
           -0.5,
           0.5
          ],
          [
           7,
           0,
           0.5
          ],
          [
           8,
           0.5,
           0.5
          ],
          [
           0,
           -0.5,
           -0.5
          ],
          [
           1,
           0,
           -0.5
          ],
          [
           2,
           0.5,
           -0.5
          ],
          [
           3,
           -0.5,
           0
          ],
          [
           4,
           0,
           0
          ],
          [
           5,
           0.5,
           0
          ],
          [
           6,
           -0.5,
           0.5
          ],
          [
           7,
           0,
           0.5
          ],
          [
           8,
           0.5,
           0.5
          ],
          [
           0,
           -0.5,
           -0.5
          ],
          [
           1,
           0,
           -0.5
          ],
          [
           2,
           0.5,
           -0.5
          ],
          [
           3,
           -0.5,
           0
          ],
          [
           4,
           0,
           0
          ],
          [
           5,
           0.5,
           0
          ],
          [
           6,
           -0.5,
           0.5
          ],
          [
           7,
           0,
           0.5
          ],
          [
           8,
           0.5,
           0.5
          ],
          [
           0,
           -0.5,
           -0.5
          ],
          [
           1,
           0,
           -0.5
          ],
          [
           2,
           0.5,
           -0.5
          ],
          [
           3,
           -0.5,
           0
          ],
          [
           4,
           0,
           0
          ],
          [
           5,
           0.5,
           0
          ],
          [
           6,
           -0.5,
           0.5
          ],
          [
           7,
           0,
           0.5
          ],
          [
           8,
           0.5,
           0.5
          ],
          [
           0,
           -0.5,
           -0.5
          ],
          [
           1,
           0,
           -0.5
          ],
          [
           2,
           0.5,
           -0.5
          ],
          [
           3,
           -0.5,
           0
          ],
          [
           4,
           0,
           0
          ],
          [
           5,
           0.5,
           0
          ],
          [
           6,
           -0.5,
           0.5
          ],
          [
           7,
           0,
           0.5
          ],
          [
           8,
           0.5,
           0.5
          ],
          [
           0,
           -0.5,
           -0.5
          ],
          [
           1,
           0,
           -0.5
          ],
          [
           2,
           0.5,
           -0.5
          ],
          [
           3,
           -0.5,
           0
          ],
          [
           4,
           0,
           0
          ],
          [
           5,
           0.5,
           0
          ],
          [
           6,
           -0.5,
           0.5
          ],
          [
           7,
           0,
           0.5
          ],
          [
           8,
           0.5,
           0.5
          ],
          [
           0,
           -0.5,
           0.5
          ],
          [
           0,
           -0.5,
           -0.5
          ],
          [
           1,
           0,
           -0.5
          ],
          [
           2,
           -0.5,
           0
          ],
          [
           3,
           0,
           0
          ],
          [
           4,
           0.5,
           0
          ],
          [
           5,
           -0.5,
           0.5
          ],
          [
           6,
           0,
           0.5
          ],
          [
           7,
           0.5,
           0.5
          ],
          [
           0,
           0,
           -0.5
          ],
          [
           1,
           0.5,
           -0.5
          ],
          [
           2,
           0,
           0
          ],
          [
           3,
           0.5,
           0
          ],
          [
           4,
           0,
           0.5
          ],
          [
           5,
           0.5,
           0.5
          ],
          [
           0,
           0,
           0
          ],
          [
           1,
           0.5,
           0
          ],
          [
           2,
           -0.5,
           0.5
          ],
          [
           3,
           0,
           0.5
          ],
          [
           4,
           0.5,
           0.5
          ],
          [
           0,
           -0.5,
           -0.5
          ],
          [
           1,
           0,
           -0.5
          ],
          [
           2,
           0.5,
           -0.5
          ],
          [
           3,
           -0.5,
           0
          ],
          [
           4,
           0,
           0
          ],
          [
           5,
           0.5,
           0
          ],
          [
           6,
           -0.5,
           0.5
          ],
          [
           0,
           -0.5,
           -0.5
          ],
          [
           1,
           0,
           -0.5
          ],
          [
           2,
           -0.5,
           0
          ],
          [
           3,
           0,
           0
          ],
          [
           4,
           0.5,
           0
          ],
          [
           5,
           -0.5,
           0.5
          ],
          [
           6,
           0.5,
           0.5
          ],
          [
           0,
           -0.5,
           -0.5
          ],
          [
           1,
           0,
           -0.5
          ],
          [
           2,
           0.5,
           -0.5
          ],
          [
           3,
           -0.5,
           0
          ],
          [
           4,
           0,
           0
          ],
          [
           5,
           0.5,
           0
          ],
          [
           6,
           -0.5,
           0.5
          ],
          [
           7,
           0.5,
           0.5
          ],
          [
           0,
           -0.5,
           -0.5
          ],
          [
           1,
           0,
           -0.5
          ],
          [
           2,
           0.5,
           -0.5
          ],
          [
           3,
           -0.5,
           0
          ],
          [
           4,
           0.5,
           0
          ],
          [
           5,
           0,
           0.5
          ],
          [
           6,
           0.5,
           0.5
          ],
          [
           0,
           0,
           -0.5
          ],
          [
           1,
           0.5,
           -0.5
          ],
          [
           2,
           -0.5,
           0
          ],
          [
           3,
           0,
           0
          ],
          [
           4,
           0.5,
           0
          ],
          [
           5,
           -0.5,
           0.5
          ],
          [
           6,
           0,
           0.5
          ],
          [
           7,
           0.5,
           0.5
          ],
          [
           0,
           -0.5,
           -0.5
          ],
          [
           1,
           0,
           -0.5
          ],
          [
           2,
           0.5,
           -0.5
          ],
          [
           3,
           -0.5,
           0
          ],
          [
           4,
           0,
           0
          ],
          [
           5,
           0.5,
           0
          ],
          [
           6,
           -0.5,
           0.5
          ],
          [
           7,
           0,
           0.5
          ],
          [
           0,
           -0.5,
           -0.5
          ],
          [
           1,
           0,
           -0.5
          ],
          [
           2,
           -0.5,
           0
          ],
          [
           3,
           0.5,
           0
          ],
          [
           4,
           -0.5,
           0.5
          ],
          [
           5,
           0,
           0.5
          ],
          [
           0,
           -0.5,
           -0.5
          ],
          [
           1,
           0,
           -0.5
          ],
          [
           2,
           0.5,
           -0.5
          ],
          [
           3,
           -0.5,
           0
          ],
          [
           4,
           0,
           0
          ],
          [
           5,
           0.5,
           0
          ],
          [
           6,
           -0.5,
           0.5
          ],
          [
           7,
           0,
           0.5
          ],
          [
           8,
           0.5,
           0.5
          ],
          [
           0,
           -0.5,
           -0.5
          ],
          [
           1,
           0,
           -0.5
          ],
          [
           2,
           0.5,
           -0.5
          ],
          [
           3,
           -0.5,
           0
          ],
          [
           4,
           0,
           0
          ],
          [
           5,
           0.5,
           0
          ],
          [
           6,
           -0.5,
           0.5
          ],
          [
           7,
           0,
           0.5
          ],
          [
           8,
           0.5,
           0.5
          ],
          [
           0,
           -0.5,
           -0.5
          ],
          [
           1,
           0,
           -0.5
          ],
          [
           2,
           0.5,
           -0.5
          ],
          [
           3,
           -0.5,
           0
          ],
          [
           4,
           0,
           0
          ],
          [
           5,
           0.5,
           0
          ],
          [
           6,
           -0.5,
           0.5
          ],
          [
           7,
           0,
           0.5
          ],
          [
           8,
           0.5,
           0.5
          ],
          [
           0,
           -0.5,
           -0.5
          ],
          [
           1,
           0,
           -0.5
          ],
          [
           2,
           0.5,
           -0.5
          ],
          [
           3,
           -0.5,
           0
          ],
          [
           4,
           0,
           0
          ],
          [
           5,
           0.5,
           0
          ],
          [
           6,
           -0.5,
           0.5
          ],
          [
           7,
           0,
           0.5
          ],
          [
           8,
           0.5,
           0.5
          ],
          [
           0,
           0,
           -0.5
          ],
          [
           0,
           0,
           -0.5
          ],
          [
           1,
           0,
           0
          ],
          [
           2,
           0,
           0.5
          ],
          [
           0,
           -0.5,
           -0.5
          ],
          [
           1,
           0,
           -0.5
          ],
          [
           2,
           0.5,
           -0.5
          ],
          [
           3,
           -0.5,
           0
          ],
          [
           4,
           0,
           0
          ],
          [
           5,
           0.5,
           0
          ],
          [
           6,
           0,
           0.5
          ],
          [
           7,
           0.5,
           0.5
          ],
          [
           0,
           -0.5,
           -0.5
          ],
          [
           1,
           0,
           -0.5
          ],
          [
           2,
           0.5,
           -0.5
          ],
          [
           3,
           -0.5,
           0
          ],
          [
           4,
           0,
           0
          ],
          [
           5,
           -0.5,
           0.5
          ],
          [
           6,
           0,
           0.5
          ],
          [
           7,
           0.5,
           0.5
          ],
          [
           0,
           0,
           -0.5
          ],
          [
           1,
           0.5,
           -0.5
          ],
          [
           2,
           -0.5,
           0
          ],
          [
           3,
           0,
           0
          ],
          [
           4,
           0.5,
           0
          ],
          [
           5,
           -0.5,
           0.5
          ],
          [
           6,
           0,
           0.5
          ],
          [
           7,
           0.5,
           0.5
          ],
          [
           0,
           0.5,
           -0.5
          ],
          [
           1,
           -0.5,
           0
          ],
          [
           2,
           0,
           0
          ],
          [
           3,
           0.5,
           0
          ],
          [
           4,
           0,
           0.5
          ],
          [
           0,
           0,
           -0.5
          ],
          [
           1,
           -0.5,
           0
          ],
          [
           2,
           0,
           0
          ],
          [
           3,
           -0.5,
           0.5
          ],
          [
           4,
           0,
           0.5
          ],
          [
           0,
           0,
           -0.5
          ],
          [
           1,
           0.5,
           -0.5
          ],
          [
           2,
           -0.5,
           0
          ],
          [
           3,
           0,
           0
          ],
          [
           4,
           0.5,
           0
          ],
          [
           5,
           -0.5,
           0.5
          ],
          [
           6,
           0,
           0.5
          ],
          [
           7,
           0.5,
           0.5
          ],
          [
           0,
           0,
           -0.5
          ],
          [
           1,
           0.5,
           -0.5
          ],
          [
           2,
           -0.5,
           0
          ],
          [
           3,
           0,
           0
          ],
          [
           4,
           0.5,
           0
          ],
          [
           5,
           -0.5,
           0.5
          ],
          [
           6,
           0,
           0.5
          ],
          [
           7,
           0.5,
           0.5
          ],
          [
           0,
           -0.5,
           -0.5
          ],
          [
           1,
           0,
           -0.5
          ],
          [
           2,
           0.5,
           0
          ],
          [
           0,
           -0.5,
           0
          ],
          [
           1,
           0.5,
           0
          ],
          [
           0,
           -0.5,
           -0.5
          ],
          [
           1,
           0,
           -0.5
          ],
          [
           2,
           0.5,
           -0.5
          ],
          [
           3,
           -0.5,
           0
          ],
          [
           4,
           0.5,
           0
          ],
          [
           5,
           -0.5,
           0.5
          ],
          [
           6,
           0,
           0.5
          ],
          [
           0,
           -0.5,
           -0.5
          ],
          [
           1,
           0,
           -0.5
          ],
          [
           2,
           0.5,
           -0.5
          ],
          [
           3,
           -0.5,
           0
          ],
          [
           4,
           0,
           0
          ],
          [
           5,
           0.5,
           0
          ],
          [
           6,
           -0.5,
           0.5
          ],
          [
           7,
           0,
           0.5
          ],
          [
           8,
           0.5,
           0.5
          ],
          [
           0,
           -0.5,
           -0.5
          ],
          [
           1,
           0,
           -0.5
          ],
          [
           2,
           0.5,
           -0.5
          ],
          [
           3,
           -0.5,
           0
          ],
          [
           4,
           0,
           0
          ],
          [
           5,
           0.5,
           0
          ],
          [
           6,
           -0.5,
           0.5
          ],
          [
           7,
           0,
           0.5
          ],
          [
           8,
           0.5,
           0.5
          ],
          [
           0,
           -0.5,
           -0.5
          ],
          [
           1,
           0,
           -0.5
          ],
          [
           2,
           0.5,
           -0.5
          ],
          [
           3,
           -0.5,
           0
          ],
          [
           4,
           0,
           0
          ],
          [
           5,
           0.5,
           0
          ],
          [
           6,
           -0.5,
           0.5
          ],
          [
           7,
           0,
           0.5
          ],
          [
           8,
           0.5,
           0.5
          ],
          [
           0,
           -0.5,
           -0.5
          ],
          [
           1,
           0,
           -0.5
          ],
          [
           2,
           0.5,
           -0.5
          ],
          [
           3,
           -0.5,
           0
          ],
          [
           4,
           0,
           0
          ],
          [
           5,
           0.5,
           0
          ],
          [
           6,
           -0.5,
           0.5
          ],
          [
           7,
           0,
           0.5
          ],
          [
           8,
           0.5,
           0.5
          ],
          [
           0,
           -0.5,
           -0.5
          ],
          [
           1,
           0,
           -0.5
          ],
          [
           2,
           0.5,
           -0.5
          ],
          [
           3,
           -0.5,
           0
          ],
          [
           4,
           0,
           0
          ],
          [
           5,
           0.5,
           0
          ],
          [
           6,
           -0.5,
           0.5
          ],
          [
           7,
           0,
           0.5
          ],
          [
           8,
           0.5,
           0.5
          ],
          [
           0,
           -0.5,
           -0.5
          ],
          [
           1,
           0,
           -0.5
          ],
          [
           2,
           0.5,
           -0.5
          ],
          [
           3,
           -0.5,
           0
          ],
          [
           4,
           0,
           0
          ],
          [
           5,
           0.5,
           0
          ],
          [
           6,
           -0.5,
           0.5
          ],
          [
           7,
           0,
           0.5
          ],
          [
           8,
           0.5,
           0.5
          ],
          [
           0,
           -0.5,
           -0.5
          ],
          [
           1,
           0,
           -0.5
          ],
          [
           2,
           0.5,
           -0.5
          ],
          [
           3,
           -0.5,
           0
          ],
          [
           4,
           0,
           0
          ],
          [
           5,
           0.5,
           0
          ],
          [
           6,
           -0.5,
           0.5
          ],
          [
           7,
           0,
           0.5
          ],
          [
           8,
           0.5,
           0.5
          ],
          [
           0,
           0,
           -0.5
          ],
          [
           1,
           0.5,
           -0.5
          ],
          [
           2,
           -0.5,
           0
          ],
          [
           3,
           0,
           0
          ],
          [
           4,
           0.5,
           0
          ],
          [
           5,
           -0.5,
           0.5
          ],
          [
           6,
           0.5,
           0.5
          ],
          [
           0,
           -0.5,
           -0.5
          ],
          [
           1,
           0,
           -0.5
          ],
          [
           2,
           0.5,
           -0.5
          ],
          [
           3,
           -0.5,
           0
          ],
          [
           4,
           0,
           0
          ],
          [
           5,
           0.5,
           0
          ],
          [
           6,
           -0.5,
           0.5
          ],
          [
           7,
           0,
           0.5
          ],
          [
           8,
           0.5,
           0.5
          ],
          [
           0,
           -0.5,
           -0.5
          ],
          [
           1,
           0,
           -0.5
          ],
          [
           2,
           0.5,
           -0.5
          ],
          [
           3,
           -0.5,
           0
          ],
          [
           4,
           0.5,
           0
          ],
          [
           5,
           -0.5,
           0.5
          ],
          [
           6,
           0,
           0.5
          ],
          [
           7,
           0.5,
           0.5
          ],
          [
           0,
           -0.5,
           -0.5
          ],
          [
           1,
           0,
           -0.5
          ],
          [
           2,
           0.5,
           -0.5
          ],
          [
           3,
           -0.5,
           0
          ],
          [
           4,
           0,
           0
          ],
          [
           5,
           0.5,
           0
          ],
          [
           6,
           -0.5,
           0.5
          ],
          [
           7,
           0,
           0.5
          ],
          [
           8,
           0.5,
           0.5
          ],
          [
           0,
           -0.5,
           -0.5
          ],
          [
           1,
           0,
           -0.5
          ],
          [
           2,
           0.5,
           -0.5
          ],
          [
           3,
           -0.5,
           0
          ],
          [
           4,
           0,
           0
          ],
          [
           5,
           0.5,
           0
          ],
          [
           6,
           -0.5,
           0.5
          ],
          [
           7,
           0,
           0.5
          ],
          [
           8,
           0.5,
           0.5
          ],
          [
           0,
           0,
           -0.5
          ],
          [
           1,
           0.5,
           -0.5
          ],
          [
           2,
           -0.5,
           0
          ],
          [
           3,
           0,
           0
          ],
          [
           4,
           0.5,
           0
          ],
          [
           5,
           -0.5,
           0.5
          ],
          [
           6,
           0,
           0.5
          ],
          [
           7,
           0.5,
           0.5
          ],
          [
           0,
           -0.5,
           -0.5
          ],
          [
           1,
           0.5,
           -0.5
          ],
          [
           2,
           -0.5,
           0
          ],
          [
           3,
           0.5,
           0
          ],
          [
           4,
           -0.5,
           0.5
          ],
          [
           5,
           0,
           0.5
          ],
          [
           6,
           0.5,
           0.5
          ],
          [
           0,
           -0.5,
           -0.5
          ],
          [
           1,
           0,
           -0.5
          ],
          [
           2,
           -0.5,
           0
          ],
          [
           3,
           0.5,
           0
          ],
          [
           4,
           -0.5,
           0.5
          ],
          [
           5,
           0.5,
           0.5
          ],
          [
           0,
           -0.5,
           -0.5
          ],
          [
           1,
           0,
           -0.5
          ],
          [
           2,
           0.5,
           -0.5
          ],
          [
           3,
           -0.5,
           0
          ],
          [
           4,
           0,
           0
          ],
          [
           5,
           0.5,
           0
          ],
          [
           6,
           -0.5,
           0.5
          ],
          [
           7,
           0,
           0.5
          ],
          [
           8,
           0.5,
           0.5
          ],
          [
           0,
           0,
           -0.5
          ],
          [
           1,
           0.5,
           -0.5
          ],
          [
           2,
           0,
           0
          ],
          [
           3,
           0.5,
           0
          ],
          [
           4,
           0,
           0.5
          ],
          [
           5,
           0.5,
           0.5
          ],
          [
           0,
           -0.5,
           -0.5
          ],
          [
           1,
           0,
           -0.5
          ],
          [
           2,
           0.5,
           -0.5
          ],
          [
           3,
           -0.5,
           0
          ],
          [
           4,
           0,
           0
          ],
          [
           5,
           0.5,
           0
          ],
          [
           6,
           -0.5,
           0.5
          ],
          [
           7,
           0,
           0.5
          ],
          [
           8,
           0.5,
           0.5
          ],
          [
           0,
           -0.5,
           -0.5
          ],
          [
           1,
           0,
           -0.5
          ],
          [
           2,
           0.5,
           -0.5
          ],
          [
           3,
           -0.5,
           0
          ],
          [
           4,
           0,
           0
          ],
          [
           5,
           0.5,
           0
          ],
          [
           6,
           -0.5,
           0.5
          ],
          [
           7,
           0,
           0.5
          ],
          [
           8,
           0.5,
           0.5
          ],
          [
           0,
           -0.5,
           -0.5
          ],
          [
           1,
           0.5,
           -0.5
          ],
          [
           2,
           -0.5,
           0
          ],
          [
           3,
           0,
           0
          ],
          [
           4,
           0.5,
           0
          ],
          [
           5,
           -0.5,
           0.5
          ],
          [
           6,
           0,
           0.5
          ],
          [
           7,
           0.5,
           0.5
          ],
          [
           0,
           -0.5,
           -0.5
          ],
          [
           1,
           0,
           -0.5
          ],
          [
           2,
           0.5,
           -0.5
          ],
          [
           3,
           -0.5,
           0
          ],
          [
           4,
           0,
           0
          ],
          [
           5,
           0.5,
           0
          ],
          [
           6,
           -0.5,
           0.5
          ],
          [
           7,
           0,
           0.5
          ],
          [
           8,
           0.5,
           0.5
          ],
          [
           0,
           -0.5,
           -0.5
          ],
          [
           1,
           0,
           -0.5
          ],
          [
           2,
           0.5,
           -0.5
          ],
          [
           3,
           0,
           0
          ],
          [
           4,
           0.5,
           0
          ],
          [
           5,
           -0.5,
           0.5
          ],
          [
           6,
           0,
           0.5
          ],
          [
           7,
           0.5,
           0.5
          ],
          [
           0,
           -0.5,
           -0.5
          ],
          [
           1,
           0,
           -0.5
          ],
          [
           2,
           0.5,
           -0.5
          ],
          [
           3,
           -0.5,
           0
          ],
          [
           4,
           0.5,
           0
          ],
          [
           5,
           -0.5,
           0.5
          ],
          [
           6,
           0,
           0.5
          ],
          [
           7,
           0.5,
           0.5
          ],
          [
           0,
           -0.5,
           -0.5
          ],
          [
           1,
           0.5,
           -0.5
          ],
          [
           2,
           -0.5,
           0
          ],
          [
           3,
           0,
           0
          ],
          [
           4,
           0.5,
           0
          ],
          [
           5,
           -0.5,
           0.5
          ],
          [
           6,
           0.5,
           0.5
          ],
          [
           0,
           -0.5,
           -0.5
          ],
          [
           1,
           0,
           -0.5
          ],
          [
           2,
           0.5,
           -0.5
          ],
          [
           3,
           -0.5,
           0
          ],
          [
           4,
           0,
           0
          ],
          [
           5,
           0.5,
           0
          ],
          [
           6,
           -0.5,
           0.5
          ],
          [
           7,
           0,
           0.5
          ],
          [
           8,
           0.5,
           0.5
          ],
          [
           0,
           -0.5,
           -0.5
          ],
          [
           1,
           0,
           -0.5
          ],
          [
           2,
           0.5,
           -0.5
          ],
          [
           3,
           -0.5,
           0
          ],
          [
           4,
           0,
           0
          ],
          [
           5,
           0.5,
           0
          ],
          [
           6,
           -0.5,
           0.5
          ],
          [
           7,
           0,
           0.5
          ],
          [
           8,
           0.5,
           0.5
          ],
          [
           0,
           -0.5,
           -0.5
          ],
          [
           1,
           0,
           -0.5
          ],
          [
           2,
           0.5,
           -0.5
          ],
          [
           3,
           -0.5,
           0
          ],
          [
           4,
           0,
           0
          ],
          [
           5,
           0.5,
           0
          ],
          [
           6,
           -0.5,
           0.5
          ],
          [
           7,
           0,
           0.5
          ],
          [
           8,
           0.5,
           0.5
          ],
          [
           0,
           -0.5,
           -0.5
          ],
          [
           1,
           0,
           -0.5
          ],
          [
           2,
           0.5,
           -0.5
          ],
          [
           3,
           -0.5,
           0
          ],
          [
           4,
           0,
           0
          ],
          [
           5,
           0.5,
           0
          ],
          [
           6,
           -0.5,
           0.5
          ],
          [
           7,
           0,
           0.5
          ],
          [
           8,
           0.5,
           0.5
          ],
          [
           0,
           0,
           -0.5
          ],
          [
           1,
           0.5,
           -0.5
          ],
          [
           0,
           0,
           -0.5
          ],
          [
           1,
           -0.5,
           0
          ],
          [
           2,
           0.5,
           0
          ],
          [
           3,
           -0.5,
           0.5
          ],
          [
           4,
           0,
           0.5
          ],
          [
           5,
           0.5,
           0.5
          ],
          [
           0,
           -0.5,
           -0.5
          ],
          [
           1,
           0,
           -0.5
          ],
          [
           2,
           0.5,
           -0.5
          ],
          [
           3,
           -0.5,
           0
          ],
          [
           4,
           0.5,
           0
          ],
          [
           5,
           -0.5,
           0.5
          ],
          [
           6,
           0,
           0.5
          ],
          [
           7,
           0.5,
           0.5
          ],
          [
           0,
           -0.5,
           -0.5
          ],
          [
           1,
           0,
           -0.5
          ],
          [
           2,
           -0.5,
           0
          ],
          [
           3,
           0,
           0
          ],
          [
           4,
           0.5,
           0
          ],
          [
           5,
           -0.5,
           0.5
          ],
          [
           6,
           0,
           0.5
          ],
          [
           7,
           0.5,
           0.5
          ],
          [
           0,
           -0.5,
           -0.5
          ],
          [
           1,
           0,
           -0.5
          ],
          [
           2,
           0.5,
           -0.5
          ],
          [
           3,
           -0.5,
           0
          ],
          [
           4,
           0,
           0
          ],
          [
           5,
           0.5,
           0
          ],
          [
           6,
           -0.5,
           0.5
          ],
          [
           7,
           0,
           0.5
          ],
          [
           8,
           0.5,
           0.5
          ],
          [
           0,
           -0.5,
           -0.5
          ],
          [
           1,
           0,
           -0.5
          ],
          [
           2,
           -0.5,
           0
          ],
          [
           3,
           0,
           0
          ],
          [
           4,
           0.5,
           0
          ],
          [
           5,
           -0.5,
           0.5
          ],
          [
           6,
           0,
           0.5
          ],
          [
           7,
           0.5,
           0.5
          ],
          [
           0,
           -0.5,
           -0.5
          ],
          [
           1,
           0,
           -0.5
          ],
          [
           2,
           -0.5,
           0
          ],
          [
           3,
           0,
           0
          ],
          [
           4,
           0.5,
           0
          ],
          [
           5,
           -0.5,
           0.5
          ],
          [
           6,
           0,
           0.5
          ],
          [
           7,
           0.5,
           0.5
          ],
          [
           0,
           -0.5,
           -0.5
          ],
          [
           1,
           0,
           -0.5
          ],
          [
           2,
           0.5,
           -0.5
          ],
          [
           3,
           -0.5,
           0
          ],
          [
           4,
           0,
           0
          ],
          [
           5,
           0.5,
           0
          ],
          [
           6,
           -0.5,
           0.5
          ],
          [
           7,
           0,
           0.5
          ],
          [
           8,
           0.5,
           0.5
          ],
          [
           0,
           -0.5,
           -0.5
          ],
          [
           1,
           0,
           -0.5
          ],
          [
           2,
           0.5,
           -0.5
          ],
          [
           3,
           -0.5,
           0
          ],
          [
           4,
           0,
           0
          ],
          [
           5,
           0.5,
           0
          ],
          [
           6,
           -0.5,
           0.5
          ],
          [
           7,
           0,
           0.5
          ],
          [
           8,
           0.5,
           0.5
          ],
          [
           0,
           -0.5,
           -0.5
          ],
          [
           1,
           0,
           -0.5
          ],
          [
           2,
           0.5,
           -0.5
          ],
          [
           3,
           0,
           0
          ],
          [
           4,
           0.5,
           0
          ],
          [
           5,
           -0.5,
           0.5
          ],
          [
           6,
           0,
           0.5
          ],
          [
           7,
           0.5,
           0.5
          ],
          [
           0,
           -0.5,
           -0.5
          ],
          [
           1,
           0,
           -0.5
          ],
          [
           2,
           0.5,
           -0.5
          ],
          [
           3,
           -0.5,
           0
          ],
          [
           4,
           0,
           0
          ],
          [
           5,
           0.5,
           0
          ],
          [
           6,
           -0.5,
           0.5
          ],
          [
           7,
           0,
           0.5
          ],
          [
           8,
           0.5,
           0.5
          ],
          [
           0,
           -0.5,
           -0.5
          ],
          [
           1,
           0,
           -0.5
          ],
          [
           2,
           0.5,
           -0.5
          ],
          [
           3,
           -0.5,
           0
          ],
          [
           4,
           0,
           0
          ],
          [
           5,
           0.5,
           0
          ],
          [
           6,
           -0.5,
           0.5
          ],
          [
           7,
           0,
           0.5
          ],
          [
           8,
           0.5,
           0.5
          ],
          [
           0,
           -0.5,
           -0.5
          ],
          [
           1,
           0,
           -0.5
          ],
          [
           2,
           0.5,
           -0.5
          ],
          [
           3,
           -0.5,
           0
          ],
          [
           4,
           0,
           0
          ],
          [
           5,
           0.5,
           0
          ],
          [
           6,
           -0.5,
           0.5
          ],
          [
           7,
           0,
           0.5
          ],
          [
           8,
           0.5,
           0.5
          ],
          [
           0,
           -0.5,
           -0.5
          ],
          [
           1,
           0,
           -0.5
          ],
          [
           2,
           0.5,
           -0.5
          ],
          [
           3,
           -0.5,
           0
          ],
          [
           4,
           0,
           0
          ],
          [
           5,
           0.5,
           0
          ],
          [
           6,
           -0.5,
           0.5
          ],
          [
           7,
           0,
           0.5
          ],
          [
           8,
           0.5,
           0.5
          ],
          [
           0,
           -0.5,
           -0.5
          ],
          [
           1,
           0,
           -0.5
          ],
          [
           2,
           0.5,
           -0.5
          ],
          [
           3,
           -0.5,
           0
          ],
          [
           4,
           0,
           0
          ],
          [
           5,
           0.5,
           0
          ],
          [
           6,
           -0.5,
           0.5
          ],
          [
           7,
           0,
           0.5
          ],
          [
           8,
           0.5,
           0.5
          ],
          [
           0,
           -0.5,
           -0.5
          ],
          [
           1,
           0,
           -0.5
          ],
          [
           2,
           0.5,
           -0.5
          ],
          [
           3,
           -0.5,
           0
          ],
          [
           4,
           0,
           0
          ],
          [
           5,
           0.5,
           0
          ],
          [
           6,
           -0.5,
           0.5
          ],
          [
           7,
           0,
           0.5
          ],
          [
           8,
           0.5,
           0.5
          ],
          [
           0,
           -0.5,
           -0.5
          ],
          [
           1,
           0.5,
           -0.5
          ],
          [
           2,
           -0.5,
           0
          ],
          [
           3,
           0,
           0
          ],
          [
           4,
           0.5,
           0
          ],
          [
           5,
           0,
           0.5
          ],
          [
           6,
           0.5,
           0.5
          ],
          [
           0,
           -0.5,
           -0.5
          ],
          [
           1,
           0,
           -0.5
          ],
          [
           2,
           0.5,
           -0.5
          ],
          [
           3,
           -0.5,
           0
          ],
          [
           4,
           0,
           0
          ],
          [
           5,
           0.5,
           0
          ],
          [
           6,
           -0.5,
           0.5
          ],
          [
           7,
           0,
           0.5
          ],
          [
           8,
           0.5,
           0.5
          ],
          [
           0,
           0,
           -0.5
          ],
          [
           1,
           0.5,
           -0.5
          ],
          [
           2,
           -0.5,
           0
          ],
          [
           3,
           0,
           0
          ],
          [
           4,
           0.5,
           0
          ],
          [
           5,
           -0.5,
           0.5
          ],
          [
           6,
           0,
           0.5
          ],
          [
           7,
           0.5,
           0.5
          ],
          [
           0,
           -0.5,
           -0.5
          ],
          [
           1,
           0,
           -0.5
          ],
          [
           2,
           0.5,
           -0.5
          ],
          [
           3,
           -0.5,
           0
          ],
          [
           4,
           0,
           0
          ],
          [
           5,
           0.5,
           0
          ],
          [
           6,
           -0.5,
           0.5
          ],
          [
           7,
           0,
           0.5
          ],
          [
           8,
           0.5,
           0.5
          ],
          [
           0,
           -0.5,
           -0.5
          ],
          [
           1,
           0,
           -0.5
          ],
          [
           2,
           0.5,
           -0.5
          ],
          [
           3,
           0,
           0
          ],
          [
           4,
           0.5,
           0
          ],
          [
           5,
           -0.5,
           0.5
          ],
          [
           6,
           0,
           0.5
          ],
          [
           0,
           -0.5,
           -0.5
          ],
          [
           1,
           0,
           -0.5
          ],
          [
           2,
           0.5,
           -0.5
          ],
          [
           3,
           -0.5,
           0
          ],
          [
           4,
           0,
           0
          ],
          [
           5,
           0.5,
           0
          ],
          [
           6,
           -0.5,
           0.5
          ],
          [
           7,
           0,
           0.5
          ],
          [
           8,
           0.5,
           0.5
          ],
          [
           0,
           0,
           -0.5
          ],
          [
           1,
           0,
           0
          ],
          [
           2,
           0.5,
           0
          ],
          [
           3,
           0,
           0.5
          ],
          [
           4,
           0.5,
           0.5
          ],
          [
           0,
           -0.5,
           -0.5
          ],
          [
           1,
           0,
           -0.5
          ],
          [
           2,
           0.5,
           -0.5
          ],
          [
           3,
           -0.5,
           0
          ],
          [
           4,
           0,
           0
          ],
          [
           5,
           0.5,
           0
          ],
          [
           6,
           -0.5,
           0.5
          ],
          [
           7,
           0,
           0.5
          ],
          [
           8,
           0.5,
           0.5
          ],
          [
           0,
           -0.5,
           -0.5
          ],
          [
           1,
           0,
           -0.5
          ],
          [
           2,
           0.5,
           -0.5
          ],
          [
           3,
           -0.5,
           0
          ],
          [
           4,
           0,
           0
          ],
          [
           5,
           0.5,
           0
          ],
          [
           0,
           0.5,
           -0.5
          ],
          [
           1,
           -0.5,
           0
          ],
          [
           2,
           0,
           0
          ],
          [
           3,
           0.5,
           0
          ],
          [
           4,
           -0.5,
           0.5
          ],
          [
           5,
           0,
           0.5
          ],
          [
           6,
           0.5,
           0.5
          ],
          [
           0,
           -0.5,
           -0.5
          ],
          [
           1,
           0.5,
           -0.5
          ],
          [
           2,
           -0.5,
           0
          ],
          [
           3,
           0,
           0
          ],
          [
           4,
           0.5,
           0
          ],
          [
           5,
           -0.5,
           0.5
          ],
          [
           6,
           0.5,
           0.5
          ],
          [
           0,
           -0.5,
           -0.5
          ],
          [
           1,
           0,
           -0.5
          ],
          [
           2,
           0.5,
           -0.5
          ],
          [
           3,
           -0.5,
           0
          ],
          [
           4,
           0,
           0
          ],
          [
           5,
           0.5,
           0
          ],
          [
           6,
           -0.5,
           0.5
          ],
          [
           7,
           0,
           0.5
          ],
          [
           8,
           0.5,
           0.5
          ],
          [
           0,
           -0.5,
           -0.5
          ],
          [
           1,
           0,
           -0.5
          ],
          [
           2,
           0.5,
           -0.5
          ],
          [
           3,
           -0.5,
           0
          ],
          [
           4,
           0,
           0
          ],
          [
           5,
           0.5,
           0
          ],
          [
           6,
           -0.5,
           0.5
          ],
          [
           7,
           0,
           0.5
          ],
          [
           8,
           0.5,
           0.5
          ],
          [
           0,
           -0.5,
           -0.5
          ],
          [
           1,
           0,
           -0.5
          ],
          [
           2,
           0.5,
           -0.5
          ],
          [
           3,
           -0.5,
           0
          ],
          [
           4,
           0,
           0
          ],
          [
           5,
           0.5,
           0
          ],
          [
           6,
           -0.5,
           0.5
          ],
          [
           7,
           0,
           0.5
          ],
          [
           8,
           0.5,
           0.5
          ],
          [
           0,
           -0.5,
           -0.5
          ],
          [
           1,
           0,
           -0.5
          ],
          [
           2,
           0.5,
           -0.5
          ],
          [
           3,
           0,
           0
          ],
          [
           4,
           0.5,
           0
          ],
          [
           5,
           -0.5,
           0.5
          ],
          [
           6,
           0,
           0.5
          ],
          [
           7,
           0.5,
           0.5
          ],
          [
           0,
           -0.5,
           -0.5
          ],
          [
           1,
           0,
           -0.5
          ],
          [
           2,
           0.5,
           -0.5
          ],
          [
           3,
           -0.5,
           0
          ],
          [
           4,
           0.5,
           0
          ],
          [
           5,
           -0.5,
           0.5
          ],
          [
           6,
           0,
           0.5
          ],
          [
           0,
           -0.5,
           -0.5
          ],
          [
           1,
           0,
           -0.5
          ],
          [
           2,
           0.5,
           -0.5
          ],
          [
           0,
           0,
           0
          ],
          [
           1,
           0.5,
           0
          ],
          [
           2,
           0,
           0.5
          ],
          [
           3,
           0.5,
           0.5
          ],
          [
           0,
           -0.5,
           -0.5
          ],
          [
           1,
           0,
           -0.5
          ],
          [
           2,
           0.5,
           -0.5
          ],
          [
           3,
           -0.5,
           0
          ],
          [
           4,
           0,
           0
          ],
          [
           5,
           0.5,
           0
          ],
          [
           6,
           -0.5,
           0.5
          ],
          [
           7,
           0,
           0.5
          ],
          [
           8,
           0.5,
           0.5
          ],
          [
           0,
           -0.5,
           -0.5
          ],
          [
           1,
           0,
           -0.5
          ],
          [
           2,
           0.5,
           -0.5
          ],
          [
           3,
           -0.5,
           0
          ],
          [
           0,
           0,
           -0.5
          ],
          [
           1,
           0.5,
           -0.5
          ],
          [
           2,
           -0.5,
           0
          ],
          [
           3,
           0,
           0
          ],
          [
           4,
           0.5,
           0
          ],
          [
           5,
           -0.5,
           0.5
          ],
          [
           6,
           0,
           0.5
          ],
          [
           7,
           0.5,
           0.5
          ],
          [
           0,
           -0.5,
           -0.5
          ],
          [
           1,
           0,
           -0.5
          ],
          [
           2,
           0.5,
           -0.5
          ],
          [
           3,
           -0.5,
           0
          ],
          [
           4,
           0,
           0
          ],
          [
           5,
           0.5,
           0
          ],
          [
           6,
           -0.5,
           0.5
          ],
          [
           7,
           0,
           0.5
          ],
          [
           8,
           0.5,
           0.5
          ],
          [
           0,
           -0.5,
           -0.5
          ],
          [
           1,
           0,
           -0.5
          ],
          [
           2,
           0.5,
           -0.5
          ],
          [
           3,
           -0.5,
           0
          ],
          [
           4,
           0,
           0
          ],
          [
           5,
           0.5,
           0
          ],
          [
           6,
           -0.5,
           0.5
          ],
          [
           7,
           0,
           0.5
          ],
          [
           8,
           0.5,
           0.5
          ],
          [
           0,
           -0.5,
           -0.5
          ],
          [
           1,
           0,
           -0.5
          ],
          [
           2,
           0.5,
           -0.5
          ],
          [
           3,
           -0.5,
           0
          ],
          [
           4,
           -0.5,
           0.5
          ],
          [
           5,
           0,
           0.5
          ],
          [
           6,
           0.5,
           0.5
          ],
          [
           0,
           0,
           -0.5
          ],
          [
           1,
           0.5,
           -0.5
          ],
          [
           2,
           0,
           0
          ],
          [
           3,
           0.5,
           0
          ],
          [
           4,
           0,
           0.5
          ],
          [
           5,
           0.5,
           0.5
          ],
          [
           0,
           -0.5,
           -0.5
          ],
          [
           1,
           0,
           -0.5
          ],
          [
           2,
           0.5,
           -0.5
          ],
          [
           3,
           -0.5,
           0
          ],
          [
           4,
           0,
           0
          ],
          [
           5,
           0.5,
           0
          ],
          [
           6,
           -0.5,
           0.5
          ],
          [
           7,
           0,
           0.5
          ],
          [
           8,
           0.5,
           0.5
          ],
          [
           0,
           -0.5,
           -0.5
          ],
          [
           1,
           0,
           -0.5
          ],
          [
           2,
           0.5,
           -0.5
          ],
          [
           3,
           -0.5,
           0
          ],
          [
           4,
           0,
           0
          ],
          [
           5,
           0.5,
           0
          ],
          [
           6,
           -0.5,
           0.5
          ],
          [
           0,
           0,
           -0.5
          ],
          [
           1,
           -0.5,
           0
          ],
          [
           2,
           0,
           0
          ],
          [
           3,
           0.5,
           0
          ],
          [
           4,
           -0.5,
           0.5
          ],
          [
           5,
           0,
           0.5
          ],
          [
           6,
           0.5,
           0.5
          ],
          [
           0,
           -0.5,
           -0.5
          ],
          [
           1,
           0,
           -0.5
          ],
          [
           2,
           0.5,
           -0.5
          ],
          [
           3,
           0,
           0
          ],
          [
           4,
           0.5,
           0
          ],
          [
           5,
           -0.5,
           0.5
          ],
          [
           6,
           0,
           0.5
          ],
          [
           7,
           0.5,
           0.5
          ],
          [
           0,
           0,
           -0.5
          ],
          [
           0,
           0,
           -0.5
          ],
          [
           1,
           -0.5,
           0
          ],
          [
           0,
           0,
           -0.5
          ],
          [
           1,
           0.5,
           -0.5
          ],
          [
           0,
           0,
           0.5
          ],
          [
           0,
           -0.5,
           -0.5
          ],
          [
           1,
           0,
           -0.5
          ],
          [
           2,
           0.5,
           -0.5
          ],
          [
           3,
           -0.5,
           0
          ],
          [
           4,
           0,
           0
          ],
          [
           5,
           0.5,
           0
          ],
          [
           6,
           -0.5,
           0.5
          ],
          [
           7,
           0,
           0.5
          ],
          [
           8,
           0.5,
           0.5
          ],
          [
           0,
           -0.5,
           -0.5
          ],
          [
           1,
           0,
           -0.5
          ],
          [
           2,
           0.5,
           -0.5
          ],
          [
           3,
           -0.5,
           0
          ],
          [
           4,
           0,
           0
          ],
          [
           5,
           0.5,
           0
          ],
          [
           6,
           -0.5,
           0.5
          ],
          [
           0,
           0,
           -0.5
          ],
          [
           1,
           0.5,
           -0.5
          ],
          [
           2,
           0.5,
           0
          ],
          [
           0,
           -0.5,
           -0.5
          ],
          [
           1,
           0,
           -0.5
          ],
          [
           2,
           0.5,
           -0.5
          ],
          [
           0,
           -0.5,
           -0.5
          ],
          [
           1,
           0.5,
           0
          ],
          [
           2,
           0,
           0.5
          ],
          [
           3,
           0.5,
           0.5
          ],
          [
           0,
           -0.5,
           -0.5
          ],
          [
           1,
           0,
           0
          ],
          [
           2,
           -0.5,
           0.5
          ],
          [
           0,
           -0.5,
           -0.5
          ],
          [
           1,
           0,
           -0.5
          ],
          [
           2,
           0.5,
           -0.5
          ],
          [
           3,
           -0.5,
           0
          ],
          [
           4,
           0,
           0
          ],
          [
           5,
           0.5,
           0
          ],
          [
           6,
           -0.5,
           0.5
          ],
          [
           7,
           0,
           0.5
          ],
          [
           0,
           -0.5,
           -0.5
          ],
          [
           1,
           0,
           -0.5
          ],
          [
           2,
           0.5,
           -0.5
          ],
          [
           3,
           -0.5,
           0
          ],
          [
           4,
           0,
           0
          ],
          [
           5,
           0.5,
           0
          ],
          [
           6,
           0,
           0.5
          ],
          [
           7,
           0.5,
           0.5
          ],
          [
           0,
           0.5,
           -0.5
          ],
          [
           1,
           -0.5,
           0
          ],
          [
           2,
           0,
           0
          ],
          [
           3,
           0.5,
           0
          ],
          [
           4,
           -0.5,
           0.5
          ],
          [
           5,
           0,
           0.5
          ],
          [
           6,
           0.5,
           0.5
          ],
          [
           0,
           -0.5,
           -0.5
          ],
          [
           1,
           0,
           -0.5
          ],
          [
           2,
           0.5,
           -0.5
          ],
          [
           3,
           -0.5,
           0
          ],
          [
           4,
           0,
           0
          ],
          [
           5,
           0.5,
           0
          ],
          [
           6,
           -0.5,
           0.5
          ],
          [
           7,
           0,
           0.5
          ],
          [
           8,
           0.5,
           0.5
          ],
          [
           0,
           0,
           -0.5
          ],
          [
           1,
           0.5,
           -0.5
          ],
          [
           0,
           0.5,
           -0.5
          ],
          [
           1,
           -0.5,
           0
          ],
          [
           2,
           0,
           0
          ],
          [
           3,
           0.5,
           0
          ],
          [
           4,
           -0.5,
           0.5
          ],
          [
           5,
           0,
           0.5
          ],
          [
           6,
           0.5,
           0.5
          ],
          [
           0,
           -0.5,
           -0.5
          ],
          [
           1,
           0,
           -0.5
          ],
          [
           2,
           0.5,
           -0.5
          ],
          [
           3,
           -0.5,
           0
          ],
          [
           4,
           0,
           0
          ],
          [
           5,
           0.5,
           0
          ],
          [
           6,
           -0.5,
           0.5
          ],
          [
           7,
           0,
           0.5
          ],
          [
           8,
           0.5,
           0.5
          ],
          [
           0,
           -0.5,
           -0.5
          ],
          [
           1,
           -0.5,
           0
          ],
          [
           2,
           0,
           0
          ],
          [
           0,
           0,
           -0.5
          ],
          [
           1,
           0.5,
           -0.5
          ],
          [
           2,
           -0.5,
           0
          ],
          [
           3,
           0,
           0.5
          ],
          [
           4,
           0.5,
           0.5
          ],
          [
           0,
           -0.5,
           -0.5
          ],
          [
           1,
           0,
           -0.5
          ],
          [
           2,
           0.5,
           0
          ],
          [
           3,
           -0.5,
           0.5
          ],
          [
           4,
           0,
           0.5
          ],
          [
           5,
           0.5,
           0.5
          ],
          [
           0,
           -0.5,
           -0.5
          ],
          [
           1,
           0,
           -0.5
          ],
          [
           2,
           0.5,
           -0.5
          ],
          [
           3,
           0,
           0
          ],
          [
           4,
           0.5,
           0
          ],
          [
           5,
           -0.5,
           0.5
          ],
          [
           6,
           0,
           0.5
          ],
          [
           7,
           0.5,
           0.5
          ],
          [
           0,
           0.5,
           -0.5
          ],
          [
           1,
           0.5,
           0
          ],
          [
           2,
           0,
           0.5
          ],
          [
           3,
           0.5,
           0.5
          ],
          [
           0,
           0,
           -0.5
          ],
          [
           1,
           0.5,
           -0.5
          ],
          [
           2,
           0.5,
           0
          ],
          [
           3,
           -0.5,
           0.5
          ],
          [
           4,
           0,
           0.5
          ],
          [
           5,
           0.5,
           0.5
          ],
          [
           0,
           0,
           -0.5
          ],
          [
           1,
           0.5,
           -0.5
          ],
          [
           2,
           0,
           0
          ],
          [
           3,
           0.5,
           0
          ],
          [
           4,
           0,
           0.5
          ],
          [
           5,
           0.5,
           0.5
          ],
          [
           0,
           -0.5,
           -0.5
          ],
          [
           1,
           0,
           -0.5
          ],
          [
           2,
           0.5,
           -0.5
          ],
          [
           3,
           -0.5,
           0
          ],
          [
           4,
           0.5,
           0
          ],
          [
           5,
           0,
           0.5
          ],
          [
           6,
           0.5,
           0.5
          ],
          [
           0,
           -0.5,
           -0.5
          ],
          [
           1,
           0,
           -0.5
          ],
          [
           2,
           -0.5,
           0
          ],
          [
           3,
           0,
           0
          ],
          [
           4,
           0.5,
           0
          ],
          [
           5,
           -0.5,
           0.5
          ],
          [
           6,
           0,
           0.5
          ],
          [
           0,
           -0.5,
           -0.5
          ],
          [
           1,
           0,
           -0.5
          ],
          [
           2,
           0.5,
           -0.5
          ],
          [
           3,
           -0.5,
           0
          ],
          [
           4,
           0.5,
           0.5
          ],
          [
           0,
           -0.5,
           -0.5
          ],
          [
           1,
           0,
           -0.5
          ],
          [
           2,
           0.5,
           -0.5
          ],
          [
           3,
           -0.5,
           0
          ],
          [
           0,
           0,
           -0.5
          ],
          [
           1,
           0.5,
           0
          ],
          [
           2,
           0,
           0.5
          ],
          [
           0,
           0,
           -0.5
          ],
          [
           1,
           -0.5,
           0
          ],
          [
           2,
           0,
           0
          ],
          [
           3,
           0.5,
           0
          ],
          [
           4,
           -0.5,
           0.5
          ],
          [
           5,
           0,
           0.5
          ],
          [
           6,
           0.5,
           0.5
          ],
          [
           0,
           0.5,
           -0.5
          ],
          [
           1,
           -0.5,
           0
          ],
          [
           2,
           0,
           0
          ],
          [
           3,
           0,
           0.5
          ],
          [
           4,
           0.5,
           0.5
          ],
          [
           0,
           -0.5,
           -0.5
          ],
          [
           1,
           0,
           -0.5
          ],
          [
           2,
           0.5,
           -0.5
          ],
          [
           3,
           -0.5,
           0
          ],
          [
           4,
           0,
           0
          ],
          [
           5,
           0.5,
           0
          ],
          [
           6,
           -0.5,
           0.5
          ],
          [
           7,
           0,
           0.5
          ],
          [
           0,
           -0.5,
           -0.5
          ],
          [
           1,
           0,
           -0.5
          ],
          [
           2,
           0.5,
           -0.5
          ],
          [
           3,
           -0.5,
           0
          ],
          [
           4,
           0,
           0
          ],
          [
           5,
           0.5,
           0
          ],
          [
           6,
           -0.5,
           0.5
          ],
          [
           7,
           0,
           0.5
          ],
          [
           8,
           0.5,
           0.5
          ],
          [
           0,
           -0.5,
           -0.5
          ],
          [
           1,
           0.5,
           -0.5
          ]
         ],
         "hovertemplate": "<b>%{hovertext}</b><br><br>Camera=%{x}<br>residual=%{y}<br>beam_capture_index=%{customdata[0]}<br>projectionPoint_x=%{customdata[1]}<br>projectionPoint_y=%{customdata[2]}<br>Laser=%{marker.color}<extra></extra>",
         "hovertext": [
          1,
          1,
          1,
          1,
          1,
          1,
          1,
          1,
          1,
          2,
          2,
          2,
          2,
          2,
          2,
          2,
          2,
          2,
          3,
          3,
          3,
          3,
          3,
          3,
          3,
          3,
          3,
          4,
          4,
          4,
          4,
          4,
          4,
          4,
          4,
          4,
          12,
          12,
          12,
          12,
          12,
          12,
          12,
          12,
          12,
          7,
          7,
          7,
          7,
          7,
          7,
          7,
          7,
          7,
          8,
          8,
          8,
          8,
          8,
          8,
          8,
          8,
          8,
          10,
          10,
          10,
          10,
          10,
          10,
          10,
          10,
          10,
          11,
          11,
          11,
          11,
          11,
          11,
          11,
          11,
          13,
          13,
          13,
          13,
          13,
          13,
          13,
          13,
          13,
          14,
          14,
          14,
          14,
          14,
          14,
          14,
          14,
          16,
          16,
          16,
          16,
          16,
          16,
          16,
          17,
          17,
          17,
          17,
          17,
          17,
          17,
          17,
          18,
          18,
          18,
          18,
          18,
          18,
          18,
          18,
          19,
          19,
          19,
          19,
          19,
          19,
          19,
          22,
          22,
          22,
          22,
          22,
          22,
          22,
          22,
          22,
          25,
          25,
          25,
          25,
          25,
          25,
          28,
          28,
          28,
          28,
          28,
          28,
          28,
          28,
          28,
          30,
          30,
          30,
          30,
          30,
          30,
          30,
          30,
          31,
          31,
          31,
          31,
          31,
          31,
          31,
          31,
          31,
          32,
          32,
          32,
          32,
          32,
          32,
          32,
          32,
          32,
          34,
          34,
          34,
          34,
          34,
          34,
          34,
          34,
          34,
          35,
          35,
          35,
          35,
          35,
          35,
          35,
          35,
          37,
          37,
          37,
          37,
          37,
          37,
          37,
          37,
          37,
          38,
          38,
          38,
          38,
          38,
          38,
          38,
          38,
          38,
          33,
          33,
          33,
          33,
          33,
          33,
          33,
          33,
          33,
          40,
          40,
          40,
          40,
          40,
          40,
          40,
          40,
          40,
          1,
          1,
          1,
          1,
          1,
          1,
          1,
          1,
          2,
          2,
          2,
          2,
          2,
          2,
          2,
          2,
          3,
          3,
          3,
          3,
          3,
          3,
          3,
          3,
          3,
          4,
          4,
          4,
          4,
          4,
          4,
          4,
          4,
          4,
          12,
          12,
          12,
          12,
          12,
          12,
          12,
          12,
          7,
          7,
          7,
          7,
          7,
          7,
          7,
          7,
          7,
          8,
          8,
          8,
          8,
          8,
          8,
          8,
          8,
          8,
          10,
          10,
          10,
          10,
          10,
          10,
          10,
          10,
          10,
          11,
          11,
          11,
          11,
          11,
          11,
          11,
          11,
          11,
          13,
          13,
          13,
          13,
          13,
          13,
          13,
          14,
          14,
          14,
          14,
          14,
          14,
          14,
          14,
          14,
          15,
          15,
          15,
          15,
          15,
          15,
          15,
          15,
          15,
          16,
          16,
          16,
          16,
          16,
          16,
          16,
          16,
          17,
          17,
          17,
          17,
          17,
          17,
          17,
          17,
          17,
          18,
          18,
          18,
          18,
          18,
          18,
          18,
          18,
          18,
          26,
          26,
          26,
          26,
          26,
          26,
          28,
          28,
          28,
          28,
          28,
          28,
          28,
          28,
          28,
          29,
          29,
          29,
          29,
          29,
          29,
          29,
          29,
          29,
          30,
          30,
          30,
          30,
          30,
          30,
          30,
          30,
          30,
          31,
          31,
          31,
          31,
          31,
          31,
          31,
          31,
          32,
          32,
          32,
          32,
          32,
          32,
          32,
          32,
          32,
          34,
          34,
          34,
          34,
          34,
          34,
          35,
          35,
          35,
          35,
          35,
          35,
          35,
          35,
          35,
          36,
          36,
          36,
          36,
          36,
          36,
          36,
          36,
          36,
          37,
          37,
          37,
          37,
          37,
          37,
          37,
          37,
          38,
          38,
          38,
          38,
          38,
          38,
          38,
          33,
          33,
          33,
          33,
          33,
          33,
          33,
          33,
          33,
          1,
          1,
          1,
          1,
          1,
          1,
          1,
          1,
          1,
          2,
          2,
          2,
          2,
          2,
          2,
          2,
          2,
          2,
          4,
          4,
          4,
          4,
          4,
          4,
          4,
          4,
          4,
          8,
          8,
          8,
          8,
          8,
          8,
          8,
          8,
          8,
          10,
          10,
          10,
          10,
          10,
          10,
          10,
          10,
          11,
          11,
          11,
          11,
          11,
          11,
          11,
          11,
          11,
          13,
          13,
          13,
          13,
          13,
          13,
          13,
          13,
          13,
          14,
          14,
          14,
          14,
          14,
          14,
          14,
          14,
          14,
          15,
          15,
          15,
          15,
          15,
          15,
          15,
          15,
          15,
          16,
          16,
          16,
          16,
          16,
          16,
          16,
          16,
          17,
          17,
          17,
          17,
          17,
          17,
          17,
          17,
          17,
          18,
          18,
          18,
          18,
          18,
          18,
          18,
          18,
          18,
          19,
          19,
          19,
          19,
          19,
          19,
          19,
          19,
          19,
          22,
          22,
          22,
          22,
          22,
          22,
          22,
          22,
          22,
          25,
          25,
          25,
          25,
          25,
          26,
          26,
          26,
          26,
          26,
          29,
          29,
          29,
          29,
          29,
          29,
          29,
          29,
          31,
          31,
          31,
          31,
          31,
          31,
          31,
          31,
          32,
          32,
          32,
          32,
          32,
          32,
          32,
          32,
          32,
          34,
          34,
          34,
          34,
          34,
          34,
          34,
          34,
          34,
          36,
          36,
          36,
          36,
          36,
          36,
          36,
          36,
          36,
          37,
          37,
          37,
          37,
          37,
          37,
          37,
          37,
          37,
          38,
          38,
          38,
          38,
          38,
          38,
          38,
          38,
          38,
          2,
          2,
          2,
          2,
          2,
          2,
          2,
          2,
          4,
          4,
          4,
          4,
          4,
          4,
          4,
          4,
          8,
          8,
          8,
          8,
          8,
          8,
          10,
          10,
          10,
          10,
          10,
          10,
          10,
          10,
          10,
          14,
          14,
          14,
          14,
          14,
          14,
          14,
          14,
          14,
          15,
          15,
          15,
          15,
          15,
          15,
          15,
          15,
          15,
          16,
          16,
          16,
          16,
          16,
          16,
          16,
          16,
          16,
          17,
          17,
          17,
          17,
          17,
          17,
          17,
          17,
          17,
          18,
          18,
          18,
          18,
          18,
          18,
          18,
          18,
          18,
          19,
          22,
          22,
          22,
          22,
          22,
          22,
          22,
          22,
          25,
          25,
          25,
          25,
          25,
          25,
          26,
          26,
          26,
          26,
          26,
          28,
          28,
          28,
          28,
          28,
          28,
          28,
          29,
          29,
          29,
          29,
          29,
          29,
          29,
          30,
          30,
          30,
          30,
          30,
          30,
          30,
          30,
          31,
          31,
          31,
          31,
          31,
          31,
          31,
          32,
          32,
          32,
          32,
          32,
          32,
          32,
          32,
          34,
          34,
          34,
          34,
          34,
          34,
          34,
          34,
          35,
          35,
          35,
          35,
          35,
          35,
          36,
          36,
          36,
          36,
          36,
          36,
          36,
          36,
          36,
          37,
          37,
          37,
          37,
          37,
          37,
          37,
          37,
          37,
          33,
          33,
          33,
          33,
          33,
          33,
          33,
          33,
          33,
          40,
          40,
          40,
          40,
          40,
          40,
          40,
          40,
          40,
          8,
          9,
          9,
          9,
          23,
          23,
          23,
          23,
          23,
          23,
          23,
          23,
          24,
          24,
          24,
          24,
          24,
          24,
          24,
          24,
          1,
          1,
          1,
          1,
          1,
          1,
          1,
          1,
          8,
          8,
          8,
          8,
          8,
          9,
          9,
          9,
          9,
          9,
          23,
          23,
          23,
          23,
          23,
          23,
          23,
          23,
          24,
          24,
          24,
          24,
          24,
          24,
          24,
          24,
          30,
          30,
          30,
          40,
          40,
          1,
          1,
          1,
          1,
          1,
          1,
          1,
          4,
          4,
          4,
          4,
          4,
          4,
          4,
          4,
          4,
          12,
          12,
          12,
          12,
          12,
          12,
          12,
          12,
          12,
          7,
          7,
          7,
          7,
          7,
          7,
          7,
          7,
          7,
          8,
          8,
          8,
          8,
          8,
          8,
          8,
          8,
          8,
          9,
          9,
          9,
          9,
          9,
          9,
          9,
          9,
          9,
          10,
          10,
          10,
          10,
          10,
          10,
          10,
          10,
          10,
          13,
          13,
          13,
          13,
          13,
          13,
          13,
          13,
          13,
          14,
          14,
          14,
          14,
          14,
          14,
          14,
          15,
          15,
          15,
          15,
          15,
          15,
          15,
          15,
          15,
          16,
          16,
          16,
          16,
          16,
          16,
          16,
          16,
          17,
          17,
          17,
          17,
          17,
          17,
          17,
          17,
          17,
          18,
          18,
          18,
          18,
          18,
          18,
          18,
          18,
          18,
          19,
          19,
          19,
          19,
          19,
          19,
          19,
          19,
          22,
          22,
          22,
          22,
          22,
          22,
          22,
          23,
          23,
          23,
          23,
          23,
          23,
          24,
          24,
          24,
          24,
          24,
          24,
          24,
          24,
          24,
          25,
          25,
          25,
          25,
          25,
          25,
          26,
          26,
          26,
          26,
          26,
          26,
          26,
          26,
          26,
          28,
          28,
          28,
          28,
          28,
          28,
          28,
          28,
          28,
          29,
          29,
          29,
          29,
          29,
          29,
          29,
          29,
          30,
          30,
          30,
          30,
          30,
          30,
          30,
          30,
          30,
          31,
          31,
          31,
          31,
          31,
          31,
          31,
          31,
          32,
          32,
          32,
          32,
          32,
          32,
          32,
          32,
          36,
          36,
          36,
          36,
          36,
          36,
          36,
          37,
          37,
          37,
          37,
          37,
          37,
          37,
          37,
          37,
          38,
          38,
          38,
          38,
          38,
          38,
          38,
          38,
          38,
          33,
          33,
          33,
          33,
          33,
          33,
          33,
          33,
          33,
          40,
          40,
          40,
          40,
          40,
          40,
          40,
          40,
          40,
          20,
          20,
          22,
          22,
          22,
          22,
          22,
          22,
          23,
          23,
          23,
          23,
          23,
          23,
          23,
          23,
          24,
          24,
          24,
          24,
          24,
          24,
          24,
          24,
          1,
          1,
          1,
          1,
          1,
          1,
          1,
          1,
          1,
          2,
          2,
          2,
          2,
          2,
          2,
          2,
          2,
          4,
          4,
          4,
          4,
          4,
          4,
          4,
          4,
          5,
          5,
          5,
          5,
          5,
          5,
          5,
          5,
          5,
          12,
          12,
          12,
          12,
          12,
          12,
          12,
          12,
          12,
          7,
          7,
          7,
          7,
          7,
          7,
          7,
          7,
          8,
          8,
          8,
          8,
          8,
          8,
          8,
          8,
          8,
          9,
          9,
          9,
          9,
          9,
          9,
          9,
          9,
          9,
          10,
          10,
          10,
          10,
          10,
          10,
          10,
          10,
          10,
          11,
          11,
          11,
          11,
          11,
          11,
          11,
          11,
          11,
          13,
          13,
          13,
          13,
          13,
          13,
          13,
          13,
          13,
          15,
          15,
          15,
          15,
          15,
          15,
          15,
          15,
          15,
          17,
          17,
          17,
          17,
          17,
          17,
          17,
          18,
          18,
          18,
          18,
          18,
          18,
          18,
          18,
          18,
          19,
          19,
          19,
          19,
          19,
          19,
          19,
          19,
          22,
          22,
          22,
          22,
          22,
          22,
          22,
          22,
          22,
          23,
          23,
          23,
          23,
          23,
          23,
          23,
          24,
          24,
          24,
          24,
          24,
          24,
          24,
          24,
          24,
          25,
          25,
          25,
          25,
          25,
          28,
          28,
          28,
          28,
          28,
          28,
          28,
          28,
          28,
          30,
          30,
          30,
          30,
          30,
          30,
          31,
          31,
          31,
          31,
          31,
          31,
          31,
          32,
          32,
          32,
          32,
          32,
          32,
          32,
          36,
          36,
          36,
          36,
          36,
          36,
          36,
          36,
          36,
          37,
          37,
          37,
          37,
          37,
          37,
          37,
          37,
          37,
          38,
          38,
          38,
          38,
          38,
          38,
          38,
          38,
          38,
          33,
          33,
          33,
          33,
          33,
          33,
          33,
          33,
          40,
          40,
          40,
          40,
          40,
          40,
          40,
          9,
          9,
          9,
          20,
          20,
          20,
          20,
          21,
          21,
          21,
          21,
          21,
          21,
          21,
          21,
          21,
          22,
          22,
          22,
          22,
          26,
          26,
          26,
          26,
          26,
          26,
          26,
          26,
          9,
          9,
          9,
          9,
          9,
          9,
          9,
          9,
          9,
          15,
          15,
          15,
          15,
          15,
          15,
          15,
          15,
          15,
          19,
          19,
          19,
          19,
          19,
          19,
          19,
          20,
          20,
          20,
          20,
          20,
          20,
          21,
          21,
          21,
          21,
          21,
          21,
          21,
          21,
          21,
          22,
          22,
          22,
          22,
          22,
          22,
          22,
          26,
          26,
          26,
          26,
          26,
          26,
          26,
          9,
          9,
          9,
          9,
          9,
          9,
          9,
          9,
          15,
          19,
          19,
          21,
          21,
          22,
          26,
          26,
          26,
          26,
          26,
          26,
          26,
          26,
          26,
          1,
          1,
          1,
          1,
          1,
          1,
          1,
          5,
          5,
          5,
          12,
          12,
          12,
          9,
          9,
          9,
          9,
          10,
          10,
          10,
          16,
          16,
          16,
          16,
          16,
          16,
          16,
          16,
          26,
          26,
          26,
          26,
          26,
          26,
          26,
          26,
          28,
          28,
          28,
          28,
          28,
          28,
          28,
          1,
          1,
          1,
          1,
          1,
          1,
          1,
          1,
          1,
          5,
          5,
          9,
          9,
          9,
          9,
          9,
          9,
          9,
          10,
          10,
          10,
          10,
          10,
          10,
          10,
          10,
          10,
          16,
          16,
          16,
          26,
          26,
          26,
          26,
          26,
          28,
          28,
          28,
          28,
          28,
          28,
          1,
          1,
          1,
          1,
          1,
          1,
          1,
          1,
          5,
          5,
          5,
          5,
          12,
          12,
          12,
          12,
          12,
          12,
          9,
          9,
          9,
          9,
          9,
          9,
          10,
          10,
          10,
          10,
          10,
          10,
          10,
          16,
          16,
          16,
          16,
          16,
          16,
          16,
          26,
          26,
          26,
          26,
          26,
          28,
          28,
          28,
          28,
          1,
          1,
          1,
          5,
          5,
          5,
          5,
          5,
          5,
          5,
          12,
          12,
          12,
          12,
          12,
          9,
          9,
          9,
          9,
          9,
          9,
          9,
          9,
          10,
          10,
          10,
          10,
          10,
          10,
          10,
          10,
          10,
          28,
          28
         ],
         "legendgroup": "",
         "marker": {
          "color": [
           1,
           1,
           1,
           1,
           1,
           1,
           1,
           1,
           1,
           2,
           2,
           2,
           2,
           2,
           2,
           2,
           2,
           2,
           3,
           3,
           3,
           3,
           3,
           3,
           3,
           3,
           3,
           4,
           4,
           4,
           4,
           4,
           4,
           4,
           4,
           4,
           12,
           12,
           12,
           12,
           12,
           12,
           12,
           12,
           12,
           7,
           7,
           7,
           7,
           7,
           7,
           7,
           7,
           7,
           8,
           8,
           8,
           8,
           8,
           8,
           8,
           8,
           8,
           10,
           10,
           10,
           10,
           10,
           10,
           10,
           10,
           10,
           11,
           11,
           11,
           11,
           11,
           11,
           11,
           11,
           13,
           13,
           13,
           13,
           13,
           13,
           13,
           13,
           13,
           14,
           14,
           14,
           14,
           14,
           14,
           14,
           14,
           16,
           16,
           16,
           16,
           16,
           16,
           16,
           17,
           17,
           17,
           17,
           17,
           17,
           17,
           17,
           18,
           18,
           18,
           18,
           18,
           18,
           18,
           18,
           19,
           19,
           19,
           19,
           19,
           19,
           19,
           22,
           22,
           22,
           22,
           22,
           22,
           22,
           22,
           22,
           25,
           25,
           25,
           25,
           25,
           25,
           28,
           28,
           28,
           28,
           28,
           28,
           28,
           28,
           28,
           30,
           30,
           30,
           30,
           30,
           30,
           30,
           30,
           31,
           31,
           31,
           31,
           31,
           31,
           31,
           31,
           31,
           32,
           32,
           32,
           32,
           32,
           32,
           32,
           32,
           32,
           34,
           34,
           34,
           34,
           34,
           34,
           34,
           34,
           34,
           35,
           35,
           35,
           35,
           35,
           35,
           35,
           35,
           37,
           37,
           37,
           37,
           37,
           37,
           37,
           37,
           37,
           38,
           38,
           38,
           38,
           38,
           38,
           38,
           38,
           38,
           33,
           33,
           33,
           33,
           33,
           33,
           33,
           33,
           33,
           40,
           40,
           40,
           40,
           40,
           40,
           40,
           40,
           40,
           1,
           1,
           1,
           1,
           1,
           1,
           1,
           1,
           2,
           2,
           2,
           2,
           2,
           2,
           2,
           2,
           3,
           3,
           3,
           3,
           3,
           3,
           3,
           3,
           3,
           4,
           4,
           4,
           4,
           4,
           4,
           4,
           4,
           4,
           12,
           12,
           12,
           12,
           12,
           12,
           12,
           12,
           7,
           7,
           7,
           7,
           7,
           7,
           7,
           7,
           7,
           8,
           8,
           8,
           8,
           8,
           8,
           8,
           8,
           8,
           10,
           10,
           10,
           10,
           10,
           10,
           10,
           10,
           10,
           11,
           11,
           11,
           11,
           11,
           11,
           11,
           11,
           11,
           13,
           13,
           13,
           13,
           13,
           13,
           13,
           14,
           14,
           14,
           14,
           14,
           14,
           14,
           14,
           14,
           15,
           15,
           15,
           15,
           15,
           15,
           15,
           15,
           15,
           16,
           16,
           16,
           16,
           16,
           16,
           16,
           16,
           17,
           17,
           17,
           17,
           17,
           17,
           17,
           17,
           17,
           18,
           18,
           18,
           18,
           18,
           18,
           18,
           18,
           18,
           26,
           26,
           26,
           26,
           26,
           26,
           28,
           28,
           28,
           28,
           28,
           28,
           28,
           28,
           28,
           29,
           29,
           29,
           29,
           29,
           29,
           29,
           29,
           29,
           30,
           30,
           30,
           30,
           30,
           30,
           30,
           30,
           30,
           31,
           31,
           31,
           31,
           31,
           31,
           31,
           31,
           32,
           32,
           32,
           32,
           32,
           32,
           32,
           32,
           32,
           34,
           34,
           34,
           34,
           34,
           34,
           35,
           35,
           35,
           35,
           35,
           35,
           35,
           35,
           35,
           36,
           36,
           36,
           36,
           36,
           36,
           36,
           36,
           36,
           37,
           37,
           37,
           37,
           37,
           37,
           37,
           37,
           38,
           38,
           38,
           38,
           38,
           38,
           38,
           33,
           33,
           33,
           33,
           33,
           33,
           33,
           33,
           33,
           1,
           1,
           1,
           1,
           1,
           1,
           1,
           1,
           1,
           2,
           2,
           2,
           2,
           2,
           2,
           2,
           2,
           2,
           4,
           4,
           4,
           4,
           4,
           4,
           4,
           4,
           4,
           8,
           8,
           8,
           8,
           8,
           8,
           8,
           8,
           8,
           10,
           10,
           10,
           10,
           10,
           10,
           10,
           10,
           11,
           11,
           11,
           11,
           11,
           11,
           11,
           11,
           11,
           13,
           13,
           13,
           13,
           13,
           13,
           13,
           13,
           13,
           14,
           14,
           14,
           14,
           14,
           14,
           14,
           14,
           14,
           15,
           15,
           15,
           15,
           15,
           15,
           15,
           15,
           15,
           16,
           16,
           16,
           16,
           16,
           16,
           16,
           16,
           17,
           17,
           17,
           17,
           17,
           17,
           17,
           17,
           17,
           18,
           18,
           18,
           18,
           18,
           18,
           18,
           18,
           18,
           19,
           19,
           19,
           19,
           19,
           19,
           19,
           19,
           19,
           22,
           22,
           22,
           22,
           22,
           22,
           22,
           22,
           22,
           25,
           25,
           25,
           25,
           25,
           26,
           26,
           26,
           26,
           26,
           29,
           29,
           29,
           29,
           29,
           29,
           29,
           29,
           31,
           31,
           31,
           31,
           31,
           31,
           31,
           31,
           32,
           32,
           32,
           32,
           32,
           32,
           32,
           32,
           32,
           34,
           34,
           34,
           34,
           34,
           34,
           34,
           34,
           34,
           36,
           36,
           36,
           36,
           36,
           36,
           36,
           36,
           36,
           37,
           37,
           37,
           37,
           37,
           37,
           37,
           37,
           37,
           38,
           38,
           38,
           38,
           38,
           38,
           38,
           38,
           38,
           2,
           2,
           2,
           2,
           2,
           2,
           2,
           2,
           4,
           4,
           4,
           4,
           4,
           4,
           4,
           4,
           8,
           8,
           8,
           8,
           8,
           8,
           10,
           10,
           10,
           10,
           10,
           10,
           10,
           10,
           10,
           14,
           14,
           14,
           14,
           14,
           14,
           14,
           14,
           14,
           15,
           15,
           15,
           15,
           15,
           15,
           15,
           15,
           15,
           16,
           16,
           16,
           16,
           16,
           16,
           16,
           16,
           16,
           17,
           17,
           17,
           17,
           17,
           17,
           17,
           17,
           17,
           18,
           18,
           18,
           18,
           18,
           18,
           18,
           18,
           18,
           19,
           22,
           22,
           22,
           22,
           22,
           22,
           22,
           22,
           25,
           25,
           25,
           25,
           25,
           25,
           26,
           26,
           26,
           26,
           26,
           28,
           28,
           28,
           28,
           28,
           28,
           28,
           29,
           29,
           29,
           29,
           29,
           29,
           29,
           30,
           30,
           30,
           30,
           30,
           30,
           30,
           30,
           31,
           31,
           31,
           31,
           31,
           31,
           31,
           32,
           32,
           32,
           32,
           32,
           32,
           32,
           32,
           34,
           34,
           34,
           34,
           34,
           34,
           34,
           34,
           35,
           35,
           35,
           35,
           35,
           35,
           36,
           36,
           36,
           36,
           36,
           36,
           36,
           36,
           36,
           37,
           37,
           37,
           37,
           37,
           37,
           37,
           37,
           37,
           33,
           33,
           33,
           33,
           33,
           33,
           33,
           33,
           33,
           40,
           40,
           40,
           40,
           40,
           40,
           40,
           40,
           40,
           8,
           9,
           9,
           9,
           23,
           23,
           23,
           23,
           23,
           23,
           23,
           23,
           24,
           24,
           24,
           24,
           24,
           24,
           24,
           24,
           1,
           1,
           1,
           1,
           1,
           1,
           1,
           1,
           8,
           8,
           8,
           8,
           8,
           9,
           9,
           9,
           9,
           9,
           23,
           23,
           23,
           23,
           23,
           23,
           23,
           23,
           24,
           24,
           24,
           24,
           24,
           24,
           24,
           24,
           30,
           30,
           30,
           40,
           40,
           1,
           1,
           1,
           1,
           1,
           1,
           1,
           4,
           4,
           4,
           4,
           4,
           4,
           4,
           4,
           4,
           12,
           12,
           12,
           12,
           12,
           12,
           12,
           12,
           12,
           7,
           7,
           7,
           7,
           7,
           7,
           7,
           7,
           7,
           8,
           8,
           8,
           8,
           8,
           8,
           8,
           8,
           8,
           9,
           9,
           9,
           9,
           9,
           9,
           9,
           9,
           9,
           10,
           10,
           10,
           10,
           10,
           10,
           10,
           10,
           10,
           13,
           13,
           13,
           13,
           13,
           13,
           13,
           13,
           13,
           14,
           14,
           14,
           14,
           14,
           14,
           14,
           15,
           15,
           15,
           15,
           15,
           15,
           15,
           15,
           15,
           16,
           16,
           16,
           16,
           16,
           16,
           16,
           16,
           17,
           17,
           17,
           17,
           17,
           17,
           17,
           17,
           17,
           18,
           18,
           18,
           18,
           18,
           18,
           18,
           18,
           18,
           19,
           19,
           19,
           19,
           19,
           19,
           19,
           19,
           22,
           22,
           22,
           22,
           22,
           22,
           22,
           23,
           23,
           23,
           23,
           23,
           23,
           24,
           24,
           24,
           24,
           24,
           24,
           24,
           24,
           24,
           25,
           25,
           25,
           25,
           25,
           25,
           26,
           26,
           26,
           26,
           26,
           26,
           26,
           26,
           26,
           28,
           28,
           28,
           28,
           28,
           28,
           28,
           28,
           28,
           29,
           29,
           29,
           29,
           29,
           29,
           29,
           29,
           30,
           30,
           30,
           30,
           30,
           30,
           30,
           30,
           30,
           31,
           31,
           31,
           31,
           31,
           31,
           31,
           31,
           32,
           32,
           32,
           32,
           32,
           32,
           32,
           32,
           36,
           36,
           36,
           36,
           36,
           36,
           36,
           37,
           37,
           37,
           37,
           37,
           37,
           37,
           37,
           37,
           38,
           38,
           38,
           38,
           38,
           38,
           38,
           38,
           38,
           33,
           33,
           33,
           33,
           33,
           33,
           33,
           33,
           33,
           40,
           40,
           40,
           40,
           40,
           40,
           40,
           40,
           40,
           20,
           20,
           22,
           22,
           22,
           22,
           22,
           22,
           23,
           23,
           23,
           23,
           23,
           23,
           23,
           23,
           24,
           24,
           24,
           24,
           24,
           24,
           24,
           24,
           1,
           1,
           1,
           1,
           1,
           1,
           1,
           1,
           1,
           2,
           2,
           2,
           2,
           2,
           2,
           2,
           2,
           4,
           4,
           4,
           4,
           4,
           4,
           4,
           4,
           5,
           5,
           5,
           5,
           5,
           5,
           5,
           5,
           5,
           12,
           12,
           12,
           12,
           12,
           12,
           12,
           12,
           12,
           7,
           7,
           7,
           7,
           7,
           7,
           7,
           7,
           8,
           8,
           8,
           8,
           8,
           8,
           8,
           8,
           8,
           9,
           9,
           9,
           9,
           9,
           9,
           9,
           9,
           9,
           10,
           10,
           10,
           10,
           10,
           10,
           10,
           10,
           10,
           11,
           11,
           11,
           11,
           11,
           11,
           11,
           11,
           11,
           13,
           13,
           13,
           13,
           13,
           13,
           13,
           13,
           13,
           15,
           15,
           15,
           15,
           15,
           15,
           15,
           15,
           15,
           17,
           17,
           17,
           17,
           17,
           17,
           17,
           18,
           18,
           18,
           18,
           18,
           18,
           18,
           18,
           18,
           19,
           19,
           19,
           19,
           19,
           19,
           19,
           19,
           22,
           22,
           22,
           22,
           22,
           22,
           22,
           22,
           22,
           23,
           23,
           23,
           23,
           23,
           23,
           23,
           24,
           24,
           24,
           24,
           24,
           24,
           24,
           24,
           24,
           25,
           25,
           25,
           25,
           25,
           28,
           28,
           28,
           28,
           28,
           28,
           28,
           28,
           28,
           30,
           30,
           30,
           30,
           30,
           30,
           31,
           31,
           31,
           31,
           31,
           31,
           31,
           32,
           32,
           32,
           32,
           32,
           32,
           32,
           36,
           36,
           36,
           36,
           36,
           36,
           36,
           36,
           36,
           37,
           37,
           37,
           37,
           37,
           37,
           37,
           37,
           37,
           38,
           38,
           38,
           38,
           38,
           38,
           38,
           38,
           38,
           33,
           33,
           33,
           33,
           33,
           33,
           33,
           33,
           40,
           40,
           40,
           40,
           40,
           40,
           40,
           9,
           9,
           9,
           20,
           20,
           20,
           20,
           21,
           21,
           21,
           21,
           21,
           21,
           21,
           21,
           21,
           22,
           22,
           22,
           22,
           26,
           26,
           26,
           26,
           26,
           26,
           26,
           26,
           9,
           9,
           9,
           9,
           9,
           9,
           9,
           9,
           9,
           15,
           15,
           15,
           15,
           15,
           15,
           15,
           15,
           15,
           19,
           19,
           19,
           19,
           19,
           19,
           19,
           20,
           20,
           20,
           20,
           20,
           20,
           21,
           21,
           21,
           21,
           21,
           21,
           21,
           21,
           21,
           22,
           22,
           22,
           22,
           22,
           22,
           22,
           26,
           26,
           26,
           26,
           26,
           26,
           26,
           9,
           9,
           9,
           9,
           9,
           9,
           9,
           9,
           15,
           19,
           19,
           21,
           21,
           22,
           26,
           26,
           26,
           26,
           26,
           26,
           26,
           26,
           26,
           1,
           1,
           1,
           1,
           1,
           1,
           1,
           5,
           5,
           5,
           12,
           12,
           12,
           9,
           9,
           9,
           9,
           10,
           10,
           10,
           16,
           16,
           16,
           16,
           16,
           16,
           16,
           16,
           26,
           26,
           26,
           26,
           26,
           26,
           26,
           26,
           28,
           28,
           28,
           28,
           28,
           28,
           28,
           1,
           1,
           1,
           1,
           1,
           1,
           1,
           1,
           1,
           5,
           5,
           9,
           9,
           9,
           9,
           9,
           9,
           9,
           10,
           10,
           10,
           10,
           10,
           10,
           10,
           10,
           10,
           16,
           16,
           16,
           26,
           26,
           26,
           26,
           26,
           28,
           28,
           28,
           28,
           28,
           28,
           1,
           1,
           1,
           1,
           1,
           1,
           1,
           1,
           5,
           5,
           5,
           5,
           12,
           12,
           12,
           12,
           12,
           12,
           9,
           9,
           9,
           9,
           9,
           9,
           10,
           10,
           10,
           10,
           10,
           10,
           10,
           16,
           16,
           16,
           16,
           16,
           16,
           16,
           26,
           26,
           26,
           26,
           26,
           28,
           28,
           28,
           28,
           1,
           1,
           1,
           5,
           5,
           5,
           5,
           5,
           5,
           5,
           12,
           12,
           12,
           12,
           12,
           9,
           9,
           9,
           9,
           9,
           9,
           9,
           9,
           10,
           10,
           10,
           10,
           10,
           10,
           10,
           10,
           10,
           28,
           28
          ],
          "coloraxis": "coloraxis",
          "pattern": {
           "shape": ""
          }
         },
         "name": "",
         "offsetgroup": "",
         "orientation": "v",
         "showlegend": false,
         "textposition": "auto",
         "type": "bar",
         "x": [
          "Thu 2022.05.19 23:08",
          "Thu 2022.05.19 23:08",
          "Thu 2022.05.19 23:08",
          "Thu 2022.05.19 23:08",
          "Thu 2022.05.19 23:08",
          "Thu 2022.05.19 23:08",
          "Thu 2022.05.19 23:08",
          "Thu 2022.05.19 23:08",
          "Thu 2022.05.19 23:08",
          "Thu 2022.05.19 23:08",
          "Thu 2022.05.19 23:08",
          "Thu 2022.05.19 23:08",
          "Thu 2022.05.19 23:08",
          "Thu 2022.05.19 23:08",
          "Thu 2022.05.19 23:08",
          "Thu 2022.05.19 23:08",
          "Thu 2022.05.19 23:08",
          "Thu 2022.05.19 23:08",
          "Thu 2022.05.19 23:08",
          "Thu 2022.05.19 23:08",
          "Thu 2022.05.19 23:08",
          "Thu 2022.05.19 23:08",
          "Thu 2022.05.19 23:08",
          "Thu 2022.05.19 23:08",
          "Thu 2022.05.19 23:08",
          "Thu 2022.05.19 23:08",
          "Thu 2022.05.19 23:08",
          "Thu 2022.05.19 23:08",
          "Thu 2022.05.19 23:08",
          "Thu 2022.05.19 23:08",
          "Thu 2022.05.19 23:08",
          "Thu 2022.05.19 23:08",
          "Thu 2022.05.19 23:08",
          "Thu 2022.05.19 23:08",
          "Thu 2022.05.19 23:08",
          "Thu 2022.05.19 23:08",
          "Thu 2022.05.19 23:08",
          "Thu 2022.05.19 23:08",
          "Thu 2022.05.19 23:08",
          "Thu 2022.05.19 23:08",
          "Thu 2022.05.19 23:08",
          "Thu 2022.05.19 23:08",
          "Thu 2022.05.19 23:08",
          "Thu 2022.05.19 23:08",
          "Thu 2022.05.19 23:08",
          "Thu 2022.05.19 23:08",
          "Thu 2022.05.19 23:08",
          "Thu 2022.05.19 23:08",
          "Thu 2022.05.19 23:08",
          "Thu 2022.05.19 23:08",
          "Thu 2022.05.19 23:08",
          "Thu 2022.05.19 23:08",
          "Thu 2022.05.19 23:08",
          "Thu 2022.05.19 23:08",
          "Thu 2022.05.19 23:08",
          "Thu 2022.05.19 23:08",
          "Thu 2022.05.19 23:08",
          "Thu 2022.05.19 23:08",
          "Thu 2022.05.19 23:08",
          "Thu 2022.05.19 23:08",
          "Thu 2022.05.19 23:08",
          "Thu 2022.05.19 23:08",
          "Thu 2022.05.19 23:08",
          "Thu 2022.05.19 23:08",
          "Thu 2022.05.19 23:08",
          "Thu 2022.05.19 23:08",
          "Thu 2022.05.19 23:08",
          "Thu 2022.05.19 23:08",
          "Thu 2022.05.19 23:08",
          "Thu 2022.05.19 23:08",
          "Thu 2022.05.19 23:08",
          "Thu 2022.05.19 23:08",
          "Thu 2022.05.19 23:08",
          "Thu 2022.05.19 23:08",
          "Thu 2022.05.19 23:08",
          "Thu 2022.05.19 23:08",
          "Thu 2022.05.19 23:08",
          "Thu 2022.05.19 23:08",
          "Thu 2022.05.19 23:08",
          "Thu 2022.05.19 23:08",
          "Thu 2022.05.19 23:08",
          "Thu 2022.05.19 23:08",
          "Thu 2022.05.19 23:08",
          "Thu 2022.05.19 23:08",
          "Thu 2022.05.19 23:08",
          "Thu 2022.05.19 23:08",
          "Thu 2022.05.19 23:08",
          "Thu 2022.05.19 23:08",
          "Thu 2022.05.19 23:08",
          "Thu 2022.05.19 23:08",
          "Thu 2022.05.19 23:08",
          "Thu 2022.05.19 23:08",
          "Thu 2022.05.19 23:08",
          "Thu 2022.05.19 23:08",
          "Thu 2022.05.19 23:08",
          "Thu 2022.05.19 23:08",
          "Thu 2022.05.19 23:08",
          "Thu 2022.05.19 23:08",
          "Thu 2022.05.19 23:08",
          "Thu 2022.05.19 23:08",
          "Thu 2022.05.19 23:08",
          "Thu 2022.05.19 23:08",
          "Thu 2022.05.19 23:08",
          "Thu 2022.05.19 23:08",
          "Thu 2022.05.19 23:08",
          "Thu 2022.05.19 23:08",
          "Thu 2022.05.19 23:08",
          "Thu 2022.05.19 23:08",
          "Thu 2022.05.19 23:08",
          "Thu 2022.05.19 23:08",
          "Thu 2022.05.19 23:08",
          "Thu 2022.05.19 23:08",
          "Thu 2022.05.19 23:08",
          "Thu 2022.05.19 23:08",
          "Thu 2022.05.19 23:08",
          "Thu 2022.05.19 23:08",
          "Thu 2022.05.19 23:08",
          "Thu 2022.05.19 23:08",
          "Thu 2022.05.19 23:08",
          "Thu 2022.05.19 23:08",
          "Thu 2022.05.19 23:08",
          "Thu 2022.05.19 23:08",
          "Thu 2022.05.19 23:08",
          "Thu 2022.05.19 23:08",
          "Thu 2022.05.19 23:08",
          "Thu 2022.05.19 23:08",
          "Thu 2022.05.19 23:08",
          "Thu 2022.05.19 23:08",
          "Thu 2022.05.19 23:08",
          "Thu 2022.05.19 23:08",
          "Thu 2022.05.19 23:08",
          "Thu 2022.05.19 23:08",
          "Thu 2022.05.19 23:08",
          "Thu 2022.05.19 23:08",
          "Thu 2022.05.19 23:08",
          "Thu 2022.05.19 23:08",
          "Thu 2022.05.19 23:08",
          "Thu 2022.05.19 23:08",
          "Thu 2022.05.19 23:08",
          "Thu 2022.05.19 23:08",
          "Thu 2022.05.19 23:08",
          "Thu 2022.05.19 23:08",
          "Thu 2022.05.19 23:08",
          "Thu 2022.05.19 23:08",
          "Thu 2022.05.19 23:08",
          "Thu 2022.05.19 23:08",
          "Thu 2022.05.19 23:08",
          "Thu 2022.05.19 23:08",
          "Thu 2022.05.19 23:08",
          "Thu 2022.05.19 23:08",
          "Thu 2022.05.19 23:08",
          "Thu 2022.05.19 23:08",
          "Thu 2022.05.19 23:08",
          "Thu 2022.05.19 23:08",
          "Thu 2022.05.19 23:08",
          "Thu 2022.05.19 23:08",
          "Thu 2022.05.19 23:08",
          "Thu 2022.05.19 23:08",
          "Thu 2022.05.19 23:08",
          "Thu 2022.05.19 23:08",
          "Thu 2022.05.19 23:08",
          "Thu 2022.05.19 23:08",
          "Thu 2022.05.19 23:08",
          "Thu 2022.05.19 23:08",
          "Thu 2022.05.19 23:08",
          "Thu 2022.05.19 23:08",
          "Thu 2022.05.19 23:08",
          "Thu 2022.05.19 23:08",
          "Thu 2022.05.19 23:08",
          "Thu 2022.05.19 23:08",
          "Thu 2022.05.19 23:08",
          "Thu 2022.05.19 23:08",
          "Thu 2022.05.19 23:08",
          "Thu 2022.05.19 23:08",
          "Thu 2022.05.19 23:08",
          "Thu 2022.05.19 23:08",
          "Thu 2022.05.19 23:08",
          "Thu 2022.05.19 23:08",
          "Thu 2022.05.19 23:08",
          "Thu 2022.05.19 23:08",
          "Thu 2022.05.19 23:08",
          "Thu 2022.05.19 23:08",
          "Thu 2022.05.19 23:08",
          "Thu 2022.05.19 23:08",
          "Thu 2022.05.19 23:08",
          "Thu 2022.05.19 23:08",
          "Thu 2022.05.19 23:08",
          "Thu 2022.05.19 23:08",
          "Thu 2022.05.19 23:08",
          "Thu 2022.05.19 23:08",
          "Thu 2022.05.19 23:08",
          "Thu 2022.05.19 23:08",
          "Thu 2022.05.19 23:08",
          "Thu 2022.05.19 23:08",
          "Thu 2022.05.19 23:08",
          "Thu 2022.05.19 23:08",
          "Thu 2022.05.19 23:08",
          "Thu 2022.05.19 23:08",
          "Thu 2022.05.19 23:08",
          "Thu 2022.05.19 23:08",
          "Thu 2022.05.19 23:08",
          "Thu 2022.05.19 23:08",
          "Thu 2022.05.19 23:08",
          "Thu 2022.05.19 23:08",
          "Thu 2022.05.19 23:08",
          "Thu 2022.05.19 23:08",
          "Thu 2022.05.19 23:08",
          "Thu 2022.05.19 23:08",
          "Thu 2022.05.19 23:08",
          "Thu 2022.05.19 23:08",
          "Thu 2022.05.19 23:08",
          "Thu 2022.05.19 23:08",
          "Thu 2022.05.19 23:08",
          "Thu 2022.05.19 23:08",
          "Thu 2022.05.19 23:08",
          "Thu 2022.05.19 23:08",
          "Thu 2022.05.19 23:08",
          "Thu 2022.05.19 23:08",
          "Thu 2022.05.19 23:08",
          "Thu 2022.05.19 23:08",
          "Thu 2022.05.19 23:08",
          "Thu 2022.05.19 23:08",
          "Thu 2022.05.19 23:08",
          "Thu 2022.05.19 23:08",
          "Thu 2022.05.19 23:08",
          "Thu 2022.05.19 23:08",
          "Thu 2022.05.19 23:08",
          "Thu 2022.05.19 23:08",
          "Thu 2022.05.19 23:08",
          "Thu 2022.05.19 23:08",
          "Thu 2022.05.19 23:55",
          "Thu 2022.05.19 23:55",
          "Thu 2022.05.19 23:55",
          "Thu 2022.05.19 23:55",
          "Thu 2022.05.19 23:55",
          "Thu 2022.05.19 23:55",
          "Thu 2022.05.19 23:55",
          "Thu 2022.05.19 23:55",
          "Thu 2022.05.19 23:55",
          "Thu 2022.05.19 23:55",
          "Thu 2022.05.19 23:55",
          "Thu 2022.05.19 23:55",
          "Thu 2022.05.19 23:55",
          "Thu 2022.05.19 23:55",
          "Thu 2022.05.19 23:55",
          "Thu 2022.05.19 23:55",
          "Thu 2022.05.19 23:55",
          "Thu 2022.05.19 23:55",
          "Thu 2022.05.19 23:55",
          "Thu 2022.05.19 23:55",
          "Thu 2022.05.19 23:55",
          "Thu 2022.05.19 23:55",
          "Thu 2022.05.19 23:55",
          "Thu 2022.05.19 23:55",
          "Thu 2022.05.19 23:55",
          "Thu 2022.05.19 23:55",
          "Thu 2022.05.19 23:55",
          "Thu 2022.05.19 23:55",
          "Thu 2022.05.19 23:55",
          "Thu 2022.05.19 23:55",
          "Thu 2022.05.19 23:55",
          "Thu 2022.05.19 23:55",
          "Thu 2022.05.19 23:55",
          "Thu 2022.05.19 23:55",
          "Thu 2022.05.19 23:55",
          "Thu 2022.05.19 23:55",
          "Thu 2022.05.19 23:55",
          "Thu 2022.05.19 23:55",
          "Thu 2022.05.19 23:55",
          "Thu 2022.05.19 23:55",
          "Thu 2022.05.19 23:55",
          "Thu 2022.05.19 23:55",
          "Thu 2022.05.19 23:55",
          "Thu 2022.05.19 23:55",
          "Thu 2022.05.19 23:55",
          "Thu 2022.05.19 23:55",
          "Thu 2022.05.19 23:55",
          "Thu 2022.05.19 23:55",
          "Thu 2022.05.19 23:55",
          "Thu 2022.05.19 23:55",
          "Thu 2022.05.19 23:55",
          "Thu 2022.05.19 23:55",
          "Thu 2022.05.19 23:55",
          "Thu 2022.05.19 23:55",
          "Thu 2022.05.19 23:55",
          "Thu 2022.05.19 23:55",
          "Thu 2022.05.19 23:55",
          "Thu 2022.05.19 23:55",
          "Thu 2022.05.19 23:55",
          "Thu 2022.05.19 23:55",
          "Thu 2022.05.19 23:55",
          "Thu 2022.05.19 23:55",
          "Thu 2022.05.19 23:55",
          "Thu 2022.05.19 23:55",
          "Thu 2022.05.19 23:55",
          "Thu 2022.05.19 23:55",
          "Thu 2022.05.19 23:55",
          "Thu 2022.05.19 23:55",
          "Thu 2022.05.19 23:55",
          "Thu 2022.05.19 23:55",
          "Thu 2022.05.19 23:55",
          "Thu 2022.05.19 23:55",
          "Thu 2022.05.19 23:55",
          "Thu 2022.05.19 23:55",
          "Thu 2022.05.19 23:55",
          "Thu 2022.05.19 23:55",
          "Thu 2022.05.19 23:55",
          "Thu 2022.05.19 23:55",
          "Thu 2022.05.19 23:55",
          "Thu 2022.05.19 23:55",
          "Thu 2022.05.19 23:55",
          "Thu 2022.05.19 23:55",
          "Thu 2022.05.19 23:55",
          "Thu 2022.05.19 23:55",
          "Thu 2022.05.19 23:55",
          "Thu 2022.05.19 23:55",
          "Thu 2022.05.19 23:55",
          "Thu 2022.05.19 23:55",
          "Thu 2022.05.19 23:55",
          "Thu 2022.05.19 23:55",
          "Thu 2022.05.19 23:55",
          "Thu 2022.05.19 23:55",
          "Thu 2022.05.19 23:55",
          "Thu 2022.05.19 23:55",
          "Thu 2022.05.19 23:55",
          "Thu 2022.05.19 23:55",
          "Thu 2022.05.19 23:55",
          "Thu 2022.05.19 23:55",
          "Thu 2022.05.19 23:55",
          "Thu 2022.05.19 23:55",
          "Thu 2022.05.19 23:55",
          "Thu 2022.05.19 23:55",
          "Thu 2022.05.19 23:55",
          "Thu 2022.05.19 23:55",
          "Thu 2022.05.19 23:55",
          "Thu 2022.05.19 23:55",
          "Thu 2022.05.19 23:55",
          "Thu 2022.05.19 23:55",
          "Thu 2022.05.19 23:55",
          "Thu 2022.05.19 23:55",
          "Thu 2022.05.19 23:55",
          "Thu 2022.05.19 23:55",
          "Thu 2022.05.19 23:55",
          "Thu 2022.05.19 23:55",
          "Thu 2022.05.19 23:55",
          "Thu 2022.05.19 23:55",
          "Thu 2022.05.19 23:55",
          "Thu 2022.05.19 23:55",
          "Thu 2022.05.19 23:55",
          "Thu 2022.05.19 23:55",
          "Thu 2022.05.19 23:55",
          "Thu 2022.05.19 23:55",
          "Thu 2022.05.19 23:55",
          "Thu 2022.05.19 23:55",
          "Thu 2022.05.19 23:55",
          "Thu 2022.05.19 23:55",
          "Thu 2022.05.19 23:55",
          "Thu 2022.05.19 23:55",
          "Thu 2022.05.19 23:55",
          "Thu 2022.05.19 23:55",
          "Thu 2022.05.19 23:55",
          "Thu 2022.05.19 23:55",
          "Thu 2022.05.19 23:55",
          "Thu 2022.05.19 23:55",
          "Thu 2022.05.19 23:55",
          "Thu 2022.05.19 23:55",
          "Thu 2022.05.19 23:55",
          "Thu 2022.05.19 23:55",
          "Thu 2022.05.19 23:55",
          "Thu 2022.05.19 23:55",
          "Thu 2022.05.19 23:55",
          "Thu 2022.05.19 23:55",
          "Thu 2022.05.19 23:55",
          "Thu 2022.05.19 23:55",
          "Thu 2022.05.19 23:55",
          "Thu 2022.05.19 23:55",
          "Thu 2022.05.19 23:55",
          "Thu 2022.05.19 23:55",
          "Thu 2022.05.19 23:55",
          "Thu 2022.05.19 23:55",
          "Thu 2022.05.19 23:55",
          "Thu 2022.05.19 23:55",
          "Thu 2022.05.19 23:55",
          "Thu 2022.05.19 23:55",
          "Thu 2022.05.19 23:55",
          "Thu 2022.05.19 23:55",
          "Thu 2022.05.19 23:55",
          "Thu 2022.05.19 23:55",
          "Thu 2022.05.19 23:55",
          "Thu 2022.05.19 23:55",
          "Thu 2022.05.19 23:55",
          "Thu 2022.05.19 23:55",
          "Thu 2022.05.19 23:55",
          "Thu 2022.05.19 23:55",
          "Thu 2022.05.19 23:55",
          "Thu 2022.05.19 23:55",
          "Thu 2022.05.19 23:55",
          "Thu 2022.05.19 23:55",
          "Thu 2022.05.19 23:55",
          "Thu 2022.05.19 23:55",
          "Thu 2022.05.19 23:55",
          "Thu 2022.05.19 23:55",
          "Thu 2022.05.19 23:55",
          "Thu 2022.05.19 23:55",
          "Thu 2022.05.19 23:55",
          "Thu 2022.05.19 23:55",
          "Thu 2022.05.19 23:55",
          "Thu 2022.05.19 23:55",
          "Thu 2022.05.19 23:55",
          "Thu 2022.05.19 23:55",
          "Thu 2022.05.19 23:55",
          "Thu 2022.05.19 23:55",
          "Thu 2022.05.19 23:55",
          "Thu 2022.05.19 23:55",
          "Thu 2022.05.19 23:55",
          "Thu 2022.05.19 23:55",
          "Thu 2022.05.19 23:55",
          "Thu 2022.05.19 23:55",
          "Thu 2022.05.19 23:55",
          "Thu 2022.05.19 23:55",
          "Thu 2022.05.19 23:55",
          "Thu 2022.05.19 23:55",
          "Thu 2022.05.19 23:55",
          "Thu 2022.05.19 23:55",
          "Thu 2022.05.19 23:55",
          "Thu 2022.05.19 23:55",
          "Thu 2022.05.19 23:55",
          "Thu 2022.05.19 23:55",
          "Thu 2022.05.19 23:55",
          "Thu 2022.05.19 23:55",
          "Thu 2022.05.19 23:55",
          "Thu 2022.05.19 23:55",
          "Thu 2022.05.19 23:55",
          "Thu 2022.05.19 23:55",
          "Thu 2022.05.19 23:55",
          "Thu 2022.05.19 23:55",
          "Thu 2022.05.19 23:55",
          "Thu 2022.05.19 23:55",
          "Thu 2022.05.19 23:55",
          "Thu 2022.05.19 23:55",
          "Thu 2022.05.19 23:55",
          "Thu 2022.05.19 23:55",
          "Thu 2022.05.19 23:55",
          "Thu 2022.05.19 23:55",
          "Thu 2022.05.19 23:55",
          "Thu 2022.05.19 23:55",
          "Thu 2022.05.19 23:55",
          "Thu 2022.05.19 23:55",
          "Thu 2022.05.19 23:55",
          "Thu 2022.05.19 23:55",
          "Thu 2022.05.19 23:55",
          "Thu 2022.05.19 23:55",
          "Thu 2022.05.19 23:55",
          "Thu 2022.05.19 23:55",
          "Thu 2022.05.19 23:55",
          "Thu 2022.05.19 23:55",
          "Thu 2022.05.19 23:55",
          "Fri 2022.05.20 00:41",
          "Fri 2022.05.20 00:41",
          "Fri 2022.05.20 00:41",
          "Fri 2022.05.20 00:41",
          "Fri 2022.05.20 00:41",
          "Fri 2022.05.20 00:41",
          "Fri 2022.05.20 00:41",
          "Fri 2022.05.20 00:41",
          "Fri 2022.05.20 00:41",
          "Fri 2022.05.20 00:41",
          "Fri 2022.05.20 00:41",
          "Fri 2022.05.20 00:41",
          "Fri 2022.05.20 00:41",
          "Fri 2022.05.20 00:41",
          "Fri 2022.05.20 00:41",
          "Fri 2022.05.20 00:41",
          "Fri 2022.05.20 00:41",
          "Fri 2022.05.20 00:41",
          "Fri 2022.05.20 00:41",
          "Fri 2022.05.20 00:41",
          "Fri 2022.05.20 00:41",
          "Fri 2022.05.20 00:41",
          "Fri 2022.05.20 00:41",
          "Fri 2022.05.20 00:41",
          "Fri 2022.05.20 00:41",
          "Fri 2022.05.20 00:41",
          "Fri 2022.05.20 00:41",
          "Fri 2022.05.20 00:41",
          "Fri 2022.05.20 00:41",
          "Fri 2022.05.20 00:41",
          "Fri 2022.05.20 00:41",
          "Fri 2022.05.20 00:41",
          "Fri 2022.05.20 00:41",
          "Fri 2022.05.20 00:41",
          "Fri 2022.05.20 00:41",
          "Fri 2022.05.20 00:41",
          "Fri 2022.05.20 00:41",
          "Fri 2022.05.20 00:41",
          "Fri 2022.05.20 00:41",
          "Fri 2022.05.20 00:41",
          "Fri 2022.05.20 00:41",
          "Fri 2022.05.20 00:41",
          "Fri 2022.05.20 00:41",
          "Fri 2022.05.20 00:41",
          "Fri 2022.05.20 00:41",
          "Fri 2022.05.20 00:41",
          "Fri 2022.05.20 00:41",
          "Fri 2022.05.20 00:41",
          "Fri 2022.05.20 00:41",
          "Fri 2022.05.20 00:41",
          "Fri 2022.05.20 00:41",
          "Fri 2022.05.20 00:41",
          "Fri 2022.05.20 00:41",
          "Fri 2022.05.20 00:41",
          "Fri 2022.05.20 00:41",
          "Fri 2022.05.20 00:41",
          "Fri 2022.05.20 00:41",
          "Fri 2022.05.20 00:41",
          "Fri 2022.05.20 00:41",
          "Fri 2022.05.20 00:41",
          "Fri 2022.05.20 00:41",
          "Fri 2022.05.20 00:41",
          "Fri 2022.05.20 00:41",
          "Fri 2022.05.20 00:41",
          "Fri 2022.05.20 00:41",
          "Fri 2022.05.20 00:41",
          "Fri 2022.05.20 00:41",
          "Fri 2022.05.20 00:41",
          "Fri 2022.05.20 00:41",
          "Fri 2022.05.20 00:41",
          "Fri 2022.05.20 00:41",
          "Fri 2022.05.20 00:41",
          "Fri 2022.05.20 00:41",
          "Fri 2022.05.20 00:41",
          "Fri 2022.05.20 00:41",
          "Fri 2022.05.20 00:41",
          "Fri 2022.05.20 00:41",
          "Fri 2022.05.20 00:41",
          "Fri 2022.05.20 00:41",
          "Fri 2022.05.20 00:41",
          "Fri 2022.05.20 00:41",
          "Fri 2022.05.20 00:41",
          "Fri 2022.05.20 00:41",
          "Fri 2022.05.20 00:41",
          "Fri 2022.05.20 00:41",
          "Fri 2022.05.20 00:41",
          "Fri 2022.05.20 00:41",
          "Fri 2022.05.20 00:41",
          "Fri 2022.05.20 00:41",
          "Fri 2022.05.20 00:41",
          "Fri 2022.05.20 00:41",
          "Fri 2022.05.20 00:41",
          "Fri 2022.05.20 00:41",
          "Fri 2022.05.20 00:41",
          "Fri 2022.05.20 00:41",
          "Fri 2022.05.20 00:41",
          "Fri 2022.05.20 00:41",
          "Fri 2022.05.20 00:41",
          "Fri 2022.05.20 00:41",
          "Fri 2022.05.20 00:41",
          "Fri 2022.05.20 00:41",
          "Fri 2022.05.20 00:41",
          "Fri 2022.05.20 00:41",
          "Fri 2022.05.20 00:41",
          "Fri 2022.05.20 00:41",
          "Fri 2022.05.20 00:41",
          "Fri 2022.05.20 00:41",
          "Fri 2022.05.20 00:41",
          "Fri 2022.05.20 00:41",
          "Fri 2022.05.20 00:41",
          "Fri 2022.05.20 00:41",
          "Fri 2022.05.20 00:41",
          "Fri 2022.05.20 00:41",
          "Fri 2022.05.20 00:41",
          "Fri 2022.05.20 00:41",
          "Fri 2022.05.20 00:41",
          "Fri 2022.05.20 00:41",
          "Fri 2022.05.20 00:41",
          "Fri 2022.05.20 00:41",
          "Fri 2022.05.20 00:41",
          "Fri 2022.05.20 00:41",
          "Fri 2022.05.20 00:41",
          "Fri 2022.05.20 00:41",
          "Fri 2022.05.20 00:41",
          "Fri 2022.05.20 00:41",
          "Fri 2022.05.20 00:41",
          "Fri 2022.05.20 00:41",
          "Fri 2022.05.20 00:41",
          "Fri 2022.05.20 00:41",
          "Fri 2022.05.20 00:41",
          "Fri 2022.05.20 00:41",
          "Fri 2022.05.20 00:41",
          "Fri 2022.05.20 00:41",
          "Fri 2022.05.20 00:41",
          "Fri 2022.05.20 00:41",
          "Fri 2022.05.20 00:41",
          "Fri 2022.05.20 00:41",
          "Fri 2022.05.20 00:41",
          "Fri 2022.05.20 00:41",
          "Fri 2022.05.20 00:41",
          "Fri 2022.05.20 00:41",
          "Fri 2022.05.20 00:41",
          "Fri 2022.05.20 00:41",
          "Fri 2022.05.20 00:41",
          "Fri 2022.05.20 00:41",
          "Fri 2022.05.20 00:41",
          "Fri 2022.05.20 00:41",
          "Fri 2022.05.20 00:41",
          "Fri 2022.05.20 00:41",
          "Fri 2022.05.20 00:41",
          "Fri 2022.05.20 00:41",
          "Fri 2022.05.20 00:41",
          "Fri 2022.05.20 00:41",
          "Fri 2022.05.20 00:41",
          "Fri 2022.05.20 00:41",
          "Fri 2022.05.20 00:41",
          "Fri 2022.05.20 00:41",
          "Fri 2022.05.20 00:41",
          "Fri 2022.05.20 00:41",
          "Fri 2022.05.20 00:41",
          "Fri 2022.05.20 00:41",
          "Fri 2022.05.20 00:41",
          "Fri 2022.05.20 00:41",
          "Fri 2022.05.20 00:41",
          "Fri 2022.05.20 00:41",
          "Fri 2022.05.20 00:41",
          "Fri 2022.05.20 00:41",
          "Fri 2022.05.20 00:41",
          "Fri 2022.05.20 00:41",
          "Fri 2022.05.20 00:41",
          "Fri 2022.05.20 00:41",
          "Fri 2022.05.20 00:41",
          "Fri 2022.05.20 00:41",
          "Fri 2022.05.20 00:41",
          "Fri 2022.05.20 00:41",
          "Fri 2022.05.20 00:41",
          "Fri 2022.05.20 00:41",
          "Fri 2022.05.20 00:41",
          "Fri 2022.05.20 00:41",
          "Fri 2022.05.20 00:41",
          "Fri 2022.05.20 00:41",
          "Fri 2022.05.20 00:41",
          "Fri 2022.05.20 00:41",
          "Fri 2022.05.20 00:41",
          "Fri 2022.05.20 00:41",
          "Fri 2022.05.20 00:41",
          "Fri 2022.05.20 00:41",
          "Fri 2022.05.20 00:41",
          "Fri 2022.05.20 00:41",
          "Fri 2022.05.20 00:41",
          "Fri 2022.05.20 00:41",
          "Fri 2022.05.20 00:41",
          "Fri 2022.05.20 00:41",
          "Fri 2022.05.20 00:41",
          "Fri 2022.05.20 00:41",
          "Fri 2022.05.20 01:22",
          "Fri 2022.05.20 01:22",
          "Fri 2022.05.20 01:22",
          "Fri 2022.05.20 01:22",
          "Fri 2022.05.20 01:22",
          "Fri 2022.05.20 01:22",
          "Fri 2022.05.20 01:22",
          "Fri 2022.05.20 01:22",
          "Fri 2022.05.20 01:22",
          "Fri 2022.05.20 01:22",
          "Fri 2022.05.20 01:22",
          "Fri 2022.05.20 01:22",
          "Fri 2022.05.20 01:22",
          "Fri 2022.05.20 01:22",
          "Fri 2022.05.20 01:22",
          "Fri 2022.05.20 01:22",
          "Fri 2022.05.20 01:22",
          "Fri 2022.05.20 01:22",
          "Fri 2022.05.20 01:22",
          "Fri 2022.05.20 01:22",
          "Fri 2022.05.20 01:22",
          "Fri 2022.05.20 01:22",
          "Fri 2022.05.20 01:22",
          "Fri 2022.05.20 01:22",
          "Fri 2022.05.20 01:22",
          "Fri 2022.05.20 01:22",
          "Fri 2022.05.20 01:22",
          "Fri 2022.05.20 01:22",
          "Fri 2022.05.20 01:22",
          "Fri 2022.05.20 01:22",
          "Fri 2022.05.20 01:22",
          "Fri 2022.05.20 01:22",
          "Fri 2022.05.20 01:22",
          "Fri 2022.05.20 01:22",
          "Fri 2022.05.20 01:22",
          "Fri 2022.05.20 01:22",
          "Fri 2022.05.20 01:22",
          "Fri 2022.05.20 01:22",
          "Fri 2022.05.20 01:22",
          "Fri 2022.05.20 01:22",
          "Fri 2022.05.20 01:22",
          "Fri 2022.05.20 01:22",
          "Fri 2022.05.20 01:22",
          "Fri 2022.05.20 01:22",
          "Fri 2022.05.20 01:22",
          "Fri 2022.05.20 01:22",
          "Fri 2022.05.20 01:22",
          "Fri 2022.05.20 01:22",
          "Fri 2022.05.20 01:22",
          "Fri 2022.05.20 01:22",
          "Fri 2022.05.20 01:22",
          "Fri 2022.05.20 01:22",
          "Fri 2022.05.20 01:22",
          "Fri 2022.05.20 01:22",
          "Fri 2022.05.20 01:22",
          "Fri 2022.05.20 01:22",
          "Fri 2022.05.20 01:22",
          "Fri 2022.05.20 01:22",
          "Fri 2022.05.20 01:22",
          "Fri 2022.05.20 01:22",
          "Fri 2022.05.20 01:22",
          "Fri 2022.05.20 01:22",
          "Fri 2022.05.20 01:22",
          "Fri 2022.05.20 01:22",
          "Fri 2022.05.20 01:22",
          "Fri 2022.05.20 01:22",
          "Fri 2022.05.20 01:22",
          "Fri 2022.05.20 01:22",
          "Fri 2022.05.20 01:22",
          "Fri 2022.05.20 01:22",
          "Fri 2022.05.20 01:22",
          "Fri 2022.05.20 01:22",
          "Fri 2022.05.20 01:22",
          "Fri 2022.05.20 01:22",
          "Fri 2022.05.20 01:22",
          "Fri 2022.05.20 01:22",
          "Fri 2022.05.20 01:22",
          "Fri 2022.05.20 01:22",
          "Fri 2022.05.20 01:22",
          "Fri 2022.05.20 01:22",
          "Fri 2022.05.20 01:22",
          "Fri 2022.05.20 01:22",
          "Fri 2022.05.20 01:22",
          "Fri 2022.05.20 01:22",
          "Fri 2022.05.20 01:22",
          "Fri 2022.05.20 01:22",
          "Fri 2022.05.20 01:22",
          "Fri 2022.05.20 01:22",
          "Fri 2022.05.20 01:22",
          "Fri 2022.05.20 01:22",
          "Fri 2022.05.20 01:22",
          "Fri 2022.05.20 01:22",
          "Fri 2022.05.20 01:22",
          "Fri 2022.05.20 01:22",
          "Fri 2022.05.20 01:22",
          "Fri 2022.05.20 01:22",
          "Fri 2022.05.20 01:22",
          "Fri 2022.05.20 01:22",
          "Fri 2022.05.20 01:22",
          "Fri 2022.05.20 01:22",
          "Fri 2022.05.20 01:22",
          "Fri 2022.05.20 01:22",
          "Fri 2022.05.20 01:22",
          "Fri 2022.05.20 01:22",
          "Fri 2022.05.20 01:22",
          "Fri 2022.05.20 01:22",
          "Fri 2022.05.20 01:22",
          "Fri 2022.05.20 01:22",
          "Fri 2022.05.20 01:22",
          "Fri 2022.05.20 01:22",
          "Fri 2022.05.20 01:22",
          "Fri 2022.05.20 01:22",
          "Fri 2022.05.20 01:22",
          "Fri 2022.05.20 01:22",
          "Fri 2022.05.20 01:22",
          "Fri 2022.05.20 01:22",
          "Fri 2022.05.20 01:22",
          "Fri 2022.05.20 01:22",
          "Fri 2022.05.20 01:22",
          "Fri 2022.05.20 01:22",
          "Fri 2022.05.20 01:22",
          "Fri 2022.05.20 01:22",
          "Fri 2022.05.20 01:22",
          "Fri 2022.05.20 01:22",
          "Fri 2022.05.20 01:22",
          "Fri 2022.05.20 01:22",
          "Fri 2022.05.20 01:22",
          "Fri 2022.05.20 01:22",
          "Fri 2022.05.20 01:22",
          "Fri 2022.05.20 01:22",
          "Fri 2022.05.20 01:22",
          "Fri 2022.05.20 01:22",
          "Fri 2022.05.20 01:22",
          "Fri 2022.05.20 01:22",
          "Fri 2022.05.20 01:22",
          "Fri 2022.05.20 01:22",
          "Fri 2022.05.20 01:22",
          "Fri 2022.05.20 01:22",
          "Fri 2022.05.20 01:22",
          "Fri 2022.05.20 01:22",
          "Fri 2022.05.20 01:22",
          "Fri 2022.05.20 01:22",
          "Fri 2022.05.20 01:22",
          "Fri 2022.05.20 01:22",
          "Fri 2022.05.20 01:22",
          "Fri 2022.05.20 01:22",
          "Fri 2022.05.20 01:22",
          "Fri 2022.05.20 01:22",
          "Fri 2022.05.20 01:22",
          "Fri 2022.05.20 01:22",
          "Fri 2022.05.20 01:22",
          "Fri 2022.05.20 01:22",
          "Fri 2022.05.20 01:22",
          "Fri 2022.05.20 01:22",
          "Fri 2022.05.20 01:22",
          "Fri 2022.05.20 01:22",
          "Fri 2022.05.20 01:22",
          "Fri 2022.05.20 01:22",
          "Fri 2022.05.20 01:22",
          "Fri 2022.05.20 01:22",
          "Fri 2022.05.20 01:22",
          "Fri 2022.05.20 01:22",
          "Fri 2022.05.20 01:22",
          "Fri 2022.05.20 01:22",
          "Fri 2022.05.20 01:22",
          "Fri 2022.05.20 01:22",
          "Fri 2022.05.20 01:22",
          "Fri 2022.05.20 01:22",
          "Fri 2022.05.20 01:22",
          "Fri 2022.05.20 01:22",
          "Fri 2022.05.20 01:22",
          "Fri 2022.05.20 01:22",
          "Fri 2022.05.20 01:22",
          "Fri 2022.05.20 01:22",
          "Fri 2022.05.20 01:22",
          "Fri 2022.05.20 01:22",
          "Fri 2022.05.20 01:22",
          "Fri 2022.05.20 01:22",
          "Fri 2022.05.20 01:22",
          "Fri 2022.05.20 01:22",
          "Fri 2022.05.20 01:22",
          "Fri 2022.05.20 01:22",
          "Fri 2022.05.20 01:22",
          "Fri 2022.05.20 22:46",
          "Fri 2022.05.20 22:46",
          "Fri 2022.05.20 22:46",
          "Fri 2022.05.20 22:46",
          "Fri 2022.05.20 22:46",
          "Fri 2022.05.20 22:46",
          "Fri 2022.05.20 22:46",
          "Fri 2022.05.20 22:46",
          "Fri 2022.05.20 22:46",
          "Fri 2022.05.20 22:46",
          "Fri 2022.05.20 22:46",
          "Fri 2022.05.20 22:46",
          "Fri 2022.05.20 22:46",
          "Fri 2022.05.20 22:46",
          "Fri 2022.05.20 22:46",
          "Fri 2022.05.20 22:46",
          "Fri 2022.05.20 22:46",
          "Fri 2022.05.20 22:46",
          "Fri 2022.05.20 22:46",
          "Fri 2022.05.20 22:46",
          "Fri 2022.05.20 23:03",
          "Fri 2022.05.20 23:03",
          "Fri 2022.05.20 23:03",
          "Fri 2022.05.20 23:03",
          "Fri 2022.05.20 23:03",
          "Fri 2022.05.20 23:03",
          "Fri 2022.05.20 23:03",
          "Fri 2022.05.20 23:03",
          "Fri 2022.05.20 23:03",
          "Fri 2022.05.20 23:03",
          "Fri 2022.05.20 23:03",
          "Fri 2022.05.20 23:03",
          "Fri 2022.05.20 23:03",
          "Fri 2022.05.20 23:03",
          "Fri 2022.05.20 23:03",
          "Fri 2022.05.20 23:03",
          "Fri 2022.05.20 23:03",
          "Fri 2022.05.20 23:03",
          "Fri 2022.05.20 23:03",
          "Fri 2022.05.20 23:03",
          "Fri 2022.05.20 23:03",
          "Fri 2022.05.20 23:03",
          "Fri 2022.05.20 23:03",
          "Fri 2022.05.20 23:03",
          "Fri 2022.05.20 23:03",
          "Fri 2022.05.20 23:03",
          "Fri 2022.05.20 23:03",
          "Fri 2022.05.20 23:03",
          "Fri 2022.05.20 23:03",
          "Fri 2022.05.20 23:03",
          "Fri 2022.05.20 23:03",
          "Fri 2022.05.20 23:03",
          "Fri 2022.05.20 23:03",
          "Fri 2022.05.20 23:03",
          "Fri 2022.05.20 23:03",
          "Fri 2022.05.20 23:03",
          "Fri 2022.05.20 23:03",
          "Fri 2022.05.20 23:03",
          "Fri 2022.05.20 23:03",
          "Fri 2022.05.20 23:18",
          "Fri 2022.05.20 23:18",
          "Fri 2022.05.20 23:18",
          "Fri 2022.05.20 23:18",
          "Fri 2022.05.20 23:18",
          "Fri 2022.05.20 23:18",
          "Fri 2022.05.20 23:18",
          "Fri 2022.05.20 23:18",
          "Fri 2022.05.20 23:18",
          "Fri 2022.05.20 23:18",
          "Fri 2022.05.20 23:18",
          "Fri 2022.05.20 23:18",
          "Fri 2022.05.20 23:18",
          "Fri 2022.05.20 23:18",
          "Fri 2022.05.20 23:18",
          "Fri 2022.05.20 23:18",
          "Fri 2022.05.20 23:18",
          "Fri 2022.05.20 23:18",
          "Fri 2022.05.20 23:18",
          "Fri 2022.05.20 23:18",
          "Fri 2022.05.20 23:18",
          "Fri 2022.05.20 23:18",
          "Fri 2022.05.20 23:18",
          "Fri 2022.05.20 23:18",
          "Fri 2022.05.20 23:18",
          "Fri 2022.05.20 23:18",
          "Fri 2022.05.20 23:18",
          "Fri 2022.05.20 23:18",
          "Fri 2022.05.20 23:18",
          "Fri 2022.05.20 23:18",
          "Fri 2022.05.20 23:18",
          "Fri 2022.05.20 23:18",
          "Fri 2022.05.20 23:18",
          "Fri 2022.05.20 23:18",
          "Fri 2022.05.20 23:18",
          "Fri 2022.05.20 23:18",
          "Fri 2022.05.20 23:18",
          "Fri 2022.05.20 23:18",
          "Fri 2022.05.20 23:18",
          "Fri 2022.05.20 23:18",
          "Fri 2022.05.20 23:18",
          "Fri 2022.05.20 23:18",
          "Fri 2022.05.20 23:18",
          "Fri 2022.05.20 23:18",
          "Fri 2022.05.20 23:18",
          "Fri 2022.05.20 23:18",
          "Fri 2022.05.20 23:18",
          "Fri 2022.05.20 23:18",
          "Fri 2022.05.20 23:18",
          "Fri 2022.05.20 23:18",
          "Fri 2022.05.20 23:18",
          "Fri 2022.05.20 23:18",
          "Fri 2022.05.20 23:18",
          "Fri 2022.05.20 23:18",
          "Fri 2022.05.20 23:18",
          "Fri 2022.05.20 23:18",
          "Fri 2022.05.20 23:18",
          "Fri 2022.05.20 23:18",
          "Fri 2022.05.20 23:18",
          "Fri 2022.05.20 23:18",
          "Fri 2022.05.20 23:18",
          "Fri 2022.05.20 23:18",
          "Fri 2022.05.20 23:18",
          "Fri 2022.05.20 23:18",
          "Fri 2022.05.20 23:18",
          "Fri 2022.05.20 23:18",
          "Fri 2022.05.20 23:18",
          "Fri 2022.05.20 23:18",
          "Fri 2022.05.20 23:18",
          "Fri 2022.05.20 23:18",
          "Fri 2022.05.20 23:18",
          "Fri 2022.05.20 23:18",
          "Fri 2022.05.20 23:18",
          "Fri 2022.05.20 23:18",
          "Fri 2022.05.20 23:18",
          "Fri 2022.05.20 23:18",
          "Fri 2022.05.20 23:18",
          "Fri 2022.05.20 23:18",
          "Fri 2022.05.20 23:18",
          "Fri 2022.05.20 23:18",
          "Fri 2022.05.20 23:18",
          "Fri 2022.05.20 23:18",
          "Fri 2022.05.20 23:18",
          "Fri 2022.05.20 23:18",
          "Fri 2022.05.20 23:18",
          "Fri 2022.05.20 23:18",
          "Fri 2022.05.20 23:18",
          "Fri 2022.05.20 23:18",
          "Fri 2022.05.20 23:18",
          "Fri 2022.05.20 23:18",
          "Fri 2022.05.20 23:18",
          "Fri 2022.05.20 23:18",
          "Fri 2022.05.20 23:18",
          "Fri 2022.05.20 23:18",
          "Fri 2022.05.20 23:18",
          "Fri 2022.05.20 23:18",
          "Fri 2022.05.20 23:18",
          "Fri 2022.05.20 23:18",
          "Fri 2022.05.20 23:18",
          "Fri 2022.05.20 23:18",
          "Fri 2022.05.20 23:18",
          "Fri 2022.05.20 23:18",
          "Fri 2022.05.20 23:18",
          "Fri 2022.05.20 23:18",
          "Fri 2022.05.20 23:18",
          "Fri 2022.05.20 23:18",
          "Fri 2022.05.20 23:18",
          "Fri 2022.05.20 23:18",
          "Fri 2022.05.20 23:18",
          "Fri 2022.05.20 23:18",
          "Fri 2022.05.20 23:18",
          "Fri 2022.05.20 23:18",
          "Fri 2022.05.20 23:18",
          "Fri 2022.05.20 23:18",
          "Fri 2022.05.20 23:18",
          "Fri 2022.05.20 23:18",
          "Fri 2022.05.20 23:18",
          "Fri 2022.05.20 23:18",
          "Fri 2022.05.20 23:18",
          "Fri 2022.05.20 23:18",
          "Fri 2022.05.20 23:18",
          "Fri 2022.05.20 23:18",
          "Fri 2022.05.20 23:18",
          "Fri 2022.05.20 23:18",
          "Fri 2022.05.20 23:18",
          "Fri 2022.05.20 23:18",
          "Fri 2022.05.20 23:18",
          "Fri 2022.05.20 23:18",
          "Fri 2022.05.20 23:18",
          "Fri 2022.05.20 23:18",
          "Fri 2022.05.20 23:18",
          "Fri 2022.05.20 23:18",
          "Fri 2022.05.20 23:18",
          "Fri 2022.05.20 23:18",
          "Fri 2022.05.20 23:18",
          "Fri 2022.05.20 23:18",
          "Fri 2022.05.20 23:18",
          "Fri 2022.05.20 23:18",
          "Fri 2022.05.20 23:18",
          "Fri 2022.05.20 23:18",
          "Fri 2022.05.20 23:18",
          "Fri 2022.05.20 23:18",
          "Fri 2022.05.20 23:18",
          "Fri 2022.05.20 23:18",
          "Fri 2022.05.20 23:18",
          "Fri 2022.05.20 23:18",
          "Fri 2022.05.20 23:18",
          "Fri 2022.05.20 23:18",
          "Fri 2022.05.20 23:18",
          "Fri 2022.05.20 23:18",
          "Fri 2022.05.20 23:18",
          "Fri 2022.05.20 23:18",
          "Fri 2022.05.20 23:18",
          "Fri 2022.05.20 23:18",
          "Fri 2022.05.20 23:18",
          "Fri 2022.05.20 23:18",
          "Fri 2022.05.20 23:18",
          "Fri 2022.05.20 23:18",
          "Fri 2022.05.20 23:18",
          "Fri 2022.05.20 23:18",
          "Fri 2022.05.20 23:18",
          "Fri 2022.05.20 23:18",
          "Fri 2022.05.20 23:18",
          "Fri 2022.05.20 23:18",
          "Fri 2022.05.20 23:18",
          "Fri 2022.05.20 23:18",
          "Fri 2022.05.20 23:18",
          "Fri 2022.05.20 23:18",
          "Fri 2022.05.20 23:18",
          "Fri 2022.05.20 23:18",
          "Fri 2022.05.20 23:18",
          "Fri 2022.05.20 23:18",
          "Fri 2022.05.20 23:18",
          "Fri 2022.05.20 23:18",
          "Fri 2022.05.20 23:18",
          "Fri 2022.05.20 23:18",
          "Fri 2022.05.20 23:18",
          "Fri 2022.05.20 23:18",
          "Fri 2022.05.20 23:18",
          "Fri 2022.05.20 23:18",
          "Fri 2022.05.20 23:18",
          "Fri 2022.05.20 23:18",
          "Fri 2022.05.20 23:18",
          "Fri 2022.05.20 23:18",
          "Fri 2022.05.20 23:18",
          "Fri 2022.05.20 23:18",
          "Fri 2022.05.20 23:18",
          "Fri 2022.05.20 23:18",
          "Fri 2022.05.20 23:18",
          "Fri 2022.05.20 23:18",
          "Fri 2022.05.20 23:18",
          "Fri 2022.05.20 23:18",
          "Fri 2022.05.20 23:18",
          "Fri 2022.05.20 23:18",
          "Fri 2022.05.20 23:18",
          "Fri 2022.05.20 23:18",
          "Fri 2022.05.20 23:18",
          "Fri 2022.05.20 23:18",
          "Fri 2022.05.20 23:18",
          "Fri 2022.05.20 23:18",
          "Fri 2022.05.20 23:18",
          "Fri 2022.05.20 23:18",
          "Fri 2022.05.20 23:18",
          "Fri 2022.05.20 23:18",
          "Fri 2022.05.20 23:18",
          "Fri 2022.05.20 23:18",
          "Fri 2022.05.20 23:18",
          "Fri 2022.05.20 23:18",
          "Fri 2022.05.20 23:18",
          "Fri 2022.05.20 23:18",
          "Fri 2022.05.20 23:18",
          "Fri 2022.05.20 23:18",
          "Fri 2022.05.20 23:18",
          "Fri 2022.05.20 23:18",
          "Fri 2022.05.20 23:18",
          "Fri 2022.05.20 23:18",
          "Fri 2022.05.20 23:18",
          "Fri 2022.05.20 23:18",
          "Fri 2022.05.20 23:18",
          "Fri 2022.05.20 23:18",
          "Fri 2022.05.20 23:18",
          "Fri 2022.05.20 23:18",
          "Fri 2022.05.20 23:18",
          "Fri 2022.05.20 23:18",
          "Fri 2022.05.20 23:18",
          "Fri 2022.05.20 23:18",
          "Fri 2022.05.20 23:18",
          "Fri 2022.05.20 23:18",
          "Fri 2022.05.20 23:18",
          "Fri 2022.05.20 23:18",
          "Fri 2022.05.20 23:18",
          "Fri 2022.05.20 23:18",
          "Fri 2022.05.20 23:18",
          "Fri 2022.05.20 23:18",
          "Fri 2022.05.20 23:18",
          "Fri 2022.05.20 23:18",
          "Fri 2022.05.20 23:18",
          "Fri 2022.05.20 23:18",
          "Fri 2022.05.20 23:18",
          "Fri 2022.05.20 23:18",
          "Fri 2022.05.20 23:18",
          "Fri 2022.05.20 23:18",
          "Sat 2022.05.21 01:41",
          "Sat 2022.05.21 01:41",
          "Sat 2022.05.21 01:41",
          "Sat 2022.05.21 01:41",
          "Sat 2022.05.21 01:41",
          "Sat 2022.05.21 01:41",
          "Sat 2022.05.21 01:41",
          "Sat 2022.05.21 01:41",
          "Sat 2022.05.21 01:41",
          "Sat 2022.05.21 01:41",
          "Sat 2022.05.21 01:41",
          "Sat 2022.05.21 01:41",
          "Sat 2022.05.21 01:41",
          "Sat 2022.05.21 01:41",
          "Sat 2022.05.21 01:41",
          "Sat 2022.05.21 01:41",
          "Sat 2022.05.21 01:41",
          "Sat 2022.05.21 01:41",
          "Sat 2022.05.21 01:41",
          "Sat 2022.05.21 01:41",
          "Sat 2022.05.21 01:41",
          "Sat 2022.05.21 01:41",
          "Sat 2022.05.21 01:41",
          "Sat 2022.05.21 01:41",
          "Sat 2022.05.21 02:01",
          "Sat 2022.05.21 02:01",
          "Sat 2022.05.21 02:01",
          "Sat 2022.05.21 02:01",
          "Sat 2022.05.21 02:01",
          "Sat 2022.05.21 02:01",
          "Sat 2022.05.21 02:01",
          "Sat 2022.05.21 02:01",
          "Sat 2022.05.21 02:01",
          "Sat 2022.05.21 02:01",
          "Sat 2022.05.21 02:01",
          "Sat 2022.05.21 02:01",
          "Sat 2022.05.21 02:01",
          "Sat 2022.05.21 02:01",
          "Sat 2022.05.21 02:01",
          "Sat 2022.05.21 02:01",
          "Sat 2022.05.21 02:01",
          "Sat 2022.05.21 02:01",
          "Sat 2022.05.21 02:01",
          "Sat 2022.05.21 02:01",
          "Sat 2022.05.21 02:01",
          "Sat 2022.05.21 02:01",
          "Sat 2022.05.21 02:01",
          "Sat 2022.05.21 02:01",
          "Sat 2022.05.21 02:01",
          "Sat 2022.05.21 02:01",
          "Sat 2022.05.21 02:01",
          "Sat 2022.05.21 02:01",
          "Sat 2022.05.21 02:01",
          "Sat 2022.05.21 02:01",
          "Sat 2022.05.21 02:01",
          "Sat 2022.05.21 02:01",
          "Sat 2022.05.21 02:01",
          "Sat 2022.05.21 02:01",
          "Sat 2022.05.21 02:01",
          "Sat 2022.05.21 02:01",
          "Sat 2022.05.21 02:01",
          "Sat 2022.05.21 02:01",
          "Sat 2022.05.21 02:01",
          "Sat 2022.05.21 02:01",
          "Sat 2022.05.21 02:01",
          "Sat 2022.05.21 02:01",
          "Sat 2022.05.21 02:01",
          "Sat 2022.05.21 02:01",
          "Sat 2022.05.21 02:01",
          "Sat 2022.05.21 02:01",
          "Sat 2022.05.21 02:01",
          "Sat 2022.05.21 02:01",
          "Sat 2022.05.21 02:01",
          "Sat 2022.05.21 02:01",
          "Sat 2022.05.21 02:01",
          "Sat 2022.05.21 02:01",
          "Sat 2022.05.21 02:01",
          "Sat 2022.05.21 02:01",
          "Sat 2022.05.21 02:01",
          "Sat 2022.05.21 02:01",
          "Sat 2022.05.21 02:01",
          "Sat 2022.05.21 02:01",
          "Sat 2022.05.21 02:01",
          "Sat 2022.05.21 02:01",
          "Sat 2022.05.21 02:01",
          "Sat 2022.05.21 02:01",
          "Sat 2022.05.21 02:01",
          "Sat 2022.05.21 02:01",
          "Sat 2022.05.21 02:01",
          "Sat 2022.05.21 02:01",
          "Sat 2022.05.21 02:01",
          "Sat 2022.05.21 02:01",
          "Sat 2022.05.21 02:01",
          "Sat 2022.05.21 02:01",
          "Sat 2022.05.21 02:01",
          "Sat 2022.05.21 02:01",
          "Sat 2022.05.21 02:01",
          "Sat 2022.05.21 02:01",
          "Sat 2022.05.21 02:01",
          "Sat 2022.05.21 02:01",
          "Sat 2022.05.21 02:01",
          "Sat 2022.05.21 02:01",
          "Sat 2022.05.21 02:01",
          "Sat 2022.05.21 02:01",
          "Sat 2022.05.21 02:01",
          "Sat 2022.05.21 02:01",
          "Sat 2022.05.21 02:01",
          "Sat 2022.05.21 02:01",
          "Sat 2022.05.21 02:01",
          "Sat 2022.05.21 02:01",
          "Sat 2022.05.21 02:01",
          "Sat 2022.05.21 02:01",
          "Sat 2022.05.21 02:01",
          "Sat 2022.05.21 02:01",
          "Sat 2022.05.21 02:01",
          "Sat 2022.05.21 02:01",
          "Sat 2022.05.21 02:01",
          "Sat 2022.05.21 02:01",
          "Sat 2022.05.21 02:01",
          "Sat 2022.05.21 02:01",
          "Sat 2022.05.21 02:01",
          "Sat 2022.05.21 02:01",
          "Sat 2022.05.21 02:01",
          "Sat 2022.05.21 02:01",
          "Sat 2022.05.21 02:01",
          "Sat 2022.05.21 02:01",
          "Sat 2022.05.21 02:01",
          "Sat 2022.05.21 02:01",
          "Sat 2022.05.21 02:01",
          "Sat 2022.05.21 02:01",
          "Sat 2022.05.21 02:01",
          "Sat 2022.05.21 02:01",
          "Sat 2022.05.21 02:01",
          "Sat 2022.05.21 02:01",
          "Sat 2022.05.21 02:01",
          "Sat 2022.05.21 02:01",
          "Sat 2022.05.21 02:01",
          "Sat 2022.05.21 02:01",
          "Sat 2022.05.21 02:01",
          "Sat 2022.05.21 02:01",
          "Sat 2022.05.21 02:01",
          "Sat 2022.05.21 02:01",
          "Sat 2022.05.21 02:01",
          "Sat 2022.05.21 02:01",
          "Sat 2022.05.21 02:01",
          "Sat 2022.05.21 02:01",
          "Sat 2022.05.21 02:01",
          "Sat 2022.05.21 02:01",
          "Sat 2022.05.21 02:01",
          "Sat 2022.05.21 02:01",
          "Sat 2022.05.21 02:01",
          "Sat 2022.05.21 02:01",
          "Sat 2022.05.21 02:01",
          "Sat 2022.05.21 02:01",
          "Sat 2022.05.21 02:01",
          "Sat 2022.05.21 02:01",
          "Sat 2022.05.21 02:01",
          "Sat 2022.05.21 02:01",
          "Sat 2022.05.21 02:01",
          "Sat 2022.05.21 02:01",
          "Sat 2022.05.21 02:01",
          "Sat 2022.05.21 02:01",
          "Sat 2022.05.21 02:01",
          "Sat 2022.05.21 02:01",
          "Sat 2022.05.21 02:01",
          "Sat 2022.05.21 02:01",
          "Sat 2022.05.21 02:01",
          "Sat 2022.05.21 02:01",
          "Sat 2022.05.21 02:01",
          "Sat 2022.05.21 02:01",
          "Sat 2022.05.21 02:01",
          "Sat 2022.05.21 02:01",
          "Sat 2022.05.21 02:01",
          "Sat 2022.05.21 02:01",
          "Sat 2022.05.21 02:01",
          "Sat 2022.05.21 02:01",
          "Sat 2022.05.21 02:01",
          "Sat 2022.05.21 02:01",
          "Sat 2022.05.21 02:01",
          "Sat 2022.05.21 02:01",
          "Sat 2022.05.21 02:01",
          "Sat 2022.05.21 02:01",
          "Sat 2022.05.21 02:01",
          "Sat 2022.05.21 02:01",
          "Sat 2022.05.21 02:01",
          "Sat 2022.05.21 02:01",
          "Sat 2022.05.21 02:01",
          "Sat 2022.05.21 02:01",
          "Sat 2022.05.21 02:01",
          "Sat 2022.05.21 02:01",
          "Sat 2022.05.21 02:01",
          "Sat 2022.05.21 02:01",
          "Sat 2022.05.21 02:01",
          "Sat 2022.05.21 02:01",
          "Sat 2022.05.21 02:01",
          "Sat 2022.05.21 02:01",
          "Sat 2022.05.21 02:01",
          "Sat 2022.05.21 02:01",
          "Sat 2022.05.21 02:01",
          "Sat 2022.05.21 02:01",
          "Sat 2022.05.21 02:01",
          "Sat 2022.05.21 02:01",
          "Sat 2022.05.21 02:01",
          "Sat 2022.05.21 02:01",
          "Sat 2022.05.21 02:01",
          "Sat 2022.05.21 02:01",
          "Sat 2022.05.21 02:01",
          "Sat 2022.05.21 02:01",
          "Sat 2022.05.21 02:01",
          "Sat 2022.05.21 02:01",
          "Sat 2022.05.21 02:01",
          "Sat 2022.05.21 02:01",
          "Sat 2022.05.21 02:01",
          "Sat 2022.05.21 02:01",
          "Sat 2022.05.21 02:01",
          "Sat 2022.05.21 02:01",
          "Sat 2022.05.21 02:01",
          "Sat 2022.05.21 02:01",
          "Sat 2022.05.21 02:01",
          "Sat 2022.05.21 02:01",
          "Sat 2022.05.21 02:01",
          "Sat 2022.05.21 02:01",
          "Sat 2022.05.21 02:01",
          "Sat 2022.05.21 02:01",
          "Sat 2022.05.21 02:01",
          "Sat 2022.05.21 02:01",
          "Sat 2022.05.21 02:01",
          "Sat 2022.05.21 02:01",
          "Sat 2022.05.21 02:01",
          "Sat 2022.05.21 02:01",
          "Sat 2022.05.21 02:01",
          "Sat 2022.05.21 02:01",
          "Sat 2022.05.21 02:01",
          "Sat 2022.05.21 02:01",
          "Sat 2022.05.21 02:01",
          "Sat 2022.05.21 02:01",
          "Sat 2022.05.21 02:01",
          "Sat 2022.05.21 02:01",
          "Sat 2022.05.21 02:01",
          "Sat 2022.05.21 02:01",
          "Sat 2022.05.21 02:01",
          "Sat 2022.05.21 02:01",
          "Sat 2022.05.21 02:01",
          "Sat 2022.05.21 02:01",
          "Sat 2022.05.21 02:01",
          "Sat 2022.05.21 02:01",
          "Sat 2022.05.21 02:01",
          "Sat 2022.05.21 02:01",
          "Sat 2022.05.21 02:01",
          "Sat 2022.05.21 02:01",
          "Sat 2022.05.21 02:01",
          "Sat 2022.05.21 02:01",
          "Sat 2022.05.21 02:01",
          "Sat 2022.05.21 02:01",
          "Mon 2022.05.23 00:11",
          "Mon 2022.05.23 00:11",
          "Mon 2022.05.23 00:11",
          "Mon 2022.05.23 00:11",
          "Mon 2022.05.23 00:11",
          "Mon 2022.05.23 00:11",
          "Mon 2022.05.23 00:11",
          "Mon 2022.05.23 00:11",
          "Mon 2022.05.23 00:11",
          "Mon 2022.05.23 00:11",
          "Mon 2022.05.23 00:11",
          "Mon 2022.05.23 00:11",
          "Mon 2022.05.23 00:11",
          "Mon 2022.05.23 00:11",
          "Mon 2022.05.23 00:11",
          "Mon 2022.05.23 00:11",
          "Mon 2022.05.23 00:11",
          "Mon 2022.05.23 00:11",
          "Mon 2022.05.23 00:11",
          "Mon 2022.05.23 00:11",
          "Mon 2022.05.23 00:11",
          "Mon 2022.05.23 00:11",
          "Mon 2022.05.23 00:11",
          "Mon 2022.05.23 00:11",
          "Mon 2022.05.23 00:11",
          "Mon 2022.05.23 00:11",
          "Mon 2022.05.23 00:11",
          "Mon 2022.05.23 00:11",
          "Mon 2022.05.23 00:21",
          "Mon 2022.05.23 00:21",
          "Mon 2022.05.23 00:21",
          "Mon 2022.05.23 00:21",
          "Mon 2022.05.23 00:21",
          "Mon 2022.05.23 00:21",
          "Mon 2022.05.23 00:21",
          "Mon 2022.05.23 00:21",
          "Mon 2022.05.23 00:21",
          "Mon 2022.05.23 00:21",
          "Mon 2022.05.23 00:21",
          "Mon 2022.05.23 00:21",
          "Mon 2022.05.23 00:21",
          "Mon 2022.05.23 00:21",
          "Mon 2022.05.23 00:21",
          "Mon 2022.05.23 00:21",
          "Mon 2022.05.23 00:21",
          "Mon 2022.05.23 00:21",
          "Mon 2022.05.23 00:21",
          "Mon 2022.05.23 00:21",
          "Mon 2022.05.23 00:21",
          "Mon 2022.05.23 00:21",
          "Mon 2022.05.23 00:21",
          "Mon 2022.05.23 00:21",
          "Mon 2022.05.23 00:21",
          "Mon 2022.05.23 00:21",
          "Mon 2022.05.23 00:21",
          "Mon 2022.05.23 00:21",
          "Mon 2022.05.23 00:21",
          "Mon 2022.05.23 00:21",
          "Mon 2022.05.23 00:21",
          "Mon 2022.05.23 00:21",
          "Mon 2022.05.23 00:21",
          "Mon 2022.05.23 00:21",
          "Mon 2022.05.23 00:21",
          "Mon 2022.05.23 00:21",
          "Mon 2022.05.23 00:21",
          "Mon 2022.05.23 00:21",
          "Mon 2022.05.23 00:21",
          "Mon 2022.05.23 00:21",
          "Mon 2022.05.23 00:21",
          "Mon 2022.05.23 00:21",
          "Mon 2022.05.23 00:21",
          "Mon 2022.05.23 00:21",
          "Mon 2022.05.23 00:21",
          "Mon 2022.05.23 00:21",
          "Mon 2022.05.23 00:21",
          "Mon 2022.05.23 00:21",
          "Mon 2022.05.23 00:21",
          "Mon 2022.05.23 00:21",
          "Mon 2022.05.23 00:21",
          "Mon 2022.05.23 00:21",
          "Mon 2022.05.23 00:21",
          "Mon 2022.05.23 00:21",
          "Mon 2022.05.23 00:35",
          "Mon 2022.05.23 00:35",
          "Mon 2022.05.23 00:35",
          "Mon 2022.05.23 00:35",
          "Mon 2022.05.23 00:35",
          "Mon 2022.05.23 00:35",
          "Mon 2022.05.23 00:35",
          "Mon 2022.05.23 00:35",
          "Mon 2022.05.23 00:35",
          "Mon 2022.05.23 00:35",
          "Mon 2022.05.23 00:35",
          "Mon 2022.05.23 00:35",
          "Mon 2022.05.23 00:35",
          "Mon 2022.05.23 00:35",
          "Mon 2022.05.23 00:35",
          "Mon 2022.05.23 00:35",
          "Mon 2022.05.23 00:35",
          "Mon 2022.05.23 00:35",
          "Mon 2022.05.23 00:35",
          "Mon 2022.05.23 00:35",
          "Mon 2022.05.23 00:35",
          "Mon 2022.05.23 00:35",
          "Mon 2022.05.23 00:35",
          "Thu 2022.06.09 01:02",
          "Thu 2022.06.09 01:02",
          "Thu 2022.06.09 01:02",
          "Thu 2022.06.09 01:02",
          "Thu 2022.06.09 01:02",
          "Thu 2022.06.09 01:02",
          "Thu 2022.06.09 01:02",
          "Thu 2022.06.09 01:02",
          "Thu 2022.06.09 01:02",
          "Thu 2022.06.09 01:02",
          "Thu 2022.06.09 01:02",
          "Thu 2022.06.09 01:02",
          "Thu 2022.06.09 01:02",
          "Thu 2022.06.09 01:02",
          "Thu 2022.06.09 01:02",
          "Thu 2022.06.09 01:02",
          "Thu 2022.06.09 01:02",
          "Thu 2022.06.09 01:02",
          "Thu 2022.06.09 01:02",
          "Thu 2022.06.09 01:02",
          "Thu 2022.06.09 01:02",
          "Thu 2022.06.09 01:02",
          "Thu 2022.06.09 01:02",
          "Thu 2022.06.09 01:02",
          "Thu 2022.06.09 01:02",
          "Thu 2022.06.09 01:02",
          "Thu 2022.06.09 01:02",
          "Thu 2022.06.09 01:02",
          "Thu 2022.06.09 01:02",
          "Thu 2022.06.09 01:02",
          "Thu 2022.06.09 01:02",
          "Thu 2022.06.09 01:02",
          "Thu 2022.06.09 01:02",
          "Thu 2022.06.09 01:02",
          "Thu 2022.06.09 01:02",
          "Thu 2022.06.09 01:02",
          "Thu 2022.06.09 01:02",
          "Thu 2022.06.09 01:02",
          "Thu 2022.06.09 01:02",
          "Thu 2022.06.09 01:02",
          "Thu 2022.06.09 01:02",
          "Thu 2022.06.09 01:02",
          "Thu 2022.06.09 01:02",
          "Thu 2022.06.09 01:14",
          "Thu 2022.06.09 01:14",
          "Thu 2022.06.09 01:14",
          "Thu 2022.06.09 01:14",
          "Thu 2022.06.09 01:14",
          "Thu 2022.06.09 01:14",
          "Thu 2022.06.09 01:14",
          "Thu 2022.06.09 01:14",
          "Thu 2022.06.09 01:14",
          "Thu 2022.06.09 01:14",
          "Thu 2022.06.09 01:14",
          "Thu 2022.06.09 01:14",
          "Thu 2022.06.09 01:14",
          "Thu 2022.06.09 01:14",
          "Thu 2022.06.09 01:14",
          "Thu 2022.06.09 01:14",
          "Thu 2022.06.09 01:14",
          "Thu 2022.06.09 01:14",
          "Thu 2022.06.09 01:14",
          "Thu 2022.06.09 01:14",
          "Thu 2022.06.09 01:14",
          "Thu 2022.06.09 01:14",
          "Thu 2022.06.09 01:14",
          "Thu 2022.06.09 01:14",
          "Thu 2022.06.09 01:14",
          "Thu 2022.06.09 01:14",
          "Thu 2022.06.09 01:14",
          "Thu 2022.06.09 01:14",
          "Thu 2022.06.09 01:14",
          "Thu 2022.06.09 01:14",
          "Thu 2022.06.09 01:14",
          "Thu 2022.06.09 01:14",
          "Thu 2022.06.09 01:14",
          "Thu 2022.06.09 01:14",
          "Thu 2022.06.09 01:14",
          "Thu 2022.06.09 01:14",
          "Thu 2022.06.09 01:14",
          "Thu 2022.06.09 01:14",
          "Thu 2022.06.09 01:14",
          "Thu 2022.06.09 01:14",
          "Thu 2022.06.09 01:14",
          "Thu 2022.06.09 01:24",
          "Thu 2022.06.09 01:24",
          "Thu 2022.06.09 01:24",
          "Thu 2022.06.09 01:24",
          "Thu 2022.06.09 01:24",
          "Thu 2022.06.09 01:24",
          "Thu 2022.06.09 01:24",
          "Thu 2022.06.09 01:24",
          "Thu 2022.06.09 01:24",
          "Thu 2022.06.09 01:24",
          "Thu 2022.06.09 01:24",
          "Thu 2022.06.09 01:24",
          "Thu 2022.06.09 01:24",
          "Thu 2022.06.09 01:24",
          "Thu 2022.06.09 01:24",
          "Thu 2022.06.09 01:24",
          "Thu 2022.06.09 01:24",
          "Thu 2022.06.09 01:24",
          "Thu 2022.06.09 01:24",
          "Thu 2022.06.09 01:24",
          "Thu 2022.06.09 01:24",
          "Thu 2022.06.09 01:24",
          "Thu 2022.06.09 01:24",
          "Thu 2022.06.09 01:24",
          "Thu 2022.06.09 01:24",
          "Thu 2022.06.09 01:24",
          "Thu 2022.06.09 01:24",
          "Thu 2022.06.09 01:24",
          "Thu 2022.06.09 01:24",
          "Thu 2022.06.09 01:24",
          "Thu 2022.06.09 01:24",
          "Thu 2022.06.09 01:24",
          "Thu 2022.06.09 01:24",
          "Thu 2022.06.09 01:24",
          "Thu 2022.06.09 01:24",
          "Thu 2022.06.09 01:24",
          "Thu 2022.06.09 01:24",
          "Thu 2022.06.09 01:24",
          "Thu 2022.06.09 01:24",
          "Thu 2022.06.09 01:24",
          "Thu 2022.06.09 01:24",
          "Thu 2022.06.09 01:24",
          "Thu 2022.06.09 01:24",
          "Thu 2022.06.09 01:24",
          "Thu 2022.06.09 01:24",
          "Thu 2022.06.09 01:24",
          "Thu 2022.06.09 01:24",
          "Thu 2022.06.09 01:48",
          "Thu 2022.06.09 01:48",
          "Thu 2022.06.09 01:48",
          "Thu 2022.06.09 01:48",
          "Thu 2022.06.09 01:48",
          "Thu 2022.06.09 01:48",
          "Thu 2022.06.09 01:48",
          "Thu 2022.06.09 01:48",
          "Thu 2022.06.09 01:48",
          "Thu 2022.06.09 01:48",
          "Thu 2022.06.09 01:48",
          "Thu 2022.06.09 01:48",
          "Thu 2022.06.09 01:48",
          "Thu 2022.06.09 01:48",
          "Thu 2022.06.09 01:48",
          "Thu 2022.06.09 01:48",
          "Thu 2022.06.09 01:48",
          "Thu 2022.06.09 01:48",
          "Thu 2022.06.09 01:48",
          "Thu 2022.06.09 01:48",
          "Thu 2022.06.09 01:48",
          "Thu 2022.06.09 01:48",
          "Thu 2022.06.09 01:48",
          "Thu 2022.06.09 01:48",
          "Thu 2022.06.09 01:48",
          "Thu 2022.06.09 01:48",
          "Thu 2022.06.09 01:48",
          "Thu 2022.06.09 01:48",
          "Thu 2022.06.09 01:48",
          "Thu 2022.06.09 01:48",
          "Thu 2022.06.09 01:48",
          "Thu 2022.06.09 01:48",
          "Thu 2022.06.09 01:48",
          "Thu 2022.06.09 01:48"
         ],
         "xaxis": "x",
         "y": [
          7.7796196937561035,
          3.8465919494628906,
          8.640268325805664,
          12.819391250610352,
          27.631839752197266,
          7.846948146820068,
          19.10212516784668,
          12.014792442321777,
          9.496894836425781,
          3.8792831897735596,
          7.906457901000977,
          17.08407974243164,
          6.533426284790039,
          1.2759910821914673,
          7.505784034729004,
          12.538381576538086,
          6.941649913787842,
          0.971185564994812,
          0.3138792812824249,
          1.3623050451278687,
          7.325838088989258,
          1.3253450393676758,
          2.1293866634368896,
          3.7690179347991943,
          0.7557625770568848,
          6.515659809112549,
          2.8854153156280518,
          9.007579803466797,
          2.512800931930542,
          13.78821086883545,
          18.52467918395996,
          10.98132610321045,
          9.17313289642334,
          27.93514633178711,
          18.956743240356445,
          12.901052474975586,
          27.760257720947266,
          30.518634796142578,
          34.891361236572266,
          13.11402416229248,
          19.897825241088867,
          26.344240188598633,
          6.518010139465332,
          11.425527572631836,
          18.461084365844727,
          20.718082427978516,
          18.813129425048828,
          19.088741302490234,
          12.304337501525879,
          12.83017635345459,
          13.917996406555176,
          4.443089485168457,
          7.676914691925049,
          9.380572319030762,
          17.090967178344727,
          15.030653953552246,
          14.117149353027344,
          12.876465797424316,
          12.790727615356445,
          14.366260528564453,
          15.875932693481445,
          13.100137710571289,
          15.309657096862793,
          52.28311538696289,
          80.92076110839844,
          105.41603088378906,
          20.834911346435547,
          50.726524353027344,
          76.90401458740234,
          8.333959579467773,
          24.524742126464844,
          51.56132507324219,
          16.283266067504883,
          18.092191696166992,
          8.912141799926758,
          8.225406646728516,
          6.488406181335449,
          1.0234713554382324,
          7.734639644622803,
          3.4980862140655518,
          22.165380477905273,
          28.22612953186035,
          36.51641845703125,
          15.649091720581055,
          11.778196334838867,
          21.61695098876953,
          22.147075653076172,
          7.930529594421387,
          9.64649772644043,
          41.24614715576172,
          5.901776313781738,
          40.292869567871094,
          5.4160475730896,
          31.015483856201172,
          40.16622543334961,
          8.702434539794922,
          27.401811599731445,
          93.50416564941406,
          64.31814575195312,
          150.29937744140625,
          8.974369049072266,
          145.57510375976562,
          71.59734344482422,
          71.41602325439453,
          135.2548065185547,
          67.4028091430664,
          7.854192733764648,
          79.87953186035156,
          11.717826843261719,
          63.11168670654297,
          41.51543426513672,
          117.99479675292969,
          61.811153411865234,
          29.28080940246582,
          7.463691234588623,
          33.2060432434082,
          7.485830783843994,
          38.041080474853516,
          8.225543975830078,
          30.355562210083008,
          17.852426528930664,
          9.355128288269043,
          6.850541114807129,
          10.738205909729004,
          18.490964889526367,
          9.167623519897461,
          13.158679008483887,
          24.864595413208008,
          15.321757316589355,
          12.835615158081055,
          21.184768676757812,
          14.352669715881348,
          18.51631736755371,
          17.375186920166016,
          14.38868236541748,
          22.553586959838867,
          6.1319050788879395,
          2.822441816329956,
          8.200281143188477,
          5.351912021636963,
          5.753460884094238,
          7.338264465332031,
          23.048002243041992,
          2.376596689224243,
          21.930686950683594,
          14.835379600524902,
          8.851726531982422,
          29.93330192565918,
          9.726134300231934,
          16.29509735107422,
          35.859012603759766,
          35.23660659790039,
          12.042032241821289,
          10.616888999938965,
          28.78750228881836,
          11.532137870788574,
          23.63001251220703,
          6.389378547668457,
          12.20087718963623,
          3.7808470726013184,
          5.093088626861572,
          2.0845301151275635,
          7.850318908691406,
          2.950477361679077,
          6.909396648406982,
          8.447012901306152,
          3.209106683731079,
          8.287369728088379,
          7.233122825622559,
          5.182252407073975,
          4.00446081161499,
          10.295580863952637,
          2.6671292781829834,
          6.716947555541992,
          10.4315824508667,
          2.840073823928833,
          7.660486698150635,
          4.042224884033203,
          5.618703365325928,
          9.126301765441895,
          5.333388328552246,
          2.5371463298797607,
          6.432116985321045,
          4.678494453430176,
          4.81154727935791,
          4.312493801116943,
          5.057918071746826,
          2.9045746326446533,
          4.329712867736816,
          1.6393593549728394,
          3.172518491744995,
          4.682722568511963,
          2.2933621406555176,
          2.6412782669067383,
          11.723724365234375,
          2.249495267868042,
          6.0610527992248535,
          112.16438293457031,
          4.058835506439209,
          5.424434661865234,
          18.23190689086914,
          5.711585521697998,
          4.977038383483887,
          7.44724178314209,
          11.282723426818848,
          6.511298179626465,
          9.860469818115234,
          1.2227100133895874,
          5.1747941970825195,
          17.209774017333984,
          5.363214492797852,
          6.848371982574463,
          13.205822944641113,
          10.81338882446289,
          11.193985939025879,
          15.982344627380371,
          12.34467601776123,
          11.702531814575195,
          18.18318748474121,
          13.021759986877441,
          12.163412094116211,
          7.055997371673584,
          5.045501708984375,
          11.792387962341309,
          11.845364570617676,
          7.804589748382568,
          10.610228538513184,
          15.595008850097656,
          8.188559532165527,
          10.662580490112305,
          22.383255004882812,
          32.81892776489258,
          40.24496078491211,
          53.923133850097656,
          59.853145599365234,
          87.3851318359375,
          89.67488098144531,
          92.1104965209961,
          34.50661849975586,
          32.016300201416016,
          10.918070793151855,
          9.907026290893555,
          11.919254302978516,
          13.112366676330566,
          19.63438606262207,
          25.586740493774414,
          6.968185901641846,
          1.1340922117233276,
          2.484041213989258,
          3.4311423301696777,
          0.060199715197086334,
          0.14212127029895782,
          3.2371091842651367,
          3.4935362339019775,
          1.1255826950073242,
          3.396735906600952,
          14.3046236038208,
          22.815105438232422,
          12.525986671447754,
          23.42057228088379,
          31.580331802368164,
          28.9232234954834,
          39.052223205566406,
          46.968788146972656,
          44.91565704345703,
          96.11531829833984,
          51.49483108520508,
          46.55897521972656,
          51.88267135620117,
          49.928348541259766,
          53.540771484375,
          54.87539291381836,
          41.28830337524414,
          49.07738494873047,
          56.58409118652344,
          47.105247497558594,
          53.87749481201172,
          60.11513137817383,
          52.76611328125,
          60.01670455932617,
          65.20436096191406,
          21.160045623779297,
          32.3021125793457,
          38.942901611328125,
          23.68285369873047,
          109.74142456054688,
          35.30162048339844,
          28.90699005126953,
          36.11793899536133,
          37.3335075378418,
          23.721044540405273,
          18.126049041748047,
          15.612442970275879,
          17.667673110961914,
          14.628860473632812,
          10.998215675354004,
          17.805620193481445,
          18.533496856689453,
          12.827418327331543,
          1.6642954349517822,
          7.15335750579834,
          6.177664756774902,
          1.140145182609558,
          4.080698490142822,
          3.2233500480651855,
          4.16950798034668,
          6.672459602355957,
          4.219655513763428,
          7.648134708404541,
          5.576660633087158,
          4.305755615234375,
          6.03337287902832,
          7.236056804656982,
          3.562130928039551,
          7.348765850067139,
          9.653977394104004,
          3.4113659858703613,
          1.051479697227478,
          5.783392906188965,
          2.291411876678467,
          2.3297665119171143,
          2.0219645500183105,
          7.380636215209961,
          5.026767730712891,
          9.874894142150879,
          5.989370822906494,
          5.425832748413086,
          6.660828113555908,
          4.084047794342041,
          3.3276302814483643,
          6.673767566680908,
          7.457530975341797,
          6.315434455871582,
          7.582941055297852,
          3.280074119567871,
          2.1541638374328613,
          5.326337814331055,
          2.296900749206543,
          2.517204523086548,
          2.7221200466156006,
          5.07081413269043,
          5.979970932006836,
          5.142448425292969,
          1.4476851224899292,
          4.44902229309082,
          4.342782020568848,
          0.3554765284061432,
          3.1486732959747314,
          5.279541492462158,
          0.6897314786911011,
          6.881608009338379,
          7.083792686462402,
          2.7464241981506348,
          5.619091033935547,
          3.697694778442383,
          1.3939175605773926,
          5.1457085609436035,
          5.952815532684326,
          2.073385238647461,
          11.451221466064453,
          9.29370403289795,
          14.563669204711914,
          11.529974937438965,
          18.300491333007812,
          17.64861488342285,
          17.55154800415039,
          28.893428802490234,
          39.34834671020508,
          12.254066467285156,
          16.819766998291016,
          25.917707443237305,
          18.242177963256836,
          13.03758430480957,
          14.787580490112305,
          2.2420129776000977,
          3.1160762310028076,
          9.207289695739746,
          5.636327266693115,
          1.336050271987915,
          3.4491045475006104,
          10.290669441223145,
          5.210456371307373,
          1.7849115133285522,
          23.91377830505371,
          10.710381507873535,
          12.216230392456055,
          44.640357971191406,
          27.673364639282227,
          12.582863807678223,
          68.85625457763672,
          51.05149459838867,
          35.21947479248047,
          13.323440551757812,
          13.221651077270508,
          12.073147773742676,
          13.55328369140625,
          13.39563274383545,
          12.79383659362793,
          14.780113220214844,
          13.941970825195312,
          10.77367115020752,
          8.161754608154297,
          3.2943742275238037,
          16.21648597717285,
          11.535798072814941,
          5.891730308532715,
          24.217920303344727,
          18.866321563720703,
          13.31396770477295,
          5.571585655212402,
          12.496231079101562,
          19.2725830078125,
          13.653430938720703,
          5.706372261047363,
          1.7752131223678589,
          2.801267385482788,
          2.3036398887634277,
          1.4592928886413574,
          3.960989236831665,
          2.334563970565796,
          4.265382766723633,
          6.69334077835083,
          2.4811289310455322,
          5.742952823638916,
          44.60850524902344,
          48.329559326171875,
          52.96073913574219,
          31.68055534362793,
          35.63981246948242,
          39.763031005859375,
          19.07069206237793,
          22.77509880065918,
          26.84238052368164,
          40.70329284667969,
          45.02460861206055,
          49.883548736572266,
          27.629684448242188,
          31.656070709228516,
          35.962100982666016,
          19.56146812438965,
          23.065126419067383,
          46.929664611816406,
          50.211822509765625,
          32.4670524597168,
          35.28580093383789,
          18.753103256225586,
          19.597267150878906,
          21.3669490814209,
          7.901543617248535,
          13.45386791229248,
          23.98326873779297,
          12.531960487365723,
          15.960428237915039,
          20.455419540405273,
          17.9312744140625,
          19.869171142578125,
          21.89809226989746,
          34.04257583618164,
          21.512203216552734,
          49.48881530761719,
          37.82524871826172,
          9.560030937194824,
          34.09089279174805,
          42.76084518432617,
          11.302162170410156,
          23.44968605041504,
          12.984111785888672,
          13.72817325592041,
          16.83888053894043,
          13.128623008728027,
          4.840920925140381,
          12.460205078125,
          14.348651885986328,
          5.095217704772949,
          9.849286079406738,
          15.199499130249023,
          15.565474510192871,
          25.064842224121094,
          14.749728202819824,
          6.318089485168457,
          19.67444610595703,
          15.12814712524414,
          7.318633079528809,
          16.41566276550293,
          74.53925323486328,
          72.50285339355469,
          59.39260482788086,
          70.55238342285156,
          65.8818588256836,
          57.31218719482422,
          69.69305419921875,
          65.20206451416016,
          57.675167083740234,
          67.80937957763672,
          35.12569808959961,
          12.108022689819336,
          32.525550842285156,
          4.370348930358887,
          61.27458190917969,
          34.30724334716797,
          7.618213653564453,
          15.161900520324707,
          23.162851333618164,
          13.627630233764648,
          5.8333282470703125,
          9.252527236938477,
          3.1885874271392822,
          2.7347798347473145,
          6.035641193389893,
          2.2190186977386475,
          29.319387435913086,
          22.1038818359375,
          15.660120010375977,
          27.134798049926758,
          14.264894485473633,
          7.303417205810547,
          26.800363540649414,
          14.581421852111816,
          3.914205312728882,
          45.57673645019531,
          8.425040245056152,
          32.798709869384766,
          38.49330139160156,
          4.597388744354248,
          29.712871551513672,
          33.49251937866211,
          6.427734851837158,
          27.949907302856445,
          60.30534744262695,
          25.28310775756836,
          27.458648681640625,
          51.112388610839844,
          16.818864822387695,
          23.15355110168457,
          45.16556930541992,
          14.59794807434082,
          22.38416290283203,
          38.660888671875,
          6.139806270599365,
          32.72515106201172,
          30.93563461303711,
          3.3156023025512695,
          31.51803207397461,
          25.452865600585938,
          31.35673713684082,
          21.82084083557129,
          18.714372634887695,
          18.69707489013672,
          17.156972885131836,
          11.271645545959473,
          15.144621849060059,
          14.367465019226074,
          8.59371280670166,
          14.564672470092773,
          27.845962524414062,
          17.791675567626953,
          30.711084365844727,
          23.36778450012207,
          8.72195053100586,
          26.019588470458984,
          21.23177146911621,
          8.516518592834473,
          23.764501571655273,
          28.88287925720215,
          33.36423873901367,
          26.08546257019043,
          22.256378173828125,
          20.90053939819336,
          14.699820518493652,
          20.230510711669922,
          18.42136573791504,
          10.3964204788208,
          37.90520095825195,
          30.944660186767578,
          22.647462844848633,
          33.78560256958008,
          23.352006912231445,
          15.99185562133789,
          31.968765258789062,
          23.166820526123047,
          13.588818550109863,
          43.11555099487305,
          40.90618896484375,
          41.0933952331543,
          41.25325393676758,
          40.99256134033203,
          7.913778305053711,
          22.073896408081055,
          15.531314849853516,
          19.49905014038086,
          19.050540924072266,
          4.57562255859375,
          4.979389667510986,
          7.23209285736084,
          7.484964370727539,
          2.0848584175109863,
          7.859253883361816,
          1.4733136892318726,
          9.295541763305664,
          29.84539031982422,
          14.906740188598633,
          34.62796401977539,
          1.6311547756195068,
          38.58357620239258,
          38.94393539428711,
          6.211017608642578,
          27.691173553466797,
          18.665376663208008,
          8.870536804199219,
          17.28968620300293,
          20.166414260864258,
          3.175466537475586,
          13.573629379272461,
          20.95355224609375,
          5.040012836456299,
          11.471980094909668,
          3.588897228240967,
          7.446295738220215,
          10.419995307922363,
          5.485794544219971,
          3.130280017852783,
          7.256929874420166,
          4.656956672668457,
          6.515021324157715,
          4.432854175567627,
          2.6435465812683105,
          13.439983367919922,
          23.301006317138672,
          9.874640464782715,
          8.577254295349121,
          19.6956787109375,
          12.004491806030273,
          6.470372200012207,
          16.513261795043945,
          13.220115661621094,
          10.070082664489746,
          23.15610122680664,
          18.506134033203125,
          7.358547210693359,
          19.43140983581543,
          20.023279190063477,
          7.331920623779297,
          17.172222137451172,
          8.355782508850098,
          21.013103485107422,
          16.69961166381836,
          8.92977237701416,
          6.246646881103516,
          11.869036674499512,
          18.702890396118164,
          7.886936187744141,
          13.739006996154785,
          6.932811260223389,
          10.822762489318848,
          6.183441162109375,
          5.838136672973633,
          6.676875591278076,
          7.931434631347656,
          8.224800109863281,
          5.223477363586426,
          10.283333778381348,
          7.750400543212891,
          10.309501647949219,
          5.742610931396484,
          3.6592299938201904,
          12.339041709899902,
          9.563676834106445,
          2.433168411254883,
          19.484804153442383,
          11.6605224609375,
          8.465995788574219,
          4.405777454376221,
          9.353412628173828,
          6.2539801597595215,
          19.826601028442383,
          20.831377029418945,
          15.226908683776855,
          7.427318096160889,
          10.840317726135254,
          11.958914756774902,
          2.5948805809020996,
          10.328714370727539,
          10.605652809143066,
          9.03813648223877,
          10.285555839538574,
          26.038232803344727,
          19.443191528320312,
          3.93599796295166,
          12.472880363464355,
          29.870744705200195,
          15.391884803771973,
          2.266944408416748,
          32.23580551147461,
          25.604520797729492,
          9.982386589050293,
          22.248376846313477,
          15.810980796813965,
          4.874916076660156,
          16.206201553344727,
          12.856842041015625,
          1.9002701044082642,
          5.028319358825684,
          6.846096038818359,
          17.474002838134766,
          10.48310661315918,
          3.2082817554473877,
          9.986763954162598,
          15.352706909179688,
          7.530867099761963,
          4.217595100402832,
          58.24110412597656,
          47.89408874511719,
          128.9241485595703,
          88.24417114257812,
          16.47309112548828,
          80.85735321044922,
          118.05694580078125,
          37.668582916259766,
          41.8650016784668,
          25.195051193237305,
          23.181150436401367,
          17.12552833557129,
          20.031814575195312,
          14.813316345214844,
          10.705995559692383,
          18.92781639099121,
          13.974365234375,
          6.50982666015625,
          12.826642990112305,
          10.927451133728027,
          8.383148193359375,
          8.034914016723633,
          2.9284515380859375,
          4.841393947601318,
          4.892484664916992,
          2.5353899002075195,
          7.667435169219971,
          18.080915451049805,
          21.807331085205078,
          22.894071578979492,
          25.73387336730957,
          24.813528060913086,
          28.97488021850586,
          20.262493133544922,
          16.175127029418945,
          19.651649475097656,
          13.994974136352539,
          13.49026107788086,
          79.3423080444336,
          24.62381362915039,
          34.661590576171875,
          38.39334487915039,
          16.761762619018555,
          71.72724151611328,
          14.360457420349121,
          9.37430477142334,
          5.170598030090332,
          10.485766410827637,
          3.7002651691436768,
          7.623683929443359,
          7.401450157165527,
          10.273752212524414,
          78.13065338134766,
          31.269628524780273,
          18.75536346435547,
          49.96477127075195,
          8.40383529663086,
          37.38455581665039,
          27.673643112182617,
          53.40583038330078,
          22.352327346801758,
          19.542171478271484,
          14.613645553588867,
          21.356475830078125,
          14.753067016601562,
          16.07050323486328,
          16.438142776489258,
          2.9704432487487793,
          12.205495834350586,
          14.158976554870605,
          9.567021369934082,
          17.914194107055664,
          12.990083694458008,
          11.637106895446777,
          21.297142028808594,
          9.871179580688477,
          8.977803230285645,
          19.0549259185791,
          5.866058826446533,
          7.936669826507568,
          19.41826629638672,
          1.4195042848587036,
          10.502959251403809,
          2.039166212081909,
          9.097288131713867,
          1.3246053457260132,
          7.104926109313965,
          1.426011562347412,
          2.6728355884552,
          16.66191864013672,
          17.503639221191406,
          10.88918399810791,
          15.550596237182617,
          6.233232498168945,
          3.7937235832214355,
          15.026893615722656,
          4.3778395652771,
          4.938590049743652,
          19.22808837890625,
          13.067444801330566,
          12.106623649597168,
          19.818817138671875,
          5.8318328857421875,
          3.111614942550659,
          18.918010711669922,
          5.069018363952637,
          3.568081855773926,
          17.381532669067383,
          21.99835205078125,
          16.984630584716797,
          18.25908088684082,
          15.785454750061035,
          13.890120506286621,
          18.977676391601562,
          15.421120643615723,
          13.833429336547852,
          13.65182876586914,
          23.106117248535156,
          15.911724090576172,
          12.099504470825195,
          12.734053611755371,
          12.381436347961426,
          15.70090103149414,
          11.777749061584473,
          12.849445343017578,
          140.49432373046875,
          151.03265380859375,
          93.52332305908203,
          150.50648498535156,
          44.29612731933594,
          8.152359962463379,
          48.776527404785156,
          29.269628524780273,
          14.425421714782715,
          42.8840217590332,
          20.525297164916992,
          38.14199447631836,
          54.639427185058594,
          10.131925582885742,
          56.7873649597168,
          25.347278594970703,
          9.379986763000488,
          22.069717407226562,
          15.850059509277344,
          45.8189697265625,
          88.79747772216797,
          82.38319396972656,
          64.2806396484375,
          56.362823486328125,
          50.21453094482422,
          32.160736083984375,
          24.92580223083496,
          19.574462890625,
          54.23246383666992,
          79.64901733398438,
          50.13525390625,
          19.450590133666992,
          23.66988754272461,
          31.46375274658203,
          16.098934173583984,
          20.16489028930664,
          17.112356185913086,
          51.43421936035156,
          24.55445671081543,
          38.76782989501953,
          24.221986770629883,
          10.305878639221191,
          26.389942169189453,
          27.79038429260254,
          5.062325477600098,
          17.660179138183594,
          15.374733924865723,
          27.08816909790039,
          27.079769134521484,
          1.3468812704086304,
          15.564208030700684,
          32.875362396240234,
          8.145430564880371,
          9.640640258789062,
          54.51215744018555,
          80.63983154296875,
          70.76753997802734,
          13.766373634338379,
          18.351411819458008,
          39.191734313964844,
          42.93742752075195,
          45.92066192626953,
          27.719789505004883,
          37.31105422973633,
          16.887861251831055,
          25.692197799682617,
          73.14009857177734,
          76.09373474121094,
          78.91860961914062,
          56.296627044677734,
          59.804901123046875,
          63.50358200073242,
          38.87277603149414,
          44.180294036865234,
          49.56106948852539,
          65.52709197998047,
          65.0379638671875,
          65.02352142333984,
          57.497859954833984,
          58.10993194580078,
          59.2269172668457,
          48.821754455566406,
          50.963077545166016,
          53.93155288696289,
          53.795833587646484,
          53.576847076416016,
          54.12934112548828,
          45.83468246459961,
          45.65781784057617,
          45.728919982910156,
          37.181880950927734,
          37.4368782043457,
          38.00595474243164,
          56.65262222290039,
          56.20770263671875,
          56.061439514160156,
          59.853675842285156,
          59.78633117675781,
          59.78316116333008,
          63.2347412109375,
          63.093807220458984,
          63.87860870361328,
          6.453074932098389,
          11.666613578796387,
          19.164493560791016,
          6.042117118835449,
          9.423394203186035,
          9.420662879943848,
          9.916717529296875,
          6.780642032623291,
          3.3852617740631104,
          119.42557525634766,
          146.0201873779297,
          188.01727294921875,
          44.2281608581543,
          63.8591423034668,
          94.41287994384766,
          38.16738510131836,
          28.77287483215332,
          23.6218318939209,
          77.29075622558594,
          60.033531188964844,
          46.034278869628906,
          25.00258445739746,
          11.75507640838623,
          6.581571102142334,
          33.44575500488281,
          41.401634216308594,
          50.122013092041016,
          3.3127505779266357,
          9.049324989318848,
          20.91703987121582,
          25.79474639892578,
          30.347572326660156,
          45.574092864990234,
          53.756385803222656,
          18.70189094543457,
          16.27052116394043,
          18.231868743896484,
          25.731277465820312,
          28.714754104614258,
          33.099021911621094,
          39.019161224365234,
          42.27124786376953,
          46.844573974609375,
          19.088111877441406,
          21.885082244873047,
          24.674707412719727,
          28.002466201782227,
          33.77370071411133,
          37.1710090637207,
          39.69963073730469,
          42.55205535888672,
          31.529111862182617,
          31.00554084777832,
          31.957502365112305,
          31.255388259887695,
          31.26441764831543,
          33.40876388549805,
          30.82114601135254,
          31.246950149536133,
          32.99531936645508,
          29.36850357055664,
          28.92991065979004,
          30.679607391357422,
          29.62936019897461,
          30.766477584838867,
          33.442543029785156,
          29.543338775634766,
          30.663570404052734,
          33.77540969848633,
          30.94120216369629,
          32.513465881347656,
          28.912904739379883,
          29.809066772460938,
          33.61015319824219,
          26.286832809448242,
          26.411279678344727,
          31.434581756591797,
          14.123602867126465,
          15.813407897949219,
          10.830081939697266,
          13.462014198303223,
          8.789999008178711,
          6.597795009613037,
          7.978311538696289,
          34.62382125854492,
          27.568300247192383,
          23.584728240966797,
          29.029582977294922,
          19.210222244262695,
          39.12155532836914,
          23.324443817138672,
          14.749502182006836,
          9.034266471862793,
          13.198122024536133,
          9.89453411102295,
          14.635531425476074,
          10.973469734191895,
          18.042387008666992,
          25.919925689697266,
          5.77800989151001,
          10.937614440917969,
          8.613984107971191,
          12.59218978881836,
          16.316017150878906,
          17.669677734375,
          4.254231929779053,
          3.5619869232177734,
          5.797293186187744,
          5.4302659034729,
          8.613741874694824,
          8.926509857177734,
          14.066195487976074,
          15.794210433959961,
          13.668575286865234,
          18.68669319152832,
          10.982549667358398,
          3.9369497299194336,
          17.405241012573242,
          13.952637672424316,
          6.0240478515625,
          21.218772888183594,
          21.926965713500977,
          15.931666374206543,
          14.549737930297852,
          14.5694580078125,
          17.64378547668457,
          19.007911682128906,
          17.28514289855957,
          24.1301326751709,
          26.74338722229004,
          23.90959358215332,
          2.865797281265259,
          14.526589393615723,
          25.128616333007812,
          10.668959617614746,
          17.327220916748047,
          24.023754119873047,
          20.15401268005371,
          24.69223976135254,
          26.14144515991211,
          18.598161697387695,
          17.373004913330078,
          14.897473335266113,
          21.126726150512695,
          19.718969345092773,
          25.272003173828125,
          28.068607330322266,
          25.556015014648438,
          24.911245346069336,
          21.21320152282715,
          14.96663761138916,
          28.56898307800293,
          22.421401977539062,
          34.243408203125,
          34.765281677246094,
          29.786462783813477,
          3.684664487838745,
          13.045193672180176,
          12.452762603759766,
          12.560929298400879,
          13.643824577331543,
          22.326791763305664,
          21.87961196899414,
          9.07583999633789,
          7.788094520568848,
          15.628111839294434,
          8.891467094421387,
          8.241211891174316,
          13.668769836425781,
          15.857635498046875,
          17.534372329711914,
          19.120121002197266,
          5.809427738189697,
          14.493718147277832,
          20.832761764526367,
          3.3010923862457275,
          11.014496803283691,
          16.97820281982422,
          12.255958557128906,
          17.495086669921875,
          19.840641021728516,
          4.363868236541748,
          11.525923728942871,
          15.551496505737305,
          7.839672565460205,
          11.771015167236328,
          14.707385063171387,
          16.625524520874023,
          20.450830459594727,
          20.842992782592773,
          21.93709373474121,
          26.019729614257812,
          29.41380500793457,
          15.779879570007324,
          21.666919708251953,
          25.673025131225586,
          13.727779388427734,
          23.111717224121094,
          26.540672302246094,
          10.843205451965332,
          10.979304313659668,
          42.32017135620117,
          4.558650970458984,
          36.64643096923828,
          23.98478889465332,
          11.823705673217773,
          19.620037078857422,
          4.229134559631348,
          4.531261444091797,
          8.13700008392334,
          5.033120632171631,
          4.3623528480529785,
          10.226239204406738,
          11.984410285949707,
          11.495221138000488,
          2.4377691745758057,
          3.2458879947662354,
          2.3803889751434326,
          1.7322213649749756,
          2.169160842895508,
          5.055501937866211,
          4.271030426025391,
          4.637240886688232,
          23.205753326416016,
          28.073915481567383,
          41.277671813964844,
          18.978504180908203,
          21.63508415222168,
          28.86139488220215,
          22.679826736450195,
          22.965709686279297,
          21.88156509399414,
          16.787660598754883,
          26.408910751342773,
          7.948765754699707,
          15.43599796295166,
          28.582983016967773,
          6.177145004272461,
          5.701266288757324,
          12.087006568908691,
          30.707746505737305,
          36.10104751586914,
          16.224578857421875,
          17.490293502807617,
          26.1119327545166,
          13.042617797851562,
          10.075313568115234,
          3.501174211502075,
          29.01694107055664,
          19.72672462463379,
          24.08759307861328,
          4.5134406089782715,
          3.9063026905059814,
          16.626468658447266,
          49.16736602783203,
          33.136802673339844,
          19.383325576782227,
          36.09954071044922,
          34.0782470703125,
          39.283973693847656,
          18.75847816467285,
          15.878520965576172,
          17.28879737854004,
          14.11927318572998,
          13.155608177185059,
          7.718424320220947,
          41.44576644897461,
          34.59150695800781,
          37.70436096191406,
          14.542159080505371,
          15.721395492553711,
          12.132548332214355,
          9.512475967407227,
          3.4943013191223145,
          43.959678649902344,
          36.01606369018555,
          37.499305725097656,
          28.605072021484375,
          21.352888107299805,
          19.984533309936523,
          21.319263458251953,
          15.303895950317383,
          8.184232711791992,
          8.705236434936523,
          10.778362274169922,
          22.31020164489746,
          11.020944595336914,
          16.393798828125,
          23.288551330566406,
          29.91175079345703,
          35.60543441772461,
          37.90766906738281,
          65.84664154052734,
          51.16506576538086,
          43.727317810058594,
          45.94027328491211,
          34.648338317871094,
          25.159637451171875,
          37.85061264038086,
          26.205236434936523,
          14.321564674377441,
          56.6600341796875,
          44.43671798706055,
          38.6953125,
          40.72218322753906,
          30.84153938293457,
          23.9890193939209,
          34.714107513427734,
          24.911977767944336,
          15.769859313964844,
          54.192630767822266,
          37.11082077026367,
          31.21135711669922,
          36.82733154296875,
          26.066665649414062,
          20.655189514160156,
          25.445520401000977,
          15.104388236999512,
          9.372318267822266,
          60.49909591674805,
          43.73161697387695,
          45.181304931640625,
          45.928470611572266,
          32.65449142456055,
          32.2909049987793,
          35.302005767822266,
          19.82035255432129,
          18.308610916137695,
          58.15964126586914,
          39.859405517578125,
          49.25203323364258,
          31.572542190551758,
          28.87954330444336,
          22.757261276245117,
          17.940753936767578,
          44.88358688354492,
          38.837215423583984,
          44.590614318847656,
          38.96450424194336,
          28.58924102783203,
          31.089269638061523,
          32.773223876953125,
          17.09193992614746,
          17.09079360961914,
          33.19801330566406,
          36.34423065185547,
          41.34765625,
          25.409578323364258,
          25.0468807220459,
          35.509639739990234,
          14.192211151123047,
          13.287857055664062,
          24.874568939208984,
          24.236087799072266,
          28.830310821533203,
          21.247499465942383,
          14.9631929397583,
          18.050668716430664,
          19.237146377563477,
          2.4864683151245117,
          10.422261238098145,
          18.75257682800293,
          22.863056182861328,
          37.393062591552734,
          7.375338077545166,
          27.68059539794922,
          38.86720657348633,
          26.958797454833984,
          16.505460739135742,
          28.426761627197266,
          42.03706741333008,
          19.28407859802246,
          9.230106353759766,
          27.52465057373047,
          40.95457458496094,
          25.25215721130371,
          32.82429504394531,
          51.82450866699219,
          43.80202865600586,
          45.861995697021484,
          34.91667938232422,
          36.273826599121094,
          35.0489501953125,
          41.04400634765625,
          50.304439544677734,
          11.217082977294922,
          11.630020141601562,
          10.857232093811035,
          38.919681549072266,
          35.28057861328125,
          33.91152572631836,
          99.61121368408203,
          63.08316421508789,
          34.529815673828125,
          37.30644607543945,
          51.48116683959961,
          66.49449920654297,
          60.576236724853516,
          38.39738845825195,
          19.05332374572754,
          6.1781511306762695,
          38.000152587890625,
          45.51609802246094,
          63.312843322753906,
          41.68539810180664,
          25.05722427368164,
          27.692020416259766,
          17.721162796020508,
          2.339846611022949,
          32.760955810546875,
          19.21938133239746,
          51.176761627197266,
          53.08056640625,
          56.936920166015625,
          56.50730895996094,
          58.06658935546875,
          63.07497024536133,
          62.96074295043945,
          62.83251953125,
          66.68109893798828,
          55.77956771850586,
          57.77667236328125,
          62.07830047607422,
          62.14271545410156,
          63.735721588134766,
          68.85726165771484,
          69.3759765625,
          69.2451171875,
          73.2424087524414,
          57.777305603027344,
          59.443626403808594,
          63.91032791137695,
          63.87541961669922,
          66.14163208007812,
          73.17445373535156,
          70.53520965576172,
          72.1055679321289,
          79.77674102783203,
          53.07179641723633,
          54.36319351196289,
          58.42510986328125,
          55.11752700805664,
          59.53508758544922,
          56.6820068359375,
          55.21110153198242,
          57.47665786743164,
          31.78739356994629,
          30.35385513305664,
          32.68372344970703,
          29.89358901977539,
          30.65848731994629,
          29.6672306060791,
          26.22686004638672,
          3.713317394256592,
          8.597070693969727,
          5.546273231506348,
          19.385480880737305,
          22.6893367767334,
          22.066009521484375,
          26.146587371826172,
          8.593916893005371,
          0.7797863483428955,
          6.183187961578369,
          9.435528755187988,
          6.976410388946533,
          11.872267723083496,
          6.4062066078186035,
          10.296028137207031,
          15.580392837524414,
          14.586947441101074,
          4.456537246704102,
          11.233595848083496,
          4.18661642074585,
          9.671585083007812,
          6.970169544219971,
          9.254873275756836,
          5.671136856079102,
          10.696182250976562,
          6.871612548828125,
          14.838788986206055,
          18.80440902709961,
          1.5277225971221924,
          4.3826069831848145,
          4.9728264808654785,
          6.106743812561035,
          0.8870278000831604,
          1.4579225778579712,
          9.262404441833496,
          2.8095102310180664,
          5.810210227966309,
          15.447222709655762,
          3.610483169555664,
          10.433778762817383,
          11.443922996520996,
          5.011214256286621,
          10.309432029724121,
          5.315857410430908,
          7.834543228149414,
          16.406841278076172,
          34.14116287231445,
          28.441438674926758,
          22.384897232055664,
          27.973249435424805,
          22.834569931030273,
          16.54744529724121,
          12.629435539245605,
          5.663336277008057,
          11.795124053955078,
          10.990303039550781,
          18.783918380737305,
          17.793527603149414,
          25.096010208129883,
          7.35221529006958,
          7.01450252532959,
          6.221982002258301,
          1.9546442031860352,
          5.927068710327148,
          11.330053329467773,
          8.368568420410156,
          11.755670547485352,
          14.93562126159668,
          6.325045585632324,
          10.105579376220703,
          3.933568000793457,
          8.857598304748535,
          11.222137451171875,
          5.387964248657227,
          14.191492080688477,
          25.087995529174805,
          22.951662063598633,
          25.29291343688965,
          24.188480377197266,
          25.9258975982666,
          27.68909454345703,
          24.470684051513672,
          1.931679368019104,
          6.621608734130859,
          14.394244194030762,
          0.25794029235839844,
          4.203121662139893,
          4.7668681144714355,
          6.203329563140869,
          5.607010841369629,
          60.01801300048828,
          38.17166519165039,
          42.37020492553711,
          0.5012782216072083,
          0.7959203124046326,
          0,
          8.60640811920166,
          6.8144121170043945,
          5.029272556304932,
          4.4340081214904785,
          5.13934326171875,
          5.801786422729492,
          2.985034465789795,
          13.57825756072998,
          11.17435073852539,
          8.336565971374512,
          9.457324981689453,
          3.7873525619506836,
          1.5541986227035522,
          5.365695953369141,
          3.8455536365509033,
          6.782150745391846,
          50.26991653442383,
          52.080806732177734,
          27.560985565185547,
          12.237007141113281,
          5.9897871017456055,
          23.491086959838867,
          5.700906753540039,
          8.88665771484375,
          5.06244421005249,
          2.527547836303711,
          9.583651542663574,
          14.455425262451172,
          28.11771583557129,
          8.934297561645508,
          3.2063674926757812,
          6.763393878936768,
          9.143600463867188,
          2.348511219024658,
          5.03290319442749,
          7.2815728187561035,
          4.310363292694092,
          7.916308403015137,
          7.692008972167969,
          4.624281883239746,
          5.233067512512207,
          4.965851783752441,
          3.3754396438598633,
          8.43700885772705,
          7.347471714019775,
          16.027162551879883,
          1.347400188446045,
          10.789834976196289,
          17.255308151245117,
          4.283290863037109,
          14.339866638183594,
          19.61774444580078,
          19.203676223754883,
          43.723777770996094,
          54.77400207519531,
          10.72225284576416,
          30.843732833862305,
          43.50004577636719,
          8.216414451599121,
          26.05175018310547,
          37.44068145751953,
          38.40715408325195,
          23.96025848388672,
          3.788233518600464,
          7.499664783477783,
          0.5492767691612244,
          2.734239339828491,
          3.686795949935913,
          8.261756896972656,
          5.1272382736206055,
          14.976954460144043,
          16.41836929321289,
          7.174681663513184,
          18.869220733642578,
          11.889107704162598,
          7.648775100708008,
          20.59897232055664,
          13.643671035766602,
          9.637924194335938,
          12.73221492767334,
          29.574790954589844,
          52.366580963134766,
          0.15468823909759521,
          0.7216470837593079,
          7.359781742095947,
          1.8052332401275635,
          3.1707003116607666,
          51.71320724487305,
          16.266338348388672,
          39.324180603027344,
          20.75430679321289,
          16.03716278076172,
          48.21784591674805,
          7.512146472930908,
          16.466156005859375,
          19.403831481933594,
          12.34947681427002,
          17.082609176635742,
          10.689266204833984,
          13.570460319519043,
          17.724300384521484,
          0.35515111684799194,
          1.8195799589157104,
          12.329392433166504,
          28.49317169189453,
          7.254642486572266,
          2.8175439834594727,
          2.0964841842651367,
          22.12510871887207,
          10.317008972167969,
          5.000635147094727,
          6.376150608062744,
          2.0401811599731445,
          7.563547134399414,
          4.5405097007751465,
          9.59216594696045,
          7.2388081550598145,
          4.974464416503906,
          5.875060558319092,
          1.7736611366271973,
          18.279489517211914,
          6.351067543029785,
          10.063011169433594,
          6.910325527191162,
          701.94384765625,
          845.95361328125,
          1547.238525390625,
          779.3818359375,
          1348.2410888671875,
          847.5459594726562,
          573.7213134765625,
          4.557106018066406,
          1.997613787651062,
          4.003142356872559,
          0.6534439921379089,
          4.307182788848877,
          23.930559158325195,
          1.7036323547363281,
          18.220272064208984,
          11.421856880187988,
          315.63946533203125,
          310.8349304199219,
          142.500732421875,
          0,
          0,
          0,
          0,
          0,
          0,
          0,
          426.1214599609375,
          238.00437927246094,
          671.8385009765625,
          425.4091491699219,
          474.47015380859375,
          0,
          0,
          0,
          0,
          0,
          0,
          0,
          0,
          890.8397216796875,
          564.7349853515625,
          1970.206298828125,
          1492.784912109375,
          149.00604248046875,
          1165.079833984375,
          2044.340576171875,
          755.2467041015625,
          501.7815246582031,
          769.7587890625,
          468.2837829589844
         ],
         "yaxis": "y"
        }
       ],
       "layout": {
        "barmode": "group",
        "coloraxis": {
         "colorbar": {
          "title": {
           "text": "Laser"
          }
         },
         "colorscale": [
          [
           0,
           "#0d0887"
          ],
          [
           0.1111111111111111,
           "#46039f"
          ],
          [
           0.2222222222222222,
           "#7201a8"
          ],
          [
           0.3333333333333333,
           "#9c179e"
          ],
          [
           0.4444444444444444,
           "#bd3786"
          ],
          [
           0.5555555555555556,
           "#d8576b"
          ],
          [
           0.6666666666666666,
           "#ed7953"
          ],
          [
           0.7777777777777778,
           "#fb9f3a"
          ],
          [
           0.8888888888888888,
           "#fdca26"
          ],
          [
           1,
           "#f0f921"
          ]
         ]
        },
        "legend": {
         "tracegroupgap": 0
        },
        "margin": {
         "t": 60
        },
        "template": {
         "data": {
          "bar": [
           {
            "error_x": {
             "color": "#2a3f5f"
            },
            "error_y": {
             "color": "#2a3f5f"
            },
            "marker": {
             "line": {
              "color": "#E5ECF6",
              "width": 0.5
             },
             "pattern": {
              "fillmode": "overlay",
              "size": 10,
              "solidity": 0.2
             }
            },
            "type": "bar"
           }
          ],
          "barpolar": [
           {
            "marker": {
             "line": {
              "color": "#E5ECF6",
              "width": 0.5
             },
             "pattern": {
              "fillmode": "overlay",
              "size": 10,
              "solidity": 0.2
             }
            },
            "type": "barpolar"
           }
          ],
          "carpet": [
           {
            "aaxis": {
             "endlinecolor": "#2a3f5f",
             "gridcolor": "white",
             "linecolor": "white",
             "minorgridcolor": "white",
             "startlinecolor": "#2a3f5f"
            },
            "baxis": {
             "endlinecolor": "#2a3f5f",
             "gridcolor": "white",
             "linecolor": "white",
             "minorgridcolor": "white",
             "startlinecolor": "#2a3f5f"
            },
            "type": "carpet"
           }
          ],
          "choropleth": [
           {
            "colorbar": {
             "outlinewidth": 0,
             "ticks": ""
            },
            "type": "choropleth"
           }
          ],
          "contour": [
           {
            "colorbar": {
             "outlinewidth": 0,
             "ticks": ""
            },
            "colorscale": [
             [
              0,
              "#0d0887"
             ],
             [
              0.1111111111111111,
              "#46039f"
             ],
             [
              0.2222222222222222,
              "#7201a8"
             ],
             [
              0.3333333333333333,
              "#9c179e"
             ],
             [
              0.4444444444444444,
              "#bd3786"
             ],
             [
              0.5555555555555556,
              "#d8576b"
             ],
             [
              0.6666666666666666,
              "#ed7953"
             ],
             [
              0.7777777777777778,
              "#fb9f3a"
             ],
             [
              0.8888888888888888,
              "#fdca26"
             ],
             [
              1,
              "#f0f921"
             ]
            ],
            "type": "contour"
           }
          ],
          "contourcarpet": [
           {
            "colorbar": {
             "outlinewidth": 0,
             "ticks": ""
            },
            "type": "contourcarpet"
           }
          ],
          "heatmap": [
           {
            "colorbar": {
             "outlinewidth": 0,
             "ticks": ""
            },
            "colorscale": [
             [
              0,
              "#0d0887"
             ],
             [
              0.1111111111111111,
              "#46039f"
             ],
             [
              0.2222222222222222,
              "#7201a8"
             ],
             [
              0.3333333333333333,
              "#9c179e"
             ],
             [
              0.4444444444444444,
              "#bd3786"
             ],
             [
              0.5555555555555556,
              "#d8576b"
             ],
             [
              0.6666666666666666,
              "#ed7953"
             ],
             [
              0.7777777777777778,
              "#fb9f3a"
             ],
             [
              0.8888888888888888,
              "#fdca26"
             ],
             [
              1,
              "#f0f921"
             ]
            ],
            "type": "heatmap"
           }
          ],
          "heatmapgl": [
           {
            "colorbar": {
             "outlinewidth": 0,
             "ticks": ""
            },
            "colorscale": [
             [
              0,
              "#0d0887"
             ],
             [
              0.1111111111111111,
              "#46039f"
             ],
             [
              0.2222222222222222,
              "#7201a8"
             ],
             [
              0.3333333333333333,
              "#9c179e"
             ],
             [
              0.4444444444444444,
              "#bd3786"
             ],
             [
              0.5555555555555556,
              "#d8576b"
             ],
             [
              0.6666666666666666,
              "#ed7953"
             ],
             [
              0.7777777777777778,
              "#fb9f3a"
             ],
             [
              0.8888888888888888,
              "#fdca26"
             ],
             [
              1,
              "#f0f921"
             ]
            ],
            "type": "heatmapgl"
           }
          ],
          "histogram": [
           {
            "marker": {
             "pattern": {
              "fillmode": "overlay",
              "size": 10,
              "solidity": 0.2
             }
            },
            "type": "histogram"
           }
          ],
          "histogram2d": [
           {
            "colorbar": {
             "outlinewidth": 0,
             "ticks": ""
            },
            "colorscale": [
             [
              0,
              "#0d0887"
             ],
             [
              0.1111111111111111,
              "#46039f"
             ],
             [
              0.2222222222222222,
              "#7201a8"
             ],
             [
              0.3333333333333333,
              "#9c179e"
             ],
             [
              0.4444444444444444,
              "#bd3786"
             ],
             [
              0.5555555555555556,
              "#d8576b"
             ],
             [
              0.6666666666666666,
              "#ed7953"
             ],
             [
              0.7777777777777778,
              "#fb9f3a"
             ],
             [
              0.8888888888888888,
              "#fdca26"
             ],
             [
              1,
              "#f0f921"
             ]
            ],
            "type": "histogram2d"
           }
          ],
          "histogram2dcontour": [
           {
            "colorbar": {
             "outlinewidth": 0,
             "ticks": ""
            },
            "colorscale": [
             [
              0,
              "#0d0887"
             ],
             [
              0.1111111111111111,
              "#46039f"
             ],
             [
              0.2222222222222222,
              "#7201a8"
             ],
             [
              0.3333333333333333,
              "#9c179e"
             ],
             [
              0.4444444444444444,
              "#bd3786"
             ],
             [
              0.5555555555555556,
              "#d8576b"
             ],
             [
              0.6666666666666666,
              "#ed7953"
             ],
             [
              0.7777777777777778,
              "#fb9f3a"
             ],
             [
              0.8888888888888888,
              "#fdca26"
             ],
             [
              1,
              "#f0f921"
             ]
            ],
            "type": "histogram2dcontour"
           }
          ],
          "mesh3d": [
           {
            "colorbar": {
             "outlinewidth": 0,
             "ticks": ""
            },
            "type": "mesh3d"
           }
          ],
          "parcoords": [
           {
            "line": {
             "colorbar": {
              "outlinewidth": 0,
              "ticks": ""
             }
            },
            "type": "parcoords"
           }
          ],
          "pie": [
           {
            "automargin": true,
            "type": "pie"
           }
          ],
          "scatter": [
           {
            "fillpattern": {
             "fillmode": "overlay",
             "size": 10,
             "solidity": 0.2
            },
            "type": "scatter"
           }
          ],
          "scatter3d": [
           {
            "line": {
             "colorbar": {
              "outlinewidth": 0,
              "ticks": ""
             }
            },
            "marker": {
             "colorbar": {
              "outlinewidth": 0,
              "ticks": ""
             }
            },
            "type": "scatter3d"
           }
          ],
          "scattercarpet": [
           {
            "marker": {
             "colorbar": {
              "outlinewidth": 0,
              "ticks": ""
             }
            },
            "type": "scattercarpet"
           }
          ],
          "scattergeo": [
           {
            "marker": {
             "colorbar": {
              "outlinewidth": 0,
              "ticks": ""
             }
            },
            "type": "scattergeo"
           }
          ],
          "scattergl": [
           {
            "marker": {
             "colorbar": {
              "outlinewidth": 0,
              "ticks": ""
             }
            },
            "type": "scattergl"
           }
          ],
          "scattermapbox": [
           {
            "marker": {
             "colorbar": {
              "outlinewidth": 0,
              "ticks": ""
             }
            },
            "type": "scattermapbox"
           }
          ],
          "scatterpolar": [
           {
            "marker": {
             "colorbar": {
              "outlinewidth": 0,
              "ticks": ""
             }
            },
            "type": "scatterpolar"
           }
          ],
          "scatterpolargl": [
           {
            "marker": {
             "colorbar": {
              "outlinewidth": 0,
              "ticks": ""
             }
            },
            "type": "scatterpolargl"
           }
          ],
          "scatterternary": [
           {
            "marker": {
             "colorbar": {
              "outlinewidth": 0,
              "ticks": ""
             }
            },
            "type": "scatterternary"
           }
          ],
          "surface": [
           {
            "colorbar": {
             "outlinewidth": 0,
             "ticks": ""
            },
            "colorscale": [
             [
              0,
              "#0d0887"
             ],
             [
              0.1111111111111111,
              "#46039f"
             ],
             [
              0.2222222222222222,
              "#7201a8"
             ],
             [
              0.3333333333333333,
              "#9c179e"
             ],
             [
              0.4444444444444444,
              "#bd3786"
             ],
             [
              0.5555555555555556,
              "#d8576b"
             ],
             [
              0.6666666666666666,
              "#ed7953"
             ],
             [
              0.7777777777777778,
              "#fb9f3a"
             ],
             [
              0.8888888888888888,
              "#fdca26"
             ],
             [
              1,
              "#f0f921"
             ]
            ],
            "type": "surface"
           }
          ],
          "table": [
           {
            "cells": {
             "fill": {
              "color": "#EBF0F8"
             },
             "line": {
              "color": "white"
             }
            },
            "header": {
             "fill": {
              "color": "#C8D4E3"
             },
             "line": {
              "color": "white"
             }
            },
            "type": "table"
           }
          ]
         },
         "layout": {
          "annotationdefaults": {
           "arrowcolor": "#2a3f5f",
           "arrowhead": 0,
           "arrowwidth": 1
          },
          "autotypenumbers": "strict",
          "coloraxis": {
           "colorbar": {
            "outlinewidth": 0,
            "ticks": ""
           }
          },
          "colorscale": {
           "diverging": [
            [
             0,
             "#8e0152"
            ],
            [
             0.1,
             "#c51b7d"
            ],
            [
             0.2,
             "#de77ae"
            ],
            [
             0.3,
             "#f1b6da"
            ],
            [
             0.4,
             "#fde0ef"
            ],
            [
             0.5,
             "#f7f7f7"
            ],
            [
             0.6,
             "#e6f5d0"
            ],
            [
             0.7,
             "#b8e186"
            ],
            [
             0.8,
             "#7fbc41"
            ],
            [
             0.9,
             "#4d9221"
            ],
            [
             1,
             "#276419"
            ]
           ],
           "sequential": [
            [
             0,
             "#0d0887"
            ],
            [
             0.1111111111111111,
             "#46039f"
            ],
            [
             0.2222222222222222,
             "#7201a8"
            ],
            [
             0.3333333333333333,
             "#9c179e"
            ],
            [
             0.4444444444444444,
             "#bd3786"
            ],
            [
             0.5555555555555556,
             "#d8576b"
            ],
            [
             0.6666666666666666,
             "#ed7953"
            ],
            [
             0.7777777777777778,
             "#fb9f3a"
            ],
            [
             0.8888888888888888,
             "#fdca26"
            ],
            [
             1,
             "#f0f921"
            ]
           ],
           "sequentialminus": [
            [
             0,
             "#0d0887"
            ],
            [
             0.1111111111111111,
             "#46039f"
            ],
            [
             0.2222222222222222,
             "#7201a8"
            ],
            [
             0.3333333333333333,
             "#9c179e"
            ],
            [
             0.4444444444444444,
             "#bd3786"
            ],
            [
             0.5555555555555556,
             "#d8576b"
            ],
            [
             0.6666666666666666,
             "#ed7953"
            ],
            [
             0.7777777777777778,
             "#fb9f3a"
            ],
            [
             0.8888888888888888,
             "#fdca26"
            ],
            [
             1,
             "#f0f921"
            ]
           ]
          },
          "colorway": [
           "#636efa",
           "#EF553B",
           "#00cc96",
           "#ab63fa",
           "#FFA15A",
           "#19d3f3",
           "#FF6692",
           "#B6E880",
           "#FF97FF",
           "#FECB52"
          ],
          "font": {
           "color": "#2a3f5f"
          },
          "geo": {
           "bgcolor": "white",
           "lakecolor": "white",
           "landcolor": "#E5ECF6",
           "showlakes": true,
           "showland": true,
           "subunitcolor": "white"
          },
          "hoverlabel": {
           "align": "left"
          },
          "hovermode": "closest",
          "mapbox": {
           "style": "light"
          },
          "paper_bgcolor": "white",
          "plot_bgcolor": "#E5ECF6",
          "polar": {
           "angularaxis": {
            "gridcolor": "white",
            "linecolor": "white",
            "ticks": ""
           },
           "bgcolor": "#E5ECF6",
           "radialaxis": {
            "gridcolor": "white",
            "linecolor": "white",
            "ticks": ""
           }
          },
          "scene": {
           "xaxis": {
            "backgroundcolor": "#E5ECF6",
            "gridcolor": "white",
            "gridwidth": 2,
            "linecolor": "white",
            "showbackground": true,
            "ticks": "",
            "zerolinecolor": "white"
           },
           "yaxis": {
            "backgroundcolor": "#E5ECF6",
            "gridcolor": "white",
            "gridwidth": 2,
            "linecolor": "white",
            "showbackground": true,
            "ticks": "",
            "zerolinecolor": "white"
           },
           "zaxis": {
            "backgroundcolor": "#E5ECF6",
            "gridcolor": "white",
            "gridwidth": 2,
            "linecolor": "white",
            "showbackground": true,
            "ticks": "",
            "zerolinecolor": "white"
           }
          },
          "shapedefaults": {
           "line": {
            "color": "#2a3f5f"
           }
          },
          "ternary": {
           "aaxis": {
            "gridcolor": "white",
            "linecolor": "white",
            "ticks": ""
           },
           "baxis": {
            "gridcolor": "white",
            "linecolor": "white",
            "ticks": ""
           },
           "bgcolor": "#E5ECF6",
           "caxis": {
            "gridcolor": "white",
            "linecolor": "white",
            "ticks": ""
           }
          },
          "title": {
           "x": 0.05
          },
          "xaxis": {
           "automargin": true,
           "gridcolor": "white",
           "linecolor": "white",
           "ticks": "",
           "title": {
            "standoff": 15
           },
           "zerolinecolor": "white",
           "zerolinewidth": 2
          },
          "yaxis": {
           "automargin": true,
           "gridcolor": "white",
           "linecolor": "white",
           "ticks": "",
           "title": {
            "standoff": 15
           },
           "zerolinecolor": "white",
           "zerolinewidth": 2
          }
         }
        },
        "xaxis": {
         "anchor": "y",
         "domain": [
          0,
          1
         ],
         "title": {
          "text": "Camera"
         }
        },
        "yaxis": {
         "anchor": "x",
         "autorange": "reversed",
         "domain": [
          0,
          1
         ],
         "title": {
          "text": "residual"
         }
        }
       }
      }
     },
     "metadata": {},
     "output_type": "display_data"
    }
   ],
   "source": [
    "# get residuals on beamCaptures\n",
    "\n",
    "data_points = []\n",
    "for camera_capture in calibrate_node['Content']['cameraCaptures']['captures']:\n",
    "\tfor laser_capture in camera_capture['laserCaptures']['captures']:\n",
    "\t\tif laser_capture['Selected']:\n",
    "\t\t\tbeam_capture_index = 0\n",
    "\t\t\tfor beam_capture in laser_capture['beamCaptures']['captures']:\n",
    "\t\t\t\tif beam_capture['Selected']:\n",
    "\t\t\t\t\tdata_point = {}\n",
    "\t\t\t\t\tdata_point['Camera'] = \"{0} {1}\".format(camera_capture['date'], camera_capture['time'])\n",
    "\t\t\t\t\tdata_point['Laser'] = laser_capture['serialNumber']\n",
    "\t\t\t\t\tdata_point['projectionPoint_x'] = beam_capture['projectionPoint'][0]\n",
    "\t\t\t\t\tdata_point['projectionPoint_y'] = beam_capture['projectionPoint'][1]\n",
    "\t\t\t\t\tdata_point['residual'] = beam_capture['residual']\n",
    "\t\t\t\t\tdata_point['beam_capture_index'] = beam_capture_index\n",
    "\t\t\t\t\tdata_points.append(data_point)\n",
    "\t\t\t\t\tbeam_capture_index += 1\n",
    "\n",
    "\n",
    "fig = px.bar(data_points\n",
    "\t, x='Camera'\n",
    "\t, color='Laser'\n",
    "\t, y='residual'\n",
    "\t, hover_name='Laser'\n",
    "\t, hover_data=['beam_capture_index', 'projectionPoint_x', 'projectionPoint_y']\n",
    "\t, barmode=\"group\")\n",
    "fig.update_yaxes(autorange=\"reversed\")\n",
    "fig.show()"
   ]
  },
  {
   "cell_type": "code",
   "execution_count": 15,
   "metadata": {},
   "outputs": [
    {
     "data": {
      "application/vnd.plotly.v1+json": {
       "config": {
        "plotlyServerURL": "https://plot.ly"
       },
       "data": [
        {
         "customdata": [
          [
           0,
           -0.5,
           -0.5
          ],
          [
           1,
           0,
           -0.5
          ],
          [
           2,
           0.5,
           -0.5
          ],
          [
           3,
           -0.5,
           0
          ],
          [
           4,
           0,
           0
          ],
          [
           5,
           0.5,
           0
          ],
          [
           6,
           -0.5,
           0.5
          ],
          [
           7,
           0,
           0.5
          ],
          [
           8,
           0.5,
           0.5
          ],
          [
           0,
           -0.5,
           -0.5
          ],
          [
           1,
           0,
           -0.5
          ],
          [
           2,
           0.5,
           -0.5
          ],
          [
           3,
           -0.5,
           0
          ],
          [
           4,
           0,
           0
          ],
          [
           5,
           0.5,
           0
          ],
          [
           6,
           -0.5,
           0.5
          ],
          [
           7,
           0,
           0.5
          ],
          [
           8,
           0.5,
           0.5
          ],
          [
           0,
           -0.5,
           -0.5
          ],
          [
           1,
           0,
           -0.5
          ],
          [
           2,
           0.5,
           -0.5
          ],
          [
           3,
           -0.5,
           0
          ],
          [
           4,
           0,
           0
          ],
          [
           5,
           0.5,
           0
          ],
          [
           6,
           -0.5,
           0.5
          ],
          [
           7,
           0,
           0.5
          ],
          [
           8,
           0.5,
           0.5
          ],
          [
           0,
           -0.5,
           -0.5
          ],
          [
           1,
           0,
           -0.5
          ],
          [
           2,
           0.5,
           -0.5
          ],
          [
           3,
           -0.5,
           0
          ],
          [
           4,
           0,
           0
          ],
          [
           5,
           0.5,
           0
          ],
          [
           6,
           -0.5,
           0.5
          ],
          [
           7,
           0,
           0.5
          ],
          [
           8,
           0.5,
           0.5
          ],
          [
           0,
           -0.5,
           -0.5
          ],
          [
           1,
           0,
           -0.5
          ],
          [
           2,
           0.5,
           -0.5
          ],
          [
           3,
           -0.5,
           0
          ],
          [
           4,
           0,
           0
          ],
          [
           5,
           0.5,
           0
          ],
          [
           6,
           -0.5,
           0.5
          ],
          [
           7,
           0,
           0.5
          ],
          [
           8,
           0.5,
           0.5
          ],
          [
           0,
           -0.5,
           -0.5
          ],
          [
           1,
           0,
           -0.5
          ],
          [
           2,
           0.5,
           -0.5
          ],
          [
           3,
           -0.5,
           0
          ],
          [
           4,
           0,
           0
          ],
          [
           5,
           0.5,
           0
          ],
          [
           6,
           -0.5,
           0.5
          ],
          [
           7,
           0,
           0.5
          ],
          [
           8,
           0.5,
           0.5
          ],
          [
           0,
           -0.5,
           -0.5
          ],
          [
           1,
           0,
           -0.5
          ],
          [
           2,
           0.5,
           -0.5
          ],
          [
           3,
           -0.5,
           0
          ],
          [
           4,
           0,
           0
          ],
          [
           5,
           0.5,
           0
          ],
          [
           6,
           -0.5,
           0.5
          ],
          [
           7,
           0,
           0.5
          ],
          [
           8,
           0.5,
           0.5
          ],
          [
           0,
           -0.5,
           -0.5
          ],
          [
           1,
           0,
           -0.5
          ],
          [
           2,
           0.5,
           -0.5
          ],
          [
           3,
           -0.5,
           0
          ],
          [
           4,
           0,
           0
          ],
          [
           5,
           0.5,
           0
          ],
          [
           6,
           -0.5,
           0.5
          ],
          [
           7,
           0,
           0.5
          ],
          [
           8,
           0.5,
           0.5
          ],
          [
           0,
           -0.5,
           -0.5
          ],
          [
           1,
           0,
           -0.5
          ],
          [
           2,
           0.5,
           -0.5
          ],
          [
           3,
           -0.5,
           0
          ],
          [
           4,
           0.5,
           0
          ],
          [
           5,
           -0.5,
           0.5
          ],
          [
           6,
           0,
           0.5
          ],
          [
           7,
           0.5,
           0.5
          ],
          [
           0,
           -0.5,
           -0.5
          ],
          [
           1,
           0,
           -0.5
          ],
          [
           2,
           0.5,
           -0.5
          ],
          [
           3,
           -0.5,
           0
          ],
          [
           4,
           0,
           0
          ],
          [
           5,
           0.5,
           0
          ],
          [
           6,
           -0.5,
           0.5
          ],
          [
           7,
           0,
           0.5
          ],
          [
           8,
           0.5,
           0.5
          ],
          [
           0,
           -0.5,
           -0.5
          ],
          [
           1,
           0,
           -0.5
          ],
          [
           2,
           -0.5,
           0
          ],
          [
           3,
           0,
           0
          ],
          [
           4,
           0.5,
           0
          ],
          [
           5,
           -0.5,
           0.5
          ],
          [
           6,
           0,
           0.5
          ],
          [
           7,
           0.5,
           0.5
          ],
          [
           0,
           0,
           -0.5
          ],
          [
           1,
           0.5,
           -0.5
          ],
          [
           2,
           -0.5,
           0
          ],
          [
           3,
           0,
           0
          ],
          [
           4,
           0.5,
           0
          ],
          [
           5,
           -0.5,
           0.5
          ],
          [
           6,
           0,
           0.5
          ],
          [
           0,
           -0.5,
           -0.5
          ],
          [
           1,
           0,
           -0.5
          ],
          [
           2,
           0.5,
           -0.5
          ],
          [
           3,
           -0.5,
           0
          ],
          [
           4,
           0,
           0
          ],
          [
           5,
           0.5,
           0
          ],
          [
           6,
           0,
           0.5
          ],
          [
           7,
           0.5,
           0.5
          ],
          [
           0,
           -0.5,
           -0.5
          ],
          [
           1,
           0,
           -0.5
          ],
          [
           2,
           0.5,
           -0.5
          ],
          [
           3,
           -0.5,
           0
          ],
          [
           4,
           0,
           0
          ],
          [
           5,
           0.5,
           0
          ],
          [
           6,
           -0.5,
           0.5
          ],
          [
           7,
           0,
           0.5
          ],
          [
           0,
           -0.5,
           -0.5
          ],
          [
           1,
           0,
           -0.5
          ],
          [
           2,
           0.5,
           -0.5
          ],
          [
           3,
           0,
           0
          ],
          [
           4,
           0.5,
           0
          ],
          [
           5,
           -0.5,
           0.5
          ],
          [
           6,
           0,
           0.5
          ],
          [
           0,
           -0.5,
           -0.5
          ],
          [
           1,
           0,
           -0.5
          ],
          [
           2,
           0.5,
           -0.5
          ],
          [
           3,
           -0.5,
           0
          ],
          [
           4,
           0,
           0
          ],
          [
           5,
           0.5,
           0
          ],
          [
           6,
           -0.5,
           0.5
          ],
          [
           7,
           0,
           0.5
          ],
          [
           8,
           0.5,
           0.5
          ],
          [
           0,
           0,
           -0.5
          ],
          [
           1,
           0.5,
           -0.5
          ],
          [
           2,
           0,
           0
          ],
          [
           3,
           0.5,
           0
          ],
          [
           4,
           0,
           0.5
          ],
          [
           5,
           0.5,
           0.5
          ],
          [
           0,
           -0.5,
           -0.5
          ],
          [
           1,
           0,
           -0.5
          ],
          [
           2,
           0.5,
           -0.5
          ],
          [
           3,
           -0.5,
           0
          ],
          [
           4,
           0,
           0
          ],
          [
           5,
           0.5,
           0
          ],
          [
           6,
           -0.5,
           0.5
          ],
          [
           7,
           0,
           0.5
          ],
          [
           8,
           0.5,
           0.5
          ],
          [
           0,
           -0.5,
           -0.5
          ],
          [
           1,
           0,
           -0.5
          ],
          [
           2,
           0.5,
           -0.5
          ],
          [
           3,
           -0.5,
           0
          ],
          [
           4,
           0.5,
           0
          ],
          [
           5,
           -0.5,
           0.5
          ],
          [
           6,
           0,
           0.5
          ],
          [
           7,
           0.5,
           0.5
          ],
          [
           0,
           -0.5,
           -0.5
          ],
          [
           1,
           0,
           -0.5
          ],
          [
           2,
           0.5,
           -0.5
          ],
          [
           3,
           -0.5,
           0
          ],
          [
           4,
           0,
           0
          ],
          [
           5,
           0.5,
           0
          ],
          [
           6,
           -0.5,
           0.5
          ],
          [
           7,
           0,
           0.5
          ],
          [
           8,
           0.5,
           0.5
          ],
          [
           0,
           -0.5,
           -0.5
          ],
          [
           1,
           0,
           -0.5
          ],
          [
           2,
           0.5,
           -0.5
          ],
          [
           3,
           -0.5,
           0
          ],
          [
           4,
           0,
           0
          ],
          [
           5,
           0.5,
           0
          ],
          [
           6,
           -0.5,
           0.5
          ],
          [
           7,
           0,
           0.5
          ],
          [
           8,
           0.5,
           0.5
          ],
          [
           0,
           -0.5,
           -0.5
          ],
          [
           1,
           0,
           -0.5
          ],
          [
           2,
           0.5,
           -0.5
          ],
          [
           3,
           -0.5,
           0
          ],
          [
           4,
           0,
           0
          ],
          [
           5,
           0.5,
           0
          ],
          [
           6,
           -0.5,
           0.5
          ],
          [
           7,
           0,
           0.5
          ],
          [
           8,
           0.5,
           0.5
          ],
          [
           0,
           0,
           -0.5
          ],
          [
           1,
           0.5,
           -0.5
          ],
          [
           2,
           -0.5,
           0
          ],
          [
           3,
           0,
           0
          ],
          [
           4,
           0.5,
           0
          ],
          [
           5,
           -0.5,
           0.5
          ],
          [
           6,
           0,
           0.5
          ],
          [
           7,
           0.5,
           0.5
          ],
          [
           0,
           -0.5,
           -0.5
          ],
          [
           1,
           0,
           -0.5
          ],
          [
           2,
           0.5,
           -0.5
          ],
          [
           3,
           -0.5,
           0
          ],
          [
           4,
           0,
           0
          ],
          [
           5,
           0.5,
           0
          ],
          [
           6,
           -0.5,
           0.5
          ],
          [
           7,
           0,
           0.5
          ],
          [
           8,
           0.5,
           0.5
          ],
          [
           0,
           -0.5,
           -0.5
          ],
          [
           1,
           0,
           -0.5
          ],
          [
           2,
           0.5,
           -0.5
          ],
          [
           3,
           -0.5,
           0
          ],
          [
           4,
           0,
           0
          ],
          [
           5,
           0.5,
           0
          ],
          [
           6,
           -0.5,
           0.5
          ],
          [
           7,
           0,
           0.5
          ],
          [
           8,
           0.5,
           0.5
          ],
          [
           0,
           -0.5,
           -0.5
          ],
          [
           1,
           0,
           -0.5
          ],
          [
           2,
           0.5,
           -0.5
          ],
          [
           3,
           -0.5,
           0
          ],
          [
           4,
           0,
           0
          ],
          [
           5,
           0.5,
           0
          ],
          [
           6,
           -0.5,
           0.5
          ],
          [
           7,
           0,
           0.5
          ],
          [
           8,
           0.5,
           0.5
          ],
          [
           0,
           -0.5,
           -0.5
          ],
          [
           1,
           0,
           -0.5
          ],
          [
           2,
           0.5,
           -0.5
          ],
          [
           3,
           -0.5,
           0
          ],
          [
           4,
           0,
           0
          ],
          [
           5,
           0.5,
           0
          ],
          [
           6,
           -0.5,
           0.5
          ],
          [
           7,
           0,
           0.5
          ],
          [
           8,
           0.5,
           0.5
          ]
         ],
         "hovertemplate": "<b>%{hovertext}</b><br><br>Camera=Thu 2022.05.19 23:08<br>residual=%{x}<br>Laser=%{y}<br>beam_capture_index=%{customdata[0]}<br>projectionPoint_x=%{customdata[1]}<br>projectionPoint_y=%{customdata[2]}<extra></extra>",
         "hovertext": [
          1,
          1,
          1,
          1,
          1,
          1,
          1,
          1,
          1,
          2,
          2,
          2,
          2,
          2,
          2,
          2,
          2,
          2,
          3,
          3,
          3,
          3,
          3,
          3,
          3,
          3,
          3,
          4,
          4,
          4,
          4,
          4,
          4,
          4,
          4,
          4,
          12,
          12,
          12,
          12,
          12,
          12,
          12,
          12,
          12,
          7,
          7,
          7,
          7,
          7,
          7,
          7,
          7,
          7,
          8,
          8,
          8,
          8,
          8,
          8,
          8,
          8,
          8,
          10,
          10,
          10,
          10,
          10,
          10,
          10,
          10,
          10,
          11,
          11,
          11,
          11,
          11,
          11,
          11,
          11,
          13,
          13,
          13,
          13,
          13,
          13,
          13,
          13,
          13,
          14,
          14,
          14,
          14,
          14,
          14,
          14,
          14,
          16,
          16,
          16,
          16,
          16,
          16,
          16,
          17,
          17,
          17,
          17,
          17,
          17,
          17,
          17,
          18,
          18,
          18,
          18,
          18,
          18,
          18,
          18,
          19,
          19,
          19,
          19,
          19,
          19,
          19,
          22,
          22,
          22,
          22,
          22,
          22,
          22,
          22,
          22,
          25,
          25,
          25,
          25,
          25,
          25,
          28,
          28,
          28,
          28,
          28,
          28,
          28,
          28,
          28,
          30,
          30,
          30,
          30,
          30,
          30,
          30,
          30,
          31,
          31,
          31,
          31,
          31,
          31,
          31,
          31,
          31,
          32,
          32,
          32,
          32,
          32,
          32,
          32,
          32,
          32,
          34,
          34,
          34,
          34,
          34,
          34,
          34,
          34,
          34,
          35,
          35,
          35,
          35,
          35,
          35,
          35,
          35,
          37,
          37,
          37,
          37,
          37,
          37,
          37,
          37,
          37,
          38,
          38,
          38,
          38,
          38,
          38,
          38,
          38,
          38,
          33,
          33,
          33,
          33,
          33,
          33,
          33,
          33,
          33,
          40,
          40,
          40,
          40,
          40,
          40,
          40,
          40,
          40
         ],
         "legendgroup": "Thu 2022.05.19 23:08",
         "marker": {
          "color": "#636efa",
          "symbol": "circle"
         },
         "mode": "markers",
         "name": "Thu 2022.05.19 23:08",
         "showlegend": true,
         "type": "scattergl",
         "x": [
          7.7796196937561035,
          3.8465919494628906,
          8.640268325805664,
          12.819391250610352,
          27.631839752197266,
          7.846948146820068,
          19.10212516784668,
          12.014792442321777,
          9.496894836425781,
          3.8792831897735596,
          7.906457901000977,
          17.08407974243164,
          6.533426284790039,
          1.2759910821914673,
          7.505784034729004,
          12.538381576538086,
          6.941649913787842,
          0.971185564994812,
          0.3138792812824249,
          1.3623050451278687,
          7.325838088989258,
          1.3253450393676758,
          2.1293866634368896,
          3.7690179347991943,
          0.7557625770568848,
          6.515659809112549,
          2.8854153156280518,
          9.007579803466797,
          2.512800931930542,
          13.78821086883545,
          18.52467918395996,
          10.98132610321045,
          9.17313289642334,
          27.93514633178711,
          18.956743240356445,
          12.901052474975586,
          27.760257720947266,
          30.518634796142578,
          34.891361236572266,
          13.11402416229248,
          19.897825241088867,
          26.344240188598633,
          6.518010139465332,
          11.425527572631836,
          18.461084365844727,
          20.718082427978516,
          18.813129425048828,
          19.088741302490234,
          12.304337501525879,
          12.83017635345459,
          13.917996406555176,
          4.443089485168457,
          7.676914691925049,
          9.380572319030762,
          17.090967178344727,
          15.030653953552246,
          14.117149353027344,
          12.876465797424316,
          12.790727615356445,
          14.366260528564453,
          15.875932693481445,
          13.100137710571289,
          15.309657096862793,
          52.28311538696289,
          80.92076110839844,
          105.41603088378906,
          20.834911346435547,
          50.726524353027344,
          76.90401458740234,
          8.333959579467773,
          24.524742126464844,
          51.56132507324219,
          16.283266067504883,
          18.092191696166992,
          8.912141799926758,
          8.225406646728516,
          6.488406181335449,
          1.0234713554382324,
          7.734639644622803,
          3.4980862140655518,
          22.165380477905273,
          28.22612953186035,
          36.51641845703125,
          15.649091720581055,
          11.778196334838867,
          21.61695098876953,
          22.147075653076172,
          7.930529594421387,
          9.64649772644043,
          41.24614715576172,
          5.901776313781738,
          40.292869567871094,
          5.4160475730896,
          31.015483856201172,
          40.16622543334961,
          8.702434539794922,
          27.401811599731445,
          93.50416564941406,
          64.31814575195312,
          150.29937744140625,
          8.974369049072266,
          145.57510375976562,
          71.59734344482422,
          71.41602325439453,
          135.2548065185547,
          67.4028091430664,
          7.854192733764648,
          79.87953186035156,
          11.717826843261719,
          63.11168670654297,
          41.51543426513672,
          117.99479675292969,
          61.811153411865234,
          29.28080940246582,
          7.463691234588623,
          33.2060432434082,
          7.485830783843994,
          38.041080474853516,
          8.225543975830078,
          30.355562210083008,
          17.852426528930664,
          9.355128288269043,
          6.850541114807129,
          10.738205909729004,
          18.490964889526367,
          9.167623519897461,
          13.158679008483887,
          24.864595413208008,
          15.321757316589355,
          12.835615158081055,
          21.184768676757812,
          14.352669715881348,
          18.51631736755371,
          17.375186920166016,
          14.38868236541748,
          22.553586959838867,
          6.1319050788879395,
          2.822441816329956,
          8.200281143188477,
          5.351912021636963,
          5.753460884094238,
          7.338264465332031,
          23.048002243041992,
          2.376596689224243,
          21.930686950683594,
          14.835379600524902,
          8.851726531982422,
          29.93330192565918,
          9.726134300231934,
          16.29509735107422,
          35.859012603759766,
          35.23660659790039,
          12.042032241821289,
          10.616888999938965,
          28.78750228881836,
          11.532137870788574,
          23.63001251220703,
          6.389378547668457,
          12.20087718963623,
          3.7808470726013184,
          5.093088626861572,
          2.0845301151275635,
          7.850318908691406,
          2.950477361679077,
          6.909396648406982,
          8.447012901306152,
          3.209106683731079,
          8.287369728088379,
          7.233122825622559,
          5.182252407073975,
          4.00446081161499,
          10.295580863952637,
          2.6671292781829834,
          6.716947555541992,
          10.4315824508667,
          2.840073823928833,
          7.660486698150635,
          4.042224884033203,
          5.618703365325928,
          9.126301765441895,
          5.333388328552246,
          2.5371463298797607,
          6.432116985321045,
          4.678494453430176,
          4.81154727935791,
          4.312493801116943,
          5.057918071746826,
          2.9045746326446533,
          4.329712867736816,
          1.6393593549728394,
          3.172518491744995,
          4.682722568511963,
          2.2933621406555176,
          2.6412782669067383,
          11.723724365234375,
          2.249495267868042,
          6.0610527992248535,
          112.16438293457031,
          4.058835506439209,
          5.424434661865234,
          18.23190689086914,
          5.711585521697998,
          4.977038383483887,
          7.44724178314209,
          11.282723426818848,
          6.511298179626465,
          9.860469818115234,
          1.2227100133895874,
          5.1747941970825195,
          17.209774017333984,
          5.363214492797852,
          6.848371982574463,
          13.205822944641113,
          10.81338882446289,
          11.193985939025879,
          15.982344627380371,
          12.34467601776123,
          11.702531814575195,
          18.18318748474121,
          13.021759986877441,
          12.163412094116211,
          7.055997371673584,
          5.045501708984375,
          11.792387962341309,
          11.845364570617676,
          7.804589748382568,
          10.610228538513184,
          15.595008850097656,
          8.188559532165527,
          10.662580490112305
         ],
         "xaxis": "x",
         "y": [
          1,
          1,
          1,
          1,
          1,
          1,
          1,
          1,
          1,
          2,
          2,
          2,
          2,
          2,
          2,
          2,
          2,
          2,
          3,
          3,
          3,
          3,
          3,
          3,
          3,
          3,
          3,
          4,
          4,
          4,
          4,
          4,
          4,
          4,
          4,
          4,
          12,
          12,
          12,
          12,
          12,
          12,
          12,
          12,
          12,
          7,
          7,
          7,
          7,
          7,
          7,
          7,
          7,
          7,
          8,
          8,
          8,
          8,
          8,
          8,
          8,
          8,
          8,
          10,
          10,
          10,
          10,
          10,
          10,
          10,
          10,
          10,
          11,
          11,
          11,
          11,
          11,
          11,
          11,
          11,
          13,
          13,
          13,
          13,
          13,
          13,
          13,
          13,
          13,
          14,
          14,
          14,
          14,
          14,
          14,
          14,
          14,
          16,
          16,
          16,
          16,
          16,
          16,
          16,
          17,
          17,
          17,
          17,
          17,
          17,
          17,
          17,
          18,
          18,
          18,
          18,
          18,
          18,
          18,
          18,
          19,
          19,
          19,
          19,
          19,
          19,
          19,
          22,
          22,
          22,
          22,
          22,
          22,
          22,
          22,
          22,
          25,
          25,
          25,
          25,
          25,
          25,
          28,
          28,
          28,
          28,
          28,
          28,
          28,
          28,
          28,
          30,
          30,
          30,
          30,
          30,
          30,
          30,
          30,
          31,
          31,
          31,
          31,
          31,
          31,
          31,
          31,
          31,
          32,
          32,
          32,
          32,
          32,
          32,
          32,
          32,
          32,
          34,
          34,
          34,
          34,
          34,
          34,
          34,
          34,
          34,
          35,
          35,
          35,
          35,
          35,
          35,
          35,
          35,
          37,
          37,
          37,
          37,
          37,
          37,
          37,
          37,
          37,
          38,
          38,
          38,
          38,
          38,
          38,
          38,
          38,
          38,
          33,
          33,
          33,
          33,
          33,
          33,
          33,
          33,
          33,
          40,
          40,
          40,
          40,
          40,
          40,
          40,
          40,
          40
         ],
         "yaxis": "y"
        },
        {
         "customdata": [
          [
           0,
           -0.5,
           -0.5
          ],
          [
           1,
           0,
           -0.5
          ],
          [
           2,
           0.5,
           -0.5
          ],
          [
           3,
           -0.5,
           0
          ],
          [
           4,
           0,
           0
          ],
          [
           5,
           -0.5,
           0.5
          ],
          [
           6,
           0,
           0.5
          ],
          [
           7,
           0.5,
           0.5
          ],
          [
           0,
           -0.5,
           -0.5
          ],
          [
           1,
           0,
           -0.5
          ],
          [
           2,
           -0.5,
           0
          ],
          [
           3,
           0,
           0
          ],
          [
           4,
           0.5,
           0
          ],
          [
           5,
           -0.5,
           0.5
          ],
          [
           6,
           0,
           0.5
          ],
          [
           7,
           0.5,
           0.5
          ],
          [
           0,
           -0.5,
           -0.5
          ],
          [
           1,
           0,
           -0.5
          ],
          [
           2,
           0.5,
           -0.5
          ],
          [
           3,
           -0.5,
           0
          ],
          [
           4,
           0,
           0
          ],
          [
           5,
           0.5,
           0
          ],
          [
           6,
           -0.5,
           0.5
          ],
          [
           7,
           0,
           0.5
          ],
          [
           8,
           0.5,
           0.5
          ],
          [
           0,
           -0.5,
           -0.5
          ],
          [
           1,
           0,
           -0.5
          ],
          [
           2,
           0.5,
           -0.5
          ],
          [
           3,
           -0.5,
           0
          ],
          [
           4,
           0,
           0
          ],
          [
           5,
           0.5,
           0
          ],
          [
           6,
           -0.5,
           0.5
          ],
          [
           7,
           0,
           0.5
          ],
          [
           8,
           0.5,
           0.5
          ],
          [
           0,
           -0.5,
           -0.5
          ],
          [
           1,
           0,
           -0.5
          ],
          [
           2,
           0.5,
           -0.5
          ],
          [
           3,
           -0.5,
           0
          ],
          [
           4,
           0.5,
           0
          ],
          [
           5,
           -0.5,
           0.5
          ],
          [
           6,
           0,
           0.5
          ],
          [
           7,
           0.5,
           0.5
          ],
          [
           0,
           -0.5,
           -0.5
          ],
          [
           1,
           0,
           -0.5
          ],
          [
           2,
           0.5,
           -0.5
          ],
          [
           3,
           -0.5,
           0
          ],
          [
           4,
           0,
           0
          ],
          [
           5,
           0.5,
           0
          ],
          [
           6,
           -0.5,
           0.5
          ],
          [
           7,
           0,
           0.5
          ],
          [
           8,
           0.5,
           0.5
          ],
          [
           0,
           -0.5,
           -0.5
          ],
          [
           1,
           0,
           -0.5
          ],
          [
           2,
           0.5,
           -0.5
          ],
          [
           3,
           -0.5,
           0
          ],
          [
           4,
           0,
           0
          ],
          [
           5,
           0.5,
           0
          ],
          [
           6,
           -0.5,
           0.5
          ],
          [
           7,
           0,
           0.5
          ],
          [
           8,
           0.5,
           0.5
          ],
          [
           0,
           -0.5,
           -0.5
          ],
          [
           1,
           0,
           -0.5
          ],
          [
           2,
           0.5,
           -0.5
          ],
          [
           3,
           -0.5,
           0
          ],
          [
           4,
           0,
           0
          ],
          [
           5,
           0.5,
           0
          ],
          [
           6,
           -0.5,
           0.5
          ],
          [
           7,
           0,
           0.5
          ],
          [
           8,
           0.5,
           0.5
          ],
          [
           0,
           -0.5,
           -0.5
          ],
          [
           1,
           0,
           -0.5
          ],
          [
           2,
           0.5,
           -0.5
          ],
          [
           3,
           -0.5,
           0
          ],
          [
           4,
           0,
           0
          ],
          [
           5,
           0.5,
           0
          ],
          [
           6,
           -0.5,
           0.5
          ],
          [
           7,
           0,
           0.5
          ],
          [
           8,
           0.5,
           0.5
          ],
          [
           0,
           -0.5,
           -0.5
          ],
          [
           1,
           0,
           -0.5
          ],
          [
           2,
           0.5,
           -0.5
          ],
          [
           3,
           -0.5,
           0
          ],
          [
           4,
           0,
           0
          ],
          [
           5,
           0.5,
           0
          ],
          [
           6,
           0.5,
           0.5
          ],
          [
           0,
           -0.5,
           -0.5
          ],
          [
           1,
           0,
           -0.5
          ],
          [
           2,
           0.5,
           -0.5
          ],
          [
           3,
           -0.5,
           0
          ],
          [
           4,
           0,
           0
          ],
          [
           5,
           0.5,
           0
          ],
          [
           6,
           -0.5,
           0.5
          ],
          [
           7,
           0,
           0.5
          ],
          [
           8,
           0.5,
           0.5
          ],
          [
           0,
           -0.5,
           -0.5
          ],
          [
           1,
           0,
           -0.5
          ],
          [
           2,
           0.5,
           -0.5
          ],
          [
           3,
           -0.5,
           0
          ],
          [
           4,
           0,
           0
          ],
          [
           5,
           0.5,
           0
          ],
          [
           6,
           -0.5,
           0.5
          ],
          [
           7,
           0,
           0.5
          ],
          [
           8,
           0.5,
           0.5
          ],
          [
           0,
           -0.5,
           -0.5
          ],
          [
           1,
           0,
           -0.5
          ],
          [
           2,
           0.5,
           -0.5
          ],
          [
           3,
           -0.5,
           0
          ],
          [
           4,
           0,
           0
          ],
          [
           5,
           0.5,
           0
          ],
          [
           6,
           -0.5,
           0.5
          ],
          [
           7,
           0,
           0.5
          ],
          [
           0,
           -0.5,
           -0.5
          ],
          [
           1,
           0,
           -0.5
          ],
          [
           2,
           0.5,
           -0.5
          ],
          [
           3,
           -0.5,
           0
          ],
          [
           4,
           0,
           0
          ],
          [
           5,
           0.5,
           0
          ],
          [
           6,
           -0.5,
           0.5
          ],
          [
           7,
           0,
           0.5
          ],
          [
           8,
           0.5,
           0.5
          ],
          [
           0,
           -0.5,
           -0.5
          ],
          [
           1,
           0,
           -0.5
          ],
          [
           2,
           0.5,
           -0.5
          ],
          [
           3,
           -0.5,
           0
          ],
          [
           4,
           0,
           0
          ],
          [
           5,
           0.5,
           0
          ],
          [
           6,
           -0.5,
           0.5
          ],
          [
           7,
           0,
           0.5
          ],
          [
           8,
           0.5,
           0.5
          ],
          [
           0,
           0,
           -0.5
          ],
          [
           1,
           0.5,
           -0.5
          ],
          [
           2,
           0,
           0
          ],
          [
           3,
           0.5,
           0
          ],
          [
           4,
           0,
           0.5
          ],
          [
           5,
           0.5,
           0.5
          ],
          [
           0,
           -0.5,
           -0.5
          ],
          [
           1,
           0,
           -0.5
          ],
          [
           2,
           0.5,
           -0.5
          ],
          [
           3,
           -0.5,
           0
          ],
          [
           4,
           0,
           0
          ],
          [
           5,
           0.5,
           0
          ],
          [
           6,
           -0.5,
           0.5
          ],
          [
           7,
           0,
           0.5
          ],
          [
           8,
           0.5,
           0.5
          ],
          [
           0,
           -0.5,
           -0.5
          ],
          [
           1,
           0,
           -0.5
          ],
          [
           2,
           0.5,
           -0.5
          ],
          [
           3,
           -0.5,
           0
          ],
          [
           4,
           0,
           0
          ],
          [
           5,
           0.5,
           0
          ],
          [
           6,
           -0.5,
           0.5
          ],
          [
           7,
           0,
           0.5
          ],
          [
           8,
           0.5,
           0.5
          ],
          [
           0,
           -0.5,
           -0.5
          ],
          [
           1,
           0,
           -0.5
          ],
          [
           2,
           0.5,
           -0.5
          ],
          [
           3,
           -0.5,
           0
          ],
          [
           4,
           0,
           0
          ],
          [
           5,
           0.5,
           0
          ],
          [
           6,
           -0.5,
           0.5
          ],
          [
           7,
           0,
           0.5
          ],
          [
           8,
           0.5,
           0.5
          ],
          [
           0,
           -0.5,
           -0.5
          ],
          [
           1,
           0,
           -0.5
          ],
          [
           2,
           0.5,
           -0.5
          ],
          [
           3,
           -0.5,
           0
          ],
          [
           4,
           0,
           0
          ],
          [
           5,
           0.5,
           0
          ],
          [
           6,
           -0.5,
           0.5
          ],
          [
           7,
           0,
           0.5
          ],
          [
           0,
           -0.5,
           -0.5
          ],
          [
           1,
           0,
           -0.5
          ],
          [
           2,
           0.5,
           -0.5
          ],
          [
           3,
           -0.5,
           0
          ],
          [
           4,
           0,
           0
          ],
          [
           5,
           0.5,
           0
          ],
          [
           6,
           -0.5,
           0.5
          ],
          [
           7,
           0,
           0.5
          ],
          [
           8,
           0.5,
           0.5
          ],
          [
           0,
           -0.5,
           -0.5
          ],
          [
           1,
           0,
           -0.5
          ],
          [
           2,
           0.5,
           -0.5
          ],
          [
           3,
           -0.5,
           0
          ],
          [
           4,
           0,
           0
          ],
          [
           5,
           0.5,
           0
          ],
          [
           0,
           -0.5,
           -0.5
          ],
          [
           1,
           0,
           -0.5
          ],
          [
           2,
           0.5,
           -0.5
          ],
          [
           3,
           -0.5,
           0
          ],
          [
           4,
           0,
           0
          ],
          [
           5,
           0.5,
           0
          ],
          [
           6,
           -0.5,
           0.5
          ],
          [
           7,
           0,
           0.5
          ],
          [
           8,
           0.5,
           0.5
          ],
          [
           0,
           -0.5,
           -0.5
          ],
          [
           1,
           0,
           -0.5
          ],
          [
           2,
           0.5,
           -0.5
          ],
          [
           3,
           -0.5,
           0
          ],
          [
           4,
           0,
           0
          ],
          [
           5,
           0.5,
           0
          ],
          [
           6,
           -0.5,
           0.5
          ],
          [
           7,
           0,
           0.5
          ],
          [
           8,
           0.5,
           0.5
          ],
          [
           0,
           -0.5,
           -0.5
          ],
          [
           1,
           0,
           -0.5
          ],
          [
           2,
           0.5,
           -0.5
          ],
          [
           3,
           -0.5,
           0
          ],
          [
           4,
           0,
           0
          ],
          [
           5,
           0.5,
           0
          ],
          [
           6,
           0,
           0.5
          ],
          [
           7,
           0.5,
           0.5
          ],
          [
           0,
           -0.5,
           -0.5
          ],
          [
           1,
           0,
           -0.5
          ],
          [
           2,
           -0.5,
           0
          ],
          [
           3,
           0,
           0
          ],
          [
           4,
           -0.5,
           0.5
          ],
          [
           5,
           0,
           0.5
          ],
          [
           6,
           0.5,
           0.5
          ],
          [
           0,
           -0.5,
           -0.5
          ],
          [
           1,
           0,
           -0.5
          ],
          [
           2,
           0.5,
           -0.5
          ],
          [
           3,
           -0.5,
           0
          ],
          [
           4,
           0,
           0
          ],
          [
           5,
           0.5,
           0
          ],
          [
           6,
           -0.5,
           0.5
          ],
          [
           7,
           0,
           0.5
          ],
          [
           8,
           0.5,
           0.5
          ]
         ],
         "hovertemplate": "<b>%{hovertext}</b><br><br>Camera=Thu 2022.05.19 23:55<br>residual=%{x}<br>Laser=%{y}<br>beam_capture_index=%{customdata[0]}<br>projectionPoint_x=%{customdata[1]}<br>projectionPoint_y=%{customdata[2]}<extra></extra>",
         "hovertext": [
          1,
          1,
          1,
          1,
          1,
          1,
          1,
          1,
          2,
          2,
          2,
          2,
          2,
          2,
          2,
          2,
          3,
          3,
          3,
          3,
          3,
          3,
          3,
          3,
          3,
          4,
          4,
          4,
          4,
          4,
          4,
          4,
          4,
          4,
          12,
          12,
          12,
          12,
          12,
          12,
          12,
          12,
          7,
          7,
          7,
          7,
          7,
          7,
          7,
          7,
          7,
          8,
          8,
          8,
          8,
          8,
          8,
          8,
          8,
          8,
          10,
          10,
          10,
          10,
          10,
          10,
          10,
          10,
          10,
          11,
          11,
          11,
          11,
          11,
          11,
          11,
          11,
          11,
          13,
          13,
          13,
          13,
          13,
          13,
          13,
          14,
          14,
          14,
          14,
          14,
          14,
          14,
          14,
          14,
          15,
          15,
          15,
          15,
          15,
          15,
          15,
          15,
          15,
          16,
          16,
          16,
          16,
          16,
          16,
          16,
          16,
          17,
          17,
          17,
          17,
          17,
          17,
          17,
          17,
          17,
          18,
          18,
          18,
          18,
          18,
          18,
          18,
          18,
          18,
          26,
          26,
          26,
          26,
          26,
          26,
          28,
          28,
          28,
          28,
          28,
          28,
          28,
          28,
          28,
          29,
          29,
          29,
          29,
          29,
          29,
          29,
          29,
          29,
          30,
          30,
          30,
          30,
          30,
          30,
          30,
          30,
          30,
          31,
          31,
          31,
          31,
          31,
          31,
          31,
          31,
          32,
          32,
          32,
          32,
          32,
          32,
          32,
          32,
          32,
          34,
          34,
          34,
          34,
          34,
          34,
          35,
          35,
          35,
          35,
          35,
          35,
          35,
          35,
          35,
          36,
          36,
          36,
          36,
          36,
          36,
          36,
          36,
          36,
          37,
          37,
          37,
          37,
          37,
          37,
          37,
          37,
          38,
          38,
          38,
          38,
          38,
          38,
          38,
          33,
          33,
          33,
          33,
          33,
          33,
          33,
          33,
          33
         ],
         "legendgroup": "Thu 2022.05.19 23:55",
         "marker": {
          "color": "#EF553B",
          "symbol": "circle"
         },
         "mode": "markers",
         "name": "Thu 2022.05.19 23:55",
         "showlegend": true,
         "type": "scattergl",
         "x": [
          22.383255004882812,
          32.81892776489258,
          40.24496078491211,
          53.923133850097656,
          59.853145599365234,
          87.3851318359375,
          89.67488098144531,
          92.1104965209961,
          34.50661849975586,
          32.016300201416016,
          10.918070793151855,
          9.907026290893555,
          11.919254302978516,
          13.112366676330566,
          19.63438606262207,
          25.586740493774414,
          6.968185901641846,
          1.1340922117233276,
          2.484041213989258,
          3.4311423301696777,
          0.060199715197086334,
          0.14212127029895782,
          3.2371091842651367,
          3.4935362339019775,
          1.1255826950073242,
          3.396735906600952,
          14.3046236038208,
          22.815105438232422,
          12.525986671447754,
          23.42057228088379,
          31.580331802368164,
          28.9232234954834,
          39.052223205566406,
          46.968788146972656,
          44.91565704345703,
          96.11531829833984,
          51.49483108520508,
          46.55897521972656,
          51.88267135620117,
          49.928348541259766,
          53.540771484375,
          54.87539291381836,
          41.28830337524414,
          49.07738494873047,
          56.58409118652344,
          47.105247497558594,
          53.87749481201172,
          60.11513137817383,
          52.76611328125,
          60.01670455932617,
          65.20436096191406,
          21.160045623779297,
          32.3021125793457,
          38.942901611328125,
          23.68285369873047,
          109.74142456054688,
          35.30162048339844,
          28.90699005126953,
          36.11793899536133,
          37.3335075378418,
          23.721044540405273,
          18.126049041748047,
          15.612442970275879,
          17.667673110961914,
          14.628860473632812,
          10.998215675354004,
          17.805620193481445,
          18.533496856689453,
          12.827418327331543,
          1.6642954349517822,
          7.15335750579834,
          6.177664756774902,
          1.140145182609558,
          4.080698490142822,
          3.2233500480651855,
          4.16950798034668,
          6.672459602355957,
          4.219655513763428,
          7.648134708404541,
          5.576660633087158,
          4.305755615234375,
          6.03337287902832,
          7.236056804656982,
          3.562130928039551,
          7.348765850067139,
          9.653977394104004,
          3.4113659858703613,
          1.051479697227478,
          5.783392906188965,
          2.291411876678467,
          2.3297665119171143,
          2.0219645500183105,
          7.380636215209961,
          5.026767730712891,
          9.874894142150879,
          5.989370822906494,
          5.425832748413086,
          6.660828113555908,
          4.084047794342041,
          3.3276302814483643,
          6.673767566680908,
          7.457530975341797,
          6.315434455871582,
          7.582941055297852,
          3.280074119567871,
          2.1541638374328613,
          5.326337814331055,
          2.296900749206543,
          2.517204523086548,
          2.7221200466156006,
          5.07081413269043,
          5.979970932006836,
          5.142448425292969,
          1.4476851224899292,
          4.44902229309082,
          4.342782020568848,
          0.3554765284061432,
          3.1486732959747314,
          5.279541492462158,
          0.6897314786911011,
          6.881608009338379,
          7.083792686462402,
          2.7464241981506348,
          5.619091033935547,
          3.697694778442383,
          1.3939175605773926,
          5.1457085609436035,
          5.952815532684326,
          2.073385238647461,
          11.451221466064453,
          9.29370403289795,
          14.563669204711914,
          11.529974937438965,
          18.300491333007812,
          17.64861488342285,
          17.55154800415039,
          28.893428802490234,
          39.34834671020508,
          12.254066467285156,
          16.819766998291016,
          25.917707443237305,
          18.242177963256836,
          13.03758430480957,
          14.787580490112305,
          2.2420129776000977,
          3.1160762310028076,
          9.207289695739746,
          5.636327266693115,
          1.336050271987915,
          3.4491045475006104,
          10.290669441223145,
          5.210456371307373,
          1.7849115133285522,
          23.91377830505371,
          10.710381507873535,
          12.216230392456055,
          44.640357971191406,
          27.673364639282227,
          12.582863807678223,
          68.85625457763672,
          51.05149459838867,
          35.21947479248047,
          13.323440551757812,
          13.221651077270508,
          12.073147773742676,
          13.55328369140625,
          13.39563274383545,
          12.79383659362793,
          14.780113220214844,
          13.941970825195312,
          10.77367115020752,
          8.161754608154297,
          3.2943742275238037,
          16.21648597717285,
          11.535798072814941,
          5.891730308532715,
          24.217920303344727,
          18.866321563720703,
          13.31396770477295,
          5.571585655212402,
          12.496231079101562,
          19.2725830078125,
          13.653430938720703,
          5.706372261047363,
          1.7752131223678589,
          2.801267385482788,
          2.3036398887634277,
          1.4592928886413574,
          3.960989236831665,
          2.334563970565796,
          4.265382766723633,
          6.69334077835083,
          2.4811289310455322,
          5.742952823638916,
          44.60850524902344,
          48.329559326171875,
          52.96073913574219,
          31.68055534362793,
          35.63981246948242,
          39.763031005859375,
          19.07069206237793,
          22.77509880065918,
          26.84238052368164,
          40.70329284667969,
          45.02460861206055,
          49.883548736572266,
          27.629684448242188,
          31.656070709228516,
          35.962100982666016,
          19.56146812438965,
          23.065126419067383,
          46.929664611816406,
          50.211822509765625,
          32.4670524597168,
          35.28580093383789,
          18.753103256225586,
          19.597267150878906,
          21.3669490814209,
          7.901543617248535,
          13.45386791229248,
          23.98326873779297,
          12.531960487365723,
          15.960428237915039,
          20.455419540405273,
          17.9312744140625,
          19.869171142578125,
          21.89809226989746
         ],
         "xaxis": "x",
         "y": [
          1,
          1,
          1,
          1,
          1,
          1,
          1,
          1,
          2,
          2,
          2,
          2,
          2,
          2,
          2,
          2,
          3,
          3,
          3,
          3,
          3,
          3,
          3,
          3,
          3,
          4,
          4,
          4,
          4,
          4,
          4,
          4,
          4,
          4,
          12,
          12,
          12,
          12,
          12,
          12,
          12,
          12,
          7,
          7,
          7,
          7,
          7,
          7,
          7,
          7,
          7,
          8,
          8,
          8,
          8,
          8,
          8,
          8,
          8,
          8,
          10,
          10,
          10,
          10,
          10,
          10,
          10,
          10,
          10,
          11,
          11,
          11,
          11,
          11,
          11,
          11,
          11,
          11,
          13,
          13,
          13,
          13,
          13,
          13,
          13,
          14,
          14,
          14,
          14,
          14,
          14,
          14,
          14,
          14,
          15,
          15,
          15,
          15,
          15,
          15,
          15,
          15,
          15,
          16,
          16,
          16,
          16,
          16,
          16,
          16,
          16,
          17,
          17,
          17,
          17,
          17,
          17,
          17,
          17,
          17,
          18,
          18,
          18,
          18,
          18,
          18,
          18,
          18,
          18,
          26,
          26,
          26,
          26,
          26,
          26,
          28,
          28,
          28,
          28,
          28,
          28,
          28,
          28,
          28,
          29,
          29,
          29,
          29,
          29,
          29,
          29,
          29,
          29,
          30,
          30,
          30,
          30,
          30,
          30,
          30,
          30,
          30,
          31,
          31,
          31,
          31,
          31,
          31,
          31,
          31,
          32,
          32,
          32,
          32,
          32,
          32,
          32,
          32,
          32,
          34,
          34,
          34,
          34,
          34,
          34,
          35,
          35,
          35,
          35,
          35,
          35,
          35,
          35,
          35,
          36,
          36,
          36,
          36,
          36,
          36,
          36,
          36,
          36,
          37,
          37,
          37,
          37,
          37,
          37,
          37,
          37,
          38,
          38,
          38,
          38,
          38,
          38,
          38,
          33,
          33,
          33,
          33,
          33,
          33,
          33,
          33,
          33
         ],
         "yaxis": "y"
        },
        {
         "customdata": [
          [
           0,
           -0.5,
           -0.5
          ],
          [
           1,
           0,
           -0.5
          ],
          [
           2,
           0.5,
           -0.5
          ],
          [
           3,
           -0.5,
           0
          ],
          [
           4,
           0,
           0
          ],
          [
           5,
           0.5,
           0
          ],
          [
           6,
           -0.5,
           0.5
          ],
          [
           7,
           0,
           0.5
          ],
          [
           8,
           0.5,
           0.5
          ],
          [
           0,
           -0.5,
           -0.5
          ],
          [
           1,
           0,
           -0.5
          ],
          [
           2,
           0.5,
           -0.5
          ],
          [
           3,
           -0.5,
           0
          ],
          [
           4,
           0,
           0
          ],
          [
           5,
           0.5,
           0
          ],
          [
           6,
           -0.5,
           0.5
          ],
          [
           7,
           0,
           0.5
          ],
          [
           8,
           0.5,
           0.5
          ],
          [
           0,
           -0.5,
           -0.5
          ],
          [
           1,
           0,
           -0.5
          ],
          [
           2,
           0.5,
           -0.5
          ],
          [
           3,
           -0.5,
           0
          ],
          [
           4,
           0,
           0
          ],
          [
           5,
           0.5,
           0
          ],
          [
           6,
           -0.5,
           0.5
          ],
          [
           7,
           0,
           0.5
          ],
          [
           8,
           0.5,
           0.5
          ],
          [
           0,
           -0.5,
           -0.5
          ],
          [
           1,
           0,
           -0.5
          ],
          [
           2,
           0.5,
           -0.5
          ],
          [
           3,
           -0.5,
           0
          ],
          [
           4,
           0,
           0
          ],
          [
           5,
           0.5,
           0
          ],
          [
           6,
           -0.5,
           0.5
          ],
          [
           7,
           0,
           0.5
          ],
          [
           8,
           0.5,
           0.5
          ],
          [
           0,
           -0.5,
           -0.5
          ],
          [
           1,
           0,
           -0.5
          ],
          [
           2,
           0.5,
           -0.5
          ],
          [
           3,
           0,
           0
          ],
          [
           4,
           0.5,
           0
          ],
          [
           5,
           -0.5,
           0.5
          ],
          [
           6,
           0,
           0.5
          ],
          [
           7,
           0.5,
           0.5
          ],
          [
           0,
           -0.5,
           -0.5
          ],
          [
           1,
           0,
           -0.5
          ],
          [
           2,
           0.5,
           -0.5
          ],
          [
           3,
           -0.5,
           0
          ],
          [
           4,
           0,
           0
          ],
          [
           5,
           0.5,
           0
          ],
          [
           6,
           -0.5,
           0.5
          ],
          [
           7,
           0,
           0.5
          ],
          [
           8,
           0.5,
           0.5
          ],
          [
           0,
           -0.5,
           -0.5
          ],
          [
           1,
           0,
           -0.5
          ],
          [
           2,
           0.5,
           -0.5
          ],
          [
           3,
           -0.5,
           0
          ],
          [
           4,
           0,
           0
          ],
          [
           5,
           0.5,
           0
          ],
          [
           6,
           -0.5,
           0.5
          ],
          [
           7,
           0,
           0.5
          ],
          [
           8,
           0.5,
           0.5
          ],
          [
           0,
           -0.5,
           -0.5
          ],
          [
           1,
           0,
           -0.5
          ],
          [
           2,
           0.5,
           -0.5
          ],
          [
           3,
           -0.5,
           0
          ],
          [
           4,
           0,
           0
          ],
          [
           5,
           0.5,
           0
          ],
          [
           6,
           -0.5,
           0.5
          ],
          [
           7,
           0,
           0.5
          ],
          [
           8,
           0.5,
           0.5
          ],
          [
           0,
           -0.5,
           -0.5
          ],
          [
           1,
           0,
           -0.5
          ],
          [
           2,
           0.5,
           -0.5
          ],
          [
           3,
           -0.5,
           0
          ],
          [
           4,
           0,
           0
          ],
          [
           5,
           0.5,
           0
          ],
          [
           6,
           -0.5,
           0.5
          ],
          [
           7,
           0,
           0.5
          ],
          [
           8,
           0.5,
           0.5
          ],
          [
           0,
           -0.5,
           -0.5
          ],
          [
           1,
           0,
           -0.5
          ],
          [
           2,
           0.5,
           -0.5
          ],
          [
           3,
           -0.5,
           0
          ],
          [
           4,
           0,
           0
          ],
          [
           5,
           0.5,
           0
          ],
          [
           6,
           -0.5,
           0.5
          ],
          [
           7,
           0.5,
           0.5
          ],
          [
           0,
           -0.5,
           -0.5
          ],
          [
           1,
           0,
           -0.5
          ],
          [
           2,
           0.5,
           -0.5
          ],
          [
           3,
           -0.5,
           0
          ],
          [
           4,
           0,
           0
          ],
          [
           5,
           0.5,
           0
          ],
          [
           6,
           -0.5,
           0.5
          ],
          [
           7,
           0,
           0.5
          ],
          [
           8,
           0.5,
           0.5
          ],
          [
           0,
           -0.5,
           -0.5
          ],
          [
           1,
           0,
           -0.5
          ],
          [
           2,
           0.5,
           -0.5
          ],
          [
           3,
           -0.5,
           0
          ],
          [
           4,
           0,
           0
          ],
          [
           5,
           0.5,
           0
          ],
          [
           6,
           -0.5,
           0.5
          ],
          [
           7,
           0,
           0.5
          ],
          [
           8,
           0.5,
           0.5
          ],
          [
           0,
           -0.5,
           -0.5
          ],
          [
           1,
           0,
           -0.5
          ],
          [
           2,
           0.5,
           -0.5
          ],
          [
           3,
           -0.5,
           0
          ],
          [
           4,
           0,
           0
          ],
          [
           5,
           0.5,
           0
          ],
          [
           6,
           -0.5,
           0.5
          ],
          [
           7,
           0,
           0.5
          ],
          [
           8,
           0.5,
           0.5
          ],
          [
           0,
           -0.5,
           -0.5
          ],
          [
           1,
           0,
           -0.5
          ],
          [
           2,
           0.5,
           -0.5
          ],
          [
           3,
           -0.5,
           0
          ],
          [
           4,
           0,
           0
          ],
          [
           5,
           0.5,
           0
          ],
          [
           6,
           -0.5,
           0.5
          ],
          [
           7,
           0,
           0.5
          ],
          [
           8,
           0.5,
           0.5
          ],
          [
           0,
           0,
           -0.5
          ],
          [
           1,
           0,
           0
          ],
          [
           2,
           0.5,
           0
          ],
          [
           3,
           0,
           0.5
          ],
          [
           4,
           0.5,
           0.5
          ],
          [
           0,
           0.5,
           -0.5
          ],
          [
           1,
           0,
           0
          ],
          [
           2,
           0.5,
           0
          ],
          [
           3,
           0,
           0.5
          ],
          [
           4,
           0.5,
           0.5
          ],
          [
           0,
           -0.5,
           -0.5
          ],
          [
           1,
           0,
           -0.5
          ],
          [
           2,
           0.5,
           -0.5
          ],
          [
           3,
           -0.5,
           0
          ],
          [
           4,
           0,
           0
          ],
          [
           5,
           -0.5,
           0.5
          ],
          [
           6,
           0,
           0.5
          ],
          [
           7,
           0.5,
           0.5
          ],
          [
           0,
           -0.5,
           -0.5
          ],
          [
           1,
           0,
           -0.5
          ],
          [
           2,
           -0.5,
           0
          ],
          [
           3,
           0,
           0
          ],
          [
           4,
           0.5,
           0
          ],
          [
           5,
           -0.5,
           0.5
          ],
          [
           6,
           0,
           0.5
          ],
          [
           7,
           0.5,
           0.5
          ],
          [
           0,
           -0.5,
           -0.5
          ],
          [
           1,
           0,
           -0.5
          ],
          [
           2,
           0.5,
           -0.5
          ],
          [
           3,
           -0.5,
           0
          ],
          [
           4,
           0,
           0
          ],
          [
           5,
           0.5,
           0
          ],
          [
           6,
           -0.5,
           0.5
          ],
          [
           7,
           0,
           0.5
          ],
          [
           8,
           0.5,
           0.5
          ],
          [
           0,
           -0.5,
           -0.5
          ],
          [
           1,
           0,
           -0.5
          ],
          [
           2,
           0.5,
           -0.5
          ],
          [
           3,
           -0.5,
           0
          ],
          [
           4,
           0,
           0
          ],
          [
           5,
           0.5,
           0
          ],
          [
           6,
           -0.5,
           0.5
          ],
          [
           7,
           0,
           0.5
          ],
          [
           8,
           0.5,
           0.5
          ],
          [
           0,
           -0.5,
           -0.5
          ],
          [
           1,
           0,
           -0.5
          ],
          [
           2,
           0.5,
           -0.5
          ],
          [
           3,
           -0.5,
           0
          ],
          [
           4,
           0,
           0
          ],
          [
           5,
           0.5,
           0
          ],
          [
           6,
           -0.5,
           0.5
          ],
          [
           7,
           0,
           0.5
          ],
          [
           8,
           0.5,
           0.5
          ],
          [
           0,
           -0.5,
           -0.5
          ],
          [
           1,
           0,
           -0.5
          ],
          [
           2,
           0.5,
           -0.5
          ],
          [
           3,
           -0.5,
           0
          ],
          [
           4,
           0,
           0
          ],
          [
           5,
           0.5,
           0
          ],
          [
           6,
           -0.5,
           0.5
          ],
          [
           7,
           0,
           0.5
          ],
          [
           8,
           0.5,
           0.5
          ],
          [
           0,
           -0.5,
           -0.5
          ],
          [
           1,
           0,
           -0.5
          ],
          [
           2,
           0.5,
           -0.5
          ],
          [
           3,
           -0.5,
           0
          ],
          [
           4,
           0,
           0
          ],
          [
           5,
           0.5,
           0
          ],
          [
           6,
           -0.5,
           0.5
          ],
          [
           7,
           0,
           0.5
          ],
          [
           8,
           0.5,
           0.5
          ]
         ],
         "hovertemplate": "<b>%{hovertext}</b><br><br>Camera=Fri 2022.05.20 00:41<br>residual=%{x}<br>Laser=%{y}<br>beam_capture_index=%{customdata[0]}<br>projectionPoint_x=%{customdata[1]}<br>projectionPoint_y=%{customdata[2]}<extra></extra>",
         "hovertext": [
          1,
          1,
          1,
          1,
          1,
          1,
          1,
          1,
          1,
          2,
          2,
          2,
          2,
          2,
          2,
          2,
          2,
          2,
          4,
          4,
          4,
          4,
          4,
          4,
          4,
          4,
          4,
          8,
          8,
          8,
          8,
          8,
          8,
          8,
          8,
          8,
          10,
          10,
          10,
          10,
          10,
          10,
          10,
          10,
          11,
          11,
          11,
          11,
          11,
          11,
          11,
          11,
          11,
          13,
          13,
          13,
          13,
          13,
          13,
          13,
          13,
          13,
          14,
          14,
          14,
          14,
          14,
          14,
          14,
          14,
          14,
          15,
          15,
          15,
          15,
          15,
          15,
          15,
          15,
          15,
          16,
          16,
          16,
          16,
          16,
          16,
          16,
          16,
          17,
          17,
          17,
          17,
          17,
          17,
          17,
          17,
          17,
          18,
          18,
          18,
          18,
          18,
          18,
          18,
          18,
          18,
          19,
          19,
          19,
          19,
          19,
          19,
          19,
          19,
          19,
          22,
          22,
          22,
          22,
          22,
          22,
          22,
          22,
          22,
          25,
          25,
          25,
          25,
          25,
          26,
          26,
          26,
          26,
          26,
          29,
          29,
          29,
          29,
          29,
          29,
          29,
          29,
          31,
          31,
          31,
          31,
          31,
          31,
          31,
          31,
          32,
          32,
          32,
          32,
          32,
          32,
          32,
          32,
          32,
          34,
          34,
          34,
          34,
          34,
          34,
          34,
          34,
          34,
          36,
          36,
          36,
          36,
          36,
          36,
          36,
          36,
          36,
          37,
          37,
          37,
          37,
          37,
          37,
          37,
          37,
          37,
          38,
          38,
          38,
          38,
          38,
          38,
          38,
          38,
          38
         ],
         "legendgroup": "Fri 2022.05.20 00:41",
         "marker": {
          "color": "#00cc96",
          "symbol": "circle"
         },
         "mode": "markers",
         "name": "Fri 2022.05.20 00:41",
         "showlegend": true,
         "type": "scattergl",
         "x": [
          34.04257583618164,
          21.512203216552734,
          49.48881530761719,
          37.82524871826172,
          9.560030937194824,
          34.09089279174805,
          42.76084518432617,
          11.302162170410156,
          23.44968605041504,
          12.984111785888672,
          13.72817325592041,
          16.83888053894043,
          13.128623008728027,
          4.840920925140381,
          12.460205078125,
          14.348651885986328,
          5.095217704772949,
          9.849286079406738,
          15.199499130249023,
          15.565474510192871,
          25.064842224121094,
          14.749728202819824,
          6.318089485168457,
          19.67444610595703,
          15.12814712524414,
          7.318633079528809,
          16.41566276550293,
          74.53925323486328,
          72.50285339355469,
          59.39260482788086,
          70.55238342285156,
          65.8818588256836,
          57.31218719482422,
          69.69305419921875,
          65.20206451416016,
          57.675167083740234,
          67.80937957763672,
          35.12569808959961,
          12.108022689819336,
          32.525550842285156,
          4.370348930358887,
          61.27458190917969,
          34.30724334716797,
          7.618213653564453,
          15.161900520324707,
          23.162851333618164,
          13.627630233764648,
          5.8333282470703125,
          9.252527236938477,
          3.1885874271392822,
          2.7347798347473145,
          6.035641193389893,
          2.2190186977386475,
          29.319387435913086,
          22.1038818359375,
          15.660120010375977,
          27.134798049926758,
          14.264894485473633,
          7.303417205810547,
          26.800363540649414,
          14.581421852111816,
          3.914205312728882,
          45.57673645019531,
          8.425040245056152,
          32.798709869384766,
          38.49330139160156,
          4.597388744354248,
          29.712871551513672,
          33.49251937866211,
          6.427734851837158,
          27.949907302856445,
          60.30534744262695,
          25.28310775756836,
          27.458648681640625,
          51.112388610839844,
          16.818864822387695,
          23.15355110168457,
          45.16556930541992,
          14.59794807434082,
          22.38416290283203,
          38.660888671875,
          6.139806270599365,
          32.72515106201172,
          30.93563461303711,
          3.3156023025512695,
          31.51803207397461,
          25.452865600585938,
          31.35673713684082,
          21.82084083557129,
          18.714372634887695,
          18.69707489013672,
          17.156972885131836,
          11.271645545959473,
          15.144621849060059,
          14.367465019226074,
          8.59371280670166,
          14.564672470092773,
          27.845962524414062,
          17.791675567626953,
          30.711084365844727,
          23.36778450012207,
          8.72195053100586,
          26.019588470458984,
          21.23177146911621,
          8.516518592834473,
          23.764501571655273,
          28.88287925720215,
          33.36423873901367,
          26.08546257019043,
          22.256378173828125,
          20.90053939819336,
          14.699820518493652,
          20.230510711669922,
          18.42136573791504,
          10.3964204788208,
          37.90520095825195,
          30.944660186767578,
          22.647462844848633,
          33.78560256958008,
          23.352006912231445,
          15.99185562133789,
          31.968765258789062,
          23.166820526123047,
          13.588818550109863,
          43.11555099487305,
          40.90618896484375,
          41.0933952331543,
          41.25325393676758,
          40.99256134033203,
          7.913778305053711,
          22.073896408081055,
          15.531314849853516,
          19.49905014038086,
          19.050540924072266,
          4.57562255859375,
          4.979389667510986,
          7.23209285736084,
          7.484964370727539,
          2.0848584175109863,
          7.859253883361816,
          1.4733136892318726,
          9.295541763305664,
          29.84539031982422,
          14.906740188598633,
          34.62796401977539,
          1.6311547756195068,
          38.58357620239258,
          38.94393539428711,
          6.211017608642578,
          27.691173553466797,
          18.665376663208008,
          8.870536804199219,
          17.28968620300293,
          20.166414260864258,
          3.175466537475586,
          13.573629379272461,
          20.95355224609375,
          5.040012836456299,
          11.471980094909668,
          3.588897228240967,
          7.446295738220215,
          10.419995307922363,
          5.485794544219971,
          3.130280017852783,
          7.256929874420166,
          4.656956672668457,
          6.515021324157715,
          4.432854175567627,
          2.6435465812683105,
          13.439983367919922,
          23.301006317138672,
          9.874640464782715,
          8.577254295349121,
          19.6956787109375,
          12.004491806030273,
          6.470372200012207,
          16.513261795043945,
          13.220115661621094,
          10.070082664489746,
          23.15610122680664,
          18.506134033203125,
          7.358547210693359,
          19.43140983581543,
          20.023279190063477,
          7.331920623779297,
          17.172222137451172,
          8.355782508850098,
          21.013103485107422,
          16.69961166381836,
          8.92977237701416,
          6.246646881103516,
          11.869036674499512,
          18.702890396118164,
          7.886936187744141,
          13.739006996154785
         ],
         "xaxis": "x",
         "y": [
          1,
          1,
          1,
          1,
          1,
          1,
          1,
          1,
          1,
          2,
          2,
          2,
          2,
          2,
          2,
          2,
          2,
          2,
          4,
          4,
          4,
          4,
          4,
          4,
          4,
          4,
          4,
          8,
          8,
          8,
          8,
          8,
          8,
          8,
          8,
          8,
          10,
          10,
          10,
          10,
          10,
          10,
          10,
          10,
          11,
          11,
          11,
          11,
          11,
          11,
          11,
          11,
          11,
          13,
          13,
          13,
          13,
          13,
          13,
          13,
          13,
          13,
          14,
          14,
          14,
          14,
          14,
          14,
          14,
          14,
          14,
          15,
          15,
          15,
          15,
          15,
          15,
          15,
          15,
          15,
          16,
          16,
          16,
          16,
          16,
          16,
          16,
          16,
          17,
          17,
          17,
          17,
          17,
          17,
          17,
          17,
          17,
          18,
          18,
          18,
          18,
          18,
          18,
          18,
          18,
          18,
          19,
          19,
          19,
          19,
          19,
          19,
          19,
          19,
          19,
          22,
          22,
          22,
          22,
          22,
          22,
          22,
          22,
          22,
          25,
          25,
          25,
          25,
          25,
          26,
          26,
          26,
          26,
          26,
          29,
          29,
          29,
          29,
          29,
          29,
          29,
          29,
          31,
          31,
          31,
          31,
          31,
          31,
          31,
          31,
          32,
          32,
          32,
          32,
          32,
          32,
          32,
          32,
          32,
          34,
          34,
          34,
          34,
          34,
          34,
          34,
          34,
          34,
          36,
          36,
          36,
          36,
          36,
          36,
          36,
          36,
          36,
          37,
          37,
          37,
          37,
          37,
          37,
          37,
          37,
          37,
          38,
          38,
          38,
          38,
          38,
          38,
          38,
          38,
          38
         ],
         "yaxis": "y"
        },
        {
         "customdata": [
          [
           0,
           -0.5,
           -0.5
          ],
          [
           1,
           0,
           -0.5
          ],
          [
           2,
           -0.5,
           0
          ],
          [
           3,
           0,
           0
          ],
          [
           4,
           0.5,
           0
          ],
          [
           5,
           -0.5,
           0.5
          ],
          [
           6,
           0,
           0.5
          ],
          [
           7,
           0.5,
           0.5
          ],
          [
           0,
           -0.5,
           -0.5
          ],
          [
           1,
           0.5,
           -0.5
          ],
          [
           2,
           -0.5,
           0
          ],
          [
           3,
           0,
           0
          ],
          [
           4,
           0.5,
           0
          ],
          [
           5,
           -0.5,
           0.5
          ],
          [
           6,
           0,
           0.5
          ],
          [
           7,
           0.5,
           0.5
          ],
          [
           0,
           -0.5,
           -0.5
          ],
          [
           1,
           -0.5,
           0
          ],
          [
           2,
           0,
           0
          ],
          [
           3,
           0.5,
           0
          ],
          [
           4,
           0,
           0.5
          ],
          [
           5,
           0.5,
           0.5
          ],
          [
           0,
           -0.5,
           -0.5
          ],
          [
           1,
           0,
           -0.5
          ],
          [
           2,
           0.5,
           -0.5
          ],
          [
           3,
           -0.5,
           0
          ],
          [
           4,
           0,
           0
          ],
          [
           5,
           0.5,
           0
          ],
          [
           6,
           -0.5,
           0.5
          ],
          [
           7,
           0,
           0.5
          ],
          [
           8,
           0.5,
           0.5
          ],
          [
           0,
           -0.5,
           -0.5
          ],
          [
           1,
           0,
           -0.5
          ],
          [
           2,
           0.5,
           -0.5
          ],
          [
           3,
           -0.5,
           0
          ],
          [
           4,
           0,
           0
          ],
          [
           5,
           0.5,
           0
          ],
          [
           6,
           -0.5,
           0.5
          ],
          [
           7,
           0,
           0.5
          ],
          [
           8,
           0.5,
           0.5
          ],
          [
           0,
           -0.5,
           -0.5
          ],
          [
           1,
           0,
           -0.5
          ],
          [
           2,
           0.5,
           -0.5
          ],
          [
           3,
           -0.5,
           0
          ],
          [
           4,
           0,
           0
          ],
          [
           5,
           0.5,
           0
          ],
          [
           6,
           -0.5,
           0.5
          ],
          [
           7,
           0,
           0.5
          ],
          [
           8,
           0.5,
           0.5
          ],
          [
           0,
           -0.5,
           -0.5
          ],
          [
           1,
           0,
           -0.5
          ],
          [
           2,
           0.5,
           -0.5
          ],
          [
           3,
           -0.5,
           0
          ],
          [
           4,
           0,
           0
          ],
          [
           5,
           0.5,
           0
          ],
          [
           6,
           -0.5,
           0.5
          ],
          [
           7,
           0,
           0.5
          ],
          [
           8,
           0.5,
           0.5
          ],
          [
           0,
           -0.5,
           -0.5
          ],
          [
           1,
           0,
           -0.5
          ],
          [
           2,
           0.5,
           -0.5
          ],
          [
           3,
           -0.5,
           0
          ],
          [
           4,
           0,
           0
          ],
          [
           5,
           0.5,
           0
          ],
          [
           6,
           -0.5,
           0.5
          ],
          [
           7,
           0,
           0.5
          ],
          [
           8,
           0.5,
           0.5
          ],
          [
           0,
           -0.5,
           -0.5
          ],
          [
           1,
           0,
           -0.5
          ],
          [
           2,
           0.5,
           -0.5
          ],
          [
           3,
           -0.5,
           0
          ],
          [
           4,
           0,
           0
          ],
          [
           5,
           0.5,
           0
          ],
          [
           6,
           -0.5,
           0.5
          ],
          [
           7,
           0,
           0.5
          ],
          [
           8,
           0.5,
           0.5
          ],
          [
           0,
           -0.5,
           0.5
          ],
          [
           0,
           -0.5,
           -0.5
          ],
          [
           1,
           0,
           -0.5
          ],
          [
           2,
           -0.5,
           0
          ],
          [
           3,
           0,
           0
          ],
          [
           4,
           0.5,
           0
          ],
          [
           5,
           -0.5,
           0.5
          ],
          [
           6,
           0,
           0.5
          ],
          [
           7,
           0.5,
           0.5
          ],
          [
           0,
           0,
           -0.5
          ],
          [
           1,
           0.5,
           -0.5
          ],
          [
           2,
           0,
           0
          ],
          [
           3,
           0.5,
           0
          ],
          [
           4,
           0,
           0.5
          ],
          [
           5,
           0.5,
           0.5
          ],
          [
           0,
           0,
           0
          ],
          [
           1,
           0.5,
           0
          ],
          [
           2,
           -0.5,
           0.5
          ],
          [
           3,
           0,
           0.5
          ],
          [
           4,
           0.5,
           0.5
          ],
          [
           0,
           -0.5,
           -0.5
          ],
          [
           1,
           0,
           -0.5
          ],
          [
           2,
           0.5,
           -0.5
          ],
          [
           3,
           -0.5,
           0
          ],
          [
           4,
           0,
           0
          ],
          [
           5,
           0.5,
           0
          ],
          [
           6,
           -0.5,
           0.5
          ],
          [
           0,
           -0.5,
           -0.5
          ],
          [
           1,
           0,
           -0.5
          ],
          [
           2,
           -0.5,
           0
          ],
          [
           3,
           0,
           0
          ],
          [
           4,
           0.5,
           0
          ],
          [
           5,
           -0.5,
           0.5
          ],
          [
           6,
           0.5,
           0.5
          ],
          [
           0,
           -0.5,
           -0.5
          ],
          [
           1,
           0,
           -0.5
          ],
          [
           2,
           0.5,
           -0.5
          ],
          [
           3,
           -0.5,
           0
          ],
          [
           4,
           0,
           0
          ],
          [
           5,
           0.5,
           0
          ],
          [
           6,
           -0.5,
           0.5
          ],
          [
           7,
           0.5,
           0.5
          ],
          [
           0,
           -0.5,
           -0.5
          ],
          [
           1,
           0,
           -0.5
          ],
          [
           2,
           0.5,
           -0.5
          ],
          [
           3,
           -0.5,
           0
          ],
          [
           4,
           0.5,
           0
          ],
          [
           5,
           0,
           0.5
          ],
          [
           6,
           0.5,
           0.5
          ],
          [
           0,
           0,
           -0.5
          ],
          [
           1,
           0.5,
           -0.5
          ],
          [
           2,
           -0.5,
           0
          ],
          [
           3,
           0,
           0
          ],
          [
           4,
           0.5,
           0
          ],
          [
           5,
           -0.5,
           0.5
          ],
          [
           6,
           0,
           0.5
          ],
          [
           7,
           0.5,
           0.5
          ],
          [
           0,
           -0.5,
           -0.5
          ],
          [
           1,
           0,
           -0.5
          ],
          [
           2,
           0.5,
           -0.5
          ],
          [
           3,
           -0.5,
           0
          ],
          [
           4,
           0,
           0
          ],
          [
           5,
           0.5,
           0
          ],
          [
           6,
           -0.5,
           0.5
          ],
          [
           7,
           0,
           0.5
          ],
          [
           0,
           -0.5,
           -0.5
          ],
          [
           1,
           0,
           -0.5
          ],
          [
           2,
           -0.5,
           0
          ],
          [
           3,
           0.5,
           0
          ],
          [
           4,
           -0.5,
           0.5
          ],
          [
           5,
           0,
           0.5
          ],
          [
           0,
           -0.5,
           -0.5
          ],
          [
           1,
           0,
           -0.5
          ],
          [
           2,
           0.5,
           -0.5
          ],
          [
           3,
           -0.5,
           0
          ],
          [
           4,
           0,
           0
          ],
          [
           5,
           0.5,
           0
          ],
          [
           6,
           -0.5,
           0.5
          ],
          [
           7,
           0,
           0.5
          ],
          [
           8,
           0.5,
           0.5
          ],
          [
           0,
           -0.5,
           -0.5
          ],
          [
           1,
           0,
           -0.5
          ],
          [
           2,
           0.5,
           -0.5
          ],
          [
           3,
           -0.5,
           0
          ],
          [
           4,
           0,
           0
          ],
          [
           5,
           0.5,
           0
          ],
          [
           6,
           -0.5,
           0.5
          ],
          [
           7,
           0,
           0.5
          ],
          [
           8,
           0.5,
           0.5
          ],
          [
           0,
           -0.5,
           -0.5
          ],
          [
           1,
           0,
           -0.5
          ],
          [
           2,
           0.5,
           -0.5
          ],
          [
           3,
           -0.5,
           0
          ],
          [
           4,
           0,
           0
          ],
          [
           5,
           0.5,
           0
          ],
          [
           6,
           -0.5,
           0.5
          ],
          [
           7,
           0,
           0.5
          ],
          [
           8,
           0.5,
           0.5
          ],
          [
           0,
           -0.5,
           -0.5
          ],
          [
           1,
           0,
           -0.5
          ],
          [
           2,
           0.5,
           -0.5
          ],
          [
           3,
           -0.5,
           0
          ],
          [
           4,
           0,
           0
          ],
          [
           5,
           0.5,
           0
          ],
          [
           6,
           -0.5,
           0.5
          ],
          [
           7,
           0,
           0.5
          ],
          [
           8,
           0.5,
           0.5
          ]
         ],
         "hovertemplate": "<b>%{hovertext}</b><br><br>Camera=Fri 2022.05.20 01:22<br>residual=%{x}<br>Laser=%{y}<br>beam_capture_index=%{customdata[0]}<br>projectionPoint_x=%{customdata[1]}<br>projectionPoint_y=%{customdata[2]}<extra></extra>",
         "hovertext": [
          2,
          2,
          2,
          2,
          2,
          2,
          2,
          2,
          4,
          4,
          4,
          4,
          4,
          4,
          4,
          4,
          8,
          8,
          8,
          8,
          8,
          8,
          10,
          10,
          10,
          10,
          10,
          10,
          10,
          10,
          10,
          14,
          14,
          14,
          14,
          14,
          14,
          14,
          14,
          14,
          15,
          15,
          15,
          15,
          15,
          15,
          15,
          15,
          15,
          16,
          16,
          16,
          16,
          16,
          16,
          16,
          16,
          16,
          17,
          17,
          17,
          17,
          17,
          17,
          17,
          17,
          17,
          18,
          18,
          18,
          18,
          18,
          18,
          18,
          18,
          18,
          19,
          22,
          22,
          22,
          22,
          22,
          22,
          22,
          22,
          25,
          25,
          25,
          25,
          25,
          25,
          26,
          26,
          26,
          26,
          26,
          28,
          28,
          28,
          28,
          28,
          28,
          28,
          29,
          29,
          29,
          29,
          29,
          29,
          29,
          30,
          30,
          30,
          30,
          30,
          30,
          30,
          30,
          31,
          31,
          31,
          31,
          31,
          31,
          31,
          32,
          32,
          32,
          32,
          32,
          32,
          32,
          32,
          34,
          34,
          34,
          34,
          34,
          34,
          34,
          34,
          35,
          35,
          35,
          35,
          35,
          35,
          36,
          36,
          36,
          36,
          36,
          36,
          36,
          36,
          36,
          37,
          37,
          37,
          37,
          37,
          37,
          37,
          37,
          37,
          33,
          33,
          33,
          33,
          33,
          33,
          33,
          33,
          33,
          40,
          40,
          40,
          40,
          40,
          40,
          40,
          40,
          40
         ],
         "legendgroup": "Fri 2022.05.20 01:22",
         "marker": {
          "color": "#ab63fa",
          "symbol": "circle"
         },
         "mode": "markers",
         "name": "Fri 2022.05.20 01:22",
         "showlegend": true,
         "type": "scattergl",
         "x": [
          6.932811260223389,
          10.822762489318848,
          6.183441162109375,
          5.838136672973633,
          6.676875591278076,
          7.931434631347656,
          8.224800109863281,
          5.223477363586426,
          10.283333778381348,
          7.750400543212891,
          10.309501647949219,
          5.742610931396484,
          3.6592299938201904,
          12.339041709899902,
          9.563676834106445,
          2.433168411254883,
          19.484804153442383,
          11.6605224609375,
          8.465995788574219,
          4.405777454376221,
          9.353412628173828,
          6.2539801597595215,
          19.826601028442383,
          20.831377029418945,
          15.226908683776855,
          7.427318096160889,
          10.840317726135254,
          11.958914756774902,
          2.5948805809020996,
          10.328714370727539,
          10.605652809143066,
          9.03813648223877,
          10.285555839538574,
          26.038232803344727,
          19.443191528320312,
          3.93599796295166,
          12.472880363464355,
          29.870744705200195,
          15.391884803771973,
          2.266944408416748,
          32.23580551147461,
          25.604520797729492,
          9.982386589050293,
          22.248376846313477,
          15.810980796813965,
          4.874916076660156,
          16.206201553344727,
          12.856842041015625,
          1.9002701044082642,
          5.028319358825684,
          6.846096038818359,
          17.474002838134766,
          10.48310661315918,
          3.2082817554473877,
          9.986763954162598,
          15.352706909179688,
          7.530867099761963,
          4.217595100402832,
          58.24110412597656,
          47.89408874511719,
          128.9241485595703,
          88.24417114257812,
          16.47309112548828,
          80.85735321044922,
          118.05694580078125,
          37.668582916259766,
          41.8650016784668,
          25.195051193237305,
          23.181150436401367,
          17.12552833557129,
          20.031814575195312,
          14.813316345214844,
          10.705995559692383,
          18.92781639099121,
          13.974365234375,
          6.50982666015625,
          12.826642990112305,
          10.927451133728027,
          8.383148193359375,
          8.034914016723633,
          2.9284515380859375,
          4.841393947601318,
          4.892484664916992,
          2.5353899002075195,
          7.667435169219971,
          18.080915451049805,
          21.807331085205078,
          22.894071578979492,
          25.73387336730957,
          24.813528060913086,
          28.97488021850586,
          20.262493133544922,
          16.175127029418945,
          19.651649475097656,
          13.994974136352539,
          13.49026107788086,
          79.3423080444336,
          24.62381362915039,
          34.661590576171875,
          38.39334487915039,
          16.761762619018555,
          71.72724151611328,
          14.360457420349121,
          9.37430477142334,
          5.170598030090332,
          10.485766410827637,
          3.7002651691436768,
          7.623683929443359,
          7.401450157165527,
          10.273752212524414,
          78.13065338134766,
          31.269628524780273,
          18.75536346435547,
          49.96477127075195,
          8.40383529663086,
          37.38455581665039,
          27.673643112182617,
          53.40583038330078,
          22.352327346801758,
          19.542171478271484,
          14.613645553588867,
          21.356475830078125,
          14.753067016601562,
          16.07050323486328,
          16.438142776489258,
          2.9704432487487793,
          12.205495834350586,
          14.158976554870605,
          9.567021369934082,
          17.914194107055664,
          12.990083694458008,
          11.637106895446777,
          21.297142028808594,
          9.871179580688477,
          8.977803230285645,
          19.0549259185791,
          5.866058826446533,
          7.936669826507568,
          19.41826629638672,
          1.4195042848587036,
          10.502959251403809,
          2.039166212081909,
          9.097288131713867,
          1.3246053457260132,
          7.104926109313965,
          1.426011562347412,
          2.6728355884552,
          16.66191864013672,
          17.503639221191406,
          10.88918399810791,
          15.550596237182617,
          6.233232498168945,
          3.7937235832214355,
          15.026893615722656,
          4.3778395652771,
          4.938590049743652,
          19.22808837890625,
          13.067444801330566,
          12.106623649597168,
          19.818817138671875,
          5.8318328857421875,
          3.111614942550659,
          18.918010711669922,
          5.069018363952637,
          3.568081855773926,
          17.381532669067383,
          21.99835205078125,
          16.984630584716797,
          18.25908088684082,
          15.785454750061035,
          13.890120506286621,
          18.977676391601562,
          15.421120643615723,
          13.833429336547852,
          13.65182876586914,
          23.106117248535156,
          15.911724090576172,
          12.099504470825195,
          12.734053611755371,
          12.381436347961426,
          15.70090103149414,
          11.777749061584473,
          12.849445343017578
         ],
         "xaxis": "x",
         "y": [
          2,
          2,
          2,
          2,
          2,
          2,
          2,
          2,
          4,
          4,
          4,
          4,
          4,
          4,
          4,
          4,
          8,
          8,
          8,
          8,
          8,
          8,
          10,
          10,
          10,
          10,
          10,
          10,
          10,
          10,
          10,
          14,
          14,
          14,
          14,
          14,
          14,
          14,
          14,
          14,
          15,
          15,
          15,
          15,
          15,
          15,
          15,
          15,
          15,
          16,
          16,
          16,
          16,
          16,
          16,
          16,
          16,
          16,
          17,
          17,
          17,
          17,
          17,
          17,
          17,
          17,
          17,
          18,
          18,
          18,
          18,
          18,
          18,
          18,
          18,
          18,
          19,
          22,
          22,
          22,
          22,
          22,
          22,
          22,
          22,
          25,
          25,
          25,
          25,
          25,
          25,
          26,
          26,
          26,
          26,
          26,
          28,
          28,
          28,
          28,
          28,
          28,
          28,
          29,
          29,
          29,
          29,
          29,
          29,
          29,
          30,
          30,
          30,
          30,
          30,
          30,
          30,
          30,
          31,
          31,
          31,
          31,
          31,
          31,
          31,
          32,
          32,
          32,
          32,
          32,
          32,
          32,
          32,
          34,
          34,
          34,
          34,
          34,
          34,
          34,
          34,
          35,
          35,
          35,
          35,
          35,
          35,
          36,
          36,
          36,
          36,
          36,
          36,
          36,
          36,
          36,
          37,
          37,
          37,
          37,
          37,
          37,
          37,
          37,
          37,
          33,
          33,
          33,
          33,
          33,
          33,
          33,
          33,
          33,
          40,
          40,
          40,
          40,
          40,
          40,
          40,
          40,
          40
         ],
         "yaxis": "y"
        },
        {
         "customdata": [
          [
           0,
           0,
           -0.5
          ],
          [
           0,
           0,
           -0.5
          ],
          [
           1,
           0,
           0
          ],
          [
           2,
           0,
           0.5
          ],
          [
           0,
           -0.5,
           -0.5
          ],
          [
           1,
           0,
           -0.5
          ],
          [
           2,
           0.5,
           -0.5
          ],
          [
           3,
           -0.5,
           0
          ],
          [
           4,
           0,
           0
          ],
          [
           5,
           0.5,
           0
          ],
          [
           6,
           0,
           0.5
          ],
          [
           7,
           0.5,
           0.5
          ],
          [
           0,
           -0.5,
           -0.5
          ],
          [
           1,
           0,
           -0.5
          ],
          [
           2,
           0.5,
           -0.5
          ],
          [
           3,
           -0.5,
           0
          ],
          [
           4,
           0,
           0
          ],
          [
           5,
           -0.5,
           0.5
          ],
          [
           6,
           0,
           0.5
          ],
          [
           7,
           0.5,
           0.5
          ]
         ],
         "hovertemplate": "<b>%{hovertext}</b><br><br>Camera=Fri 2022.05.20 22:46<br>residual=%{x}<br>Laser=%{y}<br>beam_capture_index=%{customdata[0]}<br>projectionPoint_x=%{customdata[1]}<br>projectionPoint_y=%{customdata[2]}<extra></extra>",
         "hovertext": [
          8,
          9,
          9,
          9,
          23,
          23,
          23,
          23,
          23,
          23,
          23,
          23,
          24,
          24,
          24,
          24,
          24,
          24,
          24,
          24
         ],
         "legendgroup": "Fri 2022.05.20 22:46",
         "marker": {
          "color": "#FFA15A",
          "symbol": "circle"
         },
         "mode": "markers",
         "name": "Fri 2022.05.20 22:46",
         "showlegend": true,
         "type": "scattergl",
         "x": [
          140.49432373046875,
          151.03265380859375,
          93.52332305908203,
          150.50648498535156,
          44.29612731933594,
          8.152359962463379,
          48.776527404785156,
          29.269628524780273,
          14.425421714782715,
          42.8840217590332,
          20.525297164916992,
          38.14199447631836,
          54.639427185058594,
          10.131925582885742,
          56.7873649597168,
          25.347278594970703,
          9.379986763000488,
          22.069717407226562,
          15.850059509277344,
          45.8189697265625
         ],
         "xaxis": "x",
         "y": [
          8,
          9,
          9,
          9,
          23,
          23,
          23,
          23,
          23,
          23,
          23,
          23,
          24,
          24,
          24,
          24,
          24,
          24,
          24,
          24
         ],
         "yaxis": "y"
        },
        {
         "customdata": [
          [
           0,
           0,
           -0.5
          ],
          [
           1,
           0.5,
           -0.5
          ],
          [
           2,
           -0.5,
           0
          ],
          [
           3,
           0,
           0
          ],
          [
           4,
           0.5,
           0
          ],
          [
           5,
           -0.5,
           0.5
          ],
          [
           6,
           0,
           0.5
          ],
          [
           7,
           0.5,
           0.5
          ],
          [
           0,
           0.5,
           -0.5
          ],
          [
           1,
           -0.5,
           0
          ],
          [
           2,
           0,
           0
          ],
          [
           3,
           0.5,
           0
          ],
          [
           4,
           0,
           0.5
          ],
          [
           0,
           0,
           -0.5
          ],
          [
           1,
           -0.5,
           0
          ],
          [
           2,
           0,
           0
          ],
          [
           3,
           -0.5,
           0.5
          ],
          [
           4,
           0,
           0.5
          ],
          [
           0,
           0,
           -0.5
          ],
          [
           1,
           0.5,
           -0.5
          ],
          [
           2,
           -0.5,
           0
          ],
          [
           3,
           0,
           0
          ],
          [
           4,
           0.5,
           0
          ],
          [
           5,
           -0.5,
           0.5
          ],
          [
           6,
           0,
           0.5
          ],
          [
           7,
           0.5,
           0.5
          ],
          [
           0,
           0,
           -0.5
          ],
          [
           1,
           0.5,
           -0.5
          ],
          [
           2,
           -0.5,
           0
          ],
          [
           3,
           0,
           0
          ],
          [
           4,
           0.5,
           0
          ],
          [
           5,
           -0.5,
           0.5
          ],
          [
           6,
           0,
           0.5
          ],
          [
           7,
           0.5,
           0.5
          ],
          [
           0,
           -0.5,
           -0.5
          ],
          [
           1,
           0,
           -0.5
          ],
          [
           2,
           0.5,
           0
          ],
          [
           0,
           -0.5,
           0
          ],
          [
           1,
           0.5,
           0
          ]
         ],
         "hovertemplate": "<b>%{hovertext}</b><br><br>Camera=Fri 2022.05.20 23:03<br>residual=%{x}<br>Laser=%{y}<br>beam_capture_index=%{customdata[0]}<br>projectionPoint_x=%{customdata[1]}<br>projectionPoint_y=%{customdata[2]}<extra></extra>",
         "hovertext": [
          1,
          1,
          1,
          1,
          1,
          1,
          1,
          1,
          8,
          8,
          8,
          8,
          8,
          9,
          9,
          9,
          9,
          9,
          23,
          23,
          23,
          23,
          23,
          23,
          23,
          23,
          24,
          24,
          24,
          24,
          24,
          24,
          24,
          24,
          30,
          30,
          30,
          40,
          40
         ],
         "legendgroup": "Fri 2022.05.20 23:03",
         "marker": {
          "color": "#19d3f3",
          "symbol": "circle"
         },
         "mode": "markers",
         "name": "Fri 2022.05.20 23:03",
         "showlegend": true,
         "type": "scattergl",
         "x": [
          88.79747772216797,
          82.38319396972656,
          64.2806396484375,
          56.362823486328125,
          50.21453094482422,
          32.160736083984375,
          24.92580223083496,
          19.574462890625,
          54.23246383666992,
          79.64901733398438,
          50.13525390625,
          19.450590133666992,
          23.66988754272461,
          31.46375274658203,
          16.098934173583984,
          20.16489028930664,
          17.112356185913086,
          51.43421936035156,
          24.55445671081543,
          38.76782989501953,
          24.221986770629883,
          10.305878639221191,
          26.389942169189453,
          27.79038429260254,
          5.062325477600098,
          17.660179138183594,
          15.374733924865723,
          27.08816909790039,
          27.079769134521484,
          1.3468812704086304,
          15.564208030700684,
          32.875362396240234,
          8.145430564880371,
          9.640640258789062,
          54.51215744018555,
          80.63983154296875,
          70.76753997802734,
          13.766373634338379,
          18.351411819458008
         ],
         "xaxis": "x",
         "y": [
          1,
          1,
          1,
          1,
          1,
          1,
          1,
          1,
          8,
          8,
          8,
          8,
          8,
          9,
          9,
          9,
          9,
          9,
          23,
          23,
          23,
          23,
          23,
          23,
          23,
          23,
          24,
          24,
          24,
          24,
          24,
          24,
          24,
          24,
          30,
          30,
          30,
          40,
          40
         ],
         "yaxis": "y"
        },
        {
         "customdata": [
          [
           0,
           -0.5,
           -0.5
          ],
          [
           1,
           0,
           -0.5
          ],
          [
           2,
           0.5,
           -0.5
          ],
          [
           3,
           -0.5,
           0
          ],
          [
           4,
           0.5,
           0
          ],
          [
           5,
           -0.5,
           0.5
          ],
          [
           6,
           0,
           0.5
          ],
          [
           0,
           -0.5,
           -0.5
          ],
          [
           1,
           0,
           -0.5
          ],
          [
           2,
           0.5,
           -0.5
          ],
          [
           3,
           -0.5,
           0
          ],
          [
           4,
           0,
           0
          ],
          [
           5,
           0.5,
           0
          ],
          [
           6,
           -0.5,
           0.5
          ],
          [
           7,
           0,
           0.5
          ],
          [
           8,
           0.5,
           0.5
          ],
          [
           0,
           -0.5,
           -0.5
          ],
          [
           1,
           0,
           -0.5
          ],
          [
           2,
           0.5,
           -0.5
          ],
          [
           3,
           -0.5,
           0
          ],
          [
           4,
           0,
           0
          ],
          [
           5,
           0.5,
           0
          ],
          [
           6,
           -0.5,
           0.5
          ],
          [
           7,
           0,
           0.5
          ],
          [
           8,
           0.5,
           0.5
          ],
          [
           0,
           -0.5,
           -0.5
          ],
          [
           1,
           0,
           -0.5
          ],
          [
           2,
           0.5,
           -0.5
          ],
          [
           3,
           -0.5,
           0
          ],
          [
           4,
           0,
           0
          ],
          [
           5,
           0.5,
           0
          ],
          [
           6,
           -0.5,
           0.5
          ],
          [
           7,
           0,
           0.5
          ],
          [
           8,
           0.5,
           0.5
          ],
          [
           0,
           -0.5,
           -0.5
          ],
          [
           1,
           0,
           -0.5
          ],
          [
           2,
           0.5,
           -0.5
          ],
          [
           3,
           -0.5,
           0
          ],
          [
           4,
           0,
           0
          ],
          [
           5,
           0.5,
           0
          ],
          [
           6,
           -0.5,
           0.5
          ],
          [
           7,
           0,
           0.5
          ],
          [
           8,
           0.5,
           0.5
          ],
          [
           0,
           -0.5,
           -0.5
          ],
          [
           1,
           0,
           -0.5
          ],
          [
           2,
           0.5,
           -0.5
          ],
          [
           3,
           -0.5,
           0
          ],
          [
           4,
           0,
           0
          ],
          [
           5,
           0.5,
           0
          ],
          [
           6,
           -0.5,
           0.5
          ],
          [
           7,
           0,
           0.5
          ],
          [
           8,
           0.5,
           0.5
          ],
          [
           0,
           -0.5,
           -0.5
          ],
          [
           1,
           0,
           -0.5
          ],
          [
           2,
           0.5,
           -0.5
          ],
          [
           3,
           -0.5,
           0
          ],
          [
           4,
           0,
           0
          ],
          [
           5,
           0.5,
           0
          ],
          [
           6,
           -0.5,
           0.5
          ],
          [
           7,
           0,
           0.5
          ],
          [
           8,
           0.5,
           0.5
          ],
          [
           0,
           -0.5,
           -0.5
          ],
          [
           1,
           0,
           -0.5
          ],
          [
           2,
           0.5,
           -0.5
          ],
          [
           3,
           -0.5,
           0
          ],
          [
           4,
           0,
           0
          ],
          [
           5,
           0.5,
           0
          ],
          [
           6,
           -0.5,
           0.5
          ],
          [
           7,
           0,
           0.5
          ],
          [
           8,
           0.5,
           0.5
          ],
          [
           0,
           0,
           -0.5
          ],
          [
           1,
           0.5,
           -0.5
          ],
          [
           2,
           -0.5,
           0
          ],
          [
           3,
           0,
           0
          ],
          [
           4,
           0.5,
           0
          ],
          [
           5,
           -0.5,
           0.5
          ],
          [
           6,
           0.5,
           0.5
          ],
          [
           0,
           -0.5,
           -0.5
          ],
          [
           1,
           0,
           -0.5
          ],
          [
           2,
           0.5,
           -0.5
          ],
          [
           3,
           -0.5,
           0
          ],
          [
           4,
           0,
           0
          ],
          [
           5,
           0.5,
           0
          ],
          [
           6,
           -0.5,
           0.5
          ],
          [
           7,
           0,
           0.5
          ],
          [
           8,
           0.5,
           0.5
          ],
          [
           0,
           -0.5,
           -0.5
          ],
          [
           1,
           0,
           -0.5
          ],
          [
           2,
           0.5,
           -0.5
          ],
          [
           3,
           -0.5,
           0
          ],
          [
           4,
           0.5,
           0
          ],
          [
           5,
           -0.5,
           0.5
          ],
          [
           6,
           0,
           0.5
          ],
          [
           7,
           0.5,
           0.5
          ],
          [
           0,
           -0.5,
           -0.5
          ],
          [
           1,
           0,
           -0.5
          ],
          [
           2,
           0.5,
           -0.5
          ],
          [
           3,
           -0.5,
           0
          ],
          [
           4,
           0,
           0
          ],
          [
           5,
           0.5,
           0
          ],
          [
           6,
           -0.5,
           0.5
          ],
          [
           7,
           0,
           0.5
          ],
          [
           8,
           0.5,
           0.5
          ],
          [
           0,
           -0.5,
           -0.5
          ],
          [
           1,
           0,
           -0.5
          ],
          [
           2,
           0.5,
           -0.5
          ],
          [
           3,
           -0.5,
           0
          ],
          [
           4,
           0,
           0
          ],
          [
           5,
           0.5,
           0
          ],
          [
           6,
           -0.5,
           0.5
          ],
          [
           7,
           0,
           0.5
          ],
          [
           8,
           0.5,
           0.5
          ],
          [
           0,
           0,
           -0.5
          ],
          [
           1,
           0.5,
           -0.5
          ],
          [
           2,
           -0.5,
           0
          ],
          [
           3,
           0,
           0
          ],
          [
           4,
           0.5,
           0
          ],
          [
           5,
           -0.5,
           0.5
          ],
          [
           6,
           0,
           0.5
          ],
          [
           7,
           0.5,
           0.5
          ],
          [
           0,
           -0.5,
           -0.5
          ],
          [
           1,
           0.5,
           -0.5
          ],
          [
           2,
           -0.5,
           0
          ],
          [
           3,
           0.5,
           0
          ],
          [
           4,
           -0.5,
           0.5
          ],
          [
           5,
           0,
           0.5
          ],
          [
           6,
           0.5,
           0.5
          ],
          [
           0,
           -0.5,
           -0.5
          ],
          [
           1,
           0,
           -0.5
          ],
          [
           2,
           -0.5,
           0
          ],
          [
           3,
           0.5,
           0
          ],
          [
           4,
           -0.5,
           0.5
          ],
          [
           5,
           0.5,
           0.5
          ],
          [
           0,
           -0.5,
           -0.5
          ],
          [
           1,
           0,
           -0.5
          ],
          [
           2,
           0.5,
           -0.5
          ],
          [
           3,
           -0.5,
           0
          ],
          [
           4,
           0,
           0
          ],
          [
           5,
           0.5,
           0
          ],
          [
           6,
           -0.5,
           0.5
          ],
          [
           7,
           0,
           0.5
          ],
          [
           8,
           0.5,
           0.5
          ],
          [
           0,
           0,
           -0.5
          ],
          [
           1,
           0.5,
           -0.5
          ],
          [
           2,
           0,
           0
          ],
          [
           3,
           0.5,
           0
          ],
          [
           4,
           0,
           0.5
          ],
          [
           5,
           0.5,
           0.5
          ],
          [
           0,
           -0.5,
           -0.5
          ],
          [
           1,
           0,
           -0.5
          ],
          [
           2,
           0.5,
           -0.5
          ],
          [
           3,
           -0.5,
           0
          ],
          [
           4,
           0,
           0
          ],
          [
           5,
           0.5,
           0
          ],
          [
           6,
           -0.5,
           0.5
          ],
          [
           7,
           0,
           0.5
          ],
          [
           8,
           0.5,
           0.5
          ],
          [
           0,
           -0.5,
           -0.5
          ],
          [
           1,
           0,
           -0.5
          ],
          [
           2,
           0.5,
           -0.5
          ],
          [
           3,
           -0.5,
           0
          ],
          [
           4,
           0,
           0
          ],
          [
           5,
           0.5,
           0
          ],
          [
           6,
           -0.5,
           0.5
          ],
          [
           7,
           0,
           0.5
          ],
          [
           8,
           0.5,
           0.5
          ],
          [
           0,
           -0.5,
           -0.5
          ],
          [
           1,
           0.5,
           -0.5
          ],
          [
           2,
           -0.5,
           0
          ],
          [
           3,
           0,
           0
          ],
          [
           4,
           0.5,
           0
          ],
          [
           5,
           -0.5,
           0.5
          ],
          [
           6,
           0,
           0.5
          ],
          [
           7,
           0.5,
           0.5
          ],
          [
           0,
           -0.5,
           -0.5
          ],
          [
           1,
           0,
           -0.5
          ],
          [
           2,
           0.5,
           -0.5
          ],
          [
           3,
           -0.5,
           0
          ],
          [
           4,
           0,
           0
          ],
          [
           5,
           0.5,
           0
          ],
          [
           6,
           -0.5,
           0.5
          ],
          [
           7,
           0,
           0.5
          ],
          [
           8,
           0.5,
           0.5
          ],
          [
           0,
           -0.5,
           -0.5
          ],
          [
           1,
           0,
           -0.5
          ],
          [
           2,
           0.5,
           -0.5
          ],
          [
           3,
           0,
           0
          ],
          [
           4,
           0.5,
           0
          ],
          [
           5,
           -0.5,
           0.5
          ],
          [
           6,
           0,
           0.5
          ],
          [
           7,
           0.5,
           0.5
          ],
          [
           0,
           -0.5,
           -0.5
          ],
          [
           1,
           0,
           -0.5
          ],
          [
           2,
           0.5,
           -0.5
          ],
          [
           3,
           -0.5,
           0
          ],
          [
           4,
           0.5,
           0
          ],
          [
           5,
           -0.5,
           0.5
          ],
          [
           6,
           0,
           0.5
          ],
          [
           7,
           0.5,
           0.5
          ],
          [
           0,
           -0.5,
           -0.5
          ],
          [
           1,
           0.5,
           -0.5
          ],
          [
           2,
           -0.5,
           0
          ],
          [
           3,
           0,
           0
          ],
          [
           4,
           0.5,
           0
          ],
          [
           5,
           -0.5,
           0.5
          ],
          [
           6,
           0.5,
           0.5
          ],
          [
           0,
           -0.5,
           -0.5
          ],
          [
           1,
           0,
           -0.5
          ],
          [
           2,
           0.5,
           -0.5
          ],
          [
           3,
           -0.5,
           0
          ],
          [
           4,
           0,
           0
          ],
          [
           5,
           0.5,
           0
          ],
          [
           6,
           -0.5,
           0.5
          ],
          [
           7,
           0,
           0.5
          ],
          [
           8,
           0.5,
           0.5
          ],
          [
           0,
           -0.5,
           -0.5
          ],
          [
           1,
           0,
           -0.5
          ],
          [
           2,
           0.5,
           -0.5
          ],
          [
           3,
           -0.5,
           0
          ],
          [
           4,
           0,
           0
          ],
          [
           5,
           0.5,
           0
          ],
          [
           6,
           -0.5,
           0.5
          ],
          [
           7,
           0,
           0.5
          ],
          [
           8,
           0.5,
           0.5
          ],
          [
           0,
           -0.5,
           -0.5
          ],
          [
           1,
           0,
           -0.5
          ],
          [
           2,
           0.5,
           -0.5
          ],
          [
           3,
           -0.5,
           0
          ],
          [
           4,
           0,
           0
          ],
          [
           5,
           0.5,
           0
          ],
          [
           6,
           -0.5,
           0.5
          ],
          [
           7,
           0,
           0.5
          ],
          [
           8,
           0.5,
           0.5
          ],
          [
           0,
           -0.5,
           -0.5
          ],
          [
           1,
           0,
           -0.5
          ],
          [
           2,
           0.5,
           -0.5
          ],
          [
           3,
           -0.5,
           0
          ],
          [
           4,
           0,
           0
          ],
          [
           5,
           0.5,
           0
          ],
          [
           6,
           -0.5,
           0.5
          ],
          [
           7,
           0,
           0.5
          ],
          [
           8,
           0.5,
           0.5
          ]
         ],
         "hovertemplate": "<b>%{hovertext}</b><br><br>Camera=Fri 2022.05.20 23:18<br>residual=%{x}<br>Laser=%{y}<br>beam_capture_index=%{customdata[0]}<br>projectionPoint_x=%{customdata[1]}<br>projectionPoint_y=%{customdata[2]}<extra></extra>",
         "hovertext": [
          1,
          1,
          1,
          1,
          1,
          1,
          1,
          4,
          4,
          4,
          4,
          4,
          4,
          4,
          4,
          4,
          12,
          12,
          12,
          12,
          12,
          12,
          12,
          12,
          12,
          7,
          7,
          7,
          7,
          7,
          7,
          7,
          7,
          7,
          8,
          8,
          8,
          8,
          8,
          8,
          8,
          8,
          8,
          9,
          9,
          9,
          9,
          9,
          9,
          9,
          9,
          9,
          10,
          10,
          10,
          10,
          10,
          10,
          10,
          10,
          10,
          13,
          13,
          13,
          13,
          13,
          13,
          13,
          13,
          13,
          14,
          14,
          14,
          14,
          14,
          14,
          14,
          15,
          15,
          15,
          15,
          15,
          15,
          15,
          15,
          15,
          16,
          16,
          16,
          16,
          16,
          16,
          16,
          16,
          17,
          17,
          17,
          17,
          17,
          17,
          17,
          17,
          17,
          18,
          18,
          18,
          18,
          18,
          18,
          18,
          18,
          18,
          19,
          19,
          19,
          19,
          19,
          19,
          19,
          19,
          22,
          22,
          22,
          22,
          22,
          22,
          22,
          23,
          23,
          23,
          23,
          23,
          23,
          24,
          24,
          24,
          24,
          24,
          24,
          24,
          24,
          24,
          25,
          25,
          25,
          25,
          25,
          25,
          26,
          26,
          26,
          26,
          26,
          26,
          26,
          26,
          26,
          28,
          28,
          28,
          28,
          28,
          28,
          28,
          28,
          28,
          29,
          29,
          29,
          29,
          29,
          29,
          29,
          29,
          30,
          30,
          30,
          30,
          30,
          30,
          30,
          30,
          30,
          31,
          31,
          31,
          31,
          31,
          31,
          31,
          31,
          32,
          32,
          32,
          32,
          32,
          32,
          32,
          32,
          36,
          36,
          36,
          36,
          36,
          36,
          36,
          37,
          37,
          37,
          37,
          37,
          37,
          37,
          37,
          37,
          38,
          38,
          38,
          38,
          38,
          38,
          38,
          38,
          38,
          33,
          33,
          33,
          33,
          33,
          33,
          33,
          33,
          33,
          40,
          40,
          40,
          40,
          40,
          40,
          40,
          40,
          40
         ],
         "legendgroup": "Fri 2022.05.20 23:18",
         "marker": {
          "color": "#FF6692",
          "symbol": "circle"
         },
         "mode": "markers",
         "name": "Fri 2022.05.20 23:18",
         "showlegend": true,
         "type": "scattergl",
         "x": [
          39.191734313964844,
          42.93742752075195,
          45.92066192626953,
          27.719789505004883,
          37.31105422973633,
          16.887861251831055,
          25.692197799682617,
          73.14009857177734,
          76.09373474121094,
          78.91860961914062,
          56.296627044677734,
          59.804901123046875,
          63.50358200073242,
          38.87277603149414,
          44.180294036865234,
          49.56106948852539,
          65.52709197998047,
          65.0379638671875,
          65.02352142333984,
          57.497859954833984,
          58.10993194580078,
          59.2269172668457,
          48.821754455566406,
          50.963077545166016,
          53.93155288696289,
          53.795833587646484,
          53.576847076416016,
          54.12934112548828,
          45.83468246459961,
          45.65781784057617,
          45.728919982910156,
          37.181880950927734,
          37.4368782043457,
          38.00595474243164,
          56.65262222290039,
          56.20770263671875,
          56.061439514160156,
          59.853675842285156,
          59.78633117675781,
          59.78316116333008,
          63.2347412109375,
          63.093807220458984,
          63.87860870361328,
          6.453074932098389,
          11.666613578796387,
          19.164493560791016,
          6.042117118835449,
          9.423394203186035,
          9.420662879943848,
          9.916717529296875,
          6.780642032623291,
          3.3852617740631104,
          119.42557525634766,
          146.0201873779297,
          188.01727294921875,
          44.2281608581543,
          63.8591423034668,
          94.41287994384766,
          38.16738510131836,
          28.77287483215332,
          23.6218318939209,
          77.29075622558594,
          60.033531188964844,
          46.034278869628906,
          25.00258445739746,
          11.75507640838623,
          6.581571102142334,
          33.44575500488281,
          41.401634216308594,
          50.122013092041016,
          3.3127505779266357,
          9.049324989318848,
          20.91703987121582,
          25.79474639892578,
          30.347572326660156,
          45.574092864990234,
          53.756385803222656,
          18.70189094543457,
          16.27052116394043,
          18.231868743896484,
          25.731277465820312,
          28.714754104614258,
          33.099021911621094,
          39.019161224365234,
          42.27124786376953,
          46.844573974609375,
          19.088111877441406,
          21.885082244873047,
          24.674707412719727,
          28.002466201782227,
          33.77370071411133,
          37.1710090637207,
          39.69963073730469,
          42.55205535888672,
          31.529111862182617,
          31.00554084777832,
          31.957502365112305,
          31.255388259887695,
          31.26441764831543,
          33.40876388549805,
          30.82114601135254,
          31.246950149536133,
          32.99531936645508,
          29.36850357055664,
          28.92991065979004,
          30.679607391357422,
          29.62936019897461,
          30.766477584838867,
          33.442543029785156,
          29.543338775634766,
          30.663570404052734,
          33.77540969848633,
          30.94120216369629,
          32.513465881347656,
          28.912904739379883,
          29.809066772460938,
          33.61015319824219,
          26.286832809448242,
          26.411279678344727,
          31.434581756591797,
          14.123602867126465,
          15.813407897949219,
          10.830081939697266,
          13.462014198303223,
          8.789999008178711,
          6.597795009613037,
          7.978311538696289,
          34.62382125854492,
          27.568300247192383,
          23.584728240966797,
          29.029582977294922,
          19.210222244262695,
          39.12155532836914,
          23.324443817138672,
          14.749502182006836,
          9.034266471862793,
          13.198122024536133,
          9.89453411102295,
          14.635531425476074,
          10.973469734191895,
          18.042387008666992,
          25.919925689697266,
          5.77800989151001,
          10.937614440917969,
          8.613984107971191,
          12.59218978881836,
          16.316017150878906,
          17.669677734375,
          4.254231929779053,
          3.5619869232177734,
          5.797293186187744,
          5.4302659034729,
          8.613741874694824,
          8.926509857177734,
          14.066195487976074,
          15.794210433959961,
          13.668575286865234,
          18.68669319152832,
          10.982549667358398,
          3.9369497299194336,
          17.405241012573242,
          13.952637672424316,
          6.0240478515625,
          21.218772888183594,
          21.926965713500977,
          15.931666374206543,
          14.549737930297852,
          14.5694580078125,
          17.64378547668457,
          19.007911682128906,
          17.28514289855957,
          24.1301326751709,
          26.74338722229004,
          23.90959358215332,
          2.865797281265259,
          14.526589393615723,
          25.128616333007812,
          10.668959617614746,
          17.327220916748047,
          24.023754119873047,
          20.15401268005371,
          24.69223976135254,
          26.14144515991211,
          18.598161697387695,
          17.373004913330078,
          14.897473335266113,
          21.126726150512695,
          19.718969345092773,
          25.272003173828125,
          28.068607330322266,
          25.556015014648438,
          24.911245346069336,
          21.21320152282715,
          14.96663761138916,
          28.56898307800293,
          22.421401977539062,
          34.243408203125,
          34.765281677246094,
          29.786462783813477,
          3.684664487838745,
          13.045193672180176,
          12.452762603759766,
          12.560929298400879,
          13.643824577331543,
          22.326791763305664,
          21.87961196899414,
          9.07583999633789,
          7.788094520568848,
          15.628111839294434,
          8.891467094421387,
          8.241211891174316,
          13.668769836425781,
          15.857635498046875,
          17.534372329711914,
          19.120121002197266,
          5.809427738189697,
          14.493718147277832,
          20.832761764526367,
          3.3010923862457275,
          11.014496803283691,
          16.97820281982422,
          12.255958557128906,
          17.495086669921875,
          19.840641021728516,
          4.363868236541748,
          11.525923728942871,
          15.551496505737305,
          7.839672565460205,
          11.771015167236328,
          14.707385063171387,
          16.625524520874023,
          20.450830459594727,
          20.842992782592773,
          21.93709373474121,
          26.019729614257812,
          29.41380500793457,
          15.779879570007324,
          21.666919708251953,
          25.673025131225586,
          13.727779388427734,
          23.111717224121094,
          26.540672302246094
         ],
         "xaxis": "x",
         "y": [
          1,
          1,
          1,
          1,
          1,
          1,
          1,
          4,
          4,
          4,
          4,
          4,
          4,
          4,
          4,
          4,
          12,
          12,
          12,
          12,
          12,
          12,
          12,
          12,
          12,
          7,
          7,
          7,
          7,
          7,
          7,
          7,
          7,
          7,
          8,
          8,
          8,
          8,
          8,
          8,
          8,
          8,
          8,
          9,
          9,
          9,
          9,
          9,
          9,
          9,
          9,
          9,
          10,
          10,
          10,
          10,
          10,
          10,
          10,
          10,
          10,
          13,
          13,
          13,
          13,
          13,
          13,
          13,
          13,
          13,
          14,
          14,
          14,
          14,
          14,
          14,
          14,
          15,
          15,
          15,
          15,
          15,
          15,
          15,
          15,
          15,
          16,
          16,
          16,
          16,
          16,
          16,
          16,
          16,
          17,
          17,
          17,
          17,
          17,
          17,
          17,
          17,
          17,
          18,
          18,
          18,
          18,
          18,
          18,
          18,
          18,
          18,
          19,
          19,
          19,
          19,
          19,
          19,
          19,
          19,
          22,
          22,
          22,
          22,
          22,
          22,
          22,
          23,
          23,
          23,
          23,
          23,
          23,
          24,
          24,
          24,
          24,
          24,
          24,
          24,
          24,
          24,
          25,
          25,
          25,
          25,
          25,
          25,
          26,
          26,
          26,
          26,
          26,
          26,
          26,
          26,
          26,
          28,
          28,
          28,
          28,
          28,
          28,
          28,
          28,
          28,
          29,
          29,
          29,
          29,
          29,
          29,
          29,
          29,
          30,
          30,
          30,
          30,
          30,
          30,
          30,
          30,
          30,
          31,
          31,
          31,
          31,
          31,
          31,
          31,
          31,
          32,
          32,
          32,
          32,
          32,
          32,
          32,
          32,
          36,
          36,
          36,
          36,
          36,
          36,
          36,
          37,
          37,
          37,
          37,
          37,
          37,
          37,
          37,
          37,
          38,
          38,
          38,
          38,
          38,
          38,
          38,
          38,
          38,
          33,
          33,
          33,
          33,
          33,
          33,
          33,
          33,
          33,
          40,
          40,
          40,
          40,
          40,
          40,
          40,
          40,
          40
         ],
         "yaxis": "y"
        },
        {
         "customdata": [
          [
           0,
           0,
           -0.5
          ],
          [
           1,
           0.5,
           -0.5
          ],
          [
           0,
           0,
           -0.5
          ],
          [
           1,
           -0.5,
           0
          ],
          [
           2,
           0.5,
           0
          ],
          [
           3,
           -0.5,
           0.5
          ],
          [
           4,
           0,
           0.5
          ],
          [
           5,
           0.5,
           0.5
          ],
          [
           0,
           -0.5,
           -0.5
          ],
          [
           1,
           0,
           -0.5
          ],
          [
           2,
           0.5,
           -0.5
          ],
          [
           3,
           -0.5,
           0
          ],
          [
           4,
           0.5,
           0
          ],
          [
           5,
           -0.5,
           0.5
          ],
          [
           6,
           0,
           0.5
          ],
          [
           7,
           0.5,
           0.5
          ],
          [
           0,
           -0.5,
           -0.5
          ],
          [
           1,
           0,
           -0.5
          ],
          [
           2,
           -0.5,
           0
          ],
          [
           3,
           0,
           0
          ],
          [
           4,
           0.5,
           0
          ],
          [
           5,
           -0.5,
           0.5
          ],
          [
           6,
           0,
           0.5
          ],
          [
           7,
           0.5,
           0.5
          ]
         ],
         "hovertemplate": "<b>%{hovertext}</b><br><br>Camera=Sat 2022.05.21 01:41<br>residual=%{x}<br>Laser=%{y}<br>beam_capture_index=%{customdata[0]}<br>projectionPoint_x=%{customdata[1]}<br>projectionPoint_y=%{customdata[2]}<extra></extra>",
         "hovertext": [
          20,
          20,
          22,
          22,
          22,
          22,
          22,
          22,
          23,
          23,
          23,
          23,
          23,
          23,
          23,
          23,
          24,
          24,
          24,
          24,
          24,
          24,
          24,
          24
         ],
         "legendgroup": "Sat 2022.05.21 01:41",
         "marker": {
          "color": "#B6E880",
          "symbol": "circle"
         },
         "mode": "markers",
         "name": "Sat 2022.05.21 01:41",
         "showlegend": true,
         "type": "scattergl",
         "x": [
          10.843205451965332,
          10.979304313659668,
          42.32017135620117,
          4.558650970458984,
          36.64643096923828,
          23.98478889465332,
          11.823705673217773,
          19.620037078857422,
          4.229134559631348,
          4.531261444091797,
          8.13700008392334,
          5.033120632171631,
          4.3623528480529785,
          10.226239204406738,
          11.984410285949707,
          11.495221138000488,
          2.4377691745758057,
          3.2458879947662354,
          2.3803889751434326,
          1.7322213649749756,
          2.169160842895508,
          5.055501937866211,
          4.271030426025391,
          4.637240886688232
         ],
         "xaxis": "x",
         "y": [
          20,
          20,
          22,
          22,
          22,
          22,
          22,
          22,
          23,
          23,
          23,
          23,
          23,
          23,
          23,
          23,
          24,
          24,
          24,
          24,
          24,
          24,
          24,
          24
         ],
         "yaxis": "y"
        },
        {
         "customdata": [
          [
           0,
           -0.5,
           -0.5
          ],
          [
           1,
           0,
           -0.5
          ],
          [
           2,
           0.5,
           -0.5
          ],
          [
           3,
           -0.5,
           0
          ],
          [
           4,
           0,
           0
          ],
          [
           5,
           0.5,
           0
          ],
          [
           6,
           -0.5,
           0.5
          ],
          [
           7,
           0,
           0.5
          ],
          [
           8,
           0.5,
           0.5
          ],
          [
           0,
           -0.5,
           -0.5
          ],
          [
           1,
           0,
           -0.5
          ],
          [
           2,
           -0.5,
           0
          ],
          [
           3,
           0,
           0
          ],
          [
           4,
           0.5,
           0
          ],
          [
           5,
           -0.5,
           0.5
          ],
          [
           6,
           0,
           0.5
          ],
          [
           7,
           0.5,
           0.5
          ],
          [
           0,
           -0.5,
           -0.5
          ],
          [
           1,
           0,
           -0.5
          ],
          [
           2,
           -0.5,
           0
          ],
          [
           3,
           0,
           0
          ],
          [
           4,
           0.5,
           0
          ],
          [
           5,
           -0.5,
           0.5
          ],
          [
           6,
           0,
           0.5
          ],
          [
           7,
           0.5,
           0.5
          ],
          [
           0,
           -0.5,
           -0.5
          ],
          [
           1,
           0,
           -0.5
          ],
          [
           2,
           0.5,
           -0.5
          ],
          [
           3,
           -0.5,
           0
          ],
          [
           4,
           0,
           0
          ],
          [
           5,
           0.5,
           0
          ],
          [
           6,
           -0.5,
           0.5
          ],
          [
           7,
           0,
           0.5
          ],
          [
           8,
           0.5,
           0.5
          ],
          [
           0,
           -0.5,
           -0.5
          ],
          [
           1,
           0,
           -0.5
          ],
          [
           2,
           0.5,
           -0.5
          ],
          [
           3,
           -0.5,
           0
          ],
          [
           4,
           0,
           0
          ],
          [
           5,
           0.5,
           0
          ],
          [
           6,
           -0.5,
           0.5
          ],
          [
           7,
           0,
           0.5
          ],
          [
           8,
           0.5,
           0.5
          ],
          [
           0,
           -0.5,
           -0.5
          ],
          [
           1,
           0,
           -0.5
          ],
          [
           2,
           0.5,
           -0.5
          ],
          [
           3,
           0,
           0
          ],
          [
           4,
           0.5,
           0
          ],
          [
           5,
           -0.5,
           0.5
          ],
          [
           6,
           0,
           0.5
          ],
          [
           7,
           0.5,
           0.5
          ],
          [
           0,
           -0.5,
           -0.5
          ],
          [
           1,
           0,
           -0.5
          ],
          [
           2,
           0.5,
           -0.5
          ],
          [
           3,
           -0.5,
           0
          ],
          [
           4,
           0,
           0
          ],
          [
           5,
           0.5,
           0
          ],
          [
           6,
           -0.5,
           0.5
          ],
          [
           7,
           0,
           0.5
          ],
          [
           8,
           0.5,
           0.5
          ],
          [
           0,
           -0.5,
           -0.5
          ],
          [
           1,
           0,
           -0.5
          ],
          [
           2,
           0.5,
           -0.5
          ],
          [
           3,
           -0.5,
           0
          ],
          [
           4,
           0,
           0
          ],
          [
           5,
           0.5,
           0
          ],
          [
           6,
           -0.5,
           0.5
          ],
          [
           7,
           0,
           0.5
          ],
          [
           8,
           0.5,
           0.5
          ],
          [
           0,
           -0.5,
           -0.5
          ],
          [
           1,
           0,
           -0.5
          ],
          [
           2,
           0.5,
           -0.5
          ],
          [
           3,
           -0.5,
           0
          ],
          [
           4,
           0,
           0
          ],
          [
           5,
           0.5,
           0
          ],
          [
           6,
           -0.5,
           0.5
          ],
          [
           7,
           0,
           0.5
          ],
          [
           8,
           0.5,
           0.5
          ],
          [
           0,
           -0.5,
           -0.5
          ],
          [
           1,
           0,
           -0.5
          ],
          [
           2,
           0.5,
           -0.5
          ],
          [
           3,
           -0.5,
           0
          ],
          [
           4,
           0,
           0
          ],
          [
           5,
           0.5,
           0
          ],
          [
           6,
           -0.5,
           0.5
          ],
          [
           7,
           0,
           0.5
          ],
          [
           8,
           0.5,
           0.5
          ],
          [
           0,
           -0.5,
           -0.5
          ],
          [
           1,
           0,
           -0.5
          ],
          [
           2,
           0.5,
           -0.5
          ],
          [
           3,
           -0.5,
           0
          ],
          [
           4,
           0,
           0
          ],
          [
           5,
           0.5,
           0
          ],
          [
           6,
           -0.5,
           0.5
          ],
          [
           7,
           0,
           0.5
          ],
          [
           8,
           0.5,
           0.5
          ],
          [
           0,
           -0.5,
           -0.5
          ],
          [
           1,
           0,
           -0.5
          ],
          [
           2,
           0.5,
           -0.5
          ],
          [
           3,
           -0.5,
           0
          ],
          [
           4,
           0,
           0
          ],
          [
           5,
           0.5,
           0
          ],
          [
           6,
           -0.5,
           0.5
          ],
          [
           7,
           0,
           0.5
          ],
          [
           8,
           0.5,
           0.5
          ],
          [
           0,
           -0.5,
           -0.5
          ],
          [
           1,
           0.5,
           -0.5
          ],
          [
           2,
           -0.5,
           0
          ],
          [
           3,
           0,
           0
          ],
          [
           4,
           0.5,
           0
          ],
          [
           5,
           0,
           0.5
          ],
          [
           6,
           0.5,
           0.5
          ],
          [
           0,
           -0.5,
           -0.5
          ],
          [
           1,
           0,
           -0.5
          ],
          [
           2,
           0.5,
           -0.5
          ],
          [
           3,
           -0.5,
           0
          ],
          [
           4,
           0,
           0
          ],
          [
           5,
           0.5,
           0
          ],
          [
           6,
           -0.5,
           0.5
          ],
          [
           7,
           0,
           0.5
          ],
          [
           8,
           0.5,
           0.5
          ],
          [
           0,
           0,
           -0.5
          ],
          [
           1,
           0.5,
           -0.5
          ],
          [
           2,
           -0.5,
           0
          ],
          [
           3,
           0,
           0
          ],
          [
           4,
           0.5,
           0
          ],
          [
           5,
           -0.5,
           0.5
          ],
          [
           6,
           0,
           0.5
          ],
          [
           7,
           0.5,
           0.5
          ],
          [
           0,
           -0.5,
           -0.5
          ],
          [
           1,
           0,
           -0.5
          ],
          [
           2,
           0.5,
           -0.5
          ],
          [
           3,
           -0.5,
           0
          ],
          [
           4,
           0,
           0
          ],
          [
           5,
           0.5,
           0
          ],
          [
           6,
           -0.5,
           0.5
          ],
          [
           7,
           0,
           0.5
          ],
          [
           8,
           0.5,
           0.5
          ],
          [
           0,
           -0.5,
           -0.5
          ],
          [
           1,
           0,
           -0.5
          ],
          [
           2,
           0.5,
           -0.5
          ],
          [
           3,
           0,
           0
          ],
          [
           4,
           0.5,
           0
          ],
          [
           5,
           -0.5,
           0.5
          ],
          [
           6,
           0,
           0.5
          ],
          [
           0,
           -0.5,
           -0.5
          ],
          [
           1,
           0,
           -0.5
          ],
          [
           2,
           0.5,
           -0.5
          ],
          [
           3,
           -0.5,
           0
          ],
          [
           4,
           0,
           0
          ],
          [
           5,
           0.5,
           0
          ],
          [
           6,
           -0.5,
           0.5
          ],
          [
           7,
           0,
           0.5
          ],
          [
           8,
           0.5,
           0.5
          ],
          [
           0,
           0,
           -0.5
          ],
          [
           1,
           0,
           0
          ],
          [
           2,
           0.5,
           0
          ],
          [
           3,
           0,
           0.5
          ],
          [
           4,
           0.5,
           0.5
          ],
          [
           0,
           -0.5,
           -0.5
          ],
          [
           1,
           0,
           -0.5
          ],
          [
           2,
           0.5,
           -0.5
          ],
          [
           3,
           -0.5,
           0
          ],
          [
           4,
           0,
           0
          ],
          [
           5,
           0.5,
           0
          ],
          [
           6,
           -0.5,
           0.5
          ],
          [
           7,
           0,
           0.5
          ],
          [
           8,
           0.5,
           0.5
          ],
          [
           0,
           -0.5,
           -0.5
          ],
          [
           1,
           0,
           -0.5
          ],
          [
           2,
           0.5,
           -0.5
          ],
          [
           3,
           -0.5,
           0
          ],
          [
           4,
           0,
           0
          ],
          [
           5,
           0.5,
           0
          ],
          [
           0,
           0.5,
           -0.5
          ],
          [
           1,
           -0.5,
           0
          ],
          [
           2,
           0,
           0
          ],
          [
           3,
           0.5,
           0
          ],
          [
           4,
           -0.5,
           0.5
          ],
          [
           5,
           0,
           0.5
          ],
          [
           6,
           0.5,
           0.5
          ],
          [
           0,
           -0.5,
           -0.5
          ],
          [
           1,
           0.5,
           -0.5
          ],
          [
           2,
           -0.5,
           0
          ],
          [
           3,
           0,
           0
          ],
          [
           4,
           0.5,
           0
          ],
          [
           5,
           -0.5,
           0.5
          ],
          [
           6,
           0.5,
           0.5
          ],
          [
           0,
           -0.5,
           -0.5
          ],
          [
           1,
           0,
           -0.5
          ],
          [
           2,
           0.5,
           -0.5
          ],
          [
           3,
           -0.5,
           0
          ],
          [
           4,
           0,
           0
          ],
          [
           5,
           0.5,
           0
          ],
          [
           6,
           -0.5,
           0.5
          ],
          [
           7,
           0,
           0.5
          ],
          [
           8,
           0.5,
           0.5
          ],
          [
           0,
           -0.5,
           -0.5
          ],
          [
           1,
           0,
           -0.5
          ],
          [
           2,
           0.5,
           -0.5
          ],
          [
           3,
           -0.5,
           0
          ],
          [
           4,
           0,
           0
          ],
          [
           5,
           0.5,
           0
          ],
          [
           6,
           -0.5,
           0.5
          ],
          [
           7,
           0,
           0.5
          ],
          [
           8,
           0.5,
           0.5
          ],
          [
           0,
           -0.5,
           -0.5
          ],
          [
           1,
           0,
           -0.5
          ],
          [
           2,
           0.5,
           -0.5
          ],
          [
           3,
           -0.5,
           0
          ],
          [
           4,
           0,
           0
          ],
          [
           5,
           0.5,
           0
          ],
          [
           6,
           -0.5,
           0.5
          ],
          [
           7,
           0,
           0.5
          ],
          [
           8,
           0.5,
           0.5
          ],
          [
           0,
           -0.5,
           -0.5
          ],
          [
           1,
           0,
           -0.5
          ],
          [
           2,
           0.5,
           -0.5
          ],
          [
           3,
           0,
           0
          ],
          [
           4,
           0.5,
           0
          ],
          [
           5,
           -0.5,
           0.5
          ],
          [
           6,
           0,
           0.5
          ],
          [
           7,
           0.5,
           0.5
          ],
          [
           0,
           -0.5,
           -0.5
          ],
          [
           1,
           0,
           -0.5
          ],
          [
           2,
           0.5,
           -0.5
          ],
          [
           3,
           -0.5,
           0
          ],
          [
           4,
           0.5,
           0
          ],
          [
           5,
           -0.5,
           0.5
          ],
          [
           6,
           0,
           0.5
          ]
         ],
         "hovertemplate": "<b>%{hovertext}</b><br><br>Camera=Sat 2022.05.21 02:01<br>residual=%{x}<br>Laser=%{y}<br>beam_capture_index=%{customdata[0]}<br>projectionPoint_x=%{customdata[1]}<br>projectionPoint_y=%{customdata[2]}<extra></extra>",
         "hovertext": [
          1,
          1,
          1,
          1,
          1,
          1,
          1,
          1,
          1,
          2,
          2,
          2,
          2,
          2,
          2,
          2,
          2,
          4,
          4,
          4,
          4,
          4,
          4,
          4,
          4,
          5,
          5,
          5,
          5,
          5,
          5,
          5,
          5,
          5,
          12,
          12,
          12,
          12,
          12,
          12,
          12,
          12,
          12,
          7,
          7,
          7,
          7,
          7,
          7,
          7,
          7,
          8,
          8,
          8,
          8,
          8,
          8,
          8,
          8,
          8,
          9,
          9,
          9,
          9,
          9,
          9,
          9,
          9,
          9,
          10,
          10,
          10,
          10,
          10,
          10,
          10,
          10,
          10,
          11,
          11,
          11,
          11,
          11,
          11,
          11,
          11,
          11,
          13,
          13,
          13,
          13,
          13,
          13,
          13,
          13,
          13,
          15,
          15,
          15,
          15,
          15,
          15,
          15,
          15,
          15,
          17,
          17,
          17,
          17,
          17,
          17,
          17,
          18,
          18,
          18,
          18,
          18,
          18,
          18,
          18,
          18,
          19,
          19,
          19,
          19,
          19,
          19,
          19,
          19,
          22,
          22,
          22,
          22,
          22,
          22,
          22,
          22,
          22,
          23,
          23,
          23,
          23,
          23,
          23,
          23,
          24,
          24,
          24,
          24,
          24,
          24,
          24,
          24,
          24,
          25,
          25,
          25,
          25,
          25,
          28,
          28,
          28,
          28,
          28,
          28,
          28,
          28,
          28,
          30,
          30,
          30,
          30,
          30,
          30,
          31,
          31,
          31,
          31,
          31,
          31,
          31,
          32,
          32,
          32,
          32,
          32,
          32,
          32,
          36,
          36,
          36,
          36,
          36,
          36,
          36,
          36,
          36,
          37,
          37,
          37,
          37,
          37,
          37,
          37,
          37,
          37,
          38,
          38,
          38,
          38,
          38,
          38,
          38,
          38,
          38,
          33,
          33,
          33,
          33,
          33,
          33,
          33,
          33,
          40,
          40,
          40,
          40,
          40,
          40,
          40
         ],
         "legendgroup": "Sat 2022.05.21 02:01",
         "marker": {
          "color": "#FF97FF",
          "symbol": "circle"
         },
         "mode": "markers",
         "name": "Sat 2022.05.21 02:01",
         "showlegend": true,
         "type": "scattergl",
         "x": [
          23.205753326416016,
          28.073915481567383,
          41.277671813964844,
          18.978504180908203,
          21.63508415222168,
          28.86139488220215,
          22.679826736450195,
          22.965709686279297,
          21.88156509399414,
          16.787660598754883,
          26.408910751342773,
          7.948765754699707,
          15.43599796295166,
          28.582983016967773,
          6.177145004272461,
          5.701266288757324,
          12.087006568908691,
          30.707746505737305,
          36.10104751586914,
          16.224578857421875,
          17.490293502807617,
          26.1119327545166,
          13.042617797851562,
          10.075313568115234,
          3.501174211502075,
          29.01694107055664,
          19.72672462463379,
          24.08759307861328,
          4.5134406089782715,
          3.9063026905059814,
          16.626468658447266,
          49.16736602783203,
          33.136802673339844,
          19.383325576782227,
          36.09954071044922,
          34.0782470703125,
          39.283973693847656,
          18.75847816467285,
          15.878520965576172,
          17.28879737854004,
          14.11927318572998,
          13.155608177185059,
          7.718424320220947,
          41.44576644897461,
          34.59150695800781,
          37.70436096191406,
          14.542159080505371,
          15.721395492553711,
          12.132548332214355,
          9.512475967407227,
          3.4943013191223145,
          43.959678649902344,
          36.01606369018555,
          37.499305725097656,
          28.605072021484375,
          21.352888107299805,
          19.984533309936523,
          21.319263458251953,
          15.303895950317383,
          8.184232711791992,
          8.705236434936523,
          10.778362274169922,
          22.31020164489746,
          11.020944595336914,
          16.393798828125,
          23.288551330566406,
          29.91175079345703,
          35.60543441772461,
          37.90766906738281,
          65.84664154052734,
          51.16506576538086,
          43.727317810058594,
          45.94027328491211,
          34.648338317871094,
          25.159637451171875,
          37.85061264038086,
          26.205236434936523,
          14.321564674377441,
          56.6600341796875,
          44.43671798706055,
          38.6953125,
          40.72218322753906,
          30.84153938293457,
          23.9890193939209,
          34.714107513427734,
          24.911977767944336,
          15.769859313964844,
          54.192630767822266,
          37.11082077026367,
          31.21135711669922,
          36.82733154296875,
          26.066665649414062,
          20.655189514160156,
          25.445520401000977,
          15.104388236999512,
          9.372318267822266,
          60.49909591674805,
          43.73161697387695,
          45.181304931640625,
          45.928470611572266,
          32.65449142456055,
          32.2909049987793,
          35.302005767822266,
          19.82035255432129,
          18.308610916137695,
          58.15964126586914,
          39.859405517578125,
          49.25203323364258,
          31.572542190551758,
          28.87954330444336,
          22.757261276245117,
          17.940753936767578,
          44.88358688354492,
          38.837215423583984,
          44.590614318847656,
          38.96450424194336,
          28.58924102783203,
          31.089269638061523,
          32.773223876953125,
          17.09193992614746,
          17.09079360961914,
          33.19801330566406,
          36.34423065185547,
          41.34765625,
          25.409578323364258,
          25.0468807220459,
          35.509639739990234,
          14.192211151123047,
          13.287857055664062,
          24.874568939208984,
          24.236087799072266,
          28.830310821533203,
          21.247499465942383,
          14.9631929397583,
          18.050668716430664,
          19.237146377563477,
          2.4864683151245117,
          10.422261238098145,
          18.75257682800293,
          22.863056182861328,
          37.393062591552734,
          7.375338077545166,
          27.68059539794922,
          38.86720657348633,
          26.958797454833984,
          16.505460739135742,
          28.426761627197266,
          42.03706741333008,
          19.28407859802246,
          9.230106353759766,
          27.52465057373047,
          40.95457458496094,
          25.25215721130371,
          32.82429504394531,
          51.82450866699219,
          43.80202865600586,
          45.861995697021484,
          34.91667938232422,
          36.273826599121094,
          35.0489501953125,
          41.04400634765625,
          50.304439544677734,
          11.217082977294922,
          11.630020141601562,
          10.857232093811035,
          38.919681549072266,
          35.28057861328125,
          33.91152572631836,
          99.61121368408203,
          63.08316421508789,
          34.529815673828125,
          37.30644607543945,
          51.48116683959961,
          66.49449920654297,
          60.576236724853516,
          38.39738845825195,
          19.05332374572754,
          6.1781511306762695,
          38.000152587890625,
          45.51609802246094,
          63.312843322753906,
          41.68539810180664,
          25.05722427368164,
          27.692020416259766,
          17.721162796020508,
          2.339846611022949,
          32.760955810546875,
          19.21938133239746,
          51.176761627197266,
          53.08056640625,
          56.936920166015625,
          56.50730895996094,
          58.06658935546875,
          63.07497024536133,
          62.96074295043945,
          62.83251953125,
          66.68109893798828,
          55.77956771850586,
          57.77667236328125,
          62.07830047607422,
          62.14271545410156,
          63.735721588134766,
          68.85726165771484,
          69.3759765625,
          69.2451171875,
          73.2424087524414,
          57.777305603027344,
          59.443626403808594,
          63.91032791137695,
          63.87541961669922,
          66.14163208007812,
          73.17445373535156,
          70.53520965576172,
          72.1055679321289,
          79.77674102783203,
          53.07179641723633,
          54.36319351196289,
          58.42510986328125,
          55.11752700805664,
          59.53508758544922,
          56.6820068359375,
          55.21110153198242,
          57.47665786743164,
          31.78739356994629,
          30.35385513305664,
          32.68372344970703,
          29.89358901977539,
          30.65848731994629,
          29.6672306060791,
          26.22686004638672
         ],
         "xaxis": "x",
         "y": [
          1,
          1,
          1,
          1,
          1,
          1,
          1,
          1,
          1,
          2,
          2,
          2,
          2,
          2,
          2,
          2,
          2,
          4,
          4,
          4,
          4,
          4,
          4,
          4,
          4,
          5,
          5,
          5,
          5,
          5,
          5,
          5,
          5,
          5,
          12,
          12,
          12,
          12,
          12,
          12,
          12,
          12,
          12,
          7,
          7,
          7,
          7,
          7,
          7,
          7,
          7,
          8,
          8,
          8,
          8,
          8,
          8,
          8,
          8,
          8,
          9,
          9,
          9,
          9,
          9,
          9,
          9,
          9,
          9,
          10,
          10,
          10,
          10,
          10,
          10,
          10,
          10,
          10,
          11,
          11,
          11,
          11,
          11,
          11,
          11,
          11,
          11,
          13,
          13,
          13,
          13,
          13,
          13,
          13,
          13,
          13,
          15,
          15,
          15,
          15,
          15,
          15,
          15,
          15,
          15,
          17,
          17,
          17,
          17,
          17,
          17,
          17,
          18,
          18,
          18,
          18,
          18,
          18,
          18,
          18,
          18,
          19,
          19,
          19,
          19,
          19,
          19,
          19,
          19,
          22,
          22,
          22,
          22,
          22,
          22,
          22,
          22,
          22,
          23,
          23,
          23,
          23,
          23,
          23,
          23,
          24,
          24,
          24,
          24,
          24,
          24,
          24,
          24,
          24,
          25,
          25,
          25,
          25,
          25,
          28,
          28,
          28,
          28,
          28,
          28,
          28,
          28,
          28,
          30,
          30,
          30,
          30,
          30,
          30,
          31,
          31,
          31,
          31,
          31,
          31,
          31,
          32,
          32,
          32,
          32,
          32,
          32,
          32,
          36,
          36,
          36,
          36,
          36,
          36,
          36,
          36,
          36,
          37,
          37,
          37,
          37,
          37,
          37,
          37,
          37,
          37,
          38,
          38,
          38,
          38,
          38,
          38,
          38,
          38,
          38,
          33,
          33,
          33,
          33,
          33,
          33,
          33,
          33,
          40,
          40,
          40,
          40,
          40,
          40,
          40
         ],
         "yaxis": "y"
        },
        {
         "customdata": [
          [
           0,
           -0.5,
           -0.5
          ],
          [
           1,
           0,
           -0.5
          ],
          [
           2,
           0.5,
           -0.5
          ],
          [
           0,
           0,
           0
          ],
          [
           1,
           0.5,
           0
          ],
          [
           2,
           0,
           0.5
          ],
          [
           3,
           0.5,
           0.5
          ],
          [
           0,
           -0.5,
           -0.5
          ],
          [
           1,
           0,
           -0.5
          ],
          [
           2,
           0.5,
           -0.5
          ],
          [
           3,
           -0.5,
           0
          ],
          [
           4,
           0,
           0
          ],
          [
           5,
           0.5,
           0
          ],
          [
           6,
           -0.5,
           0.5
          ],
          [
           7,
           0,
           0.5
          ],
          [
           8,
           0.5,
           0.5
          ],
          [
           0,
           -0.5,
           -0.5
          ],
          [
           1,
           0,
           -0.5
          ],
          [
           2,
           0.5,
           -0.5
          ],
          [
           3,
           -0.5,
           0
          ],
          [
           0,
           0,
           -0.5
          ],
          [
           1,
           0.5,
           -0.5
          ],
          [
           2,
           -0.5,
           0
          ],
          [
           3,
           0,
           0
          ],
          [
           4,
           0.5,
           0
          ],
          [
           5,
           -0.5,
           0.5
          ],
          [
           6,
           0,
           0.5
          ],
          [
           7,
           0.5,
           0.5
          ]
         ],
         "hovertemplate": "<b>%{hovertext}</b><br><br>Camera=Mon 2022.05.23 00:11<br>residual=%{x}<br>Laser=%{y}<br>beam_capture_index=%{customdata[0]}<br>projectionPoint_x=%{customdata[1]}<br>projectionPoint_y=%{customdata[2]}<extra></extra>",
         "hovertext": [
          9,
          9,
          9,
          20,
          20,
          20,
          20,
          21,
          21,
          21,
          21,
          21,
          21,
          21,
          21,
          21,
          22,
          22,
          22,
          22,
          26,
          26,
          26,
          26,
          26,
          26,
          26,
          26
         ],
         "legendgroup": "Mon 2022.05.23 00:11",
         "marker": {
          "color": "#FECB52",
          "symbol": "circle"
         },
         "mode": "markers",
         "name": "Mon 2022.05.23 00:11",
         "showlegend": true,
         "type": "scattergl",
         "x": [
          3.713317394256592,
          8.597070693969727,
          5.546273231506348,
          19.385480880737305,
          22.6893367767334,
          22.066009521484375,
          26.146587371826172,
          8.593916893005371,
          0.7797863483428955,
          6.183187961578369,
          9.435528755187988,
          6.976410388946533,
          11.872267723083496,
          6.4062066078186035,
          10.296028137207031,
          15.580392837524414,
          14.586947441101074,
          4.456537246704102,
          11.233595848083496,
          4.18661642074585,
          9.671585083007812,
          6.970169544219971,
          9.254873275756836,
          5.671136856079102,
          10.696182250976562,
          6.871612548828125,
          14.838788986206055,
          18.80440902709961
         ],
         "xaxis": "x",
         "y": [
          9,
          9,
          9,
          20,
          20,
          20,
          20,
          21,
          21,
          21,
          21,
          21,
          21,
          21,
          21,
          21,
          22,
          22,
          22,
          22,
          26,
          26,
          26,
          26,
          26,
          26,
          26,
          26
         ],
         "yaxis": "y"
        },
        {
         "customdata": [
          [
           0,
           -0.5,
           -0.5
          ],
          [
           1,
           0,
           -0.5
          ],
          [
           2,
           0.5,
           -0.5
          ],
          [
           3,
           -0.5,
           0
          ],
          [
           4,
           0,
           0
          ],
          [
           5,
           0.5,
           0
          ],
          [
           6,
           -0.5,
           0.5
          ],
          [
           7,
           0,
           0.5
          ],
          [
           8,
           0.5,
           0.5
          ],
          [
           0,
           -0.5,
           -0.5
          ],
          [
           1,
           0,
           -0.5
          ],
          [
           2,
           0.5,
           -0.5
          ],
          [
           3,
           -0.5,
           0
          ],
          [
           4,
           0,
           0
          ],
          [
           5,
           0.5,
           0
          ],
          [
           6,
           -0.5,
           0.5
          ],
          [
           7,
           0,
           0.5
          ],
          [
           8,
           0.5,
           0.5
          ],
          [
           0,
           -0.5,
           -0.5
          ],
          [
           1,
           0,
           -0.5
          ],
          [
           2,
           0.5,
           -0.5
          ],
          [
           3,
           -0.5,
           0
          ],
          [
           4,
           -0.5,
           0.5
          ],
          [
           5,
           0,
           0.5
          ],
          [
           6,
           0.5,
           0.5
          ],
          [
           0,
           0,
           -0.5
          ],
          [
           1,
           0.5,
           -0.5
          ],
          [
           2,
           0,
           0
          ],
          [
           3,
           0.5,
           0
          ],
          [
           4,
           0,
           0.5
          ],
          [
           5,
           0.5,
           0.5
          ],
          [
           0,
           -0.5,
           -0.5
          ],
          [
           1,
           0,
           -0.5
          ],
          [
           2,
           0.5,
           -0.5
          ],
          [
           3,
           -0.5,
           0
          ],
          [
           4,
           0,
           0
          ],
          [
           5,
           0.5,
           0
          ],
          [
           6,
           -0.5,
           0.5
          ],
          [
           7,
           0,
           0.5
          ],
          [
           8,
           0.5,
           0.5
          ],
          [
           0,
           -0.5,
           -0.5
          ],
          [
           1,
           0,
           -0.5
          ],
          [
           2,
           0.5,
           -0.5
          ],
          [
           3,
           -0.5,
           0
          ],
          [
           4,
           0,
           0
          ],
          [
           5,
           0.5,
           0
          ],
          [
           6,
           -0.5,
           0.5
          ],
          [
           0,
           0,
           -0.5
          ],
          [
           1,
           -0.5,
           0
          ],
          [
           2,
           0,
           0
          ],
          [
           3,
           0.5,
           0
          ],
          [
           4,
           -0.5,
           0.5
          ],
          [
           5,
           0,
           0.5
          ],
          [
           6,
           0.5,
           0.5
          ]
         ],
         "hovertemplate": "<b>%{hovertext}</b><br><br>Camera=Mon 2022.05.23 00:21<br>residual=%{x}<br>Laser=%{y}<br>beam_capture_index=%{customdata[0]}<br>projectionPoint_x=%{customdata[1]}<br>projectionPoint_y=%{customdata[2]}<extra></extra>",
         "hovertext": [
          9,
          9,
          9,
          9,
          9,
          9,
          9,
          9,
          9,
          15,
          15,
          15,
          15,
          15,
          15,
          15,
          15,
          15,
          19,
          19,
          19,
          19,
          19,
          19,
          19,
          20,
          20,
          20,
          20,
          20,
          20,
          21,
          21,
          21,
          21,
          21,
          21,
          21,
          21,
          21,
          22,
          22,
          22,
          22,
          22,
          22,
          22,
          26,
          26,
          26,
          26,
          26,
          26,
          26
         ],
         "legendgroup": "Mon 2022.05.23 00:21",
         "marker": {
          "color": "#636efa",
          "symbol": "circle"
         },
         "mode": "markers",
         "name": "Mon 2022.05.23 00:21",
         "showlegend": true,
         "type": "scattergl",
         "x": [
          1.5277225971221924,
          4.3826069831848145,
          4.9728264808654785,
          6.106743812561035,
          0.8870278000831604,
          1.4579225778579712,
          9.262404441833496,
          2.8095102310180664,
          5.810210227966309,
          15.447222709655762,
          3.610483169555664,
          10.433778762817383,
          11.443922996520996,
          5.011214256286621,
          10.309432029724121,
          5.315857410430908,
          7.834543228149414,
          16.406841278076172,
          34.14116287231445,
          28.441438674926758,
          22.384897232055664,
          27.973249435424805,
          22.834569931030273,
          16.54744529724121,
          12.629435539245605,
          5.663336277008057,
          11.795124053955078,
          10.990303039550781,
          18.783918380737305,
          17.793527603149414,
          25.096010208129883,
          7.35221529006958,
          7.01450252532959,
          6.221982002258301,
          1.9546442031860352,
          5.927068710327148,
          11.330053329467773,
          8.368568420410156,
          11.755670547485352,
          14.93562126159668,
          6.325045585632324,
          10.105579376220703,
          3.933568000793457,
          8.857598304748535,
          11.222137451171875,
          5.387964248657227,
          14.191492080688477,
          25.087995529174805,
          22.951662063598633,
          25.29291343688965,
          24.188480377197266,
          25.9258975982666,
          27.68909454345703,
          24.470684051513672
         ],
         "xaxis": "x",
         "y": [
          9,
          9,
          9,
          9,
          9,
          9,
          9,
          9,
          9,
          15,
          15,
          15,
          15,
          15,
          15,
          15,
          15,
          15,
          19,
          19,
          19,
          19,
          19,
          19,
          19,
          20,
          20,
          20,
          20,
          20,
          20,
          21,
          21,
          21,
          21,
          21,
          21,
          21,
          21,
          21,
          22,
          22,
          22,
          22,
          22,
          22,
          22,
          26,
          26,
          26,
          26,
          26,
          26,
          26
         ],
         "yaxis": "y"
        },
        {
         "customdata": [
          [
           0,
           -0.5,
           -0.5
          ],
          [
           1,
           0,
           -0.5
          ],
          [
           2,
           0.5,
           -0.5
          ],
          [
           3,
           0,
           0
          ],
          [
           4,
           0.5,
           0
          ],
          [
           5,
           -0.5,
           0.5
          ],
          [
           6,
           0,
           0.5
          ],
          [
           7,
           0.5,
           0.5
          ],
          [
           0,
           0,
           -0.5
          ],
          [
           0,
           0,
           -0.5
          ],
          [
           1,
           -0.5,
           0
          ],
          [
           0,
           0,
           -0.5
          ],
          [
           1,
           0.5,
           -0.5
          ],
          [
           0,
           0,
           0.5
          ],
          [
           0,
           -0.5,
           -0.5
          ],
          [
           1,
           0,
           -0.5
          ],
          [
           2,
           0.5,
           -0.5
          ],
          [
           3,
           -0.5,
           0
          ],
          [
           4,
           0,
           0
          ],
          [
           5,
           0.5,
           0
          ],
          [
           6,
           -0.5,
           0.5
          ],
          [
           7,
           0,
           0.5
          ],
          [
           8,
           0.5,
           0.5
          ]
         ],
         "hovertemplate": "<b>%{hovertext}</b><br><br>Camera=Mon 2022.05.23 00:35<br>residual=%{x}<br>Laser=%{y}<br>beam_capture_index=%{customdata[0]}<br>projectionPoint_x=%{customdata[1]}<br>projectionPoint_y=%{customdata[2]}<extra></extra>",
         "hovertext": [
          9,
          9,
          9,
          9,
          9,
          9,
          9,
          9,
          15,
          19,
          19,
          21,
          21,
          22,
          26,
          26,
          26,
          26,
          26,
          26,
          26,
          26,
          26
         ],
         "legendgroup": "Mon 2022.05.23 00:35",
         "marker": {
          "color": "#EF553B",
          "symbol": "circle"
         },
         "mode": "markers",
         "name": "Mon 2022.05.23 00:35",
         "showlegend": true,
         "type": "scattergl",
         "x": [
          1.931679368019104,
          6.621608734130859,
          14.394244194030762,
          0.25794029235839844,
          4.203121662139893,
          4.7668681144714355,
          6.203329563140869,
          5.607010841369629,
          60.01801300048828,
          38.17166519165039,
          42.37020492553711,
          0.5012782216072083,
          0.7959203124046326,
          0,
          8.60640811920166,
          6.8144121170043945,
          5.029272556304932,
          4.4340081214904785,
          5.13934326171875,
          5.801786422729492,
          2.985034465789795,
          13.57825756072998,
          11.17435073852539
         ],
         "xaxis": "x",
         "y": [
          9,
          9,
          9,
          9,
          9,
          9,
          9,
          9,
          15,
          19,
          19,
          21,
          21,
          22,
          26,
          26,
          26,
          26,
          26,
          26,
          26,
          26,
          26
         ],
         "yaxis": "y"
        },
        {
         "customdata": [
          [
           0,
           -0.5,
           -0.5
          ],
          [
           1,
           0,
           -0.5
          ],
          [
           2,
           0.5,
           -0.5
          ],
          [
           3,
           -0.5,
           0
          ],
          [
           4,
           0,
           0
          ],
          [
           5,
           0.5,
           0
          ],
          [
           6,
           -0.5,
           0.5
          ],
          [
           0,
           0,
           -0.5
          ],
          [
           1,
           0.5,
           -0.5
          ],
          [
           2,
           0.5,
           0
          ],
          [
           0,
           -0.5,
           -0.5
          ],
          [
           1,
           0,
           -0.5
          ],
          [
           2,
           0.5,
           -0.5
          ],
          [
           0,
           -0.5,
           -0.5
          ],
          [
           1,
           0.5,
           0
          ],
          [
           2,
           0,
           0.5
          ],
          [
           3,
           0.5,
           0.5
          ],
          [
           0,
           -0.5,
           -0.5
          ],
          [
           1,
           0,
           0
          ],
          [
           2,
           -0.5,
           0.5
          ],
          [
           0,
           -0.5,
           -0.5
          ],
          [
           1,
           0,
           -0.5
          ],
          [
           2,
           0.5,
           -0.5
          ],
          [
           3,
           -0.5,
           0
          ],
          [
           4,
           0,
           0
          ],
          [
           5,
           0.5,
           0
          ],
          [
           6,
           -0.5,
           0.5
          ],
          [
           7,
           0,
           0.5
          ],
          [
           0,
           -0.5,
           -0.5
          ],
          [
           1,
           0,
           -0.5
          ],
          [
           2,
           0.5,
           -0.5
          ],
          [
           3,
           -0.5,
           0
          ],
          [
           4,
           0,
           0
          ],
          [
           5,
           0.5,
           0
          ],
          [
           6,
           0,
           0.5
          ],
          [
           7,
           0.5,
           0.5
          ],
          [
           0,
           0.5,
           -0.5
          ],
          [
           1,
           -0.5,
           0
          ],
          [
           2,
           0,
           0
          ],
          [
           3,
           0.5,
           0
          ],
          [
           4,
           -0.5,
           0.5
          ],
          [
           5,
           0,
           0.5
          ],
          [
           6,
           0.5,
           0.5
          ]
         ],
         "hovertemplate": "<b>%{hovertext}</b><br><br>Camera=Thu 2022.06.09 01:02<br>residual=%{x}<br>Laser=%{y}<br>beam_capture_index=%{customdata[0]}<br>projectionPoint_x=%{customdata[1]}<br>projectionPoint_y=%{customdata[2]}<extra></extra>",
         "hovertext": [
          1,
          1,
          1,
          1,
          1,
          1,
          1,
          5,
          5,
          5,
          12,
          12,
          12,
          9,
          9,
          9,
          9,
          10,
          10,
          10,
          16,
          16,
          16,
          16,
          16,
          16,
          16,
          16,
          26,
          26,
          26,
          26,
          26,
          26,
          26,
          26,
          28,
          28,
          28,
          28,
          28,
          28,
          28
         ],
         "legendgroup": "Thu 2022.06.09 01:02",
         "marker": {
          "color": "#00cc96",
          "symbol": "circle"
         },
         "mode": "markers",
         "name": "Thu 2022.06.09 01:02",
         "showlegend": true,
         "type": "scattergl",
         "x": [
          8.336565971374512,
          9.457324981689453,
          3.7873525619506836,
          1.5541986227035522,
          5.365695953369141,
          3.8455536365509033,
          6.782150745391846,
          50.26991653442383,
          52.080806732177734,
          27.560985565185547,
          12.237007141113281,
          5.9897871017456055,
          23.491086959838867,
          5.700906753540039,
          8.88665771484375,
          5.06244421005249,
          2.527547836303711,
          9.583651542663574,
          14.455425262451172,
          28.11771583557129,
          8.934297561645508,
          3.2063674926757812,
          6.763393878936768,
          9.143600463867188,
          2.348511219024658,
          5.03290319442749,
          7.2815728187561035,
          4.310363292694092,
          7.916308403015137,
          7.692008972167969,
          4.624281883239746,
          5.233067512512207,
          4.965851783752441,
          3.3754396438598633,
          8.43700885772705,
          7.347471714019775,
          16.027162551879883,
          1.347400188446045,
          10.789834976196289,
          17.255308151245117,
          4.283290863037109,
          14.339866638183594,
          19.61774444580078
         ],
         "xaxis": "x",
         "y": [
          1,
          1,
          1,
          1,
          1,
          1,
          1,
          5,
          5,
          5,
          12,
          12,
          12,
          9,
          9,
          9,
          9,
          10,
          10,
          10,
          16,
          16,
          16,
          16,
          16,
          16,
          16,
          16,
          26,
          26,
          26,
          26,
          26,
          26,
          26,
          26,
          28,
          28,
          28,
          28,
          28,
          28,
          28
         ],
         "yaxis": "y"
        },
        {
         "customdata": [
          [
           0,
           -0.5,
           -0.5
          ],
          [
           1,
           0,
           -0.5
          ],
          [
           2,
           0.5,
           -0.5
          ],
          [
           3,
           -0.5,
           0
          ],
          [
           4,
           0,
           0
          ],
          [
           5,
           0.5,
           0
          ],
          [
           6,
           -0.5,
           0.5
          ],
          [
           7,
           0,
           0.5
          ],
          [
           8,
           0.5,
           0.5
          ],
          [
           0,
           0,
           -0.5
          ],
          [
           1,
           0.5,
           -0.5
          ],
          [
           0,
           0.5,
           -0.5
          ],
          [
           1,
           -0.5,
           0
          ],
          [
           2,
           0,
           0
          ],
          [
           3,
           0.5,
           0
          ],
          [
           4,
           -0.5,
           0.5
          ],
          [
           5,
           0,
           0.5
          ],
          [
           6,
           0.5,
           0.5
          ],
          [
           0,
           -0.5,
           -0.5
          ],
          [
           1,
           0,
           -0.5
          ],
          [
           2,
           0.5,
           -0.5
          ],
          [
           3,
           -0.5,
           0
          ],
          [
           4,
           0,
           0
          ],
          [
           5,
           0.5,
           0
          ],
          [
           6,
           -0.5,
           0.5
          ],
          [
           7,
           0,
           0.5
          ],
          [
           8,
           0.5,
           0.5
          ],
          [
           0,
           -0.5,
           -0.5
          ],
          [
           1,
           -0.5,
           0
          ],
          [
           2,
           0,
           0
          ],
          [
           0,
           0,
           -0.5
          ],
          [
           1,
           0.5,
           -0.5
          ],
          [
           2,
           -0.5,
           0
          ],
          [
           3,
           0,
           0.5
          ],
          [
           4,
           0.5,
           0.5
          ],
          [
           0,
           -0.5,
           -0.5
          ],
          [
           1,
           0,
           -0.5
          ],
          [
           2,
           0.5,
           0
          ],
          [
           3,
           -0.5,
           0.5
          ],
          [
           4,
           0,
           0.5
          ],
          [
           5,
           0.5,
           0.5
          ]
         ],
         "hovertemplate": "<b>%{hovertext}</b><br><br>Camera=Thu 2022.06.09 01:14<br>residual=%{x}<br>Laser=%{y}<br>beam_capture_index=%{customdata[0]}<br>projectionPoint_x=%{customdata[1]}<br>projectionPoint_y=%{customdata[2]}<extra></extra>",
         "hovertext": [
          1,
          1,
          1,
          1,
          1,
          1,
          1,
          1,
          1,
          5,
          5,
          9,
          9,
          9,
          9,
          9,
          9,
          9,
          10,
          10,
          10,
          10,
          10,
          10,
          10,
          10,
          10,
          16,
          16,
          16,
          26,
          26,
          26,
          26,
          26,
          28,
          28,
          28,
          28,
          28,
          28
         ],
         "legendgroup": "Thu 2022.06.09 01:14",
         "marker": {
          "color": "#ab63fa",
          "symbol": "circle"
         },
         "mode": "markers",
         "name": "Thu 2022.06.09 01:14",
         "showlegend": true,
         "type": "scattergl",
         "x": [
          19.203676223754883,
          43.723777770996094,
          54.77400207519531,
          10.72225284576416,
          30.843732833862305,
          43.50004577636719,
          8.216414451599121,
          26.05175018310547,
          37.44068145751953,
          38.40715408325195,
          23.96025848388672,
          3.788233518600464,
          7.499664783477783,
          0.5492767691612244,
          2.734239339828491,
          3.686795949935913,
          8.261756896972656,
          5.1272382736206055,
          14.976954460144043,
          16.41836929321289,
          7.174681663513184,
          18.869220733642578,
          11.889107704162598,
          7.648775100708008,
          20.59897232055664,
          13.643671035766602,
          9.637924194335938,
          12.73221492767334,
          29.574790954589844,
          52.366580963134766,
          0.15468823909759521,
          0.7216470837593079,
          7.359781742095947,
          1.8052332401275635,
          3.1707003116607666,
          51.71320724487305,
          16.266338348388672,
          39.324180603027344,
          20.75430679321289,
          16.03716278076172,
          48.21784591674805
         ],
         "xaxis": "x",
         "y": [
          1,
          1,
          1,
          1,
          1,
          1,
          1,
          1,
          1,
          5,
          5,
          9,
          9,
          9,
          9,
          9,
          9,
          9,
          10,
          10,
          10,
          10,
          10,
          10,
          10,
          10,
          10,
          16,
          16,
          16,
          26,
          26,
          26,
          26,
          26,
          28,
          28,
          28,
          28,
          28,
          28
         ],
         "yaxis": "y"
        },
        {
         "customdata": [
          [
           0,
           -0.5,
           -0.5
          ],
          [
           1,
           0,
           -0.5
          ],
          [
           2,
           0.5,
           -0.5
          ],
          [
           3,
           0,
           0
          ],
          [
           4,
           0.5,
           0
          ],
          [
           5,
           -0.5,
           0.5
          ],
          [
           6,
           0,
           0.5
          ],
          [
           7,
           0.5,
           0.5
          ],
          [
           0,
           0.5,
           -0.5
          ],
          [
           1,
           0.5,
           0
          ],
          [
           2,
           0,
           0.5
          ],
          [
           3,
           0.5,
           0.5
          ],
          [
           0,
           0,
           -0.5
          ],
          [
           1,
           0.5,
           -0.5
          ],
          [
           2,
           0.5,
           0
          ],
          [
           3,
           -0.5,
           0.5
          ],
          [
           4,
           0,
           0.5
          ],
          [
           5,
           0.5,
           0.5
          ],
          [
           0,
           0,
           -0.5
          ],
          [
           1,
           0.5,
           -0.5
          ],
          [
           2,
           0,
           0
          ],
          [
           3,
           0.5,
           0
          ],
          [
           4,
           0,
           0.5
          ],
          [
           5,
           0.5,
           0.5
          ],
          [
           0,
           -0.5,
           -0.5
          ],
          [
           1,
           0,
           -0.5
          ],
          [
           2,
           0.5,
           -0.5
          ],
          [
           3,
           -0.5,
           0
          ],
          [
           4,
           0.5,
           0
          ],
          [
           5,
           0,
           0.5
          ],
          [
           6,
           0.5,
           0.5
          ],
          [
           0,
           -0.5,
           -0.5
          ],
          [
           1,
           0,
           -0.5
          ],
          [
           2,
           -0.5,
           0
          ],
          [
           3,
           0,
           0
          ],
          [
           4,
           0.5,
           0
          ],
          [
           5,
           -0.5,
           0.5
          ],
          [
           6,
           0,
           0.5
          ],
          [
           0,
           -0.5,
           -0.5
          ],
          [
           1,
           0,
           -0.5
          ],
          [
           2,
           0.5,
           -0.5
          ],
          [
           3,
           -0.5,
           0
          ],
          [
           4,
           0.5,
           0.5
          ],
          [
           0,
           -0.5,
           -0.5
          ],
          [
           1,
           0,
           -0.5
          ],
          [
           2,
           0.5,
           -0.5
          ],
          [
           3,
           -0.5,
           0
          ]
         ],
         "hovertemplate": "<b>%{hovertext}</b><br><br>Camera=Thu 2022.06.09 01:24<br>residual=%{x}<br>Laser=%{y}<br>beam_capture_index=%{customdata[0]}<br>projectionPoint_x=%{customdata[1]}<br>projectionPoint_y=%{customdata[2]}<extra></extra>",
         "hovertext": [
          1,
          1,
          1,
          1,
          1,
          1,
          1,
          1,
          5,
          5,
          5,
          5,
          12,
          12,
          12,
          12,
          12,
          12,
          9,
          9,
          9,
          9,
          9,
          9,
          10,
          10,
          10,
          10,
          10,
          10,
          10,
          16,
          16,
          16,
          16,
          16,
          16,
          16,
          26,
          26,
          26,
          26,
          26,
          28,
          28,
          28,
          28
         ],
         "legendgroup": "Thu 2022.06.09 01:24",
         "marker": {
          "color": "#FFA15A",
          "symbol": "circle"
         },
         "mode": "markers",
         "name": "Thu 2022.06.09 01:24",
         "showlegend": true,
         "type": "scattergl",
         "x": [
          7.512146472930908,
          16.466156005859375,
          19.403831481933594,
          12.34947681427002,
          17.082609176635742,
          10.689266204833984,
          13.570460319519043,
          17.724300384521484,
          0.35515111684799194,
          1.8195799589157104,
          12.329392433166504,
          28.49317169189453,
          7.254642486572266,
          2.8175439834594727,
          2.0964841842651367,
          22.12510871887207,
          10.317008972167969,
          5.000635147094727,
          6.376150608062744,
          2.0401811599731445,
          7.563547134399414,
          4.5405097007751465,
          9.59216594696045,
          7.2388081550598145,
          4.974464416503906,
          5.875060558319092,
          1.7736611366271973,
          18.279489517211914,
          6.351067543029785,
          10.063011169433594,
          6.910325527191162,
          701.94384765625,
          845.95361328125,
          1547.238525390625,
          779.3818359375,
          1348.2410888671875,
          847.5459594726562,
          573.7213134765625,
          4.557106018066406,
          1.997613787651062,
          4.003142356872559,
          0.6534439921379089,
          4.307182788848877,
          23.930559158325195,
          1.7036323547363281,
          18.220272064208984,
          11.421856880187988
         ],
         "xaxis": "x",
         "y": [
          1,
          1,
          1,
          1,
          1,
          1,
          1,
          1,
          5,
          5,
          5,
          5,
          12,
          12,
          12,
          12,
          12,
          12,
          9,
          9,
          9,
          9,
          9,
          9,
          10,
          10,
          10,
          10,
          10,
          10,
          10,
          16,
          16,
          16,
          16,
          16,
          16,
          16,
          26,
          26,
          26,
          26,
          26,
          28,
          28,
          28,
          28
         ],
         "yaxis": "y"
        },
        {
         "customdata": [
          [
           0,
           0,
           -0.5
          ],
          [
           1,
           0.5,
           0
          ],
          [
           2,
           0,
           0.5
          ],
          [
           0,
           0,
           -0.5
          ],
          [
           1,
           -0.5,
           0
          ],
          [
           2,
           0,
           0
          ],
          [
           3,
           0.5,
           0
          ],
          [
           4,
           -0.5,
           0.5
          ],
          [
           5,
           0,
           0.5
          ],
          [
           6,
           0.5,
           0.5
          ],
          [
           0,
           0.5,
           -0.5
          ],
          [
           1,
           -0.5,
           0
          ],
          [
           2,
           0,
           0
          ],
          [
           3,
           0,
           0.5
          ],
          [
           4,
           0.5,
           0.5
          ],
          [
           0,
           -0.5,
           -0.5
          ],
          [
           1,
           0,
           -0.5
          ],
          [
           2,
           0.5,
           -0.5
          ],
          [
           3,
           -0.5,
           0
          ],
          [
           4,
           0,
           0
          ],
          [
           5,
           0.5,
           0
          ],
          [
           6,
           -0.5,
           0.5
          ],
          [
           7,
           0,
           0.5
          ],
          [
           0,
           -0.5,
           -0.5
          ],
          [
           1,
           0,
           -0.5
          ],
          [
           2,
           0.5,
           -0.5
          ],
          [
           3,
           -0.5,
           0
          ],
          [
           4,
           0,
           0
          ],
          [
           5,
           0.5,
           0
          ],
          [
           6,
           -0.5,
           0.5
          ],
          [
           7,
           0,
           0.5
          ],
          [
           8,
           0.5,
           0.5
          ],
          [
           0,
           -0.5,
           -0.5
          ],
          [
           1,
           0.5,
           -0.5
          ]
         ],
         "hovertemplate": "<b>%{hovertext}</b><br><br>Camera=Thu 2022.06.09 01:48<br>residual=%{x}<br>Laser=%{y}<br>beam_capture_index=%{customdata[0]}<br>projectionPoint_x=%{customdata[1]}<br>projectionPoint_y=%{customdata[2]}<extra></extra>",
         "hovertext": [
          1,
          1,
          1,
          5,
          5,
          5,
          5,
          5,
          5,
          5,
          12,
          12,
          12,
          12,
          12,
          9,
          9,
          9,
          9,
          9,
          9,
          9,
          9,
          10,
          10,
          10,
          10,
          10,
          10,
          10,
          10,
          10,
          28,
          28
         ],
         "legendgroup": "Thu 2022.06.09 01:48",
         "marker": {
          "color": "#19d3f3",
          "symbol": "circle"
         },
         "mode": "markers",
         "name": "Thu 2022.06.09 01:48",
         "showlegend": true,
         "type": "scattergl",
         "x": [
          315.63946533203125,
          310.8349304199219,
          142.500732421875,
          0,
          0,
          0,
          0,
          0,
          0,
          0,
          426.1214599609375,
          238.00437927246094,
          671.8385009765625,
          425.4091491699219,
          474.47015380859375,
          0,
          0,
          0,
          0,
          0,
          0,
          0,
          0,
          890.8397216796875,
          564.7349853515625,
          1970.206298828125,
          1492.784912109375,
          149.00604248046875,
          1165.079833984375,
          2044.340576171875,
          755.2467041015625,
          501.7815246582031,
          769.7587890625,
          468.2837829589844
         ],
         "xaxis": "x",
         "y": [
          1,
          1,
          1,
          5,
          5,
          5,
          5,
          5,
          5,
          5,
          12,
          12,
          12,
          12,
          12,
          9,
          9,
          9,
          9,
          9,
          9,
          9,
          9,
          10,
          10,
          10,
          10,
          10,
          10,
          10,
          10,
          10,
          28,
          28
         ],
         "yaxis": "y"
        }
       ],
       "layout": {
        "legend": {
         "title": {
          "text": "Camera"
         },
         "tracegroupgap": 0
        },
        "template": {
         "data": {
          "bar": [
           {
            "error_x": {
             "color": "#2a3f5f"
            },
            "error_y": {
             "color": "#2a3f5f"
            },
            "marker": {
             "line": {
              "color": "#E5ECF6",
              "width": 0.5
             },
             "pattern": {
              "fillmode": "overlay",
              "size": 10,
              "solidity": 0.2
             }
            },
            "type": "bar"
           }
          ],
          "barpolar": [
           {
            "marker": {
             "line": {
              "color": "#E5ECF6",
              "width": 0.5
             },
             "pattern": {
              "fillmode": "overlay",
              "size": 10,
              "solidity": 0.2
             }
            },
            "type": "barpolar"
           }
          ],
          "carpet": [
           {
            "aaxis": {
             "endlinecolor": "#2a3f5f",
             "gridcolor": "white",
             "linecolor": "white",
             "minorgridcolor": "white",
             "startlinecolor": "#2a3f5f"
            },
            "baxis": {
             "endlinecolor": "#2a3f5f",
             "gridcolor": "white",
             "linecolor": "white",
             "minorgridcolor": "white",
             "startlinecolor": "#2a3f5f"
            },
            "type": "carpet"
           }
          ],
          "choropleth": [
           {
            "colorbar": {
             "outlinewidth": 0,
             "ticks": ""
            },
            "type": "choropleth"
           }
          ],
          "contour": [
           {
            "colorbar": {
             "outlinewidth": 0,
             "ticks": ""
            },
            "colorscale": [
             [
              0,
              "#0d0887"
             ],
             [
              0.1111111111111111,
              "#46039f"
             ],
             [
              0.2222222222222222,
              "#7201a8"
             ],
             [
              0.3333333333333333,
              "#9c179e"
             ],
             [
              0.4444444444444444,
              "#bd3786"
             ],
             [
              0.5555555555555556,
              "#d8576b"
             ],
             [
              0.6666666666666666,
              "#ed7953"
             ],
             [
              0.7777777777777778,
              "#fb9f3a"
             ],
             [
              0.8888888888888888,
              "#fdca26"
             ],
             [
              1,
              "#f0f921"
             ]
            ],
            "type": "contour"
           }
          ],
          "contourcarpet": [
           {
            "colorbar": {
             "outlinewidth": 0,
             "ticks": ""
            },
            "type": "contourcarpet"
           }
          ],
          "heatmap": [
           {
            "colorbar": {
             "outlinewidth": 0,
             "ticks": ""
            },
            "colorscale": [
             [
              0,
              "#0d0887"
             ],
             [
              0.1111111111111111,
              "#46039f"
             ],
             [
              0.2222222222222222,
              "#7201a8"
             ],
             [
              0.3333333333333333,
              "#9c179e"
             ],
             [
              0.4444444444444444,
              "#bd3786"
             ],
             [
              0.5555555555555556,
              "#d8576b"
             ],
             [
              0.6666666666666666,
              "#ed7953"
             ],
             [
              0.7777777777777778,
              "#fb9f3a"
             ],
             [
              0.8888888888888888,
              "#fdca26"
             ],
             [
              1,
              "#f0f921"
             ]
            ],
            "type": "heatmap"
           }
          ],
          "heatmapgl": [
           {
            "colorbar": {
             "outlinewidth": 0,
             "ticks": ""
            },
            "colorscale": [
             [
              0,
              "#0d0887"
             ],
             [
              0.1111111111111111,
              "#46039f"
             ],
             [
              0.2222222222222222,
              "#7201a8"
             ],
             [
              0.3333333333333333,
              "#9c179e"
             ],
             [
              0.4444444444444444,
              "#bd3786"
             ],
             [
              0.5555555555555556,
              "#d8576b"
             ],
             [
              0.6666666666666666,
              "#ed7953"
             ],
             [
              0.7777777777777778,
              "#fb9f3a"
             ],
             [
              0.8888888888888888,
              "#fdca26"
             ],
             [
              1,
              "#f0f921"
             ]
            ],
            "type": "heatmapgl"
           }
          ],
          "histogram": [
           {
            "marker": {
             "pattern": {
              "fillmode": "overlay",
              "size": 10,
              "solidity": 0.2
             }
            },
            "type": "histogram"
           }
          ],
          "histogram2d": [
           {
            "colorbar": {
             "outlinewidth": 0,
             "ticks": ""
            },
            "colorscale": [
             [
              0,
              "#0d0887"
             ],
             [
              0.1111111111111111,
              "#46039f"
             ],
             [
              0.2222222222222222,
              "#7201a8"
             ],
             [
              0.3333333333333333,
              "#9c179e"
             ],
             [
              0.4444444444444444,
              "#bd3786"
             ],
             [
              0.5555555555555556,
              "#d8576b"
             ],
             [
              0.6666666666666666,
              "#ed7953"
             ],
             [
              0.7777777777777778,
              "#fb9f3a"
             ],
             [
              0.8888888888888888,
              "#fdca26"
             ],
             [
              1,
              "#f0f921"
             ]
            ],
            "type": "histogram2d"
           }
          ],
          "histogram2dcontour": [
           {
            "colorbar": {
             "outlinewidth": 0,
             "ticks": ""
            },
            "colorscale": [
             [
              0,
              "#0d0887"
             ],
             [
              0.1111111111111111,
              "#46039f"
             ],
             [
              0.2222222222222222,
              "#7201a8"
             ],
             [
              0.3333333333333333,
              "#9c179e"
             ],
             [
              0.4444444444444444,
              "#bd3786"
             ],
             [
              0.5555555555555556,
              "#d8576b"
             ],
             [
              0.6666666666666666,
              "#ed7953"
             ],
             [
              0.7777777777777778,
              "#fb9f3a"
             ],
             [
              0.8888888888888888,
              "#fdca26"
             ],
             [
              1,
              "#f0f921"
             ]
            ],
            "type": "histogram2dcontour"
           }
          ],
          "mesh3d": [
           {
            "colorbar": {
             "outlinewidth": 0,
             "ticks": ""
            },
            "type": "mesh3d"
           }
          ],
          "parcoords": [
           {
            "line": {
             "colorbar": {
              "outlinewidth": 0,
              "ticks": ""
             }
            },
            "type": "parcoords"
           }
          ],
          "pie": [
           {
            "automargin": true,
            "type": "pie"
           }
          ],
          "scatter": [
           {
            "fillpattern": {
             "fillmode": "overlay",
             "size": 10,
             "solidity": 0.2
            },
            "type": "scatter"
           }
          ],
          "scatter3d": [
           {
            "line": {
             "colorbar": {
              "outlinewidth": 0,
              "ticks": ""
             }
            },
            "marker": {
             "colorbar": {
              "outlinewidth": 0,
              "ticks": ""
             }
            },
            "type": "scatter3d"
           }
          ],
          "scattercarpet": [
           {
            "marker": {
             "colorbar": {
              "outlinewidth": 0,
              "ticks": ""
             }
            },
            "type": "scattercarpet"
           }
          ],
          "scattergeo": [
           {
            "marker": {
             "colorbar": {
              "outlinewidth": 0,
              "ticks": ""
             }
            },
            "type": "scattergeo"
           }
          ],
          "scattergl": [
           {
            "marker": {
             "colorbar": {
              "outlinewidth": 0,
              "ticks": ""
             }
            },
            "type": "scattergl"
           }
          ],
          "scattermapbox": [
           {
            "marker": {
             "colorbar": {
              "outlinewidth": 0,
              "ticks": ""
             }
            },
            "type": "scattermapbox"
           }
          ],
          "scatterpolar": [
           {
            "marker": {
             "colorbar": {
              "outlinewidth": 0,
              "ticks": ""
             }
            },
            "type": "scatterpolar"
           }
          ],
          "scatterpolargl": [
           {
            "marker": {
             "colorbar": {
              "outlinewidth": 0,
              "ticks": ""
             }
            },
            "type": "scatterpolargl"
           }
          ],
          "scatterternary": [
           {
            "marker": {
             "colorbar": {
              "outlinewidth": 0,
              "ticks": ""
             }
            },
            "type": "scatterternary"
           }
          ],
          "surface": [
           {
            "colorbar": {
             "outlinewidth": 0,
             "ticks": ""
            },
            "colorscale": [
             [
              0,
              "#0d0887"
             ],
             [
              0.1111111111111111,
              "#46039f"
             ],
             [
              0.2222222222222222,
              "#7201a8"
             ],
             [
              0.3333333333333333,
              "#9c179e"
             ],
             [
              0.4444444444444444,
              "#bd3786"
             ],
             [
              0.5555555555555556,
              "#d8576b"
             ],
             [
              0.6666666666666666,
              "#ed7953"
             ],
             [
              0.7777777777777778,
              "#fb9f3a"
             ],
             [
              0.8888888888888888,
              "#fdca26"
             ],
             [
              1,
              "#f0f921"
             ]
            ],
            "type": "surface"
           }
          ],
          "table": [
           {
            "cells": {
             "fill": {
              "color": "#EBF0F8"
             },
             "line": {
              "color": "white"
             }
            },
            "header": {
             "fill": {
              "color": "#C8D4E3"
             },
             "line": {
              "color": "white"
             }
            },
            "type": "table"
           }
          ]
         },
         "layout": {
          "annotationdefaults": {
           "arrowcolor": "#2a3f5f",
           "arrowhead": 0,
           "arrowwidth": 1
          },
          "autotypenumbers": "strict",
          "coloraxis": {
           "colorbar": {
            "outlinewidth": 0,
            "ticks": ""
           }
          },
          "colorscale": {
           "diverging": [
            [
             0,
             "#8e0152"
            ],
            [
             0.1,
             "#c51b7d"
            ],
            [
             0.2,
             "#de77ae"
            ],
            [
             0.3,
             "#f1b6da"
            ],
            [
             0.4,
             "#fde0ef"
            ],
            [
             0.5,
             "#f7f7f7"
            ],
            [
             0.6,
             "#e6f5d0"
            ],
            [
             0.7,
             "#b8e186"
            ],
            [
             0.8,
             "#7fbc41"
            ],
            [
             0.9,
             "#4d9221"
            ],
            [
             1,
             "#276419"
            ]
           ],
           "sequential": [
            [
             0,
             "#0d0887"
            ],
            [
             0.1111111111111111,
             "#46039f"
            ],
            [
             0.2222222222222222,
             "#7201a8"
            ],
            [
             0.3333333333333333,
             "#9c179e"
            ],
            [
             0.4444444444444444,
             "#bd3786"
            ],
            [
             0.5555555555555556,
             "#d8576b"
            ],
            [
             0.6666666666666666,
             "#ed7953"
            ],
            [
             0.7777777777777778,
             "#fb9f3a"
            ],
            [
             0.8888888888888888,
             "#fdca26"
            ],
            [
             1,
             "#f0f921"
            ]
           ],
           "sequentialminus": [
            [
             0,
             "#0d0887"
            ],
            [
             0.1111111111111111,
             "#46039f"
            ],
            [
             0.2222222222222222,
             "#7201a8"
            ],
            [
             0.3333333333333333,
             "#9c179e"
            ],
            [
             0.4444444444444444,
             "#bd3786"
            ],
            [
             0.5555555555555556,
             "#d8576b"
            ],
            [
             0.6666666666666666,
             "#ed7953"
            ],
            [
             0.7777777777777778,
             "#fb9f3a"
            ],
            [
             0.8888888888888888,
             "#fdca26"
            ],
            [
             1,
             "#f0f921"
            ]
           ]
          },
          "colorway": [
           "#636efa",
           "#EF553B",
           "#00cc96",
           "#ab63fa",
           "#FFA15A",
           "#19d3f3",
           "#FF6692",
           "#B6E880",
           "#FF97FF",
           "#FECB52"
          ],
          "font": {
           "color": "#2a3f5f"
          },
          "geo": {
           "bgcolor": "white",
           "lakecolor": "white",
           "landcolor": "#E5ECF6",
           "showlakes": true,
           "showland": true,
           "subunitcolor": "white"
          },
          "hoverlabel": {
           "align": "left"
          },
          "hovermode": "closest",
          "mapbox": {
           "style": "light"
          },
          "paper_bgcolor": "white",
          "plot_bgcolor": "#E5ECF6",
          "polar": {
           "angularaxis": {
            "gridcolor": "white",
            "linecolor": "white",
            "ticks": ""
           },
           "bgcolor": "#E5ECF6",
           "radialaxis": {
            "gridcolor": "white",
            "linecolor": "white",
            "ticks": ""
           }
          },
          "scene": {
           "xaxis": {
            "backgroundcolor": "#E5ECF6",
            "gridcolor": "white",
            "gridwidth": 2,
            "linecolor": "white",
            "showbackground": true,
            "ticks": "",
            "zerolinecolor": "white"
           },
           "yaxis": {
            "backgroundcolor": "#E5ECF6",
            "gridcolor": "white",
            "gridwidth": 2,
            "linecolor": "white",
            "showbackground": true,
            "ticks": "",
            "zerolinecolor": "white"
           },
           "zaxis": {
            "backgroundcolor": "#E5ECF6",
            "gridcolor": "white",
            "gridwidth": 2,
            "linecolor": "white",
            "showbackground": true,
            "ticks": "",
            "zerolinecolor": "white"
           }
          },
          "shapedefaults": {
           "line": {
            "color": "#2a3f5f"
           }
          },
          "ternary": {
           "aaxis": {
            "gridcolor": "white",
            "linecolor": "white",
            "ticks": ""
           },
           "baxis": {
            "gridcolor": "white",
            "linecolor": "white",
            "ticks": ""
           },
           "bgcolor": "#E5ECF6",
           "caxis": {
            "gridcolor": "white",
            "linecolor": "white",
            "ticks": ""
           }
          },
          "title": {
           "x": 0.05
          },
          "xaxis": {
           "automargin": true,
           "gridcolor": "white",
           "linecolor": "white",
           "ticks": "",
           "title": {
            "standoff": 15
           },
           "zerolinecolor": "white",
           "zerolinewidth": 2
          },
          "yaxis": {
           "automargin": true,
           "gridcolor": "white",
           "linecolor": "white",
           "ticks": "",
           "title": {
            "standoff": 15
           },
           "zerolinecolor": "white",
           "zerolinewidth": 2
          }
         }
        },
        "title": {
         "text": "Mean residual 34.10690032368952 px"
        },
        "xaxis": {
         "anchor": "y",
         "domain": [
          0,
          1
         ],
         "title": {
          "text": "residual"
         }
        },
        "yaxis": {
         "anchor": "x",
         "domain": [
          0,
          1
         ],
         "title": {
          "text": "Laser"
         }
        }
       }
      }
     },
     "metadata": {},
     "output_type": "display_data"
    }
   ],
   "source": [
    "residuals = []\n",
    "for data_point in data_points:\n",
    "    residuals.append(data_point['residual'])\n",
    "mean_residual = np.mean(residuals)\n",
    "\n",
    "fig = px.scatter(data_points\n",
    "    , x='residual'\n",
    "    , y='Laser'\n",
    "    , color='Camera'\n",
    "    , hover_name='Laser'\n",
    "\t, hover_data=['beam_capture_index', 'projectionPoint_x', 'projectionPoint_y']\n",
    "    , title=\"Mean residual {0} px\".format(mean_residual))\n",
    "fig.show()"
   ]
  },
  {
   "cell_type": "code",
   "execution_count": 304,
   "metadata": {},
   "outputs": [
    {
     "data": {
      "application/vnd.plotly.v1+json": {
       "config": {
        "plotlyServerURL": "https://plot.ly"
       },
       "data": [
        {
         "customdata": [
          [
           0
          ],
          [
           1
          ],
          [
           2
          ],
          [
           3
          ],
          [
           4
          ],
          [
           5
          ],
          [
           6
          ],
          [
           7
          ]
         ],
         "hovertemplate": "<b>%{hovertext}</b><br><br>Camera=Thu 2022.05.19 23:08<br>projectionPoint_x=%{x}<br>projectionPoint_y=%{y}<br>residual=%{z}<br>beam_capture_index=%{customdata[0]}<extra></extra>",
         "hovertext": [
          26,
          26,
          26,
          26,
          26,
          26,
          26,
          26
         ],
         "legendgroup": "Thu 2022.05.19 23:08",
         "marker": {
          "color": "#636efa",
          "symbol": "circle"
         },
         "mode": "markers",
         "name": "Thu 2022.05.19 23:08",
         "scene": "scene",
         "showlegend": true,
         "type": "scatter3d",
         "x": [
          -0.5,
          0,
          0.5,
          -0.5,
          0,
          0.5,
          0,
          0.5
         ],
         "y": [
          -0.5,
          -0.5,
          -0.5,
          0,
          0,
          0,
          0.5,
          0.5
         ],
         "z": [
          26.017091751098633,
          15.014887809753418,
          7.864346504211426,
          23.32576560974121,
          15.208109855651855,
          12.668985366821289,
          13.634161949157715,
          13.908316612243652
         ]
        },
        {
         "customdata": [
          [
           0
          ],
          [
           1
          ],
          [
           2
          ],
          [
           3
          ],
          [
           4
          ],
          [
           5
          ]
         ],
         "hovertemplate": "<b>%{hovertext}</b><br><br>Camera=Thu 2022.05.19 23:55<br>projectionPoint_x=%{x}<br>projectionPoint_y=%{y}<br>residual=%{z}<br>beam_capture_index=%{customdata[0]}<extra></extra>",
         "hovertext": [
          26,
          26,
          26,
          26,
          26,
          26
         ],
         "legendgroup": "Thu 2022.05.19 23:55",
         "marker": {
          "color": "#EF553B",
          "symbol": "circle"
         },
         "mode": "markers",
         "name": "Thu 2022.05.19 23:55",
         "scene": "scene",
         "showlegend": true,
         "type": "scatter3d",
         "x": [
          0,
          0.5,
          0,
          0.5,
          0,
          0.5
         ],
         "y": [
          -0.5,
          -0.5,
          0,
          0,
          0.5,
          0.5
         ],
         "z": [
          10.489317893981934,
          7.357310771942139,
          15.024723052978516,
          12.713238716125488,
          17.651840209960938,
          17.238847732543945
         ]
        },
        {
         "customdata": [
          [
           0
          ],
          [
           1
          ],
          [
           2
          ],
          [
           3
          ],
          [
           4
          ]
         ],
         "hovertemplate": "<b>%{hovertext}</b><br><br>Camera=Fri 2022.05.20 00:41<br>projectionPoint_x=%{x}<br>projectionPoint_y=%{y}<br>residual=%{z}<br>beam_capture_index=%{customdata[0]}<extra></extra>",
         "hovertext": [
          26,
          26,
          26,
          26,
          26
         ],
         "legendgroup": "Fri 2022.05.20 00:41",
         "marker": {
          "color": "#00cc96",
          "symbol": "circle"
         },
         "mode": "markers",
         "name": "Fri 2022.05.20 00:41",
         "scene": "scene",
         "showlegend": true,
         "type": "scatter3d",
         "x": [
          0.5,
          0,
          0.5,
          0,
          0.5
         ],
         "y": [
          -0.5,
          0,
          0,
          0.5,
          0.5
         ],
         "z": [
          6.699791431427002,
          18.68777847290039,
          13.600201606750488,
          17.630834579467773,
          17.93770408630371
         ]
        },
        {
         "customdata": [
          [
           0
          ],
          [
           1
          ],
          [
           2
          ],
          [
           3
          ],
          [
           4
          ]
         ],
         "hovertemplate": "<b>%{hovertext}</b><br><br>Camera=Fri 2022.05.20 01:22<br>projectionPoint_x=%{x}<br>projectionPoint_y=%{y}<br>residual=%{z}<br>beam_capture_index=%{customdata[0]}<extra></extra>",
         "hovertext": [
          26,
          26,
          26,
          26,
          26
         ],
         "legendgroup": "Fri 2022.05.20 01:22",
         "marker": {
          "color": "#ab63fa",
          "symbol": "circle"
         },
         "mode": "markers",
         "name": "Fri 2022.05.20 01:22",
         "scene": "scene",
         "showlegend": true,
         "type": "scatter3d",
         "x": [
          0,
          0.5,
          -0.5,
          0,
          0.5
         ],
         "y": [
          0,
          0,
          0.5,
          0.5,
          0.5
         ],
         "z": [
          13.779532432556152,
          11.0950345993042,
          16.004846572875977,
          11.584033966064453,
          12.223153114318848
         ]
        },
        {
         "customdata": [
          [
           0
          ],
          [
           1
          ],
          [
           2
          ],
          [
           3
          ],
          [
           4
          ],
          [
           5
          ],
          [
           6
          ],
          [
           7
          ],
          [
           8
          ]
         ],
         "hovertemplate": "<b>%{hovertext}</b><br><br>Camera=Fri 2022.05.20 23:18<br>projectionPoint_x=%{x}<br>projectionPoint_y=%{y}<br>residual=%{z}<br>beam_capture_index=%{customdata[0]}<extra></extra>",
         "hovertext": [
          26,
          26,
          26,
          26,
          26,
          26,
          26,
          26,
          26
         ],
         "legendgroup": "Fri 2022.05.20 23:18",
         "marker": {
          "color": "#FFA15A",
          "symbol": "circle"
         },
         "mode": "markers",
         "name": "Fri 2022.05.20 23:18",
         "scene": "scene",
         "showlegend": true,
         "type": "scatter3d",
         "x": [
          -0.5,
          0,
          0.5,
          -0.5,
          0,
          0.5,
          -0.5,
          0,
          0.5
         ],
         "y": [
          -0.5,
          -0.5,
          -0.5,
          0,
          0,
          0,
          0.5,
          0.5,
          0.5
         ],
         "z": [
          3.8814141750335693,
          8.574953079223633,
          8.966381072998047,
          8.98576545715332,
          11.647162437438965,
          10.202057838439941,
          16.124509811401367,
          17.158878326416016,
          14.201303482055664
         ]
        },
        {
         "customdata": [
          [
           0
          ],
          [
           1
          ],
          [
           2
          ],
          [
           3
          ],
          [
           4
          ],
          [
           5
          ],
          [
           6
          ],
          [
           7
          ]
         ],
         "hovertemplate": "<b>%{hovertext}</b><br><br>Camera=Mon 2022.05.23 00:11<br>projectionPoint_x=%{x}<br>projectionPoint_y=%{y}<br>residual=%{z}<br>beam_capture_index=%{customdata[0]}<extra></extra>",
         "hovertext": [
          26,
          26,
          26,
          26,
          26,
          26,
          26,
          26
         ],
         "legendgroup": "Mon 2022.05.23 00:11",
         "marker": {
          "color": "#19d3f3",
          "symbol": "circle"
         },
         "mode": "markers",
         "name": "Mon 2022.05.23 00:11",
         "scene": "scene",
         "showlegend": true,
         "type": "scatter3d",
         "x": [
          0,
          0.5,
          -0.5,
          0,
          0.5,
          -0.5,
          0,
          0.5
         ],
         "y": [
          -0.5,
          -0.5,
          0,
          0,
          0,
          0.5,
          0.5,
          0.5
         ],
         "z": [
          12.600363731384277,
          13.94736385345459,
          8.69191837310791,
          10.312150955200195,
          13.439743041992188,
          9.736466407775879,
          16.61795997619629,
          19.509199142456055
         ]
        },
        {
         "customdata": [
          [
           0
          ],
          [
           1
          ],
          [
           2
          ],
          [
           3
          ],
          [
           4
          ],
          [
           5
          ],
          [
           6
          ]
         ],
         "hovertemplate": "<b>%{hovertext}</b><br><br>Camera=Mon 2022.05.23 00:21<br>projectionPoint_x=%{x}<br>projectionPoint_y=%{y}<br>residual=%{z}<br>beam_capture_index=%{customdata[0]}<extra></extra>",
         "hovertext": [
          26,
          26,
          26,
          26,
          26,
          26,
          26
         ],
         "legendgroup": "Mon 2022.05.23 00:21",
         "marker": {
          "color": "#FF6692",
          "symbol": "circle"
         },
         "mode": "markers",
         "name": "Mon 2022.05.23 00:21",
         "scene": "scene",
         "showlegend": true,
         "type": "scatter3d",
         "x": [
          0,
          -0.5,
          0,
          0.5,
          -0.5,
          0,
          0.5
         ],
         "y": [
          -0.5,
          0,
          0,
          0,
          0.5,
          0.5,
          0.5
         ],
         "z": [
          30.891937255859375,
          25.97566032409668,
          28.340225219726562,
          26.314306259155273,
          27.8123779296875,
          29.11332130432129,
          25.16557502746582
         ]
        },
        {
         "customdata": [
          [
           0
          ],
          [
           1
          ],
          [
           2
          ],
          [
           3
          ],
          [
           4
          ],
          [
           5
          ],
          [
           6
          ],
          [
           7
          ],
          [
           8
          ]
         ],
         "hovertemplate": "<b>%{hovertext}</b><br><br>Camera=Mon 2022.05.23 00:35<br>projectionPoint_x=%{x}<br>projectionPoint_y=%{y}<br>residual=%{z}<br>beam_capture_index=%{customdata[0]}<extra></extra>",
         "hovertext": [
          26,
          26,
          26,
          26,
          26,
          26,
          26,
          26,
          26
         ],
         "legendgroup": "Mon 2022.05.23 00:35",
         "marker": {
          "color": "#B6E880",
          "symbol": "circle"
         },
         "mode": "markers",
         "name": "Mon 2022.05.23 00:35",
         "scene": "scene",
         "showlegend": true,
         "type": "scatter3d",
         "x": [
          -0.5,
          0,
          0.5,
          -0.5,
          0,
          0.5,
          -0.5,
          0,
          0.5
         ],
         "y": [
          -0.5,
          -0.5,
          -0.5,
          0,
          0,
          0,
          0.5,
          0.5,
          0.5
         ],
         "z": [
          9.95269775390625,
          2.9122557640075684,
          0.5460281372070312,
          4.477259159088135,
          3.89418625831604,
          3.8485500812530518,
          4.410248279571533,
          14.388680458068848,
          11.697656631469727
         ]
        }
       ],
       "layout": {
        "legend": {
         "title": {
          "text": "Camera"
         },
         "tracegroupgap": 0
        },
        "scene": {
         "domain": {
          "x": [
           0,
           1
          ],
          "y": [
           0,
           1
          ]
         },
         "xaxis": {
          "title": {
           "text": "projectionPoint_x"
          }
         },
         "yaxis": {
          "title": {
           "text": "projectionPoint_y"
          }
         },
         "zaxis": {
          "title": {
           "text": "residual"
          }
         }
        },
        "template": {
         "data": {
          "bar": [
           {
            "error_x": {
             "color": "#2a3f5f"
            },
            "error_y": {
             "color": "#2a3f5f"
            },
            "marker": {
             "line": {
              "color": "#E5ECF6",
              "width": 0.5
             },
             "pattern": {
              "fillmode": "overlay",
              "size": 10,
              "solidity": 0.2
             }
            },
            "type": "bar"
           }
          ],
          "barpolar": [
           {
            "marker": {
             "line": {
              "color": "#E5ECF6",
              "width": 0.5
             },
             "pattern": {
              "fillmode": "overlay",
              "size": 10,
              "solidity": 0.2
             }
            },
            "type": "barpolar"
           }
          ],
          "carpet": [
           {
            "aaxis": {
             "endlinecolor": "#2a3f5f",
             "gridcolor": "white",
             "linecolor": "white",
             "minorgridcolor": "white",
             "startlinecolor": "#2a3f5f"
            },
            "baxis": {
             "endlinecolor": "#2a3f5f",
             "gridcolor": "white",
             "linecolor": "white",
             "minorgridcolor": "white",
             "startlinecolor": "#2a3f5f"
            },
            "type": "carpet"
           }
          ],
          "choropleth": [
           {
            "colorbar": {
             "outlinewidth": 0,
             "ticks": ""
            },
            "type": "choropleth"
           }
          ],
          "contour": [
           {
            "colorbar": {
             "outlinewidth": 0,
             "ticks": ""
            },
            "colorscale": [
             [
              0,
              "#0d0887"
             ],
             [
              0.1111111111111111,
              "#46039f"
             ],
             [
              0.2222222222222222,
              "#7201a8"
             ],
             [
              0.3333333333333333,
              "#9c179e"
             ],
             [
              0.4444444444444444,
              "#bd3786"
             ],
             [
              0.5555555555555556,
              "#d8576b"
             ],
             [
              0.6666666666666666,
              "#ed7953"
             ],
             [
              0.7777777777777778,
              "#fb9f3a"
             ],
             [
              0.8888888888888888,
              "#fdca26"
             ],
             [
              1,
              "#f0f921"
             ]
            ],
            "type": "contour"
           }
          ],
          "contourcarpet": [
           {
            "colorbar": {
             "outlinewidth": 0,
             "ticks": ""
            },
            "type": "contourcarpet"
           }
          ],
          "heatmap": [
           {
            "colorbar": {
             "outlinewidth": 0,
             "ticks": ""
            },
            "colorscale": [
             [
              0,
              "#0d0887"
             ],
             [
              0.1111111111111111,
              "#46039f"
             ],
             [
              0.2222222222222222,
              "#7201a8"
             ],
             [
              0.3333333333333333,
              "#9c179e"
             ],
             [
              0.4444444444444444,
              "#bd3786"
             ],
             [
              0.5555555555555556,
              "#d8576b"
             ],
             [
              0.6666666666666666,
              "#ed7953"
             ],
             [
              0.7777777777777778,
              "#fb9f3a"
             ],
             [
              0.8888888888888888,
              "#fdca26"
             ],
             [
              1,
              "#f0f921"
             ]
            ],
            "type": "heatmap"
           }
          ],
          "heatmapgl": [
           {
            "colorbar": {
             "outlinewidth": 0,
             "ticks": ""
            },
            "colorscale": [
             [
              0,
              "#0d0887"
             ],
             [
              0.1111111111111111,
              "#46039f"
             ],
             [
              0.2222222222222222,
              "#7201a8"
             ],
             [
              0.3333333333333333,
              "#9c179e"
             ],
             [
              0.4444444444444444,
              "#bd3786"
             ],
             [
              0.5555555555555556,
              "#d8576b"
             ],
             [
              0.6666666666666666,
              "#ed7953"
             ],
             [
              0.7777777777777778,
              "#fb9f3a"
             ],
             [
              0.8888888888888888,
              "#fdca26"
             ],
             [
              1,
              "#f0f921"
             ]
            ],
            "type": "heatmapgl"
           }
          ],
          "histogram": [
           {
            "marker": {
             "pattern": {
              "fillmode": "overlay",
              "size": 10,
              "solidity": 0.2
             }
            },
            "type": "histogram"
           }
          ],
          "histogram2d": [
           {
            "colorbar": {
             "outlinewidth": 0,
             "ticks": ""
            },
            "colorscale": [
             [
              0,
              "#0d0887"
             ],
             [
              0.1111111111111111,
              "#46039f"
             ],
             [
              0.2222222222222222,
              "#7201a8"
             ],
             [
              0.3333333333333333,
              "#9c179e"
             ],
             [
              0.4444444444444444,
              "#bd3786"
             ],
             [
              0.5555555555555556,
              "#d8576b"
             ],
             [
              0.6666666666666666,
              "#ed7953"
             ],
             [
              0.7777777777777778,
              "#fb9f3a"
             ],
             [
              0.8888888888888888,
              "#fdca26"
             ],
             [
              1,
              "#f0f921"
             ]
            ],
            "type": "histogram2d"
           }
          ],
          "histogram2dcontour": [
           {
            "colorbar": {
             "outlinewidth": 0,
             "ticks": ""
            },
            "colorscale": [
             [
              0,
              "#0d0887"
             ],
             [
              0.1111111111111111,
              "#46039f"
             ],
             [
              0.2222222222222222,
              "#7201a8"
             ],
             [
              0.3333333333333333,
              "#9c179e"
             ],
             [
              0.4444444444444444,
              "#bd3786"
             ],
             [
              0.5555555555555556,
              "#d8576b"
             ],
             [
              0.6666666666666666,
              "#ed7953"
             ],
             [
              0.7777777777777778,
              "#fb9f3a"
             ],
             [
              0.8888888888888888,
              "#fdca26"
             ],
             [
              1,
              "#f0f921"
             ]
            ],
            "type": "histogram2dcontour"
           }
          ],
          "mesh3d": [
           {
            "colorbar": {
             "outlinewidth": 0,
             "ticks": ""
            },
            "type": "mesh3d"
           }
          ],
          "parcoords": [
           {
            "line": {
             "colorbar": {
              "outlinewidth": 0,
              "ticks": ""
             }
            },
            "type": "parcoords"
           }
          ],
          "pie": [
           {
            "automargin": true,
            "type": "pie"
           }
          ],
          "scatter": [
           {
            "fillpattern": {
             "fillmode": "overlay",
             "size": 10,
             "solidity": 0.2
            },
            "type": "scatter"
           }
          ],
          "scatter3d": [
           {
            "line": {
             "colorbar": {
              "outlinewidth": 0,
              "ticks": ""
             }
            },
            "marker": {
             "colorbar": {
              "outlinewidth": 0,
              "ticks": ""
             }
            },
            "type": "scatter3d"
           }
          ],
          "scattercarpet": [
           {
            "marker": {
             "colorbar": {
              "outlinewidth": 0,
              "ticks": ""
             }
            },
            "type": "scattercarpet"
           }
          ],
          "scattergeo": [
           {
            "marker": {
             "colorbar": {
              "outlinewidth": 0,
              "ticks": ""
             }
            },
            "type": "scattergeo"
           }
          ],
          "scattergl": [
           {
            "marker": {
             "colorbar": {
              "outlinewidth": 0,
              "ticks": ""
             }
            },
            "type": "scattergl"
           }
          ],
          "scattermapbox": [
           {
            "marker": {
             "colorbar": {
              "outlinewidth": 0,
              "ticks": ""
             }
            },
            "type": "scattermapbox"
           }
          ],
          "scatterpolar": [
           {
            "marker": {
             "colorbar": {
              "outlinewidth": 0,
              "ticks": ""
             }
            },
            "type": "scatterpolar"
           }
          ],
          "scatterpolargl": [
           {
            "marker": {
             "colorbar": {
              "outlinewidth": 0,
              "ticks": ""
             }
            },
            "type": "scatterpolargl"
           }
          ],
          "scatterternary": [
           {
            "marker": {
             "colorbar": {
              "outlinewidth": 0,
              "ticks": ""
             }
            },
            "type": "scatterternary"
           }
          ],
          "surface": [
           {
            "colorbar": {
             "outlinewidth": 0,
             "ticks": ""
            },
            "colorscale": [
             [
              0,
              "#0d0887"
             ],
             [
              0.1111111111111111,
              "#46039f"
             ],
             [
              0.2222222222222222,
              "#7201a8"
             ],
             [
              0.3333333333333333,
              "#9c179e"
             ],
             [
              0.4444444444444444,
              "#bd3786"
             ],
             [
              0.5555555555555556,
              "#d8576b"
             ],
             [
              0.6666666666666666,
              "#ed7953"
             ],
             [
              0.7777777777777778,
              "#fb9f3a"
             ],
             [
              0.8888888888888888,
              "#fdca26"
             ],
             [
              1,
              "#f0f921"
             ]
            ],
            "type": "surface"
           }
          ],
          "table": [
           {
            "cells": {
             "fill": {
              "color": "#EBF0F8"
             },
             "line": {
              "color": "white"
             }
            },
            "header": {
             "fill": {
              "color": "#C8D4E3"
             },
             "line": {
              "color": "white"
             }
            },
            "type": "table"
           }
          ]
         },
         "layout": {
          "annotationdefaults": {
           "arrowcolor": "#2a3f5f",
           "arrowhead": 0,
           "arrowwidth": 1
          },
          "autotypenumbers": "strict",
          "coloraxis": {
           "colorbar": {
            "outlinewidth": 0,
            "ticks": ""
           }
          },
          "colorscale": {
           "diverging": [
            [
             0,
             "#8e0152"
            ],
            [
             0.1,
             "#c51b7d"
            ],
            [
             0.2,
             "#de77ae"
            ],
            [
             0.3,
             "#f1b6da"
            ],
            [
             0.4,
             "#fde0ef"
            ],
            [
             0.5,
             "#f7f7f7"
            ],
            [
             0.6,
             "#e6f5d0"
            ],
            [
             0.7,
             "#b8e186"
            ],
            [
             0.8,
             "#7fbc41"
            ],
            [
             0.9,
             "#4d9221"
            ],
            [
             1,
             "#276419"
            ]
           ],
           "sequential": [
            [
             0,
             "#0d0887"
            ],
            [
             0.1111111111111111,
             "#46039f"
            ],
            [
             0.2222222222222222,
             "#7201a8"
            ],
            [
             0.3333333333333333,
             "#9c179e"
            ],
            [
             0.4444444444444444,
             "#bd3786"
            ],
            [
             0.5555555555555556,
             "#d8576b"
            ],
            [
             0.6666666666666666,
             "#ed7953"
            ],
            [
             0.7777777777777778,
             "#fb9f3a"
            ],
            [
             0.8888888888888888,
             "#fdca26"
            ],
            [
             1,
             "#f0f921"
            ]
           ],
           "sequentialminus": [
            [
             0,
             "#0d0887"
            ],
            [
             0.1111111111111111,
             "#46039f"
            ],
            [
             0.2222222222222222,
             "#7201a8"
            ],
            [
             0.3333333333333333,
             "#9c179e"
            ],
            [
             0.4444444444444444,
             "#bd3786"
            ],
            [
             0.5555555555555556,
             "#d8576b"
            ],
            [
             0.6666666666666666,
             "#ed7953"
            ],
            [
             0.7777777777777778,
             "#fb9f3a"
            ],
            [
             0.8888888888888888,
             "#fdca26"
            ],
            [
             1,
             "#f0f921"
            ]
           ]
          },
          "colorway": [
           "#636efa",
           "#EF553B",
           "#00cc96",
           "#ab63fa",
           "#FFA15A",
           "#19d3f3",
           "#FF6692",
           "#B6E880",
           "#FF97FF",
           "#FECB52"
          ],
          "font": {
           "color": "#2a3f5f"
          },
          "geo": {
           "bgcolor": "white",
           "lakecolor": "white",
           "landcolor": "#E5ECF6",
           "showlakes": true,
           "showland": true,
           "subunitcolor": "white"
          },
          "hoverlabel": {
           "align": "left"
          },
          "hovermode": "closest",
          "mapbox": {
           "style": "light"
          },
          "paper_bgcolor": "white",
          "plot_bgcolor": "#E5ECF6",
          "polar": {
           "angularaxis": {
            "gridcolor": "white",
            "linecolor": "white",
            "ticks": ""
           },
           "bgcolor": "#E5ECF6",
           "radialaxis": {
            "gridcolor": "white",
            "linecolor": "white",
            "ticks": ""
           }
          },
          "scene": {
           "xaxis": {
            "backgroundcolor": "#E5ECF6",
            "gridcolor": "white",
            "gridwidth": 2,
            "linecolor": "white",
            "showbackground": true,
            "ticks": "",
            "zerolinecolor": "white"
           },
           "yaxis": {
            "backgroundcolor": "#E5ECF6",
            "gridcolor": "white",
            "gridwidth": 2,
            "linecolor": "white",
            "showbackground": true,
            "ticks": "",
            "zerolinecolor": "white"
           },
           "zaxis": {
            "backgroundcolor": "#E5ECF6",
            "gridcolor": "white",
            "gridwidth": 2,
            "linecolor": "white",
            "showbackground": true,
            "ticks": "",
            "zerolinecolor": "white"
           }
          },
          "shapedefaults": {
           "line": {
            "color": "#2a3f5f"
           }
          },
          "ternary": {
           "aaxis": {
            "gridcolor": "white",
            "linecolor": "white",
            "ticks": ""
           },
           "baxis": {
            "gridcolor": "white",
            "linecolor": "white",
            "ticks": ""
           },
           "bgcolor": "#E5ECF6",
           "caxis": {
            "gridcolor": "white",
            "linecolor": "white",
            "ticks": ""
           }
          },
          "title": {
           "x": 0.05
          },
          "xaxis": {
           "automargin": true,
           "gridcolor": "white",
           "linecolor": "white",
           "ticks": "",
           "title": {
            "standoff": 15
           },
           "zerolinecolor": "white",
           "zerolinewidth": 2
          },
          "yaxis": {
           "automargin": true,
           "gridcolor": "white",
           "linecolor": "white",
           "ticks": "",
           "title": {
            "standoff": 15
           },
           "zerolinecolor": "white",
           "zerolinewidth": 2
          }
         }
        },
        "title": {
         "text": "Residuals for selected laser #26"
        }
       }
      }
     },
     "metadata": {},
     "output_type": "display_data"
    }
   ],
   "source": [
    "select_laser = 26\n",
    "data_points_selected = list(filter(lambda data_point: data_point['Laser'] == select_laser, data_points))\n",
    "\n",
    "\n",
    "fig = px.scatter_3d(data_points_selected\n",
    "    , x='projectionPoint_x'\n",
    "    , y='projectionPoint_y'\n",
    "    , z='residual'\n",
    "    , color='Camera'\n",
    "    , hover_name='Laser'\n",
    "\t, hover_data=['beam_capture_index', 'projectionPoint_x', 'projectionPoint_y']\n",
    "    , title=\"Residuals for selected laser #{0}\".format(select_laser))\n",
    "fig.show()"
   ]
  },
  {
   "cell_type": "code",
   "execution_count": 197,
   "metadata": {},
   "outputs": [
    {
     "data": {
      "text/plain": [
       "[]"
      ]
     },
     "execution_count": 197,
     "metadata": {},
     "output_type": "execute_result"
    }
   ],
   "source": [
    "data_points_selected"
   ]
  },
  {
   "cell_type": "code",
   "execution_count": null,
   "metadata": {},
   "outputs": [],
   "source": []
  }
 ],
 "metadata": {
  "interpreter": {
   "hash": "8ad1532fc31f99577962bc5c83bf5434147f83b2eb1bd235603c40abbbf9cf0b"
  },
  "kernelspec": {
   "display_name": "Python 3.9.7 ('base')",
   "language": "python",
   "name": "python3"
  },
  "language_info": {
   "codemirror_mode": {
    "name": "ipython",
    "version": 3
   },
   "file_extension": ".py",
   "mimetype": "text/x-python",
   "name": "python",
   "nbconvert_exporter": "python",
   "pygments_lexer": "ipython3",
   "version": "3.9.7"
  },
  "orig_nbformat": 4
 },
 "nbformat": 4,
 "nbformat_minor": 2
}
