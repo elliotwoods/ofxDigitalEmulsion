{
 "cells": [
  {
   "cell_type": "markdown",
   "metadata": {},
   "source": [
    "# Analyse imagePoints\n",
    "\n",
    "Our aim is to calibrate the cameras against the laser positions (3D) and projections of lasers into camrea images (as 2D image points where lines converge).\n",
    "\n",
    "During this stage we want to:\n",
    "\n",
    "1. Deselect any beamcaptures that are wrongly detected\n",
    "2. Deselect any lasercaptures where the convergence point does not follow the circle in Figure 2 (NB : these should be re-selected after completing the camera calibration stage)\n",
    "3. Evaluate residuals using Figure 3"
   ]
  },
  {
   "cell_type": "code",
   "execution_count": 283,
   "metadata": {},
   "outputs": [],
   "source": [
    "import json\n",
    "import numpy as np\n",
    "import pandas as pd\n",
    "import plotly.express as px"
   ]
  },
  {
   "cell_type": "code",
   "execution_count": 284,
   "metadata": {},
   "outputs": [],
   "source": [
    "with open('../../Application/bin/data/Patch.json') as file:\n",
    "\tpatch = json.load(file)\n",
    "\t"
   ]
  },
  {
   "cell_type": "code",
   "execution_count": 285,
   "metadata": {},
   "outputs": [],
   "source": [
    "def find_node_by_name(node_name):\n",
    "\tfor node_id in patch['Nodes']:\n",
    "\t\tif patch['Nodes'][node_id]['Name'] == node_name:\n",
    "\t\t\treturn patch['Nodes'][node_id]\n",
    "\traise(Exception(\"Node not found\"))"
   ]
  },
  {
   "cell_type": "code",
   "execution_count": 286,
   "metadata": {},
   "outputs": [],
   "source": [
    "calibrate_node = find_node_by_name('Calibrate')"
   ]
  },
  {
   "cell_type": "code",
   "execution_count": 287,
   "metadata": {},
   "outputs": [],
   "source": [
    "first_camera = calibrate_node['Content']['cameraCaptures']['captures'][1]"
   ]
  },
  {
   "cell_type": "code",
   "execution_count": 288,
   "metadata": {},
   "outputs": [],
   "source": [
    "#gather laser image points function\n",
    "def gather_laser_image_points(camera_capture):\n",
    "\tlaser_image_points = []\n",
    "\tlaser_names = []\n",
    "\tfor laser_capture in first_camera['laserCaptures']['captures']:\n",
    "\t\tif laser_capture['Selected']:\n",
    "\t\t\tlaser_image_points.append(laser_capture['imagePointInCamera'])\n",
    "\t\t\tlaser_names.append(laser_capture['laserAddress'])\n",
    "\treturn laser_image_points, laser_names"
   ]
  },
  {
   "cell_type": "code",
   "execution_count": 289,
   "metadata": {},
   "outputs": [],
   "source": [
    "laser_image_points, laser_names = gather_laser_image_points(first_camera)\n",
    "data = np.array(laser_image_points)"
   ]
  },
  {
   "cell_type": "markdown",
   "metadata": {},
   "source": [
    "# Figure 1"
   ]
  },
  {
   "cell_type": "code",
   "execution_count": 290,
   "metadata": {},
   "outputs": [
    {
     "data": {
      "application/vnd.plotly.v1+json": {
       "config": {
        "plotlyServerURL": "https://plot.ly"
       },
       "data": [
        {
         "hovertemplate": "<b>%{hovertext}</b><br><br>x=%{x}<br>y=%{y}<extra></extra>",
         "hovertext": [
          1,
          2,
          3,
          4,
          5,
          12,
          7,
          8,
          10,
          11,
          13,
          14,
          16,
          17,
          18,
          19,
          22,
          25,
          26,
          28,
          30,
          31,
          32,
          34,
          35,
          37,
          38,
          33,
          40
         ],
         "legendgroup": "",
         "marker": {
          "color": "#636efa",
          "symbol": "circle"
         },
         "mode": "markers",
         "name": "",
         "orientation": "v",
         "showlegend": false,
         "type": "scatter",
         "x": [
          17678.08984375,
          21610.466796875,
          25280.798828125,
          29591.693359375,
          43643.9375,
          58508.375,
          102399.8359375,
          230142.8125,
          -57962.46484375,
          -34042.796875,
          -15083.265625,
          5850.77734375,
          123661.40625,
          -134065.96875,
          -39875.46484375,
          -26068.240234375,
          -11645.705078125,
          -6064.59326171875,
          -3145.77978515625,
          -1718.919677734375,
          1667.035400390625,
          2976.14404296875,
          4184.05419921875,
          6068.9873046875,
          6677.1767578125,
          8508.9658203125,
          9321.2744140625,
          10587.25390625,
          12424.49609375
         ],
         "xaxis": "x",
         "y": [
          12812.60546875,
          12562.2734375,
          12309.80859375,
          11719.92578125,
          9906.2763671875,
          8045.68994140625,
          761.0287475585938,
          -23095.23046875,
          28681.205078125,
          24117.279296875,
          25763.31640625,
          30346.15234375,
          114021.8359375,
          -67553.3828125,
          -8651.9951171875,
          -1219.2662353515625,
          7954.1552734375,
          10379.9287109375,
          11018.8701171875,
          11408.0263671875,
          11960.958984375,
          12113.2763671875,
          12342.1494140625,
          12540.271484375,
          12628.466796875,
          12747.2861328125,
          12782.822265625,
          12827.076171875,
          12860.5302734375
         ],
         "yaxis": "y"
        }
       ],
       "layout": {
        "legend": {
         "tracegroupgap": 0
        },
        "margin": {
         "t": 60
        },
        "template": {
         "data": {
          "bar": [
           {
            "error_x": {
             "color": "#2a3f5f"
            },
            "error_y": {
             "color": "#2a3f5f"
            },
            "marker": {
             "line": {
              "color": "#E5ECF6",
              "width": 0.5
             },
             "pattern": {
              "fillmode": "overlay",
              "size": 10,
              "solidity": 0.2
             }
            },
            "type": "bar"
           }
          ],
          "barpolar": [
           {
            "marker": {
             "line": {
              "color": "#E5ECF6",
              "width": 0.5
             },
             "pattern": {
              "fillmode": "overlay",
              "size": 10,
              "solidity": 0.2
             }
            },
            "type": "barpolar"
           }
          ],
          "carpet": [
           {
            "aaxis": {
             "endlinecolor": "#2a3f5f",
             "gridcolor": "white",
             "linecolor": "white",
             "minorgridcolor": "white",
             "startlinecolor": "#2a3f5f"
            },
            "baxis": {
             "endlinecolor": "#2a3f5f",
             "gridcolor": "white",
             "linecolor": "white",
             "minorgridcolor": "white",
             "startlinecolor": "#2a3f5f"
            },
            "type": "carpet"
           }
          ],
          "choropleth": [
           {
            "colorbar": {
             "outlinewidth": 0,
             "ticks": ""
            },
            "type": "choropleth"
           }
          ],
          "contour": [
           {
            "colorbar": {
             "outlinewidth": 0,
             "ticks": ""
            },
            "colorscale": [
             [
              0,
              "#0d0887"
             ],
             [
              0.1111111111111111,
              "#46039f"
             ],
             [
              0.2222222222222222,
              "#7201a8"
             ],
             [
              0.3333333333333333,
              "#9c179e"
             ],
             [
              0.4444444444444444,
              "#bd3786"
             ],
             [
              0.5555555555555556,
              "#d8576b"
             ],
             [
              0.6666666666666666,
              "#ed7953"
             ],
             [
              0.7777777777777778,
              "#fb9f3a"
             ],
             [
              0.8888888888888888,
              "#fdca26"
             ],
             [
              1,
              "#f0f921"
             ]
            ],
            "type": "contour"
           }
          ],
          "contourcarpet": [
           {
            "colorbar": {
             "outlinewidth": 0,
             "ticks": ""
            },
            "type": "contourcarpet"
           }
          ],
          "heatmap": [
           {
            "colorbar": {
             "outlinewidth": 0,
             "ticks": ""
            },
            "colorscale": [
             [
              0,
              "#0d0887"
             ],
             [
              0.1111111111111111,
              "#46039f"
             ],
             [
              0.2222222222222222,
              "#7201a8"
             ],
             [
              0.3333333333333333,
              "#9c179e"
             ],
             [
              0.4444444444444444,
              "#bd3786"
             ],
             [
              0.5555555555555556,
              "#d8576b"
             ],
             [
              0.6666666666666666,
              "#ed7953"
             ],
             [
              0.7777777777777778,
              "#fb9f3a"
             ],
             [
              0.8888888888888888,
              "#fdca26"
             ],
             [
              1,
              "#f0f921"
             ]
            ],
            "type": "heatmap"
           }
          ],
          "heatmapgl": [
           {
            "colorbar": {
             "outlinewidth": 0,
             "ticks": ""
            },
            "colorscale": [
             [
              0,
              "#0d0887"
             ],
             [
              0.1111111111111111,
              "#46039f"
             ],
             [
              0.2222222222222222,
              "#7201a8"
             ],
             [
              0.3333333333333333,
              "#9c179e"
             ],
             [
              0.4444444444444444,
              "#bd3786"
             ],
             [
              0.5555555555555556,
              "#d8576b"
             ],
             [
              0.6666666666666666,
              "#ed7953"
             ],
             [
              0.7777777777777778,
              "#fb9f3a"
             ],
             [
              0.8888888888888888,
              "#fdca26"
             ],
             [
              1,
              "#f0f921"
             ]
            ],
            "type": "heatmapgl"
           }
          ],
          "histogram": [
           {
            "marker": {
             "pattern": {
              "fillmode": "overlay",
              "size": 10,
              "solidity": 0.2
             }
            },
            "type": "histogram"
           }
          ],
          "histogram2d": [
           {
            "colorbar": {
             "outlinewidth": 0,
             "ticks": ""
            },
            "colorscale": [
             [
              0,
              "#0d0887"
             ],
             [
              0.1111111111111111,
              "#46039f"
             ],
             [
              0.2222222222222222,
              "#7201a8"
             ],
             [
              0.3333333333333333,
              "#9c179e"
             ],
             [
              0.4444444444444444,
              "#bd3786"
             ],
             [
              0.5555555555555556,
              "#d8576b"
             ],
             [
              0.6666666666666666,
              "#ed7953"
             ],
             [
              0.7777777777777778,
              "#fb9f3a"
             ],
             [
              0.8888888888888888,
              "#fdca26"
             ],
             [
              1,
              "#f0f921"
             ]
            ],
            "type": "histogram2d"
           }
          ],
          "histogram2dcontour": [
           {
            "colorbar": {
             "outlinewidth": 0,
             "ticks": ""
            },
            "colorscale": [
             [
              0,
              "#0d0887"
             ],
             [
              0.1111111111111111,
              "#46039f"
             ],
             [
              0.2222222222222222,
              "#7201a8"
             ],
             [
              0.3333333333333333,
              "#9c179e"
             ],
             [
              0.4444444444444444,
              "#bd3786"
             ],
             [
              0.5555555555555556,
              "#d8576b"
             ],
             [
              0.6666666666666666,
              "#ed7953"
             ],
             [
              0.7777777777777778,
              "#fb9f3a"
             ],
             [
              0.8888888888888888,
              "#fdca26"
             ],
             [
              1,
              "#f0f921"
             ]
            ],
            "type": "histogram2dcontour"
           }
          ],
          "mesh3d": [
           {
            "colorbar": {
             "outlinewidth": 0,
             "ticks": ""
            },
            "type": "mesh3d"
           }
          ],
          "parcoords": [
           {
            "line": {
             "colorbar": {
              "outlinewidth": 0,
              "ticks": ""
             }
            },
            "type": "parcoords"
           }
          ],
          "pie": [
           {
            "automargin": true,
            "type": "pie"
           }
          ],
          "scatter": [
           {
            "fillpattern": {
             "fillmode": "overlay",
             "size": 10,
             "solidity": 0.2
            },
            "type": "scatter"
           }
          ],
          "scatter3d": [
           {
            "line": {
             "colorbar": {
              "outlinewidth": 0,
              "ticks": ""
             }
            },
            "marker": {
             "colorbar": {
              "outlinewidth": 0,
              "ticks": ""
             }
            },
            "type": "scatter3d"
           }
          ],
          "scattercarpet": [
           {
            "marker": {
             "colorbar": {
              "outlinewidth": 0,
              "ticks": ""
             }
            },
            "type": "scattercarpet"
           }
          ],
          "scattergeo": [
           {
            "marker": {
             "colorbar": {
              "outlinewidth": 0,
              "ticks": ""
             }
            },
            "type": "scattergeo"
           }
          ],
          "scattergl": [
           {
            "marker": {
             "colorbar": {
              "outlinewidth": 0,
              "ticks": ""
             }
            },
            "type": "scattergl"
           }
          ],
          "scattermapbox": [
           {
            "marker": {
             "colorbar": {
              "outlinewidth": 0,
              "ticks": ""
             }
            },
            "type": "scattermapbox"
           }
          ],
          "scatterpolar": [
           {
            "marker": {
             "colorbar": {
              "outlinewidth": 0,
              "ticks": ""
             }
            },
            "type": "scatterpolar"
           }
          ],
          "scatterpolargl": [
           {
            "marker": {
             "colorbar": {
              "outlinewidth": 0,
              "ticks": ""
             }
            },
            "type": "scatterpolargl"
           }
          ],
          "scatterternary": [
           {
            "marker": {
             "colorbar": {
              "outlinewidth": 0,
              "ticks": ""
             }
            },
            "type": "scatterternary"
           }
          ],
          "surface": [
           {
            "colorbar": {
             "outlinewidth": 0,
             "ticks": ""
            },
            "colorscale": [
             [
              0,
              "#0d0887"
             ],
             [
              0.1111111111111111,
              "#46039f"
             ],
             [
              0.2222222222222222,
              "#7201a8"
             ],
             [
              0.3333333333333333,
              "#9c179e"
             ],
             [
              0.4444444444444444,
              "#bd3786"
             ],
             [
              0.5555555555555556,
              "#d8576b"
             ],
             [
              0.6666666666666666,
              "#ed7953"
             ],
             [
              0.7777777777777778,
              "#fb9f3a"
             ],
             [
              0.8888888888888888,
              "#fdca26"
             ],
             [
              1,
              "#f0f921"
             ]
            ],
            "type": "surface"
           }
          ],
          "table": [
           {
            "cells": {
             "fill": {
              "color": "#EBF0F8"
             },
             "line": {
              "color": "white"
             }
            },
            "header": {
             "fill": {
              "color": "#C8D4E3"
             },
             "line": {
              "color": "white"
             }
            },
            "type": "table"
           }
          ]
         },
         "layout": {
          "annotationdefaults": {
           "arrowcolor": "#2a3f5f",
           "arrowhead": 0,
           "arrowwidth": 1
          },
          "autotypenumbers": "strict",
          "coloraxis": {
           "colorbar": {
            "outlinewidth": 0,
            "ticks": ""
           }
          },
          "colorscale": {
           "diverging": [
            [
             0,
             "#8e0152"
            ],
            [
             0.1,
             "#c51b7d"
            ],
            [
             0.2,
             "#de77ae"
            ],
            [
             0.3,
             "#f1b6da"
            ],
            [
             0.4,
             "#fde0ef"
            ],
            [
             0.5,
             "#f7f7f7"
            ],
            [
             0.6,
             "#e6f5d0"
            ],
            [
             0.7,
             "#b8e186"
            ],
            [
             0.8,
             "#7fbc41"
            ],
            [
             0.9,
             "#4d9221"
            ],
            [
             1,
             "#276419"
            ]
           ],
           "sequential": [
            [
             0,
             "#0d0887"
            ],
            [
             0.1111111111111111,
             "#46039f"
            ],
            [
             0.2222222222222222,
             "#7201a8"
            ],
            [
             0.3333333333333333,
             "#9c179e"
            ],
            [
             0.4444444444444444,
             "#bd3786"
            ],
            [
             0.5555555555555556,
             "#d8576b"
            ],
            [
             0.6666666666666666,
             "#ed7953"
            ],
            [
             0.7777777777777778,
             "#fb9f3a"
            ],
            [
             0.8888888888888888,
             "#fdca26"
            ],
            [
             1,
             "#f0f921"
            ]
           ],
           "sequentialminus": [
            [
             0,
             "#0d0887"
            ],
            [
             0.1111111111111111,
             "#46039f"
            ],
            [
             0.2222222222222222,
             "#7201a8"
            ],
            [
             0.3333333333333333,
             "#9c179e"
            ],
            [
             0.4444444444444444,
             "#bd3786"
            ],
            [
             0.5555555555555556,
             "#d8576b"
            ],
            [
             0.6666666666666666,
             "#ed7953"
            ],
            [
             0.7777777777777778,
             "#fb9f3a"
            ],
            [
             0.8888888888888888,
             "#fdca26"
            ],
            [
             1,
             "#f0f921"
            ]
           ]
          },
          "colorway": [
           "#636efa",
           "#EF553B",
           "#00cc96",
           "#ab63fa",
           "#FFA15A",
           "#19d3f3",
           "#FF6692",
           "#B6E880",
           "#FF97FF",
           "#FECB52"
          ],
          "font": {
           "color": "#2a3f5f"
          },
          "geo": {
           "bgcolor": "white",
           "lakecolor": "white",
           "landcolor": "#E5ECF6",
           "showlakes": true,
           "showland": true,
           "subunitcolor": "white"
          },
          "hoverlabel": {
           "align": "left"
          },
          "hovermode": "closest",
          "mapbox": {
           "style": "light"
          },
          "paper_bgcolor": "white",
          "plot_bgcolor": "#E5ECF6",
          "polar": {
           "angularaxis": {
            "gridcolor": "white",
            "linecolor": "white",
            "ticks": ""
           },
           "bgcolor": "#E5ECF6",
           "radialaxis": {
            "gridcolor": "white",
            "linecolor": "white",
            "ticks": ""
           }
          },
          "scene": {
           "xaxis": {
            "backgroundcolor": "#E5ECF6",
            "gridcolor": "white",
            "gridwidth": 2,
            "linecolor": "white",
            "showbackground": true,
            "ticks": "",
            "zerolinecolor": "white"
           },
           "yaxis": {
            "backgroundcolor": "#E5ECF6",
            "gridcolor": "white",
            "gridwidth": 2,
            "linecolor": "white",
            "showbackground": true,
            "ticks": "",
            "zerolinecolor": "white"
           },
           "zaxis": {
            "backgroundcolor": "#E5ECF6",
            "gridcolor": "white",
            "gridwidth": 2,
            "linecolor": "white",
            "showbackground": true,
            "ticks": "",
            "zerolinecolor": "white"
           }
          },
          "shapedefaults": {
           "line": {
            "color": "#2a3f5f"
           }
          },
          "ternary": {
           "aaxis": {
            "gridcolor": "white",
            "linecolor": "white",
            "ticks": ""
           },
           "baxis": {
            "gridcolor": "white",
            "linecolor": "white",
            "ticks": ""
           },
           "bgcolor": "#E5ECF6",
           "caxis": {
            "gridcolor": "white",
            "linecolor": "white",
            "ticks": ""
           }
          },
          "title": {
           "x": 0.05
          },
          "xaxis": {
           "automargin": true,
           "gridcolor": "white",
           "linecolor": "white",
           "ticks": "",
           "title": {
            "standoff": 15
           },
           "zerolinecolor": "white",
           "zerolinewidth": 2
          },
          "yaxis": {
           "automargin": true,
           "gridcolor": "white",
           "linecolor": "white",
           "ticks": "",
           "title": {
            "standoff": 15
           },
           "zerolinecolor": "white",
           "zerolinewidth": 2
          }
         }
        },
        "xaxis": {
         "anchor": "y",
         "domain": [
          0,
          1
         ],
         "title": {
          "text": "x"
         }
        },
        "yaxis": {
         "anchor": "x",
         "domain": [
          0,
          1
         ],
         "title": {
          "text": "y"
         }
        }
       }
      }
     },
     "metadata": {},
     "output_type": "display_data"
    }
   ],
   "source": [
    "fig = px.scatter(x=data[:,0], y=data[:,1],hover_name=laser_names)\n",
    "fig.show()"
   ]
  },
  {
   "cell_type": "code",
   "execution_count": 291,
   "metadata": {},
   "outputs": [
    {
     "data": {
      "text/plain": [
       "dict_keys(['Color', 'Selected', 'beamCaptures', 'date', 'directory', 'imagePointInCamera', 'laserAddress', 'linesWithCommonPointSolveResult', 'parameters', 'time', 'timestamp'])"
      ]
     },
     "execution_count": 291,
     "metadata": {},
     "output_type": "execute_result"
    }
   ],
   "source": [
    "def get_laser_capture(camera_capture, laserAddress):\n",
    "\tfor laser_capture in camera_capture['laserCaptures']['captures']:\n",
    "\t\tif int(laser_capture['laserAddress']) == laserAddress:\n",
    "\t\t\treturn laser_capture\n",
    "\n",
    "get_laser_capture(first_camera, 22).keys()"
   ]
  },
  {
   "cell_type": "code",
   "execution_count": null,
   "metadata": {},
   "outputs": [],
   "source": []
  },
  {
   "cell_type": "code",
   "execution_count": 292,
   "metadata": {},
   "outputs": [],
   "source": [
    "# gather data\n",
    "data_points = []\n",
    "for camera_capture in calibrate_node['Content']['cameraCaptures']['captures']:\n",
    "\tfor laser_capture in camera_capture['laserCaptures']['captures']:\n",
    "\t\tif laser_capture['Selected']:\n",
    "\t\t\tdata_point = {}\n",
    "\t\t\tdata_point['Camera'] = \"{0} {1}\".format(camera_capture['date'], camera_capture['time'])\n",
    "\t\t\tdata_point['x'] = laser_capture['imagePointInCamera'][0]\n",
    "\t\t\tdata_point['y'] = laser_capture['imagePointInCamera'][1]\n",
    "\t\t\tdata_point['Laser'] = \"Laser {0}\".format(laser_capture['laserAddress'])\n",
    "\t\t\t\n",
    "\t\t\tif 'residual' in data_point:\n",
    "\t\t\t\tdata_point['residual'] = laser_capture['laserAddress']\n",
    "\t\t\telse:\n",
    "\t\t\t\tdata_point['residual'] = 0\n",
    "\t\t\t\t\n",
    "\t\t\t#count active beam captures\n",
    "\t\t\tactive_beam_capture_count = 0\n",
    "\t\t\tfor beam_capture in laser_capture['beamCaptures']['captures']:\n",
    "\t\t\t\tif beam_capture['Selected']:\n",
    "\t\t\t\t\tactive_beam_capture_count = active_beam_capture_count + 1\n",
    "\t\t\tdata_point['Active beam captures'] = active_beam_capture_count\n",
    "\t\t\t\n",
    "\t\t\tdata_points.append(data_point)\n",
    "\n"
   ]
  },
  {
   "cell_type": "markdown",
   "metadata": {},
   "source": [
    "# Figure 2\n",
    "\n",
    "Disable LaserCaptures until we have good looking ellipses below:"
   ]
  },
  {
   "cell_type": "markdown",
   "metadata": {},
   "source": [
    "Then we keep solving the intiial camera calibration, progressively removiving points with largest values until we get a good camera solve (e.g. values > 20k can be confusing for residuals)"
   ]
  },
  {
   "cell_type": "code",
   "execution_count": 293,
   "metadata": {},
   "outputs": [
    {
     "data": {
      "application/vnd.plotly.v1+json": {
       "config": {
        "plotlyServerURL": "https://plot.ly"
       },
       "data": [
        {
         "customdata": [
          [
           9
          ],
          [
           9
          ]
         ],
         "hovertemplate": "<b>%{hovertext}</b><br><br>Camera=Thu 2022.05.19 22:16<br>x=%{x}<br>y=%{y}<br>Active beam captures=%{customdata[0]}<extra></extra>",
         "hovertext": [
          "Laser 1",
          "Laser 2"
         ],
         "legendgroup": "Thu 2022.05.19 22:16",
         "marker": {
          "color": "#636efa",
          "symbol": "circle"
         },
         "mode": "markers",
         "name": "Thu 2022.05.19 22:16",
         "orientation": "v",
         "showlegend": true,
         "type": "scatter",
         "x": [
          0,
          0
         ],
         "xaxis": "x",
         "y": [
          0,
          0
         ],
         "yaxis": "y"
        },
        {
         "customdata": [
          [
           8
          ],
          [
           9
          ],
          [
           9
          ],
          [
           9
          ],
          [
           6
          ],
          [
           9
          ],
          [
           9
          ],
          [
           9
          ],
          [
           5
          ],
          [
           2
          ],
          [
           3
          ],
          [
           8
          ],
          [
           9
          ],
          [
           8
          ],
          [
           8
          ],
          [
           7
          ],
          [
           9
          ],
          [
           6
          ],
          [
           9
          ],
          [
           9
          ],
          [
           8
          ],
          [
           9
          ],
          [
           9
          ],
          [
           9
          ],
          [
           8
          ],
          [
           8
          ],
          [
           9
          ],
          [
           9
          ],
          [
           9
          ]
         ],
         "hovertemplate": "<b>%{hovertext}</b><br><br>Camera=Thu 2022.05.19 23:08<br>x=%{x}<br>y=%{y}<br>Active beam captures=%{customdata[0]}<extra></extra>",
         "hovertext": [
          "Laser 1",
          "Laser 2",
          "Laser 3",
          "Laser 4",
          "Laser 5",
          "Laser 12",
          "Laser 7",
          "Laser 8",
          "Laser 10",
          "Laser 11",
          "Laser 13",
          "Laser 14",
          "Laser 16",
          "Laser 17",
          "Laser 18",
          "Laser 19",
          "Laser 22",
          "Laser 25",
          "Laser 26",
          "Laser 28",
          "Laser 30",
          "Laser 31",
          "Laser 32",
          "Laser 34",
          "Laser 35",
          "Laser 37",
          "Laser 38",
          "Laser 33",
          "Laser 40"
         ],
         "legendgroup": "Thu 2022.05.19 23:08",
         "marker": {
          "color": "#EF553B",
          "symbol": "circle"
         },
         "mode": "markers",
         "name": "Thu 2022.05.19 23:08",
         "orientation": "v",
         "showlegend": true,
         "type": "scatter",
         "x": [
          17678.08984375,
          21610.466796875,
          25280.798828125,
          29591.693359375,
          43643.9375,
          58508.375,
          102399.8359375,
          230142.8125,
          -57962.46484375,
          -34042.796875,
          -15083.265625,
          5850.77734375,
          123661.40625,
          -134065.96875,
          -39875.46484375,
          -26068.240234375,
          -11645.705078125,
          -6064.59326171875,
          -3145.77978515625,
          -1718.919677734375,
          1667.035400390625,
          2976.14404296875,
          4184.05419921875,
          6068.9873046875,
          6677.1767578125,
          8508.9658203125,
          9321.2744140625,
          10587.25390625,
          12424.49609375
         ],
         "xaxis": "x",
         "y": [
          12812.60546875,
          12562.2734375,
          12309.80859375,
          11719.92578125,
          9906.2763671875,
          8045.68994140625,
          761.0287475585938,
          -23095.23046875,
          28681.205078125,
          24117.279296875,
          25763.31640625,
          30346.15234375,
          114021.8359375,
          -67553.3828125,
          -8651.9951171875,
          -1219.2662353515625,
          7954.1552734375,
          10379.9287109375,
          11018.8701171875,
          11408.0263671875,
          11960.958984375,
          12113.2763671875,
          12342.1494140625,
          12540.271484375,
          12628.466796875,
          12747.2861328125,
          12782.822265625,
          12827.076171875,
          12860.5302734375
         ],
         "yaxis": "y"
        },
        {
         "customdata": [
          [
           8
          ],
          [
           8
          ],
          [
           9
          ],
          [
           9
          ],
          [
           9
          ],
          [
           7
          ],
          [
           9
          ],
          [
           8
          ],
          [
           9
          ],
          [
           9
          ],
          [
           7
          ],
          [
           9
          ],
          [
           9
          ],
          [
           8
          ],
          [
           9
          ],
          [
           9
          ],
          [
           9
          ],
          [
           9
          ],
          [
           9
          ],
          [
           9
          ],
          [
           8
          ],
          [
           9
          ],
          [
           8
          ],
          [
           9
          ],
          [
           9
          ],
          [
           8
          ],
          [
           7
          ],
          [
           9
          ]
         ],
         "hovertemplate": "<b>%{hovertext}</b><br><br>Camera=Thu 2022.05.19 23:55<br>x=%{x}<br>y=%{y}<br>Active beam captures=%{customdata[0]}<extra></extra>",
         "hovertext": [
          "Laser 1",
          "Laser 2",
          "Laser 3",
          "Laser 4",
          "Laser 5",
          "Laser 12",
          "Laser 7",
          "Laser 8",
          "Laser 10",
          "Laser 11",
          "Laser 13",
          "Laser 14",
          "Laser 15",
          "Laser 16",
          "Laser 17",
          "Laser 18",
          "Laser 26",
          "Laser 28",
          "Laser 29",
          "Laser 30",
          "Laser 31",
          "Laser 32",
          "Laser 34",
          "Laser 35",
          "Laser 36",
          "Laser 37",
          "Laser 38",
          "Laser 33"
         ],
         "legendgroup": "Thu 2022.05.19 23:55",
         "marker": {
          "color": "#00cc96",
          "symbol": "circle"
         },
         "mode": "markers",
         "name": "Thu 2022.05.19 23:55",
         "orientation": "v",
         "showlegend": true,
         "type": "scatter",
         "x": [
          -5659.33740234375,
          -11828.404296875,
          -14712.9365234375,
          -16593.310546875,
          -15762.052734375,
          -14220.2353515625,
          -12023.1181640625,
          -10699.958984375,
          -8112.66943359375,
          -7417.11083984375,
          -4256.1298828125,
          -1724.42236328125,
          -607.5933837890625,
          401.9149169921875,
          1378.8446044921875,
          2267.80224609375,
          10605.630859375,
          11520.8125,
          12319.728515625,
          15367.6455078125,
          17878.921875,
          21949.970703125,
          28087.365234375,
          28228.189453125,
          26749.455078125,
          24756.35546875,
          21885.09765625,
          19077.45703125
         ],
         "xaxis": "x",
         "y": [
          3640.194091796875,
          5112.0791015625,
          5681.3720703125,
          5800.92822265625,
          7030.474609375,
          7757.14208984375,
          8355.7109375,
          8614.9365234375,
          9316.5927734375,
          9541.453125,
          9912.6962890625,
          10203.1513671875,
          10216.0751953125,
          10192.392578125,
          10297.7119140625,
          10313.6953125,
          10081.8330078125,
          10037.4658203125,
          9934.5166015625,
          9439.5654296875,
          8935.71484375,
          8313.3916015625,
          6781.88427734375,
          6582.71728515625,
          6337.56689453125,
          5948.6904296875,
          5841.14697265625,
          5137.58447265625
         ],
         "yaxis": "y"
        },
        {
         "customdata": [
          [
           4
          ],
          [
           7
          ],
          [
           5
          ],
          [
           9
          ],
          [
           8
          ],
          [
           9
          ],
          [
           9
          ],
          [
           9
          ],
          [
           9
          ],
          [
           8
          ],
          [
           9
          ],
          [
           9
          ],
          [
           9
          ],
          [
           8
          ],
          [
           3
          ],
          [
           4
          ],
          [
           6
          ],
          [
           5
          ],
          [
           7
          ],
          [
           7
          ],
          [
           8
          ],
          [
           8
          ],
          [
           7
          ]
         ],
         "hovertemplate": "<b>%{hovertext}</b><br><br>Camera=Fri 2022.05.20 00:41<br>x=%{x}<br>y=%{y}<br>Active beam captures=%{customdata[0]}<extra></extra>",
         "hovertext": [
          "Laser 1",
          "Laser 2",
          "Laser 4",
          "Laser 8",
          "Laser 10",
          "Laser 11",
          "Laser 13",
          "Laser 14",
          "Laser 15",
          "Laser 16",
          "Laser 17",
          "Laser 18",
          "Laser 19",
          "Laser 22",
          "Laser 25",
          "Laser 26",
          "Laser 29",
          "Laser 31",
          "Laser 32",
          "Laser 34",
          "Laser 36",
          "Laser 37",
          "Laser 38"
         ],
         "legendgroup": "Fri 2022.05.20 00:41",
         "marker": {
          "color": "#ab63fa",
          "symbol": "circle"
         },
         "mode": "markers",
         "name": "Fri 2022.05.20 00:41",
         "orientation": "v",
         "showlegend": true,
         "type": "scatter",
         "x": [
          -16481.693359375,
          -34293.60546875,
          -49178.265625,
          -60544.51953125,
          -62275.80078125,
          -64344.296875,
          -53271.1015625,
          -41346.99609375,
          -32605.177734375,
          -24112.880859375,
          -18096.669921875,
          -11215.435546875,
          -5853.08544921875,
          16929.109375,
          39081.125,
          46676.13671875,
          55214.5859375,
          62305.4609375,
          67335.703125,
          65151.93359375,
          58584.24609375,
          50879.84375,
          43718.875
         ],
         "xaxis": "x",
         "y": [
          -82019.515625,
          -73483.1171875,
          -58559.8984375,
          -14056.037109375,
          3134.725830078125,
          8892.974609375,
          23804.1796875,
          37744.203125,
          40574.8203125,
          42693.6640625,
          47456.3203125,
          48170.54296875,
          46110.20703125,
          46513.26171875,
          41620.49609375,
          31158.517578125,
          20739.515625,
          -7524.9130859375,
          -20343.5703125,
          -38796.69921875,
          -53850.57421875,
          -57474.79296875,
          -61434.6171875
         ],
         "yaxis": "y"
        },
        {
         "customdata": [
          [
           8
          ],
          [
           8
          ],
          [
           6
          ],
          [
           9
          ],
          [
           9
          ],
          [
           8
          ],
          [
           9
          ],
          [
           8
          ],
          [
           8
          ],
          [
           9
          ],
          [
           7
          ],
          [
           6
          ],
          [
           5
          ],
          [
           8
          ],
          [
           7
          ],
          [
           8
          ],
          [
           8
          ],
          [
           8
          ],
          [
           8
          ],
          [
           7
          ],
          [
           9
          ],
          [
           9
          ],
          [
           9
          ],
          [
           9
          ]
         ],
         "hovertemplate": "<b>%{hovertext}</b><br><br>Camera=Fri 2022.05.20 01:22<br>x=%{x}<br>y=%{y}<br>Active beam captures=%{customdata[0]}<extra></extra>",
         "hovertext": [
          "Laser 2",
          "Laser 4",
          "Laser 8",
          "Laser 10",
          "Laser 14",
          "Laser 15",
          "Laser 16",
          "Laser 17",
          "Laser 18",
          "Laser 19",
          "Laser 22",
          "Laser 25",
          "Laser 26",
          "Laser 28",
          "Laser 29",
          "Laser 30",
          "Laser 31",
          "Laser 32",
          "Laser 34",
          "Laser 35",
          "Laser 36",
          "Laser 37",
          "Laser 33",
          "Laser 40"
         ],
         "legendgroup": "Fri 2022.05.20 01:22",
         "marker": {
          "color": "#FFA15A",
          "symbol": "circle"
         },
         "mode": "markers",
         "name": "Fri 2022.05.20 01:22",
         "orientation": "v",
         "showlegend": true,
         "type": "scatter",
         "x": [
          12863.2578125,
          16899.822265625,
          31215.595703125,
          44825.3984375,
          202218.765625,
          352885.875,
          -860989.4375,
          -110383.0546875,
          -87789.7578125,
          -171796.5,
          -84150.421875,
          -45704.82421875,
          -28412.328125,
          -23222.111328125,
          -20081.80078125,
          -13604.6005859375,
          -10784.517578125,
          -8831.607421875,
          -5364.228515625,
          -4212.39990234375,
          -2282.971923828125,
          -820.3121948242188,
          2361.6865234375,
          4617.8349609375
         ],
         "xaxis": "x",
         "y": [
          21701.763671875,
          21324.505859375,
          18903.740234375,
          16506,
          -40149.7265625,
          -129129.0703125,
          578194.4375,
          126313.3203125,
          161188.8125,
          525077,
          -80446.3671875,
          -4404.38525390625,
          7377.333984375,
          11200.1396484375,
          12951.86328125,
          16012.42578125,
          17073.66796875,
          18220.98046875,
          19301.4453125,
          19714.365234375,
          20245.19140625,
          20433.287109375,
          20966.56640625,
          21273.259765625
         ],
         "yaxis": "y"
        }
       ],
       "layout": {
        "legend": {
         "title": {
          "text": "Camera"
         },
         "tracegroupgap": 0
        },
        "margin": {
         "t": 60
        },
        "template": {
         "data": {
          "bar": [
           {
            "error_x": {
             "color": "#2a3f5f"
            },
            "error_y": {
             "color": "#2a3f5f"
            },
            "marker": {
             "line": {
              "color": "#E5ECF6",
              "width": 0.5
             },
             "pattern": {
              "fillmode": "overlay",
              "size": 10,
              "solidity": 0.2
             }
            },
            "type": "bar"
           }
          ],
          "barpolar": [
           {
            "marker": {
             "line": {
              "color": "#E5ECF6",
              "width": 0.5
             },
             "pattern": {
              "fillmode": "overlay",
              "size": 10,
              "solidity": 0.2
             }
            },
            "type": "barpolar"
           }
          ],
          "carpet": [
           {
            "aaxis": {
             "endlinecolor": "#2a3f5f",
             "gridcolor": "white",
             "linecolor": "white",
             "minorgridcolor": "white",
             "startlinecolor": "#2a3f5f"
            },
            "baxis": {
             "endlinecolor": "#2a3f5f",
             "gridcolor": "white",
             "linecolor": "white",
             "minorgridcolor": "white",
             "startlinecolor": "#2a3f5f"
            },
            "type": "carpet"
           }
          ],
          "choropleth": [
           {
            "colorbar": {
             "outlinewidth": 0,
             "ticks": ""
            },
            "type": "choropleth"
           }
          ],
          "contour": [
           {
            "colorbar": {
             "outlinewidth": 0,
             "ticks": ""
            },
            "colorscale": [
             [
              0,
              "#0d0887"
             ],
             [
              0.1111111111111111,
              "#46039f"
             ],
             [
              0.2222222222222222,
              "#7201a8"
             ],
             [
              0.3333333333333333,
              "#9c179e"
             ],
             [
              0.4444444444444444,
              "#bd3786"
             ],
             [
              0.5555555555555556,
              "#d8576b"
             ],
             [
              0.6666666666666666,
              "#ed7953"
             ],
             [
              0.7777777777777778,
              "#fb9f3a"
             ],
             [
              0.8888888888888888,
              "#fdca26"
             ],
             [
              1,
              "#f0f921"
             ]
            ],
            "type": "contour"
           }
          ],
          "contourcarpet": [
           {
            "colorbar": {
             "outlinewidth": 0,
             "ticks": ""
            },
            "type": "contourcarpet"
           }
          ],
          "heatmap": [
           {
            "colorbar": {
             "outlinewidth": 0,
             "ticks": ""
            },
            "colorscale": [
             [
              0,
              "#0d0887"
             ],
             [
              0.1111111111111111,
              "#46039f"
             ],
             [
              0.2222222222222222,
              "#7201a8"
             ],
             [
              0.3333333333333333,
              "#9c179e"
             ],
             [
              0.4444444444444444,
              "#bd3786"
             ],
             [
              0.5555555555555556,
              "#d8576b"
             ],
             [
              0.6666666666666666,
              "#ed7953"
             ],
             [
              0.7777777777777778,
              "#fb9f3a"
             ],
             [
              0.8888888888888888,
              "#fdca26"
             ],
             [
              1,
              "#f0f921"
             ]
            ],
            "type": "heatmap"
           }
          ],
          "heatmapgl": [
           {
            "colorbar": {
             "outlinewidth": 0,
             "ticks": ""
            },
            "colorscale": [
             [
              0,
              "#0d0887"
             ],
             [
              0.1111111111111111,
              "#46039f"
             ],
             [
              0.2222222222222222,
              "#7201a8"
             ],
             [
              0.3333333333333333,
              "#9c179e"
             ],
             [
              0.4444444444444444,
              "#bd3786"
             ],
             [
              0.5555555555555556,
              "#d8576b"
             ],
             [
              0.6666666666666666,
              "#ed7953"
             ],
             [
              0.7777777777777778,
              "#fb9f3a"
             ],
             [
              0.8888888888888888,
              "#fdca26"
             ],
             [
              1,
              "#f0f921"
             ]
            ],
            "type": "heatmapgl"
           }
          ],
          "histogram": [
           {
            "marker": {
             "pattern": {
              "fillmode": "overlay",
              "size": 10,
              "solidity": 0.2
             }
            },
            "type": "histogram"
           }
          ],
          "histogram2d": [
           {
            "colorbar": {
             "outlinewidth": 0,
             "ticks": ""
            },
            "colorscale": [
             [
              0,
              "#0d0887"
             ],
             [
              0.1111111111111111,
              "#46039f"
             ],
             [
              0.2222222222222222,
              "#7201a8"
             ],
             [
              0.3333333333333333,
              "#9c179e"
             ],
             [
              0.4444444444444444,
              "#bd3786"
             ],
             [
              0.5555555555555556,
              "#d8576b"
             ],
             [
              0.6666666666666666,
              "#ed7953"
             ],
             [
              0.7777777777777778,
              "#fb9f3a"
             ],
             [
              0.8888888888888888,
              "#fdca26"
             ],
             [
              1,
              "#f0f921"
             ]
            ],
            "type": "histogram2d"
           }
          ],
          "histogram2dcontour": [
           {
            "colorbar": {
             "outlinewidth": 0,
             "ticks": ""
            },
            "colorscale": [
             [
              0,
              "#0d0887"
             ],
             [
              0.1111111111111111,
              "#46039f"
             ],
             [
              0.2222222222222222,
              "#7201a8"
             ],
             [
              0.3333333333333333,
              "#9c179e"
             ],
             [
              0.4444444444444444,
              "#bd3786"
             ],
             [
              0.5555555555555556,
              "#d8576b"
             ],
             [
              0.6666666666666666,
              "#ed7953"
             ],
             [
              0.7777777777777778,
              "#fb9f3a"
             ],
             [
              0.8888888888888888,
              "#fdca26"
             ],
             [
              1,
              "#f0f921"
             ]
            ],
            "type": "histogram2dcontour"
           }
          ],
          "mesh3d": [
           {
            "colorbar": {
             "outlinewidth": 0,
             "ticks": ""
            },
            "type": "mesh3d"
           }
          ],
          "parcoords": [
           {
            "line": {
             "colorbar": {
              "outlinewidth": 0,
              "ticks": ""
             }
            },
            "type": "parcoords"
           }
          ],
          "pie": [
           {
            "automargin": true,
            "type": "pie"
           }
          ],
          "scatter": [
           {
            "fillpattern": {
             "fillmode": "overlay",
             "size": 10,
             "solidity": 0.2
            },
            "type": "scatter"
           }
          ],
          "scatter3d": [
           {
            "line": {
             "colorbar": {
              "outlinewidth": 0,
              "ticks": ""
             }
            },
            "marker": {
             "colorbar": {
              "outlinewidth": 0,
              "ticks": ""
             }
            },
            "type": "scatter3d"
           }
          ],
          "scattercarpet": [
           {
            "marker": {
             "colorbar": {
              "outlinewidth": 0,
              "ticks": ""
             }
            },
            "type": "scattercarpet"
           }
          ],
          "scattergeo": [
           {
            "marker": {
             "colorbar": {
              "outlinewidth": 0,
              "ticks": ""
             }
            },
            "type": "scattergeo"
           }
          ],
          "scattergl": [
           {
            "marker": {
             "colorbar": {
              "outlinewidth": 0,
              "ticks": ""
             }
            },
            "type": "scattergl"
           }
          ],
          "scattermapbox": [
           {
            "marker": {
             "colorbar": {
              "outlinewidth": 0,
              "ticks": ""
             }
            },
            "type": "scattermapbox"
           }
          ],
          "scatterpolar": [
           {
            "marker": {
             "colorbar": {
              "outlinewidth": 0,
              "ticks": ""
             }
            },
            "type": "scatterpolar"
           }
          ],
          "scatterpolargl": [
           {
            "marker": {
             "colorbar": {
              "outlinewidth": 0,
              "ticks": ""
             }
            },
            "type": "scatterpolargl"
           }
          ],
          "scatterternary": [
           {
            "marker": {
             "colorbar": {
              "outlinewidth": 0,
              "ticks": ""
             }
            },
            "type": "scatterternary"
           }
          ],
          "surface": [
           {
            "colorbar": {
             "outlinewidth": 0,
             "ticks": ""
            },
            "colorscale": [
             [
              0,
              "#0d0887"
             ],
             [
              0.1111111111111111,
              "#46039f"
             ],
             [
              0.2222222222222222,
              "#7201a8"
             ],
             [
              0.3333333333333333,
              "#9c179e"
             ],
             [
              0.4444444444444444,
              "#bd3786"
             ],
             [
              0.5555555555555556,
              "#d8576b"
             ],
             [
              0.6666666666666666,
              "#ed7953"
             ],
             [
              0.7777777777777778,
              "#fb9f3a"
             ],
             [
              0.8888888888888888,
              "#fdca26"
             ],
             [
              1,
              "#f0f921"
             ]
            ],
            "type": "surface"
           }
          ],
          "table": [
           {
            "cells": {
             "fill": {
              "color": "#EBF0F8"
             },
             "line": {
              "color": "white"
             }
            },
            "header": {
             "fill": {
              "color": "#C8D4E3"
             },
             "line": {
              "color": "white"
             }
            },
            "type": "table"
           }
          ]
         },
         "layout": {
          "annotationdefaults": {
           "arrowcolor": "#2a3f5f",
           "arrowhead": 0,
           "arrowwidth": 1
          },
          "autotypenumbers": "strict",
          "coloraxis": {
           "colorbar": {
            "outlinewidth": 0,
            "ticks": ""
           }
          },
          "colorscale": {
           "diverging": [
            [
             0,
             "#8e0152"
            ],
            [
             0.1,
             "#c51b7d"
            ],
            [
             0.2,
             "#de77ae"
            ],
            [
             0.3,
             "#f1b6da"
            ],
            [
             0.4,
             "#fde0ef"
            ],
            [
             0.5,
             "#f7f7f7"
            ],
            [
             0.6,
             "#e6f5d0"
            ],
            [
             0.7,
             "#b8e186"
            ],
            [
             0.8,
             "#7fbc41"
            ],
            [
             0.9,
             "#4d9221"
            ],
            [
             1,
             "#276419"
            ]
           ],
           "sequential": [
            [
             0,
             "#0d0887"
            ],
            [
             0.1111111111111111,
             "#46039f"
            ],
            [
             0.2222222222222222,
             "#7201a8"
            ],
            [
             0.3333333333333333,
             "#9c179e"
            ],
            [
             0.4444444444444444,
             "#bd3786"
            ],
            [
             0.5555555555555556,
             "#d8576b"
            ],
            [
             0.6666666666666666,
             "#ed7953"
            ],
            [
             0.7777777777777778,
             "#fb9f3a"
            ],
            [
             0.8888888888888888,
             "#fdca26"
            ],
            [
             1,
             "#f0f921"
            ]
           ],
           "sequentialminus": [
            [
             0,
             "#0d0887"
            ],
            [
             0.1111111111111111,
             "#46039f"
            ],
            [
             0.2222222222222222,
             "#7201a8"
            ],
            [
             0.3333333333333333,
             "#9c179e"
            ],
            [
             0.4444444444444444,
             "#bd3786"
            ],
            [
             0.5555555555555556,
             "#d8576b"
            ],
            [
             0.6666666666666666,
             "#ed7953"
            ],
            [
             0.7777777777777778,
             "#fb9f3a"
            ],
            [
             0.8888888888888888,
             "#fdca26"
            ],
            [
             1,
             "#f0f921"
            ]
           ]
          },
          "colorway": [
           "#636efa",
           "#EF553B",
           "#00cc96",
           "#ab63fa",
           "#FFA15A",
           "#19d3f3",
           "#FF6692",
           "#B6E880",
           "#FF97FF",
           "#FECB52"
          ],
          "font": {
           "color": "#2a3f5f"
          },
          "geo": {
           "bgcolor": "white",
           "lakecolor": "white",
           "landcolor": "#E5ECF6",
           "showlakes": true,
           "showland": true,
           "subunitcolor": "white"
          },
          "hoverlabel": {
           "align": "left"
          },
          "hovermode": "closest",
          "mapbox": {
           "style": "light"
          },
          "paper_bgcolor": "white",
          "plot_bgcolor": "#E5ECF6",
          "polar": {
           "angularaxis": {
            "gridcolor": "white",
            "linecolor": "white",
            "ticks": ""
           },
           "bgcolor": "#E5ECF6",
           "radialaxis": {
            "gridcolor": "white",
            "linecolor": "white",
            "ticks": ""
           }
          },
          "scene": {
           "xaxis": {
            "backgroundcolor": "#E5ECF6",
            "gridcolor": "white",
            "gridwidth": 2,
            "linecolor": "white",
            "showbackground": true,
            "ticks": "",
            "zerolinecolor": "white"
           },
           "yaxis": {
            "backgroundcolor": "#E5ECF6",
            "gridcolor": "white",
            "gridwidth": 2,
            "linecolor": "white",
            "showbackground": true,
            "ticks": "",
            "zerolinecolor": "white"
           },
           "zaxis": {
            "backgroundcolor": "#E5ECF6",
            "gridcolor": "white",
            "gridwidth": 2,
            "linecolor": "white",
            "showbackground": true,
            "ticks": "",
            "zerolinecolor": "white"
           }
          },
          "shapedefaults": {
           "line": {
            "color": "#2a3f5f"
           }
          },
          "ternary": {
           "aaxis": {
            "gridcolor": "white",
            "linecolor": "white",
            "ticks": ""
           },
           "baxis": {
            "gridcolor": "white",
            "linecolor": "white",
            "ticks": ""
           },
           "bgcolor": "#E5ECF6",
           "caxis": {
            "gridcolor": "white",
            "linecolor": "white",
            "ticks": ""
           }
          },
          "title": {
           "x": 0.05
          },
          "xaxis": {
           "automargin": true,
           "gridcolor": "white",
           "linecolor": "white",
           "ticks": "",
           "title": {
            "standoff": 15
           },
           "zerolinecolor": "white",
           "zerolinewidth": 2
          },
          "yaxis": {
           "automargin": true,
           "gridcolor": "white",
           "linecolor": "white",
           "ticks": "",
           "title": {
            "standoff": 15
           },
           "zerolinecolor": "white",
           "zerolinewidth": 2
          }
         }
        },
        "xaxis": {
         "anchor": "y",
         "domain": [
          0,
          1
         ],
         "title": {
          "text": "x"
         }
        },
        "yaxis": {
         "anchor": "x",
         "autorange": "reversed",
         "domain": [
          0,
          1
         ],
         "title": {
          "text": "y"
         }
        }
       }
      }
     },
     "metadata": {},
     "output_type": "display_data"
    }
   ],
   "source": [
    "fig = px.scatter(data_points\n",
    "\t, x='x'\n",
    "\t, y='y'\n",
    "\t, hover_name='Laser'\n",
    "\t, hover_data=['Active beam captures']\n",
    "\t, color='Camera')\n",
    "fig.update_yaxes(autorange=\"reversed\")\n",
    "fig.show()"
   ]
  },
  {
   "cell_type": "code",
   "execution_count": 294,
   "metadata": {},
   "outputs": [
    {
     "name": "stdout",
     "output_type": "stream",
     "text": [
      "{'Camera': 'Thu 2022.05.19 22:16', 'x': 0.0, 'y': 0.0, 'Laser': 'Laser 1', 'residual': 0, 'Active beam captures': 9}\n",
      "{'Camera': 'Thu 2022.05.19 22:16', 'x': 0.0, 'y': 0.0, 'Laser': 'Laser 2', 'residual': 0, 'Active beam captures': 9}\n"
     ]
    }
   ],
   "source": [
    "for data_point in data_points:\n",
    "\tif data_point['x'] == 0:\n",
    "\t\tprint(data_point)"
   ]
  },
  {
   "cell_type": "code",
   "execution_count": 295,
   "metadata": {},
   "outputs": [
    {
     "data": {
      "text/plain": [
       "'Thu 2022.05.19'"
      ]
     },
     "execution_count": 295,
     "metadata": {},
     "output_type": "execute_result"
    }
   ],
   "source": [
    "calibrate_node['Content']['cameraCaptures']['captures'][0]['date']"
   ]
  },
  {
   "cell_type": "markdown",
   "metadata": {},
   "source": [
    "# Figure 3\n",
    "\n",
    "Two figures below show where most of the errors are.\n",
    "\n",
    "Generally we use the `Prune/Beam captures by residual` function on the Calibrate node (e.g. with a value of 1000px)."
   ]
  },
  {
   "cell_type": "code",
   "execution_count": 296,
   "metadata": {},
   "outputs": [
    {
     "data": {
      "application/vnd.plotly.v1+json": {
       "config": {
        "plotlyServerURL": "https://plot.ly"
       },
       "data": [
        {
         "alignmentgroup": "True",
         "customdata": [
          [
           0,
           -0.5,
           -0.5
          ],
          [
           1,
           0,
           -0.5
          ],
          [
           2,
           0.5,
           -0.5
          ],
          [
           3,
           -0.5,
           0
          ],
          [
           4,
           0,
           0
          ],
          [
           5,
           0.5,
           0
          ],
          [
           6,
           -0.5,
           0.5
          ],
          [
           7,
           0,
           0.5
          ],
          [
           8,
           0.5,
           0.5
          ],
          [
           0,
           -0.5,
           -0.5
          ],
          [
           1,
           0,
           -0.5
          ],
          [
           2,
           0.5,
           -0.5
          ],
          [
           3,
           -0.5,
           0
          ],
          [
           4,
           0,
           0
          ],
          [
           5,
           0.5,
           0
          ],
          [
           6,
           -0.5,
           0.5
          ],
          [
           7,
           0,
           0.5
          ],
          [
           8,
           0.5,
           0.5
          ],
          [
           0,
           -0.5,
           -0.5
          ],
          [
           1,
           0,
           -0.5
          ],
          [
           2,
           0.5,
           -0.5
          ],
          [
           3,
           -0.5,
           0
          ],
          [
           4,
           0.5,
           0
          ],
          [
           5,
           -0.5,
           0.5
          ],
          [
           6,
           0,
           0.5
          ],
          [
           7,
           0.5,
           0.5
          ],
          [
           0,
           -0.5,
           -0.5
          ],
          [
           1,
           0,
           -0.5
          ],
          [
           2,
           0.5,
           -0.5
          ],
          [
           3,
           -0.5,
           0
          ],
          [
           4,
           0,
           0
          ],
          [
           5,
           0.5,
           0
          ],
          [
           6,
           -0.5,
           0.5
          ],
          [
           7,
           0,
           0.5
          ],
          [
           8,
           0.5,
           0.5
          ],
          [
           0,
           -0.5,
           -0.5
          ],
          [
           1,
           0,
           -0.5
          ],
          [
           2,
           0.5,
           -0.5
          ],
          [
           3,
           -0.5,
           0
          ],
          [
           4,
           0,
           0
          ],
          [
           5,
           0.5,
           0
          ],
          [
           6,
           -0.5,
           0.5
          ],
          [
           7,
           0,
           0.5
          ],
          [
           8,
           0.5,
           0.5
          ],
          [
           0,
           -0.5,
           -0.5
          ],
          [
           1,
           0,
           -0.5
          ],
          [
           2,
           0.5,
           -0.5
          ],
          [
           3,
           -0.5,
           0
          ],
          [
           4,
           0,
           0
          ],
          [
           5,
           0.5,
           0
          ],
          [
           6,
           -0.5,
           0.5
          ],
          [
           7,
           0,
           0.5
          ],
          [
           8,
           0.5,
           0.5
          ],
          [
           0,
           -0.5,
           -0.5
          ],
          [
           1,
           0,
           -0.5
          ],
          [
           2,
           0.5,
           -0.5
          ],
          [
           3,
           0,
           0
          ],
          [
           4,
           0.5,
           0
          ],
          [
           5,
           0.5,
           0.5
          ],
          [
           0,
           -0.5,
           -0.5
          ],
          [
           1,
           0,
           -0.5
          ],
          [
           2,
           0.5,
           -0.5
          ],
          [
           3,
           -0.5,
           0
          ],
          [
           4,
           0,
           0
          ],
          [
           5,
           0.5,
           0
          ],
          [
           6,
           -0.5,
           0.5
          ],
          [
           7,
           0,
           0.5
          ],
          [
           8,
           0.5,
           0.5
          ],
          [
           0,
           -0.5,
           -0.5
          ],
          [
           1,
           0,
           -0.5
          ],
          [
           2,
           0.5,
           -0.5
          ],
          [
           3,
           -0.5,
           0
          ],
          [
           4,
           0,
           0
          ],
          [
           5,
           0.5,
           0
          ],
          [
           6,
           -0.5,
           0.5
          ],
          [
           7,
           0,
           0.5
          ],
          [
           8,
           0.5,
           0.5
          ],
          [
           0,
           -0.5,
           -0.5
          ],
          [
           1,
           0,
           -0.5
          ],
          [
           2,
           0.5,
           -0.5
          ],
          [
           3,
           -0.5,
           0
          ],
          [
           4,
           0,
           0
          ],
          [
           5,
           0.5,
           0
          ],
          [
           6,
           -0.5,
           0.5
          ],
          [
           7,
           0,
           0.5
          ],
          [
           8,
           0.5,
           0.5
          ],
          [
           0,
           -0.5,
           -0.5
          ],
          [
           1,
           0,
           -0.5
          ],
          [
           2,
           0,
           0
          ],
          [
           3,
           0.5,
           0
          ],
          [
           4,
           0.5,
           0.5
          ],
          [
           0,
           -0.5,
           -0.5
          ],
          [
           1,
           0.5,
           0.5
          ],
          [
           0,
           -0.5,
           -0.5
          ],
          [
           1,
           0,
           0
          ],
          [
           2,
           0.5,
           0.5
          ],
          [
           0,
           -0.5,
           -0.5
          ],
          [
           1,
           0,
           -0.5
          ],
          [
           2,
           -0.5,
           0
          ],
          [
           3,
           0,
           0
          ],
          [
           4,
           0.5,
           0
          ],
          [
           5,
           -0.5,
           0.5
          ],
          [
           6,
           0,
           0.5
          ],
          [
           7,
           0.5,
           0.5
          ],
          [
           0,
           -0.5,
           -0.5
          ],
          [
           1,
           0,
           -0.5
          ],
          [
           2,
           0.5,
           -0.5
          ],
          [
           3,
           -0.5,
           0
          ],
          [
           4,
           0,
           0
          ],
          [
           5,
           0.5,
           0
          ],
          [
           6,
           -0.5,
           0.5
          ],
          [
           7,
           0,
           0.5
          ],
          [
           8,
           0.5,
           0.5
          ],
          [
           0,
           -0.5,
           -0.5
          ],
          [
           1,
           0,
           -0.5
          ],
          [
           2,
           0.5,
           -0.5
          ],
          [
           3,
           -0.5,
           0
          ],
          [
           4,
           0,
           0
          ],
          [
           5,
           0.5,
           0
          ],
          [
           6,
           0,
           0.5
          ],
          [
           7,
           0.5,
           0.5
          ],
          [
           0,
           -0.5,
           -0.5
          ],
          [
           1,
           0,
           -0.5
          ],
          [
           2,
           0.5,
           -0.5
          ],
          [
           3,
           -0.5,
           0
          ],
          [
           4,
           0,
           0
          ],
          [
           5,
           0.5,
           0
          ],
          [
           6,
           -0.5,
           0.5
          ],
          [
           7,
           0,
           0.5
          ],
          [
           0,
           -0.5,
           -0.5
          ],
          [
           1,
           0,
           -0.5
          ],
          [
           2,
           0.5,
           -0.5
          ],
          [
           3,
           0,
           0
          ],
          [
           4,
           0.5,
           0
          ],
          [
           5,
           -0.5,
           0.5
          ],
          [
           6,
           0,
           0.5
          ],
          [
           0,
           -0.5,
           -0.5
          ],
          [
           1,
           0,
           -0.5
          ],
          [
           2,
           0.5,
           -0.5
          ],
          [
           3,
           -0.5,
           0
          ],
          [
           4,
           0,
           0
          ],
          [
           5,
           0.5,
           0
          ],
          [
           6,
           -0.5,
           0.5
          ],
          [
           7,
           0,
           0.5
          ],
          [
           8,
           0.5,
           0.5
          ],
          [
           0,
           0,
           -0.5
          ],
          [
           1,
           0.5,
           -0.5
          ],
          [
           2,
           0,
           0
          ],
          [
           3,
           0.5,
           0
          ],
          [
           4,
           0,
           0.5
          ],
          [
           5,
           0.5,
           0.5
          ],
          [
           0,
           -0.5,
           -0.5
          ],
          [
           1,
           0,
           -0.5
          ],
          [
           2,
           0.5,
           -0.5
          ],
          [
           3,
           -0.5,
           0
          ],
          [
           4,
           0,
           0
          ],
          [
           5,
           0.5,
           0
          ],
          [
           6,
           -0.5,
           0.5
          ],
          [
           7,
           0,
           0.5
          ],
          [
           8,
           0.5,
           0.5
          ],
          [
           0,
           -0.5,
           -0.5
          ],
          [
           1,
           0,
           -0.5
          ],
          [
           2,
           0.5,
           -0.5
          ],
          [
           3,
           -0.5,
           0
          ],
          [
           4,
           0,
           0
          ],
          [
           5,
           0.5,
           0
          ],
          [
           6,
           -0.5,
           0.5
          ],
          [
           7,
           0,
           0.5
          ],
          [
           8,
           0.5,
           0.5
          ],
          [
           0,
           -0.5,
           -0.5
          ],
          [
           1,
           0,
           -0.5
          ],
          [
           2,
           0.5,
           -0.5
          ],
          [
           3,
           -0.5,
           0
          ],
          [
           4,
           0.5,
           0
          ],
          [
           5,
           -0.5,
           0.5
          ],
          [
           6,
           0,
           0.5
          ],
          [
           7,
           0.5,
           0.5
          ],
          [
           0,
           -0.5,
           -0.5
          ],
          [
           1,
           0,
           -0.5
          ],
          [
           2,
           0.5,
           -0.5
          ],
          [
           3,
           -0.5,
           0
          ],
          [
           4,
           0,
           0
          ],
          [
           5,
           0.5,
           0
          ],
          [
           6,
           -0.5,
           0.5
          ],
          [
           7,
           0,
           0.5
          ],
          [
           8,
           0.5,
           0.5
          ],
          [
           0,
           -0.5,
           -0.5
          ],
          [
           1,
           0,
           -0.5
          ],
          [
           2,
           0.5,
           -0.5
          ],
          [
           3,
           -0.5,
           0
          ],
          [
           4,
           0,
           0
          ],
          [
           5,
           0.5,
           0
          ],
          [
           6,
           -0.5,
           0.5
          ],
          [
           7,
           0,
           0.5
          ],
          [
           8,
           0.5,
           0.5
          ],
          [
           0,
           -0.5,
           -0.5
          ],
          [
           1,
           0,
           -0.5
          ],
          [
           2,
           0.5,
           -0.5
          ],
          [
           3,
           -0.5,
           0
          ],
          [
           4,
           0,
           0
          ],
          [
           5,
           0.5,
           0
          ],
          [
           6,
           -0.5,
           0.5
          ],
          [
           7,
           0,
           0.5
          ],
          [
           8,
           0.5,
           0.5
          ],
          [
           0,
           0,
           -0.5
          ],
          [
           1,
           0.5,
           -0.5
          ],
          [
           2,
           -0.5,
           0
          ],
          [
           3,
           0,
           0
          ],
          [
           4,
           0.5,
           0
          ],
          [
           5,
           -0.5,
           0.5
          ],
          [
           6,
           0,
           0.5
          ],
          [
           7,
           0.5,
           0.5
          ],
          [
           0,
           -0.5,
           -0.5
          ],
          [
           1,
           0,
           -0.5
          ],
          [
           2,
           0.5,
           -0.5
          ],
          [
           3,
           0,
           0
          ],
          [
           4,
           0.5,
           0
          ],
          [
           5,
           -0.5,
           0.5
          ],
          [
           6,
           0,
           0.5
          ],
          [
           7,
           0.5,
           0.5
          ],
          [
           0,
           -0.5,
           -0.5
          ],
          [
           1,
           0,
           -0.5
          ],
          [
           2,
           0.5,
           -0.5
          ],
          [
           3,
           -0.5,
           0
          ],
          [
           4,
           0,
           0
          ],
          [
           5,
           0.5,
           0
          ],
          [
           6,
           -0.5,
           0.5
          ],
          [
           7,
           0,
           0.5
          ],
          [
           8,
           0.5,
           0.5
          ],
          [
           0,
           -0.5,
           -0.5
          ],
          [
           1,
           0,
           -0.5
          ],
          [
           2,
           0.5,
           -0.5
          ],
          [
           3,
           -0.5,
           0
          ],
          [
           4,
           0,
           0
          ],
          [
           5,
           0.5,
           0
          ],
          [
           6,
           -0.5,
           0.5
          ],
          [
           7,
           0,
           0.5
          ],
          [
           8,
           0.5,
           0.5
          ],
          [
           0,
           -0.5,
           -0.5
          ],
          [
           1,
           0,
           -0.5
          ],
          [
           2,
           0.5,
           -0.5
          ],
          [
           3,
           -0.5,
           0
          ],
          [
           4,
           0,
           0
          ],
          [
           5,
           0.5,
           0
          ],
          [
           6,
           -0.5,
           0.5
          ],
          [
           7,
           0,
           0.5
          ],
          [
           8,
           0.5,
           0.5
          ],
          [
           0,
           -0.5,
           -0.5
          ],
          [
           1,
           0,
           -0.5
          ],
          [
           2,
           0.5,
           -0.5
          ],
          [
           3,
           -0.5,
           0
          ],
          [
           4,
           0,
           0
          ],
          [
           5,
           -0.5,
           0.5
          ],
          [
           6,
           0,
           0.5
          ],
          [
           7,
           0.5,
           0.5
          ],
          [
           0,
           -0.5,
           -0.5
          ],
          [
           1,
           0,
           -0.5
          ],
          [
           2,
           -0.5,
           0
          ],
          [
           3,
           0,
           0
          ],
          [
           4,
           0.5,
           0
          ],
          [
           5,
           -0.5,
           0.5
          ],
          [
           6,
           0,
           0.5
          ],
          [
           7,
           0.5,
           0.5
          ],
          [
           0,
           -0.5,
           -0.5
          ],
          [
           1,
           0,
           -0.5
          ],
          [
           2,
           0.5,
           -0.5
          ],
          [
           3,
           -0.5,
           0
          ],
          [
           4,
           0,
           0
          ],
          [
           5,
           0.5,
           0
          ],
          [
           6,
           -0.5,
           0.5
          ],
          [
           7,
           0,
           0.5
          ],
          [
           8,
           0.5,
           0.5
          ],
          [
           0,
           -0.5,
           -0.5
          ],
          [
           1,
           0,
           -0.5
          ],
          [
           2,
           0.5,
           -0.5
          ],
          [
           3,
           -0.5,
           0
          ],
          [
           4,
           0,
           0
          ],
          [
           5,
           0.5,
           0
          ],
          [
           6,
           -0.5,
           0.5
          ],
          [
           7,
           0,
           0.5
          ],
          [
           8,
           0.5,
           0.5
          ],
          [
           0,
           -0.5,
           -0.5
          ],
          [
           1,
           0,
           -0.5
          ],
          [
           2,
           0.5,
           -0.5
          ],
          [
           3,
           -0.5,
           0
          ],
          [
           4,
           0,
           0
          ],
          [
           5,
           0.5,
           0
          ],
          [
           6,
           -0.5,
           0.5
          ],
          [
           7,
           0,
           0.5
          ],
          [
           8,
           0.5,
           0.5
          ],
          [
           0,
           -0.5,
           -0.5
          ],
          [
           1,
           0.5,
           -0.5
          ],
          [
           2,
           -0.5,
           0
          ],
          [
           3,
           0.5,
           0
          ],
          [
           4,
           -0.5,
           0.5
          ],
          [
           5,
           0,
           0.5
          ],
          [
           6,
           0.5,
           0.5
          ],
          [
           0,
           -0.5,
           -0.5
          ],
          [
           1,
           0,
           -0.5
          ],
          [
           2,
           0.5,
           -0.5
          ],
          [
           3,
           -0.5,
           0
          ],
          [
           4,
           0,
           0
          ],
          [
           5,
           0.5,
           0
          ],
          [
           6,
           -0.5,
           0.5
          ],
          [
           7,
           0,
           0.5
          ],
          [
           8,
           0.5,
           0.5
          ],
          [
           0,
           -0.5,
           -0.5
          ],
          [
           1,
           0,
           -0.5
          ],
          [
           2,
           0.5,
           -0.5
          ],
          [
           3,
           -0.5,
           0
          ],
          [
           4,
           0.5,
           0
          ],
          [
           5,
           -0.5,
           0.5
          ],
          [
           6,
           0,
           0.5
          ],
          [
           7,
           0.5,
           0.5
          ],
          [
           0,
           -0.5,
           -0.5
          ],
          [
           1,
           0,
           -0.5
          ],
          [
           2,
           0.5,
           -0.5
          ],
          [
           3,
           -0.5,
           0
          ],
          [
           4,
           0,
           0
          ],
          [
           5,
           0.5,
           0
          ],
          [
           6,
           -0.5,
           0.5
          ],
          [
           7,
           0,
           0.5
          ],
          [
           8,
           0.5,
           0.5
          ],
          [
           0,
           -0.5,
           -0.5
          ],
          [
           1,
           0,
           -0.5
          ],
          [
           2,
           0.5,
           -0.5
          ],
          [
           3,
           -0.5,
           0
          ],
          [
           4,
           0,
           0
          ],
          [
           5,
           0.5,
           0
          ],
          [
           6,
           -0.5,
           0.5
          ],
          [
           7,
           0,
           0.5
          ],
          [
           8,
           0.5,
           0.5
          ],
          [
           0,
           -0.5,
           -0.5
          ],
          [
           1,
           0,
           -0.5
          ],
          [
           2,
           0.5,
           -0.5
          ],
          [
           3,
           -0.5,
           0
          ],
          [
           4,
           0,
           0
          ],
          [
           5,
           0.5,
           0
          ],
          [
           6,
           0.5,
           0.5
          ],
          [
           0,
           -0.5,
           -0.5
          ],
          [
           1,
           0,
           -0.5
          ],
          [
           2,
           0.5,
           -0.5
          ],
          [
           3,
           -0.5,
           0
          ],
          [
           4,
           0,
           0
          ],
          [
           5,
           0.5,
           0
          ],
          [
           6,
           -0.5,
           0.5
          ],
          [
           7,
           0,
           0.5
          ],
          [
           8,
           0.5,
           0.5
          ],
          [
           0,
           -0.5,
           -0.5
          ],
          [
           1,
           0,
           -0.5
          ],
          [
           2,
           0.5,
           -0.5
          ],
          [
           3,
           -0.5,
           0
          ],
          [
           4,
           0,
           0
          ],
          [
           5,
           0.5,
           0
          ],
          [
           6,
           -0.5,
           0.5
          ],
          [
           7,
           0,
           0.5
          ],
          [
           8,
           0.5,
           0.5
          ],
          [
           0,
           -0.5,
           -0.5
          ],
          [
           1,
           0,
           -0.5
          ],
          [
           2,
           0.5,
           -0.5
          ],
          [
           3,
           -0.5,
           0
          ],
          [
           4,
           0,
           0
          ],
          [
           5,
           0.5,
           0
          ],
          [
           6,
           -0.5,
           0.5
          ],
          [
           7,
           0,
           0.5
          ],
          [
           0,
           -0.5,
           -0.5
          ],
          [
           1,
           0,
           -0.5
          ],
          [
           2,
           0.5,
           -0.5
          ],
          [
           3,
           -0.5,
           0
          ],
          [
           4,
           0,
           0
          ],
          [
           5,
           0.5,
           0
          ],
          [
           6,
           -0.5,
           0.5
          ],
          [
           7,
           0,
           0.5
          ],
          [
           8,
           0.5,
           0.5
          ],
          [
           0,
           -0.5,
           -0.5
          ],
          [
           1,
           0,
           -0.5
          ],
          [
           2,
           0.5,
           -0.5
          ],
          [
           3,
           -0.5,
           0
          ],
          [
           4,
           0,
           0
          ],
          [
           5,
           0.5,
           0
          ],
          [
           6,
           -0.5,
           0.5
          ],
          [
           7,
           0,
           0.5
          ],
          [
           8,
           0.5,
           0.5
          ],
          [
           0,
           -0.5,
           -0.5
          ],
          [
           1,
           0,
           -0.5
          ],
          [
           2,
           0.5,
           -0.5
          ],
          [
           3,
           -0.5,
           0
          ],
          [
           4,
           0,
           0
          ],
          [
           5,
           0.5,
           0
          ],
          [
           6,
           -0.5,
           0.5
          ],
          [
           7,
           0,
           0.5
          ],
          [
           8,
           0.5,
           0.5
          ],
          [
           0,
           -0.5,
           -0.5
          ],
          [
           1,
           0,
           -0.5
          ],
          [
           2,
           0.5,
           -0.5
          ],
          [
           3,
           -0.5,
           0
          ],
          [
           4,
           0,
           0
          ],
          [
           5,
           0.5,
           0
          ],
          [
           6,
           -0.5,
           0.5
          ],
          [
           7,
           0,
           0.5
          ],
          [
           8,
           0.5,
           0.5
          ],
          [
           0,
           -0.5,
           -0.5
          ],
          [
           1,
           0,
           -0.5
          ],
          [
           2,
           0.5,
           -0.5
          ],
          [
           3,
           -0.5,
           0
          ],
          [
           4,
           0,
           0
          ],
          [
           5,
           0.5,
           0
          ],
          [
           6,
           -0.5,
           0.5
          ],
          [
           7,
           0,
           0.5
          ],
          [
           8,
           0.5,
           0.5
          ],
          [
           0,
           -0.5,
           -0.5
          ],
          [
           1,
           0,
           -0.5
          ],
          [
           2,
           0.5,
           -0.5
          ],
          [
           3,
           -0.5,
           0
          ],
          [
           4,
           0,
           0
          ],
          [
           5,
           0.5,
           0
          ],
          [
           6,
           -0.5,
           0.5
          ],
          [
           7,
           0,
           0.5
          ],
          [
           8,
           0.5,
           0.5
          ],
          [
           0,
           -0.5,
           -0.5
          ],
          [
           1,
           0,
           -0.5
          ],
          [
           2,
           0.5,
           -0.5
          ],
          [
           3,
           -0.5,
           0
          ],
          [
           4,
           0,
           0
          ],
          [
           5,
           0.5,
           0
          ],
          [
           6,
           -0.5,
           0.5
          ],
          [
           7,
           0,
           0.5
          ],
          [
           0,
           -0.5,
           -0.5
          ],
          [
           1,
           0,
           -0.5
          ],
          [
           2,
           0.5,
           -0.5
          ],
          [
           3,
           -0.5,
           0
          ],
          [
           4,
           0,
           0
          ],
          [
           5,
           0.5,
           0
          ],
          [
           6,
           -0.5,
           0.5
          ],
          [
           7,
           0,
           0.5
          ],
          [
           8,
           0.5,
           0.5
          ],
          [
           0,
           -0.5,
           -0.5
          ],
          [
           1,
           0,
           -0.5
          ],
          [
           2,
           0.5,
           -0.5
          ],
          [
           3,
           -0.5,
           0
          ],
          [
           4,
           0,
           0
          ],
          [
           5,
           0.5,
           0
          ],
          [
           6,
           -0.5,
           0.5
          ],
          [
           7,
           0.5,
           0.5
          ],
          [
           0,
           -0.5,
           -0.5
          ],
          [
           1,
           0,
           -0.5
          ],
          [
           2,
           0.5,
           -0.5
          ],
          [
           3,
           -0.5,
           0
          ],
          [
           4,
           0,
           0
          ],
          [
           5,
           0.5,
           0
          ],
          [
           6,
           -0.5,
           0.5
          ],
          [
           7,
           0,
           0.5
          ],
          [
           8,
           0.5,
           0.5
          ],
          [
           0,
           -0.5,
           -0.5
          ],
          [
           1,
           0,
           -0.5
          ],
          [
           2,
           0.5,
           -0.5
          ],
          [
           3,
           -0.5,
           0
          ],
          [
           4,
           0,
           0
          ],
          [
           5,
           0.5,
           0
          ],
          [
           6,
           -0.5,
           0.5
          ],
          [
           7,
           0,
           0.5
          ],
          [
           8,
           0.5,
           0.5
          ],
          [
           0,
           -0.5,
           -0.5
          ],
          [
           1,
           0,
           -0.5
          ],
          [
           2,
           0.5,
           -0.5
          ],
          [
           3,
           -0.5,
           0
          ],
          [
           4,
           0,
           0
          ],
          [
           5,
           0.5,
           0
          ],
          [
           6,
           0,
           0.5
          ],
          [
           7,
           0.5,
           0.5
          ],
          [
           0,
           -0.5,
           -0.5
          ],
          [
           1,
           0,
           -0.5
          ],
          [
           2,
           -0.5,
           0
          ],
          [
           3,
           0,
           0
          ],
          [
           4,
           -0.5,
           0.5
          ],
          [
           5,
           0,
           0.5
          ],
          [
           6,
           0.5,
           0.5
          ],
          [
           0,
           -0.5,
           -0.5
          ],
          [
           1,
           0,
           -0.5
          ],
          [
           2,
           0.5,
           -0.5
          ],
          [
           3,
           -0.5,
           0
          ],
          [
           4,
           0,
           0
          ],
          [
           5,
           0.5,
           0
          ],
          [
           6,
           -0.5,
           0.5
          ],
          [
           7,
           0,
           0.5
          ],
          [
           8,
           0.5,
           0.5
          ],
          [
           0,
           0,
           -0.5
          ],
          [
           1,
           0,
           0
          ],
          [
           2,
           0,
           0.5
          ],
          [
           3,
           0.5,
           0.5
          ],
          [
           0,
           -0.5,
           -0.5
          ],
          [
           1,
           0,
           -0.5
          ],
          [
           2,
           -0.5,
           0
          ],
          [
           3,
           0,
           0
          ],
          [
           4,
           -0.5,
           0.5
          ],
          [
           5,
           0,
           0.5
          ],
          [
           6,
           0.5,
           0.5
          ],
          [
           0,
           0,
           -0.5
          ],
          [
           1,
           0,
           0
          ],
          [
           2,
           0.5,
           0
          ],
          [
           3,
           0,
           0.5
          ],
          [
           4,
           0.5,
           0.5
          ],
          [
           0,
           -0.5,
           -0.5
          ],
          [
           1,
           0,
           -0.5
          ],
          [
           2,
           0.5,
           -0.5
          ],
          [
           3,
           -0.5,
           0
          ],
          [
           4,
           0,
           0
          ],
          [
           5,
           0.5,
           0
          ],
          [
           6,
           -0.5,
           0.5
          ],
          [
           7,
           0,
           0.5
          ],
          [
           8,
           0.5,
           0.5
          ],
          [
           0,
           -0.5,
           -0.5
          ],
          [
           1,
           0,
           -0.5
          ],
          [
           2,
           0.5,
           -0.5
          ],
          [
           3,
           0,
           0
          ],
          [
           4,
           0.5,
           0
          ],
          [
           5,
           -0.5,
           0.5
          ],
          [
           6,
           0,
           0.5
          ],
          [
           7,
           0.5,
           0.5
          ],
          [
           0,
           -0.5,
           -0.5
          ],
          [
           1,
           0,
           -0.5
          ],
          [
           2,
           0.5,
           -0.5
          ],
          [
           3,
           -0.5,
           0
          ],
          [
           4,
           0,
           0
          ],
          [
           5,
           0.5,
           0
          ],
          [
           6,
           -0.5,
           0.5
          ],
          [
           7,
           0,
           0.5
          ],
          [
           8,
           0.5,
           0.5
          ],
          [
           0,
           -0.5,
           -0.5
          ],
          [
           1,
           0,
           -0.5
          ],
          [
           2,
           0.5,
           -0.5
          ],
          [
           3,
           -0.5,
           0
          ],
          [
           4,
           0,
           0
          ],
          [
           5,
           0.5,
           0
          ],
          [
           6,
           -0.5,
           0.5
          ],
          [
           7,
           0,
           0.5
          ],
          [
           8,
           0.5,
           0.5
          ],
          [
           0,
           -0.5,
           -0.5
          ],
          [
           1,
           0,
           -0.5
          ],
          [
           2,
           0.5,
           -0.5
          ],
          [
           3,
           -0.5,
           0
          ],
          [
           4,
           0,
           0
          ],
          [
           5,
           0.5,
           0
          ],
          [
           6,
           -0.5,
           0.5
          ],
          [
           7,
           0,
           0.5
          ],
          [
           8,
           0.5,
           0.5
          ],
          [
           0,
           -0.5,
           -0.5
          ],
          [
           1,
           0,
           -0.5
          ],
          [
           2,
           0.5,
           -0.5
          ],
          [
           3,
           -0.5,
           0
          ],
          [
           4,
           0,
           0
          ],
          [
           5,
           0.5,
           0
          ],
          [
           6,
           -0.5,
           0.5
          ],
          [
           7,
           0,
           0.5
          ],
          [
           8,
           0.5,
           0.5
          ],
          [
           0,
           -0.5,
           -0.5
          ],
          [
           1,
           0,
           -0.5
          ],
          [
           2,
           0.5,
           -0.5
          ],
          [
           3,
           -0.5,
           0
          ],
          [
           4,
           0,
           0
          ],
          [
           5,
           0.5,
           0
          ],
          [
           6,
           -0.5,
           0.5
          ],
          [
           7,
           0.5,
           0.5
          ],
          [
           0,
           -0.5,
           -0.5
          ],
          [
           1,
           0,
           -0.5
          ],
          [
           2,
           0.5,
           -0.5
          ],
          [
           3,
           -0.5,
           0
          ],
          [
           4,
           0,
           0
          ],
          [
           5,
           0.5,
           0
          ],
          [
           6,
           -0.5,
           0.5
          ],
          [
           7,
           0,
           0.5
          ],
          [
           8,
           0.5,
           0.5
          ],
          [
           0,
           -0.5,
           -0.5
          ],
          [
           1,
           0,
           -0.5
          ],
          [
           2,
           0.5,
           -0.5
          ],
          [
           3,
           -0.5,
           0
          ],
          [
           4,
           0,
           0
          ],
          [
           5,
           0.5,
           0
          ],
          [
           6,
           -0.5,
           0.5
          ],
          [
           7,
           0,
           0.5
          ],
          [
           8,
           0.5,
           0.5
          ],
          [
           0,
           -0.5,
           -0.5
          ],
          [
           1,
           0,
           -0.5
          ],
          [
           2,
           0.5,
           -0.5
          ],
          [
           3,
           -0.5,
           0
          ],
          [
           4,
           0,
           0
          ],
          [
           5,
           0.5,
           0
          ],
          [
           6,
           -0.5,
           0.5
          ],
          [
           7,
           0,
           0.5
          ],
          [
           8,
           0.5,
           0.5
          ],
          [
           0,
           0,
           -0.5
          ],
          [
           1,
           0.5,
           -0.5
          ],
          [
           2,
           -0.5,
           0
          ],
          [
           3,
           0,
           0
          ],
          [
           4,
           0.5,
           0
          ],
          [
           5,
           -0.5,
           0.5
          ],
          [
           6,
           0,
           0.5
          ],
          [
           7,
           0.5,
           0.5
          ],
          [
           0,
           0,
           -0.5
          ],
          [
           1,
           0,
           0
          ],
          [
           2,
           0,
           0.5
          ],
          [
           0,
           0.5,
           -0.5
          ],
          [
           1,
           0.5,
           0
          ],
          [
           2,
           0,
           0.5
          ],
          [
           3,
           0.5,
           0.5
          ],
          [
           0,
           -0.5,
           -0.5
          ],
          [
           1,
           0,
           -0.5
          ],
          [
           2,
           -0.5,
           0
          ],
          [
           3,
           0,
           0
          ],
          [
           4,
           -0.5,
           0.5
          ],
          [
           5,
           0,
           0.5
          ],
          [
           0,
           -0.5,
           -0.5
          ],
          [
           1,
           -0.5,
           0
          ],
          [
           2,
           0,
           0
          ],
          [
           3,
           -0.5,
           0.5
          ],
          [
           4,
           0,
           0.5
          ],
          [
           0,
           -0.5,
           -0.5
          ],
          [
           1,
           0,
           -0.5
          ],
          [
           2,
           -0.5,
           0
          ],
          [
           3,
           0,
           0
          ],
          [
           4,
           -0.5,
           0.5
          ],
          [
           5,
           0,
           0.5
          ],
          [
           6,
           0.5,
           0.5
          ],
          [
           0,
           -0.5,
           -0.5
          ],
          [
           1,
           0,
           -0.5
          ],
          [
           2,
           -0.5,
           0
          ],
          [
           3,
           0,
           0
          ],
          [
           4,
           -0.5,
           0.5
          ],
          [
           5,
           0,
           0.5
          ],
          [
           6,
           0.5,
           0.5
          ],
          [
           0,
           -0.5,
           -0.5
          ],
          [
           1,
           0,
           -0.5
          ],
          [
           2,
           -0.5,
           0
          ],
          [
           3,
           0,
           0
          ],
          [
           4,
           0.5,
           0
          ],
          [
           5,
           -0.5,
           0.5
          ],
          [
           6,
           0,
           0.5
          ],
          [
           7,
           0.5,
           0.5
          ],
          [
           0,
           -0.5,
           -0.5
          ],
          [
           1,
           0,
           -0.5
          ],
          [
           2,
           -0.5,
           0
          ],
          [
           3,
           0,
           0
          ],
          [
           4,
           0.5,
           0
          ],
          [
           5,
           -0.5,
           0.5
          ],
          [
           6,
           0,
           0.5
          ],
          [
           7,
           0.5,
           0.5
          ],
          [
           0,
           -0.5,
           -0.5
          ],
          [
           1,
           0,
           -0.5
          ],
          [
           2,
           -0.5,
           0
          ],
          [
           3,
           0,
           0
          ],
          [
           4,
           0.5,
           0
          ],
          [
           5,
           0,
           0.5
          ],
          [
           6,
           0.5,
           0.5
          ],
          [
           0,
           -0.5,
           -0.5
          ],
          [
           1,
           0,
           -0.5
          ],
          [
           2,
           -0.5,
           0
          ],
          [
           3,
           0,
           0
          ],
          [
           4,
           0.5,
           0
          ],
          [
           5,
           -0.5,
           0.5
          ],
          [
           6,
           0,
           0.5
          ],
          [
           7,
           0.5,
           0.5
          ],
          [
           0,
           -0.5,
           -0.5
          ],
          [
           1,
           0.5,
           -0.5
          ],
          [
           2,
           -0.5,
           0
          ],
          [
           3,
           0,
           0
          ],
          [
           4,
           0.5,
           0
          ],
          [
           5,
           -0.5,
           0.5
          ],
          [
           6,
           0,
           0.5
          ],
          [
           7,
           0.5,
           0.5
          ],
          [
           0,
           -0.5,
           -0.5
          ],
          [
           1,
           -0.5,
           0
          ],
          [
           2,
           0,
           0
          ],
          [
           3,
           0.5,
           0
          ],
          [
           4,
           0,
           0.5
          ],
          [
           5,
           0.5,
           0.5
          ],
          [
           0,
           -0.5,
           -0.5
          ],
          [
           1,
           0,
           -0.5
          ],
          [
           2,
           0.5,
           -0.5
          ],
          [
           3,
           -0.5,
           0
          ],
          [
           4,
           0,
           0
          ],
          [
           5,
           0.5,
           0
          ],
          [
           6,
           -0.5,
           0.5
          ],
          [
           7,
           0,
           0.5
          ],
          [
           8,
           0.5,
           0.5
          ],
          [
           0,
           -0.5,
           -0.5
          ],
          [
           1,
           0,
           -0.5
          ],
          [
           2,
           0.5,
           -0.5
          ],
          [
           3,
           -0.5,
           0
          ],
          [
           4,
           0,
           0
          ],
          [
           5,
           0.5,
           0
          ],
          [
           6,
           -0.5,
           0.5
          ],
          [
           7,
           0,
           0.5
          ],
          [
           8,
           0.5,
           0.5
          ],
          [
           0,
           -0.5,
           -0.5
          ],
          [
           1,
           0,
           -0.5
          ],
          [
           2,
           -0.5,
           0
          ],
          [
           3,
           0,
           0
          ],
          [
           4,
           0.5,
           0
          ],
          [
           5,
           -0.5,
           0.5
          ],
          [
           6,
           0,
           0.5
          ],
          [
           7,
           0.5,
           0.5
          ],
          [
           0,
           -0.5,
           -0.5
          ],
          [
           1,
           0,
           -0.5
          ],
          [
           2,
           0.5,
           -0.5
          ],
          [
           3,
           -0.5,
           0
          ],
          [
           4,
           0,
           0
          ],
          [
           5,
           0.5,
           0
          ],
          [
           6,
           -0.5,
           0.5
          ],
          [
           7,
           0,
           0.5
          ],
          [
           8,
           0.5,
           0.5
          ],
          [
           0,
           -0.5,
           -0.5
          ],
          [
           1,
           0,
           -0.5
          ],
          [
           2,
           -0.5,
           0
          ],
          [
           3,
           0,
           0
          ],
          [
           4,
           0.5,
           0
          ],
          [
           5,
           -0.5,
           0.5
          ],
          [
           6,
           0,
           0.5
          ],
          [
           7,
           0.5,
           0.5
          ],
          [
           0,
           -0.5,
           -0.5
          ],
          [
           1,
           0,
           -0.5
          ],
          [
           2,
           -0.5,
           0
          ],
          [
           3,
           0,
           0
          ],
          [
           4,
           0.5,
           0
          ],
          [
           5,
           -0.5,
           0.5
          ],
          [
           6,
           0,
           0.5
          ],
          [
           7,
           0.5,
           0.5
          ],
          [
           0,
           -0.5,
           -0.5
          ],
          [
           1,
           0,
           -0.5
          ],
          [
           2,
           0.5,
           -0.5
          ],
          [
           3,
           -0.5,
           0
          ],
          [
           4,
           0,
           0
          ],
          [
           5,
           0.5,
           0
          ],
          [
           6,
           -0.5,
           0.5
          ],
          [
           7,
           0,
           0.5
          ],
          [
           8,
           0.5,
           0.5
          ],
          [
           0,
           0,
           -0.5
          ],
          [
           1,
           -0.5,
           0
          ],
          [
           2,
           0,
           0
          ],
          [
           3,
           0.5,
           0
          ],
          [
           4,
           -0.5,
           0.5
          ],
          [
           5,
           0,
           0.5
          ],
          [
           6,
           0.5,
           0.5
          ],
          [
           0,
           0,
           -0.5
          ],
          [
           1,
           0.5,
           -0.5
          ],
          [
           2,
           0,
           0
          ],
          [
           3,
           0.5,
           0
          ],
          [
           4,
           0,
           0.5
          ],
          [
           5,
           0.5,
           0.5
          ],
          [
           0,
           0,
           0
          ],
          [
           1,
           0.5,
           0
          ],
          [
           2,
           -0.5,
           0.5
          ],
          [
           3,
           0,
           0.5
          ],
          [
           4,
           0.5,
           0.5
          ],
          [
           0,
           -0.5,
           -0.5
          ],
          [
           1,
           0,
           -0.5
          ],
          [
           2,
           0.5,
           -0.5
          ],
          [
           3,
           -0.5,
           0
          ],
          [
           4,
           0,
           0
          ],
          [
           5,
           0.5,
           0
          ],
          [
           6,
           -0.5,
           0.5
          ],
          [
           7,
           0.5,
           0.5
          ],
          [
           0,
           -0.5,
           -0.5
          ],
          [
           1,
           0,
           -0.5
          ],
          [
           2,
           -0.5,
           0
          ],
          [
           3,
           0,
           0
          ],
          [
           4,
           0.5,
           0
          ],
          [
           5,
           -0.5,
           0.5
          ],
          [
           6,
           0.5,
           0.5
          ],
          [
           0,
           -0.5,
           -0.5
          ],
          [
           1,
           0,
           -0.5
          ],
          [
           2,
           0.5,
           -0.5
          ],
          [
           3,
           -0.5,
           0
          ],
          [
           4,
           0,
           0
          ],
          [
           5,
           0.5,
           0
          ],
          [
           6,
           -0.5,
           0.5
          ],
          [
           7,
           0.5,
           0.5
          ],
          [
           0,
           -0.5,
           -0.5
          ],
          [
           1,
           0,
           -0.5
          ],
          [
           2,
           0.5,
           -0.5
          ],
          [
           3,
           -0.5,
           0
          ],
          [
           4,
           0.5,
           0
          ],
          [
           5,
           -0.5,
           0.5
          ],
          [
           6,
           0,
           0.5
          ],
          [
           7,
           0.5,
           0.5
          ],
          [
           0,
           0,
           -0.5
          ],
          [
           1,
           0.5,
           -0.5
          ],
          [
           2,
           -0.5,
           0
          ],
          [
           3,
           0,
           0
          ],
          [
           4,
           0.5,
           0
          ],
          [
           5,
           -0.5,
           0.5
          ],
          [
           6,
           0,
           0.5
          ],
          [
           7,
           0.5,
           0.5
          ],
          [
           0,
           -0.5,
           -0.5
          ],
          [
           1,
           0,
           -0.5
          ],
          [
           2,
           0.5,
           -0.5
          ],
          [
           3,
           -0.5,
           0
          ],
          [
           4,
           0,
           0
          ],
          [
           5,
           0.5,
           0
          ],
          [
           6,
           -0.5,
           0.5
          ],
          [
           7,
           0,
           0.5
          ],
          [
           0,
           -0.5,
           -0.5
          ],
          [
           1,
           0,
           -0.5
          ],
          [
           2,
           0.5,
           -0.5
          ],
          [
           3,
           -0.5,
           0
          ],
          [
           4,
           0.5,
           0
          ],
          [
           5,
           -0.5,
           0.5
          ],
          [
           6,
           0,
           0.5
          ],
          [
           0,
           -0.5,
           -0.5
          ],
          [
           1,
           0,
           -0.5
          ],
          [
           2,
           0.5,
           -0.5
          ],
          [
           3,
           -0.5,
           0
          ],
          [
           4,
           0,
           0
          ],
          [
           5,
           0.5,
           0
          ],
          [
           6,
           -0.5,
           0.5
          ],
          [
           7,
           0,
           0.5
          ],
          [
           8,
           0.5,
           0.5
          ],
          [
           0,
           -0.5,
           -0.5
          ],
          [
           1,
           0,
           -0.5
          ],
          [
           2,
           0.5,
           -0.5
          ],
          [
           3,
           -0.5,
           0
          ],
          [
           4,
           0,
           0
          ],
          [
           5,
           0.5,
           0
          ],
          [
           6,
           -0.5,
           0.5
          ],
          [
           7,
           0,
           0.5
          ],
          [
           8,
           0.5,
           0.5
          ],
          [
           0,
           -0.5,
           -0.5
          ],
          [
           1,
           0,
           -0.5
          ],
          [
           2,
           0.5,
           -0.5
          ],
          [
           3,
           -0.5,
           0
          ],
          [
           4,
           0,
           0
          ],
          [
           5,
           0.5,
           0
          ],
          [
           6,
           -0.5,
           0.5
          ],
          [
           7,
           0,
           0.5
          ],
          [
           8,
           0.5,
           0.5
          ],
          [
           0,
           -0.5,
           -0.5
          ],
          [
           1,
           0,
           -0.5
          ],
          [
           2,
           0.5,
           -0.5
          ],
          [
           3,
           -0.5,
           0
          ],
          [
           4,
           0,
           0
          ],
          [
           5,
           0.5,
           0
          ],
          [
           6,
           -0.5,
           0.5
          ],
          [
           7,
           0,
           0.5
          ],
          [
           8,
           0.5,
           0.5
          ]
         ],
         "hovertemplate": "<b>%{hovertext}</b><br><br>Camera=%{x}<br>residual=%{y}<br>beam_capture_index=%{customdata[0]}<br>projectionPoint_x=%{customdata[1]}<br>projectionPoint_y=%{customdata[2]}<br>Laser=%{marker.color}<extra></extra>",
         "hovertext": [
          1,
          1,
          1,
          1,
          1,
          1,
          1,
          1,
          1,
          2,
          2,
          2,
          2,
          2,
          2,
          2,
          2,
          2,
          1,
          1,
          1,
          1,
          1,
          1,
          1,
          1,
          2,
          2,
          2,
          2,
          2,
          2,
          2,
          2,
          2,
          3,
          3,
          3,
          3,
          3,
          3,
          3,
          3,
          3,
          4,
          4,
          4,
          4,
          4,
          4,
          4,
          4,
          4,
          5,
          5,
          5,
          5,
          5,
          5,
          12,
          12,
          12,
          12,
          12,
          12,
          12,
          12,
          12,
          7,
          7,
          7,
          7,
          7,
          7,
          7,
          7,
          7,
          8,
          8,
          8,
          8,
          8,
          8,
          8,
          8,
          8,
          10,
          10,
          10,
          10,
          10,
          11,
          11,
          13,
          13,
          13,
          14,
          14,
          14,
          14,
          14,
          14,
          14,
          14,
          16,
          16,
          16,
          16,
          16,
          16,
          16,
          16,
          16,
          17,
          17,
          17,
          17,
          17,
          17,
          17,
          17,
          18,
          18,
          18,
          18,
          18,
          18,
          18,
          18,
          19,
          19,
          19,
          19,
          19,
          19,
          19,
          22,
          22,
          22,
          22,
          22,
          22,
          22,
          22,
          22,
          25,
          25,
          25,
          25,
          25,
          25,
          26,
          26,
          26,
          26,
          26,
          26,
          26,
          26,
          26,
          28,
          28,
          28,
          28,
          28,
          28,
          28,
          28,
          28,
          30,
          30,
          30,
          30,
          30,
          30,
          30,
          30,
          31,
          31,
          31,
          31,
          31,
          31,
          31,
          31,
          31,
          32,
          32,
          32,
          32,
          32,
          32,
          32,
          32,
          32,
          34,
          34,
          34,
          34,
          34,
          34,
          34,
          34,
          34,
          35,
          35,
          35,
          35,
          35,
          35,
          35,
          35,
          37,
          37,
          37,
          37,
          37,
          37,
          37,
          37,
          38,
          38,
          38,
          38,
          38,
          38,
          38,
          38,
          38,
          33,
          33,
          33,
          33,
          33,
          33,
          33,
          33,
          33,
          40,
          40,
          40,
          40,
          40,
          40,
          40,
          40,
          40,
          1,
          1,
          1,
          1,
          1,
          1,
          1,
          1,
          2,
          2,
          2,
          2,
          2,
          2,
          2,
          2,
          3,
          3,
          3,
          3,
          3,
          3,
          3,
          3,
          3,
          4,
          4,
          4,
          4,
          4,
          4,
          4,
          4,
          4,
          5,
          5,
          5,
          5,
          5,
          5,
          5,
          5,
          5,
          12,
          12,
          12,
          12,
          12,
          12,
          12,
          7,
          7,
          7,
          7,
          7,
          7,
          7,
          7,
          7,
          8,
          8,
          8,
          8,
          8,
          8,
          8,
          8,
          10,
          10,
          10,
          10,
          10,
          10,
          10,
          10,
          10,
          11,
          11,
          11,
          11,
          11,
          11,
          11,
          11,
          11,
          13,
          13,
          13,
          13,
          13,
          13,
          13,
          14,
          14,
          14,
          14,
          14,
          14,
          14,
          14,
          14,
          15,
          15,
          15,
          15,
          15,
          15,
          15,
          15,
          15,
          16,
          16,
          16,
          16,
          16,
          16,
          16,
          16,
          17,
          17,
          17,
          17,
          17,
          17,
          17,
          17,
          17,
          18,
          18,
          18,
          18,
          18,
          18,
          18,
          18,
          18,
          26,
          26,
          26,
          26,
          26,
          26,
          26,
          26,
          26,
          28,
          28,
          28,
          28,
          28,
          28,
          28,
          28,
          28,
          29,
          29,
          29,
          29,
          29,
          29,
          29,
          29,
          29,
          30,
          30,
          30,
          30,
          30,
          30,
          30,
          30,
          30,
          31,
          31,
          31,
          31,
          31,
          31,
          31,
          31,
          32,
          32,
          32,
          32,
          32,
          32,
          32,
          32,
          32,
          34,
          34,
          34,
          34,
          34,
          34,
          34,
          34,
          35,
          35,
          35,
          35,
          35,
          35,
          35,
          35,
          35,
          36,
          36,
          36,
          36,
          36,
          36,
          36,
          36,
          36,
          37,
          37,
          37,
          37,
          37,
          37,
          37,
          37,
          38,
          38,
          38,
          38,
          38,
          38,
          38,
          33,
          33,
          33,
          33,
          33,
          33,
          33,
          33,
          33,
          1,
          1,
          1,
          1,
          2,
          2,
          2,
          2,
          2,
          2,
          2,
          4,
          4,
          4,
          4,
          4,
          8,
          8,
          8,
          8,
          8,
          8,
          8,
          8,
          8,
          10,
          10,
          10,
          10,
          10,
          10,
          10,
          10,
          11,
          11,
          11,
          11,
          11,
          11,
          11,
          11,
          11,
          13,
          13,
          13,
          13,
          13,
          13,
          13,
          13,
          13,
          14,
          14,
          14,
          14,
          14,
          14,
          14,
          14,
          14,
          15,
          15,
          15,
          15,
          15,
          15,
          15,
          15,
          15,
          16,
          16,
          16,
          16,
          16,
          16,
          16,
          16,
          17,
          17,
          17,
          17,
          17,
          17,
          17,
          17,
          17,
          18,
          18,
          18,
          18,
          18,
          18,
          18,
          18,
          18,
          19,
          19,
          19,
          19,
          19,
          19,
          19,
          19,
          19,
          22,
          22,
          22,
          22,
          22,
          22,
          22,
          22,
          25,
          25,
          25,
          26,
          26,
          26,
          26,
          29,
          29,
          29,
          29,
          29,
          29,
          31,
          31,
          31,
          31,
          31,
          32,
          32,
          32,
          32,
          32,
          32,
          32,
          34,
          34,
          34,
          34,
          34,
          34,
          34,
          36,
          36,
          36,
          36,
          36,
          36,
          36,
          36,
          37,
          37,
          37,
          37,
          37,
          37,
          37,
          37,
          38,
          38,
          38,
          38,
          38,
          38,
          38,
          2,
          2,
          2,
          2,
          2,
          2,
          2,
          2,
          4,
          4,
          4,
          4,
          4,
          4,
          4,
          4,
          8,
          8,
          8,
          8,
          8,
          8,
          10,
          10,
          10,
          10,
          10,
          10,
          10,
          10,
          10,
          14,
          14,
          14,
          14,
          14,
          14,
          14,
          14,
          14,
          15,
          15,
          15,
          15,
          15,
          15,
          15,
          15,
          16,
          16,
          16,
          16,
          16,
          16,
          16,
          16,
          16,
          17,
          17,
          17,
          17,
          17,
          17,
          17,
          17,
          18,
          18,
          18,
          18,
          18,
          18,
          18,
          18,
          19,
          19,
          19,
          19,
          19,
          19,
          19,
          19,
          19,
          22,
          22,
          22,
          22,
          22,
          22,
          22,
          25,
          25,
          25,
          25,
          25,
          25,
          26,
          26,
          26,
          26,
          26,
          28,
          28,
          28,
          28,
          28,
          28,
          28,
          28,
          29,
          29,
          29,
          29,
          29,
          29,
          29,
          30,
          30,
          30,
          30,
          30,
          30,
          30,
          30,
          31,
          31,
          31,
          31,
          31,
          31,
          31,
          31,
          32,
          32,
          32,
          32,
          32,
          32,
          32,
          32,
          34,
          34,
          34,
          34,
          34,
          34,
          34,
          34,
          35,
          35,
          35,
          35,
          35,
          35,
          35,
          36,
          36,
          36,
          36,
          36,
          36,
          36,
          36,
          36,
          37,
          37,
          37,
          37,
          37,
          37,
          37,
          37,
          37,
          33,
          33,
          33,
          33,
          33,
          33,
          33,
          33,
          33,
          40,
          40,
          40,
          40,
          40,
          40,
          40,
          40,
          40
         ],
         "legendgroup": "",
         "marker": {
          "color": [
           1,
           1,
           1,
           1,
           1,
           1,
           1,
           1,
           1,
           2,
           2,
           2,
           2,
           2,
           2,
           2,
           2,
           2,
           1,
           1,
           1,
           1,
           1,
           1,
           1,
           1,
           2,
           2,
           2,
           2,
           2,
           2,
           2,
           2,
           2,
           3,
           3,
           3,
           3,
           3,
           3,
           3,
           3,
           3,
           4,
           4,
           4,
           4,
           4,
           4,
           4,
           4,
           4,
           5,
           5,
           5,
           5,
           5,
           5,
           12,
           12,
           12,
           12,
           12,
           12,
           12,
           12,
           12,
           7,
           7,
           7,
           7,
           7,
           7,
           7,
           7,
           7,
           8,
           8,
           8,
           8,
           8,
           8,
           8,
           8,
           8,
           10,
           10,
           10,
           10,
           10,
           11,
           11,
           13,
           13,
           13,
           14,
           14,
           14,
           14,
           14,
           14,
           14,
           14,
           16,
           16,
           16,
           16,
           16,
           16,
           16,
           16,
           16,
           17,
           17,
           17,
           17,
           17,
           17,
           17,
           17,
           18,
           18,
           18,
           18,
           18,
           18,
           18,
           18,
           19,
           19,
           19,
           19,
           19,
           19,
           19,
           22,
           22,
           22,
           22,
           22,
           22,
           22,
           22,
           22,
           25,
           25,
           25,
           25,
           25,
           25,
           26,
           26,
           26,
           26,
           26,
           26,
           26,
           26,
           26,
           28,
           28,
           28,
           28,
           28,
           28,
           28,
           28,
           28,
           30,
           30,
           30,
           30,
           30,
           30,
           30,
           30,
           31,
           31,
           31,
           31,
           31,
           31,
           31,
           31,
           31,
           32,
           32,
           32,
           32,
           32,
           32,
           32,
           32,
           32,
           34,
           34,
           34,
           34,
           34,
           34,
           34,
           34,
           34,
           35,
           35,
           35,
           35,
           35,
           35,
           35,
           35,
           37,
           37,
           37,
           37,
           37,
           37,
           37,
           37,
           38,
           38,
           38,
           38,
           38,
           38,
           38,
           38,
           38,
           33,
           33,
           33,
           33,
           33,
           33,
           33,
           33,
           33,
           40,
           40,
           40,
           40,
           40,
           40,
           40,
           40,
           40,
           1,
           1,
           1,
           1,
           1,
           1,
           1,
           1,
           2,
           2,
           2,
           2,
           2,
           2,
           2,
           2,
           3,
           3,
           3,
           3,
           3,
           3,
           3,
           3,
           3,
           4,
           4,
           4,
           4,
           4,
           4,
           4,
           4,
           4,
           5,
           5,
           5,
           5,
           5,
           5,
           5,
           5,
           5,
           12,
           12,
           12,
           12,
           12,
           12,
           12,
           7,
           7,
           7,
           7,
           7,
           7,
           7,
           7,
           7,
           8,
           8,
           8,
           8,
           8,
           8,
           8,
           8,
           10,
           10,
           10,
           10,
           10,
           10,
           10,
           10,
           10,
           11,
           11,
           11,
           11,
           11,
           11,
           11,
           11,
           11,
           13,
           13,
           13,
           13,
           13,
           13,
           13,
           14,
           14,
           14,
           14,
           14,
           14,
           14,
           14,
           14,
           15,
           15,
           15,
           15,
           15,
           15,
           15,
           15,
           15,
           16,
           16,
           16,
           16,
           16,
           16,
           16,
           16,
           17,
           17,
           17,
           17,
           17,
           17,
           17,
           17,
           17,
           18,
           18,
           18,
           18,
           18,
           18,
           18,
           18,
           18,
           26,
           26,
           26,
           26,
           26,
           26,
           26,
           26,
           26,
           28,
           28,
           28,
           28,
           28,
           28,
           28,
           28,
           28,
           29,
           29,
           29,
           29,
           29,
           29,
           29,
           29,
           29,
           30,
           30,
           30,
           30,
           30,
           30,
           30,
           30,
           30,
           31,
           31,
           31,
           31,
           31,
           31,
           31,
           31,
           32,
           32,
           32,
           32,
           32,
           32,
           32,
           32,
           32,
           34,
           34,
           34,
           34,
           34,
           34,
           34,
           34,
           35,
           35,
           35,
           35,
           35,
           35,
           35,
           35,
           35,
           36,
           36,
           36,
           36,
           36,
           36,
           36,
           36,
           36,
           37,
           37,
           37,
           37,
           37,
           37,
           37,
           37,
           38,
           38,
           38,
           38,
           38,
           38,
           38,
           33,
           33,
           33,
           33,
           33,
           33,
           33,
           33,
           33,
           1,
           1,
           1,
           1,
           2,
           2,
           2,
           2,
           2,
           2,
           2,
           4,
           4,
           4,
           4,
           4,
           8,
           8,
           8,
           8,
           8,
           8,
           8,
           8,
           8,
           10,
           10,
           10,
           10,
           10,
           10,
           10,
           10,
           11,
           11,
           11,
           11,
           11,
           11,
           11,
           11,
           11,
           13,
           13,
           13,
           13,
           13,
           13,
           13,
           13,
           13,
           14,
           14,
           14,
           14,
           14,
           14,
           14,
           14,
           14,
           15,
           15,
           15,
           15,
           15,
           15,
           15,
           15,
           15,
           16,
           16,
           16,
           16,
           16,
           16,
           16,
           16,
           17,
           17,
           17,
           17,
           17,
           17,
           17,
           17,
           17,
           18,
           18,
           18,
           18,
           18,
           18,
           18,
           18,
           18,
           19,
           19,
           19,
           19,
           19,
           19,
           19,
           19,
           19,
           22,
           22,
           22,
           22,
           22,
           22,
           22,
           22,
           25,
           25,
           25,
           26,
           26,
           26,
           26,
           29,
           29,
           29,
           29,
           29,
           29,
           31,
           31,
           31,
           31,
           31,
           32,
           32,
           32,
           32,
           32,
           32,
           32,
           34,
           34,
           34,
           34,
           34,
           34,
           34,
           36,
           36,
           36,
           36,
           36,
           36,
           36,
           36,
           37,
           37,
           37,
           37,
           37,
           37,
           37,
           37,
           38,
           38,
           38,
           38,
           38,
           38,
           38,
           2,
           2,
           2,
           2,
           2,
           2,
           2,
           2,
           4,
           4,
           4,
           4,
           4,
           4,
           4,
           4,
           8,
           8,
           8,
           8,
           8,
           8,
           10,
           10,
           10,
           10,
           10,
           10,
           10,
           10,
           10,
           14,
           14,
           14,
           14,
           14,
           14,
           14,
           14,
           14,
           15,
           15,
           15,
           15,
           15,
           15,
           15,
           15,
           16,
           16,
           16,
           16,
           16,
           16,
           16,
           16,
           16,
           17,
           17,
           17,
           17,
           17,
           17,
           17,
           17,
           18,
           18,
           18,
           18,
           18,
           18,
           18,
           18,
           19,
           19,
           19,
           19,
           19,
           19,
           19,
           19,
           19,
           22,
           22,
           22,
           22,
           22,
           22,
           22,
           25,
           25,
           25,
           25,
           25,
           25,
           26,
           26,
           26,
           26,
           26,
           28,
           28,
           28,
           28,
           28,
           28,
           28,
           28,
           29,
           29,
           29,
           29,
           29,
           29,
           29,
           30,
           30,
           30,
           30,
           30,
           30,
           30,
           30,
           31,
           31,
           31,
           31,
           31,
           31,
           31,
           31,
           32,
           32,
           32,
           32,
           32,
           32,
           32,
           32,
           34,
           34,
           34,
           34,
           34,
           34,
           34,
           34,
           35,
           35,
           35,
           35,
           35,
           35,
           35,
           36,
           36,
           36,
           36,
           36,
           36,
           36,
           36,
           36,
           37,
           37,
           37,
           37,
           37,
           37,
           37,
           37,
           37,
           33,
           33,
           33,
           33,
           33,
           33,
           33,
           33,
           33,
           40,
           40,
           40,
           40,
           40,
           40,
           40,
           40,
           40
          ],
          "coloraxis": "coloraxis",
          "pattern": {
           "shape": ""
          }
         },
         "name": "",
         "offsetgroup": "",
         "orientation": "v",
         "showlegend": false,
         "textposition": "auto",
         "type": "bar",
         "x": [
          "Thu 2022.05.19 22:16",
          "Thu 2022.05.19 22:16",
          "Thu 2022.05.19 22:16",
          "Thu 2022.05.19 22:16",
          "Thu 2022.05.19 22:16",
          "Thu 2022.05.19 22:16",
          "Thu 2022.05.19 22:16",
          "Thu 2022.05.19 22:16",
          "Thu 2022.05.19 22:16",
          "Thu 2022.05.19 22:16",
          "Thu 2022.05.19 22:16",
          "Thu 2022.05.19 22:16",
          "Thu 2022.05.19 22:16",
          "Thu 2022.05.19 22:16",
          "Thu 2022.05.19 22:16",
          "Thu 2022.05.19 22:16",
          "Thu 2022.05.19 22:16",
          "Thu 2022.05.19 22:16",
          "Thu 2022.05.19 23:08",
          "Thu 2022.05.19 23:08",
          "Thu 2022.05.19 23:08",
          "Thu 2022.05.19 23:08",
          "Thu 2022.05.19 23:08",
          "Thu 2022.05.19 23:08",
          "Thu 2022.05.19 23:08",
          "Thu 2022.05.19 23:08",
          "Thu 2022.05.19 23:08",
          "Thu 2022.05.19 23:08",
          "Thu 2022.05.19 23:08",
          "Thu 2022.05.19 23:08",
          "Thu 2022.05.19 23:08",
          "Thu 2022.05.19 23:08",
          "Thu 2022.05.19 23:08",
          "Thu 2022.05.19 23:08",
          "Thu 2022.05.19 23:08",
          "Thu 2022.05.19 23:08",
          "Thu 2022.05.19 23:08",
          "Thu 2022.05.19 23:08",
          "Thu 2022.05.19 23:08",
          "Thu 2022.05.19 23:08",
          "Thu 2022.05.19 23:08",
          "Thu 2022.05.19 23:08",
          "Thu 2022.05.19 23:08",
          "Thu 2022.05.19 23:08",
          "Thu 2022.05.19 23:08",
          "Thu 2022.05.19 23:08",
          "Thu 2022.05.19 23:08",
          "Thu 2022.05.19 23:08",
          "Thu 2022.05.19 23:08",
          "Thu 2022.05.19 23:08",
          "Thu 2022.05.19 23:08",
          "Thu 2022.05.19 23:08",
          "Thu 2022.05.19 23:08",
          "Thu 2022.05.19 23:08",
          "Thu 2022.05.19 23:08",
          "Thu 2022.05.19 23:08",
          "Thu 2022.05.19 23:08",
          "Thu 2022.05.19 23:08",
          "Thu 2022.05.19 23:08",
          "Thu 2022.05.19 23:08",
          "Thu 2022.05.19 23:08",
          "Thu 2022.05.19 23:08",
          "Thu 2022.05.19 23:08",
          "Thu 2022.05.19 23:08",
          "Thu 2022.05.19 23:08",
          "Thu 2022.05.19 23:08",
          "Thu 2022.05.19 23:08",
          "Thu 2022.05.19 23:08",
          "Thu 2022.05.19 23:08",
          "Thu 2022.05.19 23:08",
          "Thu 2022.05.19 23:08",
          "Thu 2022.05.19 23:08",
          "Thu 2022.05.19 23:08",
          "Thu 2022.05.19 23:08",
          "Thu 2022.05.19 23:08",
          "Thu 2022.05.19 23:08",
          "Thu 2022.05.19 23:08",
          "Thu 2022.05.19 23:08",
          "Thu 2022.05.19 23:08",
          "Thu 2022.05.19 23:08",
          "Thu 2022.05.19 23:08",
          "Thu 2022.05.19 23:08",
          "Thu 2022.05.19 23:08",
          "Thu 2022.05.19 23:08",
          "Thu 2022.05.19 23:08",
          "Thu 2022.05.19 23:08",
          "Thu 2022.05.19 23:08",
          "Thu 2022.05.19 23:08",
          "Thu 2022.05.19 23:08",
          "Thu 2022.05.19 23:08",
          "Thu 2022.05.19 23:08",
          "Thu 2022.05.19 23:08",
          "Thu 2022.05.19 23:08",
          "Thu 2022.05.19 23:08",
          "Thu 2022.05.19 23:08",
          "Thu 2022.05.19 23:08",
          "Thu 2022.05.19 23:08",
          "Thu 2022.05.19 23:08",
          "Thu 2022.05.19 23:08",
          "Thu 2022.05.19 23:08",
          "Thu 2022.05.19 23:08",
          "Thu 2022.05.19 23:08",
          "Thu 2022.05.19 23:08",
          "Thu 2022.05.19 23:08",
          "Thu 2022.05.19 23:08",
          "Thu 2022.05.19 23:08",
          "Thu 2022.05.19 23:08",
          "Thu 2022.05.19 23:08",
          "Thu 2022.05.19 23:08",
          "Thu 2022.05.19 23:08",
          "Thu 2022.05.19 23:08",
          "Thu 2022.05.19 23:08",
          "Thu 2022.05.19 23:08",
          "Thu 2022.05.19 23:08",
          "Thu 2022.05.19 23:08",
          "Thu 2022.05.19 23:08",
          "Thu 2022.05.19 23:08",
          "Thu 2022.05.19 23:08",
          "Thu 2022.05.19 23:08",
          "Thu 2022.05.19 23:08",
          "Thu 2022.05.19 23:08",
          "Thu 2022.05.19 23:08",
          "Thu 2022.05.19 23:08",
          "Thu 2022.05.19 23:08",
          "Thu 2022.05.19 23:08",
          "Thu 2022.05.19 23:08",
          "Thu 2022.05.19 23:08",
          "Thu 2022.05.19 23:08",
          "Thu 2022.05.19 23:08",
          "Thu 2022.05.19 23:08",
          "Thu 2022.05.19 23:08",
          "Thu 2022.05.19 23:08",
          "Thu 2022.05.19 23:08",
          "Thu 2022.05.19 23:08",
          "Thu 2022.05.19 23:08",
          "Thu 2022.05.19 23:08",
          "Thu 2022.05.19 23:08",
          "Thu 2022.05.19 23:08",
          "Thu 2022.05.19 23:08",
          "Thu 2022.05.19 23:08",
          "Thu 2022.05.19 23:08",
          "Thu 2022.05.19 23:08",
          "Thu 2022.05.19 23:08",
          "Thu 2022.05.19 23:08",
          "Thu 2022.05.19 23:08",
          "Thu 2022.05.19 23:08",
          "Thu 2022.05.19 23:08",
          "Thu 2022.05.19 23:08",
          "Thu 2022.05.19 23:08",
          "Thu 2022.05.19 23:08",
          "Thu 2022.05.19 23:08",
          "Thu 2022.05.19 23:08",
          "Thu 2022.05.19 23:08",
          "Thu 2022.05.19 23:08",
          "Thu 2022.05.19 23:08",
          "Thu 2022.05.19 23:08",
          "Thu 2022.05.19 23:08",
          "Thu 2022.05.19 23:08",
          "Thu 2022.05.19 23:08",
          "Thu 2022.05.19 23:08",
          "Thu 2022.05.19 23:08",
          "Thu 2022.05.19 23:08",
          "Thu 2022.05.19 23:08",
          "Thu 2022.05.19 23:08",
          "Thu 2022.05.19 23:08",
          "Thu 2022.05.19 23:08",
          "Thu 2022.05.19 23:08",
          "Thu 2022.05.19 23:08",
          "Thu 2022.05.19 23:08",
          "Thu 2022.05.19 23:08",
          "Thu 2022.05.19 23:08",
          "Thu 2022.05.19 23:08",
          "Thu 2022.05.19 23:08",
          "Thu 2022.05.19 23:08",
          "Thu 2022.05.19 23:08",
          "Thu 2022.05.19 23:08",
          "Thu 2022.05.19 23:08",
          "Thu 2022.05.19 23:08",
          "Thu 2022.05.19 23:08",
          "Thu 2022.05.19 23:08",
          "Thu 2022.05.19 23:08",
          "Thu 2022.05.19 23:08",
          "Thu 2022.05.19 23:08",
          "Thu 2022.05.19 23:08",
          "Thu 2022.05.19 23:08",
          "Thu 2022.05.19 23:08",
          "Thu 2022.05.19 23:08",
          "Thu 2022.05.19 23:08",
          "Thu 2022.05.19 23:08",
          "Thu 2022.05.19 23:08",
          "Thu 2022.05.19 23:08",
          "Thu 2022.05.19 23:08",
          "Thu 2022.05.19 23:08",
          "Thu 2022.05.19 23:08",
          "Thu 2022.05.19 23:08",
          "Thu 2022.05.19 23:08",
          "Thu 2022.05.19 23:08",
          "Thu 2022.05.19 23:08",
          "Thu 2022.05.19 23:08",
          "Thu 2022.05.19 23:08",
          "Thu 2022.05.19 23:08",
          "Thu 2022.05.19 23:08",
          "Thu 2022.05.19 23:08",
          "Thu 2022.05.19 23:08",
          "Thu 2022.05.19 23:08",
          "Thu 2022.05.19 23:08",
          "Thu 2022.05.19 23:08",
          "Thu 2022.05.19 23:08",
          "Thu 2022.05.19 23:08",
          "Thu 2022.05.19 23:08",
          "Thu 2022.05.19 23:08",
          "Thu 2022.05.19 23:08",
          "Thu 2022.05.19 23:08",
          "Thu 2022.05.19 23:08",
          "Thu 2022.05.19 23:08",
          "Thu 2022.05.19 23:08",
          "Thu 2022.05.19 23:08",
          "Thu 2022.05.19 23:08",
          "Thu 2022.05.19 23:08",
          "Thu 2022.05.19 23:08",
          "Thu 2022.05.19 23:08",
          "Thu 2022.05.19 23:08",
          "Thu 2022.05.19 23:08",
          "Thu 2022.05.19 23:08",
          "Thu 2022.05.19 23:08",
          "Thu 2022.05.19 23:08",
          "Thu 2022.05.19 23:08",
          "Thu 2022.05.19 23:08",
          "Thu 2022.05.19 23:08",
          "Thu 2022.05.19 23:08",
          "Thu 2022.05.19 23:08",
          "Thu 2022.05.19 23:08",
          "Thu 2022.05.19 23:08",
          "Thu 2022.05.19 23:08",
          "Thu 2022.05.19 23:08",
          "Thu 2022.05.19 23:08",
          "Thu 2022.05.19 23:08",
          "Thu 2022.05.19 23:08",
          "Thu 2022.05.19 23:08",
          "Thu 2022.05.19 23:08",
          "Thu 2022.05.19 23:08",
          "Thu 2022.05.19 23:08",
          "Thu 2022.05.19 23:08",
          "Thu 2022.05.19 23:08",
          "Thu 2022.05.19 23:08",
          "Thu 2022.05.19 23:08",
          "Thu 2022.05.19 23:08",
          "Thu 2022.05.19 23:55",
          "Thu 2022.05.19 23:55",
          "Thu 2022.05.19 23:55",
          "Thu 2022.05.19 23:55",
          "Thu 2022.05.19 23:55",
          "Thu 2022.05.19 23:55",
          "Thu 2022.05.19 23:55",
          "Thu 2022.05.19 23:55",
          "Thu 2022.05.19 23:55",
          "Thu 2022.05.19 23:55",
          "Thu 2022.05.19 23:55",
          "Thu 2022.05.19 23:55",
          "Thu 2022.05.19 23:55",
          "Thu 2022.05.19 23:55",
          "Thu 2022.05.19 23:55",
          "Thu 2022.05.19 23:55",
          "Thu 2022.05.19 23:55",
          "Thu 2022.05.19 23:55",
          "Thu 2022.05.19 23:55",
          "Thu 2022.05.19 23:55",
          "Thu 2022.05.19 23:55",
          "Thu 2022.05.19 23:55",
          "Thu 2022.05.19 23:55",
          "Thu 2022.05.19 23:55",
          "Thu 2022.05.19 23:55",
          "Thu 2022.05.19 23:55",
          "Thu 2022.05.19 23:55",
          "Thu 2022.05.19 23:55",
          "Thu 2022.05.19 23:55",
          "Thu 2022.05.19 23:55",
          "Thu 2022.05.19 23:55",
          "Thu 2022.05.19 23:55",
          "Thu 2022.05.19 23:55",
          "Thu 2022.05.19 23:55",
          "Thu 2022.05.19 23:55",
          "Thu 2022.05.19 23:55",
          "Thu 2022.05.19 23:55",
          "Thu 2022.05.19 23:55",
          "Thu 2022.05.19 23:55",
          "Thu 2022.05.19 23:55",
          "Thu 2022.05.19 23:55",
          "Thu 2022.05.19 23:55",
          "Thu 2022.05.19 23:55",
          "Thu 2022.05.19 23:55",
          "Thu 2022.05.19 23:55",
          "Thu 2022.05.19 23:55",
          "Thu 2022.05.19 23:55",
          "Thu 2022.05.19 23:55",
          "Thu 2022.05.19 23:55",
          "Thu 2022.05.19 23:55",
          "Thu 2022.05.19 23:55",
          "Thu 2022.05.19 23:55",
          "Thu 2022.05.19 23:55",
          "Thu 2022.05.19 23:55",
          "Thu 2022.05.19 23:55",
          "Thu 2022.05.19 23:55",
          "Thu 2022.05.19 23:55",
          "Thu 2022.05.19 23:55",
          "Thu 2022.05.19 23:55",
          "Thu 2022.05.19 23:55",
          "Thu 2022.05.19 23:55",
          "Thu 2022.05.19 23:55",
          "Thu 2022.05.19 23:55",
          "Thu 2022.05.19 23:55",
          "Thu 2022.05.19 23:55",
          "Thu 2022.05.19 23:55",
          "Thu 2022.05.19 23:55",
          "Thu 2022.05.19 23:55",
          "Thu 2022.05.19 23:55",
          "Thu 2022.05.19 23:55",
          "Thu 2022.05.19 23:55",
          "Thu 2022.05.19 23:55",
          "Thu 2022.05.19 23:55",
          "Thu 2022.05.19 23:55",
          "Thu 2022.05.19 23:55",
          "Thu 2022.05.19 23:55",
          "Thu 2022.05.19 23:55",
          "Thu 2022.05.19 23:55",
          "Thu 2022.05.19 23:55",
          "Thu 2022.05.19 23:55",
          "Thu 2022.05.19 23:55",
          "Thu 2022.05.19 23:55",
          "Thu 2022.05.19 23:55",
          "Thu 2022.05.19 23:55",
          "Thu 2022.05.19 23:55",
          "Thu 2022.05.19 23:55",
          "Thu 2022.05.19 23:55",
          "Thu 2022.05.19 23:55",
          "Thu 2022.05.19 23:55",
          "Thu 2022.05.19 23:55",
          "Thu 2022.05.19 23:55",
          "Thu 2022.05.19 23:55",
          "Thu 2022.05.19 23:55",
          "Thu 2022.05.19 23:55",
          "Thu 2022.05.19 23:55",
          "Thu 2022.05.19 23:55",
          "Thu 2022.05.19 23:55",
          "Thu 2022.05.19 23:55",
          "Thu 2022.05.19 23:55",
          "Thu 2022.05.19 23:55",
          "Thu 2022.05.19 23:55",
          "Thu 2022.05.19 23:55",
          "Thu 2022.05.19 23:55",
          "Thu 2022.05.19 23:55",
          "Thu 2022.05.19 23:55",
          "Thu 2022.05.19 23:55",
          "Thu 2022.05.19 23:55",
          "Thu 2022.05.19 23:55",
          "Thu 2022.05.19 23:55",
          "Thu 2022.05.19 23:55",
          "Thu 2022.05.19 23:55",
          "Thu 2022.05.19 23:55",
          "Thu 2022.05.19 23:55",
          "Thu 2022.05.19 23:55",
          "Thu 2022.05.19 23:55",
          "Thu 2022.05.19 23:55",
          "Thu 2022.05.19 23:55",
          "Thu 2022.05.19 23:55",
          "Thu 2022.05.19 23:55",
          "Thu 2022.05.19 23:55",
          "Thu 2022.05.19 23:55",
          "Thu 2022.05.19 23:55",
          "Thu 2022.05.19 23:55",
          "Thu 2022.05.19 23:55",
          "Thu 2022.05.19 23:55",
          "Thu 2022.05.19 23:55",
          "Thu 2022.05.19 23:55",
          "Thu 2022.05.19 23:55",
          "Thu 2022.05.19 23:55",
          "Thu 2022.05.19 23:55",
          "Thu 2022.05.19 23:55",
          "Thu 2022.05.19 23:55",
          "Thu 2022.05.19 23:55",
          "Thu 2022.05.19 23:55",
          "Thu 2022.05.19 23:55",
          "Thu 2022.05.19 23:55",
          "Thu 2022.05.19 23:55",
          "Thu 2022.05.19 23:55",
          "Thu 2022.05.19 23:55",
          "Thu 2022.05.19 23:55",
          "Thu 2022.05.19 23:55",
          "Thu 2022.05.19 23:55",
          "Thu 2022.05.19 23:55",
          "Thu 2022.05.19 23:55",
          "Thu 2022.05.19 23:55",
          "Thu 2022.05.19 23:55",
          "Thu 2022.05.19 23:55",
          "Thu 2022.05.19 23:55",
          "Thu 2022.05.19 23:55",
          "Thu 2022.05.19 23:55",
          "Thu 2022.05.19 23:55",
          "Thu 2022.05.19 23:55",
          "Thu 2022.05.19 23:55",
          "Thu 2022.05.19 23:55",
          "Thu 2022.05.19 23:55",
          "Thu 2022.05.19 23:55",
          "Thu 2022.05.19 23:55",
          "Thu 2022.05.19 23:55",
          "Thu 2022.05.19 23:55",
          "Thu 2022.05.19 23:55",
          "Thu 2022.05.19 23:55",
          "Thu 2022.05.19 23:55",
          "Thu 2022.05.19 23:55",
          "Thu 2022.05.19 23:55",
          "Thu 2022.05.19 23:55",
          "Thu 2022.05.19 23:55",
          "Thu 2022.05.19 23:55",
          "Thu 2022.05.19 23:55",
          "Thu 2022.05.19 23:55",
          "Thu 2022.05.19 23:55",
          "Thu 2022.05.19 23:55",
          "Thu 2022.05.19 23:55",
          "Thu 2022.05.19 23:55",
          "Thu 2022.05.19 23:55",
          "Thu 2022.05.19 23:55",
          "Thu 2022.05.19 23:55",
          "Thu 2022.05.19 23:55",
          "Thu 2022.05.19 23:55",
          "Thu 2022.05.19 23:55",
          "Thu 2022.05.19 23:55",
          "Thu 2022.05.19 23:55",
          "Thu 2022.05.19 23:55",
          "Thu 2022.05.19 23:55",
          "Thu 2022.05.19 23:55",
          "Thu 2022.05.19 23:55",
          "Thu 2022.05.19 23:55",
          "Thu 2022.05.19 23:55",
          "Thu 2022.05.19 23:55",
          "Thu 2022.05.19 23:55",
          "Thu 2022.05.19 23:55",
          "Thu 2022.05.19 23:55",
          "Thu 2022.05.19 23:55",
          "Thu 2022.05.19 23:55",
          "Thu 2022.05.19 23:55",
          "Thu 2022.05.19 23:55",
          "Thu 2022.05.19 23:55",
          "Thu 2022.05.19 23:55",
          "Thu 2022.05.19 23:55",
          "Thu 2022.05.19 23:55",
          "Thu 2022.05.19 23:55",
          "Thu 2022.05.19 23:55",
          "Thu 2022.05.19 23:55",
          "Thu 2022.05.19 23:55",
          "Thu 2022.05.19 23:55",
          "Thu 2022.05.19 23:55",
          "Thu 2022.05.19 23:55",
          "Thu 2022.05.19 23:55",
          "Thu 2022.05.19 23:55",
          "Thu 2022.05.19 23:55",
          "Thu 2022.05.19 23:55",
          "Thu 2022.05.19 23:55",
          "Thu 2022.05.19 23:55",
          "Thu 2022.05.19 23:55",
          "Thu 2022.05.19 23:55",
          "Thu 2022.05.19 23:55",
          "Thu 2022.05.19 23:55",
          "Thu 2022.05.19 23:55",
          "Thu 2022.05.19 23:55",
          "Thu 2022.05.19 23:55",
          "Thu 2022.05.19 23:55",
          "Thu 2022.05.19 23:55",
          "Thu 2022.05.19 23:55",
          "Thu 2022.05.19 23:55",
          "Thu 2022.05.19 23:55",
          "Thu 2022.05.19 23:55",
          "Thu 2022.05.19 23:55",
          "Thu 2022.05.19 23:55",
          "Thu 2022.05.19 23:55",
          "Thu 2022.05.19 23:55",
          "Thu 2022.05.19 23:55",
          "Thu 2022.05.19 23:55",
          "Thu 2022.05.19 23:55",
          "Thu 2022.05.19 23:55",
          "Thu 2022.05.19 23:55",
          "Thu 2022.05.19 23:55",
          "Thu 2022.05.19 23:55",
          "Thu 2022.05.19 23:55",
          "Thu 2022.05.19 23:55",
          "Thu 2022.05.19 23:55",
          "Fri 2022.05.20 00:41",
          "Fri 2022.05.20 00:41",
          "Fri 2022.05.20 00:41",
          "Fri 2022.05.20 00:41",
          "Fri 2022.05.20 00:41",
          "Fri 2022.05.20 00:41",
          "Fri 2022.05.20 00:41",
          "Fri 2022.05.20 00:41",
          "Fri 2022.05.20 00:41",
          "Fri 2022.05.20 00:41",
          "Fri 2022.05.20 00:41",
          "Fri 2022.05.20 00:41",
          "Fri 2022.05.20 00:41",
          "Fri 2022.05.20 00:41",
          "Fri 2022.05.20 00:41",
          "Fri 2022.05.20 00:41",
          "Fri 2022.05.20 00:41",
          "Fri 2022.05.20 00:41",
          "Fri 2022.05.20 00:41",
          "Fri 2022.05.20 00:41",
          "Fri 2022.05.20 00:41",
          "Fri 2022.05.20 00:41",
          "Fri 2022.05.20 00:41",
          "Fri 2022.05.20 00:41",
          "Fri 2022.05.20 00:41",
          "Fri 2022.05.20 00:41",
          "Fri 2022.05.20 00:41",
          "Fri 2022.05.20 00:41",
          "Fri 2022.05.20 00:41",
          "Fri 2022.05.20 00:41",
          "Fri 2022.05.20 00:41",
          "Fri 2022.05.20 00:41",
          "Fri 2022.05.20 00:41",
          "Fri 2022.05.20 00:41",
          "Fri 2022.05.20 00:41",
          "Fri 2022.05.20 00:41",
          "Fri 2022.05.20 00:41",
          "Fri 2022.05.20 00:41",
          "Fri 2022.05.20 00:41",
          "Fri 2022.05.20 00:41",
          "Fri 2022.05.20 00:41",
          "Fri 2022.05.20 00:41",
          "Fri 2022.05.20 00:41",
          "Fri 2022.05.20 00:41",
          "Fri 2022.05.20 00:41",
          "Fri 2022.05.20 00:41",
          "Fri 2022.05.20 00:41",
          "Fri 2022.05.20 00:41",
          "Fri 2022.05.20 00:41",
          "Fri 2022.05.20 00:41",
          "Fri 2022.05.20 00:41",
          "Fri 2022.05.20 00:41",
          "Fri 2022.05.20 00:41",
          "Fri 2022.05.20 00:41",
          "Fri 2022.05.20 00:41",
          "Fri 2022.05.20 00:41",
          "Fri 2022.05.20 00:41",
          "Fri 2022.05.20 00:41",
          "Fri 2022.05.20 00:41",
          "Fri 2022.05.20 00:41",
          "Fri 2022.05.20 00:41",
          "Fri 2022.05.20 00:41",
          "Fri 2022.05.20 00:41",
          "Fri 2022.05.20 00:41",
          "Fri 2022.05.20 00:41",
          "Fri 2022.05.20 00:41",
          "Fri 2022.05.20 00:41",
          "Fri 2022.05.20 00:41",
          "Fri 2022.05.20 00:41",
          "Fri 2022.05.20 00:41",
          "Fri 2022.05.20 00:41",
          "Fri 2022.05.20 00:41",
          "Fri 2022.05.20 00:41",
          "Fri 2022.05.20 00:41",
          "Fri 2022.05.20 00:41",
          "Fri 2022.05.20 00:41",
          "Fri 2022.05.20 00:41",
          "Fri 2022.05.20 00:41",
          "Fri 2022.05.20 00:41",
          "Fri 2022.05.20 00:41",
          "Fri 2022.05.20 00:41",
          "Fri 2022.05.20 00:41",
          "Fri 2022.05.20 00:41",
          "Fri 2022.05.20 00:41",
          "Fri 2022.05.20 00:41",
          "Fri 2022.05.20 00:41",
          "Fri 2022.05.20 00:41",
          "Fri 2022.05.20 00:41",
          "Fri 2022.05.20 00:41",
          "Fri 2022.05.20 00:41",
          "Fri 2022.05.20 00:41",
          "Fri 2022.05.20 00:41",
          "Fri 2022.05.20 00:41",
          "Fri 2022.05.20 00:41",
          "Fri 2022.05.20 00:41",
          "Fri 2022.05.20 00:41",
          "Fri 2022.05.20 00:41",
          "Fri 2022.05.20 00:41",
          "Fri 2022.05.20 00:41",
          "Fri 2022.05.20 00:41",
          "Fri 2022.05.20 00:41",
          "Fri 2022.05.20 00:41",
          "Fri 2022.05.20 00:41",
          "Fri 2022.05.20 00:41",
          "Fri 2022.05.20 00:41",
          "Fri 2022.05.20 00:41",
          "Fri 2022.05.20 00:41",
          "Fri 2022.05.20 00:41",
          "Fri 2022.05.20 00:41",
          "Fri 2022.05.20 00:41",
          "Fri 2022.05.20 00:41",
          "Fri 2022.05.20 00:41",
          "Fri 2022.05.20 00:41",
          "Fri 2022.05.20 00:41",
          "Fri 2022.05.20 00:41",
          "Fri 2022.05.20 00:41",
          "Fri 2022.05.20 00:41",
          "Fri 2022.05.20 00:41",
          "Fri 2022.05.20 00:41",
          "Fri 2022.05.20 00:41",
          "Fri 2022.05.20 00:41",
          "Fri 2022.05.20 00:41",
          "Fri 2022.05.20 00:41",
          "Fri 2022.05.20 00:41",
          "Fri 2022.05.20 00:41",
          "Fri 2022.05.20 00:41",
          "Fri 2022.05.20 00:41",
          "Fri 2022.05.20 00:41",
          "Fri 2022.05.20 00:41",
          "Fri 2022.05.20 00:41",
          "Fri 2022.05.20 00:41",
          "Fri 2022.05.20 00:41",
          "Fri 2022.05.20 00:41",
          "Fri 2022.05.20 00:41",
          "Fri 2022.05.20 00:41",
          "Fri 2022.05.20 00:41",
          "Fri 2022.05.20 00:41",
          "Fri 2022.05.20 00:41",
          "Fri 2022.05.20 00:41",
          "Fri 2022.05.20 00:41",
          "Fri 2022.05.20 00:41",
          "Fri 2022.05.20 00:41",
          "Fri 2022.05.20 00:41",
          "Fri 2022.05.20 00:41",
          "Fri 2022.05.20 00:41",
          "Fri 2022.05.20 00:41",
          "Fri 2022.05.20 00:41",
          "Fri 2022.05.20 00:41",
          "Fri 2022.05.20 00:41",
          "Fri 2022.05.20 00:41",
          "Fri 2022.05.20 00:41",
          "Fri 2022.05.20 00:41",
          "Fri 2022.05.20 00:41",
          "Fri 2022.05.20 00:41",
          "Fri 2022.05.20 00:41",
          "Fri 2022.05.20 00:41",
          "Fri 2022.05.20 00:41",
          "Fri 2022.05.20 00:41",
          "Fri 2022.05.20 00:41",
          "Fri 2022.05.20 00:41",
          "Fri 2022.05.20 00:41",
          "Fri 2022.05.20 00:41",
          "Fri 2022.05.20 00:41",
          "Fri 2022.05.20 00:41",
          "Fri 2022.05.20 00:41",
          "Fri 2022.05.20 00:41",
          "Fri 2022.05.20 00:41",
          "Fri 2022.05.20 01:22",
          "Fri 2022.05.20 01:22",
          "Fri 2022.05.20 01:22",
          "Fri 2022.05.20 01:22",
          "Fri 2022.05.20 01:22",
          "Fri 2022.05.20 01:22",
          "Fri 2022.05.20 01:22",
          "Fri 2022.05.20 01:22",
          "Fri 2022.05.20 01:22",
          "Fri 2022.05.20 01:22",
          "Fri 2022.05.20 01:22",
          "Fri 2022.05.20 01:22",
          "Fri 2022.05.20 01:22",
          "Fri 2022.05.20 01:22",
          "Fri 2022.05.20 01:22",
          "Fri 2022.05.20 01:22",
          "Fri 2022.05.20 01:22",
          "Fri 2022.05.20 01:22",
          "Fri 2022.05.20 01:22",
          "Fri 2022.05.20 01:22",
          "Fri 2022.05.20 01:22",
          "Fri 2022.05.20 01:22",
          "Fri 2022.05.20 01:22",
          "Fri 2022.05.20 01:22",
          "Fri 2022.05.20 01:22",
          "Fri 2022.05.20 01:22",
          "Fri 2022.05.20 01:22",
          "Fri 2022.05.20 01:22",
          "Fri 2022.05.20 01:22",
          "Fri 2022.05.20 01:22",
          "Fri 2022.05.20 01:22",
          "Fri 2022.05.20 01:22",
          "Fri 2022.05.20 01:22",
          "Fri 2022.05.20 01:22",
          "Fri 2022.05.20 01:22",
          "Fri 2022.05.20 01:22",
          "Fri 2022.05.20 01:22",
          "Fri 2022.05.20 01:22",
          "Fri 2022.05.20 01:22",
          "Fri 2022.05.20 01:22",
          "Fri 2022.05.20 01:22",
          "Fri 2022.05.20 01:22",
          "Fri 2022.05.20 01:22",
          "Fri 2022.05.20 01:22",
          "Fri 2022.05.20 01:22",
          "Fri 2022.05.20 01:22",
          "Fri 2022.05.20 01:22",
          "Fri 2022.05.20 01:22",
          "Fri 2022.05.20 01:22",
          "Fri 2022.05.20 01:22",
          "Fri 2022.05.20 01:22",
          "Fri 2022.05.20 01:22",
          "Fri 2022.05.20 01:22",
          "Fri 2022.05.20 01:22",
          "Fri 2022.05.20 01:22",
          "Fri 2022.05.20 01:22",
          "Fri 2022.05.20 01:22",
          "Fri 2022.05.20 01:22",
          "Fri 2022.05.20 01:22",
          "Fri 2022.05.20 01:22",
          "Fri 2022.05.20 01:22",
          "Fri 2022.05.20 01:22",
          "Fri 2022.05.20 01:22",
          "Fri 2022.05.20 01:22",
          "Fri 2022.05.20 01:22",
          "Fri 2022.05.20 01:22",
          "Fri 2022.05.20 01:22",
          "Fri 2022.05.20 01:22",
          "Fri 2022.05.20 01:22",
          "Fri 2022.05.20 01:22",
          "Fri 2022.05.20 01:22",
          "Fri 2022.05.20 01:22",
          "Fri 2022.05.20 01:22",
          "Fri 2022.05.20 01:22",
          "Fri 2022.05.20 01:22",
          "Fri 2022.05.20 01:22",
          "Fri 2022.05.20 01:22",
          "Fri 2022.05.20 01:22",
          "Fri 2022.05.20 01:22",
          "Fri 2022.05.20 01:22",
          "Fri 2022.05.20 01:22",
          "Fri 2022.05.20 01:22",
          "Fri 2022.05.20 01:22",
          "Fri 2022.05.20 01:22",
          "Fri 2022.05.20 01:22",
          "Fri 2022.05.20 01:22",
          "Fri 2022.05.20 01:22",
          "Fri 2022.05.20 01:22",
          "Fri 2022.05.20 01:22",
          "Fri 2022.05.20 01:22",
          "Fri 2022.05.20 01:22",
          "Fri 2022.05.20 01:22",
          "Fri 2022.05.20 01:22",
          "Fri 2022.05.20 01:22",
          "Fri 2022.05.20 01:22",
          "Fri 2022.05.20 01:22",
          "Fri 2022.05.20 01:22",
          "Fri 2022.05.20 01:22",
          "Fri 2022.05.20 01:22",
          "Fri 2022.05.20 01:22",
          "Fri 2022.05.20 01:22",
          "Fri 2022.05.20 01:22",
          "Fri 2022.05.20 01:22",
          "Fri 2022.05.20 01:22",
          "Fri 2022.05.20 01:22",
          "Fri 2022.05.20 01:22",
          "Fri 2022.05.20 01:22",
          "Fri 2022.05.20 01:22",
          "Fri 2022.05.20 01:22",
          "Fri 2022.05.20 01:22",
          "Fri 2022.05.20 01:22",
          "Fri 2022.05.20 01:22",
          "Fri 2022.05.20 01:22",
          "Fri 2022.05.20 01:22",
          "Fri 2022.05.20 01:22",
          "Fri 2022.05.20 01:22",
          "Fri 2022.05.20 01:22",
          "Fri 2022.05.20 01:22",
          "Fri 2022.05.20 01:22",
          "Fri 2022.05.20 01:22",
          "Fri 2022.05.20 01:22",
          "Fri 2022.05.20 01:22",
          "Fri 2022.05.20 01:22",
          "Fri 2022.05.20 01:22",
          "Fri 2022.05.20 01:22",
          "Fri 2022.05.20 01:22",
          "Fri 2022.05.20 01:22",
          "Fri 2022.05.20 01:22",
          "Fri 2022.05.20 01:22",
          "Fri 2022.05.20 01:22",
          "Fri 2022.05.20 01:22",
          "Fri 2022.05.20 01:22",
          "Fri 2022.05.20 01:22",
          "Fri 2022.05.20 01:22",
          "Fri 2022.05.20 01:22",
          "Fri 2022.05.20 01:22",
          "Fri 2022.05.20 01:22",
          "Fri 2022.05.20 01:22",
          "Fri 2022.05.20 01:22",
          "Fri 2022.05.20 01:22",
          "Fri 2022.05.20 01:22",
          "Fri 2022.05.20 01:22",
          "Fri 2022.05.20 01:22",
          "Fri 2022.05.20 01:22",
          "Fri 2022.05.20 01:22",
          "Fri 2022.05.20 01:22",
          "Fri 2022.05.20 01:22",
          "Fri 2022.05.20 01:22",
          "Fri 2022.05.20 01:22",
          "Fri 2022.05.20 01:22",
          "Fri 2022.05.20 01:22",
          "Fri 2022.05.20 01:22",
          "Fri 2022.05.20 01:22",
          "Fri 2022.05.20 01:22",
          "Fri 2022.05.20 01:22",
          "Fri 2022.05.20 01:22",
          "Fri 2022.05.20 01:22",
          "Fri 2022.05.20 01:22",
          "Fri 2022.05.20 01:22",
          "Fri 2022.05.20 01:22",
          "Fri 2022.05.20 01:22",
          "Fri 2022.05.20 01:22",
          "Fri 2022.05.20 01:22",
          "Fri 2022.05.20 01:22",
          "Fri 2022.05.20 01:22",
          "Fri 2022.05.20 01:22",
          "Fri 2022.05.20 01:22",
          "Fri 2022.05.20 01:22",
          "Fri 2022.05.20 01:22",
          "Fri 2022.05.20 01:22",
          "Fri 2022.05.20 01:22",
          "Fri 2022.05.20 01:22",
          "Fri 2022.05.20 01:22",
          "Fri 2022.05.20 01:22",
          "Fri 2022.05.20 01:22",
          "Fri 2022.05.20 01:22",
          "Fri 2022.05.20 01:22",
          "Fri 2022.05.20 01:22",
          "Fri 2022.05.20 01:22",
          "Fri 2022.05.20 01:22",
          "Fri 2022.05.20 01:22",
          "Fri 2022.05.20 01:22",
          "Fri 2022.05.20 01:22",
          "Fri 2022.05.20 01:22",
          "Fri 2022.05.20 01:22",
          "Fri 2022.05.20 01:22",
          "Fri 2022.05.20 01:22",
          "Fri 2022.05.20 01:22",
          "Fri 2022.05.20 01:22",
          "Fri 2022.05.20 01:22"
         ],
         "xaxis": "x",
         "y": [
          0,
          0,
          0,
          0,
          0,
          0,
          0,
          0,
          0,
          0,
          0,
          0,
          0,
          0,
          0,
          0,
          0,
          0,
          416.17791748046875,
          338.22772216796875,
          490.81549072265625,
          686.3093872070312,
          506.97674560546875,
          931.5115356445312,
          717.5174560546875,
          618.35888671875,
          380.74127197265625,
          211.59226989746094,
          350.72601318359375,
          711.162353515625,
          474.0362854003906,
          382.3904113769531,
          1004.2433471679688,
          743.053955078125,
          565.3182373046875,
          317.18798828125,
          25.989547729492188,
          255.7526397705078,
          654.6629028320312,
          340.547607421875,
          67.97835540771484,
          974.5257568359375,
          647.1600952148438,
          360.9232482910156,
          261.97088623046875,
          294.5498352050781,
          556.2068481445312,
          663.314697265625,
          465.15283203125,
          486.85577392578125,
          1035.8284912109375,
          773.680908203125,
          642.2540283203125,
          1258.3912353515625,
          547.9763793945312,
          127.90620422363281,
          953.7036743164062,
          395.8059997558594,
          776.94287109375,
          112.0808334350586,
          306.74615478515625,
          666.73681640625,
          642.6885986328125,
          209.1442413330078,
          171.07666015625,
          1149.466064453125,
          688.2763061523438,
          285.1859436035156,
          23.67705535888672,
          466.6502685546875,
          886.8441772460938,
          688.0648193359375,
          180.7448272705078,
          262.0615539550781,
          1325.94677734375,
          785.6834106445312,
          314.32110595703125,
          378.07196044921875,
          580.052001953125,
          1004.0045166015625,
          998.4548950195312,
          564.7788696289062,
          522.8799438476562,
          1710.452392578125,
          1151.910400390625,
          734.308349609375,
          1907.4295654296875,
          520.7936401367188,
          1904.087646484375,
          616.3582763671875,
          1892.6986083984375,
          735.9200439453125,
          2617.180419921875,
          2235.970458984375,
          1709.3988037109375,
          1270.872802734375,
          1938.710693359375,
          1405.36865234375,
          1918.3631591796875,
          1422.6134033203125,
          945.2952270507812,
          1914.538818359375,
          1437.82568359375,
          968.6414794921875,
          1277.1470947265625,
          562.1897583007812,
          256.151611328125,
          843.2127075195312,
          137.9834442138672,
          629.533447265625,
          465.2050476074219,
          272.3851013183594,
          1029.1605224609375,
          537.9647827148438,
          839.4259033203125,
          1203.8720703125,
          805.255859375,
          1109.1929931640625,
          1464.171630859375,
          1369.32177734375,
          1727.6529541015625,
          1120.487060546875,
          981.0868530273438,
          851.1519165039062,
          996.0535278320312,
          854.217041015625,
          719.2343139648438,
          879.12939453125,
          730.3683471679688,
          438.0943908691406,
          528.4718017578125,
          683.923095703125,
          696.099853515625,
          855.3653564453125,
          721.6146240234375,
          858.3898315429688,
          796.6239013671875,
          850.630126953125,
          982.14697265625,
          906.7255249023438,
          974.2354736328125,
          1091.4112548828125,
          1009.240234375,
          1084.824951171875,
          1196.0576171875,
          742.0399169921875,
          808.1189575195312,
          813.6168823242188,
          904.4282836914062,
          876.9022827148438,
          987.93798828125,
          929.4805297851562,
          971.4586181640625,
          1044.479248046875,
          1015.1688232421875,
          1075.114501953125,
          1178.9298095703125,
          1083.6317138671875,
          1161.468994140625,
          1290.651123046875,
          1014.0342407226562,
          1008.9436645507812,
          997.6520385742188,
          1001.7804565429688,
          996.2548217773438,
          984.60498046875,
          993.8182983398438,
          985.6109008789062,
          971.3380126953125,
          1036.2939453125,
          952.463623046875,
          873.0173950195312,
          1015.3136596679688,
          872.5978393554688,
          999.9393920898438,
          931.5916137695312,
          866.8954467773438,
          1181.879150390625,
          979.7386474609375,
          773.169677734375,
          1187.036865234375,
          1003.6220092773438,
          816.1609497070312,
          1191.5208740234375,
          1018.1117553710938,
          843.8368530273438,
          1188.948486328125,
          963.0364990234375,
          733.2752685546875,
          1148.766845703125,
          957.679931640625,
          763.0726318359375,
          1123.0400390625,
          950.1543579101562,
          776.8457641601562,
          942.2014770507812,
          690.2488403320312,
          447.7799987792969,
          958.7313232421875,
          744.6611938476562,
          535.0215454101562,
          976.4493408203125,
          784.0426025390625,
          595.0892944335938,
          439.9121398925781,
          275.3606262207031,
          712.2205200195312,
          520.6515502929688,
          359.7443542480469,
          760.3284301757812,
          584.5074462890625,
          430.3363952636719,
          896.591552734375,
          585.1456298828125,
          297.3500061035156,
          660.6573486328125,
          408.8651123046875,
          962.342041015625,
          718.8244018554688,
          490.3931884765625,
          759.94775390625,
          465.2959289550781,
          268.2928161621094,
          837.7498168945312,
          575.5540771484375,
          375.8492126464844,
          906.6499633789062,
          662.467529296875,
          466.6990966796875,
          871.2012329101562,
          571.2653198242188,
          312.70501708984375,
          965.6703491210938,
          698.6289672851562,
          455.7183837890625,
          1049.9879150390625,
          801.90673828125,
          572.1490478515625,
          730.1537475585938,
          424.8649597167969,
          159.30734252929688,
          886.4813232421875,
          603.23046875,
          349.5961608886719,
          1022.1060180664062,
          752.6183471679688,
          507.72930908203125,
          322.1756286621094,
          323.6991271972656,
          333.5039978027344,
          362.69366455078125,
          382.6400146484375,
          449.8529968261719,
          471.3203125,
          491.19403076171875,
          478.0747375488281,
          360.3924255371094,
          389.0362243652344,
          289.42047119140625,
          207.89085388183594,
          314.247802734375,
          248.06509399414062,
          209.222412109375,
          188.06341552734375,
          137.76649475097656,
          87.52486419677734,
          60.40251922607422,
          8.090770721435547,
          44.73784637451172,
          72.5311508178711,
          125.48139190673828,
          179.33685302734375,
          399.3941955566406,
          382.34075927734375,
          388.4119873046875,
          309.87249755859375,
          330.807861328125,
          380.7218933105469,
          268.737548828125,
          336.4614562988281,
          427.3868103027344,
          527.5081787109375,
          492.40545654296875,
          463.2039489746094,
          414.1054382324219,
          380.3515319824219,
          350.2232666015625,
          305.26678466796875,
          271.69781494140625,
          241.4233856201172,
          368.62554931640625,
          229.49583435058594,
          260.4323425292969,
          112.3607177734375,
          156.0504913330078,
          80.02188110351562,
          46.10823440551758,
          374.2986755371094,
          300.8451843261719,
          212.74124145507812,
          271.1354675292969,
          191.36941528320312,
          104.45247650146484,
          174.33599853515625,
          89.38639068603516,
          50.096134185791016,
          466.1658630371094,
          485.1369323730469,
          542.7241821289062,
          430.8667907714844,
          561.499755859375,
          422.8005065917969,
          497.65765380859375,
          609.626953125,
          449.5910339355469,
          423.60369873046875,
          405.0855712890625,
          338.33563232421875,
          306.04296875,
          294.6567077636719,
          247.44908142089844,
          221.22299194335938,
          233.07093811035156,
          303.9673767089844,
          231.30654907226562,
          196.22019958496094,
          217.6443328857422,
          179.55572509765625,
          217.38572692871094,
          170.07936096191406,
          196.0958709716797,
          289.0430908203125,
          43.38420104980469,
          73.8902587890625,
          208.2841339111328,
          174.53611755371094,
          250.49737548828125,
          354.3096618652344,
          503.17431640625,
          235.80709838867188,
          122.8321533203125,
          60.71128463745117,
          284.5745849609375,
          207.7183074951172,
          190.36341857910156,
          335.9115295410156,
          277.7825622558594,
          266.9425964355469,
          209.0224609375,
          127.38359832763672,
          144.6707000732422,
          261.34783935546875,
          213.33099365234375,
          225.6385955810547,
          297.15234375,
          259.6395568847656,
          267.62115478515625,
          278.0838928222656,
          238.3909149169922,
          285.0513916015625,
          282.7401123046875,
          259.5028076171875,
          293.5195007324219,
          281.4393615722656,
          263.9828796386719,
          319.73193359375,
          259.60809326171875,
          299.628173828125,
          323.55792236328125,
          284.291259765625,
          314.9815368652344,
          325.4089660644531,
          294.7082824707031,
          317.8795471191406,
          358.2098693847656,
          404.617431640625,
          492.5704650878906,
          356.0276794433594,
          388.8716735839844,
          449.53741455078125,
          349.43939208984375,
          368.6602783203125,
          414.9576721191406,
          259.57244873046875,
          577.6135864257812,
          1051.376708984375,
          215.36859130859375,
          465.4924011230469,
          826.812744140625,
          207.27650451660156,
          390.9585266113281,
          680.0027465820312,
          264.8896789550781,
          279.0804443359375,
          311.939697265625,
          256.01605224609375,
          267.863525390625,
          290.7267761230469,
          246.89990234375,
          258.2948913574219,
          275.7171325683594,
          505.53875732421875,
          397.4988098144531,
          323.729736328125,
          455.8433532714844,
          355.1789245605469,
          286.66851806640625,
          420.52471923828125,
          322.13275146484375,
          259.6909484863281,
          191.1391143798828,
          197.07369995117188,
          220.88182067871094,
          206.08441162109375,
          207.16688537597656,
          221.1669464111328,
          221.71327209472656,
          216.07614135742188,
          221.7648162841797,
          309.7003479003906,
          239.88858032226562,
          207.30860900878906,
          304.3119812011719,
          259.6375732421875,
          246.68397521972656,
          317.5446472167969,
          287.6292724609375,
          188.80992126464844,
          83.81015014648438,
          100.20618438720703,
          207.57815551757812,
          119.40298461914062,
          104.7882080078125,
          233.26495361328125,
          152.3881072998047,
          121.71047973632812,
          70.7160873413086,
          97.13530731201172,
          218.3518829345703,
          57.62681198120117,
          54.76868438720703,
          170.20188903808594,
          93.80437469482422,
          143.73036193847656,
          49.743431091308594,
          107.84291076660156,
          225.59666442871094,
          26.357858657836914,
          85.11713409423828,
          193.27890014648438,
          31.30518341064453,
          73.34817504882812,
          167.6431884765625,
          120.75981903076172,
          43.67318344116211,
          178.92193603515625,
          95.63488006591797,
          39.51618576049805,
          174.4409942626953,
          78.32708740234375,
          48.507747650146484,
          173.7841339111328,
          113.58707427978516,
          79.54334259033203,
          206.8559112548828,
          96.58121490478516,
          53.68062210083008,
          176.979736328125,
          26.38458251953125,
          145.6566619873047,
          109.88290405273438,
          75.64540100097656,
          117.23419952392578,
          87.84207153320312,
          132.8415069580078,
          102.48468017578125,
          149.8352813720703,
          167.50665283203125,
          144.80543518066406,
          181.12213134765625,
          157.24298095703125,
          141.64471435546875,
          175.56265258789062,
          151.22012329101562,
          136.80555725097656,
          162.03759765625,
          773.7755126953125,
          628.58349609375,
          1581.9451904296875,
          2902.7421875,
          1438.339111328125,
          454.7900695800781,
          1477.027587890625,
          432.4264831542969,
          1548.259521484375,
          494.15606689453125,
          1306.1932373046875,
          623.2907104492188,
          684.663330078125,
          626.86279296875,
          733.8291015625,
          623.9159545898438,
          1239.3387451171875,
          515.4946899414062,
          595.9496459960938,
          1241.0909423828125,
          614.073486328125,
          440.6390380859375,
          1261.1329345703125,
          686.4403686523438,
          385.8381652832031,
          1370.8809814453125,
          530.8992309570312,
          666.1101684570312,
          560.0911865234375,
          466.0783386230469,
          1229.5306396484375,
          571.074951171875,
          357.0132141113281,
          976.0849609375,
          188.12911987304688,
          924.6869506835938,
          884.7550659179688,
          186.84605407714844,
          747.1078491210938,
          832.0206298828125,
          184.357666015625,
          635.6830444335938,
          402.55615234375,
          537.455078125,
          1348.301025390625,
          366.1203308105469,
          413.9392395019531,
          1126.1248779296875,
          363.6440734863281,
          319.9788818359375,
          969.2332153320312,
          1061.855712890625,
          269.832763671875,
          585.9368286132812,
          915.1434936523438,
          230.18084716796875,
          475.6119689941406,
          819.881103515625,
          192.66282653808594,
          430.92279052734375,
          693.2562866210938,
          191.93724060058594,
          824.2467041015625,
          512.9846801757812,
          239.4969024658203,
          797.9773559570312,
          404.7491760253906,
          292.9884033203125,
          806.1524658203125,
          968.0899047851562,
          292.4057922363281,
          389.5658874511719,
          826.8095703125,
          298.00982666015625,
          386.44097900390625,
          741.7159423828125,
          433.15118408203125,
          930.28662109375,
          321.29803466796875,
          428.0006103515625,
          792.2780151367188,
          327.9387512207031,
          435.2211608886719,
          707.006591796875,
          347.3704833984375,
          470.6982116699219,
          600.0630493164062,
          850.6438598632812,
          1239.29248046875,
          637.9957885742188,
          873.3402709960938,
          1199.2958984375,
          668.2749633789062,
          900.8970336914062,
          1193.4647216796875,
          358.18450927734375,
          499.9959411621094,
          850.8598022460938,
          375.9850158691406,
          520.0967407226562,
          790.3757934570312,
          400.0749816894531,
          550.567626953125,
          778.8820190429688,
          105.29788970947266,
          1303.42724609375,
          1069.876708984375,
          42.04749298095703,
          1125.0498046875,
          949.1040649414062,
          123.2281494140625,
          1040.6077880859375,
          1442.502685546875,
          1108.2947998046875,
          875.3013305664062,
          2159.652587890625,
          1172.345458984375,
          2587.45263671875,
          620.4530029296875,
          380.68829345703125,
          2090.11962890625,
          466.0150451660156,
          1765.364501953125,
          558.9613037109375,
          1527.9443359375,
          503.1238708496094,
          479.3857116699219,
          1728.154541015625,
          543.32470703125,
          1362.314208984375,
          1247.634765625,
          979.2227172851562,
          1199.1849365234375,
          714.2058715820312,
          1204.88525390625,
          537.8245849609375,
          2008.1446533203125,
          507.1650695800781,
          1635.8271484375,
          700.1673583984375,
          1080.2840576171875,
          900.4406127929688,
          675.8020629882812,
          2196.962890625,
          1704.0699462890625,
          292.02130126953125,
          1905.5733642578125,
          265.504638671875,
          1441.0494384765625,
          2103.461669921875,
          614.8826293945312,
          898.4598999023438,
          1973.1163330078125,
          54.454559326171875,
          1955.2435302734375,
          240.96116638183594,
          1502.3406982421875,
          1986.5950927734375,
          440.8202209472656,
          1125.77490234375,
          1828.381103515625,
          110.80569458007812,
          1955.328125,
          270.58905029296875,
          1435.716552734375,
          560.9861450195312,
          994.4735717773438,
          441.69921875,
          266.6758117675781,
          588.3951416015625,
          203.9912872314453,
          422.2453918457031,
          725.81982421875,
          310.6067199707031,
          235.28749084472656,
          274.2734375,
          910.1153564453125,
          528.1738891601562,
          90.07567596435547,
          553.2037963867188,
          742.18017578125,
          234.61277770996094,
          286.1859130859375,
          270.7265930175781,
          314.2108154296875,
          368.46502685546875,
          867.0238647460938,
          197.18667602539062,
          444.59332275390625,
          279.8152770996094,
          931.4977416992188,
          1558.417724609375,
          365.1930236816406,
          411.7099914550781,
          994.04541015625,
          746.2421264648438,
          157.0323486328125,
          540.1815795898438,
          328.7140197753906,
          1083.955810546875,
          1896.46337890625,
          589.9332885742188,
          431.3887634277344,
          1168.4326171875,
          1098.8790283203125,
          293.86114501953125,
          574.2049560546875,
          397.39154052734375,
          1291.2918701171875,
          430.22076416015625,
          643.0985107421875,
          1470.194580078125,
          891.7625122070312,
          177.35748291015625,
          884.1806640625,
          693.457763671875,
          443.46832275390625,
          1428.4415283203125,
          1192.3829345703125,
          198.5199432373047,
          759.4986572265625,
          1646.3104248046875,
          679.0175170898438,
          216.6692657470703,
          1193.762939453125,
          98.94337463378906,
          1619.926025390625,
          478.7359619140625,
          596.0054931640625,
          2003.552734375,
          923.0081176757812,
          128.8772735595703,
          357.49041748046875,
          965.6178588867188,
          709.4706420898438,
          497.91015625,
          1529.96484375,
          1054.0018310546875,
          250.9513702392578,
          1063.7373046875,
          810.6049194335938,
          450.4662170410156,
          1600.801025390625,
          1009.6543579101562,
          238.58364868164062,
          1182.8526611328125,
          1202.208984375,
          295.0998229980469,
          875.460693359375,
          1201.517333984375,
          1586.615478515625,
          756.3047485351562,
          439.2999267578125,
          1147.6307373046875,
          434.41497802734375,
          719.3839721679688,
          375.9695129394531,
          973.59228515625,
          776.091552734375,
          1327.868408203125,
          1116.083984375,
          1644.30224609375,
          469.9512023925781,
          289.50579833984375,
          424.924560546875,
          202.59410095214844,
          9.464356422424316,
          310.10479736328125,
          213.125732421875,
          505.3325500488281,
          324.04071044921875,
          474.5375671386719,
          772.7116088867188,
          499.3643493652344,
          463.5478820800781,
          599.52099609375,
          280.2010803222656,
          490.4910583496094,
          334.68756103515625,
          486.77716064453125,
          493.7769470214844,
          639.5476684570312,
          319.9415283203125,
          186.50868225097656,
          351.2254943847656,
          269.2334289550781,
          268.77874755859375,
          442.7187805175781,
          294.12890625,
          512.2622680664062,
          532.27490234375,
          261.7798767089844,
          485.958251953125,
          409.037109375,
          385.2774353027344,
          455.3350524902344,
          89.2206039428711,
          308.0010070800781,
          304.82904052734375,
          221.89479064941406,
          439.8079528808594,
          184.1941375732422,
          222.44869995117188,
          315.0690612792969,
          107.8069839477539,
          227.60560607910156,
          529.20849609375,
          243.95718383789062,
          324.7814025878906,
          422.12841796875,
          200.96981811523438,
          243.51055908203125,
          355.5605163574219,
          165.53045654296875,
          249.702880859375,
          217.64682006835938,
          512.4429321289062,
          205.3990936279297,
          426.0163269042969,
          171.05667114257812,
          152.8966827392578,
          471.1980285644531,
          99.99531555175781,
          418.12457275390625,
          357.4745178222656,
          65.56966400146484,
          353.1003112792969,
          284.1640319824219,
          47.94462203979492,
          321.9626770019531,
          780.5154418945312,
          388.6600036621094,
          271.8478698730469,
          640.6392211914062,
          323.20733642578125,
          223.73306274414062,
          548.2125854492188,
          273.401123046875,
          193.11636352539062,
          869.0918579101562,
          480.3111572265625,
          153.21786499023438,
          801.5967407226562,
          457.77532958984375,
          116.18534851074219,
          756.00927734375,
          443.07373046875,
          131.83282470703125,
          785.6442260742188,
          331.8502502441406,
          119.93726348876953,
          771.3267822265625,
          379.5852966308594,
          14.563055038452148,
          769.76171875,
          414.6114807128906,
          75.18934631347656
         ],
         "yaxis": "y"
        }
       ],
       "layout": {
        "barmode": "group",
        "coloraxis": {
         "colorbar": {
          "title": {
           "text": "Laser"
          }
         },
         "colorscale": [
          [
           0,
           "#0d0887"
          ],
          [
           0.1111111111111111,
           "#46039f"
          ],
          [
           0.2222222222222222,
           "#7201a8"
          ],
          [
           0.3333333333333333,
           "#9c179e"
          ],
          [
           0.4444444444444444,
           "#bd3786"
          ],
          [
           0.5555555555555556,
           "#d8576b"
          ],
          [
           0.6666666666666666,
           "#ed7953"
          ],
          [
           0.7777777777777778,
           "#fb9f3a"
          ],
          [
           0.8888888888888888,
           "#fdca26"
          ],
          [
           1,
           "#f0f921"
          ]
         ]
        },
        "legend": {
         "tracegroupgap": 0
        },
        "margin": {
         "t": 60
        },
        "template": {
         "data": {
          "bar": [
           {
            "error_x": {
             "color": "#2a3f5f"
            },
            "error_y": {
             "color": "#2a3f5f"
            },
            "marker": {
             "line": {
              "color": "#E5ECF6",
              "width": 0.5
             },
             "pattern": {
              "fillmode": "overlay",
              "size": 10,
              "solidity": 0.2
             }
            },
            "type": "bar"
           }
          ],
          "barpolar": [
           {
            "marker": {
             "line": {
              "color": "#E5ECF6",
              "width": 0.5
             },
             "pattern": {
              "fillmode": "overlay",
              "size": 10,
              "solidity": 0.2
             }
            },
            "type": "barpolar"
           }
          ],
          "carpet": [
           {
            "aaxis": {
             "endlinecolor": "#2a3f5f",
             "gridcolor": "white",
             "linecolor": "white",
             "minorgridcolor": "white",
             "startlinecolor": "#2a3f5f"
            },
            "baxis": {
             "endlinecolor": "#2a3f5f",
             "gridcolor": "white",
             "linecolor": "white",
             "minorgridcolor": "white",
             "startlinecolor": "#2a3f5f"
            },
            "type": "carpet"
           }
          ],
          "choropleth": [
           {
            "colorbar": {
             "outlinewidth": 0,
             "ticks": ""
            },
            "type": "choropleth"
           }
          ],
          "contour": [
           {
            "colorbar": {
             "outlinewidth": 0,
             "ticks": ""
            },
            "colorscale": [
             [
              0,
              "#0d0887"
             ],
             [
              0.1111111111111111,
              "#46039f"
             ],
             [
              0.2222222222222222,
              "#7201a8"
             ],
             [
              0.3333333333333333,
              "#9c179e"
             ],
             [
              0.4444444444444444,
              "#bd3786"
             ],
             [
              0.5555555555555556,
              "#d8576b"
             ],
             [
              0.6666666666666666,
              "#ed7953"
             ],
             [
              0.7777777777777778,
              "#fb9f3a"
             ],
             [
              0.8888888888888888,
              "#fdca26"
             ],
             [
              1,
              "#f0f921"
             ]
            ],
            "type": "contour"
           }
          ],
          "contourcarpet": [
           {
            "colorbar": {
             "outlinewidth": 0,
             "ticks": ""
            },
            "type": "contourcarpet"
           }
          ],
          "heatmap": [
           {
            "colorbar": {
             "outlinewidth": 0,
             "ticks": ""
            },
            "colorscale": [
             [
              0,
              "#0d0887"
             ],
             [
              0.1111111111111111,
              "#46039f"
             ],
             [
              0.2222222222222222,
              "#7201a8"
             ],
             [
              0.3333333333333333,
              "#9c179e"
             ],
             [
              0.4444444444444444,
              "#bd3786"
             ],
             [
              0.5555555555555556,
              "#d8576b"
             ],
             [
              0.6666666666666666,
              "#ed7953"
             ],
             [
              0.7777777777777778,
              "#fb9f3a"
             ],
             [
              0.8888888888888888,
              "#fdca26"
             ],
             [
              1,
              "#f0f921"
             ]
            ],
            "type": "heatmap"
           }
          ],
          "heatmapgl": [
           {
            "colorbar": {
             "outlinewidth": 0,
             "ticks": ""
            },
            "colorscale": [
             [
              0,
              "#0d0887"
             ],
             [
              0.1111111111111111,
              "#46039f"
             ],
             [
              0.2222222222222222,
              "#7201a8"
             ],
             [
              0.3333333333333333,
              "#9c179e"
             ],
             [
              0.4444444444444444,
              "#bd3786"
             ],
             [
              0.5555555555555556,
              "#d8576b"
             ],
             [
              0.6666666666666666,
              "#ed7953"
             ],
             [
              0.7777777777777778,
              "#fb9f3a"
             ],
             [
              0.8888888888888888,
              "#fdca26"
             ],
             [
              1,
              "#f0f921"
             ]
            ],
            "type": "heatmapgl"
           }
          ],
          "histogram": [
           {
            "marker": {
             "pattern": {
              "fillmode": "overlay",
              "size": 10,
              "solidity": 0.2
             }
            },
            "type": "histogram"
           }
          ],
          "histogram2d": [
           {
            "colorbar": {
             "outlinewidth": 0,
             "ticks": ""
            },
            "colorscale": [
             [
              0,
              "#0d0887"
             ],
             [
              0.1111111111111111,
              "#46039f"
             ],
             [
              0.2222222222222222,
              "#7201a8"
             ],
             [
              0.3333333333333333,
              "#9c179e"
             ],
             [
              0.4444444444444444,
              "#bd3786"
             ],
             [
              0.5555555555555556,
              "#d8576b"
             ],
             [
              0.6666666666666666,
              "#ed7953"
             ],
             [
              0.7777777777777778,
              "#fb9f3a"
             ],
             [
              0.8888888888888888,
              "#fdca26"
             ],
             [
              1,
              "#f0f921"
             ]
            ],
            "type": "histogram2d"
           }
          ],
          "histogram2dcontour": [
           {
            "colorbar": {
             "outlinewidth": 0,
             "ticks": ""
            },
            "colorscale": [
             [
              0,
              "#0d0887"
             ],
             [
              0.1111111111111111,
              "#46039f"
             ],
             [
              0.2222222222222222,
              "#7201a8"
             ],
             [
              0.3333333333333333,
              "#9c179e"
             ],
             [
              0.4444444444444444,
              "#bd3786"
             ],
             [
              0.5555555555555556,
              "#d8576b"
             ],
             [
              0.6666666666666666,
              "#ed7953"
             ],
             [
              0.7777777777777778,
              "#fb9f3a"
             ],
             [
              0.8888888888888888,
              "#fdca26"
             ],
             [
              1,
              "#f0f921"
             ]
            ],
            "type": "histogram2dcontour"
           }
          ],
          "mesh3d": [
           {
            "colorbar": {
             "outlinewidth": 0,
             "ticks": ""
            },
            "type": "mesh3d"
           }
          ],
          "parcoords": [
           {
            "line": {
             "colorbar": {
              "outlinewidth": 0,
              "ticks": ""
             }
            },
            "type": "parcoords"
           }
          ],
          "pie": [
           {
            "automargin": true,
            "type": "pie"
           }
          ],
          "scatter": [
           {
            "fillpattern": {
             "fillmode": "overlay",
             "size": 10,
             "solidity": 0.2
            },
            "type": "scatter"
           }
          ],
          "scatter3d": [
           {
            "line": {
             "colorbar": {
              "outlinewidth": 0,
              "ticks": ""
             }
            },
            "marker": {
             "colorbar": {
              "outlinewidth": 0,
              "ticks": ""
             }
            },
            "type": "scatter3d"
           }
          ],
          "scattercarpet": [
           {
            "marker": {
             "colorbar": {
              "outlinewidth": 0,
              "ticks": ""
             }
            },
            "type": "scattercarpet"
           }
          ],
          "scattergeo": [
           {
            "marker": {
             "colorbar": {
              "outlinewidth": 0,
              "ticks": ""
             }
            },
            "type": "scattergeo"
           }
          ],
          "scattergl": [
           {
            "marker": {
             "colorbar": {
              "outlinewidth": 0,
              "ticks": ""
             }
            },
            "type": "scattergl"
           }
          ],
          "scattermapbox": [
           {
            "marker": {
             "colorbar": {
              "outlinewidth": 0,
              "ticks": ""
             }
            },
            "type": "scattermapbox"
           }
          ],
          "scatterpolar": [
           {
            "marker": {
             "colorbar": {
              "outlinewidth": 0,
              "ticks": ""
             }
            },
            "type": "scatterpolar"
           }
          ],
          "scatterpolargl": [
           {
            "marker": {
             "colorbar": {
              "outlinewidth": 0,
              "ticks": ""
             }
            },
            "type": "scatterpolargl"
           }
          ],
          "scatterternary": [
           {
            "marker": {
             "colorbar": {
              "outlinewidth": 0,
              "ticks": ""
             }
            },
            "type": "scatterternary"
           }
          ],
          "surface": [
           {
            "colorbar": {
             "outlinewidth": 0,
             "ticks": ""
            },
            "colorscale": [
             [
              0,
              "#0d0887"
             ],
             [
              0.1111111111111111,
              "#46039f"
             ],
             [
              0.2222222222222222,
              "#7201a8"
             ],
             [
              0.3333333333333333,
              "#9c179e"
             ],
             [
              0.4444444444444444,
              "#bd3786"
             ],
             [
              0.5555555555555556,
              "#d8576b"
             ],
             [
              0.6666666666666666,
              "#ed7953"
             ],
             [
              0.7777777777777778,
              "#fb9f3a"
             ],
             [
              0.8888888888888888,
              "#fdca26"
             ],
             [
              1,
              "#f0f921"
             ]
            ],
            "type": "surface"
           }
          ],
          "table": [
           {
            "cells": {
             "fill": {
              "color": "#EBF0F8"
             },
             "line": {
              "color": "white"
             }
            },
            "header": {
             "fill": {
              "color": "#C8D4E3"
             },
             "line": {
              "color": "white"
             }
            },
            "type": "table"
           }
          ]
         },
         "layout": {
          "annotationdefaults": {
           "arrowcolor": "#2a3f5f",
           "arrowhead": 0,
           "arrowwidth": 1
          },
          "autotypenumbers": "strict",
          "coloraxis": {
           "colorbar": {
            "outlinewidth": 0,
            "ticks": ""
           }
          },
          "colorscale": {
           "diverging": [
            [
             0,
             "#8e0152"
            ],
            [
             0.1,
             "#c51b7d"
            ],
            [
             0.2,
             "#de77ae"
            ],
            [
             0.3,
             "#f1b6da"
            ],
            [
             0.4,
             "#fde0ef"
            ],
            [
             0.5,
             "#f7f7f7"
            ],
            [
             0.6,
             "#e6f5d0"
            ],
            [
             0.7,
             "#b8e186"
            ],
            [
             0.8,
             "#7fbc41"
            ],
            [
             0.9,
             "#4d9221"
            ],
            [
             1,
             "#276419"
            ]
           ],
           "sequential": [
            [
             0,
             "#0d0887"
            ],
            [
             0.1111111111111111,
             "#46039f"
            ],
            [
             0.2222222222222222,
             "#7201a8"
            ],
            [
             0.3333333333333333,
             "#9c179e"
            ],
            [
             0.4444444444444444,
             "#bd3786"
            ],
            [
             0.5555555555555556,
             "#d8576b"
            ],
            [
             0.6666666666666666,
             "#ed7953"
            ],
            [
             0.7777777777777778,
             "#fb9f3a"
            ],
            [
             0.8888888888888888,
             "#fdca26"
            ],
            [
             1,
             "#f0f921"
            ]
           ],
           "sequentialminus": [
            [
             0,
             "#0d0887"
            ],
            [
             0.1111111111111111,
             "#46039f"
            ],
            [
             0.2222222222222222,
             "#7201a8"
            ],
            [
             0.3333333333333333,
             "#9c179e"
            ],
            [
             0.4444444444444444,
             "#bd3786"
            ],
            [
             0.5555555555555556,
             "#d8576b"
            ],
            [
             0.6666666666666666,
             "#ed7953"
            ],
            [
             0.7777777777777778,
             "#fb9f3a"
            ],
            [
             0.8888888888888888,
             "#fdca26"
            ],
            [
             1,
             "#f0f921"
            ]
           ]
          },
          "colorway": [
           "#636efa",
           "#EF553B",
           "#00cc96",
           "#ab63fa",
           "#FFA15A",
           "#19d3f3",
           "#FF6692",
           "#B6E880",
           "#FF97FF",
           "#FECB52"
          ],
          "font": {
           "color": "#2a3f5f"
          },
          "geo": {
           "bgcolor": "white",
           "lakecolor": "white",
           "landcolor": "#E5ECF6",
           "showlakes": true,
           "showland": true,
           "subunitcolor": "white"
          },
          "hoverlabel": {
           "align": "left"
          },
          "hovermode": "closest",
          "mapbox": {
           "style": "light"
          },
          "paper_bgcolor": "white",
          "plot_bgcolor": "#E5ECF6",
          "polar": {
           "angularaxis": {
            "gridcolor": "white",
            "linecolor": "white",
            "ticks": ""
           },
           "bgcolor": "#E5ECF6",
           "radialaxis": {
            "gridcolor": "white",
            "linecolor": "white",
            "ticks": ""
           }
          },
          "scene": {
           "xaxis": {
            "backgroundcolor": "#E5ECF6",
            "gridcolor": "white",
            "gridwidth": 2,
            "linecolor": "white",
            "showbackground": true,
            "ticks": "",
            "zerolinecolor": "white"
           },
           "yaxis": {
            "backgroundcolor": "#E5ECF6",
            "gridcolor": "white",
            "gridwidth": 2,
            "linecolor": "white",
            "showbackground": true,
            "ticks": "",
            "zerolinecolor": "white"
           },
           "zaxis": {
            "backgroundcolor": "#E5ECF6",
            "gridcolor": "white",
            "gridwidth": 2,
            "linecolor": "white",
            "showbackground": true,
            "ticks": "",
            "zerolinecolor": "white"
           }
          },
          "shapedefaults": {
           "line": {
            "color": "#2a3f5f"
           }
          },
          "ternary": {
           "aaxis": {
            "gridcolor": "white",
            "linecolor": "white",
            "ticks": ""
           },
           "baxis": {
            "gridcolor": "white",
            "linecolor": "white",
            "ticks": ""
           },
           "bgcolor": "#E5ECF6",
           "caxis": {
            "gridcolor": "white",
            "linecolor": "white",
            "ticks": ""
           }
          },
          "title": {
           "x": 0.05
          },
          "xaxis": {
           "automargin": true,
           "gridcolor": "white",
           "linecolor": "white",
           "ticks": "",
           "title": {
            "standoff": 15
           },
           "zerolinecolor": "white",
           "zerolinewidth": 2
          },
          "yaxis": {
           "automargin": true,
           "gridcolor": "white",
           "linecolor": "white",
           "ticks": "",
           "title": {
            "standoff": 15
           },
           "zerolinecolor": "white",
           "zerolinewidth": 2
          }
         }
        },
        "xaxis": {
         "anchor": "y",
         "domain": [
          0,
          1
         ],
         "title": {
          "text": "Camera"
         }
        },
        "yaxis": {
         "anchor": "x",
         "autorange": "reversed",
         "domain": [
          0,
          1
         ],
         "title": {
          "text": "residual"
         }
        }
       }
      }
     },
     "metadata": {},
     "output_type": "display_data"
    }
   ],
   "source": [
    "# get residuals on beamCaptures\n",
    "\n",
    "data_points = []\n",
    "for camera_capture in calibrate_node['Content']['cameraCaptures']['captures']:\n",
    "\tfor laser_capture in camera_capture['laserCaptures']['captures']:\n",
    "\t\tif laser_capture['Selected']:\n",
    "\t\t\tbeam_capture_index = 0\n",
    "\t\t\tfor beam_capture in laser_capture['beamCaptures']['captures']:\n",
    "\t\t\t\tif beam_capture['Selected']:\n",
    "\t\t\t\t\tdata_point = {}\n",
    "\t\t\t\t\tdata_point['Camera'] = \"{0} {1}\".format(camera_capture['date'], camera_capture['time'])\n",
    "\t\t\t\t\tdata_point['Laser'] = laser_capture['laserAddress']\n",
    "\t\t\t\t\tdata_point['projectionPoint_x'] = beam_capture['projectionPoint'][0]\n",
    "\t\t\t\t\tdata_point['projectionPoint_y'] = beam_capture['projectionPoint'][1]\n",
    "\t\t\t\t\tdata_point['residual'] = beam_capture['residual']\n",
    "\t\t\t\t\tdata_point['beam_capture_index'] = beam_capture_index\n",
    "\t\t\t\t\tdata_points.append(data_point)\n",
    "\t\t\t\t\tbeam_capture_index += 1\n",
    "\n",
    "\n",
    "fig = px.bar(data_points\n",
    "\t, x='Camera'\n",
    "\t, color='Laser'\n",
    "\t, y='residual'\n",
    "\t, hover_name='Laser'\n",
    "\t, hover_data=['beam_capture_index', 'projectionPoint_x', 'projectionPoint_y']\n",
    "\t, barmode=\"group\")\n",
    "fig.update_yaxes(autorange=\"reversed\")\n",
    "fig.show()"
   ]
  },
  {
   "cell_type": "code",
   "execution_count": 300,
   "metadata": {},
   "outputs": [
    {
     "data": {
      "application/vnd.plotly.v1+json": {
       "config": {
        "plotlyServerURL": "https://plot.ly"
       },
       "data": [
        {
         "customdata": [
          [
           0,
           -0.5,
           -0.5
          ],
          [
           1,
           0,
           -0.5
          ],
          [
           2,
           0.5,
           -0.5
          ],
          [
           3,
           -0.5,
           0
          ],
          [
           4,
           0,
           0
          ],
          [
           5,
           0.5,
           0
          ],
          [
           6,
           -0.5,
           0.5
          ],
          [
           7,
           0,
           0.5
          ],
          [
           8,
           0.5,
           0.5
          ],
          [
           0,
           -0.5,
           -0.5
          ],
          [
           1,
           0,
           -0.5
          ],
          [
           2,
           0.5,
           -0.5
          ],
          [
           3,
           -0.5,
           0
          ],
          [
           4,
           0,
           0
          ],
          [
           5,
           0.5,
           0
          ],
          [
           6,
           -0.5,
           0.5
          ],
          [
           7,
           0,
           0.5
          ],
          [
           8,
           0.5,
           0.5
          ]
         ],
         "hovertemplate": "<b>%{hovertext}</b><br><br>Camera=Thu 2022.05.19 22:16<br>residual=%{x}<br>Laser=%{y}<br>beam_capture_index=%{customdata[0]}<br>projectionPoint_x=%{customdata[1]}<br>projectionPoint_y=%{customdata[2]}<extra></extra>",
         "hovertext": [
          1,
          1,
          1,
          1,
          1,
          1,
          1,
          1,
          1,
          2,
          2,
          2,
          2,
          2,
          2,
          2,
          2,
          2
         ],
         "legendgroup": "Thu 2022.05.19 22:16",
         "marker": {
          "color": "#636efa",
          "symbol": "circle"
         },
         "mode": "markers",
         "name": "Thu 2022.05.19 22:16",
         "orientation": "v",
         "showlegend": true,
         "type": "scatter",
         "x": [
          0,
          0,
          0,
          0,
          0,
          0,
          0,
          0,
          0,
          0,
          0,
          0,
          0,
          0,
          0,
          0,
          0,
          0
         ],
         "xaxis": "x",
         "y": [
          1,
          1,
          1,
          1,
          1,
          1,
          1,
          1,
          1,
          2,
          2,
          2,
          2,
          2,
          2,
          2,
          2,
          2
         ],
         "yaxis": "y"
        },
        {
         "customdata": [
          [
           0,
           -0.5,
           -0.5
          ],
          [
           1,
           0,
           -0.5
          ],
          [
           2,
           0.5,
           -0.5
          ],
          [
           3,
           -0.5,
           0
          ],
          [
           4,
           0.5,
           0
          ],
          [
           5,
           -0.5,
           0.5
          ],
          [
           6,
           0,
           0.5
          ],
          [
           7,
           0.5,
           0.5
          ],
          [
           0,
           -0.5,
           -0.5
          ],
          [
           1,
           0,
           -0.5
          ],
          [
           2,
           0.5,
           -0.5
          ],
          [
           3,
           -0.5,
           0
          ],
          [
           4,
           0,
           0
          ],
          [
           5,
           0.5,
           0
          ],
          [
           6,
           -0.5,
           0.5
          ],
          [
           7,
           0,
           0.5
          ],
          [
           8,
           0.5,
           0.5
          ],
          [
           0,
           -0.5,
           -0.5
          ],
          [
           1,
           0,
           -0.5
          ],
          [
           2,
           0.5,
           -0.5
          ],
          [
           3,
           -0.5,
           0
          ],
          [
           4,
           0,
           0
          ],
          [
           5,
           0.5,
           0
          ],
          [
           6,
           -0.5,
           0.5
          ],
          [
           7,
           0,
           0.5
          ],
          [
           8,
           0.5,
           0.5
          ],
          [
           0,
           -0.5,
           -0.5
          ],
          [
           1,
           0,
           -0.5
          ],
          [
           2,
           0.5,
           -0.5
          ],
          [
           3,
           -0.5,
           0
          ],
          [
           4,
           0,
           0
          ],
          [
           5,
           0.5,
           0
          ],
          [
           6,
           -0.5,
           0.5
          ],
          [
           7,
           0,
           0.5
          ],
          [
           8,
           0.5,
           0.5
          ],
          [
           0,
           -0.5,
           -0.5
          ],
          [
           1,
           0,
           -0.5
          ],
          [
           2,
           0.5,
           -0.5
          ],
          [
           3,
           0,
           0
          ],
          [
           4,
           0.5,
           0
          ],
          [
           5,
           0.5,
           0.5
          ],
          [
           0,
           -0.5,
           -0.5
          ],
          [
           1,
           0,
           -0.5
          ],
          [
           2,
           0.5,
           -0.5
          ],
          [
           3,
           -0.5,
           0
          ],
          [
           4,
           0,
           0
          ],
          [
           5,
           0.5,
           0
          ],
          [
           6,
           -0.5,
           0.5
          ],
          [
           7,
           0,
           0.5
          ],
          [
           8,
           0.5,
           0.5
          ],
          [
           0,
           -0.5,
           -0.5
          ],
          [
           1,
           0,
           -0.5
          ],
          [
           2,
           0.5,
           -0.5
          ],
          [
           3,
           -0.5,
           0
          ],
          [
           4,
           0,
           0
          ],
          [
           5,
           0.5,
           0
          ],
          [
           6,
           -0.5,
           0.5
          ],
          [
           7,
           0,
           0.5
          ],
          [
           8,
           0.5,
           0.5
          ],
          [
           0,
           -0.5,
           -0.5
          ],
          [
           1,
           0,
           -0.5
          ],
          [
           2,
           0.5,
           -0.5
          ],
          [
           3,
           -0.5,
           0
          ],
          [
           4,
           0,
           0
          ],
          [
           5,
           0.5,
           0
          ],
          [
           6,
           -0.5,
           0.5
          ],
          [
           7,
           0,
           0.5
          ],
          [
           8,
           0.5,
           0.5
          ],
          [
           0,
           -0.5,
           -0.5
          ],
          [
           1,
           0,
           -0.5
          ],
          [
           2,
           0,
           0
          ],
          [
           3,
           0.5,
           0
          ],
          [
           4,
           0.5,
           0.5
          ],
          [
           0,
           -0.5,
           -0.5
          ],
          [
           1,
           0.5,
           0.5
          ],
          [
           0,
           -0.5,
           -0.5
          ],
          [
           1,
           0,
           0
          ],
          [
           2,
           0.5,
           0.5
          ],
          [
           0,
           -0.5,
           -0.5
          ],
          [
           1,
           0,
           -0.5
          ],
          [
           2,
           -0.5,
           0
          ],
          [
           3,
           0,
           0
          ],
          [
           4,
           0.5,
           0
          ],
          [
           5,
           -0.5,
           0.5
          ],
          [
           6,
           0,
           0.5
          ],
          [
           7,
           0.5,
           0.5
          ],
          [
           0,
           -0.5,
           -0.5
          ],
          [
           1,
           0,
           -0.5
          ],
          [
           2,
           0.5,
           -0.5
          ],
          [
           3,
           -0.5,
           0
          ],
          [
           4,
           0,
           0
          ],
          [
           5,
           0.5,
           0
          ],
          [
           6,
           -0.5,
           0.5
          ],
          [
           7,
           0,
           0.5
          ],
          [
           8,
           0.5,
           0.5
          ],
          [
           0,
           -0.5,
           -0.5
          ],
          [
           1,
           0,
           -0.5
          ],
          [
           2,
           0.5,
           -0.5
          ],
          [
           3,
           -0.5,
           0
          ],
          [
           4,
           0,
           0
          ],
          [
           5,
           0.5,
           0
          ],
          [
           6,
           0,
           0.5
          ],
          [
           7,
           0.5,
           0.5
          ],
          [
           0,
           -0.5,
           -0.5
          ],
          [
           1,
           0,
           -0.5
          ],
          [
           2,
           0.5,
           -0.5
          ],
          [
           3,
           -0.5,
           0
          ],
          [
           4,
           0,
           0
          ],
          [
           5,
           0.5,
           0
          ],
          [
           6,
           -0.5,
           0.5
          ],
          [
           7,
           0,
           0.5
          ],
          [
           0,
           -0.5,
           -0.5
          ],
          [
           1,
           0,
           -0.5
          ],
          [
           2,
           0.5,
           -0.5
          ],
          [
           3,
           0,
           0
          ],
          [
           4,
           0.5,
           0
          ],
          [
           5,
           -0.5,
           0.5
          ],
          [
           6,
           0,
           0.5
          ],
          [
           0,
           -0.5,
           -0.5
          ],
          [
           1,
           0,
           -0.5
          ],
          [
           2,
           0.5,
           -0.5
          ],
          [
           3,
           -0.5,
           0
          ],
          [
           4,
           0,
           0
          ],
          [
           5,
           0.5,
           0
          ],
          [
           6,
           -0.5,
           0.5
          ],
          [
           7,
           0,
           0.5
          ],
          [
           8,
           0.5,
           0.5
          ],
          [
           0,
           0,
           -0.5
          ],
          [
           1,
           0.5,
           -0.5
          ],
          [
           2,
           0,
           0
          ],
          [
           3,
           0.5,
           0
          ],
          [
           4,
           0,
           0.5
          ],
          [
           5,
           0.5,
           0.5
          ],
          [
           0,
           -0.5,
           -0.5
          ],
          [
           1,
           0,
           -0.5
          ],
          [
           2,
           0.5,
           -0.5
          ],
          [
           3,
           -0.5,
           0
          ],
          [
           4,
           0,
           0
          ],
          [
           5,
           0.5,
           0
          ],
          [
           6,
           -0.5,
           0.5
          ],
          [
           7,
           0,
           0.5
          ],
          [
           8,
           0.5,
           0.5
          ],
          [
           0,
           -0.5,
           -0.5
          ],
          [
           1,
           0,
           -0.5
          ],
          [
           2,
           0.5,
           -0.5
          ],
          [
           3,
           -0.5,
           0
          ],
          [
           4,
           0,
           0
          ],
          [
           5,
           0.5,
           0
          ],
          [
           6,
           -0.5,
           0.5
          ],
          [
           7,
           0,
           0.5
          ],
          [
           8,
           0.5,
           0.5
          ],
          [
           0,
           -0.5,
           -0.5
          ],
          [
           1,
           0,
           -0.5
          ],
          [
           2,
           0.5,
           -0.5
          ],
          [
           3,
           -0.5,
           0
          ],
          [
           4,
           0.5,
           0
          ],
          [
           5,
           -0.5,
           0.5
          ],
          [
           6,
           0,
           0.5
          ],
          [
           7,
           0.5,
           0.5
          ],
          [
           0,
           -0.5,
           -0.5
          ],
          [
           1,
           0,
           -0.5
          ],
          [
           2,
           0.5,
           -0.5
          ],
          [
           3,
           -0.5,
           0
          ],
          [
           4,
           0,
           0
          ],
          [
           5,
           0.5,
           0
          ],
          [
           6,
           -0.5,
           0.5
          ],
          [
           7,
           0,
           0.5
          ],
          [
           8,
           0.5,
           0.5
          ],
          [
           0,
           -0.5,
           -0.5
          ],
          [
           1,
           0,
           -0.5
          ],
          [
           2,
           0.5,
           -0.5
          ],
          [
           3,
           -0.5,
           0
          ],
          [
           4,
           0,
           0
          ],
          [
           5,
           0.5,
           0
          ],
          [
           6,
           -0.5,
           0.5
          ],
          [
           7,
           0,
           0.5
          ],
          [
           8,
           0.5,
           0.5
          ],
          [
           0,
           -0.5,
           -0.5
          ],
          [
           1,
           0,
           -0.5
          ],
          [
           2,
           0.5,
           -0.5
          ],
          [
           3,
           -0.5,
           0
          ],
          [
           4,
           0,
           0
          ],
          [
           5,
           0.5,
           0
          ],
          [
           6,
           -0.5,
           0.5
          ],
          [
           7,
           0,
           0.5
          ],
          [
           8,
           0.5,
           0.5
          ],
          [
           0,
           0,
           -0.5
          ],
          [
           1,
           0.5,
           -0.5
          ],
          [
           2,
           -0.5,
           0
          ],
          [
           3,
           0,
           0
          ],
          [
           4,
           0.5,
           0
          ],
          [
           5,
           -0.5,
           0.5
          ],
          [
           6,
           0,
           0.5
          ],
          [
           7,
           0.5,
           0.5
          ],
          [
           0,
           -0.5,
           -0.5
          ],
          [
           1,
           0,
           -0.5
          ],
          [
           2,
           0.5,
           -0.5
          ],
          [
           3,
           0,
           0
          ],
          [
           4,
           0.5,
           0
          ],
          [
           5,
           -0.5,
           0.5
          ],
          [
           6,
           0,
           0.5
          ],
          [
           7,
           0.5,
           0.5
          ],
          [
           0,
           -0.5,
           -0.5
          ],
          [
           1,
           0,
           -0.5
          ],
          [
           2,
           0.5,
           -0.5
          ],
          [
           3,
           -0.5,
           0
          ],
          [
           4,
           0,
           0
          ],
          [
           5,
           0.5,
           0
          ],
          [
           6,
           -0.5,
           0.5
          ],
          [
           7,
           0,
           0.5
          ],
          [
           8,
           0.5,
           0.5
          ],
          [
           0,
           -0.5,
           -0.5
          ],
          [
           1,
           0,
           -0.5
          ],
          [
           2,
           0.5,
           -0.5
          ],
          [
           3,
           -0.5,
           0
          ],
          [
           4,
           0,
           0
          ],
          [
           5,
           0.5,
           0
          ],
          [
           6,
           -0.5,
           0.5
          ],
          [
           7,
           0,
           0.5
          ],
          [
           8,
           0.5,
           0.5
          ],
          [
           0,
           -0.5,
           -0.5
          ],
          [
           1,
           0,
           -0.5
          ],
          [
           2,
           0.5,
           -0.5
          ],
          [
           3,
           -0.5,
           0
          ],
          [
           4,
           0,
           0
          ],
          [
           5,
           0.5,
           0
          ],
          [
           6,
           -0.5,
           0.5
          ],
          [
           7,
           0,
           0.5
          ],
          [
           8,
           0.5,
           0.5
          ]
         ],
         "hovertemplate": "<b>%{hovertext}</b><br><br>Camera=Thu 2022.05.19 23:08<br>residual=%{x}<br>Laser=%{y}<br>beam_capture_index=%{customdata[0]}<br>projectionPoint_x=%{customdata[1]}<br>projectionPoint_y=%{customdata[2]}<extra></extra>",
         "hovertext": [
          1,
          1,
          1,
          1,
          1,
          1,
          1,
          1,
          2,
          2,
          2,
          2,
          2,
          2,
          2,
          2,
          2,
          3,
          3,
          3,
          3,
          3,
          3,
          3,
          3,
          3,
          4,
          4,
          4,
          4,
          4,
          4,
          4,
          4,
          4,
          5,
          5,
          5,
          5,
          5,
          5,
          12,
          12,
          12,
          12,
          12,
          12,
          12,
          12,
          12,
          7,
          7,
          7,
          7,
          7,
          7,
          7,
          7,
          7,
          8,
          8,
          8,
          8,
          8,
          8,
          8,
          8,
          8,
          10,
          10,
          10,
          10,
          10,
          11,
          11,
          13,
          13,
          13,
          14,
          14,
          14,
          14,
          14,
          14,
          14,
          14,
          16,
          16,
          16,
          16,
          16,
          16,
          16,
          16,
          16,
          17,
          17,
          17,
          17,
          17,
          17,
          17,
          17,
          18,
          18,
          18,
          18,
          18,
          18,
          18,
          18,
          19,
          19,
          19,
          19,
          19,
          19,
          19,
          22,
          22,
          22,
          22,
          22,
          22,
          22,
          22,
          22,
          25,
          25,
          25,
          25,
          25,
          25,
          26,
          26,
          26,
          26,
          26,
          26,
          26,
          26,
          26,
          28,
          28,
          28,
          28,
          28,
          28,
          28,
          28,
          28,
          30,
          30,
          30,
          30,
          30,
          30,
          30,
          30,
          31,
          31,
          31,
          31,
          31,
          31,
          31,
          31,
          31,
          32,
          32,
          32,
          32,
          32,
          32,
          32,
          32,
          32,
          34,
          34,
          34,
          34,
          34,
          34,
          34,
          34,
          34,
          35,
          35,
          35,
          35,
          35,
          35,
          35,
          35,
          37,
          37,
          37,
          37,
          37,
          37,
          37,
          37,
          38,
          38,
          38,
          38,
          38,
          38,
          38,
          38,
          38,
          33,
          33,
          33,
          33,
          33,
          33,
          33,
          33,
          33,
          40,
          40,
          40,
          40,
          40,
          40,
          40,
          40,
          40
         ],
         "legendgroup": "Thu 2022.05.19 23:08",
         "marker": {
          "color": "#EF553B",
          "symbol": "circle"
         },
         "mode": "markers",
         "name": "Thu 2022.05.19 23:08",
         "orientation": "v",
         "showlegend": true,
         "type": "scatter",
         "x": [
          416.17791748046875,
          338.22772216796875,
          490.81549072265625,
          686.3093872070312,
          506.97674560546875,
          931.5115356445312,
          717.5174560546875,
          618.35888671875,
          380.74127197265625,
          211.59226989746094,
          350.72601318359375,
          711.162353515625,
          474.0362854003906,
          382.3904113769531,
          1004.2433471679688,
          743.053955078125,
          565.3182373046875,
          317.18798828125,
          25.989547729492188,
          255.7526397705078,
          654.6629028320312,
          340.547607421875,
          67.97835540771484,
          974.5257568359375,
          647.1600952148438,
          360.9232482910156,
          261.97088623046875,
          294.5498352050781,
          556.2068481445312,
          663.314697265625,
          465.15283203125,
          486.85577392578125,
          1035.8284912109375,
          773.680908203125,
          642.2540283203125,
          1258.3912353515625,
          547.9763793945312,
          127.90620422363281,
          953.7036743164062,
          395.8059997558594,
          776.94287109375,
          112.0808334350586,
          306.74615478515625,
          666.73681640625,
          642.6885986328125,
          209.1442413330078,
          171.07666015625,
          1149.466064453125,
          688.2763061523438,
          285.1859436035156,
          23.67705535888672,
          466.6502685546875,
          886.8441772460938,
          688.0648193359375,
          180.7448272705078,
          262.0615539550781,
          1325.94677734375,
          785.6834106445312,
          314.32110595703125,
          378.07196044921875,
          580.052001953125,
          1004.0045166015625,
          998.4548950195312,
          564.7788696289062,
          522.8799438476562,
          1710.452392578125,
          1151.910400390625,
          734.308349609375,
          1907.4295654296875,
          520.7936401367188,
          1904.087646484375,
          616.3582763671875,
          1892.6986083984375,
          735.9200439453125,
          2617.180419921875,
          2235.970458984375,
          1709.3988037109375,
          1270.872802734375,
          1938.710693359375,
          1405.36865234375,
          1918.3631591796875,
          1422.6134033203125,
          945.2952270507812,
          1914.538818359375,
          1437.82568359375,
          968.6414794921875,
          1277.1470947265625,
          562.1897583007812,
          256.151611328125,
          843.2127075195312,
          137.9834442138672,
          629.533447265625,
          465.2050476074219,
          272.3851013183594,
          1029.1605224609375,
          537.9647827148438,
          839.4259033203125,
          1203.8720703125,
          805.255859375,
          1109.1929931640625,
          1464.171630859375,
          1369.32177734375,
          1727.6529541015625,
          1120.487060546875,
          981.0868530273438,
          851.1519165039062,
          996.0535278320312,
          854.217041015625,
          719.2343139648438,
          879.12939453125,
          730.3683471679688,
          438.0943908691406,
          528.4718017578125,
          683.923095703125,
          696.099853515625,
          855.3653564453125,
          721.6146240234375,
          858.3898315429688,
          796.6239013671875,
          850.630126953125,
          982.14697265625,
          906.7255249023438,
          974.2354736328125,
          1091.4112548828125,
          1009.240234375,
          1084.824951171875,
          1196.0576171875,
          742.0399169921875,
          808.1189575195312,
          813.6168823242188,
          904.4282836914062,
          876.9022827148438,
          987.93798828125,
          929.4805297851562,
          971.4586181640625,
          1044.479248046875,
          1015.1688232421875,
          1075.114501953125,
          1178.9298095703125,
          1083.6317138671875,
          1161.468994140625,
          1290.651123046875,
          1014.0342407226562,
          1008.9436645507812,
          997.6520385742188,
          1001.7804565429688,
          996.2548217773438,
          984.60498046875,
          993.8182983398438,
          985.6109008789062,
          971.3380126953125,
          1036.2939453125,
          952.463623046875,
          873.0173950195312,
          1015.3136596679688,
          872.5978393554688,
          999.9393920898438,
          931.5916137695312,
          866.8954467773438,
          1181.879150390625,
          979.7386474609375,
          773.169677734375,
          1187.036865234375,
          1003.6220092773438,
          816.1609497070312,
          1191.5208740234375,
          1018.1117553710938,
          843.8368530273438,
          1188.948486328125,
          963.0364990234375,
          733.2752685546875,
          1148.766845703125,
          957.679931640625,
          763.0726318359375,
          1123.0400390625,
          950.1543579101562,
          776.8457641601562,
          942.2014770507812,
          690.2488403320312,
          447.7799987792969,
          958.7313232421875,
          744.6611938476562,
          535.0215454101562,
          976.4493408203125,
          784.0426025390625,
          595.0892944335938,
          439.9121398925781,
          275.3606262207031,
          712.2205200195312,
          520.6515502929688,
          359.7443542480469,
          760.3284301757812,
          584.5074462890625,
          430.3363952636719,
          896.591552734375,
          585.1456298828125,
          297.3500061035156,
          660.6573486328125,
          408.8651123046875,
          962.342041015625,
          718.8244018554688,
          490.3931884765625,
          759.94775390625,
          465.2959289550781,
          268.2928161621094,
          837.7498168945312,
          575.5540771484375,
          375.8492126464844,
          906.6499633789062,
          662.467529296875,
          466.6990966796875,
          871.2012329101562,
          571.2653198242188,
          312.70501708984375,
          965.6703491210938,
          698.6289672851562,
          455.7183837890625,
          1049.9879150390625,
          801.90673828125,
          572.1490478515625,
          730.1537475585938,
          424.8649597167969,
          159.30734252929688,
          886.4813232421875,
          603.23046875,
          349.5961608886719,
          1022.1060180664062,
          752.6183471679688,
          507.72930908203125
         ],
         "xaxis": "x",
         "y": [
          1,
          1,
          1,
          1,
          1,
          1,
          1,
          1,
          2,
          2,
          2,
          2,
          2,
          2,
          2,
          2,
          2,
          3,
          3,
          3,
          3,
          3,
          3,
          3,
          3,
          3,
          4,
          4,
          4,
          4,
          4,
          4,
          4,
          4,
          4,
          5,
          5,
          5,
          5,
          5,
          5,
          12,
          12,
          12,
          12,
          12,
          12,
          12,
          12,
          12,
          7,
          7,
          7,
          7,
          7,
          7,
          7,
          7,
          7,
          8,
          8,
          8,
          8,
          8,
          8,
          8,
          8,
          8,
          10,
          10,
          10,
          10,
          10,
          11,
          11,
          13,
          13,
          13,
          14,
          14,
          14,
          14,
          14,
          14,
          14,
          14,
          16,
          16,
          16,
          16,
          16,
          16,
          16,
          16,
          16,
          17,
          17,
          17,
          17,
          17,
          17,
          17,
          17,
          18,
          18,
          18,
          18,
          18,
          18,
          18,
          18,
          19,
          19,
          19,
          19,
          19,
          19,
          19,
          22,
          22,
          22,
          22,
          22,
          22,
          22,
          22,
          22,
          25,
          25,
          25,
          25,
          25,
          25,
          26,
          26,
          26,
          26,
          26,
          26,
          26,
          26,
          26,
          28,
          28,
          28,
          28,
          28,
          28,
          28,
          28,
          28,
          30,
          30,
          30,
          30,
          30,
          30,
          30,
          30,
          31,
          31,
          31,
          31,
          31,
          31,
          31,
          31,
          31,
          32,
          32,
          32,
          32,
          32,
          32,
          32,
          32,
          32,
          34,
          34,
          34,
          34,
          34,
          34,
          34,
          34,
          34,
          35,
          35,
          35,
          35,
          35,
          35,
          35,
          35,
          37,
          37,
          37,
          37,
          37,
          37,
          37,
          37,
          38,
          38,
          38,
          38,
          38,
          38,
          38,
          38,
          38,
          33,
          33,
          33,
          33,
          33,
          33,
          33,
          33,
          33,
          40,
          40,
          40,
          40,
          40,
          40,
          40,
          40,
          40
         ],
         "yaxis": "y"
        },
        {
         "customdata": [
          [
           0,
           -0.5,
           -0.5
          ],
          [
           1,
           0,
           -0.5
          ],
          [
           2,
           0.5,
           -0.5
          ],
          [
           3,
           -0.5,
           0
          ],
          [
           4,
           0,
           0
          ],
          [
           5,
           -0.5,
           0.5
          ],
          [
           6,
           0,
           0.5
          ],
          [
           7,
           0.5,
           0.5
          ],
          [
           0,
           -0.5,
           -0.5
          ],
          [
           1,
           0,
           -0.5
          ],
          [
           2,
           -0.5,
           0
          ],
          [
           3,
           0,
           0
          ],
          [
           4,
           0.5,
           0
          ],
          [
           5,
           -0.5,
           0.5
          ],
          [
           6,
           0,
           0.5
          ],
          [
           7,
           0.5,
           0.5
          ],
          [
           0,
           -0.5,
           -0.5
          ],
          [
           1,
           0,
           -0.5
          ],
          [
           2,
           0.5,
           -0.5
          ],
          [
           3,
           -0.5,
           0
          ],
          [
           4,
           0,
           0
          ],
          [
           5,
           0.5,
           0
          ],
          [
           6,
           -0.5,
           0.5
          ],
          [
           7,
           0,
           0.5
          ],
          [
           8,
           0.5,
           0.5
          ],
          [
           0,
           -0.5,
           -0.5
          ],
          [
           1,
           0,
           -0.5
          ],
          [
           2,
           0.5,
           -0.5
          ],
          [
           3,
           -0.5,
           0
          ],
          [
           4,
           0,
           0
          ],
          [
           5,
           0.5,
           0
          ],
          [
           6,
           -0.5,
           0.5
          ],
          [
           7,
           0,
           0.5
          ],
          [
           8,
           0.5,
           0.5
          ],
          [
           0,
           -0.5,
           -0.5
          ],
          [
           1,
           0,
           -0.5
          ],
          [
           2,
           0.5,
           -0.5
          ],
          [
           3,
           -0.5,
           0
          ],
          [
           4,
           0,
           0
          ],
          [
           5,
           0.5,
           0
          ],
          [
           6,
           -0.5,
           0.5
          ],
          [
           7,
           0,
           0.5
          ],
          [
           8,
           0.5,
           0.5
          ],
          [
           0,
           -0.5,
           -0.5
          ],
          [
           1,
           0.5,
           -0.5
          ],
          [
           2,
           -0.5,
           0
          ],
          [
           3,
           0.5,
           0
          ],
          [
           4,
           -0.5,
           0.5
          ],
          [
           5,
           0,
           0.5
          ],
          [
           6,
           0.5,
           0.5
          ],
          [
           0,
           -0.5,
           -0.5
          ],
          [
           1,
           0,
           -0.5
          ],
          [
           2,
           0.5,
           -0.5
          ],
          [
           3,
           -0.5,
           0
          ],
          [
           4,
           0,
           0
          ],
          [
           5,
           0.5,
           0
          ],
          [
           6,
           -0.5,
           0.5
          ],
          [
           7,
           0,
           0.5
          ],
          [
           8,
           0.5,
           0.5
          ],
          [
           0,
           -0.5,
           -0.5
          ],
          [
           1,
           0,
           -0.5
          ],
          [
           2,
           0.5,
           -0.5
          ],
          [
           3,
           -0.5,
           0
          ],
          [
           4,
           0.5,
           0
          ],
          [
           5,
           -0.5,
           0.5
          ],
          [
           6,
           0,
           0.5
          ],
          [
           7,
           0.5,
           0.5
          ],
          [
           0,
           -0.5,
           -0.5
          ],
          [
           1,
           0,
           -0.5
          ],
          [
           2,
           0.5,
           -0.5
          ],
          [
           3,
           -0.5,
           0
          ],
          [
           4,
           0,
           0
          ],
          [
           5,
           0.5,
           0
          ],
          [
           6,
           -0.5,
           0.5
          ],
          [
           7,
           0,
           0.5
          ],
          [
           8,
           0.5,
           0.5
          ],
          [
           0,
           -0.5,
           -0.5
          ],
          [
           1,
           0,
           -0.5
          ],
          [
           2,
           0.5,
           -0.5
          ],
          [
           3,
           -0.5,
           0
          ],
          [
           4,
           0,
           0
          ],
          [
           5,
           0.5,
           0
          ],
          [
           6,
           -0.5,
           0.5
          ],
          [
           7,
           0,
           0.5
          ],
          [
           8,
           0.5,
           0.5
          ],
          [
           0,
           -0.5,
           -0.5
          ],
          [
           1,
           0,
           -0.5
          ],
          [
           2,
           0.5,
           -0.5
          ],
          [
           3,
           -0.5,
           0
          ],
          [
           4,
           0,
           0
          ],
          [
           5,
           0.5,
           0
          ],
          [
           6,
           0.5,
           0.5
          ],
          [
           0,
           -0.5,
           -0.5
          ],
          [
           1,
           0,
           -0.5
          ],
          [
           2,
           0.5,
           -0.5
          ],
          [
           3,
           -0.5,
           0
          ],
          [
           4,
           0,
           0
          ],
          [
           5,
           0.5,
           0
          ],
          [
           6,
           -0.5,
           0.5
          ],
          [
           7,
           0,
           0.5
          ],
          [
           8,
           0.5,
           0.5
          ],
          [
           0,
           -0.5,
           -0.5
          ],
          [
           1,
           0,
           -0.5
          ],
          [
           2,
           0.5,
           -0.5
          ],
          [
           3,
           -0.5,
           0
          ],
          [
           4,
           0,
           0
          ],
          [
           5,
           0.5,
           0
          ],
          [
           6,
           -0.5,
           0.5
          ],
          [
           7,
           0,
           0.5
          ],
          [
           8,
           0.5,
           0.5
          ],
          [
           0,
           -0.5,
           -0.5
          ],
          [
           1,
           0,
           -0.5
          ],
          [
           2,
           0.5,
           -0.5
          ],
          [
           3,
           -0.5,
           0
          ],
          [
           4,
           0,
           0
          ],
          [
           5,
           0.5,
           0
          ],
          [
           6,
           -0.5,
           0.5
          ],
          [
           7,
           0,
           0.5
          ],
          [
           0,
           -0.5,
           -0.5
          ],
          [
           1,
           0,
           -0.5
          ],
          [
           2,
           0.5,
           -0.5
          ],
          [
           3,
           -0.5,
           0
          ],
          [
           4,
           0,
           0
          ],
          [
           5,
           0.5,
           0
          ],
          [
           6,
           -0.5,
           0.5
          ],
          [
           7,
           0,
           0.5
          ],
          [
           8,
           0.5,
           0.5
          ],
          [
           0,
           -0.5,
           -0.5
          ],
          [
           1,
           0,
           -0.5
          ],
          [
           2,
           0.5,
           -0.5
          ],
          [
           3,
           -0.5,
           0
          ],
          [
           4,
           0,
           0
          ],
          [
           5,
           0.5,
           0
          ],
          [
           6,
           -0.5,
           0.5
          ],
          [
           7,
           0,
           0.5
          ],
          [
           8,
           0.5,
           0.5
          ],
          [
           0,
           -0.5,
           -0.5
          ],
          [
           1,
           0,
           -0.5
          ],
          [
           2,
           0.5,
           -0.5
          ],
          [
           3,
           -0.5,
           0
          ],
          [
           4,
           0,
           0
          ],
          [
           5,
           0.5,
           0
          ],
          [
           6,
           -0.5,
           0.5
          ],
          [
           7,
           0,
           0.5
          ],
          [
           8,
           0.5,
           0.5
          ],
          [
           0,
           -0.5,
           -0.5
          ],
          [
           1,
           0,
           -0.5
          ],
          [
           2,
           0.5,
           -0.5
          ],
          [
           3,
           -0.5,
           0
          ],
          [
           4,
           0,
           0
          ],
          [
           5,
           0.5,
           0
          ],
          [
           6,
           -0.5,
           0.5
          ],
          [
           7,
           0,
           0.5
          ],
          [
           8,
           0.5,
           0.5
          ],
          [
           0,
           -0.5,
           -0.5
          ],
          [
           1,
           0,
           -0.5
          ],
          [
           2,
           0.5,
           -0.5
          ],
          [
           3,
           -0.5,
           0
          ],
          [
           4,
           0,
           0
          ],
          [
           5,
           0.5,
           0
          ],
          [
           6,
           -0.5,
           0.5
          ],
          [
           7,
           0,
           0.5
          ],
          [
           8,
           0.5,
           0.5
          ],
          [
           0,
           -0.5,
           -0.5
          ],
          [
           1,
           0,
           -0.5
          ],
          [
           2,
           0.5,
           -0.5
          ],
          [
           3,
           -0.5,
           0
          ],
          [
           4,
           0,
           0
          ],
          [
           5,
           0.5,
           0
          ],
          [
           6,
           -0.5,
           0.5
          ],
          [
           7,
           0,
           0.5
          ],
          [
           8,
           0.5,
           0.5
          ],
          [
           0,
           -0.5,
           -0.5
          ],
          [
           1,
           0,
           -0.5
          ],
          [
           2,
           0.5,
           -0.5
          ],
          [
           3,
           -0.5,
           0
          ],
          [
           4,
           0,
           0
          ],
          [
           5,
           0.5,
           0
          ],
          [
           6,
           -0.5,
           0.5
          ],
          [
           7,
           0,
           0.5
          ],
          [
           0,
           -0.5,
           -0.5
          ],
          [
           1,
           0,
           -0.5
          ],
          [
           2,
           0.5,
           -0.5
          ],
          [
           3,
           -0.5,
           0
          ],
          [
           4,
           0,
           0
          ],
          [
           5,
           0.5,
           0
          ],
          [
           6,
           -0.5,
           0.5
          ],
          [
           7,
           0,
           0.5
          ],
          [
           8,
           0.5,
           0.5
          ],
          [
           0,
           -0.5,
           -0.5
          ],
          [
           1,
           0,
           -0.5
          ],
          [
           2,
           0.5,
           -0.5
          ],
          [
           3,
           -0.5,
           0
          ],
          [
           4,
           0,
           0
          ],
          [
           5,
           0.5,
           0
          ],
          [
           6,
           -0.5,
           0.5
          ],
          [
           7,
           0.5,
           0.5
          ],
          [
           0,
           -0.5,
           -0.5
          ],
          [
           1,
           0,
           -0.5
          ],
          [
           2,
           0.5,
           -0.5
          ],
          [
           3,
           -0.5,
           0
          ],
          [
           4,
           0,
           0
          ],
          [
           5,
           0.5,
           0
          ],
          [
           6,
           -0.5,
           0.5
          ],
          [
           7,
           0,
           0.5
          ],
          [
           8,
           0.5,
           0.5
          ],
          [
           0,
           -0.5,
           -0.5
          ],
          [
           1,
           0,
           -0.5
          ],
          [
           2,
           0.5,
           -0.5
          ],
          [
           3,
           -0.5,
           0
          ],
          [
           4,
           0,
           0
          ],
          [
           5,
           0.5,
           0
          ],
          [
           6,
           -0.5,
           0.5
          ],
          [
           7,
           0,
           0.5
          ],
          [
           8,
           0.5,
           0.5
          ],
          [
           0,
           -0.5,
           -0.5
          ],
          [
           1,
           0,
           -0.5
          ],
          [
           2,
           0.5,
           -0.5
          ],
          [
           3,
           -0.5,
           0
          ],
          [
           4,
           0,
           0
          ],
          [
           5,
           0.5,
           0
          ],
          [
           6,
           0,
           0.5
          ],
          [
           7,
           0.5,
           0.5
          ],
          [
           0,
           -0.5,
           -0.5
          ],
          [
           1,
           0,
           -0.5
          ],
          [
           2,
           -0.5,
           0
          ],
          [
           3,
           0,
           0
          ],
          [
           4,
           -0.5,
           0.5
          ],
          [
           5,
           0,
           0.5
          ],
          [
           6,
           0.5,
           0.5
          ],
          [
           0,
           -0.5,
           -0.5
          ],
          [
           1,
           0,
           -0.5
          ],
          [
           2,
           0.5,
           -0.5
          ],
          [
           3,
           -0.5,
           0
          ],
          [
           4,
           0,
           0
          ],
          [
           5,
           0.5,
           0
          ],
          [
           6,
           -0.5,
           0.5
          ],
          [
           7,
           0,
           0.5
          ],
          [
           8,
           0.5,
           0.5
          ]
         ],
         "hovertemplate": "<b>%{hovertext}</b><br><br>Camera=Thu 2022.05.19 23:55<br>residual=%{x}<br>Laser=%{y}<br>beam_capture_index=%{customdata[0]}<br>projectionPoint_x=%{customdata[1]}<br>projectionPoint_y=%{customdata[2]}<extra></extra>",
         "hovertext": [
          1,
          1,
          1,
          1,
          1,
          1,
          1,
          1,
          2,
          2,
          2,
          2,
          2,
          2,
          2,
          2,
          3,
          3,
          3,
          3,
          3,
          3,
          3,
          3,
          3,
          4,
          4,
          4,
          4,
          4,
          4,
          4,
          4,
          4,
          5,
          5,
          5,
          5,
          5,
          5,
          5,
          5,
          5,
          12,
          12,
          12,
          12,
          12,
          12,
          12,
          7,
          7,
          7,
          7,
          7,
          7,
          7,
          7,
          7,
          8,
          8,
          8,
          8,
          8,
          8,
          8,
          8,
          10,
          10,
          10,
          10,
          10,
          10,
          10,
          10,
          10,
          11,
          11,
          11,
          11,
          11,
          11,
          11,
          11,
          11,
          13,
          13,
          13,
          13,
          13,
          13,
          13,
          14,
          14,
          14,
          14,
          14,
          14,
          14,
          14,
          14,
          15,
          15,
          15,
          15,
          15,
          15,
          15,
          15,
          15,
          16,
          16,
          16,
          16,
          16,
          16,
          16,
          16,
          17,
          17,
          17,
          17,
          17,
          17,
          17,
          17,
          17,
          18,
          18,
          18,
          18,
          18,
          18,
          18,
          18,
          18,
          26,
          26,
          26,
          26,
          26,
          26,
          26,
          26,
          26,
          28,
          28,
          28,
          28,
          28,
          28,
          28,
          28,
          28,
          29,
          29,
          29,
          29,
          29,
          29,
          29,
          29,
          29,
          30,
          30,
          30,
          30,
          30,
          30,
          30,
          30,
          30,
          31,
          31,
          31,
          31,
          31,
          31,
          31,
          31,
          32,
          32,
          32,
          32,
          32,
          32,
          32,
          32,
          32,
          34,
          34,
          34,
          34,
          34,
          34,
          34,
          34,
          35,
          35,
          35,
          35,
          35,
          35,
          35,
          35,
          35,
          36,
          36,
          36,
          36,
          36,
          36,
          36,
          36,
          36,
          37,
          37,
          37,
          37,
          37,
          37,
          37,
          37,
          38,
          38,
          38,
          38,
          38,
          38,
          38,
          33,
          33,
          33,
          33,
          33,
          33,
          33,
          33,
          33
         ],
         "legendgroup": "Thu 2022.05.19 23:55",
         "marker": {
          "color": "#00cc96",
          "symbol": "circle"
         },
         "mode": "markers",
         "name": "Thu 2022.05.19 23:55",
         "orientation": "v",
         "showlegend": true,
         "type": "scatter",
         "x": [
          322.1756286621094,
          323.6991271972656,
          333.5039978027344,
          362.69366455078125,
          382.6400146484375,
          449.8529968261719,
          471.3203125,
          491.19403076171875,
          478.0747375488281,
          360.3924255371094,
          389.0362243652344,
          289.42047119140625,
          207.89085388183594,
          314.247802734375,
          248.06509399414062,
          209.222412109375,
          188.06341552734375,
          137.76649475097656,
          87.52486419677734,
          60.40251922607422,
          8.090770721435547,
          44.73784637451172,
          72.5311508178711,
          125.48139190673828,
          179.33685302734375,
          399.3941955566406,
          382.34075927734375,
          388.4119873046875,
          309.87249755859375,
          330.807861328125,
          380.7218933105469,
          268.737548828125,
          336.4614562988281,
          427.3868103027344,
          527.5081787109375,
          492.40545654296875,
          463.2039489746094,
          414.1054382324219,
          380.3515319824219,
          350.2232666015625,
          305.26678466796875,
          271.69781494140625,
          241.4233856201172,
          368.62554931640625,
          229.49583435058594,
          260.4323425292969,
          112.3607177734375,
          156.0504913330078,
          80.02188110351562,
          46.10823440551758,
          374.2986755371094,
          300.8451843261719,
          212.74124145507812,
          271.1354675292969,
          191.36941528320312,
          104.45247650146484,
          174.33599853515625,
          89.38639068603516,
          50.096134185791016,
          466.1658630371094,
          485.1369323730469,
          542.7241821289062,
          430.8667907714844,
          561.499755859375,
          422.8005065917969,
          497.65765380859375,
          609.626953125,
          449.5910339355469,
          423.60369873046875,
          405.0855712890625,
          338.33563232421875,
          306.04296875,
          294.6567077636719,
          247.44908142089844,
          221.22299194335938,
          233.07093811035156,
          303.9673767089844,
          231.30654907226562,
          196.22019958496094,
          217.6443328857422,
          179.55572509765625,
          217.38572692871094,
          170.07936096191406,
          196.0958709716797,
          289.0430908203125,
          43.38420104980469,
          73.8902587890625,
          208.2841339111328,
          174.53611755371094,
          250.49737548828125,
          354.3096618652344,
          503.17431640625,
          235.80709838867188,
          122.8321533203125,
          60.71128463745117,
          284.5745849609375,
          207.7183074951172,
          190.36341857910156,
          335.9115295410156,
          277.7825622558594,
          266.9425964355469,
          209.0224609375,
          127.38359832763672,
          144.6707000732422,
          261.34783935546875,
          213.33099365234375,
          225.6385955810547,
          297.15234375,
          259.6395568847656,
          267.62115478515625,
          278.0838928222656,
          238.3909149169922,
          285.0513916015625,
          282.7401123046875,
          259.5028076171875,
          293.5195007324219,
          281.4393615722656,
          263.9828796386719,
          319.73193359375,
          259.60809326171875,
          299.628173828125,
          323.55792236328125,
          284.291259765625,
          314.9815368652344,
          325.4089660644531,
          294.7082824707031,
          317.8795471191406,
          358.2098693847656,
          404.617431640625,
          492.5704650878906,
          356.0276794433594,
          388.8716735839844,
          449.53741455078125,
          349.43939208984375,
          368.6602783203125,
          414.9576721191406,
          259.57244873046875,
          577.6135864257812,
          1051.376708984375,
          215.36859130859375,
          465.4924011230469,
          826.812744140625,
          207.27650451660156,
          390.9585266113281,
          680.0027465820312,
          264.8896789550781,
          279.0804443359375,
          311.939697265625,
          256.01605224609375,
          267.863525390625,
          290.7267761230469,
          246.89990234375,
          258.2948913574219,
          275.7171325683594,
          505.53875732421875,
          397.4988098144531,
          323.729736328125,
          455.8433532714844,
          355.1789245605469,
          286.66851806640625,
          420.52471923828125,
          322.13275146484375,
          259.6909484863281,
          191.1391143798828,
          197.07369995117188,
          220.88182067871094,
          206.08441162109375,
          207.16688537597656,
          221.1669464111328,
          221.71327209472656,
          216.07614135742188,
          221.7648162841797,
          309.7003479003906,
          239.88858032226562,
          207.30860900878906,
          304.3119812011719,
          259.6375732421875,
          246.68397521972656,
          317.5446472167969,
          287.6292724609375,
          188.80992126464844,
          83.81015014648438,
          100.20618438720703,
          207.57815551757812,
          119.40298461914062,
          104.7882080078125,
          233.26495361328125,
          152.3881072998047,
          121.71047973632812,
          70.7160873413086,
          97.13530731201172,
          218.3518829345703,
          57.62681198120117,
          54.76868438720703,
          170.20188903808594,
          93.80437469482422,
          143.73036193847656,
          49.743431091308594,
          107.84291076660156,
          225.59666442871094,
          26.357858657836914,
          85.11713409423828,
          193.27890014648438,
          31.30518341064453,
          73.34817504882812,
          167.6431884765625,
          120.75981903076172,
          43.67318344116211,
          178.92193603515625,
          95.63488006591797,
          39.51618576049805,
          174.4409942626953,
          78.32708740234375,
          48.507747650146484,
          173.7841339111328,
          113.58707427978516,
          79.54334259033203,
          206.8559112548828,
          96.58121490478516,
          53.68062210083008,
          176.979736328125,
          26.38458251953125,
          145.6566619873047,
          109.88290405273438,
          75.64540100097656,
          117.23419952392578,
          87.84207153320312,
          132.8415069580078,
          102.48468017578125,
          149.8352813720703,
          167.50665283203125,
          144.80543518066406,
          181.12213134765625,
          157.24298095703125,
          141.64471435546875,
          175.56265258789062,
          151.22012329101562,
          136.80555725097656,
          162.03759765625
         ],
         "xaxis": "x",
         "y": [
          1,
          1,
          1,
          1,
          1,
          1,
          1,
          1,
          2,
          2,
          2,
          2,
          2,
          2,
          2,
          2,
          3,
          3,
          3,
          3,
          3,
          3,
          3,
          3,
          3,
          4,
          4,
          4,
          4,
          4,
          4,
          4,
          4,
          4,
          5,
          5,
          5,
          5,
          5,
          5,
          5,
          5,
          5,
          12,
          12,
          12,
          12,
          12,
          12,
          12,
          7,
          7,
          7,
          7,
          7,
          7,
          7,
          7,
          7,
          8,
          8,
          8,
          8,
          8,
          8,
          8,
          8,
          10,
          10,
          10,
          10,
          10,
          10,
          10,
          10,
          10,
          11,
          11,
          11,
          11,
          11,
          11,
          11,
          11,
          11,
          13,
          13,
          13,
          13,
          13,
          13,
          13,
          14,
          14,
          14,
          14,
          14,
          14,
          14,
          14,
          14,
          15,
          15,
          15,
          15,
          15,
          15,
          15,
          15,
          15,
          16,
          16,
          16,
          16,
          16,
          16,
          16,
          16,
          17,
          17,
          17,
          17,
          17,
          17,
          17,
          17,
          17,
          18,
          18,
          18,
          18,
          18,
          18,
          18,
          18,
          18,
          26,
          26,
          26,
          26,
          26,
          26,
          26,
          26,
          26,
          28,
          28,
          28,
          28,
          28,
          28,
          28,
          28,
          28,
          29,
          29,
          29,
          29,
          29,
          29,
          29,
          29,
          29,
          30,
          30,
          30,
          30,
          30,
          30,
          30,
          30,
          30,
          31,
          31,
          31,
          31,
          31,
          31,
          31,
          31,
          32,
          32,
          32,
          32,
          32,
          32,
          32,
          32,
          32,
          34,
          34,
          34,
          34,
          34,
          34,
          34,
          34,
          35,
          35,
          35,
          35,
          35,
          35,
          35,
          35,
          35,
          36,
          36,
          36,
          36,
          36,
          36,
          36,
          36,
          36,
          37,
          37,
          37,
          37,
          37,
          37,
          37,
          37,
          38,
          38,
          38,
          38,
          38,
          38,
          38,
          33,
          33,
          33,
          33,
          33,
          33,
          33,
          33,
          33
         ],
         "yaxis": "y"
        },
        {
         "customdata": [
          [
           0,
           0,
           -0.5
          ],
          [
           1,
           0,
           0
          ],
          [
           2,
           0,
           0.5
          ],
          [
           3,
           0.5,
           0.5
          ],
          [
           0,
           -0.5,
           -0.5
          ],
          [
           1,
           0,
           -0.5
          ],
          [
           2,
           -0.5,
           0
          ],
          [
           3,
           0,
           0
          ],
          [
           4,
           -0.5,
           0.5
          ],
          [
           5,
           0,
           0.5
          ],
          [
           6,
           0.5,
           0.5
          ],
          [
           0,
           0,
           -0.5
          ],
          [
           1,
           0,
           0
          ],
          [
           2,
           0.5,
           0
          ],
          [
           3,
           0,
           0.5
          ],
          [
           4,
           0.5,
           0.5
          ],
          [
           0,
           -0.5,
           -0.5
          ],
          [
           1,
           0,
           -0.5
          ],
          [
           2,
           0.5,
           -0.5
          ],
          [
           3,
           -0.5,
           0
          ],
          [
           4,
           0,
           0
          ],
          [
           5,
           0.5,
           0
          ],
          [
           6,
           -0.5,
           0.5
          ],
          [
           7,
           0,
           0.5
          ],
          [
           8,
           0.5,
           0.5
          ],
          [
           0,
           -0.5,
           -0.5
          ],
          [
           1,
           0,
           -0.5
          ],
          [
           2,
           0.5,
           -0.5
          ],
          [
           3,
           0,
           0
          ],
          [
           4,
           0.5,
           0
          ],
          [
           5,
           -0.5,
           0.5
          ],
          [
           6,
           0,
           0.5
          ],
          [
           7,
           0.5,
           0.5
          ],
          [
           0,
           -0.5,
           -0.5
          ],
          [
           1,
           0,
           -0.5
          ],
          [
           2,
           0.5,
           -0.5
          ],
          [
           3,
           -0.5,
           0
          ],
          [
           4,
           0,
           0
          ],
          [
           5,
           0.5,
           0
          ],
          [
           6,
           -0.5,
           0.5
          ],
          [
           7,
           0,
           0.5
          ],
          [
           8,
           0.5,
           0.5
          ],
          [
           0,
           -0.5,
           -0.5
          ],
          [
           1,
           0,
           -0.5
          ],
          [
           2,
           0.5,
           -0.5
          ],
          [
           3,
           -0.5,
           0
          ],
          [
           4,
           0,
           0
          ],
          [
           5,
           0.5,
           0
          ],
          [
           6,
           -0.5,
           0.5
          ],
          [
           7,
           0,
           0.5
          ],
          [
           8,
           0.5,
           0.5
          ],
          [
           0,
           -0.5,
           -0.5
          ],
          [
           1,
           0,
           -0.5
          ],
          [
           2,
           0.5,
           -0.5
          ],
          [
           3,
           -0.5,
           0
          ],
          [
           4,
           0,
           0
          ],
          [
           5,
           0.5,
           0
          ],
          [
           6,
           -0.5,
           0.5
          ],
          [
           7,
           0,
           0.5
          ],
          [
           8,
           0.5,
           0.5
          ],
          [
           0,
           -0.5,
           -0.5
          ],
          [
           1,
           0,
           -0.5
          ],
          [
           2,
           0.5,
           -0.5
          ],
          [
           3,
           -0.5,
           0
          ],
          [
           4,
           0,
           0
          ],
          [
           5,
           0.5,
           0
          ],
          [
           6,
           -0.5,
           0.5
          ],
          [
           7,
           0,
           0.5
          ],
          [
           8,
           0.5,
           0.5
          ],
          [
           0,
           -0.5,
           -0.5
          ],
          [
           1,
           0,
           -0.5
          ],
          [
           2,
           0.5,
           -0.5
          ],
          [
           3,
           -0.5,
           0
          ],
          [
           4,
           0,
           0
          ],
          [
           5,
           0.5,
           0
          ],
          [
           6,
           -0.5,
           0.5
          ],
          [
           7,
           0.5,
           0.5
          ],
          [
           0,
           -0.5,
           -0.5
          ],
          [
           1,
           0,
           -0.5
          ],
          [
           2,
           0.5,
           -0.5
          ],
          [
           3,
           -0.5,
           0
          ],
          [
           4,
           0,
           0
          ],
          [
           5,
           0.5,
           0
          ],
          [
           6,
           -0.5,
           0.5
          ],
          [
           7,
           0,
           0.5
          ],
          [
           8,
           0.5,
           0.5
          ],
          [
           0,
           -0.5,
           -0.5
          ],
          [
           1,
           0,
           -0.5
          ],
          [
           2,
           0.5,
           -0.5
          ],
          [
           3,
           -0.5,
           0
          ],
          [
           4,
           0,
           0
          ],
          [
           5,
           0.5,
           0
          ],
          [
           6,
           -0.5,
           0.5
          ],
          [
           7,
           0,
           0.5
          ],
          [
           8,
           0.5,
           0.5
          ],
          [
           0,
           -0.5,
           -0.5
          ],
          [
           1,
           0,
           -0.5
          ],
          [
           2,
           0.5,
           -0.5
          ],
          [
           3,
           -0.5,
           0
          ],
          [
           4,
           0,
           0
          ],
          [
           5,
           0.5,
           0
          ],
          [
           6,
           -0.5,
           0.5
          ],
          [
           7,
           0,
           0.5
          ],
          [
           8,
           0.5,
           0.5
          ],
          [
           0,
           0,
           -0.5
          ],
          [
           1,
           0.5,
           -0.5
          ],
          [
           2,
           -0.5,
           0
          ],
          [
           3,
           0,
           0
          ],
          [
           4,
           0.5,
           0
          ],
          [
           5,
           -0.5,
           0.5
          ],
          [
           6,
           0,
           0.5
          ],
          [
           7,
           0.5,
           0.5
          ],
          [
           0,
           0,
           -0.5
          ],
          [
           1,
           0,
           0
          ],
          [
           2,
           0,
           0.5
          ],
          [
           0,
           0.5,
           -0.5
          ],
          [
           1,
           0.5,
           0
          ],
          [
           2,
           0,
           0.5
          ],
          [
           3,
           0.5,
           0.5
          ],
          [
           0,
           -0.5,
           -0.5
          ],
          [
           1,
           0,
           -0.5
          ],
          [
           2,
           -0.5,
           0
          ],
          [
           3,
           0,
           0
          ],
          [
           4,
           -0.5,
           0.5
          ],
          [
           5,
           0,
           0.5
          ],
          [
           0,
           -0.5,
           -0.5
          ],
          [
           1,
           -0.5,
           0
          ],
          [
           2,
           0,
           0
          ],
          [
           3,
           -0.5,
           0.5
          ],
          [
           4,
           0,
           0.5
          ],
          [
           0,
           -0.5,
           -0.5
          ],
          [
           1,
           0,
           -0.5
          ],
          [
           2,
           -0.5,
           0
          ],
          [
           3,
           0,
           0
          ],
          [
           4,
           -0.5,
           0.5
          ],
          [
           5,
           0,
           0.5
          ],
          [
           6,
           0.5,
           0.5
          ],
          [
           0,
           -0.5,
           -0.5
          ],
          [
           1,
           0,
           -0.5
          ],
          [
           2,
           -0.5,
           0
          ],
          [
           3,
           0,
           0
          ],
          [
           4,
           -0.5,
           0.5
          ],
          [
           5,
           0,
           0.5
          ],
          [
           6,
           0.5,
           0.5
          ],
          [
           0,
           -0.5,
           -0.5
          ],
          [
           1,
           0,
           -0.5
          ],
          [
           2,
           -0.5,
           0
          ],
          [
           3,
           0,
           0
          ],
          [
           4,
           0.5,
           0
          ],
          [
           5,
           -0.5,
           0.5
          ],
          [
           6,
           0,
           0.5
          ],
          [
           7,
           0.5,
           0.5
          ],
          [
           0,
           -0.5,
           -0.5
          ],
          [
           1,
           0,
           -0.5
          ],
          [
           2,
           -0.5,
           0
          ],
          [
           3,
           0,
           0
          ],
          [
           4,
           0.5,
           0
          ],
          [
           5,
           -0.5,
           0.5
          ],
          [
           6,
           0,
           0.5
          ],
          [
           7,
           0.5,
           0.5
          ],
          [
           0,
           -0.5,
           -0.5
          ],
          [
           1,
           0,
           -0.5
          ],
          [
           2,
           -0.5,
           0
          ],
          [
           3,
           0,
           0
          ],
          [
           4,
           0.5,
           0
          ],
          [
           5,
           0,
           0.5
          ],
          [
           6,
           0.5,
           0.5
          ]
         ],
         "hovertemplate": "<b>%{hovertext}</b><br><br>Camera=Fri 2022.05.20 00:41<br>residual=%{x}<br>Laser=%{y}<br>beam_capture_index=%{customdata[0]}<br>projectionPoint_x=%{customdata[1]}<br>projectionPoint_y=%{customdata[2]}<extra></extra>",
         "hovertext": [
          1,
          1,
          1,
          1,
          2,
          2,
          2,
          2,
          2,
          2,
          2,
          4,
          4,
          4,
          4,
          4,
          8,
          8,
          8,
          8,
          8,
          8,
          8,
          8,
          8,
          10,
          10,
          10,
          10,
          10,
          10,
          10,
          10,
          11,
          11,
          11,
          11,
          11,
          11,
          11,
          11,
          11,
          13,
          13,
          13,
          13,
          13,
          13,
          13,
          13,
          13,
          14,
          14,
          14,
          14,
          14,
          14,
          14,
          14,
          14,
          15,
          15,
          15,
          15,
          15,
          15,
          15,
          15,
          15,
          16,
          16,
          16,
          16,
          16,
          16,
          16,
          16,
          17,
          17,
          17,
          17,
          17,
          17,
          17,
          17,
          17,
          18,
          18,
          18,
          18,
          18,
          18,
          18,
          18,
          18,
          19,
          19,
          19,
          19,
          19,
          19,
          19,
          19,
          19,
          22,
          22,
          22,
          22,
          22,
          22,
          22,
          22,
          25,
          25,
          25,
          26,
          26,
          26,
          26,
          29,
          29,
          29,
          29,
          29,
          29,
          31,
          31,
          31,
          31,
          31,
          32,
          32,
          32,
          32,
          32,
          32,
          32,
          34,
          34,
          34,
          34,
          34,
          34,
          34,
          36,
          36,
          36,
          36,
          36,
          36,
          36,
          36,
          37,
          37,
          37,
          37,
          37,
          37,
          37,
          37,
          38,
          38,
          38,
          38,
          38,
          38,
          38
         ],
         "legendgroup": "Fri 2022.05.20 00:41",
         "marker": {
          "color": "#ab63fa",
          "symbol": "circle"
         },
         "mode": "markers",
         "name": "Fri 2022.05.20 00:41",
         "orientation": "v",
         "showlegend": true,
         "type": "scatter",
         "x": [
          773.7755126953125,
          628.58349609375,
          1581.9451904296875,
          2902.7421875,
          1438.339111328125,
          454.7900695800781,
          1477.027587890625,
          432.4264831542969,
          1548.259521484375,
          494.15606689453125,
          1306.1932373046875,
          623.2907104492188,
          684.663330078125,
          626.86279296875,
          733.8291015625,
          623.9159545898438,
          1239.3387451171875,
          515.4946899414062,
          595.9496459960938,
          1241.0909423828125,
          614.073486328125,
          440.6390380859375,
          1261.1329345703125,
          686.4403686523438,
          385.8381652832031,
          1370.8809814453125,
          530.8992309570312,
          666.1101684570312,
          560.0911865234375,
          466.0783386230469,
          1229.5306396484375,
          571.074951171875,
          357.0132141113281,
          976.0849609375,
          188.12911987304688,
          924.6869506835938,
          884.7550659179688,
          186.84605407714844,
          747.1078491210938,
          832.0206298828125,
          184.357666015625,
          635.6830444335938,
          402.55615234375,
          537.455078125,
          1348.301025390625,
          366.1203308105469,
          413.9392395019531,
          1126.1248779296875,
          363.6440734863281,
          319.9788818359375,
          969.2332153320312,
          1061.855712890625,
          269.832763671875,
          585.9368286132812,
          915.1434936523438,
          230.18084716796875,
          475.6119689941406,
          819.881103515625,
          192.66282653808594,
          430.92279052734375,
          693.2562866210938,
          191.93724060058594,
          824.2467041015625,
          512.9846801757812,
          239.4969024658203,
          797.9773559570312,
          404.7491760253906,
          292.9884033203125,
          806.1524658203125,
          968.0899047851562,
          292.4057922363281,
          389.5658874511719,
          826.8095703125,
          298.00982666015625,
          386.44097900390625,
          741.7159423828125,
          433.15118408203125,
          930.28662109375,
          321.29803466796875,
          428.0006103515625,
          792.2780151367188,
          327.9387512207031,
          435.2211608886719,
          707.006591796875,
          347.3704833984375,
          470.6982116699219,
          600.0630493164062,
          850.6438598632812,
          1239.29248046875,
          637.9957885742188,
          873.3402709960938,
          1199.2958984375,
          668.2749633789062,
          900.8970336914062,
          1193.4647216796875,
          358.18450927734375,
          499.9959411621094,
          850.8598022460938,
          375.9850158691406,
          520.0967407226562,
          790.3757934570312,
          400.0749816894531,
          550.567626953125,
          778.8820190429688,
          105.29788970947266,
          1303.42724609375,
          1069.876708984375,
          42.04749298095703,
          1125.0498046875,
          949.1040649414062,
          123.2281494140625,
          1040.6077880859375,
          1442.502685546875,
          1108.2947998046875,
          875.3013305664062,
          2159.652587890625,
          1172.345458984375,
          2587.45263671875,
          620.4530029296875,
          380.68829345703125,
          2090.11962890625,
          466.0150451660156,
          1765.364501953125,
          558.9613037109375,
          1527.9443359375,
          503.1238708496094,
          479.3857116699219,
          1728.154541015625,
          543.32470703125,
          1362.314208984375,
          1247.634765625,
          979.2227172851562,
          1199.1849365234375,
          714.2058715820312,
          1204.88525390625,
          537.8245849609375,
          2008.1446533203125,
          507.1650695800781,
          1635.8271484375,
          700.1673583984375,
          1080.2840576171875,
          900.4406127929688,
          675.8020629882812,
          2196.962890625,
          1704.0699462890625,
          292.02130126953125,
          1905.5733642578125,
          265.504638671875,
          1441.0494384765625,
          2103.461669921875,
          614.8826293945312,
          898.4598999023438,
          1973.1163330078125,
          54.454559326171875,
          1955.2435302734375,
          240.96116638183594,
          1502.3406982421875,
          1986.5950927734375,
          440.8202209472656,
          1125.77490234375,
          1828.381103515625,
          110.80569458007812,
          1955.328125,
          270.58905029296875,
          1435.716552734375,
          560.9861450195312,
          994.4735717773438
         ],
         "xaxis": "x",
         "y": [
          1,
          1,
          1,
          1,
          2,
          2,
          2,
          2,
          2,
          2,
          2,
          4,
          4,
          4,
          4,
          4,
          8,
          8,
          8,
          8,
          8,
          8,
          8,
          8,
          8,
          10,
          10,
          10,
          10,
          10,
          10,
          10,
          10,
          11,
          11,
          11,
          11,
          11,
          11,
          11,
          11,
          11,
          13,
          13,
          13,
          13,
          13,
          13,
          13,
          13,
          13,
          14,
          14,
          14,
          14,
          14,
          14,
          14,
          14,
          14,
          15,
          15,
          15,
          15,
          15,
          15,
          15,
          15,
          15,
          16,
          16,
          16,
          16,
          16,
          16,
          16,
          16,
          17,
          17,
          17,
          17,
          17,
          17,
          17,
          17,
          17,
          18,
          18,
          18,
          18,
          18,
          18,
          18,
          18,
          18,
          19,
          19,
          19,
          19,
          19,
          19,
          19,
          19,
          19,
          22,
          22,
          22,
          22,
          22,
          22,
          22,
          22,
          25,
          25,
          25,
          26,
          26,
          26,
          26,
          29,
          29,
          29,
          29,
          29,
          29,
          31,
          31,
          31,
          31,
          31,
          32,
          32,
          32,
          32,
          32,
          32,
          32,
          34,
          34,
          34,
          34,
          34,
          34,
          34,
          36,
          36,
          36,
          36,
          36,
          36,
          36,
          36,
          37,
          37,
          37,
          37,
          37,
          37,
          37,
          37,
          38,
          38,
          38,
          38,
          38,
          38,
          38
         ],
         "yaxis": "y"
        },
        {
         "customdata": [
          [
           0,
           -0.5,
           -0.5
          ],
          [
           1,
           0,
           -0.5
          ],
          [
           2,
           -0.5,
           0
          ],
          [
           3,
           0,
           0
          ],
          [
           4,
           0.5,
           0
          ],
          [
           5,
           -0.5,
           0.5
          ],
          [
           6,
           0,
           0.5
          ],
          [
           7,
           0.5,
           0.5
          ],
          [
           0,
           -0.5,
           -0.5
          ],
          [
           1,
           0.5,
           -0.5
          ],
          [
           2,
           -0.5,
           0
          ],
          [
           3,
           0,
           0
          ],
          [
           4,
           0.5,
           0
          ],
          [
           5,
           -0.5,
           0.5
          ],
          [
           6,
           0,
           0.5
          ],
          [
           7,
           0.5,
           0.5
          ],
          [
           0,
           -0.5,
           -0.5
          ],
          [
           1,
           -0.5,
           0
          ],
          [
           2,
           0,
           0
          ],
          [
           3,
           0.5,
           0
          ],
          [
           4,
           0,
           0.5
          ],
          [
           5,
           0.5,
           0.5
          ],
          [
           0,
           -0.5,
           -0.5
          ],
          [
           1,
           0,
           -0.5
          ],
          [
           2,
           0.5,
           -0.5
          ],
          [
           3,
           -0.5,
           0
          ],
          [
           4,
           0,
           0
          ],
          [
           5,
           0.5,
           0
          ],
          [
           6,
           -0.5,
           0.5
          ],
          [
           7,
           0,
           0.5
          ],
          [
           8,
           0.5,
           0.5
          ],
          [
           0,
           -0.5,
           -0.5
          ],
          [
           1,
           0,
           -0.5
          ],
          [
           2,
           0.5,
           -0.5
          ],
          [
           3,
           -0.5,
           0
          ],
          [
           4,
           0,
           0
          ],
          [
           5,
           0.5,
           0
          ],
          [
           6,
           -0.5,
           0.5
          ],
          [
           7,
           0,
           0.5
          ],
          [
           8,
           0.5,
           0.5
          ],
          [
           0,
           -0.5,
           -0.5
          ],
          [
           1,
           0,
           -0.5
          ],
          [
           2,
           -0.5,
           0
          ],
          [
           3,
           0,
           0
          ],
          [
           4,
           0.5,
           0
          ],
          [
           5,
           -0.5,
           0.5
          ],
          [
           6,
           0,
           0.5
          ],
          [
           7,
           0.5,
           0.5
          ],
          [
           0,
           -0.5,
           -0.5
          ],
          [
           1,
           0,
           -0.5
          ],
          [
           2,
           0.5,
           -0.5
          ],
          [
           3,
           -0.5,
           0
          ],
          [
           4,
           0,
           0
          ],
          [
           5,
           0.5,
           0
          ],
          [
           6,
           -0.5,
           0.5
          ],
          [
           7,
           0,
           0.5
          ],
          [
           8,
           0.5,
           0.5
          ],
          [
           0,
           -0.5,
           -0.5
          ],
          [
           1,
           0,
           -0.5
          ],
          [
           2,
           -0.5,
           0
          ],
          [
           3,
           0,
           0
          ],
          [
           4,
           0.5,
           0
          ],
          [
           5,
           -0.5,
           0.5
          ],
          [
           6,
           0,
           0.5
          ],
          [
           7,
           0.5,
           0.5
          ],
          [
           0,
           -0.5,
           -0.5
          ],
          [
           1,
           0,
           -0.5
          ],
          [
           2,
           -0.5,
           0
          ],
          [
           3,
           0,
           0
          ],
          [
           4,
           0.5,
           0
          ],
          [
           5,
           -0.5,
           0.5
          ],
          [
           6,
           0,
           0.5
          ],
          [
           7,
           0.5,
           0.5
          ],
          [
           0,
           -0.5,
           -0.5
          ],
          [
           1,
           0,
           -0.5
          ],
          [
           2,
           0.5,
           -0.5
          ],
          [
           3,
           -0.5,
           0
          ],
          [
           4,
           0,
           0
          ],
          [
           5,
           0.5,
           0
          ],
          [
           6,
           -0.5,
           0.5
          ],
          [
           7,
           0,
           0.5
          ],
          [
           8,
           0.5,
           0.5
          ],
          [
           0,
           0,
           -0.5
          ],
          [
           1,
           -0.5,
           0
          ],
          [
           2,
           0,
           0
          ],
          [
           3,
           0.5,
           0
          ],
          [
           4,
           -0.5,
           0.5
          ],
          [
           5,
           0,
           0.5
          ],
          [
           6,
           0.5,
           0.5
          ],
          [
           0,
           0,
           -0.5
          ],
          [
           1,
           0.5,
           -0.5
          ],
          [
           2,
           0,
           0
          ],
          [
           3,
           0.5,
           0
          ],
          [
           4,
           0,
           0.5
          ],
          [
           5,
           0.5,
           0.5
          ],
          [
           0,
           0,
           0
          ],
          [
           1,
           0.5,
           0
          ],
          [
           2,
           -0.5,
           0.5
          ],
          [
           3,
           0,
           0.5
          ],
          [
           4,
           0.5,
           0.5
          ],
          [
           0,
           -0.5,
           -0.5
          ],
          [
           1,
           0,
           -0.5
          ],
          [
           2,
           0.5,
           -0.5
          ],
          [
           3,
           -0.5,
           0
          ],
          [
           4,
           0,
           0
          ],
          [
           5,
           0.5,
           0
          ],
          [
           6,
           -0.5,
           0.5
          ],
          [
           7,
           0.5,
           0.5
          ],
          [
           0,
           -0.5,
           -0.5
          ],
          [
           1,
           0,
           -0.5
          ],
          [
           2,
           -0.5,
           0
          ],
          [
           3,
           0,
           0
          ],
          [
           4,
           0.5,
           0
          ],
          [
           5,
           -0.5,
           0.5
          ],
          [
           6,
           0.5,
           0.5
          ],
          [
           0,
           -0.5,
           -0.5
          ],
          [
           1,
           0,
           -0.5
          ],
          [
           2,
           0.5,
           -0.5
          ],
          [
           3,
           -0.5,
           0
          ],
          [
           4,
           0,
           0
          ],
          [
           5,
           0.5,
           0
          ],
          [
           6,
           -0.5,
           0.5
          ],
          [
           7,
           0.5,
           0.5
          ],
          [
           0,
           -0.5,
           -0.5
          ],
          [
           1,
           0,
           -0.5
          ],
          [
           2,
           0.5,
           -0.5
          ],
          [
           3,
           -0.5,
           0
          ],
          [
           4,
           0.5,
           0
          ],
          [
           5,
           -0.5,
           0.5
          ],
          [
           6,
           0,
           0.5
          ],
          [
           7,
           0.5,
           0.5
          ],
          [
           0,
           0,
           -0.5
          ],
          [
           1,
           0.5,
           -0.5
          ],
          [
           2,
           -0.5,
           0
          ],
          [
           3,
           0,
           0
          ],
          [
           4,
           0.5,
           0
          ],
          [
           5,
           -0.5,
           0.5
          ],
          [
           6,
           0,
           0.5
          ],
          [
           7,
           0.5,
           0.5
          ],
          [
           0,
           -0.5,
           -0.5
          ],
          [
           1,
           0,
           -0.5
          ],
          [
           2,
           0.5,
           -0.5
          ],
          [
           3,
           -0.5,
           0
          ],
          [
           4,
           0,
           0
          ],
          [
           5,
           0.5,
           0
          ],
          [
           6,
           -0.5,
           0.5
          ],
          [
           7,
           0,
           0.5
          ],
          [
           0,
           -0.5,
           -0.5
          ],
          [
           1,
           0,
           -0.5
          ],
          [
           2,
           0.5,
           -0.5
          ],
          [
           3,
           -0.5,
           0
          ],
          [
           4,
           0.5,
           0
          ],
          [
           5,
           -0.5,
           0.5
          ],
          [
           6,
           0,
           0.5
          ],
          [
           0,
           -0.5,
           -0.5
          ],
          [
           1,
           0,
           -0.5
          ],
          [
           2,
           0.5,
           -0.5
          ],
          [
           3,
           -0.5,
           0
          ],
          [
           4,
           0,
           0
          ],
          [
           5,
           0.5,
           0
          ],
          [
           6,
           -0.5,
           0.5
          ],
          [
           7,
           0,
           0.5
          ],
          [
           8,
           0.5,
           0.5
          ],
          [
           0,
           -0.5,
           -0.5
          ],
          [
           1,
           0,
           -0.5
          ],
          [
           2,
           0.5,
           -0.5
          ],
          [
           3,
           -0.5,
           0
          ],
          [
           4,
           0,
           0
          ],
          [
           5,
           0.5,
           0
          ],
          [
           6,
           -0.5,
           0.5
          ],
          [
           7,
           0,
           0.5
          ],
          [
           8,
           0.5,
           0.5
          ],
          [
           0,
           -0.5,
           -0.5
          ],
          [
           1,
           0,
           -0.5
          ],
          [
           2,
           0.5,
           -0.5
          ],
          [
           3,
           -0.5,
           0
          ],
          [
           4,
           0,
           0
          ],
          [
           5,
           0.5,
           0
          ],
          [
           6,
           -0.5,
           0.5
          ],
          [
           7,
           0,
           0.5
          ],
          [
           8,
           0.5,
           0.5
          ],
          [
           0,
           -0.5,
           -0.5
          ],
          [
           1,
           0,
           -0.5
          ],
          [
           2,
           0.5,
           -0.5
          ],
          [
           3,
           -0.5,
           0
          ],
          [
           4,
           0,
           0
          ],
          [
           5,
           0.5,
           0
          ],
          [
           6,
           -0.5,
           0.5
          ],
          [
           7,
           0,
           0.5
          ],
          [
           8,
           0.5,
           0.5
          ]
         ],
         "hovertemplate": "<b>%{hovertext}</b><br><br>Camera=Fri 2022.05.20 01:22<br>residual=%{x}<br>Laser=%{y}<br>beam_capture_index=%{customdata[0]}<br>projectionPoint_x=%{customdata[1]}<br>projectionPoint_y=%{customdata[2]}<extra></extra>",
         "hovertext": [
          2,
          2,
          2,
          2,
          2,
          2,
          2,
          2,
          4,
          4,
          4,
          4,
          4,
          4,
          4,
          4,
          8,
          8,
          8,
          8,
          8,
          8,
          10,
          10,
          10,
          10,
          10,
          10,
          10,
          10,
          10,
          14,
          14,
          14,
          14,
          14,
          14,
          14,
          14,
          14,
          15,
          15,
          15,
          15,
          15,
          15,
          15,
          15,
          16,
          16,
          16,
          16,
          16,
          16,
          16,
          16,
          16,
          17,
          17,
          17,
          17,
          17,
          17,
          17,
          17,
          18,
          18,
          18,
          18,
          18,
          18,
          18,
          18,
          19,
          19,
          19,
          19,
          19,
          19,
          19,
          19,
          19,
          22,
          22,
          22,
          22,
          22,
          22,
          22,
          25,
          25,
          25,
          25,
          25,
          25,
          26,
          26,
          26,
          26,
          26,
          28,
          28,
          28,
          28,
          28,
          28,
          28,
          28,
          29,
          29,
          29,
          29,
          29,
          29,
          29,
          30,
          30,
          30,
          30,
          30,
          30,
          30,
          30,
          31,
          31,
          31,
          31,
          31,
          31,
          31,
          31,
          32,
          32,
          32,
          32,
          32,
          32,
          32,
          32,
          34,
          34,
          34,
          34,
          34,
          34,
          34,
          34,
          35,
          35,
          35,
          35,
          35,
          35,
          35,
          36,
          36,
          36,
          36,
          36,
          36,
          36,
          36,
          36,
          37,
          37,
          37,
          37,
          37,
          37,
          37,
          37,
          37,
          33,
          33,
          33,
          33,
          33,
          33,
          33,
          33,
          33,
          40,
          40,
          40,
          40,
          40,
          40,
          40,
          40,
          40
         ],
         "legendgroup": "Fri 2022.05.20 01:22",
         "marker": {
          "color": "#FFA15A",
          "symbol": "circle"
         },
         "mode": "markers",
         "name": "Fri 2022.05.20 01:22",
         "orientation": "v",
         "showlegend": true,
         "type": "scatter",
         "x": [
          441.69921875,
          266.6758117675781,
          588.3951416015625,
          203.9912872314453,
          422.2453918457031,
          725.81982421875,
          310.6067199707031,
          235.28749084472656,
          274.2734375,
          910.1153564453125,
          528.1738891601562,
          90.07567596435547,
          553.2037963867188,
          742.18017578125,
          234.61277770996094,
          286.1859130859375,
          270.7265930175781,
          314.2108154296875,
          368.46502685546875,
          867.0238647460938,
          197.18667602539062,
          444.59332275390625,
          279.8152770996094,
          931.4977416992188,
          1558.417724609375,
          365.1930236816406,
          411.7099914550781,
          994.04541015625,
          746.2421264648438,
          157.0323486328125,
          540.1815795898438,
          328.7140197753906,
          1083.955810546875,
          1896.46337890625,
          589.9332885742188,
          431.3887634277344,
          1168.4326171875,
          1098.8790283203125,
          293.86114501953125,
          574.2049560546875,
          397.39154052734375,
          1291.2918701171875,
          430.22076416015625,
          643.0985107421875,
          1470.194580078125,
          891.7625122070312,
          177.35748291015625,
          884.1806640625,
          693.457763671875,
          443.46832275390625,
          1428.4415283203125,
          1192.3829345703125,
          198.5199432373047,
          759.4986572265625,
          1646.3104248046875,
          679.0175170898438,
          216.6692657470703,
          1193.762939453125,
          98.94337463378906,
          1619.926025390625,
          478.7359619140625,
          596.0054931640625,
          2003.552734375,
          923.0081176757812,
          128.8772735595703,
          357.49041748046875,
          965.6178588867188,
          709.4706420898438,
          497.91015625,
          1529.96484375,
          1054.0018310546875,
          250.9513702392578,
          1063.7373046875,
          810.6049194335938,
          450.4662170410156,
          1600.801025390625,
          1009.6543579101562,
          238.58364868164062,
          1182.8526611328125,
          1202.208984375,
          295.0998229980469,
          875.460693359375,
          1201.517333984375,
          1586.615478515625,
          756.3047485351562,
          439.2999267578125,
          1147.6307373046875,
          434.41497802734375,
          719.3839721679688,
          375.9695129394531,
          973.59228515625,
          776.091552734375,
          1327.868408203125,
          1116.083984375,
          1644.30224609375,
          469.9512023925781,
          289.50579833984375,
          424.924560546875,
          202.59410095214844,
          9.464356422424316,
          310.10479736328125,
          213.125732421875,
          505.3325500488281,
          324.04071044921875,
          474.5375671386719,
          772.7116088867188,
          499.3643493652344,
          463.5478820800781,
          599.52099609375,
          280.2010803222656,
          490.4910583496094,
          334.68756103515625,
          486.77716064453125,
          493.7769470214844,
          639.5476684570312,
          319.9415283203125,
          186.50868225097656,
          351.2254943847656,
          269.2334289550781,
          268.77874755859375,
          442.7187805175781,
          294.12890625,
          512.2622680664062,
          532.27490234375,
          261.7798767089844,
          485.958251953125,
          409.037109375,
          385.2774353027344,
          455.3350524902344,
          89.2206039428711,
          308.0010070800781,
          304.82904052734375,
          221.89479064941406,
          439.8079528808594,
          184.1941375732422,
          222.44869995117188,
          315.0690612792969,
          107.8069839477539,
          227.60560607910156,
          529.20849609375,
          243.95718383789062,
          324.7814025878906,
          422.12841796875,
          200.96981811523438,
          243.51055908203125,
          355.5605163574219,
          165.53045654296875,
          249.702880859375,
          217.64682006835938,
          512.4429321289062,
          205.3990936279297,
          426.0163269042969,
          171.05667114257812,
          152.8966827392578,
          471.1980285644531,
          99.99531555175781,
          418.12457275390625,
          357.4745178222656,
          65.56966400146484,
          353.1003112792969,
          284.1640319824219,
          47.94462203979492,
          321.9626770019531,
          780.5154418945312,
          388.6600036621094,
          271.8478698730469,
          640.6392211914062,
          323.20733642578125,
          223.73306274414062,
          548.2125854492188,
          273.401123046875,
          193.11636352539062,
          869.0918579101562,
          480.3111572265625,
          153.21786499023438,
          801.5967407226562,
          457.77532958984375,
          116.18534851074219,
          756.00927734375,
          443.07373046875,
          131.83282470703125,
          785.6442260742188,
          331.8502502441406,
          119.93726348876953,
          771.3267822265625,
          379.5852966308594,
          14.563055038452148,
          769.76171875,
          414.6114807128906,
          75.18934631347656
         ],
         "xaxis": "x",
         "y": [
          2,
          2,
          2,
          2,
          2,
          2,
          2,
          2,
          4,
          4,
          4,
          4,
          4,
          4,
          4,
          4,
          8,
          8,
          8,
          8,
          8,
          8,
          10,
          10,
          10,
          10,
          10,
          10,
          10,
          10,
          10,
          14,
          14,
          14,
          14,
          14,
          14,
          14,
          14,
          14,
          15,
          15,
          15,
          15,
          15,
          15,
          15,
          15,
          16,
          16,
          16,
          16,
          16,
          16,
          16,
          16,
          16,
          17,
          17,
          17,
          17,
          17,
          17,
          17,
          17,
          18,
          18,
          18,
          18,
          18,
          18,
          18,
          18,
          19,
          19,
          19,
          19,
          19,
          19,
          19,
          19,
          19,
          22,
          22,
          22,
          22,
          22,
          22,
          22,
          25,
          25,
          25,
          25,
          25,
          25,
          26,
          26,
          26,
          26,
          26,
          28,
          28,
          28,
          28,
          28,
          28,
          28,
          28,
          29,
          29,
          29,
          29,
          29,
          29,
          29,
          30,
          30,
          30,
          30,
          30,
          30,
          30,
          30,
          31,
          31,
          31,
          31,
          31,
          31,
          31,
          31,
          32,
          32,
          32,
          32,
          32,
          32,
          32,
          32,
          34,
          34,
          34,
          34,
          34,
          34,
          34,
          34,
          35,
          35,
          35,
          35,
          35,
          35,
          35,
          36,
          36,
          36,
          36,
          36,
          36,
          36,
          36,
          36,
          37,
          37,
          37,
          37,
          37,
          37,
          37,
          37,
          37,
          33,
          33,
          33,
          33,
          33,
          33,
          33,
          33,
          33,
          40,
          40,
          40,
          40,
          40,
          40,
          40,
          40,
          40
         ],
         "yaxis": "y"
        }
       ],
       "layout": {
        "legend": {
         "title": {
          "text": "Camera"
         },
         "tracegroupgap": 0
        },
        "template": {
         "data": {
          "bar": [
           {
            "error_x": {
             "color": "#2a3f5f"
            },
            "error_y": {
             "color": "#2a3f5f"
            },
            "marker": {
             "line": {
              "color": "#E5ECF6",
              "width": 0.5
             },
             "pattern": {
              "fillmode": "overlay",
              "size": 10,
              "solidity": 0.2
             }
            },
            "type": "bar"
           }
          ],
          "barpolar": [
           {
            "marker": {
             "line": {
              "color": "#E5ECF6",
              "width": 0.5
             },
             "pattern": {
              "fillmode": "overlay",
              "size": 10,
              "solidity": 0.2
             }
            },
            "type": "barpolar"
           }
          ],
          "carpet": [
           {
            "aaxis": {
             "endlinecolor": "#2a3f5f",
             "gridcolor": "white",
             "linecolor": "white",
             "minorgridcolor": "white",
             "startlinecolor": "#2a3f5f"
            },
            "baxis": {
             "endlinecolor": "#2a3f5f",
             "gridcolor": "white",
             "linecolor": "white",
             "minorgridcolor": "white",
             "startlinecolor": "#2a3f5f"
            },
            "type": "carpet"
           }
          ],
          "choropleth": [
           {
            "colorbar": {
             "outlinewidth": 0,
             "ticks": ""
            },
            "type": "choropleth"
           }
          ],
          "contour": [
           {
            "colorbar": {
             "outlinewidth": 0,
             "ticks": ""
            },
            "colorscale": [
             [
              0,
              "#0d0887"
             ],
             [
              0.1111111111111111,
              "#46039f"
             ],
             [
              0.2222222222222222,
              "#7201a8"
             ],
             [
              0.3333333333333333,
              "#9c179e"
             ],
             [
              0.4444444444444444,
              "#bd3786"
             ],
             [
              0.5555555555555556,
              "#d8576b"
             ],
             [
              0.6666666666666666,
              "#ed7953"
             ],
             [
              0.7777777777777778,
              "#fb9f3a"
             ],
             [
              0.8888888888888888,
              "#fdca26"
             ],
             [
              1,
              "#f0f921"
             ]
            ],
            "type": "contour"
           }
          ],
          "contourcarpet": [
           {
            "colorbar": {
             "outlinewidth": 0,
             "ticks": ""
            },
            "type": "contourcarpet"
           }
          ],
          "heatmap": [
           {
            "colorbar": {
             "outlinewidth": 0,
             "ticks": ""
            },
            "colorscale": [
             [
              0,
              "#0d0887"
             ],
             [
              0.1111111111111111,
              "#46039f"
             ],
             [
              0.2222222222222222,
              "#7201a8"
             ],
             [
              0.3333333333333333,
              "#9c179e"
             ],
             [
              0.4444444444444444,
              "#bd3786"
             ],
             [
              0.5555555555555556,
              "#d8576b"
             ],
             [
              0.6666666666666666,
              "#ed7953"
             ],
             [
              0.7777777777777778,
              "#fb9f3a"
             ],
             [
              0.8888888888888888,
              "#fdca26"
             ],
             [
              1,
              "#f0f921"
             ]
            ],
            "type": "heatmap"
           }
          ],
          "heatmapgl": [
           {
            "colorbar": {
             "outlinewidth": 0,
             "ticks": ""
            },
            "colorscale": [
             [
              0,
              "#0d0887"
             ],
             [
              0.1111111111111111,
              "#46039f"
             ],
             [
              0.2222222222222222,
              "#7201a8"
             ],
             [
              0.3333333333333333,
              "#9c179e"
             ],
             [
              0.4444444444444444,
              "#bd3786"
             ],
             [
              0.5555555555555556,
              "#d8576b"
             ],
             [
              0.6666666666666666,
              "#ed7953"
             ],
             [
              0.7777777777777778,
              "#fb9f3a"
             ],
             [
              0.8888888888888888,
              "#fdca26"
             ],
             [
              1,
              "#f0f921"
             ]
            ],
            "type": "heatmapgl"
           }
          ],
          "histogram": [
           {
            "marker": {
             "pattern": {
              "fillmode": "overlay",
              "size": 10,
              "solidity": 0.2
             }
            },
            "type": "histogram"
           }
          ],
          "histogram2d": [
           {
            "colorbar": {
             "outlinewidth": 0,
             "ticks": ""
            },
            "colorscale": [
             [
              0,
              "#0d0887"
             ],
             [
              0.1111111111111111,
              "#46039f"
             ],
             [
              0.2222222222222222,
              "#7201a8"
             ],
             [
              0.3333333333333333,
              "#9c179e"
             ],
             [
              0.4444444444444444,
              "#bd3786"
             ],
             [
              0.5555555555555556,
              "#d8576b"
             ],
             [
              0.6666666666666666,
              "#ed7953"
             ],
             [
              0.7777777777777778,
              "#fb9f3a"
             ],
             [
              0.8888888888888888,
              "#fdca26"
             ],
             [
              1,
              "#f0f921"
             ]
            ],
            "type": "histogram2d"
           }
          ],
          "histogram2dcontour": [
           {
            "colorbar": {
             "outlinewidth": 0,
             "ticks": ""
            },
            "colorscale": [
             [
              0,
              "#0d0887"
             ],
             [
              0.1111111111111111,
              "#46039f"
             ],
             [
              0.2222222222222222,
              "#7201a8"
             ],
             [
              0.3333333333333333,
              "#9c179e"
             ],
             [
              0.4444444444444444,
              "#bd3786"
             ],
             [
              0.5555555555555556,
              "#d8576b"
             ],
             [
              0.6666666666666666,
              "#ed7953"
             ],
             [
              0.7777777777777778,
              "#fb9f3a"
             ],
             [
              0.8888888888888888,
              "#fdca26"
             ],
             [
              1,
              "#f0f921"
             ]
            ],
            "type": "histogram2dcontour"
           }
          ],
          "mesh3d": [
           {
            "colorbar": {
             "outlinewidth": 0,
             "ticks": ""
            },
            "type": "mesh3d"
           }
          ],
          "parcoords": [
           {
            "line": {
             "colorbar": {
              "outlinewidth": 0,
              "ticks": ""
             }
            },
            "type": "parcoords"
           }
          ],
          "pie": [
           {
            "automargin": true,
            "type": "pie"
           }
          ],
          "scatter": [
           {
            "fillpattern": {
             "fillmode": "overlay",
             "size": 10,
             "solidity": 0.2
            },
            "type": "scatter"
           }
          ],
          "scatter3d": [
           {
            "line": {
             "colorbar": {
              "outlinewidth": 0,
              "ticks": ""
             }
            },
            "marker": {
             "colorbar": {
              "outlinewidth": 0,
              "ticks": ""
             }
            },
            "type": "scatter3d"
           }
          ],
          "scattercarpet": [
           {
            "marker": {
             "colorbar": {
              "outlinewidth": 0,
              "ticks": ""
             }
            },
            "type": "scattercarpet"
           }
          ],
          "scattergeo": [
           {
            "marker": {
             "colorbar": {
              "outlinewidth": 0,
              "ticks": ""
             }
            },
            "type": "scattergeo"
           }
          ],
          "scattergl": [
           {
            "marker": {
             "colorbar": {
              "outlinewidth": 0,
              "ticks": ""
             }
            },
            "type": "scattergl"
           }
          ],
          "scattermapbox": [
           {
            "marker": {
             "colorbar": {
              "outlinewidth": 0,
              "ticks": ""
             }
            },
            "type": "scattermapbox"
           }
          ],
          "scatterpolar": [
           {
            "marker": {
             "colorbar": {
              "outlinewidth": 0,
              "ticks": ""
             }
            },
            "type": "scatterpolar"
           }
          ],
          "scatterpolargl": [
           {
            "marker": {
             "colorbar": {
              "outlinewidth": 0,
              "ticks": ""
             }
            },
            "type": "scatterpolargl"
           }
          ],
          "scatterternary": [
           {
            "marker": {
             "colorbar": {
              "outlinewidth": 0,
              "ticks": ""
             }
            },
            "type": "scatterternary"
           }
          ],
          "surface": [
           {
            "colorbar": {
             "outlinewidth": 0,
             "ticks": ""
            },
            "colorscale": [
             [
              0,
              "#0d0887"
             ],
             [
              0.1111111111111111,
              "#46039f"
             ],
             [
              0.2222222222222222,
              "#7201a8"
             ],
             [
              0.3333333333333333,
              "#9c179e"
             ],
             [
              0.4444444444444444,
              "#bd3786"
             ],
             [
              0.5555555555555556,
              "#d8576b"
             ],
             [
              0.6666666666666666,
              "#ed7953"
             ],
             [
              0.7777777777777778,
              "#fb9f3a"
             ],
             [
              0.8888888888888888,
              "#fdca26"
             ],
             [
              1,
              "#f0f921"
             ]
            ],
            "type": "surface"
           }
          ],
          "table": [
           {
            "cells": {
             "fill": {
              "color": "#EBF0F8"
             },
             "line": {
              "color": "white"
             }
            },
            "header": {
             "fill": {
              "color": "#C8D4E3"
             },
             "line": {
              "color": "white"
             }
            },
            "type": "table"
           }
          ]
         },
         "layout": {
          "annotationdefaults": {
           "arrowcolor": "#2a3f5f",
           "arrowhead": 0,
           "arrowwidth": 1
          },
          "autotypenumbers": "strict",
          "coloraxis": {
           "colorbar": {
            "outlinewidth": 0,
            "ticks": ""
           }
          },
          "colorscale": {
           "diverging": [
            [
             0,
             "#8e0152"
            ],
            [
             0.1,
             "#c51b7d"
            ],
            [
             0.2,
             "#de77ae"
            ],
            [
             0.3,
             "#f1b6da"
            ],
            [
             0.4,
             "#fde0ef"
            ],
            [
             0.5,
             "#f7f7f7"
            ],
            [
             0.6,
             "#e6f5d0"
            ],
            [
             0.7,
             "#b8e186"
            ],
            [
             0.8,
             "#7fbc41"
            ],
            [
             0.9,
             "#4d9221"
            ],
            [
             1,
             "#276419"
            ]
           ],
           "sequential": [
            [
             0,
             "#0d0887"
            ],
            [
             0.1111111111111111,
             "#46039f"
            ],
            [
             0.2222222222222222,
             "#7201a8"
            ],
            [
             0.3333333333333333,
             "#9c179e"
            ],
            [
             0.4444444444444444,
             "#bd3786"
            ],
            [
             0.5555555555555556,
             "#d8576b"
            ],
            [
             0.6666666666666666,
             "#ed7953"
            ],
            [
             0.7777777777777778,
             "#fb9f3a"
            ],
            [
             0.8888888888888888,
             "#fdca26"
            ],
            [
             1,
             "#f0f921"
            ]
           ],
           "sequentialminus": [
            [
             0,
             "#0d0887"
            ],
            [
             0.1111111111111111,
             "#46039f"
            ],
            [
             0.2222222222222222,
             "#7201a8"
            ],
            [
             0.3333333333333333,
             "#9c179e"
            ],
            [
             0.4444444444444444,
             "#bd3786"
            ],
            [
             0.5555555555555556,
             "#d8576b"
            ],
            [
             0.6666666666666666,
             "#ed7953"
            ],
            [
             0.7777777777777778,
             "#fb9f3a"
            ],
            [
             0.8888888888888888,
             "#fdca26"
            ],
            [
             1,
             "#f0f921"
            ]
           ]
          },
          "colorway": [
           "#636efa",
           "#EF553B",
           "#00cc96",
           "#ab63fa",
           "#FFA15A",
           "#19d3f3",
           "#FF6692",
           "#B6E880",
           "#FF97FF",
           "#FECB52"
          ],
          "font": {
           "color": "#2a3f5f"
          },
          "geo": {
           "bgcolor": "white",
           "lakecolor": "white",
           "landcolor": "#E5ECF6",
           "showlakes": true,
           "showland": true,
           "subunitcolor": "white"
          },
          "hoverlabel": {
           "align": "left"
          },
          "hovermode": "closest",
          "mapbox": {
           "style": "light"
          },
          "paper_bgcolor": "white",
          "plot_bgcolor": "#E5ECF6",
          "polar": {
           "angularaxis": {
            "gridcolor": "white",
            "linecolor": "white",
            "ticks": ""
           },
           "bgcolor": "#E5ECF6",
           "radialaxis": {
            "gridcolor": "white",
            "linecolor": "white",
            "ticks": ""
           }
          },
          "scene": {
           "xaxis": {
            "backgroundcolor": "#E5ECF6",
            "gridcolor": "white",
            "gridwidth": 2,
            "linecolor": "white",
            "showbackground": true,
            "ticks": "",
            "zerolinecolor": "white"
           },
           "yaxis": {
            "backgroundcolor": "#E5ECF6",
            "gridcolor": "white",
            "gridwidth": 2,
            "linecolor": "white",
            "showbackground": true,
            "ticks": "",
            "zerolinecolor": "white"
           },
           "zaxis": {
            "backgroundcolor": "#E5ECF6",
            "gridcolor": "white",
            "gridwidth": 2,
            "linecolor": "white",
            "showbackground": true,
            "ticks": "",
            "zerolinecolor": "white"
           }
          },
          "shapedefaults": {
           "line": {
            "color": "#2a3f5f"
           }
          },
          "ternary": {
           "aaxis": {
            "gridcolor": "white",
            "linecolor": "white",
            "ticks": ""
           },
           "baxis": {
            "gridcolor": "white",
            "linecolor": "white",
            "ticks": ""
           },
           "bgcolor": "#E5ECF6",
           "caxis": {
            "gridcolor": "white",
            "linecolor": "white",
            "ticks": ""
           }
          },
          "title": {
           "x": 0.05
          },
          "xaxis": {
           "automargin": true,
           "gridcolor": "white",
           "linecolor": "white",
           "ticks": "",
           "title": {
            "standoff": 15
           },
           "zerolinecolor": "white",
           "zerolinewidth": 2
          },
          "yaxis": {
           "automargin": true,
           "gridcolor": "white",
           "linecolor": "white",
           "ticks": "",
           "title": {
            "standoff": 15
           },
           "zerolinecolor": "white",
           "zerolinewidth": 2
          }
         }
        },
        "title": {
         "text": "Mean residual 580.9959176686876 px"
        },
        "xaxis": {
         "anchor": "y",
         "domain": [
          0,
          1
         ],
         "title": {
          "text": "residual"
         }
        },
        "yaxis": {
         "anchor": "x",
         "domain": [
          0,
          1
         ],
         "title": {
          "text": "Laser"
         }
        }
       }
      }
     },
     "metadata": {},
     "output_type": "display_data"
    }
   ],
   "source": [
    "residuals = []\n",
    "for data_point in data_points:\n",
    "    residuals.append(data_point['residual'])\n",
    "mean_residual = np.mean(residuals)\n",
    "\n",
    "fig = px.scatter(data_points\n",
    "    , x='residual'\n",
    "    , y='Laser'\n",
    "    , color='Camera'\n",
    "    , hover_name='Laser'\n",
    "\t, hover_data=['beam_capture_index', 'projectionPoint_x', 'projectionPoint_y']\n",
    "    , title=\"Mean residual {0} px\".format(mean_residual))\n",
    "fig.show()"
   ]
  },
  {
   "cell_type": "markdown",
   "metadata": {},
   "source": [
    "# Notes from Greece\n",
    "\n",
    "https://paper.dropbox.com/doc/KC68KC72-Calibration-log-v2--Bh4BhpiBl8CL5XP2Buzoq82GAg-zJiuoF5tDxpK6u18Sw23M#:uid=745312935561881238403951&h2=Athens-night-calibration-log"
   ]
  },
  {
   "cell_type": "code",
   "execution_count": null,
   "metadata": {},
   "outputs": [],
   "source": [
    "# get all laser addresses\n",
    "s = set()\n",
    "for data_point in data_points:\n",
    "\taddress = data_point['']\n",
    "\ts.add(data_point)"
   ]
  }
 ],
 "metadata": {
  "interpreter": {
   "hash": "8ad1532fc31f99577962bc5c83bf5434147f83b2eb1bd235603c40abbbf9cf0b"
  },
  "kernelspec": {
   "display_name": "Python 3.9.7 ('base')",
   "language": "python",
   "name": "python3"
  },
  "language_info": {
   "codemirror_mode": {
    "name": "ipython",
    "version": 3
   },
   "file_extension": ".py",
   "mimetype": "text/x-python",
   "name": "python",
   "nbconvert_exporter": "python",
   "pygments_lexer": "ipython3",
   "version": "3.9.7"
  },
  "orig_nbformat": 4
 },
 "nbformat": 4,
 "nbformat_minor": 2
}
