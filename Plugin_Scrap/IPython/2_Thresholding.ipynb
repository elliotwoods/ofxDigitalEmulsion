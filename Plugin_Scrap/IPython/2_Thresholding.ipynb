{
 "cells": [
  {
   "cell_type": "code",
   "execution_count": 12,
   "metadata": {},
   "outputs": [],
   "source": [
    "import json\n",
    "import numpy as np\n",
    "import pandas as pd\n",
    "import plotly.express as px\n",
    "import cv2\n",
    "import matplotlib.pyplot as plt"
   ]
  },
  {
   "cell_type": "code",
   "execution_count": 3,
   "metadata": {},
   "outputs": [],
   "source": [
    "# Parameters from Rulr\n",
    "normalizePercentile = 1e-5\n",
    "differencethreshold = 32\n",
    "distanceThreshold = 10\n",
    "minMeanPixelValueOnLine = 10"
   ]
  },
  {
   "cell_type": "code",
   "execution_count": 4,
   "metadata": {},
   "outputs": [],
   "source": [
    "# Load data\n",
    "with open('../../Application/bin/data/Patch.json') as file:\n",
    "\tpatch = json.load(file)\n"
   ]
  },
  {
   "cell_type": "code",
   "execution_count": 5,
   "metadata": {},
   "outputs": [],
   "source": [
    "# Get functions from next door\n",
    "def find_node_by_name(node_name):\n",
    "\tfor node_id in patch['Nodes']:\n",
    "\t\tif patch['Nodes'][node_id]['Name'] == node_name:\n",
    "\t\t\treturn patch['Nodes'][node_id]\n",
    "\traise(Exception(\"Node not found\"))\n",
    "\n",
    "def get_laser_capture(camera_capture, laserAddress):\n",
    "\tfor laser_capture in camera_capture['laserCaptures']['captures']:\n",
    "\t\tif int(laser_capture['laserAddress']) == laserAddress:\n",
    "\t\t\treturn laser_capture\n",
    "\n",
    "calibrate_node_content = find_node_by_name('Calibrate')['Content']\n",
    "camera_captures = calibrate_node_content['cameraCaptures']['captures']"
   ]
  },
  {
   "cell_type": "code",
   "execution_count": 6,
   "metadata": {},
   "outputs": [],
   "source": [
    "def find_camera_capture(time, only_selected = False):\n",
    "\tfor camera_capture in camera_captures:\n",
    "\t\tif only_selected and not camera_capture['Selected']:\n",
    "\t\t\tcontinue\n",
    "\t\tif camera_capture['time'] == time:\n",
    "\t\t\treturn camera_capture\n",
    "\traise(Exception(\"Couldn't find camera capture {0}\".format(time)))\n",
    "\n",
    "def find_laser_capture(camera_capture, laser_address, only_selected = False):\n",
    "\tlaser_captures = camera_capture['laserCaptures']['captures']\n",
    "\tfor laser_capture in laser_captures:\n",
    "\t\tif only_selected and not laser_capture['Selected']:\n",
    "\t\t\tcontinue\n",
    "\t\tif laser_capture['laserAddress'] == laser_address:\n",
    "\t\t\treturn laser_capture\n",
    "\traise(Exception(\"Couldn't find laser_capture {0}\".format(laser_address)))"
   ]
  },
  {
   "cell_type": "code",
   "execution_count": 7,
   "metadata": {},
   "outputs": [],
   "source": [
    "time = '06:25'\n",
    "laser_address = 35\n",
    "laser_capture = find_laser_capture(find_camera_capture(time), laser_address)"
   ]
  },
  {
   "cell_type": "code",
   "execution_count": 8,
   "metadata": {},
   "outputs": [],
   "source": [
    "def get_beam_capture_images(laser_capture, only_selected = False):\n",
    "\ton_images = []\n",
    "\toff_images = []\n",
    "\tindex = 0\n",
    "\tfor beam_capture in laser_capture['beamCaptures']['captures']:\n",
    "\t\tif only_selected and not beam_capture['Selected']:\n",
    "\t\t\tcontinue\n",
    "\t\tprint(\"Loading {0}\".format(index))\n",
    "\t\ton_image = cv2.imread(beam_capture['onImage']['localCopy'], cv2.IMREAD_GRAYSCALE)\n",
    "\t\toff_image = cv2.imread(beam_capture['offImage']['localCopy'], cv2.IMREAD_GRAYSCALE)\n",
    "\t\ton_images.append(on_image)\n",
    "\t\toff_images.append(off_image)\n",
    "\t\tindex = index + 1\n",
    "\treturn on_images, off_images"
   ]
  },
  {
   "cell_type": "code",
   "execution_count": 9,
   "metadata": {},
   "outputs": [
    {
     "name": "stdout",
     "output_type": "stream",
     "text": [
      "Loading 0\n",
      "Loading 1\n",
      "Loading 2\n",
      "Loading 3\n",
      "Loading 4\n",
      "Loading 5\n",
      "Loading 6\n",
      "Loading 7\n",
      "Loading 8\n"
     ]
    }
   ],
   "source": [
    "on_images, off_images = get_beam_capture_images(laser_capture)"
   ]
  },
  {
   "cell_type": "code",
   "execution_count": 10,
   "metadata": {},
   "outputs": [],
   "source": [
    "difference = cv2.subtract(on_images[0], off_images[0])\n"
   ]
  },
  {
   "cell_type": "code",
   "execution_count": 43,
   "metadata": {},
   "outputs": [],
   "source": [
    "fig = px.imshow(difference, title=\"{0} #{1}\".format(time, laser_address))\n",
    "fig.show()"
   ]
  },
  {
   "cell_type": "code",
   "execution_count": null,
   "metadata": {},
   "outputs": [],
   "source": [
    "plt.imshow(difference)\n",
    "plt.show()"
   ]
  },
  {
   "cell_type": "code",
   "execution_count": 13,
   "metadata": {},
   "outputs": [],
   "source": [
    "def get_difference_method_2(on_image, off_image):\n",
    "\tkernel = np.ones((5, 5), np.uint8)\n",
    "\tbackground = cv2.dilate(off_image, kernel, iterations=2)\n",
    "\tdifference = cv2.subtract(on_image, background)\n",
    "\treturn difference"
   ]
  },
  {
   "cell_type": "code",
   "execution_count": null,
   "metadata": {},
   "outputs": [],
   "source": [
    "difference_2 = get_difference_method_2(on_images[0], off_images[0])"
   ]
  },
  {
   "cell_type": "code",
   "execution_count": 14,
   "metadata": {},
   "outputs": [],
   "source": [
    "fig = px.imshow(difference_2, title=\"{0} #{1} (method 2)\".format(time, laser_address))\n",
    "fig.show()"
   ]
  },
  {
   "cell_type": "code",
   "execution_count": null,
   "metadata": {},
   "outputs": [],
   "source": []
  }
 ],
 "metadata": {
  "interpreter": {
   "hash": "82b0de68545f78ab7a5fb705903fe28068dd8fc77393edae6a55556bceb4048e"
  },
  "kernelspec": {
   "display_name": "Python 3.7.7 ('base')",
   "language": "python",
   "name": "python3"
  },
  "language_info": {
   "codemirror_mode": {
    "name": "ipython",
    "version": 3
   },
   "file_extension": ".py",
   "mimetype": "text/x-python",
   "name": "python",
   "nbconvert_exporter": "python",
   "pygments_lexer": "ipython3",
   "version": "3.9.7"
  },
  "orig_nbformat": 4
 },
 "nbformat": 4,
 "nbformat_minor": 2
}
